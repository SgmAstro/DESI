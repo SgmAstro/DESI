{
 "cells": [
  {
   "cell_type": "code",
   "execution_count": 94,
   "id": "0c322723-6282-4780-9030-8c66134c1665",
   "metadata": {},
   "outputs": [
    {
     "name": "stdout",
     "output_type": "stream",
     "text": [
      "1940 60\n"
     ]
    }
   ],
   "source": [
    "import os\n",
    "import fitsio\n",
    "import numpy as np\n",
    "import astropy.io.fits as fits\n",
    "import matplotlib.pyplot as plt\n",
    "from   scipy.spatial import KDTree\n",
    "from   astropy.table import Table\n",
    "from   multiprocessing import Pool\n",
    "\n",
    "nproc = 1 #8\n",
    "#fpath = os.environ['CSCRATCH'] + '/desi/BGS/Sam/randoms.fits'\n",
    "fpath = '/global/cscratch1/sd/mjwilson/desi/BGS/Sam/randoms.fits'\n",
    "\n",
    "rand  = fits.open(fpath)\n",
    "hdr   = rand[1].header\n",
    "\n",
    "rand  = fitsio.read(fpath)\n",
    "rand  = rand[:2000*nproc]\n",
    "\n",
    "# initalise KD_tree for IS_BOUNDARY == 0\n",
    "rand_centre = rand[rand['IS_BOUNDARY'] == 0]\n",
    "rand_boundary = rand[rand['IS_BOUNDARY'] == 1]\n",
    "print(len(rand_centre), len(rand_boundary))\n",
    "\n",
    "points   = np.c_[rand_centre['CARTESIAN_X'], rand_centre['CARTESIAN_Y'], rand_centre['CARTESIAN_Z']] \n",
    "boundary = np.c_[rand_boundary['CARTESIAN_X'], rand_boundary['CARTESIAN_Y'], rand_boundary['CARTESIAN_Z']]\n",
    "\n",
    "kd_tree  = KDTree(boundary)\n",
    "\n",
    "\n",
    "points = [x for x in points]\n",
    "\n",
    "# match that to points where IS_BOUNDARY == 1 to get distance from boundary\n",
    "dd, ii = kd_tree.query(points, k=1)"
   ]
  },
  {
   "cell_type": "code",
   "execution_count": 95,
   "id": "fb170f04-b7af-4650-a462-9e32d3a35dff",
   "metadata": {},
   "outputs": [
    {
     "data": {
      "text/plain": [
       "(1940, 1940, 60, 1940)"
      ]
     },
     "execution_count": 95,
     "metadata": {},
     "output_type": "execute_result"
    }
   ],
   "source": [
    "len(ii), len(points), len(boundary), len(dd)"
   ]
  },
  {
   "cell_type": "code",
   "execution_count": 96,
   "id": "246c3b7b-5108-414d-aa90-25a10acbe77b",
   "metadata": {},
   "outputs": [
    {
     "data": {
      "text/plain": [
       "58"
      ]
     },
     "execution_count": 96,
     "metadata": {},
     "output_type": "execute_result"
    }
   ],
   "source": [
    "ii.max()"
   ]
  },
  {
   "cell_type": "code",
   "execution_count": 97,
   "id": "3932f006-3445-4615-bcc1-9be5b8721b22",
   "metadata": {},
   "outputs": [
    {
     "data": {
      "text/plain": [
       "<matplotlib.collections.PathCollection at 0x2aaad8de9070>"
      ]
     },
     "execution_count": 97,
     "metadata": {},
     "output_type": "execute_result"
    },
    {
     "data": {
      "image/png": "[encoded data removed]",
      "text/plain": [
       "<Figure size 432x288 with 1 Axes>"
      ]
     },
     "metadata": {
      "needs_background": "light"
     },
     "output_type": "display_data"
    }
   ],
   "source": [
    "plt.scatter(rand_centre['CARTESIAN_X'], rand_centre['CARTESIAN_Y'], s=0.25)\n",
    "plt.scatter(rand_boundary['CARTESIAN_X'], rand_boundary['CARTESIAN_Y'], s=5)"
   ]
  },
  {
   "cell_type": "code",
   "execution_count": 88,
   "id": "1521f55f-c2ce-44d7-b742-8c54ff158e7d",
   "metadata": {},
   "outputs": [
    {
     "data": {
      "image/png": "[encoded data removed]",
      "text/plain": [
       "<Figure size 432x288 with 1 Axes>"
      ]
     },
     "metadata": {
      "needs_background": "light"
     },
     "output_type": "display_data"
    }
   ],
   "source": [
    "plt.hist(dd)\n",
    "plt.show()"
   ]
  },
  {
   "cell_type": "code",
   "execution_count": 75,
   "id": "265e7764-b510-4841-9935-87311f6e9594",
   "metadata": {},
   "outputs": [
    {
     "name": "stdout",
     "output_type": "stream",
     "text": [
      "[2.         2.11187121]\n",
      "[ 0 13]\n"
     ]
    }
   ],
   "source": [
    "import numpy as np\n",
    "from scipy.spatial import KDTree\n",
    "x, y, z = np.mgrid[0:5, 2:8, 0:1]\n",
    "tree = KDTree(np.c_[x.ravel(), y.ravel(), z.ravel()])\n",
    "\n",
    "#dd, ii = tree.query([[0, 0], [2.2, 2.9]], k=1)\n",
    "\n",
    "dd, ii = tree.query([[0, 0, 0], [2.2, 2.9, 2.1]], k=1)\n",
    "\n",
    "print(dd, ii, sep='\\n')"
   ]
  },
  {
   "cell_type": "code",
   "execution_count": null,
   "id": "7c9654ef-a56a-44d8-b949-378d95a01d8e",
   "metadata": {},
   "outputs": [],
   "source": []
  },
  {
   "cell_type": "code",
   "execution_count": null,
   "id": "4e79ba72-c61c-4cdc-aa03-efbc6f156274",
   "metadata": {},
   "outputs": [],
   "source": []
  },
  {
   "cell_type": "code",
   "execution_count": null,
   "id": "3f784f6f-a437-4d62-9766-cde9f694615e",
   "metadata": {},
   "outputs": [],
   "source": []
  },
  {
   "cell_type": "code",
   "execution_count": 57,
   "id": "e576d7d2-cd28-4939-8625-a6392562b4b6",
   "metadata": {},
   "outputs": [
    {
     "name": "stdout",
     "output_type": "stream",
     "text": [
      "[2.        1.3190906 2.       ]\n",
      "[ 0 27  0]\n"
     ]
    }
   ],
   "source": [
    "import numpy as np\n",
    "from scipy.spatial import KDTree\n",
    "\n",
    "x, y, z = np.mgrid[0:5, 2:8, 0:2]\n",
    "tree = KDTree(np.c_[x.ravel(), y.ravel(), z.ravel()])\n",
    "\n",
    "dd, ii = tree.query([[0, 0, 0], [2.2,2.9, 2.3], [0,0,0]], k=1)\n",
    "\n",
    "print(dd, ii, sep='\\n')"
   ]
  },
  {
   "cell_type": "code",
   "execution_count": 53,
   "id": "371990ec-d359-4ba3-8fc2-94a1710970c1",
   "metadata": {},
   "outputs": [
    {
     "data": {
      "text/plain": [
       "array([[0, 2],\n",
       "       [0, 3],\n",
       "       [0, 4],\n",
       "       [0, 5],\n",
       "       [0, 6],\n",
       "       [0, 7],\n",
       "       [1, 2],\n",
       "       [1, 3],\n",
       "       [1, 4],\n",
       "       [1, 5],\n",
       "       [1, 6],\n",
       "       [1, 7],\n",
       "       [2, 2],\n",
       "       [2, 3],\n",
       "       [2, 4],\n",
       "       [2, 5],\n",
       "       [2, 6],\n",
       "       [2, 7],\n",
       "       [3, 2],\n",
       "       [3, 3],\n",
       "       [3, 4],\n",
       "       [3, 5],\n",
       "       [3, 6],\n",
       "       [3, 7],\n",
       "       [4, 2],\n",
       "       [4, 3],\n",
       "       [4, 4],\n",
       "       [4, 5],\n",
       "       [4, 6],\n",
       "       [4, 7]])"
      ]
     },
     "execution_count": 53,
     "metadata": {},
     "output_type": "execute_result"
    }
   ],
   "source": [
    "np.c_[x.ravel(), y.ravel()]"
   ]
  },
  {
   "cell_type": "code",
   "execution_count": 52,
   "id": "bc44af66-3ea3-4c8e-a879-aee203347292",
   "metadata": {},
   "outputs": [
    {
     "data": {
      "text/plain": [
       "array([[ 1.53163684e+03,  3.41253638e+01,  8.91685722e-01],\n",
       "       [ 1.01197159e+03,  4.52383603e+01, -4.08567571e-01],\n",
       "       [ 1.44810872e+03, -1.26514444e+02, -9.12421708e-01],\n",
       "       ...,\n",
       "       [ 1.37510442e+03, -9.93746067e+01,  6.55391046e-01],\n",
       "       [ 1.12499561e+03, -7.80916070e+01, -5.41348308e-01],\n",
       "       [ 1.41635708e+03,  5.43445401e+01, -3.25880963e-01]])"
      ]
     },
     "execution_count": 52,
     "metadata": {},
     "output_type": "execute_result"
    }
   ],
   "source": [
    "points"
   ]
  },
  {
   "cell_type": "code",
   "execution_count": 50,
   "id": "4d4f7a4d-3975-4411-810f-1dee969f7225",
   "metadata": {},
   "outputs": [
    {
     "data": {
      "text/plain": [
       "<matplotlib.collections.PathCollection at 0x2aaad8ff5f40>"
      ]
     },
     "execution_count": 50,
     "metadata": {},
     "output_type": "execute_result"
    },
    {
     "data": {
      "image/png": "[encoded data removed]",
      "text/plain": [
       "<Figure size 432x288 with 1 Axes>"
      ]
     },
     "metadata": {
      "needs_background": "light"
     },
     "output_type": "display_data"
    }
   ],
   "source": [
    "plt.scatter(x, y, s=0.25)\n",
    "plt.scatter([0, 0], [2.2, 2.9])"
   ]
  },
  {
   "cell_type": "code",
   "execution_count": null,
   "id": "07786ffa-754e-4336-a3c0-fb432232076c",
   "metadata": {},
   "outputs": [],
   "source": []
  }
 ],
 "metadata": {
  "kernelspec": {
   "display_name": "DESI master",
   "language": "python",
   "name": "desi-master"
  },
  "language_info": {
   "codemirror_mode": {
    "name": "ipython",
    "version": 3
   },
   "file_extension": ".py",
   "mimetype": "text/x-python",
   "name": "python",
   "nbconvert_exporter": "python",
   "pygments_lexer": "ipython3",
   "version": "3.8.3"
  }
 },
 "nbformat": 4,
 "nbformat_minor": 5
}
