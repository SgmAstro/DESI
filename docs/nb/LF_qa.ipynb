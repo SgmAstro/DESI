{
 "cells": [
  {
   "cell_type": "code",
   "execution_count": 30,
   "id": "a00729a2-c06b-46bb-8092-2ea47bc207ec",
   "metadata": {},
   "outputs": [],
   "source": [
    "import os\n",
    "import fitsio\n",
    "import numpy as np\n",
    "import matplotlib.pyplot as plt\n",
    "from astropy.table import Table\n",
    "from schechter import schechter, named_schechter"
   ]
  },
  {
   "cell_type": "code",
   "execution_count": 31,
   "id": "c561f342-df1e-4211-866c-cd941ff3f85b",
   "metadata": {},
   "outputs": [],
   "source": [
    "fpath = os.environ['CSCRATCH'] + '/norberg/GAMA4/gama_gold_ddp_n8.fits'\n",
    "\n",
    "dat = fitsio.read(fpath)\n",
    "dat = Table(dat)"
   ]
  },
  {
   "cell_type": "code",
   "execution_count": 46,
   "id": "044784f8-bb40-4b57-8714-753caff6cd00",
   "metadata": {},
   "outputs": [
    {
     "name": "stderr",
     "output_type": "stream",
     "text": [
      "<ipython-input-46-112116fd97b9>:11: RuntimeWarning: divide by zero encountered in true_divide\n",
      "  dat['DELTA8_DDP1'] = ((dat['RHO_DDP1'] - rho_bar_DDP1) / dat['RHO_DDP1'])\n",
      "<ipython-input-46-112116fd97b9>:12: RuntimeWarning: divide by zero encountered in true_divide\n",
      "  dat['DELTA8_DDP2'] = ((dat['RHO_DDP2'] - rho_bar_DDP2) / dat['RHO_DDP2'])\n",
      "<ipython-input-46-112116fd97b9>:13: RuntimeWarning: divide by zero encountered in true_divide\n",
      "  dat['DELTA8_DDP3'] = ((dat['RHO_DDP3'] - rho_bar_DDP3) / dat['RHO_DDP3'])\n"
     ]
    }
   ],
   "source": [
    "dat['PHI'] = named_schechter(dat['MCOLOR_0P0'], named_type='TMR', zz=None, evolve=False)\n",
    "# (rho - rho_bar) / rho\n",
    "dat['RHO_DDP1'] = dat['DDP1_N8'] / ( (4./3) * np.pi * 8.**3 )\n",
    "dat['RHO_DDP2'] = dat['DDP2_N8'] / ( (4./3) * np.pi * 8.**3 )\n",
    "dat['RHO_DDP3'] = dat['DDP3_N8'] / ( (4./3) * np.pi * 8.**3 )\n",
    "\n",
    "rho_bar_DDP1 = 0.005383528919866882 #len(DDP1) / area_DDP1\n",
    "rho_bar_DDP2 = 0.009928035902084674 #len(DDP2) / area_DDP2\n",
    "rho_bar_DDP3 = 0.018396185892331243 #len(DDP3) / area_DDP3\n",
    "\n",
    "dat['DELTA8_DDP1'] = ((dat['RHO_DDP1'] - rho_bar_DDP1) / dat['RHO_DDP1'])\n",
    "dat['DELTA8_DDP2'] = ((dat['RHO_DDP2'] - rho_bar_DDP2) / dat['RHO_DDP2'])\n",
    "dat['DELTA8_DDP3'] = ((dat['RHO_DDP3'] - rho_bar_DDP3) / dat['RHO_DDP3'])"
   ]
  },
  {
   "cell_type": "code",
   "execution_count": 55,
   "id": "8de85d78-69fa-40fc-829e-4eba72bd2d5f",
   "metadata": {},
   "outputs": [
    {
     "data": {
      "text/html": [
       "&lt;Column name=&apos;RHO_DDP1&apos; dtype=&apos;float64&apos; length=5000&gt;\n",
       "<table>\n",
       "<tr><td>-0.004450980425187807</td></tr>\n",
       "<tr><td>-0.004917254672527345</td></tr>\n",
       "<tr><td>-0.004917254672527345</td></tr>\n",
       "<tr><td>-0.004917254672527345</td></tr>\n",
       "<tr><td>-0.004450980425187807</td></tr>\n",
       "<tr><td>-0.004450980425187807</td></tr>\n",
       "<tr><td>-0.0035184319305087332</td></tr>\n",
       "<tr><td>-0.004917254672527345</td></tr>\n",
       "<tr><td>-0.004917254672527345</td></tr>\n",
       "<tr><td>-0.005383528919866882</td></tr>\n",
       "<tr><td>-0.0035184319305087332</td></tr>\n",
       "<tr><td>-0.004450980425187807</td></tr>\n",
       "<tr><td>...</td></tr>\n",
       "<tr><td>-0.004450980425187807</td></tr>\n",
       "<tr><td>-0.004917254672527345</td></tr>\n",
       "<tr><td>-0.005383528919866882</td></tr>\n",
       "<tr><td>-0.004450980425187807</td></tr>\n",
       "<tr><td>-0.004917254672527345</td></tr>\n",
       "<tr><td>-0.004450980425187807</td></tr>\n",
       "<tr><td>-0.005383528919866882</td></tr>\n",
       "<tr><td>-0.004450980425187807</td></tr>\n",
       "<tr><td>-0.004450980425187807</td></tr>\n",
       "<tr><td>-0.005383528919866882</td></tr>\n",
       "<tr><td>-0.003052157683169196</td></tr>\n",
       "<tr><td>-0.005383528919866882</td></tr>\n",
       "</table>"
      ],
      "text/plain": [
       "<Column name='RHO_DDP1' dtype='float64' length=5000>\n",
       " -0.004450980425187807\n",
       " -0.004917254672527345\n",
       " -0.004917254672527345\n",
       " -0.004917254672527345\n",
       " -0.004450980425187807\n",
       " -0.004450980425187807\n",
       "-0.0035184319305087332\n",
       " -0.004917254672527345\n",
       " -0.004917254672527345\n",
       " -0.005383528919866882\n",
       "-0.0035184319305087332\n",
       " -0.004450980425187807\n",
       "                   ...\n",
       " -0.004450980425187807\n",
       " -0.004917254672527345\n",
       " -0.005383528919866882\n",
       " -0.004450980425187807\n",
       " -0.004917254672527345\n",
       " -0.004450980425187807\n",
       " -0.005383528919866882\n",
       " -0.004450980425187807\n",
       " -0.004450980425187807\n",
       " -0.005383528919866882\n",
       " -0.003052157683169196\n",
       " -0.005383528919866882"
      ]
     },
     "execution_count": 55,
     "metadata": {},
     "output_type": "execute_result"
    }
   ],
   "source": [
    "(dat['RHO_DDP1'] - rho_bar_DDP1)"
   ]
  },
  {
   "cell_type": "code",
   "execution_count": null,
   "id": "2d4cd992-197c-4585-a605-11d8a2d99c8d",
   "metadata": {},
   "outputs": [],
   "source": []
  },
  {
   "cell_type": "code",
   "execution_count": null,
   "id": "bfd6387f-8435-4e84-a626-1b8d5be135e4",
   "metadata": {},
   "outputs": [],
   "source": []
  },
  {
   "cell_type": "code",
   "execution_count": 47,
   "id": "c676a597-d50b-47cc-8b04-82465f143ec5",
   "metadata": {},
   "outputs": [],
   "source": [
    "DDP1 = dat[dat['DDP'][:,0] == 1]\n",
    "DDP2 = dat[dat['DDP'][:,1] == 1]\n",
    "DDP3 = dat[dat['DDP'][:,2] == 1]"
   ]
  },
  {
   "cell_type": "code",
   "execution_count": 51,
   "id": "9a547c2d-4ad8-41cc-bf42-fe510d099515",
   "metadata": {},
   "outputs": [
    {
     "data": {
      "text/plain": [
       "(array([684.,   0.,   0.,   0.,   0., 440.,   0., 244., 165.,  44.]),\n",
       " array([-10.54584228,  -9.50671648,  -8.46759067,  -7.42846487,\n",
       "         -6.38933906,  -5.35021326,  -4.31108745,  -3.27196164,\n",
       "         -2.23283584,  -1.19371003,  -0.15458423]),\n",
       " <a list of 10 Patch objects>)"
      ]
     },
     "execution_count": 51,
     "metadata": {},
     "output_type": "execute_result"
    },
    {
     "data": {
      "image/png": "[encoded data removed]",
      "text/plain": [
       "<Figure size 432x288 with 1 Axes>"
      ]
     },
     "metadata": {
      "needs_background": "light"
     },
     "output_type": "display_data"
    }
   ],
   "source": [
    "plt.hist(DDP1['DELTA8_DDP1'])"
   ]
  },
  {
   "cell_type": "code",
   "execution_count": 50,
   "id": "6b411760-3bbc-4176-83da-0ab4b3e70d90",
   "metadata": {},
   "outputs": [
    {
     "data": {
      "image/png": "[encoded data removed]",
      "text/plain": [
       "<Figure size 576x576 with 4 Axes>"
      ]
     },
     "metadata": {
      "needs_background": "light"
     },
     "output_type": "display_data"
    }
   ],
   "source": [
    "fig, ax = plt.subplots(2, 2, figsize=(8,8), sharex=True, sharey=True)\n",
    "ax[0,0].scatter(DDP1[DDP1['DELTA8_DDP1'] < -0.75]['MCOLOR_0P0'], np.log10(DDP1[DDP1['DELTA8_DDP1'] < -0.75]['PHI']), s=0.25)\n",
    "ax[0,0].scatter(DDP1[(DDP1['DELTA8_DDP1'] < -0) & (DDP1['DELTA8_DDP1'] > -0.4)]['MCOLOR_0P0'], np.log10(DDP1[(DDP1['DELTA8_DDP1'] < -0) & (DDP1['DELTA8_DDP1'] > -0.4)]['PHI']), s=0.25)\n",
    "\n",
    "\n",
    "\n",
    "ax[0,1].scatter(DDP2['MCOLOR_0P0'], np.log10(DDP2['PHI']), s=0.25)\n",
    "\n",
    "ax[1,0].set_xlabel(r'$M_r$ - 5 log(h)')\n",
    "ax[1,1].set_xlabel(r'$M_r$ - 5 log(h)')\n",
    "ax[0,0].set_ylabel(r'log $\\phi(L)$ [h$^3$ Mpc$^{-3}$ Mag$^{-1}$]')\n",
    "\n",
    "plt.gca().invert_xaxis()"
   ]
  },
  {
   "cell_type": "code",
   "execution_count": null,
   "id": "619632d8-4200-4518-a0dc-e8ca5dd7739c",
   "metadata": {},
   "outputs": [],
   "source": []
  },
  {
   "cell_type": "code",
   "execution_count": null,
   "id": "6ba4b981-eadb-4bbe-ba57-a586dd6a8ac8",
   "metadata": {},
   "outputs": [],
   "source": []
  },
  {
   "cell_type": "code",
   "execution_count": null,
   "id": "b1ad5d22-4dcd-4276-9f8b-43739332bd6d",
   "metadata": {},
   "outputs": [],
   "source": []
  },
  {
   "cell_type": "code",
   "execution_count": null,
   "id": "b6e69494-c779-46b9-bcdc-ccdb03d036d7",
   "metadata": {},
   "outputs": [],
   "source": []
  },
  {
   "cell_type": "code",
   "execution_count": null,
   "id": "be32f891-91e9-4751-8adf-d9f978c6ee5b",
   "metadata": {},
   "outputs": [],
   "source": []
  },
  {
   "cell_type": "code",
   "execution_count": null,
   "id": "e8279144-f91e-4683-911f-48ccada9f97d",
   "metadata": {},
   "outputs": [],
   "source": []
  },
  {
   "cell_type": "code",
   "execution_count": null,
   "id": "e4b29209-9db6-4cdd-bd53-dfee63989f67",
   "metadata": {},
   "outputs": [],
   "source": []
  },
  {
   "cell_type": "code",
   "execution_count": 10,
   "id": "2b6f5526-1988-4318-8ec4-4b9b449953d8",
   "metadata": {},
   "outputs": [],
   "source": [
    "zlims = {'DDP1_ZMIN': 0.039069999009370804,\\\n",
    "         'DDP1_ZMAX': 0.2483299970626831,\\\n",
    "         'DDP1_VZ': 6451530.309761727,\\\n",
    "         'DDP1_DENS': 0.005383528919866882,\\\n",
    "         'DDP2_ZMIN': 0.03914999961853027,\\\n",
    "         'DDP2_ZMAX': 0.18308000266551971,\\\n",
    "         'DDP2_VZ': 2679079.7557868413,\\\n",
    "         'DDP2_DENS': 0.009928035902084674,\\\n",
    "         'DDP3_ZMIN': 0.03903000056743622,\\\n",
    "         'DDP3_ZMAX': 0.09973999857902527,\\\n",
    "         'DDP3_VZ': 432372.2344703941,\\\n",
    "         'DDP3_DENS': 0.018396185892331243}"
   ]
  },
  {
   "cell_type": "code",
   "execution_count": null,
   "id": "85f5a6a9-e9d6-480d-9e11-df19c643b860",
   "metadata": {},
   "outputs": [],
   "source": []
  }
 ],
 "metadata": {
  "kernelspec": {
   "display_name": "DESI master",
   "language": "python",
   "name": "desi-master"
  },
  "language_info": {
   "codemirror_mode": {
    "name": "ipython",
    "version": 3
   },
   "file_extension": ".py",
   "mimetype": "text/x-python",
   "name": "python",
   "nbconvert_exporter": "python",
   "pygments_lexer": "ipython3",
   "version": "3.8.3"
  }
 },
 "nbformat": 4,
 "nbformat_minor": 5
}
