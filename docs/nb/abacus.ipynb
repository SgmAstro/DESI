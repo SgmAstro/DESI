{
 "cells": [
  {
   "cell_type": "code",
   "execution_count": 1,
   "id": "0af7cfc5-a70a-4d09-8118-af6105caaf4c",
   "metadata": {},
   "outputs": [],
   "source": [
    "%load_ext autoreload\n",
    "%autoreload 2"
   ]
  },
  {
   "cell_type": "code",
   "execution_count": 2,
   "id": "89ccf6c8-0617-4e5c-8192-58cd453fafd7",
   "metadata": {},
   "outputs": [],
   "source": [
    "import h5py\n",
    "import sys\n",
    "import numpy             as np\n",
    "import pylab             as pl\n",
    "import astropy.io.fits   as fits\n",
    "import matplotlib.pyplot as plt\n",
    "\n",
    "from   astropy.table     import Table"
   ]
  },
  {
   "cell_type": "code",
   "execution_count": 3,
   "id": "13beb54a-8379-4ab7-b5fd-c8035702c1a5",
   "metadata": {},
   "outputs": [],
   "source": [
    "sys.path.append('/global/homes/m/mjwilson/desi/BGS/Sam/')\n",
    "sys.path.append('/global/homes/m/mjwilson/desi/BGS/Sam/DESI/')"
   ]
  },
  {
   "cell_type": "code",
   "execution_count": 4,
   "id": "d4d6368e-42e1-4b6c-a1a0-1743b312c0d9",
   "metadata": {},
   "outputs": [],
   "source": [
    "from   cosmo         import distmod, cosmo\n",
    "from   gama_limits   import gama_field\n",
    "from   cartesian     import cartesian, rotate\n",
    "from   findfile      import findfile, write_desitable"
   ]
  },
  {
   "cell_type": "code",
   "execution_count": 5,
   "id": "ea36f0d0-e918-4eb4-84be-13fb13ecfb3e",
   "metadata": {},
   "outputs": [],
   "source": [
    "path       = \"/project/projectdirs/desi/cosmosim/FirstGenMocks/AbacusSummit/CutSky/BGS/z0.200/\"\n",
    "\n",
    "f          = h5py.File(path+\"cutsky_BGS_z0.200_AbacusSummit_base_c000_ph000.hdf5\", \"r\")\n",
    "\n",
    "stat       = f[\"Data/STATUS\"]           #  integer indicating the status of the galaxy. If the second bit is 1, the galaxy is in the full DESI footprint. If the third bit is 1, the galaxy is in the SV3 footprint.\n",
    "Ms         = f[\"Data/abs_mag\"]\n",
    "rs         = f[\"Data/app_mag\"]\n",
    "ra         = f[\"Data/ra\"]\n",
    "dec        = f[\"Data/dec\"]\n",
    "rest_color = f[\"Data/g_r\"]\n",
    "color      = f[\"Data/g_r_obs\"]\n",
    "hmass      = f[\"Data/halo_mass\"]\n",
    "gtype      = f[\"Data/galaxy_type\"][...] # galaxy type, indicating cen/sat and if resolved\n",
    "zcos       = f[\"Data/z_cos\"][...] \n",
    "zobs       = f[\"Data/z_obs\"][...]       # observed redshift (which takes into account velocity)"
   ]
  },
  {
   "cell_type": "code",
   "execution_count": 6,
   "id": "51950a61-4758-4b2d-8ad2-62ee53de3a33",
   "metadata": {},
   "outputs": [],
   "source": [
    "in_gama    = gama_field(ra[:], dec[:]) != 'NAN'\n",
    "in_sv3     = stat[:] & 2**2 != 0        # in SV3 footprint"
   ]
  },
  {
   "cell_type": "code",
   "execution_count": 7,
   "id": "17a569af-e50a-472d-92fb-7346f5562966",
   "metadata": {},
   "outputs": [
    {
     "data": {
      "text/plain": [
       "[<matplotlib.lines.Line2D at 0x155467bb8160>]"
      ]
     },
     "execution_count": 7,
     "metadata": {},
     "output_type": "execute_result"
    },
    {
     "data": {
      "image/png": "[encoded data removed]",
      "text/plain": [
       "<Figure size 432x288 with 1 Axes>"
      ]
     },
     "metadata": {
      "needs_background": "light"
     },
     "output_type": "display_data"
    }
   ],
   "source": [
    "pl.plot(ra[in_gama], dec[in_gama], marker=',', lw=0.)\n",
    "pl.plot(ra[in_sv3],  dec[in_sv3],  marker=',', lw=0.)"
   ]
  },
  {
   "cell_type": "code",
   "execution_count": 8,
   "id": "e966a439-9bbd-4c9c-ae92-234354e12d47",
   "metadata": {},
   "outputs": [
    {
     "data": {
      "text/html": [
       "<div><i>Table length=331156</i>\n",
       "<table id=\"table23452261587456\" class=\"table-striped table-bordered table-condensed\">\n",
       "<thead><tr><th>RA</th><th>DEC</th><th>ZSURV</th><th>GMR</th><th>DETMAG</th></tr></thead>\n",
       "<thead><tr><th>float64</th><th>float64</th><th>float64</th><th>float64</th><th>float64</th></tr></thead>\n",
       "<tr><td>221.5885153152424</td><td>0.8891047057315121</td><td>0.5090892329901424</td><td>1.0229034342276404</td><td>20.024842282773086</td></tr>\n",
       "<tr><td>220.8388953469847</td><td>-0.4251537922799557</td><td>0.5070480777796309</td><td>1.7105688681513556</td><td>19.628412712111086</td></tr>\n",
       "<tr><td>220.94292732616822</td><td>-0.4270795124586044</td><td>0.49939175793283663</td><td>1.7845642480200117</td><td>19.901759754751843</td></tr>\n",
       "<tr><td>220.7779893960335</td><td>-0.407688561440169</td><td>0.5018416604587173</td><td>1.4162324622458227</td><td>19.482987811542994</td></tr>\n",
       "<tr><td>220.80226411916357</td><td>-0.4094482845217407</td><td>0.5057908251547902</td><td>1.2950170504420262</td><td>20.188566388984835</td></tr>\n",
       "<tr><td>220.70390645849213</td><td>-0.6597925197195444</td><td>0.5014725673267042</td><td>1.6087622340475303</td><td>20.1247197763516</td></tr>\n",
       "<tr><td>220.22826508916</td><td>1.0077602929401275</td><td>0.49551292879741426</td><td>0.7722403108060668</td><td>20.153584782309252</td></tr>\n",
       "<tr><td>220.18913734445744</td><td>-0.2921131117892873</td><td>0.4983282691011963</td><td>1.7167553284832642</td><td>19.979288042865907</td></tr>\n",
       "<tr><td>219.94042101710016</td><td>-0.7595276462233099</td><td>0.49658973340918866</td><td>1.5065223264925345</td><td>19.715868889241545</td></tr>\n",
       "<tr><td>219.90592912118376</td><td>-0.4063055064447295</td><td>0.49614952909181187</td><td>1.5256994620425082</td><td>20.147958550680368</td></tr>\n",
       "<tr><td>...</td><td>...</td><td>...</td><td>...</td><td>...</td></tr>\n",
       "<tr><td>134.20439382320285</td><td>0.2358426753462403</td><td>0.0121616797034092</td><td>-0.03485868043104695</td><td>20.10428031031344</td></tr>\n",
       "<tr><td>132.39465973467594</td><td>0.7497649441555829</td><td>0.012355202933230114</td><td>0.18807403143037063</td><td>19.728866115049673</td></tr>\n",
       "<tr><td>129.7180328937304</td><td>1.9648915025337275</td><td>0.013070434552440613</td><td>-0.24945497161812016</td><td>19.651116104624208</td></tr>\n",
       "<tr><td>139.62316654643436</td><td>2.8712723874900465</td><td>0.023937756671378763</td><td>0.07557471181765915</td><td>20.141177166175837</td></tr>\n",
       "<tr><td>137.98789507940023</td><td>1.756975973530973</td><td>0.02155805940562283</td><td>0.019828966282650906</td><td>20.137923327492356</td></tr>\n",
       "<tr><td>135.33637565192657</td><td>-1.0495674042959195</td><td>0.022055902955475437</td><td>0.5971108696496827</td><td>18.770140854394825</td></tr>\n",
       "<tr><td>222.68862521965693</td><td>0.24658736885653473</td><td>0.018484059272712905</td><td>0.1853602230535373</td><td>19.138209203694714</td></tr>\n",
       "<tr><td>131.9965189805966</td><td>-1.4654471866368668</td><td>0.02039780195621166</td><td>0.19763307097785993</td><td>18.274625547244007</td></tr>\n",
       "<tr><td>132.29928767965137</td><td>-1.2866447796875569</td><td>0.019766582972885693</td><td>0.2711576074736495</td><td>20.14329769306402</td></tr>\n",
       "<tr><td>221.4654657859774</td><td>-0.45112164073261557</td><td>0.026090009532755865</td><td>0.5279649802204481</td><td>17.928388935064874</td></tr>\n",
       "</table></div>"
      ],
      "text/plain": [
       "<Table length=331156>\n",
       "        RA                 DEC          ...       DETMAG      \n",
       "     float64             float64        ...      float64      \n",
       "------------------ -------------------- ... ------------------\n",
       " 221.5885153152424   0.8891047057315121 ... 20.024842282773086\n",
       " 220.8388953469847  -0.4251537922799557 ... 19.628412712111086\n",
       "220.94292732616822  -0.4270795124586044 ... 19.901759754751843\n",
       " 220.7779893960335   -0.407688561440169 ... 19.482987811542994\n",
       "220.80226411916357  -0.4094482845217407 ... 20.188566388984835\n",
       "220.70390645849213  -0.6597925197195444 ...   20.1247197763516\n",
       "   220.22826508916   1.0077602929401275 ... 20.153584782309252\n",
       "220.18913734445744  -0.2921131117892873 ... 19.979288042865907\n",
       "219.94042101710016  -0.7595276462233099 ... 19.715868889241545\n",
       "219.90592912118376  -0.4063055064447295 ... 20.147958550680368\n",
       "               ...                  ... ...                ...\n",
       "134.20439382320285   0.2358426753462403 ...  20.10428031031344\n",
       "132.39465973467594   0.7497649441555829 ... 19.728866115049673\n",
       " 129.7180328937304   1.9648915025337275 ... 19.651116104624208\n",
       "139.62316654643436   2.8712723874900465 ... 20.141177166175837\n",
       "137.98789507940023    1.756975973530973 ... 20.137923327492356\n",
       "135.33637565192657  -1.0495674042959195 ... 18.770140854394825\n",
       "222.68862521965693  0.24658736885653473 ... 19.138209203694714\n",
       " 131.9965189805966  -1.4654471866368668 ... 18.274625547244007\n",
       "132.29928767965137  -1.2866447796875569 ...  20.14329769306402\n",
       " 221.4654657859774 -0.45112164073261557 ... 17.928388935064874"
      ]
     },
     "execution_count": 8,
     "metadata": {},
     "output_type": "execute_result"
    }
   ],
   "source": [
    "abacus_gold = Table(np.c_[ra[in_gama], dec[in_gama], zobs[in_gama], color[in_gama], rs[in_gama]], names=['RA', 'DEC', 'ZSURV', 'GMR', 'DETMAG'])\n",
    "abacus_gold"
   ]
  },
  {
   "cell_type": "code",
   "execution_count": 9,
   "id": "d658a5f2-bf43-452a-8097-8856532d7183",
   "metadata": {},
   "outputs": [],
   "source": [
    "abacus_gold['LUMDIST']      = cosmo.luminosity_distance(abacus_gold['ZSURV'].data)\n",
    "abacus_gold['DISTMOD']      = distmod(abacus_gold['ZSURV'].data)\n",
    "abacus_gold['FIELD']        = gama_field(abacus_gold['RA'], abacus_gold['DEC'])\n",
    "abacus_gold['IN_D8LUMFN']   = np.zeros_like(abacus_gold['FIELD'], dtype=int)\n",
    "abacus_gold['CONSERVATIVE'] = np.zeros_like(abacus_gold['FIELD'], dtype=int)"
   ]
  },
  {
   "cell_type": "code",
   "execution_count": 10,
   "id": "e7c7fc42-3e5d-4832-8277-d3d06be92f90",
   "metadata": {},
   "outputs": [],
   "source": [
    "xyz                         = cartesian(abacus_gold['RA'], abacus_gold['DEC'], abacus_gold['ZSURV'])"
   ]
  },
  {
   "cell_type": "code",
   "execution_count": 11,
   "id": "9882df43-1c7c-4299-acd0-b1cece01f6a8",
   "metadata": {},
   "outputs": [],
   "source": [
    "abacus_gold['CARTESIAN_X']  = xyz[:,0]\n",
    "abacus_gold['CARTESIAN_Y']  = xyz[:,1]\n",
    "abacus_gold['CARTESIAN_Z']  = xyz[:,2]"
   ]
  },
  {
   "cell_type": "code",
   "execution_count": 12,
   "id": "f0a95eb5-227c-4ffb-9f33-11c9fb607eb3",
   "metadata": {},
   "outputs": [],
   "source": [
    "xyz                         = rotate(abacus_gold['RA'], abacus_gold['DEC'], xyz)"
   ]
  },
  {
   "cell_type": "code",
   "execution_count": 13,
   "id": "7e78a03e-fe1f-4b80-af36-73b26c70e0d8",
   "metadata": {},
   "outputs": [],
   "source": [
    "abacus_gold['ROTCARTESIAN_X'] = xyz[:,0]\n",
    "abacus_gold['ROTCARTESIAN_Y'] = xyz[:,1]\n",
    "abacus_gold['ROTCARTESIAN_Z'] = xyz[:,2]"
   ]
  },
  {
   "cell_type": "code",
   "execution_count": 14,
   "id": "b7b1fa4b-c741-45de-8628-151b2407b84c",
   "metadata": {},
   "outputs": [
    {
     "data": {
      "text/html": [
       "<div><i>Table length=331156</i>\n",
       "<table id=\"table23452261587456\" class=\"table-striped table-bordered table-condensed\">\n",
       "<thead><tr><th>RA</th><th>DEC</th><th>ZSURV</th><th>GMR</th><th>DETMAG</th><th>LUMDIST</th><th>DISTMOD</th><th>FIELD</th><th>IN_D8LUMFN</th><th>CONSERVATIVE</th><th>CARTESIAN_X</th><th>CARTESIAN_Y</th><th>CARTESIAN_Z</th><th>ROTCARTESIAN_X</th><th>ROTCARTESIAN_Y</th><th>ROTCARTESIAN_Z</th></tr></thead>\n",
       "<thead><tr><th></th><th></th><th></th><th></th><th></th><th>Mpc</th><th></th><th></th><th></th><th></th><th></th><th></th><th></th><th></th><th></th><th></th></tr></thead>\n",
       "<thead><tr><th>float64</th><th>float64</th><th>float64</th><th>float64</th><th>float64</th><th>float64</th><th>float64</th><th>str3</th><th>int64</th><th>int64</th><th>float64</th><th>float64</th><th>float64</th><th>float64</th><th>float64</th><th>float64</th></tr></thead>\n",
       "<tr><td>221.5885153152424</td><td>0.8891047057315121</td><td>0.5090892329901424</td><td>1.0229034342276404</td><td>20.024842282773086</td><td>2063.3533641152785</td><td>41.57286805199301</td><td>G15</td><td>0</td><td>0</td><td>-1022.5110811033369</td><td>-907.4613657201679</td><td>21.216392261730327</td><td>1021.7012266085815</td><td>908.4394319792988</td><td>18.15429773025413</td></tr>\n",
       "<tr><td>220.8388953469847</td><td>-0.4251537922799557</td><td>0.5070480777796309</td><td>1.7105688681513556</td><td>19.628412712111086</td><td>2053.2891999806543</td><td>41.562250614145434</td><td>G15</td><td>0</td><td>0</td><td>-1030.7407448849524</td><td>-890.9333243854388</td><td>-10.109797455218517</td><td>1029.852777125875</td><td>891.9192735066924</td><td>-13.196464089950581</td></tr>\n",
       "<tr><td>220.94292732616822</td><td>-0.4270795124586044</td><td>0.49939175793283663</td><td>1.7845642480200117</td><td>19.901759754751843</td><td>2015.6444390073257</td><td>41.5220696235003</td><td>G15</td><td>0</td><td>0</td><td>-1015.4119768436542</td><td>-880.9099247810838</td><td>-10.020303818676183</td><td>1014.5339449244166</td><td>881.8812097804043</td><td>-13.061057243623502</td></tr>\n",
       "<tr><td>220.7779893960335</td><td>-0.407688561440169</td><td>0.5018416604587173</td><td>1.4162324622458227</td><td>19.482987811542994</td><td>2027.6719718440368</td><td>41.5349884901389</td><td>G15</td><td>0</td><td>0</td><td>-1022.3498876709572</td><td>-881.7836115364541</td><td>-9.606734318608583</td><td>1021.4722248754321</td><td>882.7615353001427</td><td>-12.668280938154894</td></tr>\n",
       "<tr><td>220.80226411916357</td><td>-0.4094482845217407</td><td>0.5057908251547902</td><td>1.2950170504420262</td><td>20.188566388984835</td><td>2047.096049668563</td><td>41.55569110110545</td><td>G15</td><td>0</td><td>0</td><td>-1029.0600367079237</td><td>-888.3317613425351</td><td>-9.715078196618744</td><td>1028.1757498224451</td><td>889.3161033180729</td><td>-12.796716759406744</td></tr>\n",
       "<tr><td>220.70390645849213</td><td>-0.6597925197195444</td><td>0.5014725673267042</td><td>1.6087622340475303</td><td>20.1247197763516</td><td>2025.8588505418343</td><td>41.53304591547108</td><td>G15</td><td>0</td><td>0</td><td>-1022.783423939799</td><td>-879.8538632994431</td><td>-15.536991846772187</td><td>1021.8898318637006</td><td>880.8322028148979</td><td>-18.599816731667264</td></tr>\n",
       "<tr><td>220.22826508916</td><td>1.0077602929401275</td><td>0.49551292879741426</td><td>0.7722403108060668</td><td>20.153584782309252</td><td>1996.6369296550938</td><td>41.50149549765658</td><td>G15</td><td>0</td><td>0</td><td>-1019.1497456392286</td><td>-862.1104775579664</td><td>23.481246361605102</td><td>1018.3900937372865</td><td>863.0853479854154</td><td>20.42908595795937</td></tr>\n",
       "<tr><td>220.18913734445744</td><td>-0.2921131117892873</td><td>0.4983282691011963</td><td>1.7167553284832642</td><td>19.979288042865907</td><td>2010.428704727106</td><td>41.516443382239125</td><td>G15</td><td>0</td><td>0</td><td>-1024.9980089272194</td><td>-865.8574228999394</td><td>-6.840821215061037</td><td>1024.143863177716</td><td>866.8378880488672</td><td>-9.91036270716756</td></tr>\n",
       "<tr><td>219.94042101710016</td><td>-0.7595276462233099</td><td>0.49658973340918866</td><td>1.5065223264925345</td><td>19.715868889241545</td><td>2001.9092849897418</td><td>41.50722196931043</td><td>G15</td><td>0</td><td>0</td><td>-1025.5007373223045</td><td>-858.6816916892146</td><td>-17.731679244283736</td><td>1024.6208144309192</td><td>859.6626412045856</td><td>-20.80269914551607</td></tr>\n",
       "<tr><td>...</td><td>...</td><td>...</td><td>...</td><td>...</td><td>...</td><td>...</td><td>...</td><td>...</td><td>...</td><td>...</td><td>...</td><td>...</td><td>...</td><td>...</td><td>...</td></tr>\n",
       "<tr><td>134.20439382320285</td><td>0.2358426753462403</td><td>0.0121616797034092</td><td>-0.03485868043104695</td><td>20.10428031031344</td><td>36.818745410521316</td><td>32.83034492972502</td><td>G9</td><td>0</td><td>0</td><td>-25.362105282760844</td><td>26.076423902094138</td><td>0.1497330354673735</td><td>25.387381989642627</td><td>-26.052141949477225</td><td>0.07364396594242921</td></tr>\n",
       "<tr><td>132.39465973467594</td><td>0.7497649441555829</td><td>0.012355202933230114</td><td>0.18807403143037063</td><td>19.728866115049673</td><td>37.410406380370226</td><td>32.86496212930882</td><td>G9</td><td>0</td><td>0</td><td>-24.91338187374067</td><td>27.288742011932456</td><td>0.48355915519781867</td><td>24.94082143377037</td><td>-27.264888905614747</td><td>0.40880999312472016</td></tr>\n",
       "<tr><td>129.7180328937304</td><td>1.9648915025337275</td><td>0.013070434552440613</td><td>-0.24945497161812016</td><td>19.651116104624208</td><td>39.59865823756037</td><td>32.988402352620504</td><td>G9</td><td>0</td><td>0</td><td>-24.962783758178496</td><td>30.04857038794247</td><td>1.3402062583821375</td><td>24.99543153866415</td><td>-30.024668743350514</td><td>1.265297269317895</td></tr>\n",
       "<tr><td>139.62316654643436</td><td>2.8712723874900465</td><td>0.023937756671378763</td><td>0.07557471181765915</td><td>20.141177166175837</td><td>73.14930471225647</td><td>34.32105101245256</td><td>G9</td><td>0</td><td>0</td><td>-54.35408993376179</td><td>46.22107398915391</td><td>3.5785460959483095</td><td>54.408776900185956</td><td>-46.16903922311506</td><td>3.4154910099986364</td></tr>\n",
       "<tr><td>137.98789507940023</td><td>1.756975973530973</td><td>0.02155805940562283</td><td>0.019828966282650906</td><td>20.137923327492356</td><td>65.75413819495529</td><td>34.0896154503474</td><td>G9</td><td>0</td><td>0</td><td>-47.80206255476053</td><td>43.0594607851717</td><td>1.973491041915273</td><td>47.848945922471145</td><td>-43.013697363824456</td><td>1.8300895314843593</td></tr>\n",
       "<tr><td>135.33637565192657</td><td>-1.0495674042959195</td><td>0.022055902955475437</td><td>0.5971108696496827</td><td>18.770140854394825</td><td>67.29900498549758</td><td>34.14004321617915</td><td>G9</td><td>0</td><td>0</td><td>-46.8253353455843</td><td>46.27872789816235</td><td>-1.2061391249307116</td><td>46.86577439953129</td><td>-46.23389767215575</td><td>-1.3466082058756994</td></tr>\n",
       "<tr><td>222.68862521965693</td><td>0.24658736885653473</td><td>0.018484059272712905</td><td>0.1853602230535373</td><td>19.138209203694714</td><td>56.241403420471244</td><td>33.75028074659527</td><td>G15</td><td>0</td><td>0</td><td>-40.58955674286038</td><td>-37.440047950613874</td><td>0.2376559909981852</td><td>40.55424042200281</td><td>37.47887257855186</td><td>0.11610999642754374</td></tr>\n",
       "<tr><td>131.9965189805966</td><td>-1.4654471866368668</td><td>0.02039780195621166</td><td>0.19763307097785993</td><td>18.274625547244007</td><td>62.15831978214007</td><td>33.96749633211685</td><td>G9</td><td>0</td><td>0</td><td>-40.74452629563054</td><td>45.25690999308012</td><td>-1.557865426399181</td><td>40.78296346012787</td><td>-45.21789920435435</td><td>-1.6801050022473523</td></tr>\n",
       "<tr><td>132.29928767965137</td><td>-1.2866447796875569</td><td>0.019766582972885693</td><td>0.2711576074736495</td><td>20.14329769306402</td><td>60.20477743489534</td><td>33.89815477616363</td><td>G9</td><td>0</td><td>0</td><td>-39.72261875027875</td><td>43.65567831890939</td><td>-1.325652536439288</td><td>39.76022467000742</td><td>-43.61764616754348</td><td>-1.4448257697626123</td></tr>\n",
       "<tr><td>221.4654657859774</td><td>-0.45112164073261557</td><td>0.026090009532755865</td><td>0.5279649802204481</td><td>17.928388935064874</td><td>79.86091240320769</td><td>34.51167133829578</td><td>G15</td><td>0</td><td>0</td><td>-58.320728274200285</td><td>-51.535188332133345</td><td>-0.6127951932066141</td><td>58.269287137026275</td><td>51.59097417368829</td><td>-0.7874396249762501</td></tr>\n",
       "</table></div>"
      ],
      "text/plain": [
       "<Table length=331156>\n",
       "        RA                 DEC          ...    ROTCARTESIAN_Z  \n",
       "                                        ...                    \n",
       "     float64             float64        ...       float64      \n",
       "------------------ -------------------- ... -------------------\n",
       " 221.5885153152424   0.8891047057315121 ...   18.15429773025413\n",
       " 220.8388953469847  -0.4251537922799557 ... -13.196464089950581\n",
       "220.94292732616822  -0.4270795124586044 ... -13.061057243623502\n",
       " 220.7779893960335   -0.407688561440169 ... -12.668280938154894\n",
       "220.80226411916357  -0.4094482845217407 ... -12.796716759406744\n",
       "220.70390645849213  -0.6597925197195444 ... -18.599816731667264\n",
       "   220.22826508916   1.0077602929401275 ...   20.42908595795937\n",
       "220.18913734445744  -0.2921131117892873 ...   -9.91036270716756\n",
       "219.94042101710016  -0.7595276462233099 ...  -20.80269914551607\n",
       "               ...                  ... ...                 ...\n",
       "134.20439382320285   0.2358426753462403 ... 0.07364396594242921\n",
       "132.39465973467594   0.7497649441555829 ... 0.40880999312472016\n",
       " 129.7180328937304   1.9648915025337275 ...   1.265297269317895\n",
       "139.62316654643436   2.8712723874900465 ...  3.4154910099986364\n",
       "137.98789507940023    1.756975973530973 ...  1.8300895314843593\n",
       "135.33637565192657  -1.0495674042959195 ... -1.3466082058756994\n",
       "222.68862521965693  0.24658736885653473 ... 0.11610999642754374\n",
       " 131.9965189805966  -1.4654471866368668 ... -1.6801050022473523\n",
       "132.29928767965137  -1.2866447796875569 ... -1.4448257697626123\n",
       " 221.4654657859774 -0.45112164073261557 ... -0.7874396249762501"
      ]
     },
     "execution_count": 14,
     "metadata": {},
     "output_type": "execute_result"
    }
   ],
   "source": [
    "abacus_gold"
   ]
  },
  {
   "cell_type": "code",
   "execution_count": 15,
   "id": "f0a8d7dc-a273-4b15-855d-89da5943f47f",
   "metadata": {},
   "outputs": [],
   "source": [
    "# \n",
    "abacus_gold.meta['RMAX'] = 12.0\n",
    "abacus_gold.meta['RLIM'] = 19.8\n",
    "\n",
    "isin        = (abacus_gold.meta['RMAX'] <= abacus_gold['DETMAG']) & (abacus_gold['DETMAG'] <= abacus_gold.meta['RLIM'])\n",
    "abacus_gold = abacus_gold[isin]"
   ]
  },
  {
   "cell_type": "code",
   "execution_count": 16,
   "id": "c2a8bf1c-9575-4507-9164-fff08d95ad82",
   "metadata": {},
   "outputs": [],
   "source": [
    "# Randomise rows.                                                                                                                                                                                       \n",
    "idx  = np.arange(len(abacus_gold))\n",
    "idx  = np.random.choice(idx, size=len(idx), replace=False)\n",
    "\n",
    "abacus_gold = abacus_gold[idx]"
   ]
  },
  {
   "cell_type": "code",
   "execution_count": 17,
   "id": "45129599-dfeb-44b7-922d-50c79cfb7cdd",
   "metadata": {},
   "outputs": [
    {
     "data": {
      "text/html": [
       "<div><i>Table length=209521</i>\n",
       "<table id=\"table23452260990928\" class=\"table-striped table-bordered table-condensed\">\n",
       "<thead><tr><th>RA</th><th>DEC</th><th>ZSURV</th><th>GMR</th><th>DETMAG</th><th>LUMDIST</th><th>DISTMOD</th><th>FIELD</th><th>IN_D8LUMFN</th><th>CONSERVATIVE</th><th>CARTESIAN_X</th><th>CARTESIAN_Y</th><th>CARTESIAN_Z</th><th>ROTCARTESIAN_X</th><th>ROTCARTESIAN_Y</th><th>ROTCARTESIAN_Z</th></tr></thead>\n",
       "<thead><tr><th></th><th></th><th></th><th></th><th></th><th>Mpc</th><th></th><th></th><th></th><th></th><th></th><th></th><th></th><th></th><th></th><th></th></tr></thead>\n",
       "<thead><tr><th>float64</th><th>float64</th><th>float64</th><th>float64</th><th>float64</th><th>float64</th><th>float64</th><th>str3</th><th>int64</th><th>int64</th><th>float64</th><th>float64</th><th>float64</th><th>float64</th><th>float64</th><th>float64</th></tr></thead>\n",
       "<tr><td>211.90426851501925</td><td>1.3603230209911867</td><td>0.36461028503465553</td><td>1.2234245652346885</td><td>19.622687602573148</td><td>1381.838988455872</td><td>40.702287210491605</td><td>G15</td><td>0</td><td>0</td><td>-859.4081215229603</td><td>-535.0232783591603</td><td>24.039609868889446</td><td>858.9639351373053</td><td>535.8454353990169</td><td>21.465275771058987</td></tr>\n",
       "<tr><td>181.66959075063224</td><td>-1.7666083349268367</td><td>0.19234548970767884</td><td>0.9492705392664549</td><td>19.730041047055256</td><td>661.5646600453028</td><td>39.102861488486944</td><td>G12</td><td>0</td><td>0</td><td>-554.3439360641598</td><td>-16.158076039043614</td><td>-17.104839851177143</td><td>554.2744647123568</td><td>16.68854252803292</td><td>-18.76615929921612</td></tr>\n",
       "<tr><td>129.7519826969113</td><td>0.9774220040445457</td><td>0.20621007061526053</td><td>0.6133973364545666</td><td>19.202717401808208</td><td>715.3865604634486</td><td>39.2727038853033</td><td>G9</td><td>0</td><td>0</td><td>-379.20304992403766</td><td>455.9100183286869</td><td>10.117104634204557</td><td>379.66777203920077</td><td>-455.54693501512565</td><td>8.97922955767013</td></tr>\n",
       "<tr><td>180.82453890885765</td><td>0.332686650262206</td><td>0.4132216976054923</td><td>1.2536817430754086</td><td>19.74637815653676</td><td>1603.9003823490643</td><td>41.02588695459231</td><td>G12</td><td>0</td><td>0</td><td>-1134.7881724409913</td><td>-16.331771855457074</td><td>6.589878322341253</td><td>1134.7866783496886</td><td>17.41768857359027</td><td>3.1887842573212666</td></tr>\n",
       "<tr><td>137.23651248552386</td><td>2.550118506015833</td><td>0.24754957952590018</td><td>1.327748853439913</td><td>19.233688234257503</td><td>880.3590887901895</td><td>39.72329926115178</td><td>G9</td><td>0</td><td>0</td><td>-517.5639886416078</td><td>478.65722250625106</td><td>31.397594230081964</td><td>518.1135740722724</td><td>-478.1617256605292</td><td>29.84487217004491</td></tr>\n",
       "<tr><td>215.43479103546105</td><td>2.1980894903094157</td><td>0.1740606330268053</td><td>0.4653566582422635</td><td>19.52427997996957</td><td>591.7712808994069</td><td>38.860769423508344</td><td>G15</td><td>0</td><td>0</td><td>-410.37590880245654</td><td>-292.01417819597617</td><td>19.33212341963848</td><td>410.1523799182468</td><td>292.406749615223</td><td>18.10292284919089</td></tr>\n",
       "<tr><td>214.55498472032187</td><td>-0.6685163153469905</td><td>0.2373095953685047</td><td>1.3587177049533512</td><td>18.065125041042045</td><td>838.8775409945322</td><td>39.618492836610834</td><td>G15</td><td>0</td><td>0</td><td>-558.3385334308874</td><td>-384.5248772130612</td><td>-7.91042306056155</td><td>557.9440958689611</td><td>385.0589976289906</td><td>-9.582699640256626</td></tr>\n",
       "<tr><td>133.3717367469399</td><td>2.9731871227758098</td><td>0.3219345338572237</td><td>1.3618102592835633</td><td>19.682345684465755</td><td>1193.3878523976398</td><td>40.383908064039794</td><td>G9</td><td>0</td><td>0</td><td>-619.1160649258584</td><td>655.3441353314505</td><td>46.82484503372689</td><td>619.8804633086057</td><td>-654.7513783425139</td><td>44.967181832138714</td></tr>\n",
       "<tr><td>131.53776693844</td><td>-1.469754149131659</td><td>0.3741412407324587</td><td>1.2680981882378428</td><td>19.769710693717837</td><td>1424.7683979693888</td><td>40.76872136853464</td><td>G9</td><td>0</td><td>0</td><td>-687.3183199676726</td><td>775.840953534079</td><td>-26.594224563512086</td><td>687.9776416738591</td><td>-775.1828759075323</td><td>-28.656314846625484</td></tr>\n",
       "<tr><td>...</td><td>...</td><td>...</td><td>...</td><td>...</td><td>...</td><td>...</td><td>...</td><td>...</td><td>...</td><td>...</td><td>...</td><td>...</td><td>...</td><td>...</td><td>...</td></tr>\n",
       "<tr><td>212.0610899211587</td><td>-1.0986939953451529</td><td>0.26734088270024725</td><td>1.4502706943107437</td><td>19.310022409281746</td><td>961.6591214187458</td><td>39.91510577639566</td><td>G15</td><td>0</td><td>0</td><td>-642.9521455822885</td><td>-402.7149276488213</td><td>-14.549739333694422</td><td>642.519983610582</td><td>403.3300098862981</td><td>-16.475532189212483</td></tr>\n",
       "<tr><td>176.1589802161306</td><td>-0.7756541790655526</td><td>0.32235797996337623</td><td>1.2317604239403128</td><td>19.539762784245635</td><td>1195.226879664117</td><td>40.38725175752452</td><td>G12</td><td>0</td><td>0</td><td>-901.7473789651417</td><td>60.5424621142444</td><td>-12.235833251613897</td><td>901.7641787668546</td><td>-59.679516255278266</td><td>-14.938608944438824</td></tr>\n",
       "<tr><td>185.04605728782386</td><td>-2.8884756983413498</td><td>0.21180986191597206</td><td>1.2292953057216178</td><td>19.08411713601012</td><td>737.3421396584973</td><td>39.33834527434519</td><td>G12</td><td>0</td><td>0</td><td>-605.3352961624666</td><td>-53.45033477562049</td><td>-30.661731875714665</td><td>605.18925431633</td><td>54.02957986193856</td><td>-32.47571137530387</td></tr>\n",
       "<tr><td>182.20360952604247</td><td>1.1812394392485872</td><td>0.30854521006210134</td><td>1.0079243385685286</td><td>19.77772517339506</td><td>1135.5637171333874</td><td>40.27605753876324</td><td>G12</td><td>0</td><td>0</td><td>-866.9802243982023</td><td>-33.36071951481241</td><td>17.88987541472109</td><td>866.9976277681865</td><td>34.19035229763467</td><td>15.291435529657425</td></tr>\n",
       "<tr><td>216.84394377845382</td><td>0.3958786065138133</td><td>0.32972986883788025</td><td>1.3100619508853548</td><td>19.474129831809073</td><td>1227.3434238227794</td><td>40.444830499872864</td><td>G15</td><td>0</td><td>0</td><td>-738.6348113587643</td><td>-553.4534936566511</td><td>6.37732603998089</td><td>738.120649941847</td><td>554.1600694462563</td><td>4.1650978278510316</td></tr>\n",
       "<tr><td>214.58871623778313</td><td>0.7888953379997686</td><td>0.18200468962285488</td><td>1.030448154990372</td><td>18.926480124074832</td><td>621.9263700306701</td><td>38.96869485768082</td><td>G15</td><td>0</td><td>0</td><td>-433.1211430925376</td><td>-298.6643882979746</td><td>7.244406419169604</td><td>432.8549092977041</td><td>299.07872249685374</td><td>5.947108716172542</td></tr>\n",
       "<tr><td>219.83052807443133</td><td>2.4700941044889326</td><td>0.15803684236710347</td><td>0.48980951630846603</td><td>18.90701828508597</td><td>531.7381335681152</td><td>38.62848903416776</td><td>G15</td><td>0</td><td>0</td><td>-352.2900199271592</td><td>-293.8351252643113</td><td>19.78936050121278</td><td>352.06640639825537</td><td>294.1721111391943</td><td>18.734254245808135</td></tr>\n",
       "<tr><td>139.6208192975514</td><td>0.8039303782757917</td><td>0.3404147038051477</td><td>1.3563517907962408</td><td>19.60740257969409</td><td>1274.2280469606708</td><td>40.526235800411165</td><td>G9</td><td>0</td><td>0</td><td>-724.0878067771268</td><td>615.7934852742807</td><td>13.33796378137863</td><td>724.7134735063009</td><td>-615.1002947354403</td><td>11.165950125029617</td></tr>\n",
       "<tr><td>221.66582863627065</td><td>0.43585762694703595</td><td>0.19754798270245466</td><td>1.1873880050879526</td><td>19.203299664119875</td><td>681.6702703946072</td><td>39.16787176788638</td><td>G15</td><td>0</td><td>0</td><td>-425.2160945948741</td><td>-378.3990486322624</td><td>4.330113288791515</td><td>424.8648644523524</td><td>378.8057816661322</td><td>3.0567498436343343</td></tr>\n",
       "<tr><td>180.33997529194235</td><td>-1.5164482270539925</td><td>0.37370032778792917</td><td>1.6051631687576475</td><td>19.706569531939593</td><td>1422.7757845814485</td><td>40.76568232476667</td><td>G12</td><td>0</td><td>0</td><td>-1035.3440393689955</td><td>-6.143480831271167</td><td>-27.40934851747668</td><td>1035.250886736065</td><td>7.134240145395583</td><td>-30.512271785681605</td></tr>\n",
       "</table></div>"
      ],
      "text/plain": [
       "<Table length=209521>\n",
       "        RA                 DEC         ...    ROTCARTESIAN_Z  \n",
       "                                       ...                    \n",
       "     float64             float64       ...       float64      \n",
       "------------------ ------------------- ... -------------------\n",
       "211.90426851501925  1.3603230209911867 ...  21.465275771058987\n",
       "181.66959075063224 -1.7666083349268367 ...  -18.76615929921612\n",
       " 129.7519826969113  0.9774220040445457 ...    8.97922955767013\n",
       "180.82453890885765   0.332686650262206 ...  3.1887842573212666\n",
       "137.23651248552386   2.550118506015833 ...   29.84487217004491\n",
       "215.43479103546105  2.1980894903094157 ...   18.10292284919089\n",
       "214.55498472032187 -0.6685163153469905 ...  -9.582699640256626\n",
       " 133.3717367469399  2.9731871227758098 ...  44.967181832138714\n",
       "   131.53776693844  -1.469754149131659 ... -28.656314846625484\n",
       "               ...                 ... ...                 ...\n",
       " 212.0610899211587 -1.0986939953451529 ... -16.475532189212483\n",
       " 176.1589802161306 -0.7756541790655526 ... -14.938608944438824\n",
       "185.04605728782386 -2.8884756983413498 ...  -32.47571137530387\n",
       "182.20360952604247  1.1812394392485872 ...  15.291435529657425\n",
       "216.84394377845382  0.3958786065138133 ...  4.1650978278510316\n",
       "214.58871623778313  0.7888953379997686 ...   5.947108716172542\n",
       "219.83052807443133  2.4700941044889326 ...  18.734254245808135\n",
       " 139.6208192975514  0.8039303782757917 ...  11.165950125029617\n",
       "221.66582863627065 0.43585762694703595 ...  3.0567498436343343\n",
       "180.33997529194235 -1.5164482270539925 ... -30.512271785681605"
      ]
     },
     "execution_count": 17,
     "metadata": {},
     "output_type": "execute_result"
    }
   ],
   "source": [
    "abacus_gold"
   ]
  },
  {
   "cell_type": "code",
   "execution_count": 18,
   "id": "9fced5c6-6508-4382-a67e-fd1d6c9b7542",
   "metadata": {},
   "outputs": [],
   "source": [
    "abacus_gold.meta['GOLD_NGAL'] = len(abacus_gold)\n",
    "abacus_gold.meta['IMMUTABLE'] = 'FALSE'\n",
    "abacus_gold.meta['AREA']      = 180."
   ]
  },
  {
   "cell_type": "code",
   "execution_count": 19,
   "id": "4068e8f1-ea53-4cce-a31c-75f57f07e750",
   "metadata": {},
   "outputs": [
    {
     "data": {
      "text/plain": [
       "'/global/cscratch1/sd/mjwilson/norberg/GAMA4/abacus_gama_gold.fits'"
      ]
     },
     "execution_count": 19,
     "metadata": {},
     "output_type": "execute_result"
    }
   ],
   "source": [
    "opath = findfile(ftype='gold', dryrun=False, survey='abacus_gama')\n",
    "opath"
   ]
  },
  {
   "cell_type": "code",
   "execution_count": 20,
   "id": "3ca1d059-812d-4750-8a38-76fffc1661d0",
   "metadata": {},
   "outputs": [
    {
     "name": "stderr",
     "output_type": "stream",
     "text": [
      "WARNING: VerifyWarning: Keyword name 'GOLD_NGAL' is greater than 8 characters or contains characters not allowed by the FITS standard; a HIERARCH card will be created. [astropy.io.fits.card]\n",
      "WARNING: VerifyWarning: Keyword name 'IMMUTABLE' is greater than 8 characters or contains characters not allowed by the FITS standard; a HIERARCH card will be created. [astropy.io.fits.card]\n"
     ]
    },
    {
     "name": "stdout",
     "output_type": "stream",
     "text": [
      "\n",
      "\n",
      "\n",
      "chgrp desi /global/cscratch1/sd/mjwilson/norberg/GAMA4/abacus_gama_gold.fits b''\n",
      "chmod  700 /global/cscratch1/sd/mjwilson/norberg/GAMA4/abacus_gama_gold.fits b''\n"
     ]
    }
   ],
   "source": [
    "write_desitable(opath, abacus_gold)"
   ]
  },
  {
   "cell_type": "code",
   "execution_count": 21,
   "id": "23ab4751-6033-49d1-946b-3a4f0e17f265",
   "metadata": {},
   "outputs": [
    {
     "name": "stdout",
     "output_type": "stream",
     "text": [
      "DEBUG: findfile returns /global/cscratch1/sd/mjwilson/norberg/GAMA4//abacus_gama_gold_dryrun.fits\n"
     ]
    },
    {
     "data": {
      "text/plain": [
       "'/global/cscratch1/sd/mjwilson/norberg/GAMA4/abacus_gama_gold_dryrun.fits'"
      ]
     },
     "execution_count": 21,
     "metadata": {},
     "output_type": "execute_result"
    }
   ],
   "source": [
    "opath = findfile(ftype='gold', dryrun=True, survey='abacus_gama')\n",
    "opath"
   ]
  },
  {
   "cell_type": "code",
   "execution_count": 22,
   "id": "220a3e35-6a52-4caf-ac5e-b21732e1a91c",
   "metadata": {},
   "outputs": [],
   "source": [
    "abacus_gold = abacus_gold[::1000]"
   ]
  },
  {
   "cell_type": "code",
   "execution_count": 23,
   "id": "aa734f6e-cd12-4b7e-9cf9-c9799762c994",
   "metadata": {},
   "outputs": [
    {
     "data": {
      "text/html": [
       "<div><i>Table length=210</i>\n",
       "<table id=\"table23453861914608\" class=\"table-striped table-bordered table-condensed\">\n",
       "<thead><tr><th>RA</th><th>DEC</th><th>ZSURV</th><th>GMR</th><th>DETMAG</th><th>LUMDIST</th><th>DISTMOD</th><th>FIELD</th><th>IN_D8LUMFN</th><th>CONSERVATIVE</th><th>CARTESIAN_X</th><th>CARTESIAN_Y</th><th>CARTESIAN_Z</th><th>ROTCARTESIAN_X</th><th>ROTCARTESIAN_Y</th><th>ROTCARTESIAN_Z</th></tr></thead>\n",
       "<thead><tr><th></th><th></th><th></th><th></th><th></th><th>Mpc</th><th></th><th></th><th></th><th></th><th></th><th></th><th></th><th></th><th></th><th></th></tr></thead>\n",
       "<thead><tr><th>float64</th><th>float64</th><th>float64</th><th>float64</th><th>float64</th><th>float64</th><th>float64</th><th>str3</th><th>int64</th><th>int64</th><th>float64</th><th>float64</th><th>float64</th><th>float64</th><th>float64</th><th>float64</th></tr></thead>\n",
       "<tr><td>211.90426851501925</td><td>1.3603230209911867</td><td>0.36461028503465553</td><td>1.2234245652346885</td><td>19.622687602573148</td><td>1381.838988455872</td><td>40.702287210491605</td><td>G15</td><td>0</td><td>0</td><td>-859.4081215229603</td><td>-535.0232783591603</td><td>24.039609868889446</td><td>858.9639351373053</td><td>535.8454353990169</td><td>21.465275771058987</td></tr>\n",
       "<tr><td>175.9045071977363</td><td>1.3116675366128896</td><td>0.14104907416149493</td><td>0.9199892866957441</td><td>19.005242424749525</td><td>469.26642284325936</td><td>38.357097402475425</td><td>G12</td><td>0</td><td>0</td><td>-410.1010799182916</td><td>29.36398456876988</td><td>9.414090303922324</td><td>410.15536495274057</td><td>-28.97152899575998</td><td>8.184836240652807</td></tr>\n",
       "<tr><td>182.01903711750415</td><td>-1.106241880195828</td><td>0.21944680483031065</td><td>0.7583014837231385</td><td>19.294990066155744</td><td>767.484611645232</td><td>39.42534838234508</td><td>G12</td><td>0</td><td>0</td><td>-628.8631671948306</td><td>-22.169589255444773</td><td>-12.150867826333156</td><td>628.8024221154608</td><td>22.77136342514076</td><td>-14.035536344989598</td></tr>\n",
       "<tr><td>179.0416120324038</td><td>-0.028210137119876615</td><td>0.15871230101589973</td><td>0.4525405536916875</td><td>19.719657622069207</td><td>534.2471869393727</td><td>38.638711220395564</td><td>G12</td><td>0</td><td>0</td><td>-461.0051900312497</td><td>7.711964856178095</td><td>-0.227012187575956</td><td>461.00960785452145</td><td>-7.270807017688307</td><td>-1.6087272474399603</td></tr>\n",
       "<tr><td>213.10990505690125</td><td>2.97981301832893</td><td>0.3311584846499034</td><td>1.2938455774010234</td><td>19.237159148514028</td><td>1233.5892589243342</td><td>40.45585289622977</td><td>G15</td><td>0</td><td>0</td><td>-775.1798570187326</td><td>-505.52437197328</td><td>48.17385474946941</td><td>774.8366496390818</td><td>506.2659411241216</td><td>45.85177097751833</td></tr>\n",
       "<tr><td>130.31659743959366</td><td>2.7396523515398066</td><td>0.1654488339098883</td><td>0.6142758508715496</td><td>19.661959314916935</td><td>559.3747723482641</td><td>38.7385143795644</td><td>G9</td><td>0</td><td>0</td><td>-310.1876109568333</td><td>365.54595831541405</td><td>22.941245004274815</td><td>310.6046377280399</td><td>-365.2489600108888</td><td>22.010419963857828</td></tr>\n",
       "<tr><td>176.03113519068327</td><td>-2.6719876841740473</td><td>0.2285605187123303</td><td>1.4204350566626447</td><td>18.532733073813244</td><td>803.7549291293273</td><td>39.52561824653295</td><td>G12</td><td>0</td><td>0</td><td>-651.9464053374192</td><td>45.23253962199965</td><td>-30.49871095681026</td><td>651.8950545612173</td><td>-44.60864531712787</td><td>-32.452673921623656</td></tr>\n",
       "<tr><td>177.16613258716816</td><td>1.652350957847684</td><td>0.15983333429894975</td><td>0.9829456642502011</td><td>19.76377522614793</td><td>538.415575758936</td><td>38.65558807525041</td><td>G12</td><td>0</td><td>0</td><td>-463.4575657605356</td><td>22.941468546310574</td><td>13.385712458936716</td><td>463.5173442698166</td><td>-22.49795695829565</td><td>11.996542482513467</td></tr>\n",
       "<tr><td>132.83652906092772</td><td>-1.5515534533435178</td><td>0.10824455460427918</td><td>0.9197427246067209</td><td>17.307458566801873</td><td>352.1232853500898</td><td>37.73347372609897</td><td>G9</td><td>0</td><td>0</td><td>-215.94872587362087</td><td>232.90537787128838</td><td>-8.603004873197788</td><td>216.14474819062855</td><td>-232.6986212574054</td><td>-9.250861320355776</td></tr>\n",
       "<tr><td>...</td><td>...</td><td>...</td><td>...</td><td>...</td><td>...</td><td>...</td><td>...</td><td>...</td><td>...</td><td>...</td><td>...</td><td>...</td><td>...</td><td>...</td><td>...</td></tr>\n",
       "<tr><td>219.21206227877562</td><td>-1.619331746848298</td><td>0.2647757660972634</td><td>0.5846197940650526</td><td>19.41924862399951</td><td>951.0390322551978</td><td>39.89099170742726</td><td>G15</td><td>0</td><td>0</td><td>-582.381189653076</td><td>-475.18270430762595</td><td>-21.2490825956909</td><td>581.8599016279974</td><td>475.73979059380235</td><td>-22.99309829538324</td></tr>\n",
       "<tr><td>135.41204532124326</td><td>-1.7600260563596513</td><td>0.25852158539437964</td><td>0.8851706061019239</td><td>19.52707187355826</td><td>925.2485990456116</td><td>39.831292180928585</td><td>G9</td><td>0</td><td>0</td><td>-523.3337340760055</td><td>515.8601927254608</td><td>-22.58010356348376</td><td>523.7571133768082</td><td>-515.3591575455125</td><td>-24.1499825837449</td></tr>\n",
       "<tr><td>137.6784725688209</td><td>2.0902940825623033</td><td>0.16433249521524562</td><td>0.8327198099714588</td><td>18.444213543463643</td><td>555.1977223976476</td><td>38.722238379163365</td><td>G9</td><td>0</td><td>0</td><td>-352.32884754871037</td><td>320.83665130425914</td><td>17.392382293378414</td><td>352.6862511305594</td><td>-320.49934683563345</td><td>16.335407505673185</td></tr>\n",
       "<tr><td>180.44373398003972</td><td>-0.138705153378558</td><td>0.23547731764180302</td><td>1.3393296765534526</td><td>17.480476944685563</td><td>831.4975109104336</td><td>39.59930476748015</td><td>G12</td><td>0</td><td>0</td><td>-672.9950655230674</td><td>-5.212194548886269</td><td>-1.6292799657315462</td><td>672.981863773626</td><td>5.856208061687904</td><td>-3.646313554076464</td></tr>\n",
       "<tr><td>218.37588575581512</td><td>2.7663257960097645</td><td>0.12127608549178293</td><td>0.3611138339515161</td><td>19.376752443969732</td><td>398.10014920133926</td><td>37.99996170175252</td><td>G15</td><td>0</td><td>0</td><td>-278.0125631405138</td><td>-220.15959354240147</td><td>17.13530073283355</td><td>277.8518654042843</td><td>220.42553408125303</td><td>16.302614522585127</td></tr>\n",
       "<tr><td>176.57610797290016</td><td>-0.5710268416866745</td><td>0.28458413992063347</td><td>0.9059489570516676</td><td>19.573768633822827</td><td>1033.6820855913274</td><td>40.07193494861035</td><td>G12</td><td>0</td><td>0</td><td>-803.2060320534283</td><td>48.055354126342515</td><td>-8.01957097264533</td><td>803.2240069101335</td><td>-47.286712141516404</td><td>-10.426988245949854</td></tr>\n",
       "<tr><td>137.27104386099055</td><td>1.0507809362899734</td><td>0.07467443001349094</td><td>0.8849430668027367</td><td>16.231483838499255</td><td>237.14705776587596</td><td>36.875088704100925</td><td>G9</td><td>0</td><td>0</td><td>-162.06977213818115</td><td>149.7054034558104</td><td>4.0467468031912714</td><td>162.22435709939393</td><td>-149.5502438625569</td><td>3.5605545658100475</td></tr>\n",
       "<tr><td>133.79057853858583</td><td>-0.9119994009084574</td><td>0.34084569591586433</td><td>1.4039629024220732</td><td>19.698418156706143</td><td>1276.127479839502</td><td>40.52947030384363</td><td>G9</td><td>0</td><td>0</td><td>-658.539299903132</td><td>686.944511183896</td><td>-15.148472398104548</td><td>659.148000324734</td><td>-686.3140140556293</td><td>-17.12410457041426</td></tr>\n",
       "<tr><td>220.57883956988258</td><td>1.2278074835394917</td><td>0.40036572937024784</td><td>1.2437871877253623</td><td>19.593995731773273</td><td>1544.4291472067835</td><td>40.94383994621441</td><td>G15</td><td>0</td><td>0</td><td>-837.4544627371343</td><td>-717.2489565377084</td><td>23.63202402555308</td><td>836.8347851591108</td><td>718.0500218081255</td><td>21.124012435447273</td></tr>\n",
       "<tr><td>216.96752044284457</td><td>2.444395108120158</td><td>0.09218127957866384</td><td>0.5094185222696137</td><td>18.34747477506708</td><td>296.4787403090066</td><td>37.359967783652955</td><td>G15</td><td>0</td><td>0</td><td>-216.68931759628754</td><td>-163.09460776029587</td><td>11.577528267331823</td><td>216.56687349648732</td><td>163.30189176062316</td><td>10.928497287758015</td></tr>\n",
       "</table></div>"
      ],
      "text/plain": [
       "<Table length=210>\n",
       "        RA                  DEC          ...    ROTCARTESIAN_Z  \n",
       "                                         ...                    \n",
       "     float64              float64        ...       float64      \n",
       "------------------ --------------------- ... -------------------\n",
       "211.90426851501925    1.3603230209911867 ...  21.465275771058987\n",
       " 175.9045071977363    1.3116675366128896 ...   8.184836240652807\n",
       "182.01903711750415    -1.106241880195828 ... -14.035536344989598\n",
       " 179.0416120324038 -0.028210137119876615 ... -1.6087272474399603\n",
       "213.10990505690125      2.97981301832893 ...   45.85177097751833\n",
       "130.31659743959366    2.7396523515398066 ...  22.010419963857828\n",
       "176.03113519068327   -2.6719876841740473 ... -32.452673921623656\n",
       "177.16613258716816     1.652350957847684 ...  11.996542482513467\n",
       "132.83652906092772   -1.5515534533435178 ...  -9.250861320355776\n",
       "               ...                   ... ...                 ...\n",
       "219.21206227877562    -1.619331746848298 ...  -22.99309829538324\n",
       "135.41204532124326   -1.7600260563596513 ...   -24.1499825837449\n",
       " 137.6784725688209    2.0902940825623033 ...  16.335407505673185\n",
       "180.44373398003972    -0.138705153378558 ...  -3.646313554076464\n",
       "218.37588575581512    2.7663257960097645 ...  16.302614522585127\n",
       "176.57610797290016   -0.5710268416866745 ... -10.426988245949854\n",
       "137.27104386099055    1.0507809362899734 ...  3.5605545658100475\n",
       "133.79057853858583   -0.9119994009084574 ...  -17.12410457041426\n",
       "220.57883956988258    1.2278074835394917 ...  21.124012435447273\n",
       "216.96752044284457     2.444395108120158 ...  10.928497287758015"
      ]
     },
     "execution_count": 23,
     "metadata": {},
     "output_type": "execute_result"
    }
   ],
   "source": [
    "abacus_gold"
   ]
  },
  {
   "cell_type": "code",
   "execution_count": 24,
   "id": "9579da1d-a48e-4af9-8a98-3e3d63ccce23",
   "metadata": {},
   "outputs": [
    {
     "name": "stdout",
     "output_type": "stream",
     "text": [
      "\n",
      "\n",
      "\n",
      "chgrp desi /global/cscratch1/sd/mjwilson/norberg/GAMA4/abacus_gama_gold_dryrun.fits b''\n",
      "chmod  700 /global/cscratch1/sd/mjwilson/norberg/GAMA4/abacus_gama_gold_dryrun.fits b''\n"
     ]
    }
   ],
   "source": [
    "write_desitable(opath, abacus_gold)"
   ]
  },
  {
   "cell_type": "markdown",
   "id": "d5597572-8b37-4dca-b2ec-2d2ab398b8aa",
   "metadata": {},
   "source": [
    "# Done."
   ]
  }
 ],
 "metadata": {
  "kernelspec": {
   "display_name": "DESI master",
   "language": "python",
   "name": "desi-master"
  },
  "language_info": {
   "codemirror_mode": {
    "name": "ipython",
    "version": 3
   },
   "file_extension": ".py",
   "mimetype": "text/x-python",
   "name": "python",
   "nbconvert_exporter": "python",
   "pygments_lexer": "ipython3",
   "version": "3.9.7"
  }
 },
 "nbformat": 4,
 "nbformat_minor": 5
}
