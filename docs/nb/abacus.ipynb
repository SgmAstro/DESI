{
 "cells": [
  {
   "cell_type": "code",
   "execution_count": 1,
   "id": "0af7cfc5-a70a-4d09-8118-af6105caaf4c",
   "metadata": {},
   "outputs": [],
   "source": [
    "%load_ext autoreload\n",
    "%autoreload 2"
   ]
  },
  {
   "cell_type": "code",
   "execution_count": 2,
   "id": "89ccf6c8-0617-4e5c-8192-58cd453fafd7",
   "metadata": {},
   "outputs": [],
   "source": [
    "import h5py\n",
    "import sys\n",
    "import numpy             as np\n",
    "import pylab             as pl\n",
    "import astropy.io.fits   as fits\n",
    "import matplotlib.pyplot as plt\n",
    "\n",
    "from   astropy.table     import Table"
   ]
  },
  {
   "cell_type": "code",
   "execution_count": 3,
   "id": "13beb54a-8379-4ab7-b5fd-c8035702c1a5",
   "metadata": {},
   "outputs": [],
   "source": [
    "sys.path.append('/global/homes/m/mjwilson/desi/BGS/Sam/')\n",
    "sys.path.append('/global/homes/m/mjwilson/desi/BGS/Sam/DESI/')"
   ]
  },
  {
   "cell_type": "code",
   "execution_count": 4,
   "id": "d4d6368e-42e1-4b6c-a1a0-1743b312c0d9",
   "metadata": {},
   "outputs": [],
   "source": [
    "from   cosmo         import distmod, cosmo\n",
    "from   gama_limits   import gama_field\n",
    "from   cartesian     import cartesian, rotate\n",
    "from   findfile      import findfile, write_desitable"
   ]
  },
  {
   "cell_type": "code",
   "execution_count": 5,
   "id": "ea36f0d0-e918-4eb4-84be-13fb13ecfb3e",
   "metadata": {},
   "outputs": [],
   "source": [
    "path       = \"/project/projectdirs/desi/cosmosim/FirstGenMocks/AbacusSummit/CutSky/BGS/z0.200/\"\n",
    "\n",
    "f          = h5py.File(path+\"cutsky_BGS_z0.200_AbacusSummit_base_c000_ph000.hdf5\", \"r\")\n",
    "\n",
    "stat       = f[\"Data/STATUS\"]           #  integer indicating the status of the galaxy. If the second bit is 1, the galaxy is in the full DESI footprint. If the third bit is 1, the galaxy is in the SV3 footprint.\n",
    "Ms         = f[\"Data/abs_mag\"]\n",
    "rs         = f[\"Data/app_mag\"]\n",
    "ra         = f[\"Data/ra\"]\n",
    "dec        = f[\"Data/dec\"]\n",
    "rest_color = f[\"Data/g_r\"]\n",
    "color      = f[\"Data/g_r_obs\"]\n",
    "hmass      = f[\"Data/halo_mass\"]\n",
    "gtype      = f[\"Data/galaxy_type\"][...] # galaxy type, indicating cen/sat and if resolved\n",
    "zcos       = f[\"Data/z_cos\"][...] \n",
    "zobs       = f[\"Data/z_obs\"][...]       # observed redshift (which takes into account velocity)"
   ]
  },
  {
   "cell_type": "code",
   "execution_count": 6,
   "id": "51950a61-4758-4b2d-8ad2-62ee53de3a33",
   "metadata": {},
   "outputs": [],
   "source": [
    "in_gama    = gama_field(ra[:], dec[:]) != 'NAN'\n",
    "in_sv3     = stat[:] & 2**2 != 0        # in SV3 footprint"
   ]
  },
  {
   "cell_type": "code",
   "execution_count": 7,
   "id": "17a569af-e50a-472d-92fb-7346f5562966",
   "metadata": {},
   "outputs": [
    {
     "data": {
      "text/plain": [
       "[<matplotlib.lines.Line2D at 0x155467bfe730>]"
      ]
     },
     "execution_count": 7,
     "metadata": {},
     "output_type": "execute_result"
    },
    {
     "data": {
      "image/png": "[encoded data removed]",
      "text/plain": [
       "<Figure size 432x288 with 1 Axes>"
      ]
     },
     "metadata": {
      "needs_background": "light"
     },
     "output_type": "display_data"
    }
   ],
   "source": [
    "pl.plot(ra[in_gama], dec[in_gama], marker=',', lw=0.)\n",
    "pl.plot(ra[in_sv3],  dec[in_sv3],  marker=',', lw=0.)"
   ]
  },
  {
   "cell_type": "code",
   "execution_count": 8,
   "id": "e966a439-9bbd-4c9c-ae92-234354e12d47",
   "metadata": {},
   "outputs": [
    {
     "data": {
      "text/html": [
       "<div><i>Table length=331156</i>\n",
       "<table id=\"table23452261920096\" class=\"table-striped table-bordered table-condensed\">\n",
       "<thead><tr><th>RA</th><th>DEC</th><th>ZSURV</th><th>GMR</th><th>DETMAG</th></tr></thead>\n",
       "<thead><tr><th>float64</th><th>float64</th><th>float64</th><th>float64</th><th>float64</th></tr></thead>\n",
       "<tr><td>221.5885153152424</td><td>0.8891047057315121</td><td>0.5090892329901424</td><td>1.0229034342276404</td><td>20.024842282773086</td></tr>\n",
       "<tr><td>220.8388953469847</td><td>-0.4251537922799557</td><td>0.5070480777796309</td><td>1.7105688681513556</td><td>19.628412712111086</td></tr>\n",
       "<tr><td>220.94292732616822</td><td>-0.4270795124586044</td><td>0.49939175793283663</td><td>1.7845642480200117</td><td>19.901759754751843</td></tr>\n",
       "<tr><td>220.7779893960335</td><td>-0.407688561440169</td><td>0.5018416604587173</td><td>1.4162324622458227</td><td>19.482987811542994</td></tr>\n",
       "<tr><td>220.80226411916357</td><td>-0.4094482845217407</td><td>0.5057908251547902</td><td>1.2950170504420262</td><td>20.188566388984835</td></tr>\n",
       "<tr><td>220.70390645849213</td><td>-0.6597925197195444</td><td>0.5014725673267042</td><td>1.6087622340475303</td><td>20.1247197763516</td></tr>\n",
       "<tr><td>220.22826508916</td><td>1.0077602929401275</td><td>0.49551292879741426</td><td>0.7722403108060668</td><td>20.153584782309252</td></tr>\n",
       "<tr><td>220.18913734445744</td><td>-0.2921131117892873</td><td>0.4983282691011963</td><td>1.7167553284832642</td><td>19.979288042865907</td></tr>\n",
       "<tr><td>219.94042101710016</td><td>-0.7595276462233099</td><td>0.49658973340918866</td><td>1.5065223264925345</td><td>19.715868889241545</td></tr>\n",
       "<tr><td>219.90592912118376</td><td>-0.4063055064447295</td><td>0.49614952909181187</td><td>1.5256994620425082</td><td>20.147958550680368</td></tr>\n",
       "<tr><td>...</td><td>...</td><td>...</td><td>...</td><td>...</td></tr>\n",
       "<tr><td>134.20439382320285</td><td>0.2358426753462403</td><td>0.0121616797034092</td><td>-0.03485868043104695</td><td>20.10428031031344</td></tr>\n",
       "<tr><td>132.39465973467594</td><td>0.7497649441555829</td><td>0.012355202933230114</td><td>0.18807403143037063</td><td>19.728866115049673</td></tr>\n",
       "<tr><td>129.7180328937304</td><td>1.9648915025337275</td><td>0.013070434552440613</td><td>-0.24945497161812016</td><td>19.651116104624208</td></tr>\n",
       "<tr><td>139.62316654643436</td><td>2.8712723874900465</td><td>0.023937756671378763</td><td>0.07557471181765915</td><td>20.141177166175837</td></tr>\n",
       "<tr><td>137.98789507940023</td><td>1.756975973530973</td><td>0.02155805940562283</td><td>0.019828966282650906</td><td>20.137923327492356</td></tr>\n",
       "<tr><td>135.33637565192657</td><td>-1.0495674042959195</td><td>0.022055902955475437</td><td>0.5971108696496827</td><td>18.770140854394825</td></tr>\n",
       "<tr><td>222.68862521965693</td><td>0.24658736885653473</td><td>0.018484059272712905</td><td>0.1853602230535373</td><td>19.138209203694714</td></tr>\n",
       "<tr><td>131.9965189805966</td><td>-1.4654471866368668</td><td>0.02039780195621166</td><td>0.19763307097785993</td><td>18.274625547244007</td></tr>\n",
       "<tr><td>132.29928767965137</td><td>-1.2866447796875569</td><td>0.019766582972885693</td><td>0.2711576074736495</td><td>20.14329769306402</td></tr>\n",
       "<tr><td>221.4654657859774</td><td>-0.45112164073261557</td><td>0.026090009532755865</td><td>0.5279649802204481</td><td>17.928388935064874</td></tr>\n",
       "</table></div>"
      ],
      "text/plain": [
       "<Table length=331156>\n",
       "        RA                 DEC          ...       DETMAG      \n",
       "     float64             float64        ...      float64      \n",
       "------------------ -------------------- ... ------------------\n",
       " 221.5885153152424   0.8891047057315121 ... 20.024842282773086\n",
       " 220.8388953469847  -0.4251537922799557 ... 19.628412712111086\n",
       "220.94292732616822  -0.4270795124586044 ... 19.901759754751843\n",
       " 220.7779893960335   -0.407688561440169 ... 19.482987811542994\n",
       "220.80226411916357  -0.4094482845217407 ... 20.188566388984835\n",
       "220.70390645849213  -0.6597925197195444 ...   20.1247197763516\n",
       "   220.22826508916   1.0077602929401275 ... 20.153584782309252\n",
       "220.18913734445744  -0.2921131117892873 ... 19.979288042865907\n",
       "219.94042101710016  -0.7595276462233099 ... 19.715868889241545\n",
       "219.90592912118376  -0.4063055064447295 ... 20.147958550680368\n",
       "               ...                  ... ...                ...\n",
       "134.20439382320285   0.2358426753462403 ...  20.10428031031344\n",
       "132.39465973467594   0.7497649441555829 ... 19.728866115049673\n",
       " 129.7180328937304   1.9648915025337275 ... 19.651116104624208\n",
       "139.62316654643436   2.8712723874900465 ... 20.141177166175837\n",
       "137.98789507940023    1.756975973530973 ... 20.137923327492356\n",
       "135.33637565192657  -1.0495674042959195 ... 18.770140854394825\n",
       "222.68862521965693  0.24658736885653473 ... 19.138209203694714\n",
       " 131.9965189805966  -1.4654471866368668 ... 18.274625547244007\n",
       "132.29928767965137  -1.2866447796875569 ...  20.14329769306402\n",
       " 221.4654657859774 -0.45112164073261557 ... 17.928388935064874"
      ]
     },
     "execution_count": 8,
     "metadata": {},
     "output_type": "execute_result"
    }
   ],
   "source": [
    "abacus_gold = Table(np.c_[ra[in_gama], dec[in_gama], zobs[in_gama], color[in_gama], rs[in_gama]], names=['RA', 'DEC', 'ZSURV', 'GMR', 'DETMAG'])\n",
    "abacus_gold"
   ]
  },
  {
   "cell_type": "code",
   "execution_count": 9,
   "id": "d658a5f2-bf43-452a-8097-8856532d7183",
   "metadata": {},
   "outputs": [],
   "source": [
    "abacus_gold['LUMDIST']      = cosmo.luminosity_distance(abacus_gold['ZSURV'].data)\n",
    "abacus_gold['DISTMOD']      = distmod(abacus_gold['ZSURV'].data)\n",
    "abacus_gold['FIELD']        = gama_field(abacus_gold['RA'], abacus_gold['DEC'])\n",
    "abacus_gold['IN_D8LUMFN']   = np.zeros_like(abacus_gold['FIELD'], dtype=int)\n",
    "abacus_gold['CONSERVATIVE'] = np.zeros_like(abacus_gold['FIELD'], dtype=int)"
   ]
  },
  {
   "cell_type": "code",
   "execution_count": 10,
   "id": "e7c7fc42-3e5d-4832-8277-d3d06be92f90",
   "metadata": {},
   "outputs": [],
   "source": [
    "xyz                         = cartesian(abacus_gold['RA'], abacus_gold['DEC'], abacus_gold['ZSURV'])"
   ]
  },
  {
   "cell_type": "code",
   "execution_count": 11,
   "id": "9882df43-1c7c-4299-acd0-b1cece01f6a8",
   "metadata": {},
   "outputs": [],
   "source": [
    "abacus_gold['CARTESIAN_X']  = xyz[:,0]\n",
    "abacus_gold['CARTESIAN_Y']  = xyz[:,1]\n",
    "abacus_gold['CARTESIAN_Z']  = xyz[:,2]"
   ]
  },
  {
   "cell_type": "code",
   "execution_count": 12,
   "id": "f0a95eb5-227c-4ffb-9f33-11c9fb607eb3",
   "metadata": {},
   "outputs": [],
   "source": [
    "xyz                         = rotate(abacus_gold['RA'], abacus_gold['DEC'], xyz)"
   ]
  },
  {
   "cell_type": "code",
   "execution_count": 13,
   "id": "7e78a03e-fe1f-4b80-af36-73b26c70e0d8",
   "metadata": {},
   "outputs": [],
   "source": [
    "abacus_gold['ROTCARTESIAN_X'] = xyz[:,0]\n",
    "abacus_gold['ROTCARTESIAN_Y'] = xyz[:,1]\n",
    "abacus_gold['ROTCARTESIAN_Z'] = xyz[:,2]"
   ]
  },
  {
   "cell_type": "code",
   "execution_count": 14,
   "id": "b7b1fa4b-c741-45de-8628-151b2407b84c",
   "metadata": {},
   "outputs": [
    {
     "data": {
      "text/html": [
       "<div><i>Table length=331156</i>\n",
       "<table id=\"table23452261920096\" class=\"table-striped table-bordered table-condensed\">\n",
       "<thead><tr><th>RA</th><th>DEC</th><th>ZSURV</th><th>GMR</th><th>DETMAG</th><th>LUMDIST</th><th>DISTMOD</th><th>FIELD</th><th>IN_D8LUMFN</th><th>CONSERVATIVE</th><th>CARTESIAN_X</th><th>CARTESIAN_Y</th><th>CARTESIAN_Z</th><th>ROTCARTESIAN_X</th><th>ROTCARTESIAN_Y</th><th>ROTCARTESIAN_Z</th></tr></thead>\n",
       "<thead><tr><th></th><th></th><th></th><th></th><th></th><th>Mpc</th><th></th><th></th><th></th><th></th><th></th><th></th><th></th><th></th><th></th><th></th></tr></thead>\n",
       "<thead><tr><th>float64</th><th>float64</th><th>float64</th><th>float64</th><th>float64</th><th>float64</th><th>float64</th><th>str3</th><th>int64</th><th>int64</th><th>float64</th><th>float64</th><th>float64</th><th>float64</th><th>float64</th><th>float64</th></tr></thead>\n",
       "<tr><td>221.5885153152424</td><td>0.8891047057315121</td><td>0.5090892329901424</td><td>1.0229034342276404</td><td>20.024842282773086</td><td>2063.3533641152785</td><td>41.57286805199301</td><td>G15</td><td>0</td><td>0</td><td>-1022.5110811033369</td><td>-907.4613657201679</td><td>21.216392261730327</td><td>1021.7012266085815</td><td>908.4394319792988</td><td>18.15429773025413</td></tr>\n",
       "<tr><td>220.8388953469847</td><td>-0.4251537922799557</td><td>0.5070480777796309</td><td>1.7105688681513556</td><td>19.628412712111086</td><td>2053.2891999806543</td><td>41.562250614145434</td><td>G15</td><td>0</td><td>0</td><td>-1030.7407448849524</td><td>-890.9333243854388</td><td>-10.109797455218517</td><td>1029.852777125875</td><td>891.9192735066924</td><td>-13.196464089950581</td></tr>\n",
       "<tr><td>220.94292732616822</td><td>-0.4270795124586044</td><td>0.49939175793283663</td><td>1.7845642480200117</td><td>19.901759754751843</td><td>2015.6444390073257</td><td>41.5220696235003</td><td>G15</td><td>0</td><td>0</td><td>-1015.4119768436542</td><td>-880.9099247810838</td><td>-10.020303818676183</td><td>1014.5339449244166</td><td>881.8812097804043</td><td>-13.061057243623502</td></tr>\n",
       "<tr><td>220.7779893960335</td><td>-0.407688561440169</td><td>0.5018416604587173</td><td>1.4162324622458227</td><td>19.482987811542994</td><td>2027.6719718440368</td><td>41.5349884901389</td><td>G15</td><td>0</td><td>0</td><td>-1022.3498876709572</td><td>-881.7836115364541</td><td>-9.606734318608583</td><td>1021.4722248754321</td><td>882.7615353001427</td><td>-12.668280938154894</td></tr>\n",
       "<tr><td>220.80226411916357</td><td>-0.4094482845217407</td><td>0.5057908251547902</td><td>1.2950170504420262</td><td>20.188566388984835</td><td>2047.096049668563</td><td>41.55569110110545</td><td>G15</td><td>0</td><td>0</td><td>-1029.0600367079237</td><td>-888.3317613425351</td><td>-9.715078196618744</td><td>1028.1757498224451</td><td>889.3161033180729</td><td>-12.796716759406744</td></tr>\n",
       "<tr><td>220.70390645849213</td><td>-0.6597925197195444</td><td>0.5014725673267042</td><td>1.6087622340475303</td><td>20.1247197763516</td><td>2025.8588505418343</td><td>41.53304591547108</td><td>G15</td><td>0</td><td>0</td><td>-1022.783423939799</td><td>-879.8538632994431</td><td>-15.536991846772187</td><td>1021.8898318637006</td><td>880.8322028148979</td><td>-18.599816731667264</td></tr>\n",
       "<tr><td>220.22826508916</td><td>1.0077602929401275</td><td>0.49551292879741426</td><td>0.7722403108060668</td><td>20.153584782309252</td><td>1996.6369296550938</td><td>41.50149549765658</td><td>G15</td><td>0</td><td>0</td><td>-1019.1497456392286</td><td>-862.1104775579664</td><td>23.481246361605102</td><td>1018.3900937372865</td><td>863.0853479854154</td><td>20.42908595795937</td></tr>\n",
       "<tr><td>220.18913734445744</td><td>-0.2921131117892873</td><td>0.4983282691011963</td><td>1.7167553284832642</td><td>19.979288042865907</td><td>2010.428704727106</td><td>41.516443382239125</td><td>G15</td><td>0</td><td>0</td><td>-1024.9980089272194</td><td>-865.8574228999394</td><td>-6.840821215061037</td><td>1024.143863177716</td><td>866.8378880488672</td><td>-9.91036270716756</td></tr>\n",
       "<tr><td>219.94042101710016</td><td>-0.7595276462233099</td><td>0.49658973340918866</td><td>1.5065223264925345</td><td>19.715868889241545</td><td>2001.9092849897418</td><td>41.50722196931043</td><td>G15</td><td>0</td><td>0</td><td>-1025.5007373223045</td><td>-858.6816916892146</td><td>-17.731679244283736</td><td>1024.6208144309192</td><td>859.6626412045856</td><td>-20.80269914551607</td></tr>\n",
       "<tr><td>...</td><td>...</td><td>...</td><td>...</td><td>...</td><td>...</td><td>...</td><td>...</td><td>...</td><td>...</td><td>...</td><td>...</td><td>...</td><td>...</td><td>...</td><td>...</td></tr>\n",
       "<tr><td>134.20439382320285</td><td>0.2358426753462403</td><td>0.0121616797034092</td><td>-0.03485868043104695</td><td>20.10428031031344</td><td>36.818745410521316</td><td>32.83034492972502</td><td>G9</td><td>0</td><td>0</td><td>-25.362105282760844</td><td>26.076423902094138</td><td>0.1497330354673735</td><td>25.387381989642627</td><td>-26.052141949477225</td><td>0.07364396594242921</td></tr>\n",
       "<tr><td>132.39465973467594</td><td>0.7497649441555829</td><td>0.012355202933230114</td><td>0.18807403143037063</td><td>19.728866115049673</td><td>37.410406380370226</td><td>32.86496212930882</td><td>G9</td><td>0</td><td>0</td><td>-24.91338187374067</td><td>27.288742011932456</td><td>0.48355915519781867</td><td>24.94082143377037</td><td>-27.264888905614747</td><td>0.40880999312472016</td></tr>\n",
       "<tr><td>129.7180328937304</td><td>1.9648915025337275</td><td>0.013070434552440613</td><td>-0.24945497161812016</td><td>19.651116104624208</td><td>39.59865823756037</td><td>32.988402352620504</td><td>G9</td><td>0</td><td>0</td><td>-24.962783758178496</td><td>30.04857038794247</td><td>1.3402062583821375</td><td>24.99543153866415</td><td>-30.024668743350514</td><td>1.265297269317895</td></tr>\n",
       "<tr><td>139.62316654643436</td><td>2.8712723874900465</td><td>0.023937756671378763</td><td>0.07557471181765915</td><td>20.141177166175837</td><td>73.14930471225647</td><td>34.32105101245256</td><td>G9</td><td>0</td><td>0</td><td>-54.35408993376179</td><td>46.22107398915391</td><td>3.5785460959483095</td><td>54.408776900185956</td><td>-46.16903922311506</td><td>3.4154910099986364</td></tr>\n",
       "<tr><td>137.98789507940023</td><td>1.756975973530973</td><td>0.02155805940562283</td><td>0.019828966282650906</td><td>20.137923327492356</td><td>65.75413819495529</td><td>34.0896154503474</td><td>G9</td><td>0</td><td>0</td><td>-47.80206255476053</td><td>43.0594607851717</td><td>1.973491041915273</td><td>47.848945922471145</td><td>-43.013697363824456</td><td>1.8300895314843593</td></tr>\n",
       "<tr><td>135.33637565192657</td><td>-1.0495674042959195</td><td>0.022055902955475437</td><td>0.5971108696496827</td><td>18.770140854394825</td><td>67.29900498549758</td><td>34.14004321617915</td><td>G9</td><td>0</td><td>0</td><td>-46.8253353455843</td><td>46.27872789816235</td><td>-1.2061391249307116</td><td>46.86577439953129</td><td>-46.23389767215575</td><td>-1.3466082058756994</td></tr>\n",
       "<tr><td>222.68862521965693</td><td>0.24658736885653473</td><td>0.018484059272712905</td><td>0.1853602230535373</td><td>19.138209203694714</td><td>56.241403420471244</td><td>33.75028074659527</td><td>G15</td><td>0</td><td>0</td><td>-40.58955674286038</td><td>-37.440047950613874</td><td>0.2376559909981852</td><td>40.55424042200281</td><td>37.47887257855186</td><td>0.11610999642754374</td></tr>\n",
       "<tr><td>131.9965189805966</td><td>-1.4654471866368668</td><td>0.02039780195621166</td><td>0.19763307097785993</td><td>18.274625547244007</td><td>62.15831978214007</td><td>33.96749633211685</td><td>G9</td><td>0</td><td>0</td><td>-40.74452629563054</td><td>45.25690999308012</td><td>-1.557865426399181</td><td>40.78296346012787</td><td>-45.21789920435435</td><td>-1.6801050022473523</td></tr>\n",
       "<tr><td>132.29928767965137</td><td>-1.2866447796875569</td><td>0.019766582972885693</td><td>0.2711576074736495</td><td>20.14329769306402</td><td>60.20477743489534</td><td>33.89815477616363</td><td>G9</td><td>0</td><td>0</td><td>-39.72261875027875</td><td>43.65567831890939</td><td>-1.325652536439288</td><td>39.76022467000742</td><td>-43.61764616754348</td><td>-1.4448257697626123</td></tr>\n",
       "<tr><td>221.4654657859774</td><td>-0.45112164073261557</td><td>0.026090009532755865</td><td>0.5279649802204481</td><td>17.928388935064874</td><td>79.86091240320769</td><td>34.51167133829578</td><td>G15</td><td>0</td><td>0</td><td>-58.320728274200285</td><td>-51.535188332133345</td><td>-0.6127951932066141</td><td>58.269287137026275</td><td>51.59097417368829</td><td>-0.7874396249762501</td></tr>\n",
       "</table></div>"
      ],
      "text/plain": [
       "<Table length=331156>\n",
       "        RA                 DEC          ...    ROTCARTESIAN_Z  \n",
       "                                        ...                    \n",
       "     float64             float64        ...       float64      \n",
       "------------------ -------------------- ... -------------------\n",
       " 221.5885153152424   0.8891047057315121 ...   18.15429773025413\n",
       " 220.8388953469847  -0.4251537922799557 ... -13.196464089950581\n",
       "220.94292732616822  -0.4270795124586044 ... -13.061057243623502\n",
       " 220.7779893960335   -0.407688561440169 ... -12.668280938154894\n",
       "220.80226411916357  -0.4094482845217407 ... -12.796716759406744\n",
       "220.70390645849213  -0.6597925197195444 ... -18.599816731667264\n",
       "   220.22826508916   1.0077602929401275 ...   20.42908595795937\n",
       "220.18913734445744  -0.2921131117892873 ...   -9.91036270716756\n",
       "219.94042101710016  -0.7595276462233099 ...  -20.80269914551607\n",
       "               ...                  ... ...                 ...\n",
       "134.20439382320285   0.2358426753462403 ... 0.07364396594242921\n",
       "132.39465973467594   0.7497649441555829 ... 0.40880999312472016\n",
       " 129.7180328937304   1.9648915025337275 ...   1.265297269317895\n",
       "139.62316654643436   2.8712723874900465 ...  3.4154910099986364\n",
       "137.98789507940023    1.756975973530973 ...  1.8300895314843593\n",
       "135.33637565192657  -1.0495674042959195 ... -1.3466082058756994\n",
       "222.68862521965693  0.24658736885653473 ... 0.11610999642754374\n",
       " 131.9965189805966  -1.4654471866368668 ... -1.6801050022473523\n",
       "132.29928767965137  -1.2866447796875569 ... -1.4448257697626123\n",
       " 221.4654657859774 -0.45112164073261557 ... -0.7874396249762501"
      ]
     },
     "execution_count": 14,
     "metadata": {},
     "output_type": "execute_result"
    }
   ],
   "source": [
    "abacus_gold"
   ]
  },
  {
   "cell_type": "code",
   "execution_count": 15,
   "id": "f0a8d7dc-a273-4b15-855d-89da5943f47f",
   "metadata": {},
   "outputs": [],
   "source": [
    "# \n",
    "abacus_gold.meta['RMAX'] = 12.0\n",
    "abacus_gold.meta['RLIM'] = 19.8\n",
    "\n",
    "isin        = (abacus_gold.meta['RMAX'] <= abacus_gold['DETMAG']) & (abacus_gold['DETMAG'] <= abacus_gold.meta['RLIM'])\n",
    "abacus_gold = abacus_gold[isin]"
   ]
  },
  {
   "cell_type": "code",
   "execution_count": 16,
   "id": "c2a8bf1c-9575-4507-9164-fff08d95ad82",
   "metadata": {},
   "outputs": [],
   "source": [
    "# Randomise rows.                                                                                                                                                                                       \n",
    "idx  = np.arange(len(abacus_gold))\n",
    "idx  = np.random.choice(idx, size=len(idx), replace=False)\n",
    "\n",
    "abacus_gold = abacus_gold[idx]"
   ]
  },
  {
   "cell_type": "code",
   "execution_count": 17,
   "id": "45129599-dfeb-44b7-922d-50c79cfb7cdd",
   "metadata": {},
   "outputs": [
    {
     "data": {
      "text/html": [
       "<div><i>Table length=209521</i>\n",
       "<table id=\"table23452261351872\" class=\"table-striped table-bordered table-condensed\">\n",
       "<thead><tr><th>RA</th><th>DEC</th><th>ZSURV</th><th>GMR</th><th>DETMAG</th><th>LUMDIST</th><th>DISTMOD</th><th>FIELD</th><th>IN_D8LUMFN</th><th>CONSERVATIVE</th><th>CARTESIAN_X</th><th>CARTESIAN_Y</th><th>CARTESIAN_Z</th><th>ROTCARTESIAN_X</th><th>ROTCARTESIAN_Y</th><th>ROTCARTESIAN_Z</th></tr></thead>\n",
       "<thead><tr><th></th><th></th><th></th><th></th><th></th><th>Mpc</th><th></th><th></th><th></th><th></th><th></th><th></th><th></th><th></th><th></th><th></th></tr></thead>\n",
       "<thead><tr><th>float64</th><th>float64</th><th>float64</th><th>float64</th><th>float64</th><th>float64</th><th>float64</th><th>str3</th><th>int64</th><th>int64</th><th>float64</th><th>float64</th><th>float64</th><th>float64</th><th>float64</th><th>float64</th></tr></thead>\n",
       "<tr><td>174.37420413726636</td><td>-2.0519345988747837</td><td>0.3359304329984998</td><td>1.7056969977288279</td><td>19.123922215709594</td><td>1254.503238661886</td><td>40.49235893419643</td><td>G12</td><td>0</td><td>0</td><td>-933.926040517658</td><td>91.99678485174377</td><td>-33.62296324712214</td><td>933.9086807157997</td><td>-91.10303154242742</td><td>-36.42217682976647</td></tr>\n",
       "<tr><td>220.4029804185612</td><td>2.3362116784059266</td><td>0.15383787141569427</td><td>0.8641938382476889</td><td>19.20470210886393</td><td>516.183517345691</td><td>38.56402066318472</td><td>G15</td><td>0</td><td>0</td><td>-340.3852624213592</td><td>-289.72109744263673</td><td>18.235956779016316</td><td>340.16098891257684</td><td>290.04669306252765</td><td>17.216525845216935</td></tr>\n",
       "<tr><td>217.6679708597847</td><td>2.2037267013979567</td><td>0.30158433036949694</td><td>1.2794250535298946</td><td>19.15142502476224</td><td>1105.7533551397148</td><td>40.21829132902328</td><td>G15</td><td>0</td><td>0</td><td>-671.9722913409249</td><td>-518.7594321093857</td><td>32.6673549673255</td><td>671.5704545965309</td><td>519.4022317522295</td><td>30.654705622434467</td></tr>\n",
       "<tr><td>215.89111219476248</td><td>2.936762329539373</td><td>0.3386299013461347</td><td>1.2941076944292682</td><td>18.66940304350552</td><td>1266.36900612549</td><td>40.51280136400385</td><td>G15</td><td>0</td><td>0</td><td>-765.3941103445783</td><td>-553.8720120326834</td><td>48.468071514980885</td><td>765.0055676216251</td><td>554.6041946742858</td><td>46.175454272635776</td></tr>\n",
       "<tr><td>132.02237181435433</td><td>1.7744245887461325</td><td>0.20563021394553882</td><td>0.7948749033398567</td><td>19.200868334951373</td><td>713.1201790555166</td><td>39.26581362894001</td><td>G9</td><td>0</td><td>0</td><td>-395.7668865588467</td><td>439.1986660057935</td><td>18.315302335220984</td><td>396.2401061069655</td><td>-438.819739745951</td><td>17.12779434189897</td></tr>\n",
       "<tr><td>223.28297887147755</td><td>-0.4890905464065565</td><td>0.24816422834936702</td><td>1.3752950346229174</td><td>18.86673842725752</td><td>882.8617283376807</td><td>39.72946345377576</td><td>G15</td><td>0</td><td>0</td><td>-514.8995055743692</td><td>-484.9280293208565</td><td>-6.037850016011829</td><td>514.4148159968636</td><td>485.4205352220764</td><td>-7.579654489531594</td></tr>\n",
       "<tr><td>220.12120846787516</td><td>0.24089658458052188</td><td>0.24791416857937287</td><td>0.5931106987271441</td><td>19.22874232184933</td><td>881.8433972216435</td><td>39.72695733744431</td><td>G15</td><td>0</td><td>0</td><td>-540.3613821382736</td><td>-455.3684933012079</td><td>2.971074093850205</td><td>539.9318540760615</td><td>455.88537822497744</td><td>1.3528317428196632</td></tr>\n",
       "<tr><td>134.14388223772949</td><td>-0.2508490889524511</td><td>0.2542422617408704</td><td>1.1484203728804896</td><td>19.68925507176145</td><td>907.6865714039614</td><td>39.789679552029824</td><td>G9</td><td>0</td><td>0</td><td>-504.02040186823325</td><td>519.3122519025678</td><td>-3.168421768123375</td><td>504.50535957749986</td><td>-518.8296968421948</td><td>-4.680513245949569</td></tr>\n",
       "<tr><td>131.29804744041795</td><td>2.6247494550572523</td><td>0.21602167403147776</td><td>1.3166126526544488</td><td>19.16529125194011</td><td>753.9374696602796</td><td>39.386676638449515</td><td>G9</td><td>0</td><td>0</td><td>-408.75806284704265</td><td>465.31151886401415</td><td>28.392741021251403</td><td>409.2864098592816</td><td>-464.920148871691</td><td>27.166176586467294</td></tr>\n",
       "<tr><td>...</td><td>...</td><td>...</td><td>...</td><td>...</td><td>...</td><td>...</td><td>...</td><td>...</td><td>...</td><td>...</td><td>...</td><td>...</td><td>...</td><td>...</td><td>...</td></tr>\n",
       "<tr><td>181.9452347171684</td><td>-2.3441904285415105</td><td>0.3430985324686302</td><td>1.1517467319819283</td><td>19.708719800135906</td><td>1286.0663639257468</td><td>40.54631689870739</td><td>G12</td><td>0</td><td>0</td><td>-956.1842109811026</td><td>-32.47565029857479</td><td>-39.16558252604887</td><td>956.0310169240432</td><td>33.39064634973322</td><td>-42.03112491951855</td></tr>\n",
       "<tr><td>174.4768494221496</td><td>1.1127527747061494</td><td>0.20305247823679484</td><td>0.7336259705767683</td><td>18.96205325804673</td><td>703.0612524479881</td><td>39.234965817427224</td><td>G12</td><td>0</td><td>0</td><td>-581.5749972995957</td><td>56.23647848420591</td><td>11.348993391873003</td><td>581.6599480749146</td><td>-55.67992035633449</td><td>9.605723394819336</td></tr>\n",
       "<tr><td>183.70751061490927</td><td>-2.9209989055933665</td><td>0.2047100424133752</td><td>0.8057804020425174</td><td>19.434092723428485</td><td>709.5264166285264</td><td>39.25484284732847</td><td>G12</td><td>0</td><td>0</td><td>-586.9641119067365</td><td>-38.03453101689058</td><td>-30.012809913503045</td><td>586.8348578242601</td><td>38.59620304050241</td><td>-31.771775655121385</td></tr>\n",
       "<tr><td>130.5111431914663</td><td>0.8760149903104552</td><td>0.06996412398819629</td><td>0.24267315578868465</td><td>18.811491782953244</td><td>221.4203836527306</td><td>36.726087994647</td><td>G9</td><td>0</td><td>0</td><td>-134.41288750102885</td><td>157.3153069083458</td><td>3.163882656677719</td><td>134.57224546965165</td><td>-157.186609810005</td><td>2.760563925998859</td></tr>\n",
       "<tr><td>184.60723160480126</td><td>1.1829768294847827</td><td>0.3280478126959927</td><td>1.5037501632848262</td><td>19.710405067083354</td><td>1219.998652897363</td><td>40.431796755670604</td><td>G12</td><td>0</td><td>0</td><td>-915.4770860034206</td><td>-73.7738338307863</td><td>18.965678737431055</td><td>915.4588009240478</td><td>74.64985669660719</td><td>16.221998374378202</td></tr>\n",
       "<tr><td>213.46207287268427</td><td>-0.5061873518558645</td><td>0.40930800583658256</td><td>1.6530185223504081</td><td>19.71847707585471</td><td>1585.7400986542384</td><td>41.00116004173722</td><td>G15</td><td>0</td><td>0</td><td>-938.6547329435734</td><td>-620.3888535089803</td><td>-9.940519843562074</td><td>938.0266219556913</td><td>621.2868057152261</td><td>-12.751969137473164</td></tr>\n",
       "<tr><td>183.30263775244012</td><td>-0.4093012940019477</td><td>0.11686264439116067</td><td>0.2372356988952939</td><td>19.46586636976761</td><td>382.44594276291076</td><td>37.91285029001196</td><td>G12</td><td>0</td><td>0</td><td>-341.8513664513336</td><td>-19.726816105231006</td><td>-2.446172525762436</td><td>341.82346572925695</td><td>20.053938320237823</td><td>-3.4706790411892317</td></tr>\n",
       "<tr><td>139.52214670677432</td><td>1.6525144803089242</td><td>0.3110498185529402</td><td>1.5643468187610043</td><td>19.345206647630334</td><td>1146.3320910070167</td><td>40.29655225220081</td><td>G9</td><td>0</td><td>0</td><td>-664.8128873923582</td><td>567.3595718574649</td><td>25.21469295256666</td><td>665.428095504476</td><td>-566.7231260363942</td><td>23.220419693988056</td></tr>\n",
       "<tr><td>213.36067676918847</td><td>-0.08279174489649177</td><td>0.04511903106503046</td><td>0.4997914082141579</td><td>17.311065514736832</td><td>140.1550069295862</td><td>35.73304308604518</td><td>G15</td><td>0</td><td>0</td><td>-112.00725103197719</td><td>-73.74492860189339</td><td>-0.193779179794834</td><td>111.93554673894845</td><td>73.85207905552795</td><td>-0.5292674540865122</td></tr>\n",
       "<tr><td>211.63257515594435</td><td>0.4935440259097661</td><td>0.09756931469128594</td><td>0.39707311789752825</td><td>19.422711449338205</td><td>315.0157557170717</td><td>37.49166137926325</td><td>G15</td><td>0</td><td>0</td><td>-244.36139035370545</td><td>-150.52370927526854</td><td>2.472283186120953</td><td>244.22354919374249</td><td>150.75747954475543</td><td>1.7403201596846238</td></tr>\n",
       "</table></div>"
      ],
      "text/plain": [
       "<Table length=209521>\n",
       "        RA                 DEC          ...    ROTCARTESIAN_Z  \n",
       "                                        ...                    \n",
       "     float64             float64        ...       float64      \n",
       "------------------ -------------------- ... -------------------\n",
       "174.37420413726636  -2.0519345988747837 ...  -36.42217682976647\n",
       " 220.4029804185612   2.3362116784059266 ...  17.216525845216935\n",
       " 217.6679708597847   2.2037267013979567 ...  30.654705622434467\n",
       "215.89111219476248    2.936762329539373 ...  46.175454272635776\n",
       "132.02237181435433   1.7744245887461325 ...   17.12779434189897\n",
       "223.28297887147755  -0.4890905464065565 ...  -7.579654489531594\n",
       "220.12120846787516  0.24089658458052188 ...  1.3528317428196632\n",
       "134.14388223772949  -0.2508490889524511 ...  -4.680513245949569\n",
       "131.29804744041795   2.6247494550572523 ...  27.166176586467294\n",
       "               ...                  ... ...                 ...\n",
       " 181.9452347171684  -2.3441904285415105 ...  -42.03112491951855\n",
       " 174.4768494221496   1.1127527747061494 ...   9.605723394819336\n",
       "183.70751061490927  -2.9209989055933665 ... -31.771775655121385\n",
       " 130.5111431914663   0.8760149903104552 ...   2.760563925998859\n",
       "184.60723160480126   1.1829768294847827 ...  16.221998374378202\n",
       "213.46207287268427  -0.5061873518558645 ... -12.751969137473164\n",
       "183.30263775244012  -0.4093012940019477 ... -3.4706790411892317\n",
       "139.52214670677432   1.6525144803089242 ...  23.220419693988056\n",
       "213.36067676918847 -0.08279174489649177 ... -0.5292674540865122\n",
       "211.63257515594435   0.4935440259097661 ...  1.7403201596846238"
      ]
     },
     "execution_count": 17,
     "metadata": {},
     "output_type": "execute_result"
    }
   ],
   "source": [
    "abacus_gold"
   ]
  },
  {
   "cell_type": "code",
   "execution_count": 21,
   "id": "9fced5c6-6508-4382-a67e-fd1d6c9b7542",
   "metadata": {},
   "outputs": [],
   "source": [
    "abacus_gold.meta['GOLD_NGAL'] = len(abacus_gold)\n",
    "abacus_gold.meta['IMMUTABLE'] = 'FALSE'\n",
    "abacus_gold.meta['AREA']      = 180."
   ]
  },
  {
   "cell_type": "code",
   "execution_count": 22,
   "id": "4068e8f1-ea53-4cce-a31c-75f57f07e750",
   "metadata": {},
   "outputs": [
    {
     "data": {
      "text/plain": [
       "'/global/cscratch1/sd/mjwilson/norberg/GAMA4/abacus_gama_gold.fits'"
      ]
     },
     "execution_count": 22,
     "metadata": {},
     "output_type": "execute_result"
    }
   ],
   "source": [
    "opath = findfile(ftype='gold', dryrun=False, survey='abacus_gama')\n",
    "opath"
   ]
  },
  {
   "cell_type": "code",
   "execution_count": 23,
   "id": "3ca1d059-812d-4750-8a38-76fffc1661d0",
   "metadata": {},
   "outputs": [
    {
     "name": "stdout",
     "output_type": "stream",
     "text": [
      "\n",
      "\n",
      "\n",
      "chgrp desi /global/cscratch1/sd/mjwilson/norberg/GAMA4/abacus_gama_gold.fits b''\n",
      "chmod  700 /global/cscratch1/sd/mjwilson/norberg/GAMA4/abacus_gama_gold.fits b''\n"
     ]
    }
   ],
   "source": [
    "write_desitable(opath, abacus_gold)"
   ]
  },
  {
   "cell_type": "markdown",
   "id": "d5597572-8b37-4dca-b2ec-2d2ab398b8aa",
   "metadata": {},
   "source": [
    "# Done."
   ]
  }
 ],
 "metadata": {
  "kernelspec": {
   "display_name": "DESI master",
   "language": "python",
   "name": "desi-master"
  },
  "language_info": {
   "codemirror_mode": {
    "name": "ipython",
    "version": 3
   },
   "file_extension": ".py",
   "mimetype": "text/x-python",
   "name": "python",
   "nbconvert_exporter": "python",
   "pygments_lexer": "ipython3",
   "version": "3.9.7"
  }
 },
 "nbformat": 4,
 "nbformat_minor": 5
}
