{
 "cells": [
  {
   "cell_type": "code",
   "execution_count": 24,
   "id": "ed71acbd-2e9f-4883-ae92-fd6f6875be1a",
   "metadata": {},
   "outputs": [],
   "source": [
    "import os\n",
    "import sys\n",
    "import fitsio\n",
    "import numpy as np\n",
    "import pylab as pl\n",
    "import matplotlib.pyplot as plt\n",
    "import astropy.io.fits as fits\n",
    "\n",
    "from   astropy.table import Table"
   ]
  },
  {
   "cell_type": "code",
   "execution_count": 25,
   "id": "9a7f1cfd-df5f-40a8-87e9-85afdc00e672",
   "metadata": {},
   "outputs": [],
   "source": [
    "#sys.path.append('/global/homes/m/mjwilson/desi/BGS/Sam/DESI/')\n",
    "sys.path.append('/global/u2/l/ldrm11/DESI/')"
   ]
  },
  {
   "cell_type": "code",
   "execution_count": 26,
   "id": "4a9e38ce-82de-46a3-9c38-39880d4e5dbb",
   "metadata": {},
   "outputs": [],
   "source": [
    "from schechter import schechter, named_schechter\n",
    "from delta8_limits import dd8_limits, delta8_tier\n",
    "from gama_limits import gama_field"
   ]
  },
  {
   "cell_type": "code",
   "execution_count": 27,
   "id": "f16ea795-e465-4bbf-8835-936896126da5",
   "metadata": {},
   "outputs": [
    {
     "data": {
      "text/plain": [
       "'/global/cscratch1/sd/ldrm11/norberg/GAMA4/gama_gold_ddp_n8.fits'"
      ]
     },
     "execution_count": 27,
     "metadata": {},
     "output_type": "execute_result"
    }
   ],
   "source": [
    "root = os.environ['CSCRATCH'] + '/norberg/GAMA4/'\n",
    "fpath = root + 'gama_gold_ddp_n8.fits'\n",
    "fpath"
   ]
  },
  {
   "cell_type": "code",
   "execution_count": 28,
   "id": "ffefe5ab-dbf2-4a4d-9020-b36ad7de4e83",
   "metadata": {},
   "outputs": [],
   "source": [
    "#! ls /global/cscratch1/sd/mjwilson/norberg/GAMA4/"
   ]
  },
  {
   "cell_type": "code",
   "execution_count": 29,
   "id": "60d745b8-f73d-4700-936b-f69be6a29090",
   "metadata": {
    "collapsed": true,
    "jupyter": {
     "outputs_hidden": true
    },
    "tags": []
   },
   "outputs": [
    {
     "data": {
      "text/plain": [
       "XTENSION= 'BINTABLE'           / binary table extension                         \n",
       "BITPIX  =                    8 / array data type                                \n",
       "NAXIS   =                    2 / number of array dimensions                     \n",
       "NAXIS1  =                  393 / length of dimension 1                          \n",
       "NAXIS2  =               113687 / length of dimension 2                          \n",
       "PCOUNT  =                    0 / number of group parameters                     \n",
       "GCOUNT  =                    1 / number of groups                               \n",
       "TFIELDS =                   52 / number of table fields                         \n",
       "TTYPE1  = 'CATAID  '                                                            \n",
       "TFORM1  = 'J       '                                                            \n",
       "TTYPE2  = 'OBJID   '                                                            \n",
       "TFORM2  = 'K       '                                                            \n",
       "TTYPE3  = 'RA      '                                                            \n",
       "TFORM3  = 'D       '                                                            \n",
       "TTYPE4  = 'DEC     '                                                            \n",
       "TFORM4  = 'D       '                                                            \n",
       "TTYPE5  = 'R_PETRO '                                                            \n",
       "TFORM5  = 'E       '                                                            \n",
       "TTYPE6  = 'ZGAMA   '                                                            \n",
       "TFORM6  = 'E       '                                                            \n",
       "TTYPE7  = 'NQ      '                                                            \n",
       "TFORM7  = 'I       '                                                            \n",
       "TTYPE8  = 'SPECID  '                                                            \n",
       "TFORM8  = '33A     '                                                            \n",
       "TTYPE9  = 'SURVEY_CLASS'                                                        \n",
       "TFORM9  = 'I       '                                                            \n",
       "TTYPE10 = 'UMAG_DRED_SDSS'                                                      \n",
       "TFORM10 = 'E       '                                                            \n",
       "TTYPE11 = 'GMAG_DRED_SDSS'                                                      \n",
       "TFORM11 = 'E       '                                                            \n",
       "TTYPE12 = 'RMAG_DRED_SDSS'                                                      \n",
       "TFORM12 = 'E       '                                                            \n",
       "TTYPE13 = 'IMAG_DRED_SDSS'                                                      \n",
       "TFORM13 = 'E       '                                                            \n",
       "TTYPE14 = 'ZMAG_DRED_SDSS'                                                      \n",
       "TFORM14 = 'E       '                                                            \n",
       "TTYPE15 = 'LUMDIST '                                                            \n",
       "TFORM15 = 'D       '                                                            \n",
       "TTYPE16 = 'DISTMOD '                                                            \n",
       "TFORM16 = 'D       '                                                            \n",
       "TTYPE17 = 'GMR     '                                                            \n",
       "TFORM17 = 'E       '                                                            \n",
       "TTYPE18 = 'REST_GMR_0P1'                                                        \n",
       "TFORM18 = 'D       '                                                            \n",
       "TTYPE19 = 'REST_GMR_0P1_WARN'                                                   \n",
       "TFORM19 = 'K       '                                                            \n",
       "TTYPE20 = 'REST_GMR_0P1_INDEX'                                                  \n",
       "TFORM20 = 'K       '                                                            \n",
       "TTYPE21 = 'KCORR_R0P1'                                                          \n",
       "TFORM21 = 'D       '                                                            \n",
       "TTYPE22 = 'KCORR_G0P1'                                                          \n",
       "TFORM22 = 'D       '                                                            \n",
       "TTYPE23 = 'KCORR_R0P0'                                                          \n",
       "TFORM23 = 'D       '                                                            \n",
       "TTYPE24 = 'KCORR_G0P0'                                                          \n",
       "TFORM24 = 'D       '                                                            \n",
       "TTYPE25 = 'REST_GMR_0P0'                                                        \n",
       "TFORM25 = 'D       '                                                            \n",
       "TTYPE26 = 'Q_COLOR_0P0'                                                         \n",
       "TFORM26 = 'D       '                                                            \n",
       "TTYPE27 = 'EQ_ALL_0P0'                                                          \n",
       "TFORM27 = 'E       '                                                            \n",
       "TTYPE28 = 'EQ_COLOR_0P0'                                                        \n",
       "TFORM28 = 'E       '                                                            \n",
       "TTYPE29 = 'MALL_0P0'                                                            \n",
       "TFORM29 = 'D       '                                                            \n",
       "TTYPE30 = 'MCOLOR_0P0'                                                          \n",
       "TFORM30 = 'D       '                                                            \n",
       "TTYPE31 = 'Z_THETA_QALL'                                                        \n",
       "TFORM31 = 'D       '                                                            \n",
       "TTYPE32 = 'Z_THETA_QCOLOR'                                                      \n",
       "TFORM32 = 'D       '                                                            \n",
       "TTYPE33 = 'DELTA_RPETRO_FAINT'                                                  \n",
       "TFORM33 = 'E       '                                                            \n",
       "TTYPE34 = 'ZMAX    '                                                            \n",
       "TFORM34 = 'D       '                                                            \n",
       "TTYPE35 = 'ZMAX_WARN'                                                           \n",
       "TFORM35 = 'D       '                                                            \n",
       "TTYPE36 = 'DELTA_RPETRO_BRIGHT'                                                 \n",
       "TFORM36 = 'E       '                                                            \n",
       "TTYPE37 = 'ZMIN    '                                                            \n",
       "TFORM37 = 'D       '                                                            \n",
       "TTYPE38 = 'ZMIN_WARN'                                                           \n",
       "TFORM38 = 'D       '                                                            \n",
       "TTYPE39 = 'DDP     '                                                            \n",
       "TFORM39 = '3K      '                                                            \n",
       "TTYPE40 = 'CARTESIAN_X'                                                         \n",
       "TFORM40 = 'D       '                                                            \n",
       "TTYPE41 = 'CARTESIAN_Y'                                                         \n",
       "TFORM41 = 'D       '                                                            \n",
       "TTYPE42 = 'CARTESIAN_Z'                                                         \n",
       "TFORM42 = 'D       '                                                            \n",
       "TTYPE43 = 'RANDSEP '                                                            \n",
       "TFORM43 = 'D       '                                                            \n",
       "TTYPE44 = 'RANDMATCH'                                                           \n",
       "TFORM44 = 'K       '                                                            \n",
       "TTYPE45 = 'BOUND_DIST'                                                          \n",
       "TFORM45 = 'D       '                                                            \n",
       "TTYPE46 = 'FILLFACTOR'                                                          \n",
       "TFORM46 = 'D       '                                                            \n",
       "TTYPE47 = 'DDP1_N8 '                                                            \n",
       "TFORM47 = 'K       '                                                            \n",
       "TTYPE48 = 'DDP2_N8 '                                                            \n",
       "TFORM48 = 'K       '                                                            \n",
       "TTYPE49 = 'DDP3_N8 '                                                            \n",
       "TFORM49 = 'K       '                                                            \n",
       "TTYPE50 = 'DDP1_DELTA8'                                                         \n",
       "TFORM50 = 'D       '                                                            \n",
       "TTYPE51 = 'DDP2_DELTA8'                                                         \n",
       "TFORM51 = 'D       '                                                            \n",
       "TTYPE52 = 'DDP3_DELTA8'                                                         \n",
       "TFORM52 = 'D       '                                                            \n",
       "HIERARCH DDP1_ZMIN = 0.0390699990093708                                         \n",
       "HIERARCH DDP1_ZMAX = 0.2483299970626831                                         \n",
       "DDP1_VZ =    6451530.309761727                                                  \n",
       "HIERARCH DDP1_NGAL = 34732                                                      \n",
       "HIERARCH DDP1_DENS = 0.005383528919866882                                       \n",
       "HIERARCH DDP2_ZMIN = 0.03914999961853027                                        \n",
       "HIERARCH DDP2_ZMAX = 0.1830800026655197                                         \n",
       "DDP2_VZ =    2679079.755786841                                                  \n",
       "HIERARCH DDP2_NGAL = 26598                                                      \n",
       "HIERARCH DDP2_DENS = 0.009928035902084674                                       \n",
       "HIERARCH DDP3_ZMIN = 0.03903000056743622                                        \n",
       "HIERARCH DDP3_ZMAX = 0.09973999857902527                                        \n",
       "DDP3_VZ =    432372.2344703941                                                  \n",
       "HIERARCH DDP3_NGAL = 7954                                                       \n",
       "HIERARCH DDP3_DENS = 0.01839618589233124                                        \n",
       "VOL8    =    2144.660584850632                                                  "
      ]
     },
     "execution_count": 29,
     "metadata": {},
     "output_type": "execute_result"
    }
   ],
   "source": [
    "#ddps = fits.open(root + '/global/cscratch1/sd/mjwilson/norberg/GAMA4/gama_gold_ddp_n8.fits')\n",
    "ddps = fits.open(root+'gama_gold_ddp_n8.fits')\n",
    "ddps = ddps[1].header\n",
    "ddps"
   ]
  },
  {
   "cell_type": "code",
   "execution_count": 30,
   "id": "5a8e942d-be88-41f2-a7f7-6b9c18759b8c",
   "metadata": {},
   "outputs": [],
   "source": [
    "#! ls /global/cscratch1/sd/mjwilson/desi/BGS/Sam"
   ]
  },
  {
   "cell_type": "code",
   "execution_count": 31,
   "id": "09f3f20c-2943-43a7-9af3-80f755917db1",
   "metadata": {},
   "outputs": [],
   "source": [
    "field = 'G15'"
   ]
  },
  {
   "cell_type": "code",
   "execution_count": 50,
   "id": "07d3c038-e6b3-4120-835e-10a009b87a63",
   "metadata": {},
   "outputs": [],
   "source": [
    "#randoms = Table.read('/global/cscratch1/sd/mjwilson/desi/BGS/Sam/randoms_bd_ddp_n8_G9_0.fits')\n",
    "#randoms = Table.read(root + 'randoms_bd_ddp_n8_G9_0.fits')\n",
    "\n",
    "# TO DO: MOVE RANDOM FILES TO GAMA\n",
    "\n",
    "randoms = Table.read(os.environ['CSCRATCH'] + '/norberg/GAMA4/randoms/' + 'randoms_bd_ddp_n8_{}_0.fits'.format(field))\n"
   ]
  },
  {
   "cell_type": "code",
   "execution_count": null,
   "id": "b1375e59-604e-420e-ae4d-6c4c57a72545",
   "metadata": {},
   "outputs": [],
   "source": [
    "randoms_slice = randoms[np.abs(randoms['CARTESIAN_Z']) < 5.]\n",
    "\n",
    "for idx in np.arange(1, 4, 1):\n",
    "    plt.scatter(randoms_slice['CARTESIAN_X'], randoms_slice['CARTESIAN_Y'], c=randoms_slice['DDP{}_DELTA8'.format(idx)], marker='.', lw=0.0, s=1, vmin=-1., vmax=10., cmap='plasma')\n",
    "\n",
    "    pl.xlabel('x [Mpc/h]')\n",
    "    pl.ylabel('y [Mpc/h]')\n",
    "    \n",
    "    plt.title('DDP{}'.format(idx))\n",
    "    plt.show()"
   ]
  },
  {
   "cell_type": "markdown",
   "id": "567d0c90-6814-497a-9c08-e5f6642b70da",
   "metadata": {},
   "source": [
    "# d8 volume fractions"
   ]
  },
  {
   "cell_type": "code",
   "execution_count": 34,
   "id": "f5adbf5a-3558-4a1a-8e63-7e13c07b2052",
   "metadata": {},
   "outputs": [
    {
     "name": "stdout",
     "output_type": "stream",
     "text": [
      "-99\t\t74.785\n",
      "0\t\t9.844\n",
      "1\t\t9.135\n",
      "2\t\t5.462\n",
      "3\t\t0.775\n"
     ]
    }
   ],
   "source": [
    "tiers  = delta8_tier(randoms['DDP1_DELTA8'])\n",
    "utiers = np.unique(tiers)\n",
    "\n",
    "for ut in utiers:\n",
    "    in_tier = (tiers == ut)\n",
    "    \n",
    "    print('{}\\t\\t{:.3f}'.format(ut, 100. * np.mean(in_tier)))"
   ]
  },
  {
   "cell_type": "code",
   "execution_count": 35,
   "id": "e9c21978-8ff9-40a2-9a40-83c2989d681c",
   "metadata": {},
   "outputs": [],
   "source": [
    "lfs  = {}\n",
    "vs   = {}\n",
    "ddps = {}\n",
    "\n",
    "for i in range(4):\n",
    "    ddps[i] = Table.read(root + 'gama_gold_{}_ddp_n8_d0_{}.fits'.format(field, i))\n",
    "    vs[i]   = Table.read(root + 'gama_gold_{}_ddp_n8_d0_{}_vmax.fits'.format(field, i))\n",
    "    lfs[i]  = Table.read(root + 'gama_gold_{}_ddp_n8_d0_{}_lumfn.fits'.format(field, i))"
   ]
  },
  {
   "cell_type": "code",
   "execution_count": 47,
   "id": "32c0303a-efc2-4149-af4f-67b34abcc186",
   "metadata": {},
   "outputs": [
    {
     "name": "stdout",
     "output_type": "stream",
     "text": [
      "99\n",
      "99\n",
      "99\n",
      "99\n"
     ]
    },
    {
     "data": {
      "text/plain": [
       "Text(0.5, 1.0, 'G15 GAMA Field')"
      ]
     },
     "execution_count": 47,
     "metadata": {},
     "output_type": "execute_result"
    },
    {
     "data": {
      "image/png": "[encoded data removed]",
      "text/plain": [
       "<Figure size 432x288 with 1 Axes>"
      ]
     },
     "metadata": {
      "needs_background": "light"
     },
     "output_type": "display_data"
    }
   ],
   "source": [
    "for key in lfs.keys():\n",
    "    gama_lf = lfs[key]\n",
    "\n",
    "    #sc = named_schechter(gama_lf['MEDIAN_M'], named_type='TMR')\n",
    "    #lims = dd8_limits[key]\n",
    "    #d8 = np.mean(lims)\n",
    "    #sc *=  (1. + d8) / (1. + 0.007)\n",
    "    \n",
    "    sc = gama_lf['D8_REFSCH']\n",
    "    \n",
    "    pl.plot(gama_lf['MEDIAN_M'], np.log10(gama_lf['PHI_IVMAX'] / sc), label=key, marker='.', lw=0.0)\n",
    "    print(len(gama_lf['MEDIAN_M']))\n",
    "    \n",
    "pl.xlabel(r'$M$')\n",
    "pl.ylabel(r'$\\Phi(M)$')\n",
    "\n",
    "#pl.ylim(-3.0,   -.5)\n",
    "#pl.xlim(-15., -23.0)\n",
    "\n",
    "pl.legend(frameon=False, loc=3, ncol=2)\n",
    "pl.title('{} GAMA Field'.format(field))"
   ]
  },
  {
   "cell_type": "markdown",
   "id": "8aeedf56-77b1-4b56-b7a5-6a842f6071f2",
   "metadata": {},
   "source": [
    "G9 lengths: \n",
    "G12 lengths: 21, 23, 25, 21\n",
    "G15 lengths:\n"
   ]
  },
  {
   "cell_type": "code",
   "execution_count": 37,
   "id": "32e7901d-257f-4784-9d51-bfdcffe6903e",
   "metadata": {},
   "outputs": [],
   "source": [
    "# TO DO - match rows by median"
   ]
  },
  {
   "cell_type": "code",
   "execution_count": 38,
   "id": "9584f194-1cd4-47c2-8fe1-5076e215950b",
   "metadata": {},
   "outputs": [
    {
     "name": "stdout",
     "output_type": "stream",
     "text": [
      "/global/cscratch1/sd/ldrm11/norberg/GAMA4/gama_gold_G9_ddp_n8_d0_{}_lumfn.fits\n"
     ]
    }
   ],
   "source": [
    "print(root + 'gama_gold_G9_ddp_n8_d0_{}_lumfn.fits')"
   ]
  },
  {
   "cell_type": "code",
   "execution_count": 39,
   "id": "857f0cd0-fb15-45b8-8a72-14db6d3c2bf2",
   "metadata": {},
   "outputs": [
    {
     "data": {
      "text/plain": [
       "[('MEDIAN_M', '>f8'),\n",
       " ('PHI_N', '>f8'),\n",
       " ('PHI_N_ERROR', '>f8'),\n",
       " ('PHI_IVMAX', '>f8'),\n",
       " ('PHI_IVMAX_ERROR', '>f8'),\n",
       " ('N', '>f8'),\n",
       " ('V_ON_VMAX', '>f8'),\n",
       " ('D8_REFSCH', '>f8')]"
      ]
     },
     "execution_count": 39,
     "metadata": {},
     "output_type": "execute_result"
    }
   ],
   "source": [
    "LF_G9.dtype.descr"
   ]
  },
  {
   "cell_type": "code",
   "execution_count": 40,
   "id": "c70e8dc7-0198-44a3-8825-34ee52dbee7b",
   "metadata": {},
   "outputs": [],
   "source": [
    "LF_G15 = Table.read(root + 'gama_gold_G15_ddp_n8_d0_{}_lumfn.fits'.format(idx))\n"
   ]
  },
  {
   "cell_type": "code",
   "execution_count": 41,
   "id": "af4d69d1-c375-4d77-b750-e8375cd47603",
   "metadata": {},
   "outputs": [
    {
     "data": {
      "text/plain": [
       "[('MEDIAN_M', '>f8'),\n",
       " ('PHI_N', '>f8'),\n",
       " ('PHI_N_ERROR', '>f8'),\n",
       " ('PHI_IVMAX', '>f8'),\n",
       " ('PHI_IVMAX_ERROR', '>f8'),\n",
       " ('N', '>f8'),\n",
       " ('V_ON_VMAX', '>f8'),\n",
       " ('D8_REFSCH', '>f8')]"
      ]
     },
     "execution_count": 41,
     "metadata": {},
     "output_type": "execute_result"
    }
   ],
   "source": [
    "LF_G15.dtype.descr"
   ]
  },
  {
   "cell_type": "code",
   "execution_count": 42,
   "id": "9f80d5aa-21e8-4ef0-a262-a4c5cd70c753",
   "metadata": {},
   "outputs": [
    {
     "name": "stderr",
     "output_type": "stream",
     "text": [
      "<ipython-input-42-fc151544a45a>:20: RuntimeWarning: divide by zero encountered in log10\n",
      "  pl.plot(bin_centres, np.log10(LF_mean), label='d{}'.format(idx))\n",
      "<ipython-input-42-fc151544a45a>:20: RuntimeWarning: divide by zero encountered in log10\n",
      "  pl.plot(bin_centres, np.log10(LF_mean), label='d{}'.format(idx))\n",
      "<ipython-input-42-fc151544a45a>:20: RuntimeWarning: divide by zero encountered in log10\n",
      "  pl.plot(bin_centres, np.log10(LF_mean), label='d{}'.format(idx))\n",
      "<ipython-input-42-fc151544a45a>:20: RuntimeWarning: divide by zero encountered in log10\n",
      "  pl.plot(bin_centres, np.log10(LF_mean), label='d{}'.format(idx))\n"
     ]
    },
    {
     "data": {
      "image/png": "[encoded data removed]",
      "text/plain": [
       "<Figure size 432x288 with 1 Axes>"
      ]
     },
     "metadata": {
      "needs_background": "light"
     },
     "output_type": "display_data"
    }
   ],
   "source": [
    "ref = False\n",
    "\n",
    "Ms = np.arange(-25.5, -15.5 , 0.1)\n",
    "bin_centres =  (Ms[1:]+Ms[:-1])/2\n",
    "\n",
    "for idx in range(4):\n",
    "    LF_G9  = Table.read(root + 'gama_gold_G9_ddp_n8_d0_{}_lumfn.fits'.format(idx))\n",
    "    LF_G12 = Table.read(root + 'gama_gold_G12_ddp_n8_d0_{}_lumfn.fits'.format(idx))\n",
    "    LF_G15 = Table.read(root + 'gama_gold_G15_ddp_n8_d0_{}_lumfn.fits'.format(idx))\n",
    "\n",
    "    if ref == True:\n",
    "        x=np.c_[bin_centres, LF_G9['PHI_IVMAX']/LF_G9['D8_REFSCH'], LF_G12['PHI_IVMAX']/LF_G12['D8_REFSCH'], LF_G15['PHI_IVMAX']/LF_G15['D8_REFSCH']]\n",
    "\n",
    "    else:\n",
    "        x=np.c_[bin_centres, LF_G9['PHI_IVMAX'], LF_G12['PHI_IVMAX'], LF_G15['PHI_IVMAX']]\n",
    "    \n",
    "    LF_mean = np.mean(x[:,1:], axis=1)\n",
    "    LF_std = np.std(x[:,1:], axis=1) / np.sqrt(3)\n",
    "\n",
    "    pl.plot(bin_centres, np.log10(LF_mean), label='d{}'.format(idx))\n",
    "\n",
    "    #pl.errorbar(bin_centres, np.log10(LF_mean), np.log10(LF_std), label='d{}'.format(idx))\n",
    "    \n",
    "    #pl.errorbar(gama_lf['MEDIAN_M'], np.log10(gama_lf['PHI_N']), gama_lf['PHI_N_ERROR'] / gama_lf['PHI_N'] / np.log(10.), label='NOWEIGHT', alpha=0.4)\n",
    "    #pl.errorbar(gama_lf['MEDIAN_M'], np.log10(gama_lf['PHI_IVMAX']), gama_lf['PHI_IVMAX_ERROR'] / gama_lf['PHI_IVMAX'] / np.log(10.), label='IVMAX')\n",
    "\n",
    "    \n",
    "plt.xlabel(r'$M_r$ - 5 log(h)', fontsize=14)\n",
    "\n",
    "if ref == True:\n",
    "    plt.ylabel(r'log $\\phi(L)$ / log $\\phi_0(L)$', fontsize=14)\n",
    "    plt.title(r'GAMA DDP Ratio LFs ')\n",
    "    \n",
    "else:\n",
    "    plt.xlabel(r'$M_r$ - 5 log(h)', fontsize=14)\n",
    "    plt.ylabel(r'log $\\phi(L)$ [h$^3$ Mpc$^{-3}$ Mag$^{-1}$]', fontsize=14)\n",
    "\n",
    "    plt.title(r'GAMA DDP LFs (All Fields)')\n",
    "\n",
    "#pl.ylim(-4.25, -.75)\n",
    "#pl.xlim(-23., -15.5)\n",
    "\n",
    "pl.legend(frameon=True, loc=2)\n",
    "pl.show()"
   ]
  },
  {
   "cell_type": "code",
   "execution_count": null,
   "id": "050b0e25-8869-4f94-b828-a87da707d833",
   "metadata": {},
   "outputs": [],
   "source": []
  },
  {
   "cell_type": "code",
   "execution_count": 46,
   "id": "359381ed-ef91-44e0-a958-07c25bcf5bb4",
   "metadata": {},
   "outputs": [
    {
     "data": {
      "image/png": "[encoded data removed]",
      "text/plain": [
       "<Figure size 432x288 with 1 Axes>"
      ]
     },
     "metadata": {
      "needs_background": "light"
     },
     "output_type": "display_data"
    }
   ],
   "source": [
    "ref = True\n",
    "\n",
    "\n",
    "Ms = np.arange(-25.5, -15.5 , 0.1)\n",
    "bin_centres =  (Ms[1:]+Ms[:-1])/2\n",
    "\n",
    "for idx in range(4):\n",
    "    LF_G9  = Table.read(root + 'gama_gold_G9_ddp_n8_d0_{}_lumfn.fits'.format(idx))\n",
    "    LF_G12 = Table.read(root + 'gama_gold_G12_ddp_n8_d0_{}_lumfn.fits'.format(idx))\n",
    "    LF_G15 = Table.read(root + 'gama_gold_G15_ddp_n8_d0_{}_lumfn.fits'.format(idx))\n",
    "\n",
    "    if ref == True:\n",
    "        x=np.c_[bin_centres, LF_G9['PHI_IVMAX']/LF_G9['D8_REFSCH'], LF_G12['PHI_IVMAX']/LF_G12['D8_REFSCH'], LF_G15['PHI_IVMAX']/LF_G15['D8_REFSCH']]\n",
    "\n",
    "    else:\n",
    "        x=np.c_[bin_centres, LF_G9['PHI_IVMAX'], LF_G12['PHI_IVMAX'], LF_G15['PHI_IVMAX']]\n",
    "    \n",
    "    LF_mean = np.mean(x[:,1:], axis=1)\n",
    "    LF_std = np.std(x[:,1:], axis=1) / np.sqrt(3)\n",
    "\n",
    "    pl.plot(bin_centres, np.log10(LF_mean), label='d{}'.format(idx))\n",
    "\n",
    "    #pl.errorbar(bin_centres, np.log10(LF_mean), np.log10(LF_std), label='d{}'.format(idx))\n",
    "    \n",
    "    #pl.errorbar(gama_lf['MEDIAN_M'], np.log10(gama_lf['PHI_N']), gama_lf['PHI_N_ERROR'] / gama_lf['PHI_N'] / np.log(10.), label='NOWEIGHT', alpha=0.4)\n",
    "    #pl.errorbar(gama_lf['MEDIAN_M'], np.log10(gama_lf['PHI_IVMAX']), gama_lf['PHI_IVMAX_ERROR'] / gama_lf['PHI_IVMAX'] / np.log(10.), label='IVMAX')\n",
    "\n",
    "    \n",
    "plt.xlabel(r'$M_r$ - 5 log(h)', fontsize=14)\n",
    "\n",
    "if ref == True:\n",
    "    plt.ylabel(r'log $\\phi(L)$ / $\\phi_0(L)$', fontsize=14)\n",
    "    plt.title(r'GAMA DDP Ratio LFs ')\n",
    "    \n",
    "else:\n",
    "    plt.xlabel(r'$M_r$ - 5 log(h)', fontsize=14)\n",
    "    plt.ylabel(r'log $\\phi(L)$ [h$^3$ Mpc$^{-3}$ Mag$^{-1}$]', fontsize=14)\n",
    "    plt.title(r'GAMA DDP LFs (All Fields)')\n",
    "\n",
    "#pl.ylim(-4.25, -.75)\n",
    "#pl.xlim(-23., -15.5)\n",
    "\n",
    "pl.legend(frameon=True, loc=2)\n",
    "pl.show()"
   ]
  },
  {
   "cell_type": "code",
   "execution_count": null,
   "id": "44317cc7-c6b8-406c-b7f4-4f8df9e305da",
   "metadata": {},
   "outputs": [],
   "source": []
  },
  {
   "cell_type": "code",
   "execution_count": null,
   "id": "072feb39-9362-463f-9f08-bb28efedf965",
   "metadata": {},
   "outputs": [],
   "source": []
  },
  {
   "cell_type": "code",
   "execution_count": null,
   "id": "f2b88444-d11f-482d-8b3d-f7d072f324de",
   "metadata": {},
   "outputs": [],
   "source": []
  },
  {
   "cell_type": "code",
   "execution_count": 43,
   "id": "2261b8d1-a0e8-4c0d-816e-db07793f3b6c",
   "metadata": {},
   "outputs": [
    {
     "name": "stderr",
     "output_type": "stream",
     "text": [
      "<ipython-input-43-ffde29437399>:15: RuntimeWarning: divide by zero encountered in log10\n",
      "  pl.plot(bin_centres, np.log10(LF_mean), label='d{}'.format(idx))\n",
      "<ipython-input-43-ffde29437399>:15: RuntimeWarning: divide by zero encountered in log10\n",
      "  pl.plot(bin_centres, np.log10(LF_mean), label='d{}'.format(idx))\n",
      "<ipython-input-43-ffde29437399>:15: RuntimeWarning: divide by zero encountered in log10\n",
      "  pl.plot(bin_centres, np.log10(LF_mean), label='d{}'.format(idx))\n",
      "<ipython-input-43-ffde29437399>:15: RuntimeWarning: divide by zero encountered in log10\n",
      "  pl.plot(bin_centres, np.log10(LF_mean), label='d{}'.format(idx))\n"
     ]
    },
    {
     "data": {
      "image/png": "[encoded data removed]",
      "text/plain": [
       "<Figure size 432x288 with 1 Axes>"
      ]
     },
     "metadata": {
      "needs_background": "light"
     },
     "output_type": "display_data"
    }
   ],
   "source": [
    "Ms = np.arange(-25.5, -15.5 , 0.1)\n",
    "bin_centres =  (Ms[1:]+Ms[:-1])/2\n",
    "\n",
    "for idx in range(4):\n",
    "    LF_G9  = Table.read(root + 'gama_gold_G9_ddp_n8_d0_{}_lumfn.fits'.format(idx))\n",
    "    LF_G12 = Table.read(root + 'gama_gold_G12_ddp_n8_d0_{}_lumfn.fits'.format(idx))\n",
    "    LF_G15 = Table.read(root + 'gama_gold_G15_ddp_n8_d0_{}_lumfn.fits'.format(idx))\n",
    "\n",
    "    x=np.c_[bin_centres, LF_G9['PHI_IVMAX'], LF_G12['PHI_IVMAX'], LF_G15['PHI_IVMAX']]\n",
    "    LF_mean = np.mean(x[:,1:], axis=1)\n",
    "    LF_std = np.std(x[:,1:], axis=1) / np.sqrt(3)\n",
    "\n",
    "    #sc = named_schechter(Ms, named_type='TMR')\n",
    "\n",
    "    pl.plot(bin_centres, np.log10(LF_mean), label='d{}'.format(idx))\n",
    "\n",
    "    #pl.errorbar(bin_centres, np.log10(LF_mean), np.log10(LF_std), label='d{}'.format(idx))\n",
    "    \n",
    "    #pl.errorbar(gama_lf['MEDIAN_M'], np.log10(gama_lf['PHI_N']), gama_lf['PHI_N_ERROR'] / gama_lf['PHI_N'] / np.log(10.), label='NOWEIGHT', alpha=0.4)\n",
    "    #pl.errorbar(gama_lf['MEDIAN_M'], np.log10(gama_lf['PHI_IVMAX']), gama_lf['PHI_IVMAX_ERROR'] / gama_lf['PHI_IVMAX'] / np.log(10.), label='IVMAX')\n",
    "\n",
    "plt.xlabel(r'$M_r$ - 5 log(h)', fontsize=14)\n",
    "plt.ylabel(r'log $\\phi(L)$ [h$^3$ Mpc$^{-3}$ Mag$^{-1}$]', fontsize=14)\n",
    "\n",
    "plt.title(r'GAMA DDP LFs (All Fields)')\n",
    "\n",
    "#pl.ylim(-4.25, -.75)\n",
    "#pl.xlim(-23., -15.5)\n",
    "\n",
    "pl.legend(frameon=True, loc=2)\n",
    "pl.show()"
   ]
  },
  {
   "cell_type": "code",
   "execution_count": null,
   "id": "22ce4a60-5c71-4fba-9693-af26af11bb34",
   "metadata": {},
   "outputs": [],
   "source": []
  },
  {
   "cell_type": "code",
   "execution_count": null,
   "id": "4ee9bd67-9761-4ddf-9864-7dd3be6010a9",
   "metadata": {},
   "outputs": [],
   "source": []
  },
  {
   "cell_type": "code",
   "execution_count": 82,
   "id": "6605c950-fdf0-4ee6-90c0-fec8a9c4c645",
   "metadata": {},
   "outputs": [],
   "source": [
    "rand_G9 = Table.read('/global/cscratch1/sd/ldrm11/desi/BGS/Sam/randoms_bd_ddp_n8_G9_0.fits')"
   ]
  },
  {
   "cell_type": "code",
   "execution_count": 83,
   "id": "edbe8727-1fae-4b51-85f0-5a255a870a4a",
   "metadata": {},
   "outputs": [
    {
     "data": {
      "text/plain": [
       "OrderedDict([('FORCE_ZMIN', 0.04025999829173088),\n",
       "             ('FORCE_ZMAX', 0.248319998383522),\n",
       "             ('AREA', 60.0),\n",
       "             ('VOL', 2149368.785882801)])"
      ]
     },
     "execution_count": 83,
     "metadata": {},
     "output_type": "execute_result"
    }
   ],
   "source": [
    "LF_G9.meta"
   ]
  },
  {
   "cell_type": "code",
   "execution_count": 84,
   "id": "fcfd3a51-cb27-4ffe-81f2-29d317b3517a",
   "metadata": {},
   "outputs": [
    {
     "data": {
      "text/plain": [
       "OrderedDict([('ZMIN', 0.0),\n",
       "             ('ZMAX', 0.3),\n",
       "             ('DZ', 0.0001),\n",
       "             ('NRAND', 1840387),\n",
       "             ('FIELD', 'G9'),\n",
       "             ('AREA', 60.0),\n",
       "             ('BOUND_PERCENT', 1.0),\n",
       "             ('VOL', 3680772.579023961),\n",
       "             ('RAND_DENS', 0.5),\n",
       "             ('VOL8', 2144.660584850632),\n",
       "             ('NRAND8', 1072.330292425316),\n",
       "             ('NRAND8_PERR', 32.74645465428763),\n",
       "             ('RSPHERE', 8.0),\n",
       "             ('DDP1_ZMIN', 0.0390699990093708),\n",
       "             ('DDP1_ZMAX', 0.2483299970626831),\n",
       "             ('DDP1_VZ', 6451530.309761727),\n",
       "             ('DDP1_NGAL', 34732),\n",
       "             ('DDP1_DENS', 0.005383528919866882),\n",
       "             ('DDP2_ZMIN', 0.03914999961853027),\n",
       "             ('DDP2_ZMAX', 0.1830800026655197),\n",
       "             ('DDP2_VZ', 2679079.755786841),\n",
       "             ('DDP2_NGAL', 26598),\n",
       "             ('DDP2_DENS', 0.009928035902084674),\n",
       "             ('DDP3_ZMIN', 0.03903000056743622),\n",
       "             ('DDP3_ZMAX', 0.09973999857902527),\n",
       "             ('DDP3_VZ', 432372.2344703941),\n",
       "             ('DDP3_NGAL', 7954),\n",
       "             ('DDP3_DENS', 0.01839618589233124),\n",
       "             ('DDP1_d-99_VOLFRAC', 0.5777439010211702),\n",
       "             ('DDP1_d-99_TIERMEDd8', -0.5491462009124984),\n",
       "             ('DDP1_d0_VOLFRAC', 0.1611038200641964),\n",
       "             ('DDP1_d0_TIERMEDd8', -0.8622019545815648),\n",
       "             ('DDP1_d1_VOLFRAC', 0.1547111582781389),\n",
       "             ('DDP1_d1_TIERMEDd8', -0.2241871380857072),\n",
       "             ('DDP1_d2_VOLFRAC', 0.09317957957064156),\n",
       "             ('DDP1_d2_TIERMEDd8', 1.06590454552861),\n",
       "             ('DDP1_d3_VOLFRAC', 0.01326154106585288),\n",
       "             ('DDP1_d3_TIERMEDd8', 4.887118386949571)])"
      ]
     },
     "execution_count": 84,
     "metadata": {},
     "output_type": "execute_result"
    }
   ],
   "source": [
    "rand_G9.meta"
   ]
  },
  {
   "cell_type": "code",
   "execution_count": null,
   "id": "64bcfe1d-ff62-4b2b-aaf1-702bfe046152",
   "metadata": {},
   "outputs": [],
   "source": []
  },
  {
   "cell_type": "code",
   "execution_count": 23,
   "id": "d944d062-a257-42c0-8aab-55bb31411b8e",
   "metadata": {},
   "outputs": [
    {
     "data": {
      "text/plain": [
       "array([-25.45, -25.35, -25.25, -25.15, -25.05, -24.95, -24.85, -24.75,\n",
       "       -24.65, -24.55, -24.45, -24.35, -24.25, -24.15, -24.05, -23.95,\n",
       "       -23.85, -23.75, -23.65, -23.55, -23.45, -23.35, -23.25, -23.15,\n",
       "       -23.05, -22.95, -22.85, -22.75, -22.65, -22.55, -22.45, -22.35,\n",
       "       -22.25, -22.15, -22.05, -21.95, -21.85, -21.75, -21.65, -21.55,\n",
       "       -21.45, -21.35, -21.25, -21.15, -21.05, -20.95, -20.85, -20.75,\n",
       "       -20.65, -20.55, -20.45, -20.35, -20.25, -20.15, -20.05, -19.95,\n",
       "       -19.85, -19.75, -19.65, -19.55, -19.45, -19.35, -19.25, -19.15,\n",
       "       -19.05, -18.95, -18.85, -18.75, -18.65, -18.55, -18.45, -18.35,\n",
       "       -18.25, -18.15, -18.05, -17.95, -17.85, -17.75, -17.65, -17.55,\n",
       "       -17.45, -17.35, -17.25, -17.15, -17.05, -16.95, -16.85, -16.75,\n",
       "       -16.65, -16.55, -16.45, -16.35, -16.25, -16.15, -16.05, -15.95,\n",
       "       -15.85, -15.75, -15.65])"
      ]
     },
     "execution_count": 23,
     "metadata": {},
     "output_type": "execute_result"
    }
   ],
   "source": [
    "bin_centres"
   ]
  },
  {
   "cell_type": "code",
   "execution_count": 22,
   "id": "c495e6d1-c866-48f9-8092-86f63936a04b",
   "metadata": {},
   "outputs": [
    {
     "data": {
      "text/plain": [
       "array([0.00000000e+00, 0.00000000e+00, 0.00000000e+00, 0.00000000e+00,\n",
       "       0.00000000e+00, 0.00000000e+00, 0.00000000e+00, 0.00000000e+00,\n",
       "       0.00000000e+00, 0.00000000e+00, 0.00000000e+00, 0.00000000e+00,\n",
       "       0.00000000e+00, 0.00000000e+00, 0.00000000e+00, 0.00000000e+00,\n",
       "       0.00000000e+00, 0.00000000e+00, 0.00000000e+00, 0.00000000e+00,\n",
       "       0.00000000e+00, 0.00000000e+00, 0.00000000e+00, 0.00000000e+00,\n",
       "       0.00000000e+00, 0.00000000e+00, 0.00000000e+00, 0.00000000e+00,\n",
       "       0.00000000e+00, 0.00000000e+00, 0.00000000e+00, 7.27413068e-07,\n",
       "       0.00000000e+00, 0.00000000e+00, 0.00000000e+00, 0.00000000e+00,\n",
       "       3.63706534e-07, 7.27413068e-07, 0.00000000e+00, 1.10207447e-06,\n",
       "       2.19319408e-06, 1.09111960e-06, 1.11302935e-06, 2.60072010e-06,\n",
       "       1.47673588e-06, 3.36099779e-06, 5.92885327e-06, 6.62340172e-06,\n",
       "       6.31446955e-06, 7.38367941e-06, 1.14611354e-05, 8.13300222e-06,\n",
       "       1.03700158e-05, 1.14282708e-05, 8.89327990e-06, 1.94309410e-05,\n",
       "       2.22356914e-05, 2.35647498e-05, 1.50019535e-05, 2.19006241e-05,\n",
       "       2.70141526e-05, 3.15448869e-05, 2.93393162e-05, 2.11262229e-05,\n",
       "       2.37664288e-05, 3.12433347e-05, 3.72994423e-05, 3.07621370e-05,\n",
       "       2.75485994e-05, 3.80345166e-05, 3.00177515e-05, 3.58608476e-05,\n",
       "       2.03611465e-05, 5.63147845e-05, 3.41683254e-05, 6.16687937e-05,\n",
       "       4.65285132e-05, 5.13757377e-05, 3.88386089e-05, 9.28868792e-05,\n",
       "       6.92006515e-05, 1.14348175e-04, 8.48356759e-05, 9.75960188e-05,\n",
       "       8.00516755e-05, 2.55966184e-05, 1.71235921e-04, 9.60007634e-05,\n",
       "       6.93302691e-05, 1.24092134e-04, 1.44921874e-04, 3.57821132e-05,\n",
       "       1.42845546e-04, 1.19317972e-04, 7.98945095e-05, 4.71030909e-04,\n",
       "       1.32043484e-04, 0.00000000e+00, 3.56029595e-04])"
      ]
     },
     "execution_count": 22,
     "metadata": {},
     "output_type": "execute_result"
    }
   ],
   "source": [
    "LF_mean"
   ]
  },
  {
   "cell_type": "code",
   "execution_count": null,
   "id": "5e0ca5c2-8cc6-4b96-a891-cb3050e79d64",
   "metadata": {},
   "outputs": [],
   "source": []
  },
  {
   "cell_type": "code",
   "execution_count": 25,
   "id": "d44f0743-db8b-4e65-ae56-f92be8f022b9",
   "metadata": {},
   "outputs": [
    {
     "name": "stderr",
     "output_type": "stream",
     "text": [
      "<ipython-input-25-8d064ff610fc>:3: RuntimeWarning: divide by zero encountered in log10\n",
      "  pl.plot(bin_centres, np.log10(LF_mean), label='TMR')\n"
     ]
    },
    {
     "data": {
      "text/plain": [
       "<matplotlib.legend.Legend at 0x2aaae7142160>"
      ]
     },
     "execution_count": 25,
     "metadata": {},
     "output_type": "execute_result"
    },
    {
     "data": {
      "image/png": "[encoded data removed]",
      "text/plain": [
       "<Figure size 432x288 with 1 Axes>"
      ]
     },
     "metadata": {
      "needs_background": "light"
     },
     "output_type": "display_data"
    }
   ],
   "source": [
    "#sc = named_schechter(Ms, named_type='TMR')\n",
    "\n",
    "pl.plot(bin_centres, np.log10(LF_mean), label='TMR')\n",
    "\n",
    "#pl.errorbar(gama_lf['MEDIAN_M'], np.log10(gama_lf['PHI_N']), gama_lf['PHI_N_ERROR'] / gama_lf['PHI_N'] / np.log(10.), label='NOWEIGHT', alpha=0.4)\n",
    "#pl.errorbar(gama_lf['MEDIAN_M'], np.log10(gama_lf['PHI_IVMAX']), gama_lf['PHI_IVMAX_ERROR'] / gama_lf['PHI_IVMAX'] / np.log(10.), label='IVMAX')\n",
    "\n",
    "pl.xlabel(r'$M$')\n",
    "pl.ylabel(r'$\\Phi(M)$')\n",
    "\n",
    "#pl.ylim(-4.25, -.75)\n",
    "#pl.xlim(-23., -15.5)\n",
    "\n",
    "pl.legend(frameon=True, loc=2)"
   ]
  },
  {
   "cell_type": "code",
   "execution_count": null,
   "id": "4558dc0e-a46c-44dc-aa38-aacbc0f91413",
   "metadata": {},
   "outputs": [],
   "source": []
  },
  {
   "cell_type": "markdown",
   "id": "de5afc5b-8a2a-4215-a28a-2f9d7dfa6c78",
   "metadata": {},
   "source": [
    "# Done."
   ]
  },
  {
   "cell_type": "code",
   "execution_count": 9,
   "id": "c9f8de19-1f71-4abc-bbba-6b9d4b54e515",
   "metadata": {},
   "outputs": [
    {
     "data": {
      "text/plain": [
       "OrderedDict([('ZMIN', 0.0),\n",
       "             ('ZMAX', 0.3),\n",
       "             ('DZ', 0.0001),\n",
       "             ('NRAND', 1840387),\n",
       "             ('FIELD', 'G12'),\n",
       "             ('AREA', 60.0),\n",
       "             ('BOUND_PERCENT', 1.0),\n",
       "             ('VOL', 3680772.579023961),\n",
       "             ('RAND_DENS', 0.5),\n",
       "             ('VOL8', 2144.660584850632),\n",
       "             ('NRAND8', 1072.330292425316),\n",
       "             ('NRAND8_PERR', 32.74645465428763),\n",
       "             ('RSPHERE', 8.0),\n",
       "             ('DDP1_ZMIN', 0.0390699990093708),\n",
       "             ('DDP1_ZMAX', 0.2483299970626831),\n",
       "             ('DDP1_VZ', 6451530.309761727),\n",
       "             ('DDP1_NGAL', 34732),\n",
       "             ('DDP1_DENS', 0.005383528919866882),\n",
       "             ('DDP2_ZMIN', 0.03914999961853027),\n",
       "             ('DDP2_ZMAX', 0.1830800026655197),\n",
       "             ('DDP2_VZ', 2679079.755786841),\n",
       "             ('DDP2_NGAL', 26598),\n",
       "             ('DDP2_DENS', 0.009928035902084674),\n",
       "             ('DDP3_ZMIN', 0.03903000056743622),\n",
       "             ('DDP3_ZMAX', 0.09973999857902527),\n",
       "             ('DDP3_VZ', 432372.2344703941),\n",
       "             ('DDP3_NGAL', 7954),\n",
       "             ('DDP3_DENS', 0.01839618589233124),\n",
       "             ('DDP1_d-99_VOLFRAC', 0.5777113470909343),\n",
       "             ('DDP1_d0_VOLFRAC', 0.161035921866847),\n",
       "             ('DDP1_d1_VOLFRAC', 0.1547399917592051),\n",
       "             ('DDP1_d2_VOLFRAC', 0.09324282720652864),\n",
       "             ('DDP1_d3_VOLFRAC', 0.01326991207648499)])"
      ]
     },
     "execution_count": 9,
     "metadata": {},
     "output_type": "execute_result"
    }
   ],
   "source": [
    "Table.read('/global/cscratch1/sd/ldrm11/desi/BGS/Sam/randoms_bd_ddp_n8_G12_0.fits').meta\n"
   ]
  },
  {
   "cell_type": "code",
   "execution_count": 8,
   "id": "a8fe2abd-f0b9-45d1-b5ca-699ab539c3e5",
   "metadata": {},
   "outputs": [
    {
     "data": {
      "text/plain": [
       "OrderedDict([('ZMIN', 0.0),\n",
       "             ('ZMAX', 0.3),\n",
       "             ('DZ', 0.0001),\n",
       "             ('NRAND', 1000),\n",
       "             ('FIELD', 'G15'),\n",
       "             ('AREA', 60.0),\n",
       "             ('BOUND_PERCENT', 1.0),\n",
       "             ('VOL', 3680772.579023961),\n",
       "             ('RAND_DENS', 0.5),\n",
       "             ('VOL8', 2144.660584850632),\n",
       "             ('NRAND8', 1072.330292425316),\n",
       "             ('NRAND8_PERR', 32.74645465428763),\n",
       "             ('RSPHERE', 8.0),\n",
       "             ('DDP1_ZMIN', 0.0390699990093708),\n",
       "             ('DDP1_ZMAX', 0.2483299970626831),\n",
       "             ('DDP1_VZ', 6451530.309761727),\n",
       "             ('DDP1_NGAL', 34732),\n",
       "             ('DDP1_DENS', 0.005383528919866882),\n",
       "             ('DDP2_ZMIN', 0.03914999961853027),\n",
       "             ('DDP2_ZMAX', 0.1830800026655197),\n",
       "             ('DDP2_VZ', 2679079.755786841),\n",
       "             ('DDP2_NGAL', 26598),\n",
       "             ('DDP2_DENS', 0.009928035902084674),\n",
       "             ('DDP3_ZMIN', 0.03903000056743622),\n",
       "             ('DDP3_ZMAX', 0.09973999857902527),\n",
       "             ('DDP3_VZ', 432372.2344703941),\n",
       "             ('DDP3_NGAL', 7954),\n",
       "             ('DDP3_DENS', 0.01839618589233124),\n",
       "             ('DDP1_d-99_VOLFRAC', 0.1391752577319588),\n",
       "             ('DDP1_d-99_TIERMEDd8', -1.0),\n",
       "             ('DDP1_d3_VOLFRAC', 0.8608247422680413),\n",
       "             ('DDP1_d3_TIERMEDd8', 463.3794130601266)])"
      ]
     },
     "execution_count": 8,
     "metadata": {},
     "output_type": "execute_result"
    }
   ],
   "source": [
    "Table.read('/global/cscratch1/sd/ldrm11/norberg/GAMA4/randoms/randoms_bd_ddp_n8_G15_0_dryrun.fits').meta"
   ]
  },
  {
   "cell_type": "code",
   "execution_count": null,
   "id": "4f986ac5-a892-4da7-bb79-49dd3dea4873",
   "metadata": {},
   "outputs": [],
   "source": []
  }
 ],
 "metadata": {
  "kernelspec": {
   "display_name": "DESI master",
   "language": "python",
   "name": "desi-master"
  },
  "language_info": {
   "codemirror_mode": {
    "name": "ipython",
    "version": 3
   },
   "file_extension": ".py",
   "mimetype": "text/x-python",
   "name": "python",
   "nbconvert_exporter": "python",
   "pygments_lexer": "ipython3",
   "version": "3.8.3"
  }
 },
 "nbformat": 4,
 "nbformat_minor": 5
}
