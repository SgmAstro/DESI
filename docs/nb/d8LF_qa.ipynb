{
 "cells": [
  {
   "cell_type": "code",
   "execution_count": 1,
   "id": "8009df7e",
   "metadata": {},
   "outputs": [],
   "source": [
    "import os\n",
    "import sys\n",
    "import fitsio\n",
    "import numpy             as np\n",
    "import pylab             as pl\n",
    "import matplotlib.pyplot as plt\n",
    "import astropy.io.fits   as fits"
   ]
  },
  {
   "cell_type": "code",
   "execution_count": 2,
   "id": "6914469a",
   "metadata": {},
   "outputs": [],
   "source": [
    "sys.path.append('{}/DESI'.format(os.environ['HOME']))"
   ]
  },
  {
   "cell_type": "code",
   "execution_count": 3,
   "id": "7708d441",
   "metadata": {},
   "outputs": [],
   "source": [
    "import pubplot\n",
    "\n",
    "from schechter     import schechter, named_schechter\n",
    "from gama_limits   import gama_field\n",
    "from delta8_limits import d8_limits, delta8_tier\n",
    "from findfile      import findfile, fetch_fields\n",
    "from lumfn         import multifield_lumfn\n",
    "from astropy.table import Table"
   ]
  },
  {
   "cell_type": "code",
   "execution_count": 4,
   "id": "e1eb9dc6",
   "metadata": {},
   "outputs": [],
   "source": [
    "version = 'GAMA4'\n",
    "survey  = 'gama'\n",
    "field   = 'G12'\n",
    "dryrun  = False"
   ]
  },
  {
   "cell_type": "code",
   "execution_count": 5,
   "id": "017bcce6",
   "metadata": {},
   "outputs": [],
   "source": [
    "fields  = fetch_fields(survey)"
   ]
  },
  {
   "cell_type": "code",
   "execution_count": 6,
   "id": "75daee77",
   "metadata": {},
   "outputs": [
    {
     "data": {
      "text/plain": [
       "'/cosma/home/durham/dc-wils7/data/GAMA4/gama_gold_ddp_n8.fits'"
      ]
     },
     "execution_count": 6,
     "metadata": {},
     "output_type": "execute_result"
    }
   ],
   "source": [
    "# TODO: clean up root below in LF cells\n",
    "root    = '{}/data/GAMA4/'.format(os.environ['HOME'])\n",
    "fpath   =  findfile(ftype='ddp_n8', version=version, dryrun=dryrun, survey=survey)\n",
    "fpath"
   ]
  },
  {
   "cell_type": "code",
   "execution_count": 7,
   "id": "f99574a7",
   "metadata": {},
   "outputs": [],
   "source": [
    "fpath   = findfile(ftype='randoms_bd_ddp_n8', field=field, version=version, dryrun=dryrun, survey=survey)\n",
    "randoms = Table.read(fpath)"
   ]
  },
  {
   "cell_type": "code",
   "execution_count": null,
   "id": "7c1aee65",
   "metadata": {},
   "outputs": [],
   "source": [
    "randoms_slice = randoms[np.abs(randoms['ROTCARTESIAN_Z']) < 5.]\n",
    "\n",
    "for idx in np.arange(1, 4, 1):\n",
    "    plt.scatter(randoms_slice['ROTCARTESIAN_X'],\\\n",
    "                randoms_slice['ROTCARTESIAN_Y'],\\\n",
    "                c=randoms_slice['DDP{}_DELTA8'.format(idx)],\\\n",
    "                marker='.',\\\n",
    "                lw=0.0,\\\n",
    "                s=1,\\\n",
    "                vmin=-1.,\\\n",
    "                vmax=10.,\\\n",
    "                cmap='plasma')\n",
    "\n",
    "    pl.xlabel('x [Mpc/h]')\n",
    "    pl.ylabel('y [Mpc/h]')\n",
    "    \n",
    "    plt.title('DDP{}'.format(idx))\n",
    "    plt.show()"
   ]
  },
  {
   "cell_type": "code",
   "execution_count": null,
   "id": "53061314",
   "metadata": {},
   "outputs": [],
   "source": [
    "colors    = plt.rcParams['axes.prop_cycle'].by_key()['color']\n",
    "\n",
    "fig, ax   = plt.subplots(1, 1, figsize=(10,10))\n",
    "\n",
    "for i in np.arange(0, 9, 1):\n",
    "    lfs   = [findfile(ftype='ddp_n8_d0_lumfn', survey=survey, field=field, version=version, utier=i)]\n",
    "    lf    = multifield_lumfn(lfs, ext='LUMFN')\n",
    "\n",
    "    ddp   = Table.read(findfile(ftype='ddp_n8_d0', survey=survey, field=field, version=version, utier=i))\n",
    "\n",
    "    refs  = [findfile(ftype='ddp_n8_d0_lumfn', survey=survey, field=field, version=version, utier=i)]\n",
    "    ref   = multifield_lumfn(refs, ext='REFERENCE')\n",
    "\n",
    "    label = ddp.meta['D8{}LIMS'.format(i)]\n",
    "\n",
    "    ax.plot(ref['MS'], np.log10(ref['REFSCHECHTER'.format(i)]), label=label, alpha=0.5, c=colors[i])\n",
    "    ax.plot(lf['MEDIAN_M'], np.log10(lf['PHI_IVMAX']), label='', marker='.', lw=0.0, c=colors[i], markersize=6)\n",
    "    \n",
    "ax.set_xlabel(r'$M_r^e - 5 \\log_{10}(h)$')\n",
    "ax.set_ylabel(r'$\\log_{10} \\left[ \\frac{\\phi_\\delta(M)}{h^{-3} {\\rm Mpc}^{3} {\\rm Mag}^{}} \\right] $')\n",
    "\n",
    "ax.set_xlim(-16., -23.0)\n",
    "ax.set_ylim(-5, -0.5)\n",
    "\n",
    "ax.legend(frameon=False, loc=3, ncol=2, fontsize=10)\n",
    "ax.set_title('G9/12/15')"
   ]
  },
  {
   "cell_type": "code",
   "execution_count": null,
   "id": "30c866a6",
   "metadata": {},
   "outputs": [],
   "source": [
    "colors    = plt.rcParams['axes.prop_cycle'].by_key()['color']\n",
    "\n",
    "fig, ax   = plt.subplots(1, 1, figsize=(10,10))\n",
    "\n",
    "for i in np.arange(0, 9, 1)[::-1]:\n",
    "    for field in fields:\n",
    "        lf  = Table.read(findfile(ftype='ddp_n8_d0_lumfn', survey=survey, field=field, version=version, utier=i), 'LUMFN')\n",
    "        ddp = Table.read(findfile(ftype='ddp_n8_d0', survey=survey, field=field, version=version, utier=i), 'DDP')\n",
    "\n",
    "        ref = Table.read(findfile(ftype='ddp_n8_d0_lumfn', survey=survey, field=field, version=version, utier=i), 'REFERENCE')\n",
    "\n",
    "        label = ddp.meta['D8{}LIMS'.format(i)]\n",
    "\n",
    "        # ax.plot(ref['MS'], np.log10(ref['REFSCHECHTER'.format(i)]), label=label, alpha=0.5, c=colors[i])\n",
    "        ax.plot(lf['MEDIAN_M'], np.log10(lf['PHI_IVMAX']), label='', lw=2.0, c=colors[i])\n",
    "    \n",
    "ax.set_xlabel(r'$M_r^e - 5 \\log_{10}(h)$')\n",
    "ax.set_ylabel(r'$\\log_{10} \\left[ \\frac{\\phi_\\delta(M)}{h^{-3} {\\rm Mpc}^{3} {\\rm Mag}^{}} \\right] $')\n",
    "\n",
    "ax.set_xlim(-16., -23.0)\n",
    "ax.set_ylim(-5, -0.5)\n",
    "\n",
    "ax.legend(frameon=False, loc=3, ncol=2, fontsize=10)\n",
    "ax.set_title('G9/12/15')"
   ]
  },
  {
   "cell_type": "code",
   "execution_count": null,
   "id": "2e57301c",
   "metadata": {},
   "outputs": [],
   "source": [
    "colors    = plt.rcParams['axes.prop_cycle'].by_key()['color']\n",
    "\n",
    "fig, ax   = plt.subplots(1, 1, figsize=(10,10))\n",
    "\n",
    "ax.axhline(0.0, lw=0.5, c='k')\n",
    "\n",
    "for i in np.arange(0, 9, 1):\n",
    "    lfs   = [findfile(ftype='ddp_n8_d0_lumfn', survey=survey, field=field, version=version, utier=i)]\n",
    "    lf    = multifield_lumfn(lfs, ext='LUMFN')\n",
    "\n",
    "    ddp   = Table.read(findfile(ftype='ddp_n8_d0', survey=survey, field=field, version=version, utier=i))\n",
    "    ref   = Table.read(findfile(ftype='ddp_n8_d0_lumfn', survey=survey, field=field, version=version, utier=i), 'REFERENCE')\n",
    "\n",
    "    label = ddp.meta['D8{}LIMS'.format(i)]\n",
    "\n",
    "    ax.plot(lf['MEDIAN_M'], np.log10(lf['REF_RATIO']), label=label, lw=2.0, c=colors[i], markersize=4)\n",
    "    \n",
    "ax.set_xlabel(r'$M_r^e - 5 \\log_{10}(h)$')\n",
    "ax.set_ylabel(r'$\\log_{10} \\left[ \\frac{\\phi_\\delta}{\\phi_{\\rm ref.}} \\right] $')\n",
    "\n",
    "ax.set_xlim(-16.5, -23.0)\n",
    "ax.set_ylim(-1.5,    1.1)\n",
    "\n",
    "ax.legend(frameon=False, loc=3, ncol=3, fontsize=10)\n",
    "ax.set_title('G9/12/15')"
   ]
  },
  {
   "cell_type": "markdown",
   "id": "9b482f1b",
   "metadata": {},
   "source": [
    "# Done."
   ]
  }
 ],
 "metadata": {
  "kernelspec": {
   "display_name": "lumfn",
   "language": "python",
   "name": "lumfn"
  },
  "language_info": {
   "codemirror_mode": {
    "name": "ipython",
    "version": 3
   },
   "file_extension": ".py",
   "mimetype": "text/x-python",
   "name": "python",
   "nbconvert_exporter": "python",
   "pygments_lexer": "ipython3",
   "version": "3.9.9"
  }
 },
 "nbformat": 4,
 "nbformat_minor": 5
}
