{
 "cells": [
  {
   "cell_type": "code",
   "execution_count": 1,
   "id": "90e23205-832d-4db5-9908-149ee5af3af5",
   "metadata": {},
   "outputs": [],
   "source": [
    "from cosmo import cosmo"
   ]
  },
  {
   "cell_type": "code",
   "execution_count": null,
   "id": "7eb70f56-3b6d-43bf-b7ef-446bb441d514",
   "metadata": {},
   "outputs": [],
   "source": [
    "fpath = os.environ['CSCRATCH'] + ''"
   ]
  },
  {
   "cell_type": "code",
   "execution_count": null,
   "id": "47e3db08-69e1-446b-b83d-47097d018581",
   "metadata": {},
   "outputs": [],
   "source": [
    "data = fitsio.read(fpath)"
   ]
  },
  {
   "cell_type": "code",
   "execution_count": null,
   "id": "49065613-a8d3-4d52-b877-e9b61095ede1",
   "metadata": {},
   "outputs": [],
   "source": [
    "data['D_L'] = cosmo.luminosity_distance(data['Z'])"
   ]
  },
  {
   "cell_type": "code",
   "execution_count": null,
   "id": "80966ae0-aaf3-4de9-ae1b-f93b693459a9",
   "metadata": {},
   "outputs": [],
   "source": [
    "data['DIST_MODULUS'] = -5*np.log10(data['D_L'])"
   ]
  },
  {
   "cell_type": "code",
   "execution_count": null,
   "id": "e38eaaaf-c6f6-405e-ba99-58148b6ed12b",
   "metadata": {},
   "outputs": [],
   "source": []
  },
  {
   "cell_type": "code",
   "execution_count": null,
   "id": "262c26f2-1811-4ff0-b03c-382f9df46648",
   "metadata": {},
   "outputs": [],
   "source": []
  },
  {
   "cell_type": "code",
   "execution_count": null,
   "id": "a13bec14-e7b4-43e0-95b5-c688b7c18d40",
   "metadata": {},
   "outputs": [],
   "source": []
  },
  {
   "cell_type": "code",
   "execution_count": null,
   "id": "53074af1-72aa-470f-b39c-472789fd3088",
   "metadata": {},
   "outputs": [],
   "source": []
  },
  {
   "cell_type": "code",
   "execution_count": null,
   "id": "7502a5a7-d53a-41fb-94fa-a8d39a2b8b87",
   "metadata": {},
   "outputs": [],
   "source": []
  },
  {
   "cell_type": "code",
   "execution_count": null,
   "id": "d062a0e5-5cc3-4fd4-854b-808cd46a9706",
   "metadata": {},
   "outputs": [],
   "source": []
  },
  {
   "cell_type": "code",
   "execution_count": null,
   "id": "645d9608-301f-4e0e-a18b-6108eee146b8",
   "metadata": {},
   "outputs": [],
   "source": [
    "def e_correction(z, Q, z_ref):\n",
    "    return -1*Q*(z - z_ref)"
   ]
  },
  {
   "cell_type": "code",
   "execution_count": null,
   "id": "a53e48fc-a81a-4d8c-a2f5-199fac9b362a",
   "metadata": {},
   "outputs": [],
   "source": [
    "def absolute_magnitude_r(r, dl, K, E):\n",
    "    return r - 5*np.log10(dl) - 25 - K - E"
   ]
  },
  {
   "cell_type": "code",
   "execution_count": null,
   "id": "ac75aff1-df98-4529-9948-abda31db11c1",
   "metadata": {},
   "outputs": [],
   "source": []
  },
  {
   "cell_type": "code",
   "execution_count": null,
   "id": "fe1b3449-c9b9-423d-bc7d-781176e4d945",
   "metadata": {},
   "outputs": [],
   "source": []
  },
  {
   "cell_type": "code",
   "execution_count": null,
   "id": "62c17e64-ea89-46d9-9c80-e10d5f887a94",
   "metadata": {},
   "outputs": [],
   "source": [
    "randoms.write(fpath.replace('', ''), format='fits', overwrite=True)\n"
   ]
  }
 ],
 "metadata": {
  "kernelspec": {
   "display_name": "DESI master",
   "language": "python",
   "name": "desi-master"
  },
  "language_info": {
   "codemirror_mode": {
    "name": "ipython",
    "version": 3
   },
   "file_extension": ".py",
   "mimetype": "text/x-python",
   "name": "python",
   "nbconvert_exporter": "python",
   "pygments_lexer": "ipython3",
   "version": "3.8.3"
  }
 },
 "nbformat": 4,
 "nbformat_minor": 5
}
