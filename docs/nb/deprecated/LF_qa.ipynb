{
 "cells": [
  {
   "cell_type": "code",
   "execution_count": 62,
   "id": "a00729a2-c06b-46bb-8092-2ea47bc207ec",
   "metadata": {},
   "outputs": [],
   "source": [
    "import os\n",
    "import fitsio\n",
    "import numpy as np\n",
    "import matplotlib.pyplot as plt\n",
    "from astropy.table import Table\n",
    "from schechter import schechter, named_schechter"
   ]
  },
  {
   "cell_type": "code",
   "execution_count": 63,
   "id": "c561f342-df1e-4211-866c-cd941ff3f85b",
   "metadata": {},
   "outputs": [],
   "source": [
    "fpath = os.environ['CSCRATCH'] + '/norberg/GAMA4/gama_gold_ddp_n8.fits'\n",
    "\n",
    "dat = fitsio.read(fpath)\n",
    "dat = Table(dat)"
   ]
  },
  {
   "cell_type": "code",
   "execution_count": 64,
   "id": "044784f8-bb40-4b57-8714-753caff6cd00",
   "metadata": {},
   "outputs": [],
   "source": [
    "dat['PHI'] = named_schechter(dat['MCOLOR_0P0'], named_type='TMR', zz=None, evolve=False)\n",
    "# (rho - rho_bar) / rho\n",
    "dat['RHO_DDP1'] = dat['DDP1_N8'] / dat['FILLFACTOR'] / ( (4./3) * np.pi * 8.**3 )\n",
    "dat['RHO_DDP2'] = dat['DDP2_N8'] / dat['FILLFACTOR'] / ( (4./3) * np.pi * 8.**3 )\n",
    "dat['RHO_DDP3'] = dat['DDP3_N8'] / dat['FILLFACTOR'] / ( (4./3) * np.pi * 8.**3 )\n",
    "\n",
    "rho_bar_DDP1 = 0.005383528919866882 #len(DDP1) / area_DDP1\n",
    "rho_bar_DDP2 = 0.009928035902084674 #len(DDP2) / area_DDP2\n",
    "rho_bar_DDP3 = 0.018396185892331243 #len(DDP3) / area_DDP3\n",
    "\n",
    "dat['DELTA8_DDP1'] = ((dat['RHO_DDP1'] - rho_bar_DDP1) / rho_bar_DDP1)\n",
    "dat['DELTA8_DDP2'] = ((dat['RHO_DDP2'] - rho_bar_DDP2) / rho_bar_DDP2)\n",
    "dat['DELTA8_DDP3'] = ((dat['RHO_DDP3'] - rho_bar_DDP3) / rho_bar_DDP3)"
   ]
  },
  {
   "cell_type": "code",
   "execution_count": 65,
   "id": "c676a597-d50b-47cc-8b04-82465f143ec5",
   "metadata": {},
   "outputs": [],
   "source": [
    "DDP1 = dat[dat['DDP'][:,0] == 1]\n",
    "DDP2 = dat[dat['DDP'][:,1] == 1]\n",
    "DDP3 = dat[dat['DDP'][:,2] == 1]"
   ]
  },
  {
   "cell_type": "code",
   "execution_count": null,
   "id": "ccceadf5-6780-413f-a0c5-bb70f283f6bb",
   "metadata": {},
   "outputs": [],
   "source": []
  },
  {
   "cell_type": "code",
   "execution_count": null,
   "id": "c374aee1-ce93-41b9-abae-259c6dbaf414",
   "metadata": {},
   "outputs": [],
   "source": [
    "dat['PHI_DDP1_D8'] = named_schechter(dat['MCOLOR_0P0'], named_type='TMR', zz=None, evolve=False)\n",
    "dat['PHI_DDP1_D8'] = named_schechter(dat['MCOLOR_0P0'], named_type='TMR', zz=None, evolve=False)"
   ]
  },
  {
   "cell_type": "code",
   "execution_count": null,
   "id": "8d85bfe4-d422-4540-a9e4-4dd5e250c6e9",
   "metadata": {},
   "outputs": [],
   "source": []
  },
  {
   "cell_type": "code",
   "execution_count": null,
   "id": "f6e7447c-f751-472d-9f6a-c9aee42299bb",
   "metadata": {},
   "outputs": [],
   "source": []
  },
  {
   "cell_type": "code",
   "execution_count": 70,
   "id": "6b411760-3bbc-4176-83da-0ab4b3e70d90",
   "metadata": {},
   "outputs": [
    {
     "data": {
      "image/png": "[encoded data removed]",
      "text/plain": [
       "<Figure size 576x576 with 4 Axes>"
      ]
     },
     "metadata": {
      "needs_background": "light"
     },
     "output_type": "display_data"
    }
   ],
   "source": [
    "fig, ax = plt.subplots(2, 2, figsize=(8,8), sharex=True, sharey=True)\n",
    "ax[0,0].scatter(dat[dat['DELTA8_DDP1'] < -0.75]['MCOLOR_0P0'], np.log10(dat[dat['DELTA8_DDP1'] < -0.75]['PHI']), s=0.25)\n",
    "ax[0,0].scatter(dat[(dat['DELTA8_DDP1'] < -0) & (dat['DELTA8_DDP1'] > -0.4)]['MCOLOR_0P0'], np.log10(dat[(dat['DELTA8_DDP1'] < -0) & (dat['DELTA8_DDP1'] > -0.4)]['PHI']), s=0.25)\n",
    "\n",
    "ax[0,1].scatter(dat[dat['DELTA8_DDP2'] < -0.75]['MCOLOR_0P0'], np.log10(dat[dat['DELTA8_DDP2'] < -0.75]['PHI']), s=0.25)\n",
    "\n",
    "ax[1,0].set_xlabel(r'$M_r$ - 5 log(h)')\n",
    "ax[1,1].set_xlabel(r'$M_r$ - 5 log(h)')\n",
    "ax[0,0].set_ylabel(r'log $\\phi(L)$ [h$^3$ Mpc$^{-3}$ Mag$^{-1}$]')\n",
    "\n",
    "plt.gca().invert_xaxis()"
   ]
  },
  {
   "cell_type": "code",
   "execution_count": null,
   "id": "619632d8-4200-4518-a0dc-e8ca5dd7739c",
   "metadata": {},
   "outputs": [],
   "source": []
  },
  {
   "cell_type": "code",
   "execution_count": null,
   "id": "6ba4b981-eadb-4bbe-ba57-a586dd6a8ac8",
   "metadata": {},
   "outputs": [],
   "source": []
  },
  {
   "cell_type": "code",
   "execution_count": 61,
   "id": "b1ad5d22-4dcd-4276-9f8b-43739332bd6d",
   "metadata": {},
   "outputs": [
    {
     "data": {
      "text/plain": [
       "[<matplotlib.lines.Line2D at 0x2aaad745c0a0>]"
      ]
     },
     "execution_count": 61,
     "metadata": {},
     "output_type": "execute_result"
    },
    {
     "data": {
      "image/png": "[encoded data removed]",
      "text/plain": [
       "<Figure size 432x288 with 1 Axes>"
      ]
     },
     "metadata": {
      "needs_background": "light"
     },
     "output_type": "display_data"
    }
   ],
   "source": [
    "plt.plot(dat['CARTESIAN_X'], dat['CARTESIAN_Y'], c=dat['] marker=',', lw=0.0, c='k')"
   ]
  },
  {
   "cell_type": "code",
   "execution_count": null,
   "id": "b6e69494-c779-46b9-bcdc-ccdb03d036d7",
   "metadata": {},
   "outputs": [],
   "source": []
  },
  {
   "cell_type": "code",
   "execution_count": null,
   "id": "be32f891-91e9-4751-8adf-d9f978c6ee5b",
   "metadata": {},
   "outputs": [],
   "source": []
  },
  {
   "cell_type": "code",
   "execution_count": null,
   "id": "e8279144-f91e-4683-911f-48ccada9f97d",
   "metadata": {},
   "outputs": [],
   "source": []
  },
  {
   "cell_type": "code",
   "execution_count": null,
   "id": "e4b29209-9db6-4cdd-bd53-dfee63989f67",
   "metadata": {},
   "outputs": [],
   "source": []
  },
  {
   "cell_type": "code",
   "execution_count": null,
   "id": "85f5a6a9-e9d6-480d-9e11-df19c643b860",
   "metadata": {},
   "outputs": [],
   "source": []
  }
 ],
 "metadata": {
  "kernelspec": {
   "display_name": "DESI master",
   "language": "python",
   "name": "desi-master"
  },
  "language_info": {
   "codemirror_mode": {
    "name": "ipython",
    "version": 3
   },
   "file_extension": ".py",
   "mimetype": "text/x-python",
   "name": "python",
   "nbconvert_exporter": "python",
   "pygments_lexer": "ipython3",
   "version": "3.8.3"
  }
 },
 "nbformat": 4,
 "nbformat_minor": 5
}
