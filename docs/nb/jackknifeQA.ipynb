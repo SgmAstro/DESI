{
 "cells": [
  {
   "cell_type": "code",
   "execution_count": 3,
   "id": "58e36a38",
   "metadata": {},
   "outputs": [],
   "source": [
    "import os\n",
    "import sys\n",
    "import fitsio\n",
    "import pylab as pl\n",
    "import numpy as np\n",
    "import matplotlib.pyplot as plt\n",
    "import astropy.io.fits as fits"
   ]
  },
  {
   "cell_type": "code",
   "execution_count": 6,
   "id": "f6f2b0da",
   "metadata": {},
   "outputs": [],
   "source": [
    "os.environ['CODE_ROOT'] = os.environ['HOME'] + '/DESI/'\n",
    "\n",
    "sys.path.append(os.environ['CODE_ROOT'])"
   ]
  },
  {
   "cell_type": "code",
   "execution_count": 8,
   "id": "871edbc5",
   "metadata": {},
   "outputs": [],
   "source": [
    "from astropy.table    import Table\n",
    "from cosmo            import cosmo, fsky\n",
    "from gama_limits      import gama_field\n",
    "#from jackknife_limits import jk_field\n",
    "from findfile         import findfile\n",
    "import pubplot"
   ]
  },
  {
   "cell_type": "code",
   "execution_count": 9,
   "id": "72f9d3b7",
   "metadata": {},
   "outputs": [],
   "source": [
    "survey = 'gama'\n",
    "version = 'GAMA4'"
   ]
  },
  {
   "cell_type": "code",
   "execution_count": 26,
   "id": "588b3399",
   "metadata": {},
   "outputs": [
    {
     "ename": "KeyError",
     "evalue": "'CSCRATCH'",
     "output_type": "error",
     "traceback": [
      "\u001b[0;31m---------------------------------------------------------------------------\u001b[0m",
      "\u001b[0;31mKeyError\u001b[0m                                  Traceback (most recent call last)",
      "\u001b[0;32m/tmp/ipykernel_148291/3804581618.py\u001b[0m in \u001b[0;36m<module>\u001b[0;34m\u001b[0m\n\u001b[1;32m      3\u001b[0m \u001b[0;31m#dat = Table.read(fpath)\u001b[0m\u001b[0;34m\u001b[0m\u001b[0;34m\u001b[0m\u001b[0m\n\u001b[1;32m      4\u001b[0m \u001b[0;34m\u001b[0m\u001b[0m\n\u001b[0;32m----> 5\u001b[0;31m \u001b[0mdat\u001b[0m \u001b[0;34m=\u001b[0m \u001b[0mTable\u001b[0m\u001b[0;34m.\u001b[0m\u001b[0mread\u001b[0m\u001b[0;34m(\u001b[0m\u001b[0mos\u001b[0m\u001b[0;34m.\u001b[0m\u001b[0menviron\u001b[0m\u001b[0;34m[\u001b[0m\u001b[0;34m'CSCRATCH'\u001b[0m\u001b[0;34m]\u001b[0m \u001b[0;34m+\u001b[0m \u001b[0;34m'/norberg/GAMA4/gama_gold_ddp_n8.fits'\u001b[0m\u001b[0;34m)\u001b[0m\u001b[0;34m\u001b[0m\u001b[0;34m\u001b[0m\u001b[0m\n\u001b[0m",
      "\u001b[0;32m~/.conda/envs/lumfn/lib/python3.9/os.py\u001b[0m in \u001b[0;36m__getitem__\u001b[0;34m(self, key)\u001b[0m\n\u001b[1;32m    677\u001b[0m         \u001b[0;32mexcept\u001b[0m \u001b[0mKeyError\u001b[0m\u001b[0;34m:\u001b[0m\u001b[0;34m\u001b[0m\u001b[0;34m\u001b[0m\u001b[0m\n\u001b[1;32m    678\u001b[0m             \u001b[0;31m# raise KeyError with the original key value\u001b[0m\u001b[0;34m\u001b[0m\u001b[0;34m\u001b[0m\u001b[0m\n\u001b[0;32m--> 679\u001b[0;31m             \u001b[0;32mraise\u001b[0m \u001b[0mKeyError\u001b[0m\u001b[0;34m(\u001b[0m\u001b[0mkey\u001b[0m\u001b[0;34m)\u001b[0m \u001b[0;32mfrom\u001b[0m \u001b[0;32mNone\u001b[0m\u001b[0;34m\u001b[0m\u001b[0;34m\u001b[0m\u001b[0m\n\u001b[0m\u001b[1;32m    680\u001b[0m         \u001b[0;32mreturn\u001b[0m \u001b[0mself\u001b[0m\u001b[0;34m.\u001b[0m\u001b[0mdecodevalue\u001b[0m\u001b[0;34m(\u001b[0m\u001b[0mvalue\u001b[0m\u001b[0;34m)\u001b[0m\u001b[0;34m\u001b[0m\u001b[0;34m\u001b[0m\u001b[0m\n\u001b[1;32m    681\u001b[0m \u001b[0;34m\u001b[0m\u001b[0m\n",
      "\u001b[0;31mKeyError\u001b[0m: 'CSCRATCH'"
     ]
    }
   ],
   "source": [
    "# TODO: Fix\n",
    "#fpath = findfile(ftype='ddp_n8', survey=survey, version=version)\n",
    "#dat = Table.read(fpath)\n",
    "\n",
    "dat = Table.read(os.environ['CSCRATCH'] + '/norberg/GAMA4/gama_gold_ddp_n8.fits')"
   ]
  },
  {
   "cell_type": "code",
   "execution_count": 5,
   "id": "d942d98c",
   "metadata": {},
   "outputs": [],
   "source": [
    "isin = gama_field(dat['RA'], dat['DEC']) == 'G9'\n",
    "G9 = dat[isin]\n",
    "\n",
    "isin = gama_field(dat['RA'], dat['DEC']) == 'G12'\n",
    "G12 = dat[isin]\n",
    "\n",
    "isin = gama_field(dat['RA'], dat['DEC']) == 'G15'\n",
    "G15 = dat[isin]"
   ]
  },
  {
   "cell_type": "code",
   "execution_count": 6,
   "id": "496fd992",
   "metadata": {},
   "outputs": [
    {
     "data": {
      "text/plain": [
       "array(['JK1', 'JK0', 'JK0', ..., 'JK2', 'JK0', 'JK2'], dtype='<U4')"
      ]
     },
     "execution_count": 6,
     "metadata": {},
     "output_type": "execute_result"
    }
   ],
   "source": [
    "jk_field(G9['RA'], G9['DEC'])"
   ]
  },
  {
   "cell_type": "code",
   "execution_count": 7,
   "id": "186e7db1",
   "metadata": {},
   "outputs": [
    {
     "data": {
      "text/plain": [
       "array(['JK4', 'JK5', 'JK5', ..., 'JK3', 'JK5', 'JK4'], dtype='<U4')"
      ]
     },
     "execution_count": 7,
     "metadata": {},
     "output_type": "execute_result"
    }
   ],
   "source": [
    "jk_field(G12['RA'], G12['DEC'])"
   ]
  },
  {
   "cell_type": "code",
   "execution_count": 8,
   "id": "13b85835",
   "metadata": {},
   "outputs": [
    {
     "data": {
      "text/plain": [
       "array(['JK7', 'JK7', 'JK6', ..., 'JK6', 'JK6', 'JK6'], dtype='<U4')"
      ]
     },
     "execution_count": 8,
     "metadata": {},
     "output_type": "execute_result"
    }
   ],
   "source": [
    "jk_field(G15['RA'], G15['DEC'])"
   ]
  },
  {
   "cell_type": "code",
   "execution_count": 9,
   "id": "5d1e65a7",
   "metadata": {},
   "outputs": [
    {
     "data": {
      "text/plain": [
       "<matplotlib.collections.PathCollection at 0x2aaad9dc7610>"
      ]
     },
     "execution_count": 9,
     "metadata": {},
     "output_type": "execute_result"
    },
    {
     "data": {
      "image/png": "[encoded data removed]",
      "text/plain": [
       "<Figure size 432x288 with 1 Axes>"
      ]
     },
     "metadata": {
      "needs_background": "light"
     },
     "output_type": "display_data"
    }
   ],
   "source": [
    "plt.scatter(G9['RA'], G9['DEC'])"
   ]
  },
  {
   "cell_type": "code",
   "execution_count": 10,
   "id": "423b257e",
   "metadata": {},
   "outputs": [],
   "source": [
    "isin = jk_field(dat['RA'], dat['DEC']) == 'JK0'\n",
    "JK0 = dat[isin]\n",
    "\n",
    "isin = jk_field(dat['RA'], dat['DEC']) == 'JK1'\n",
    "JK1 = dat[isin]\n",
    "\n",
    "isin = jk_field(dat['RA'], dat['DEC']) == 'JK2'\n",
    "JK2 = dat[isin]"
   ]
  },
  {
   "cell_type": "code",
   "execution_count": 11,
   "id": "67c056bd",
   "metadata": {},
   "outputs": [
    {
     "data": {
      "text/plain": [
       "<matplotlib.collections.PathCollection at 0x2aaad9e7a880>"
      ]
     },
     "execution_count": 11,
     "metadata": {},
     "output_type": "execute_result"
    },
    {
     "data": {
      "image/png": "[encoded data removed]",
      "text/plain": [
       "<Figure size 432x288 with 1 Axes>"
      ]
     },
     "metadata": {
      "needs_background": "light"
     },
     "output_type": "display_data"
    }
   ],
   "source": [
    "plt.scatter(JK0['RA'], JK0['DEC'])\n",
    "plt.scatter(JK1['RA'], JK1['DEC'])\n",
    "plt.scatter(JK2['RA'], JK2['DEC'])"
   ]
  },
  {
   "cell_type": "code",
   "execution_count": 27,
   "id": "b27906b2",
   "metadata": {},
   "outputs": [
    {
     "data": {
      "text/plain": [
       "'/cosma/home/durham/dc-moor2/data/GAMA4/gama_gold_lumfn_test.fits'"
      ]
     },
     "execution_count": 27,
     "metadata": {},
     "output_type": "execute_result"
    }
   ],
   "source": [
    "# TODO: Fix\n",
    "#fpath = findfile(ftype='lumfn', version=version, survey=survey)\n",
    "\n",
    "fpath = '/cosma/home/durham/dc-moor2/data/GAMA4/gama_gold_lumfn_test.fits'\n",
    "fpath"
   ]
  },
  {
   "cell_type": "code",
   "execution_count": 28,
   "id": "e5d2d9ce",
   "metadata": {},
   "outputs": [],
   "source": [
    "lumfn = Table.read(fpath, hdu=1)"
   ]
  },
  {
   "cell_type": "code",
   "execution_count": 29,
   "id": "bc70f3de",
   "metadata": {},
   "outputs": [],
   "source": [
    "# TODO: take from header.\n",
    "jackknife = 15"
   ]
  },
  {
   "cell_type": "code",
   "execution_count": 48,
   "id": "5e745974",
   "metadata": {},
   "outputs": [
    {
     "name": "stderr",
     "output_type": "stream",
     "text": [
      "/tmp/ipykernel_148291/2848131390.py:1: RuntimeWarning: divide by zero encountered in log10\n",
      "  plt.errorbar(lumfn['MEDIAN_M'], np.log10(lumfn['PHI_JK']), yerr=lumfn['PHI_ERR']*50)\n"
     ]
    },
    {
     "data": {
      "text/plain": [
       "Text(0.5, 1.0, 'GAMA')"
      ]
     },
     "execution_count": 48,
     "metadata": {},
     "output_type": "execute_result"
    },
    {
     "data": {
      "image/png": "[encoded data removed]",
      "text/plain": [
       "<Figure size 432x288 with 1 Axes>"
      ]
     },
     "metadata": {
      "needs_background": "light"
     },
     "output_type": "display_data"
    }
   ],
   "source": [
    "plt.errorbar(lumfn['MEDIAN_M'], np.log10(lumfn['PHI_JK']), yerr=lumfn['PHI_ERR'])\n",
    "\n",
    "plt.xlabel(r'$M_r^e - 5 \\log_{10}(h)$')\n",
    "plt.ylabel(r'$\\log_{10} \\left[ \\frac{\\phi_\\delta(M)}{h^{-3} {\\rm Mpc}^{3} {\\rm Mag}^{}} \\right] $')\n",
    "plt.title(survey.upper())"
   ]
  },
  {
   "cell_type": "code",
   "execution_count": 40,
   "id": "48a58846",
   "metadata": {},
   "outputs": [
    {
     "name": "stderr",
     "output_type": "stream",
     "text": [
      "/tmp/ipykernel_148291/198963838.py:3: RuntimeWarning: divide by zero encountered in log10\n",
      "  plt.plot(lumfn['MEDIAN_M'], np.log10(lumfn['PHI_IVMAX']))\n",
      "WARNING: AstropyDeprecationWarning: Specified hdu=2 not found, reading in first available table (hdu=1) instead. This will result in an error in future versions! [astropy.io.fits.connect]\n",
      "/tmp/ipykernel_148291/198963838.py:3: RuntimeWarning: divide by zero encountered in log10\n",
      "  plt.plot(lumfn['MEDIAN_M'], np.log10(lumfn['PHI_IVMAX']))\n",
      "WARNING: AstropyDeprecationWarning: Specified hdu=3 not found, reading in first available table (hdu=1) instead. This will result in an error in future versions! [astropy.io.fits.connect]\n",
      "/tmp/ipykernel_148291/198963838.py:3: RuntimeWarning: divide by zero encountered in log10\n",
      "  plt.plot(lumfn['MEDIAN_M'], np.log10(lumfn['PHI_IVMAX']))\n",
      "WARNING: AstropyDeprecationWarning: Specified hdu=4 not found, reading in first available table (hdu=1) instead. This will result in an error in future versions! [astropy.io.fits.connect]\n",
      "/tmp/ipykernel_148291/198963838.py:3: RuntimeWarning: divide by zero encountered in log10\n",
      "  plt.plot(lumfn['MEDIAN_M'], np.log10(lumfn['PHI_IVMAX']))\n",
      "WARNING: AstropyDeprecationWarning: Specified hdu=5 not found, reading in first available table (hdu=1) instead. This will result in an error in future versions! [astropy.io.fits.connect]\n",
      "/tmp/ipykernel_148291/198963838.py:3: RuntimeWarning: divide by zero encountered in log10\n",
      "  plt.plot(lumfn['MEDIAN_M'], np.log10(lumfn['PHI_IVMAX']))\n",
      "WARNING: AstropyDeprecationWarning: Specified hdu=6 not found, reading in first available table (hdu=1) instead. This will result in an error in future versions! [astropy.io.fits.connect]\n",
      "/tmp/ipykernel_148291/198963838.py:3: RuntimeWarning: divide by zero encountered in log10\n",
      "  plt.plot(lumfn['MEDIAN_M'], np.log10(lumfn['PHI_IVMAX']))\n",
      "WARNING: AstropyDeprecationWarning: Specified hdu=7 not found, reading in first available table (hdu=1) instead. This will result in an error in future versions! [astropy.io.fits.connect]\n",
      "/tmp/ipykernel_148291/198963838.py:3: RuntimeWarning: divide by zero encountered in log10\n",
      "  plt.plot(lumfn['MEDIAN_M'], np.log10(lumfn['PHI_IVMAX']))\n",
      "WARNING: AstropyDeprecationWarning: Specified hdu=8 not found, reading in first available table (hdu=1) instead. This will result in an error in future versions! [astropy.io.fits.connect]\n",
      "/tmp/ipykernel_148291/198963838.py:3: RuntimeWarning: divide by zero encountered in log10\n",
      "  plt.plot(lumfn['MEDIAN_M'], np.log10(lumfn['PHI_IVMAX']))\n",
      "WARNING: AstropyDeprecationWarning: Specified hdu=9 not found, reading in first available table (hdu=1) instead. This will result in an error in future versions! [astropy.io.fits.connect]\n",
      "/tmp/ipykernel_148291/198963838.py:3: RuntimeWarning: divide by zero encountered in log10\n",
      "  plt.plot(lumfn['MEDIAN_M'], np.log10(lumfn['PHI_IVMAX']))\n",
      "WARNING: AstropyDeprecationWarning: Specified hdu=10 not found, reading in first available table (hdu=1) instead. This will result in an error in future versions! [astropy.io.fits.connect]\n",
      "/tmp/ipykernel_148291/198963838.py:3: RuntimeWarning: divide by zero encountered in log10\n",
      "  plt.plot(lumfn['MEDIAN_M'], np.log10(lumfn['PHI_IVMAX']))\n",
      "WARNING: AstropyDeprecationWarning: Specified hdu=11 not found, reading in first available table (hdu=1) instead. This will result in an error in future versions! [astropy.io.fits.connect]\n",
      "/tmp/ipykernel_148291/198963838.py:3: RuntimeWarning: divide by zero encountered in log10\n",
      "  plt.plot(lumfn['MEDIAN_M'], np.log10(lumfn['PHI_IVMAX']))\n",
      "WARNING: AstropyDeprecationWarning: Specified hdu=12 not found, reading in first available table (hdu=1) instead. This will result in an error in future versions! [astropy.io.fits.connect]\n",
      "/tmp/ipykernel_148291/198963838.py:3: RuntimeWarning: divide by zero encountered in log10\n",
      "  plt.plot(lumfn['MEDIAN_M'], np.log10(lumfn['PHI_IVMAX']))\n",
      "WARNING: AstropyDeprecationWarning: Specified hdu=13 not found, reading in first available table (hdu=1) instead. This will result in an error in future versions! [astropy.io.fits.connect]\n",
      "/tmp/ipykernel_148291/198963838.py:3: RuntimeWarning: divide by zero encountered in log10\n",
      "  plt.plot(lumfn['MEDIAN_M'], np.log10(lumfn['PHI_IVMAX']))\n",
      "WARNING: AstropyDeprecationWarning: Specified hdu=14 not found, reading in first available table (hdu=1) instead. This will result in an error in future versions! [astropy.io.fits.connect]\n",
      "/tmp/ipykernel_148291/198963838.py:3: RuntimeWarning: divide by zero encountered in log10\n",
      "  plt.plot(lumfn['MEDIAN_M'], np.log10(lumfn['PHI_IVMAX']))\n",
      "WARNING: AstropyDeprecationWarning: Specified hdu=15 not found, reading in first available table (hdu=1) instead. This will result in an error in future versions! [astropy.io.fits.connect]\n",
      "/tmp/ipykernel_148291/198963838.py:3: RuntimeWarning: divide by zero encountered in log10\n",
      "  plt.plot(lumfn['MEDIAN_M'], np.log10(lumfn['PHI_IVMAX']))\n",
      "/tmp/ipykernel_148291/198963838.py:5: RuntimeWarning: divide by zero encountered in log10\n",
      "  plt.plot(lumfn['MEDIAN_M'], np.log10(lumfn['PHI_JK']), color='black')\n",
      "/tmp/ipykernel_148291/198963838.py:6: RuntimeWarning: divide by zero encountered in log10\n",
      "  plt.errorbar(lumfn['MEDIAN_M'], np.log10(lumfn['PHI_JK']), yerr=lumfn['PHI_ERR'])\n"
     ]
    },
    {
     "data": {
      "text/plain": [
       "(-2.5, -1.5)"
      ]
     },
     "execution_count": 40,
     "metadata": {},
     "output_type": "execute_result"
    },
    {
     "data": {
      "image/png": "[encoded data removed]",
      "text/plain": [
       "<Figure size 432x288 with 1 Axes>"
      ]
     },
     "metadata": {
      "needs_background": "light"
     },
     "output_type": "display_data"
    }
   ],
   "source": [
    "for idx in range(1, jackknife+1):\n",
    "    lumfn = Table.read(fpath, hdu=idx)\n",
    "    plt.plot(lumfn['MEDIAN_M'], np.log10(lumfn['PHI_IVMAX']))\n",
    "\n",
    "plt.plot(lumfn['MEDIAN_M'], np.log10(lumfn['PHI_JK']), color='black')\n",
    "plt.errorbar(lumfn['MEDIAN_M'], np.log10(lumfn['PHI_JK']), yerr=lumfn['PHI_ERR'])\n",
    "\n",
    "plt.xlabel(r'$M_r^e - 5 \\log_{10}(h)$')\n",
    "plt.ylabel(r'$\\log_{10} \\left[ \\frac{\\phi_\\delta(M)}{h^{-3} {\\rm Mpc}^{3} {\\rm Mag}^{}} \\right] $')\n",
    "plt.xlim(-18, -17)\n",
    "plt.ylim(-2.5, -1.5)"
   ]
  },
  {
   "cell_type": "code",
   "execution_count": 53,
   "id": "be8e982a",
   "metadata": {},
   "outputs": [
    {
     "name": "stderr",
     "output_type": "stream",
     "text": [
      "/tmp/ipykernel_148291/3291711747.py:12: RuntimeWarning: divide by zero encountered in log10\n",
      "  plt.errorbar(lumfn['MEDIAN_M'], np.log10(lumfn['PHI_JK']), yerr=lumfn['PHI_ERR']*50, label='d{}'.format(utier))\n",
      "/tmp/ipykernel_148291/3291711747.py:12: RuntimeWarning: divide by zero encountered in log10\n",
      "  plt.errorbar(lumfn['MEDIAN_M'], np.log10(lumfn['PHI_JK']), yerr=lumfn['PHI_ERR']*50, label='d{}'.format(utier))\n",
      "/tmp/ipykernel_148291/3291711747.py:12: RuntimeWarning: divide by zero encountered in log10\n",
      "  plt.errorbar(lumfn['MEDIAN_M'], np.log10(lumfn['PHI_JK']), yerr=lumfn['PHI_ERR']*50, label='d{}'.format(utier))\n",
      "/tmp/ipykernel_148291/3291711747.py:12: RuntimeWarning: divide by zero encountered in log10\n",
      "  plt.errorbar(lumfn['MEDIAN_M'], np.log10(lumfn['PHI_JK']), yerr=lumfn['PHI_ERR']*50, label='d{}'.format(utier))\n"
     ]
    },
    {
     "data": {
      "text/plain": [
       "Text(0.5, 1.0, 'GAMA')"
      ]
     },
     "execution_count": 53,
     "metadata": {},
     "output_type": "execute_result"
    },
    {
     "data": {
      "image/png": "[encoded data removed]",
      "text/plain": [
       "<Figure size 432x288 with 1 Axes>"
      ]
     },
     "metadata": {
      "needs_background": "light"
     },
     "output_type": "display_data"
    }
   ],
   "source": [
    "'''\n",
    "d8 JK work here\n",
    "'''\n",
    "# TODO: take from header.\n",
    "jackknife = 15\n",
    "\n",
    "for utier in [1, 3, 5, 8]:\n",
    "    fpath = '/cosma/home/durham/dc-moor2/data/GAMA4/gama_gold_G9_ddp_n8_d0_{}_lumfn_test2.fits'.format(utier)\n",
    "    lumfn = Table.read(fpath, hdu=1)\n",
    "\n",
    "\n",
    "    plt.errorbar(lumfn['MEDIAN_M'], np.log10(lumfn['PHI_JK']), yerr=lumfn['PHI_ERR'], label='d{}'.format(utier))\n",
    "\n",
    "plt.xlabel(r'$M_r^e - 5 \\log_{10}(h)$')\n",
    "plt.ylabel(r'$\\log_{10} \\left[ \\frac{\\phi_\\delta(M)}{h^{-3} {\\rm Mpc}^{3} {\\rm Mag}^{}} \\right] $')\n",
    "plt.legend()\n",
    "plt.title(survey.upper())"
   ]
  },
  {
   "cell_type": "code",
   "execution_count": null,
   "id": "5d69b978",
   "metadata": {},
   "outputs": [],
   "source": []
  }
 ],
 "metadata": {
  "kernelspec": {
   "display_name": "Lumfn",
   "language": "python",
   "name": "lumfn"
  },
  "language_info": {
   "codemirror_mode": {
    "name": "ipython",
    "version": 3
   },
   "file_extension": ".py",
   "mimetype": "text/x-python",
   "name": "python",
   "nbconvert_exporter": "python",
   "pygments_lexer": "ipython3",
   "version": "3.9.9"
  }
 },
 "nbformat": 4,
 "nbformat_minor": 5
}
