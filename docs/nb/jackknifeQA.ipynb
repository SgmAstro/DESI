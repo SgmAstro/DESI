{
 "cells": [
  {
   "cell_type": "code",
   "execution_count": 1,
   "id": "4e1d0c5c",
   "metadata": {},
   "outputs": [],
   "source": [
    "import os\n",
    "import sys\n",
    "import fitsio\n",
    "import pylab as pl\n",
    "import numpy as np\n",
    "import matplotlib.pyplot as plt\n",
    "import astropy.io.fits as fits"
   ]
  },
  {
   "cell_type": "code",
   "execution_count": 2,
   "id": "75bff387",
   "metadata": {},
   "outputs": [],
   "source": [
    "sys.path.append('/global/homes/m/mjwilson/desi/BGS/Sam/DESI/')"
   ]
  },
  {
   "cell_type": "code",
   "execution_count": 3,
   "id": "07b3e8c8",
   "metadata": {},
   "outputs": [],
   "source": [
    "from   astropy.table import Table\n",
    "from   cosmo import cosmo, fsky\n",
    "from gama_limits import gama_field\n",
    "from jackknife_limits import jk_field\n",
    "import pubplot"
   ]
  },
  {
   "cell_type": "code",
   "execution_count": 4,
   "id": "b5d5ecea",
   "metadata": {},
   "outputs": [],
   "source": [
    "dat = Table.read(os.environ['CSCRATCH'] + '/norberg/GAMA4/gama_gold_ddp_n8.fits')"
   ]
  },
  {
   "cell_type": "code",
   "execution_count": 5,
   "id": "1e216a8e",
   "metadata": {},
   "outputs": [],
   "source": [
    "isin = gama_field(dat['RA'], dat['DEC']) == 'G9'\n",
    "G9 = dat[isin]\n",
    "\n",
    "isin = gama_field(dat['RA'], dat['DEC']) == 'G12'\n",
    "G12 = dat[isin]\n",
    "\n",
    "isin = gama_field(dat['RA'], dat['DEC']) == 'G15'\n",
    "G15 = dat[isin]"
   ]
  },
  {
   "cell_type": "code",
   "execution_count": 6,
   "id": "d6a9d9fe",
   "metadata": {},
   "outputs": [
    {
     "data": {
      "text/plain": [
       "array(['JK1', 'JK0', 'JK0', ..., 'JK2', 'JK0', 'JK2'], dtype='<U4')"
      ]
     },
     "execution_count": 6,
     "metadata": {},
     "output_type": "execute_result"
    }
   ],
   "source": [
    "jk_field(G9['RA'], G9['DEC'])"
   ]
  },
  {
   "cell_type": "code",
   "execution_count": 7,
   "id": "51d1d6bd",
   "metadata": {},
   "outputs": [
    {
     "data": {
      "text/plain": [
       "array(['JK4', 'JK5', 'JK5', ..., 'JK3', 'JK5', 'JK4'], dtype='<U4')"
      ]
     },
     "execution_count": 7,
     "metadata": {},
     "output_type": "execute_result"
    }
   ],
   "source": [
    "jk_field(G12['RA'], G12['DEC'])"
   ]
  },
  {
   "cell_type": "code",
   "execution_count": 8,
   "id": "f832342e",
   "metadata": {},
   "outputs": [
    {
     "data": {
      "text/plain": [
       "array(['JK7', 'JK7', 'JK6', ..., 'JK6', 'JK6', 'JK6'], dtype='<U4')"
      ]
     },
     "execution_count": 8,
     "metadata": {},
     "output_type": "execute_result"
    }
   ],
   "source": [
    "jk_field(G15['RA'], G15['DEC'])"
   ]
  },
  {
   "cell_type": "code",
   "execution_count": 9,
   "id": "33a10d4a",
   "metadata": {},
   "outputs": [
    {
     "data": {
      "text/plain": [
       "<matplotlib.collections.PathCollection at 0x2aaad9dc7610>"
      ]
     },
     "execution_count": 9,
     "metadata": {},
     "output_type": "execute_result"
    },
    {
     "data": {
      "image/png": "[encoded data removed]",
      "text/plain": [
       "<Figure size 432x288 with 1 Axes>"
      ]
     },
     "metadata": {
      "needs_background": "light"
     },
     "output_type": "display_data"
    }
   ],
   "source": [
    "plt.scatter(G9['RA'], G9['DEC'])"
   ]
  },
  {
   "cell_type": "code",
   "execution_count": 10,
   "id": "67a29420",
   "metadata": {},
   "outputs": [],
   "source": [
    "isin = jk_field(dat['RA'], dat['DEC']) == 'JK0'\n",
    "JK0 = dat[isin]\n",
    "\n",
    "isin = jk_field(dat['RA'], dat['DEC']) == 'JK1'\n",
    "JK1 = dat[isin]\n",
    "\n",
    "isin = jk_field(dat['RA'], dat['DEC']) == 'JK2'\n",
    "JK2 = dat[isin]"
   ]
  },
  {
   "cell_type": "code",
   "execution_count": 11,
   "id": "f7257944",
   "metadata": {},
   "outputs": [
    {
     "data": {
      "text/plain": [
       "<matplotlib.collections.PathCollection at 0x2aaad9e7a880>"
      ]
     },
     "execution_count": 11,
     "metadata": {},
     "output_type": "execute_result"
    },
    {
     "data": {
      "image/png": "[encoded data removed]",
      "text/plain": [
       "<Figure size 432x288 with 1 Axes>"
      ]
     },
     "metadata": {
      "needs_background": "light"
     },
     "output_type": "display_data"
    }
   ],
   "source": [
    "plt.scatter(JK0['RA'], JK0['DEC'])\n",
    "plt.scatter(JK1['RA'], JK1['DEC'])\n",
    "plt.scatter(JK2['RA'], JK2['DEC'])"
   ]
  },
  {
   "cell_type": "code",
   "execution_count": null,
   "id": "67c3f5d8",
   "metadata": {},
   "outputs": [],
   "source": []
  }
 ],
 "metadata": {
  "kernelspec": {
   "display_name": "Lumfn",
   "language": "python",
   "name": "lumfn"
  },
  "language_info": {
   "codemirror_mode": {
    "name": "ipython",
    "version": 3
   },
   "file_extension": ".py",
   "mimetype": "text/x-python",
   "name": "python",
   "nbconvert_exporter": "python",
   "pygments_lexer": "ipython3",
   "version": "3.9.9"
  }
 },
 "nbformat": 4,
 "nbformat_minor": 5
}
