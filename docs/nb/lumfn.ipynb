{
 "cells": [
  {
   "cell_type": "code",
   "execution_count": 27,
   "id": "d006828a",
   "metadata": {},
   "outputs": [],
   "source": [
    "import os\n",
    "import sys\n",
    "import pylab as pl\n",
    "import numpy as np\n",
    "import matplotlib.pyplot as plt\n",
    "import numpy as np\n",
    "\n",
    "# from   getdist       import plots, MCSamples \n",
    "from   astropy.table import Table\n",
    "import pubplot"
   ]
  },
  {
   "cell_type": "code",
   "execution_count": 28,
   "id": "95195e2a",
   "metadata": {},
   "outputs": [],
   "source": [
    "sys.path.append(os.environ['HOME'] + '/DESI/')"
   ]
  },
  {
   "cell_type": "code",
   "execution_count": 29,
   "id": "9eaf19b5",
   "metadata": {},
   "outputs": [],
   "source": [
    "from   schechter     import schechter, named_schechter"
   ]
  },
  {
   "cell_type": "code",
   "execution_count": 30,
   "id": "00638a20",
   "metadata": {},
   "outputs": [
    {
     "data": {
      "text/html": [
       "<div><i>Table length=113602</i>\n",
       "<table id=\"table140652908235840\" class=\"table-striped table-bordered table-condensed\">\n",
       "<thead><tr><th>ZGAMA</th><th>ZMIN</th><th>ZMAX</th><th>MCOLOR_0P0</th><th>VMAX</th><th>VZ</th></tr></thead>\n",
       "<thead><tr><th></th><th></th><th></th><th>mag</th><th></th><th></th></tr></thead>\n",
       "<thead><tr><th>float32</th><th>float64</th><th>float64</th><th>float64</th><th>float64</th><th>float64</th></tr></thead>\n",
       "<tr><td>0.08332</td><td>0.03903000056743622</td><td>0.08582235568257114</td><td>-17.28288200453336</td><td>267528.2071202171</td><td>242775.6461894515</td></tr>\n",
       "<tr><td>0.25293</td><td>0.03903000056743622</td><td>0.25840545857317754</td><td>-19.57819528092627</td><td>7224854.989407693</td><td>6797895.7741051605</td></tr>\n",
       "<tr><td>0.15081</td><td>0.03903000056743622</td><td>0.2295906335782965</td><td>-19.83317066958331</td><td>5155266.214126108</td><td>1515919.092711623</td></tr>\n",
       "<tr><td>0.11158</td><td>0.03903000056743622</td><td>0.22928748445538527</td><td>-19.82472623096576</td><td>5135772.103434861</td><td>612198.9929706616</td></tr>\n",
       "<tr><td>0.14049</td><td>0.03903000056743622</td><td>0.18038699378072803</td><td>-19.24496856686621</td><td>2566006.5497457627</td><td>1228052.4958238814</td></tr>\n",
       "<tr><td>0.25699</td><td>0.03903000056743622</td><td>0.26298999786376953</td><td>-20.978091889010262</td><td>7594841.612883208</td><td>7112931.02371151</td></tr>\n",
       "<tr><td>0.1138</td><td>0.03903000056743622</td><td>0.20768621673763388</td><td>-19.15170954475067</td><td>3863093.1522298027</td><td>650298.1043759851</td></tr>\n",
       "<tr><td>0.13387</td><td>0.03903000056743622</td><td>0.26298999786376953</td><td>-20.33575346103273</td><td>7594841.612883208</td><td>1063093.454039089</td></tr>\n",
       "<tr><td>0.12074</td><td>0.03903000056743622</td><td>0.26298999786376953</td><td>-21.108184931558036</td><td>7594841.612883208</td><td>778815.6138788925</td></tr>\n",
       "<tr><td>0.10403</td><td>0.03903000056743622</td><td>0.14746355725995314</td><td>-18.459635808316214</td><td>1418368.2974226952</td><td>493100.0991930906</td></tr>\n",
       "<tr><td>0.18859</td><td>0.03903000056743622</td><td>0.26298999786376953</td><td>-20.73193777148944</td><td>7594841.612883208</td><td>2920959.7988315923</td></tr>\n",
       "<tr><td>0.15636</td><td>0.03903000056743622</td><td>0.26298999786376953</td><td>-20.18460819711899</td><td>7594841.612883208</td><td>1686857.3683655544</td></tr>\n",
       "<tr><td>0.05089</td><td>0.03903000056743622</td><td>0.10844573866933194</td><td>-17.818508091081927</td><td>560819.4817230346</td><td>34402.216141999794</td></tr>\n",
       "<tr><td>0.11832</td><td>0.03903000056743622</td><td>0.26298999786376953</td><td>-20.15968727563032</td><td>7594841.612883208</td><td>732354.5750240089</td></tr>\n",
       "<tr><td>0.26237</td><td>0.03903000056743622</td><td>0.26298999786376953</td><td>-21.0440038723948</td><td>7594841.612883208</td><td>7544133.951267127</td></tr>\n",
       "<tr><td>0.19185</td><td>0.03903000056743622</td><td>0.26298999786376953</td><td>-20.813480807706345</td><td>7594841.612883208</td><td>3070159.9513577204</td></tr>\n",
       "<tr><td>0.07705</td><td>0.03903000056743622</td><td>0.10091578020086753</td><td>-17.63040112827177</td><td>448530.20087395946</td><td>186801.53831454687</td></tr>\n",
       "<tr><td>0.21315</td><td>0.03903000056743622</td><td>0.2522899611925132</td><td>-19.602993064804124</td><td>6749040.547215193</td><td>4163676.816154239</td></tr>\n",
       "<tr><td>...</td><td>...</td><td>...</td><td>...</td><td>...</td><td>...</td></tr>\n",
       "<tr><td>0.10404</td><td>0.03903000056743622</td><td>0.26298999786376953</td><td>-21.02684022957261</td><td>7594841.612883208</td><td>493247.39478994627</td></tr>\n",
       "<tr><td>0.21664</td><td>0.03903000056743622</td><td>0.26298999786376953</td><td>-20.298086992957195</td><td>7594841.612883208</td><td>4363132.203596246</td></tr>\n",
       "<tr><td>0.1072</td><td>0.03903000056743622</td><td>0.26298999786376953</td><td>-21.81829555055532</td><td>7594841.612883208</td><td>541168.4916130538</td></tr>\n",
       "<tr><td>0.14824</td><td>0.03903000056743622</td><td>0.18399068655818657</td><td>-18.894504066471153</td><td>2718370.8986100974</td><td>1440637.402764348</td></tr>\n",
       "<tr><td>0.1279</td><td>0.03903000056743622</td><td>0.18153071139309204</td><td>-19.2371224529881</td><td>2613762.5101239523</td><td>926951.8535369588</td></tr>\n",
       "<tr><td>0.07041</td><td>0.03903000056743622</td><td>0.22300919901478333</td><td>-19.755401724822157</td><td>4742367.45652373</td><td>136414.92336802068</td></tr>\n",
       "<tr><td>0.13792</td><td>0.03903000056743622</td><td>0.26298999786376953</td><td>-21.71104938818231</td><td>7594841.612883208</td><td>1162229.3334574373</td></tr>\n",
       "<tr><td>0.23165</td><td>0.03903000056743622</td><td>0.26298999786376953</td><td>-19.863946071433062</td><td>7594841.612883208</td><td>5288919.849925721</td></tr>\n",
       "<tr><td>0.12883</td><td>0.03903000056743622</td><td>0.19756007459346428</td><td>-19.126344114311742</td><td>3342893.0156514593</td><td>947391.5193961611</td></tr>\n",
       "<tr><td>0.20597</td><td>0.03903000056743622</td><td>0.26298999786376953</td><td>-20.147786990222116</td><td>7594841.612883208</td><td>3771583.777717159</td></tr>\n",
       "<tr><td>0.24172</td><td>0.03903000056743622</td><td>0.26298999786376953</td><td>-20.467049376287356</td><td>7594841.612883208</td><td>5973602.487066824</td></tr>\n",
       "<tr><td>0.16828</td><td>0.03903000056743622</td><td>0.26298999786376953</td><td>-21.317870899370625</td><td>7594841.612883208</td><td>2093975.7117013328</td></tr>\n",
       "<tr><td>0.21582</td><td>0.03903000056743622</td><td>0.25833817821333455</td><td>-19.57634778057842</td><td>7219510.439117099</td><td>4315741.941492621</td></tr>\n",
       "<tr><td>0.18766</td><td>0.03903000056743622</td><td>0.26298999786376953</td><td>-20.10214984269303</td><td>7594841.612883208</td><td>2879252.596833261</td></tr>\n",
       "<tr><td>0.22515</td><td>0.03903000056743622</td><td>0.24735595004039534</td><td>-19.455981710653113</td><td>6379734.189082725</td><td>4874309.607569209</td></tr>\n",
       "<tr><td>0.10546</td><td>0.03903000056743622</td><td>0.13085220921380047</td><td>-18.159513469444246</td><td>992808.300847153</td><td>514442.52333093865</td></tr>\n",
       "<tr><td>0.20408</td><td>0.03903000056743622</td><td>0.26298999786376953</td><td>-20.669729647767724</td><td>7594841.612883208</td><td>3672398.872435715</td></tr>\n",
       "<tr><td>0.25096</td><td>0.03903000056743622</td><td>0.26298999786376953</td><td>-20.627867495538837</td><td>7594841.612883208</td><td>6648219.282962849</td></tr>\n",
       "<tr><td>0.1095</td><td>0.03903000056743622</td><td>0.2043110087541992</td><td>-19.1258222051558</td><td>3684432.759516914</td><td>577790.3788219232</td></tr>\n",
       "</table></div>"
      ],
      "text/plain": [
       "<Table length=113602>\n",
       " ZGAMA          ZMIN                ZMAX             MCOLOR_0P0            VMAX                VZ        \n",
       "                                                        mag                                              \n",
       "float32       float64             float64             float64            float64            float64      \n",
       "------- ------------------- ------------------- ------------------- ------------------ ------------------\n",
       "0.08332 0.03903000056743622 0.08582235568257114  -17.28288200453336  267528.2071202171  242775.6461894515\n",
       "0.25293 0.03903000056743622 0.25840545857317754  -19.57819528092627  7224854.989407693 6797895.7741051605\n",
       "0.15081 0.03903000056743622  0.2295906335782965  -19.83317066958331  5155266.214126108  1515919.092711623\n",
       "0.11158 0.03903000056743622 0.22928748445538527  -19.82472623096576  5135772.103434861  612198.9929706616\n",
       "0.14049 0.03903000056743622 0.18038699378072803  -19.24496856686621 2566006.5497457627 1228052.4958238814\n",
       "0.25699 0.03903000056743622 0.26298999786376953 -20.978091889010262  7594841.612883208   7112931.02371151\n",
       " 0.1138 0.03903000056743622 0.20768621673763388  -19.15170954475067 3863093.1522298027  650298.1043759851\n",
       "0.13387 0.03903000056743622 0.26298999786376953  -20.33575346103273  7594841.612883208  1063093.454039089\n",
       "0.12074 0.03903000056743622 0.26298999786376953 -21.108184931558036  7594841.612883208  778815.6138788925\n",
       "0.10403 0.03903000056743622 0.14746355725995314 -18.459635808316214 1418368.2974226952  493100.0991930906\n",
       "0.18859 0.03903000056743622 0.26298999786376953  -20.73193777148944  7594841.612883208 2920959.7988315923\n",
       "0.15636 0.03903000056743622 0.26298999786376953  -20.18460819711899  7594841.612883208 1686857.3683655544\n",
       "0.05089 0.03903000056743622 0.10844573866933194 -17.818508091081927  560819.4817230346 34402.216141999794\n",
       "0.11832 0.03903000056743622 0.26298999786376953  -20.15968727563032  7594841.612883208  732354.5750240089\n",
       "0.26237 0.03903000056743622 0.26298999786376953   -21.0440038723948  7594841.612883208  7544133.951267127\n",
       "0.19185 0.03903000056743622 0.26298999786376953 -20.813480807706345  7594841.612883208 3070159.9513577204\n",
       "0.07705 0.03903000056743622 0.10091578020086753  -17.63040112827177 448530.20087395946 186801.53831454687\n",
       "0.21315 0.03903000056743622  0.2522899611925132 -19.602993064804124  6749040.547215193  4163676.816154239\n",
       "    ...                 ...                 ...                 ...                ...                ...\n",
       "0.10404 0.03903000056743622 0.26298999786376953  -21.02684022957261  7594841.612883208 493247.39478994627\n",
       "0.21664 0.03903000056743622 0.26298999786376953 -20.298086992957195  7594841.612883208  4363132.203596246\n",
       " 0.1072 0.03903000056743622 0.26298999786376953  -21.81829555055532  7594841.612883208  541168.4916130538\n",
       "0.14824 0.03903000056743622 0.18399068655818657 -18.894504066471153 2718370.8986100974  1440637.402764348\n",
       " 0.1279 0.03903000056743622 0.18153071139309204   -19.2371224529881 2613762.5101239523  926951.8535369588\n",
       "0.07041 0.03903000056743622 0.22300919901478333 -19.755401724822157   4742367.45652373 136414.92336802068\n",
       "0.13792 0.03903000056743622 0.26298999786376953  -21.71104938818231  7594841.612883208 1162229.3334574373\n",
       "0.23165 0.03903000056743622 0.26298999786376953 -19.863946071433062  7594841.612883208  5288919.849925721\n",
       "0.12883 0.03903000056743622 0.19756007459346428 -19.126344114311742 3342893.0156514593  947391.5193961611\n",
       "0.20597 0.03903000056743622 0.26298999786376953 -20.147786990222116  7594841.612883208  3771583.777717159\n",
       "0.24172 0.03903000056743622 0.26298999786376953 -20.467049376287356  7594841.612883208  5973602.487066824\n",
       "0.16828 0.03903000056743622 0.26298999786376953 -21.317870899370625  7594841.612883208 2093975.7117013328\n",
       "0.21582 0.03903000056743622 0.25833817821333455  -19.57634778057842  7219510.439117099  4315741.941492621\n",
       "0.18766 0.03903000056743622 0.26298999786376953  -20.10214984269303  7594841.612883208  2879252.596833261\n",
       "0.22515 0.03903000056743622 0.24735595004039534 -19.455981710653113  6379734.189082725  4874309.607569209\n",
       "0.10546 0.03903000056743622 0.13085220921380047 -18.159513469444246   992808.300847153 514442.52333093865\n",
       "0.20408 0.03903000056743622 0.26298999786376953 -20.669729647767724  7594841.612883208  3672398.872435715\n",
       "0.25096 0.03903000056743622 0.26298999786376953 -20.627867495538837  7594841.612883208  6648219.282962849\n",
       " 0.1095 0.03903000056743622  0.2043110087541992   -19.1258222051558  3684432.759516914  577790.3788219232"
      ]
     },
     "execution_count": 30,
     "metadata": {},
     "output_type": "execute_result"
    }
   ],
   "source": [
    "gama_vmax = Table.read(os.environ['HOME'] + '/data/GAMA4/gama_gold_vmax.fits')\n",
    "gama_vmax"
   ]
  },
  {
   "cell_type": "code",
   "execution_count": 31,
   "id": "2b04e7f6",
   "metadata": {},
   "outputs": [
    {
     "name": "stderr",
     "output_type": "stream",
     "text": [
      "/tmp/ipykernel_105733/1789927872.py:2: RuntimeWarning: invalid value encountered in true_divide\n",
      "  gama_lf['S2N_N']     = gama_lf['PHI_N'] / gama_lf['PHI_N_ERROR']\n",
      "/tmp/ipykernel_105733/1789927872.py:3: RuntimeWarning: invalid value encountered in true_divide\n",
      "  gama_lf['S2N_IVMAX'] = gama_lf['PHI_IVMAX'] / gama_lf['PHI_IVMAX_ERROR']\n"
     ]
    },
    {
     "data": {
      "text/html": [
       "<div><i>Table length=99</i>\n",
       "<table id=\"table140652908265680\" class=\"table-striped table-bordered table-condensed\">\n",
       "<thead><tr><th>MEDIAN_M</th><th>PHI_N</th><th>PHI_N_ERROR</th><th>PHI_IVMAX</th><th>PHI_IVMAX_ERROR</th><th>N</th><th>V_ON_VMAX</th><th>S2N_N</th><th>S2N_IVMAX</th></tr></thead>\n",
       "<thead><tr><th>float64</th><th>float64</th><th>float64</th><th>float64</th><th>float64</th><th>float64</th><th>float64</th><th>float64</th><th>float64</th></tr></thead>\n",
       "<tr><td>--</td><td>0.0</td><td>0.0</td><td>0.0</td><td>0.0</td><td>0.0</td><td>--</td><td>nan</td><td>nan</td></tr>\n",
       "<tr><td>--</td><td>0.0</td><td>0.0</td><td>0.0</td><td>0.0</td><td>0.0</td><td>--</td><td>nan</td><td>nan</td></tr>\n",
       "<tr><td>--</td><td>0.0</td><td>0.0</td><td>0.0</td><td>0.0</td><td>0.0</td><td>--</td><td>nan</td><td>nan</td></tr>\n",
       "<tr><td>--</td><td>0.0</td><td>0.0</td><td>0.0</td><td>0.0</td><td>0.0</td><td>--</td><td>nan</td><td>nan</td></tr>\n",
       "<tr><td>--</td><td>0.0</td><td>0.0</td><td>0.0</td><td>0.0</td><td>0.0</td><td>--</td><td>nan</td><td>nan</td></tr>\n",
       "<tr><td>--</td><td>0.0</td><td>0.0</td><td>0.0</td><td>0.0</td><td>0.0</td><td>--</td><td>nan</td><td>nan</td></tr>\n",
       "<tr><td>--</td><td>0.0</td><td>0.0</td><td>0.0</td><td>0.0</td><td>0.0</td><td>--</td><td>nan</td><td>nan</td></tr>\n",
       "<tr><td>--</td><td>0.0</td><td>0.0</td><td>0.0</td><td>0.0</td><td>0.0</td><td>--</td><td>nan</td><td>nan</td></tr>\n",
       "<tr><td>--</td><td>0.0</td><td>0.0</td><td>0.0</td><td>0.0</td><td>0.0</td><td>--</td><td>nan</td><td>nan</td></tr>\n",
       "<tr><td>--</td><td>0.0</td><td>0.0</td><td>0.0</td><td>0.0</td><td>0.0</td><td>--</td><td>nan</td><td>nan</td></tr>\n",
       "<tr><td>--</td><td>0.0</td><td>0.0</td><td>0.0</td><td>0.0</td><td>0.0</td><td>--</td><td>nan</td><td>nan</td></tr>\n",
       "<tr><td>--</td><td>0.0</td><td>0.0</td><td>0.0</td><td>0.0</td><td>0.0</td><td>--</td><td>nan</td><td>nan</td></tr>\n",
       "<tr><td>--</td><td>0.0</td><td>0.0</td><td>0.0</td><td>0.0</td><td>0.0</td><td>--</td><td>nan</td><td>nan</td></tr>\n",
       "<tr><td>--</td><td>0.0</td><td>0.0</td><td>0.0</td><td>0.0</td><td>0.0</td><td>--</td><td>nan</td><td>nan</td></tr>\n",
       "<tr><td>--</td><td>0.0</td><td>0.0</td><td>0.0</td><td>0.0</td><td>0.0</td><td>--</td><td>nan</td><td>nan</td></tr>\n",
       "<tr><td>--</td><td>0.0</td><td>0.0</td><td>0.0</td><td>0.0</td><td>0.0</td><td>--</td><td>nan</td><td>nan</td></tr>\n",
       "<tr><td>--</td><td>0.0</td><td>0.0</td><td>0.0</td><td>0.0</td><td>0.0</td><td>--</td><td>nan</td><td>nan</td></tr>\n",
       "<tr><td>--</td><td>0.0</td><td>0.0</td><td>0.0</td><td>0.0</td><td>0.0</td><td>--</td><td>nan</td><td>nan</td></tr>\n",
       "<tr><td>--</td><td>0.0</td><td>0.0</td><td>0.0</td><td>0.0</td><td>0.0</td><td>--</td><td>nan</td><td>nan</td></tr>\n",
       "<tr><td>...</td><td>...</td><td>...</td><td>...</td><td>...</td><td>...</td><td>...</td><td>...</td><td>...</td></tr>\n",
       "<tr><td>-17.55298573252326</td><td>0.0007636762286340926</td><td>3.1709929429906326e-05</td><td>0.01507519604959503</td><td>0.000628379865273342</td><td>580.0</td><td>0.05149401636367929</td><td>24.08318915758459</td><td>23.990577806049526</td></tr>\n",
       "<tr><td>-17.44993647031487</td><td>0.0007110089025213967</td><td>3.059695153856202e-05</td><td>0.016348010668346166</td><td>0.0007058990680078094</td><td>540.0</td><td>0.04417344044125083</td><td>23.237900077244504</td><td>23.15913337934214</td></tr>\n",
       "<tr><td>-17.35219210440102</td><td>0.0006543915269502482</td><td>2.9353471666599273e-05</td><td>0.01740736721483702</td><td>0.0007837397560170019</td><td>497.0</td><td>0.03840848747543437</td><td>22.293496809607948</td><td>22.21064719659238</td></tr>\n",
       "<tr><td>-17.251651906075857</td><td>0.0006267411807410829</td><td>2.872663492055186e-05</td><td>0.019186547843277245</td><td>0.0008817453139450671</td><td>476.0</td><td>0.0330167461785291</td><td>21.81742422927143</td><td>21.759738940299684</td></tr>\n",
       "<tr><td>-17.156078195898402</td><td>0.00047663930131989915</td><td>2.5051605497823248e-05</td><td>0.016960915767217765</td><td>0.0008939543328668298</td><td>362.0</td><td>0.028407059017127378</td><td>19.02629759044045</td><td>18.97291074458542</td></tr>\n",
       "<tr><td>-17.053005443053117</td><td>0.0004055384110677595</td><td>2.310769555090375e-05</td><td>0.01681428299976719</td><td>0.0009603242896363318</td><td>308.0</td><td>0.02434862328929651</td><td>17.54992877478424</td><td>17.508963567020306</td></tr>\n",
       "<tr><td>-16.950017610495895</td><td>0.0002975703925367326</td><td>1.9794088072714456e-05</td><td>0.01464933880820904</td><td>0.0009771124997451641</td><td>226.0</td><td>0.020629173176962855</td><td>15.033296378372908</td><td>14.992479179244622</td></tr>\n",
       "<tr><td>-16.85163858445599</td><td>0.00027782014524447163</td><td>1.9125927552845096e-05</td><td>0.016064658259177467</td><td>0.001108794572667598</td><td>211.0</td><td>0.017425338995806318</td><td>14.525839046333951</td><td>14.488399073354266</td></tr>\n",
       "<tr><td>-16.745655463060434</td><td>0.00023305291804867997</td><td>1.7517330016575907e-05</td><td>0.01603068513569308</td><td>0.001208396619325639</td><td>177.0</td><td>0.014732268484971976</td><td>13.304134695650072</td><td>13.266079099624763</td></tr>\n",
       "<tr><td>-16.65119094584305</td><td>0.000246219749576854</td><td>1.800537131410411e-05</td><td>0.01986700136781453</td><td>0.0014562159852444547</td><td>187.0</td><td>0.012463685861738636</td><td>13.67479433117734</td><td>13.642894714192732</td></tr>\n",
       "<tr><td>-16.549433501133358</td><td>0.0002304195517430452</td><td>1.7418080889116485e-05</td><td>0.022250978945734422</td><td>0.0016860162031380826</td><td>175.0</td><td>0.01034486447282865</td><td>13.228756555322956</td><td>13.197369577065741</td></tr>\n",
       "<tr><td>-16.45617575868919</td><td>0.000226469502284593</td><td>1.7268137661168487e-05</td><td>0.02665799423847022</td><td>0.0020395588905138488</td><td>172.0</td><td>0.008672502092214361</td><td>13.114877048604002</td><td>13.070470464206098</td></tr>\n",
       "<tr><td>-16.361202421993887</td><td>0.00018828569085288836</td><td>1.5745240457439305e-05</td><td>0.02650019682577292</td><td>0.002220994365912005</td><td>143.0</td><td>0.0072089069867535705</td><td>11.958260743101398</td><td>11.931681247147678</td></tr>\n",
       "<tr><td>-16.26055714607927</td><td>0.0001369350478930097</td><td>1.3427586178869598e-05</td><td>0.02410604662544669</td><td>0.0023708942411987755</td><td>104.0</td><td>0.0057875798350747075</td><td>10.198039027185569</td><td>10.167491323129685</td></tr>\n",
       "<tr><td>-16.161672620781538</td><td>7.900098916904406e-05</td><td>1.019898384618734e-05</td><td>0.01736643010935817</td><td>0.002247916493871341</td><td>60.0</td><td>0.004635358106324706</td><td>7.745966692414833</td><td>7.725567278279927</td></tr>\n",
       "<tr><td>-16.03973304384555</td><td>6.320079133523525e-05</td><td>9.122248472598858e-06</td><td>0.018829757887849064</td><td>0.002726813330950702</td><td>48.0</td><td>0.003328949722904594</td><td>6.92820323027551</td><td>6.905407742481617</td></tr>\n",
       "<tr><td>-15.954801353749659</td><td>5.1350642959878645e-05</td><td>8.222683653869562e-06</td><td>0.020025522030793785</td><td>0.0032239691305676155</td><td>39.0</td><td>0.0025751673898215125</td><td>6.244997998398398</td><td>6.211449681985035</td></tr>\n",
       "<tr><td>-15.864828273084505</td><td>2.633366305634802e-05</td><td>5.888386069056906e-06</td><td>0.01550708337681513</td><td>0.0035106383282336555</td><td>20.0</td><td>0.001758290004838562</td><td>4.472135954999579</td><td>4.417169166103583</td></tr>\n",
       "<tr><td>-15.755555654226708</td><td>2.633366305634802e-05</td><td>5.888386069056906e-06</td><td>0.025769035532764974</td><td>0.005843294095796945</td><td>20.0</td><td>0.0010433583314573682</td><td>4.472135954999579</td><td>4.4100185803245</td></tr>\n",
       "</table></div>"
      ],
      "text/plain": [
       "<Table length=99>\n",
       "      MEDIAN_M              PHI_N               PHI_N_ERROR            PHI_IVMAX       ...    N          V_ON_VMAX             S2N_N            S2N_IVMAX     \n",
       "      float64              float64                float64               float64        ... float64        float64             float64            float64      \n",
       "------------------- ---------------------- ---------------------- -------------------- ... ------- --------------------- ------------------ ------------------\n",
       "                 --                    0.0                    0.0                  0.0 ...     0.0                    --                nan                nan\n",
       "                 --                    0.0                    0.0                  0.0 ...     0.0                    --                nan                nan\n",
       "                 --                    0.0                    0.0                  0.0 ...     0.0                    --                nan                nan\n",
       "                 --                    0.0                    0.0                  0.0 ...     0.0                    --                nan                nan\n",
       "                 --                    0.0                    0.0                  0.0 ...     0.0                    --                nan                nan\n",
       "                 --                    0.0                    0.0                  0.0 ...     0.0                    --                nan                nan\n",
       "                 --                    0.0                    0.0                  0.0 ...     0.0                    --                nan                nan\n",
       "                 --                    0.0                    0.0                  0.0 ...     0.0                    --                nan                nan\n",
       "                 --                    0.0                    0.0                  0.0 ...     0.0                    --                nan                nan\n",
       "                 --                    0.0                    0.0                  0.0 ...     0.0                    --                nan                nan\n",
       "                 --                    0.0                    0.0                  0.0 ...     0.0                    --                nan                nan\n",
       "                 --                    0.0                    0.0                  0.0 ...     0.0                    --                nan                nan\n",
       "                 --                    0.0                    0.0                  0.0 ...     0.0                    --                nan                nan\n",
       "                 --                    0.0                    0.0                  0.0 ...     0.0                    --                nan                nan\n",
       "                 --                    0.0                    0.0                  0.0 ...     0.0                    --                nan                nan\n",
       "                 --                    0.0                    0.0                  0.0 ...     0.0                    --                nan                nan\n",
       "                 --                    0.0                    0.0                  0.0 ...     0.0                    --                nan                nan\n",
       "                 --                    0.0                    0.0                  0.0 ...     0.0                    --                nan                nan\n",
       "                 --                    0.0                    0.0                  0.0 ...     0.0                    --                nan                nan\n",
       "                ...                    ...                    ...                  ... ...     ...                   ...                ...                ...\n",
       " -17.55298573252326  0.0007636762286340926 3.1709929429906326e-05  0.01507519604959503 ...   580.0   0.05149401636367929  24.08318915758459 23.990577806049526\n",
       " -17.44993647031487  0.0007110089025213967  3.059695153856202e-05 0.016348010668346166 ...   540.0   0.04417344044125083 23.237900077244504  23.15913337934214\n",
       " -17.35219210440102  0.0006543915269502482 2.9353471666599273e-05  0.01740736721483702 ...   497.0   0.03840848747543437 22.293496809607948  22.21064719659238\n",
       "-17.251651906075857  0.0006267411807410829  2.872663492055186e-05 0.019186547843277245 ...   476.0    0.0330167461785291  21.81742422927143 21.759738940299684\n",
       "-17.156078195898402 0.00047663930131989915 2.5051605497823248e-05 0.016960915767217765 ...   362.0  0.028407059017127378  19.02629759044045  18.97291074458542\n",
       "-17.053005443053117  0.0004055384110677595  2.310769555090375e-05  0.01681428299976719 ...   308.0   0.02434862328929651  17.54992877478424 17.508963567020306\n",
       "-16.950017610495895  0.0002975703925367326 1.9794088072714456e-05  0.01464933880820904 ...   226.0  0.020629173176962855 15.033296378372908 14.992479179244622\n",
       " -16.85163858445599 0.00027782014524447163 1.9125927552845096e-05 0.016064658259177467 ...   211.0  0.017425338995806318 14.525839046333951 14.488399073354266\n",
       "-16.745655463060434 0.00023305291804867997 1.7517330016575907e-05  0.01603068513569308 ...   177.0  0.014732268484971976 13.304134695650072 13.266079099624763\n",
       " -16.65119094584305   0.000246219749576854  1.800537131410411e-05  0.01986700136781453 ...   187.0  0.012463685861738636  13.67479433117734 13.642894714192732\n",
       "-16.549433501133358  0.0002304195517430452 1.7418080889116485e-05 0.022250978945734422 ...   175.0   0.01034486447282865 13.228756555322956 13.197369577065741\n",
       " -16.45617575868919   0.000226469502284593 1.7268137661168487e-05  0.02665799423847022 ...   172.0  0.008672502092214361 13.114877048604002 13.070470464206098\n",
       "-16.361202421993887 0.00018828569085288836 1.5745240457439305e-05  0.02650019682577292 ...   143.0 0.0072089069867535705 11.958260743101398 11.931681247147678\n",
       " -16.26055714607927  0.0001369350478930097 1.3427586178869598e-05  0.02410604662544669 ...   104.0 0.0057875798350747075 10.198039027185569 10.167491323129685\n",
       "-16.161672620781538  7.900098916904406e-05  1.019898384618734e-05  0.01736643010935817 ...    60.0  0.004635358106324706  7.745966692414833  7.725567278279927\n",
       " -16.03973304384555  6.320079133523525e-05  9.122248472598858e-06 0.018829757887849064 ...    48.0  0.003328949722904594   6.92820323027551  6.905407742481617\n",
       "-15.954801353749659 5.1350642959878645e-05  8.222683653869562e-06 0.020025522030793785 ...    39.0 0.0025751673898215125  6.244997998398398  6.211449681985035\n",
       "-15.864828273084505  2.633366305634802e-05  5.888386069056906e-06  0.01550708337681513 ...    20.0  0.001758290004838562  4.472135954999579  4.417169166103583\n",
       "-15.755555654226708  2.633366305634802e-05  5.888386069056906e-06 0.025769035532764974 ...    20.0 0.0010433583314573682  4.472135954999579    4.4100185803245"
      ]
     },
     "execution_count": 31,
     "metadata": {},
     "output_type": "execute_result"
    }
   ],
   "source": [
    "gama_lf              = Table.read(os.environ['HOME'] + '/data/GAMA4/gama_gold_lumfn.fits')\n",
    "gama_lf['S2N_N']     = gama_lf['PHI_N'] / gama_lf['PHI_N_ERROR']\n",
    "gama_lf['S2N_IVMAX'] = gama_lf['PHI_IVMAX'] / gama_lf['PHI_IVMAX_ERROR']\n",
    "gama_lf"
   ]
  },
  {
   "cell_type": "raw",
   "id": "9de07e32",
   "metadata": {},
   "source": [
    "_ = pl.hist(gama_lf['S2N_N'],     bins=np.arange(0.1, 5000., 100.), histtype='step')\n",
    "_ = pl.hist(gama_lf['S2N_IVMAX'], bins=np.arange(0.1, 5000., 100.), histtype='step')\n",
    "\n",
    "pl.xlabel('S/N')\n",
    "pl.xlim(0.0, 5000.)\n",
    "\n",
    "pl.xscale('log')\n",
    "pl.yscale('log')"
   ]
  },
  {
   "cell_type": "code",
   "execution_count": null,
   "id": "60d66ca5",
   "metadata": {},
   "outputs": [],
   "source": []
  },
  {
   "cell_type": "code",
   "execution_count": 16,
   "id": "3d2636d0",
   "metadata": {},
   "outputs": [
    {
     "name": "stderr",
     "output_type": "stream",
     "text": [
      "/tmp/ipykernel_105733/3937356145.py:6: RuntimeWarning: divide by zero encountered in log10\n",
      "  pl.errorbar(gama_lf['MEDIAN_M'], np.log10(gama_lf['PHI_N']), gama_lf['PHI_N_ERROR'] / gama_lf['PHI_N'] / np.log(10.), label='NOWEIGHT', alpha=0.4)\n",
      "/tmp/ipykernel_105733/3937356145.py:6: RuntimeWarning: invalid value encountered in true_divide\n",
      "  pl.errorbar(gama_lf['MEDIAN_M'], np.log10(gama_lf['PHI_N']), gama_lf['PHI_N_ERROR'] / gama_lf['PHI_N'] / np.log(10.), label='NOWEIGHT', alpha=0.4)\n",
      "/tmp/ipykernel_105733/3937356145.py:7: RuntimeWarning: divide by zero encountered in log10\n",
      "  pl.errorbar(gama_lf['MEDIAN_M'], np.log10(gama_lf['PHI_IVMAX']), gama_lf['PHI_IVMAX_ERROR'] / gama_lf['PHI_IVMAX'] / np.log(10.), label='IVMAX')\n",
      "/tmp/ipykernel_105733/3937356145.py:7: RuntimeWarning: invalid value encountered in true_divide\n",
      "  pl.errorbar(gama_lf['MEDIAN_M'], np.log10(gama_lf['PHI_IVMAX']), gama_lf['PHI_IVMAX_ERROR'] / gama_lf['PHI_IVMAX'] / np.log(10.), label='IVMAX')\n"
     ]
    },
    {
     "data": {
      "text/plain": [
       "<matplotlib.legend.Legend at 0x7fec4ea513d0>"
      ]
     },
     "execution_count": 16,
     "metadata": {},
     "output_type": "execute_result"
    },
    {
     "data": {
      "image/png": "[encoded data removed]",
      "text/plain": [
       "<Figure size 432x288 with 1 Axes>"
      ]
     },
     "metadata": {
      "needs_background": "light"
     },
     "output_type": "display_data"
    }
   ],
   "source": [
    "Ms = np.arange(-23., -15., 0.01)\n",
    "sc = named_schechter(Ms, named_type='TMR')\n",
    "\n",
    "pl.plot(Ms, np.log10(sc), label='TMR')\n",
    "\n",
    "pl.errorbar(gama_lf['MEDIAN_M'], np.log10(gama_lf['PHI_N']), gama_lf['PHI_N_ERROR'] / gama_lf['PHI_N'] / np.log(10.), label='NOWEIGHT', alpha=0.4)\n",
    "pl.errorbar(gama_lf['MEDIAN_M'], np.log10(gama_lf['PHI_IVMAX']), gama_lf['PHI_IVMAX_ERROR'] / gama_lf['PHI_IVMAX'] / np.log(10.), label='IVMAX')\n",
    "\n",
    "pl.xlabel(r'$M_r^e - 5 \\log_{10}(h)$')\n",
    "pl.ylabel(r'$\\log_{10} \\left[ \\frac{\\phi_\\delta(M)}{h^{-3} {\\rm Mpc}^{3} {\\rm Mag}^{}} \\right] $')\n",
    "\n",
    "pl.ylim(-4.25, -.75)\n",
    "pl.xlim(-23., -15.5)\n",
    "\n",
    "pl.legend(frameon=True, loc=2)"
   ]
  },
  {
   "cell_type": "code",
   "execution_count": 17,
   "id": "4db5f27c",
   "metadata": {},
   "outputs": [
    {
     "data": {
      "image/png": "[encoded data removed]",
      "text/plain": [
       "<Figure size 432x288 with 1 Axes>"
      ]
     },
     "metadata": {
      "needs_background": "light"
     },
     "output_type": "display_data"
    }
   ],
   "source": [
    "for d8 in [-0.75, 2., 10.]:\n",
    "    Ms = np.arange(-23., -15., 0.01)\n",
    "    sc = named_schechter(Ms, named_type='TMR')\n",
    "\n",
    "    sc *= (1. + d8)\n",
    "    \n",
    "    pl.semilogy(Ms, sc)"
   ]
  },
  {
   "cell_type": "code",
   "execution_count": 18,
   "id": "2b2ea415",
   "metadata": {},
   "outputs": [
    {
     "name": "stdout",
     "output_type": "stream",
     "text": [
      "/cosma/home/durham/dc-moor2/DESI/docs/nb\n"
     ]
    }
   ],
   "source": [
    "!pwd"
   ]
  },
  {
   "cell_type": "code",
   "execution_count": 19,
   "id": "ea60e01f",
   "metadata": {},
   "outputs": [],
   "source": [
    "#root = '/cosma/home/durham/{}/data/GAMA4/cobaya/'.format(os.environ['USER'])"
   ]
  },
  {
   "cell_type": "code",
   "execution_count": 20,
   "id": "bed8a0bc",
   "metadata": {},
   "outputs": [],
   "source": [
    "#dat = Table.read(root + 'schechter_chain.1.txt', format='ascii')        "
   ]
  },
  {
   "cell_type": "code",
   "execution_count": 21,
   "id": "14040c8e",
   "metadata": {},
   "outputs": [],
   "source": [
    "#samples = np.c_[dat['log10phistar'], dat['Mstar'], dat['alpha']]"
   ]
  },
  {
   "cell_type": "code",
   "execution_count": 22,
   "id": "d80b049f",
   "metadata": {},
   "outputs": [],
   "source": [
    "#samples = MCSamples(samples=samples, names=['log10phistar', 'Mstar', 'alpha'], labels=['log10phistar', 'Mstar', 'alpha'])"
   ]
  },
  {
   "cell_type": "code",
   "execution_count": 23,
   "id": "98ff3062",
   "metadata": {},
   "outputs": [],
   "source": [
    "tmr_ref = {'log10phistar': -2.01, 'Mstar': -20.89, 'alpha': -1.25}"
   ]
  },
  {
   "cell_type": "code",
   "execution_count": 24,
   "id": "972da4d3",
   "metadata": {},
   "outputs": [],
   "source": [
    "#g = plots.get_subplot_plotter()"
   ]
  },
  {
   "cell_type": "code",
   "execution_count": 13,
   "id": "e453fb14",
   "metadata": {},
   "outputs": [
    {
     "data": {
      "image/png": "[encoded data removed]",
      "text/plain": [
       "<Figure size 432x432 with 6 Axes>"
      ]
     },
     "metadata": {
      "needs_background": "light"
     },
     "output_type": "display_data"
    }
   ],
   "source": [
    "#g.triangle_plot([samples], filled=True)        "
   ]
  },
  {
   "cell_type": "markdown",
   "id": "847eeb3a",
   "metadata": {},
   "source": [
    "# Done."
   ]
  }
 ],
 "metadata": {
  "kernelspec": {
   "display_name": "Lumfn",
   "language": "python",
   "name": "lumfn"
  },
  "language_info": {
   "codemirror_mode": {
    "name": "ipython",
    "version": 3
   },
   "file_extension": ".py",
   "mimetype": "text/x-python",
   "name": "python",
   "nbconvert_exporter": "python",
   "pygments_lexer": "ipython3",
   "version": "3.9.9"
  }
 },
 "nbformat": 4,
 "nbformat_minor": 5
}
