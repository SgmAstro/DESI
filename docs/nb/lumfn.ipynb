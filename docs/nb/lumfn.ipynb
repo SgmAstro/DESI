{
 "cells": [
  {
   "cell_type": "code",
   "execution_count": 1,
   "id": "f9a56aad",
   "metadata": {},
   "outputs": [],
   "source": [
    "import os\n",
    "import sys\n",
    "import pylab as pl\n",
    "import numpy as np\n",
    "import matplotlib.pyplot as plt\n",
    "import numpy as np\n",
    "\n",
    "# from   getdist     import plots, MCSamples \n",
    "from   astropy.table import Table"
   ]
  },
  {
   "cell_type": "code",
   "execution_count": 2,
   "id": "302006e8",
   "metadata": {},
   "outputs": [],
   "source": [
    "sys.path.append(os.environ['HOME'])\n",
    "sys.path.append(os.environ['HOME'] + '/DESI/')"
   ]
  },
  {
   "cell_type": "code",
   "execution_count": 3,
   "id": "ab814935",
   "metadata": {},
   "outputs": [],
   "source": [
    "import pubplot\n",
    "\n",
    "from   schechter     import schechter, named_schechter\n",
    "from   findfile      import findfile"
   ]
  },
  {
   "cell_type": "code",
   "execution_count": 4,
   "id": "45e30373",
   "metadata": {},
   "outputs": [],
   "source": [
    "version = 'GAMA4'\n",
    "survey  = 'gama'\n",
    "dryrun  =  False"
   ]
  },
  {
   "cell_type": "code",
   "execution_count": 5,
   "id": "679d70bb",
   "metadata": {},
   "outputs": [
    {
     "data": {
      "text/plain": [
       "'/cosma/home/durham/dc-wils7/data/GAMA4/gama_gold.fits'"
      ]
     },
     "execution_count": 5,
     "metadata": {},
     "output_type": "execute_result"
    }
   ],
   "source": [
    "fpath = findfile(ftype='gold', dryrun=dryrun, version=version, survey=survey)\n",
    "fpath"
   ]
  },
  {
   "cell_type": "code",
   "execution_count": 6,
   "id": "cb818f69",
   "metadata": {},
   "outputs": [
    {
     "data": {
      "text/plain": [
       "OrderedDict([('AREA', 180.0),\n",
       "             ('GOLD_NGAL', 121975),\n",
       "             ('IMMUTABLE', 'FALSE'),\n",
       "             ('RLIM', 19.8),\n",
       "             ('RMAX', 12.0),\n",
       "             ('MAX_SEP', 70.0)])"
      ]
     },
     "execution_count": 6,
     "metadata": {},
     "output_type": "execute_result"
    }
   ],
   "source": [
    "gold = Table.read(fpath)\n",
    "gold.meta"
   ]
  },
  {
   "cell_type": "markdown",
   "id": "437336e4",
   "metadata": {},
   "source": [
    "##  VMAX"
   ]
  },
  {
   "cell_type": "code",
   "execution_count": 7,
   "id": "b5992581",
   "metadata": {},
   "outputs": [
    {
     "data": {
      "text/html": [
       "<div><i>Table length=89447</i>\n",
       "<table id=\"table139989510427120\" class=\"table-striped table-bordered table-condensed\">\n",
       "<thead><tr><th>ZSURV</th><th>ZMAX</th><th>RA</th><th>MALL_0P0</th><th>ZMIN</th><th>DEC</th><th>FILLFACTOR_VMAX</th><th>MCOLOR_0P0</th><th>FIELD</th><th>WEIGHT_STEPWISE</th><th>FILLFACTOR</th><th>IN_D8LUMFN</th><th>VMAX</th><th>VZ</th></tr></thead>\n",
       "<thead><tr><th></th><th></th><th>deg</th><th>mag</th><th></th><th>deg</th><th></th><th>mag</th><th></th><th></th><th></th><th></th><th></th><th></th></tr></thead>\n",
       "<thead><tr><th>float32</th><th>float64</th><th>float64</th><th>float64</th><th>float64</th><th>float64</th><th>float64</th><th>float64</th><th>bytes3</th><th>float64</th><th>float64</th><th>int64</th><th>float64</th><th>float64</th></tr></thead>\n",
       "<tr><td>0.11227</td><td>0.13951500174464584</td><td>139.23047512</td><td>-18.412949724847653</td><td>0.036729998886585236</td><td>2.42943373</td><td>0.624288538250441</td><td>-18.28383923953233</td><td>G9</td><td>2.5324446308643034</td><td>0.8127160046085126</td><td>0</td><td>753859.1474602104</td><td>628625.4377848413</td></tr>\n",
       "<tr><td>0.2254</td><td>0.2706100046634674</td><td>138.86944953</td><td>-20.208060991154216</td><td>0.036729998886585236</td><td>1.81225715</td><td>0.7797192364390116</td><td>-19.948851030455135</td><td>G9</td><td>6.771929604808127</td><td>1.0</td><td>0</td><td>6424956.386552604</td><td>4894603.446660215</td></tr>\n",
       "<tr><td>0.1255</td><td>0.2706100046634674</td><td>176.25074554</td><td>-21.113859631034448</td><td>0.036729998886585236</td><td>-2.1572505</td><td>0.7797192364390116</td><td>-21.13519463679464</td><td>G12</td><td>2.7879565542227054</td><td>0.9235727057534775</td><td>0</td><td>6424956.386552604</td><td>880228.4288816366</td></tr>\n",
       "<tr><td>0.15249</td><td>0.20225379188420323</td><td>220.52254643</td><td>-19.487879407746767</td><td>0.036729998886585236</td><td>-0.86410375</td><td>0.7287106967347928</td><td>-19.513802704555964</td><td>G15</td><td>3.8510701868189137</td><td>1.0</td><td>0</td><td>2610878.7742084656</td><td>1571184.8076225782</td></tr>\n",
       "<tr><td>0.10522</td><td>0.2706100046634674</td><td>177.58136829</td><td>-20.735181361511753</td><td>0.036729998886585236</td><td>-0.95353519</td><td>0.7797192364390116</td><td>-20.75306876756291</td><td>G12</td><td>2.310720721840845</td><td>1.0</td><td>0</td><td>6424956.386552604</td><td>515559.4551880245</td></tr>\n",
       "<tr><td>0.08552</td><td>0.12298310172853909</td><td>216.57421687</td><td>-18.194280052310624</td><td>0.036729998886585236</td><td>0.96169929</td><td>0.5851567325943148</td><td>-18.095932068056264</td><td>G15</td><td>1.923196749417998</td><td>1.0</td><td>0</td><td>484643.0275549797</td><td>269199.9442781308</td></tr>\n",
       "<tr><td>0.15623</td><td>0.21694002031558093</td><td>136.61920934</td><td>-19.39528787747765</td><td>0.036729998886585236</td><td>-0.49210816</td><td>0.7458250316399908</td><td>-19.215623414672855</td><td>G9</td><td>3.8510701868189137</td><td>1.0</td><td>0</td><td>3270659.631652062</td><td>1687458.8111005237</td></tr>\n",
       "<tr><td>0.25777</td><td>0.2706100046634674</td><td>221.42715873</td><td>-20.69536718886722</td><td>0.036729998886585236</td><td>-1.7624878</td><td>0.7797192364390116</td><td>-20.73918807667125</td><td>G15</td><td>10.03096547575655</td><td>0.834164619761692</td><td>0</td><td>6424956.386552604</td><td>7179212.017488108</td></tr>\n",
       "<tr><td>0.23901</td><td>0.2593676718803533</td><td>138.64172429</td><td>-20.098740326782874</td><td>0.036729998886585236</td><td>1.08625482</td><td>0.7836315462259821</td><td>-20.139372038265876</td><td>G9</td><td>8.14707142294824</td><td>1.0</td><td>0</td><td>5725444.910350502</td><td>5788953.020422685</td></tr>\n",
       "<tr><td>0.13033</td><td>0.2643666094349375</td><td>183.70785433</td><td>-20.192216573558476</td><td>0.036729998886585236</td><td>0.20429582</td><td>0.7874011298128855</td><td>-20.214372670553352</td><td>G12</td><td>3.087135203663567</td><td>1.0</td><td>0</td><td>6073162.230133044</td><td>985689.6289771759</td></tr>\n",
       "<tr><td>0.25985</td><td>0.2706100046634674</td><td>185.48326182</td><td>-19.910606888179068</td><td>0.036729998886585236</td><td>0.95977698</td><td>0.7797192364390116</td><td>-19.61177941883016</td><td>G12</td><td>10.03096547575655</td><td>0.9590095481804695</td><td>0</td><td>6424956.386552604</td><td>7344935.543831965</td></tr>\n",
       "<tr><td>...</td><td>...</td><td>...</td><td>...</td><td>...</td><td>...</td><td>...</td><td>...</td><td>...</td><td>...</td><td>...</td><td>...</td><td>...</td><td>...</td></tr>\n",
       "<tr><td>0.13236</td><td>0.13621617556153892</td><td>217.79375545</td><td>-18.44852358769695</td><td>0.036729998886585236</td><td>-0.47596927</td><td>0.6185944139315447</td><td>-18.296309611909788</td><td>G15</td><td>3.087135203663567</td><td>1.0</td><td>0</td><td>695660.0095156177</td><td>1032284.6643661438</td></tr>\n",
       "<tr><td>0.26434</td><td>0.2706100046634674</td><td>182.99610638</td><td>-20.361432743547383</td><td>0.036729998886585236</td><td>1.66438787</td><td>0.7797192364390116</td><td>-20.057441783426228</td><td>G12</td><td>10.03096547575655</td><td>0.8677363652188422</td><td>0</td><td>6424956.386552604</td><td>7710720.780174909</td></tr>\n",
       "<tr><td>0.24798</td><td>0.25355003465076886</td><td>130.47949303</td><td>-20.043958265062585</td><td>0.036729998886585236</td><td>-0.61272559</td><td>0.7797816636561092</td><td>-20.086114871975198</td><td>G9</td><td>8.14707142294824</td><td>1.0</td><td>0</td><td>5341639.516362456</td><td>6430468.356453753</td></tr>\n",
       "<tr><td>0.16259</td><td>0.2706100046634674</td><td>138.51726998</td><td>-20.69430306472541</td><td>0.036729998886585236</td><td>1.66725002</td><td>0.7797192364390116</td><td>-20.72194336273433</td><td>G9</td><td>3.8510701868189137</td><td>1.0</td><td>0</td><td>6424956.386552604</td><td>1897437.6355953156</td></tr>\n",
       "<tr><td>0.0924</td><td>0.1383356476808</td><td>176.42644071</td><td>-18.431461240407636</td><td>0.036729998886585236</td><td>-0.77077665</td><td>0.624288538250441</td><td>-18.325201261099984</td><td>G12</td><td>2.104033460643596</td><td>1.0</td><td>0</td><td>735073.520782928</td><td>344260.76655939233</td></tr>\n",
       "<tr><td>0.21682</td><td>0.2706100046634674</td><td>214.26191567</td><td>-20.280147005804082</td><td>0.036729998886585236</td><td>2.01941065</td><td>0.7797192364390116</td><td>-20.317006413825055</td><td>G15</td><td>6.771929604808127</td><td>1.0</td><td>0</td><td>6424956.386552604</td><td>4378316.782078286</td></tr>\n",
       "<tr><td>0.17507</td><td>0.2706100046634674</td><td>179.07636441</td><td>-20.3599088953914</td><td>0.036729998886585236</td><td>-1.34531968</td><td>0.7797192364390116</td><td>-20.158578427332813</td><td>G12</td><td>4.346382165771279</td><td>1.0</td><td>0</td><td>6424956.386552604</td><td>2355975.245677103</td></tr>\n",
       "<tr><td>0.22913</td><td>0.26095276844642157</td><td>180.07279219</td><td>-20.135809254401053</td><td>0.036729998886585236</td><td>0.09171965</td><td>0.7855036433550008</td><td>-20.17476136659893</td><td>G12</td><td>6.771929604808127</td><td>1.0</td><td>0</td><td>5839240.420412603</td><td>5130401.169535404</td></tr>\n",
       "<tr><td>0.22859</td><td>0.2706100046634674</td><td>179.78766145</td><td>-20.15520675924882</td><td>0.036729998886585236</td><td>-1.90736208</td><td>0.7797192364390116</td><td>-19.892328296576586</td><td>G12</td><td>6.771929604808127</td><td>1.0</td><td>0</td><td>6424956.386552604</td><td>5095833.154779242</td></tr>\n",
       "<tr><td>0.12488</td><td>0.2706100046634674</td><td>177.58684774</td><td>-20.24076180645294</td><td>0.036729998886585236</td><td>-0.08128385</td><td>0.7797192364390116</td><td>-20.26199140884943</td><td>G12</td><td>2.7879565542227054</td><td>1.0</td><td>0</td><td>6424956.386552604</td><td>867233.2948587645</td></tr>\n",
       "<tr><td>0.19449</td><td>0.23412698254592593</td><td>136.4771262</td><td>-19.850249691168152</td><td>0.036729998886585236</td><td>0.02915729</td><td>0.7629100067389706</td><td>-19.88331298367151</td><td>G9</td><td>5.762267098612436</td><td>1.0</td><td>0</td><td>4163397.842348219</td><td>3199175.9007850057</td></tr>\n",
       "</table></div>"
      ],
      "text/plain": [
       "<Table length=89447>\n",
       " ZSURV          ZMAX             RA            MALL_0P0              ZMIN             DEC     ... FIELD   WEIGHT_STEPWISE       FILLFACTOR     IN_D8LUMFN        VMAX                VZ        \n",
       "                                deg              mag                                  deg     ...                                                                                              \n",
       "float32       float64         float64          float64             float64          float64   ... bytes3      float64            float64         int64         float64            float64      \n",
       "------- ------------------- ------------ ------------------- -------------------- ----------- ... ------ ------------------ ------------------ ---------- ------------------ ------------------\n",
       "0.11227 0.13951500174464584 139.23047512 -18.412949724847653 0.036729998886585236  2.42943373 ...     G9 2.5324446308643034 0.8127160046085126          0  753859.1474602104  628625.4377848413\n",
       " 0.2254  0.2706100046634674 138.86944953 -20.208060991154216 0.036729998886585236  1.81225715 ...     G9  6.771929604808127                1.0          0  6424956.386552604  4894603.446660215\n",
       " 0.1255  0.2706100046634674 176.25074554 -21.113859631034448 0.036729998886585236  -2.1572505 ...    G12 2.7879565542227054 0.9235727057534775          0  6424956.386552604  880228.4288816366\n",
       "0.15249 0.20225379188420323 220.52254643 -19.487879407746767 0.036729998886585236 -0.86410375 ...    G15 3.8510701868189137                1.0          0 2610878.7742084656 1571184.8076225782\n",
       "0.10522  0.2706100046634674 177.58136829 -20.735181361511753 0.036729998886585236 -0.95353519 ...    G12  2.310720721840845                1.0          0  6424956.386552604  515559.4551880245\n",
       "0.08552 0.12298310172853909 216.57421687 -18.194280052310624 0.036729998886585236  0.96169929 ...    G15  1.923196749417998                1.0          0  484643.0275549797  269199.9442781308\n",
       "0.15623 0.21694002031558093 136.61920934  -19.39528787747765 0.036729998886585236 -0.49210816 ...     G9 3.8510701868189137                1.0          0  3270659.631652062 1687458.8111005237\n",
       "0.25777  0.2706100046634674 221.42715873  -20.69536718886722 0.036729998886585236  -1.7624878 ...    G15  10.03096547575655  0.834164619761692          0  6424956.386552604  7179212.017488108\n",
       "0.23901  0.2593676718803533 138.64172429 -20.098740326782874 0.036729998886585236  1.08625482 ...     G9   8.14707142294824                1.0          0  5725444.910350502  5788953.020422685\n",
       "0.13033  0.2643666094349375 183.70785433 -20.192216573558476 0.036729998886585236  0.20429582 ...    G12  3.087135203663567                1.0          0  6073162.230133044  985689.6289771759\n",
       "0.25985  0.2706100046634674 185.48326182 -19.910606888179068 0.036729998886585236  0.95977698 ...    G12  10.03096547575655 0.9590095481804695          0  6424956.386552604  7344935.543831965\n",
       "    ...                 ...          ...                 ...                  ...         ... ...    ...                ...                ...        ...                ...                ...\n",
       "0.13236 0.13621617556153892 217.79375545  -18.44852358769695 0.036729998886585236 -0.47596927 ...    G15  3.087135203663567                1.0          0  695660.0095156177 1032284.6643661438\n",
       "0.26434  0.2706100046634674 182.99610638 -20.361432743547383 0.036729998886585236  1.66438787 ...    G12  10.03096547575655 0.8677363652188422          0  6424956.386552604  7710720.780174909\n",
       "0.24798 0.25355003465076886 130.47949303 -20.043958265062585 0.036729998886585236 -0.61272559 ...     G9   8.14707142294824                1.0          0  5341639.516362456  6430468.356453753\n",
       "0.16259  0.2706100046634674 138.51726998  -20.69430306472541 0.036729998886585236  1.66725002 ...     G9 3.8510701868189137                1.0          0  6424956.386552604 1897437.6355953156\n",
       " 0.0924     0.1383356476808 176.42644071 -18.431461240407636 0.036729998886585236 -0.77077665 ...    G12  2.104033460643596                1.0          0   735073.520782928 344260.76655939233\n",
       "0.21682  0.2706100046634674 214.26191567 -20.280147005804082 0.036729998886585236  2.01941065 ...    G15  6.771929604808127                1.0          0  6424956.386552604  4378316.782078286\n",
       "0.17507  0.2706100046634674 179.07636441   -20.3599088953914 0.036729998886585236 -1.34531968 ...    G12  4.346382165771279                1.0          0  6424956.386552604  2355975.245677103\n",
       "0.22913 0.26095276844642157 180.07279219 -20.135809254401053 0.036729998886585236  0.09171965 ...    G12  6.771929604808127                1.0          0  5839240.420412603  5130401.169535404\n",
       "0.22859  0.2706100046634674 179.78766145  -20.15520675924882 0.036729998886585236 -1.90736208 ...    G12  6.771929604808127                1.0          0  6424956.386552604  5095833.154779242\n",
       "0.12488  0.2706100046634674 177.58684774  -20.24076180645294 0.036729998886585236 -0.08128385 ...    G12 2.7879565542227054                1.0          0  6424956.386552604  867233.2948587645\n",
       "0.19449 0.23412698254592593  136.4771262 -19.850249691168152 0.036729998886585236  0.02915729 ...     G9  5.762267098612436                1.0          0  4163397.842348219 3199175.9007850057"
      ]
     },
     "execution_count": 7,
     "metadata": {},
     "output_type": "execute_result"
    }
   ],
   "source": [
    "fpath = findfile(ftype='vmax', dryrun=dryrun, version=version, survey=survey)\n",
    "vmax  = Table.read(fpath)\n",
    "vmax"
   ]
  },
  {
   "cell_type": "markdown",
   "id": "2ba932c4",
   "metadata": {},
   "source": [
    "##  LUMFN"
   ]
  },
  {
   "cell_type": "code",
   "execution_count": 63,
   "id": "f759a24d",
   "metadata": {},
   "outputs": [
    {
     "data": {
      "text/html": [
       "<div><i>Table length=35</i>\n",
       "<table id=\"table139993595907856\" class=\"table-striped table-bordered table-condensed\">\n",
       "<thead><tr><th>MEDIAN_M</th><th>MEAN_M</th><th>MID_M</th><th>PHI_N</th><th>PHI_N_ERROR</th><th>PHI_IVMAX</th><th>PHI_IVMAX_ERROR</th><th>N</th><th>V_ON_VMAX</th></tr></thead>\n",
       "<thead><tr><th>float64</th><th>float64</th><th>float64</th><th>float64</th><th>float64</th><th>float64</th><th>float64</th><th>float64</th><th>float64</th></tr></thead>\n",
       "<tr><td>-22.86941678391988</td><td>-22.876693474739298</td><td>-22.9</td><td>7.281474203351414e-06</td><td>2.101980545701127e-06</td><td>9.338584791887404e-06</td><td>2.6958172217231694e-06</td><td>12.0</td><td>0.7797192364390116</td></tr>\n",
       "<tr><td>-22.702940486355928</td><td>-22.697631649122812</td><td>-22.7</td><td>3.519379198286517e-05</td><td>4.621171284077127e-06</td><td>4.513649316078912e-05</td><td>5.926711908740482e-06</td><td>58.0</td><td>0.7797192364390116</td></tr>\n",
       "<tr><td>-22.460512862497843</td><td>-22.477419668793196</td><td>-22.5</td><td>6.067895169459511e-05</td><td>6.067895169459511e-06</td><td>7.782153993239503e-05</td><td>7.782153993239504e-06</td><td>100.0</td><td>0.7797192364390116</td></tr>\n",
       "<tr><td>-22.285152852901053</td><td>-22.29003533190117</td><td>-22.299999999999997</td><td>0.00012560543000781187</td><td>8.73018088015527e-06</td><td>0.0001610905876600578</td><td>1.1196569832015593e-05</td><td>207.0</td><td>0.7797192364390116</td></tr>\n",
       "<tr><td>-22.091182436781967</td><td>-22.094805317626292</td><td>-22.099999999999998</td><td>0.00023968185919365069</td><td>1.2059703129050183e-05</td><td>0.0003073950827329604</td><td>1.5466725156258823e-05</td><td>395.0</td><td>0.7797192364390116</td></tr>\n",
       "<tr><td>-21.885638324898856</td><td>-21.890290085083112</td><td>-21.9</td><td>0.00043628166268413885</td><td>1.6270560511318747e-05</td><td>0.0005595368721139204</td><td>2.0867204181888108e-05</td><td>719.0</td><td>0.7797192364390116</td></tr>\n",
       "<tr><td>-21.687855113067435</td><td>-21.691275091350917</td><td>-21.7</td><td>0.0007056962082081412</td><td>2.0693212928136785e-05</td><td>0.0009050645094137543</td><td>2.6539313077157065e-05</td><td>1163.0</td><td>0.7797192364390116</td></tr>\n",
       "<tr><td>-21.49144370621172</td><td>-21.49353087559289</td><td>-21.5</td><td>0.0011620019249514964</td><td>2.655354188675371e-05</td><td>0.0014902824897053647</td><td>3.40552607218261e-05</td><td>1915.0</td><td>0.7797192364390116</td></tr>\n",
       "<tr><td>-21.288374642925596</td><td>-21.293132911706085</td><td>-21.299999999999997</td><td>0.0015503472157969052</td><td>3.067139446083116e-05</td><td>--</td><td>--</td><td>2555.0</td><td>--</td></tr>\n",
       "<tr><td>-21.092382082603322</td><td>-21.09475592102927</td><td>-21.099999999999998</td><td>0.002125583677861667</td><td>3.5913533564909466e-05</td><td>--</td><td>--</td><td>3503.0</td><td>--</td></tr>\n",
       "<tr><td>-20.893878600730453</td><td>-20.896354323314533</td><td>-20.9</td><td>0.0027281256681889964</td><td>4.0686583247653655e-05</td><td>0.003498856435360481</td><td>5.218106896204053e-05</td><td>4496.0</td><td>0.7797192364390116</td></tr>\n",
       "<tr><td>...</td><td>...</td><td>...</td><td>...</td><td>...</td><td>...</td><td>...</td><td>...</td><td>...</td></tr>\n",
       "<tr><td>-18.30338994184227</td><td>-18.302901248800772</td><td>-18.299999999999997</td><td>0.0011067840789094148</td><td>2.5914956619776797e-05</td><td>0.013636425603077403</td><td>0.00032464474690158563</td><td>1824.0</td><td>0.08493872538214059</td></tr>\n",
       "<tr><td>-18.107368378580652</td><td>-18.10535222893707</td><td>-18.099999999999998</td><td>0.0007615208437671687</td><td>2.149611278658896e-05</td><td>0.01288411011088791</td><td>0.00036894748223017675</td><td>1255.0</td><td>0.060965752338508254</td></tr>\n",
       "<tr><td>-17.906559612681008</td><td>-17.90437864041988</td><td>-17.9</td><td>0.0005600667241411129</td><td>1.8434820774802426e-05</td><td>0.013231955017783945</td><td>0.0004407543499898015</td><td>923.0</td><td>0.043697599485639685</td></tr>\n",
       "<tr><td>-17.707447757851718</td><td>-17.703880747281804</td><td>-17.7</td><td>0.00043021376751467934</td><td>1.6157017180585345e-05</td><td>0.014472860232578204</td><td>0.0005500574377330384</td><td>709.0</td><td>0.030470943944442455</td></tr>\n",
       "<tr><td>-17.50922276523734</td><td>-17.5029287325915</td><td>-17.5</td><td>0.0003343410238372191</td><td>1.4243406486841581e-05</td><td>0.016058911277739348</td><td>0.0006915466387508647</td><td>551.0</td><td>0.021332002643902302</td></tr>\n",
       "<tr><td>-17.309857221264554</td><td>-17.30659491942456</td><td>-17.299999999999997</td><td>0.0002645602293884347</td><td>1.2670137086619004e-05</td><td>0.018330383692414496</td><td>0.0008862228950585889</td><td>436.0</td><td>0.014647675761533517</td></tr>\n",
       "<tr><td>-17.100994008387858</td><td>-17.103872361362537</td><td>-17.099999999999998</td><td>0.00016747390667708252</td><td>1.0080744562463538e-05</td><td>0.01723911582921307</td><td>0.001047249438879099</td><td>276.0</td><td>0.009823379307791851</td></tr>\n",
       "<tr><td>-16.90893524406279</td><td>-16.902511552489766</td><td>-16.9</td><td>0.00010072705981302789</td><td>7.817936042673483e-06</td><td>0.016226779032918807</td><td>0.0012737117403959393</td><td>166.0</td><td>0.00633297153945396</td></tr>\n",
       "<tr><td>-16.713200732154363</td><td>-16.703978934052817</td><td>-16.7</td><td>7.58486896182439e-05</td><td>6.784113039627036e-06</td><td>0.019543455066107347</td><td>0.0017703671623299098</td><td>125.0</td><td>0.004072276602423051</td></tr>\n",
       "<tr><td>-16.506858331272234</td><td>-16.50689126930861</td><td>-16.5</td><td>6.674684686405462e-05</td><td>6.3640621434980556e-06</td><td>0.029157253113782124</td><td>0.0028321038678628375</td><td>110.0</td><td>0.0022842435671603157</td></tr>\n",
       "<tr><td>-16.323727387846468</td><td>-16.314128832262266</td><td>-16.299999999999997</td><td>4.611600328789229e-05</td><td>5.2898683687345245e-06</td><td>0.03400611825106452</td><td>0.003974441370547859</td><td>76.0</td><td>0.001440562622240019</td></tr>\n",
       "<tr><td>-16.10424171449418</td><td>-16.103531708805722</td><td>-16.099999999999998</td><td>1.7596895991432584e-05</td><td>3.2676615519954814e-06</td><td>0.027147315724556538</td><td>0.005166330683002421</td><td>29.0</td><td>0.0006241856743616043</td></tr>\n",
       "</table></div>"
      ],
      "text/plain": [
       "<Table length=35>\n",
       "       MEDIAN_M               MEAN_M              MID_M                PHI_N               PHI_N_ERROR             PHI_IVMAX          PHI_IVMAX_ERROR        N          V_ON_VMAX      \n",
       "       float64               float64             float64              float64                float64                float64               float64         float64        float64       \n",
       "---------------------- ------------------- ------------------- ---------------------- ---------------------- --------------------- ---------------------- ------- ---------------------\n",
       "-2.286941678391988e+01 -22.876693474739298               -22.9  7.281474203351414e-06  2.101980545701127e-06 9.338584791887404e-06 2.6958172217231694e-06    12.0    0.7797192364390116\n",
       "   -22.702940486355928 -22.697631649122812               -22.7  3.519379198286517e-05  4.621171284077127e-06 4.513649316078912e-05  5.926711908740482e-06    58.0    0.7797192364390116\n",
       "   -22.460512862497843 -22.477419668793196               -22.5  6.067895169459511e-05  6.067895169459511e-06 7.782153993239503e-05  7.782153993239504e-06   100.0    0.7797192364390116\n",
       "   -22.285152852901053  -22.29003533190117 -22.299999999999997 0.00012560543000781187   8.73018088015527e-06 0.0001610905876600578 1.1196569832015593e-05   207.0    0.7797192364390116\n",
       "   -22.091182436781967 -22.094805317626292 -22.099999999999998 0.00023968185919365069 1.2059703129050183e-05 0.0003073950827329604 1.5466725156258823e-05   395.0    0.7797192364390116\n",
       "   -21.885638324898856 -21.890290085083112               -21.9 0.00043628166268413885 1.6270560511318747e-05 0.0005595368721139204 2.0867204181888108e-05   719.0    0.7797192364390116\n",
       "   -21.687855113067435 -21.691275091350917               -21.7  0.0007056962082081412 2.0693212928136785e-05 0.0009050645094137543 2.6539313077157065e-05  1163.0    0.7797192364390116\n",
       "    -21.49144370621172  -21.49353087559289               -21.5  0.0011620019249514964  2.655354188675371e-05 0.0014902824897053647   3.40552607218261e-05  1915.0    0.7797192364390116\n",
       "   -21.288374642925596 -21.293132911706085 -21.299999999999997  0.0015503472157969052  3.067139446083116e-05                    --                     --  2555.0                    --\n",
       "   -21.092382082603322  -21.09475592102927 -21.099999999999998   0.002125583677861667 3.5913533564909466e-05                    --                     --  3503.0                    --\n",
       "   -20.893878600730453 -20.896354323314533               -20.9  0.0027281256681889964 4.0686583247653655e-05  0.003498856435360481  5.218106896204053e-05  4496.0    0.7797192364390116\n",
       "                   ...                 ...                 ...                    ...                    ...                   ...                    ...     ...                   ...\n",
       "    -18.30338994184227 -18.302901248800772 -18.299999999999997  0.0011067840789094148 2.5914956619776797e-05  0.013636425603077403 0.00032464474690158563  1824.0   0.08493872538214059\n",
       "   -18.107368378580652  -18.10535222893707 -18.099999999999998  0.0007615208437671687  2.149611278658896e-05   0.01288411011088791 0.00036894748223017675  1255.0  0.060965752338508254\n",
       "   -17.906559612681008  -17.90437864041988               -17.9  0.0005600667241411129 1.8434820774802426e-05  0.013231955017783945  0.0004407543499898015   923.0  0.043697599485639685\n",
       "   -17.707447757851718 -17.703880747281804               -17.7 0.00043021376751467934 1.6157017180585345e-05  0.014472860232578204  0.0005500574377330384   709.0  0.030470943944442455\n",
       "    -17.50922276523734   -17.5029287325915               -17.5  0.0003343410238372191 1.4243406486841581e-05  0.016058911277739348  0.0006915466387508647   551.0  0.021332002643902302\n",
       "   -17.309857221264554  -17.30659491942456 -17.299999999999997  0.0002645602293884347 1.2670137086619004e-05  0.018330383692414496  0.0008862228950585889   436.0  0.014647675761533517\n",
       "   -17.100994008387858 -17.103872361362537 -17.099999999999998 0.00016747390667708252 1.0080744562463538e-05   0.01723911582921307   0.001047249438879099   276.0  0.009823379307791851\n",
       "    -16.90893524406279 -16.902511552489766               -16.9 0.00010072705981302789  7.817936042673483e-06  0.016226779032918807  0.0012737117403959393   166.0   0.00633297153945396\n",
       "   -16.713200732154363 -16.703978934052817               -16.7   7.58486896182439e-05  6.784113039627036e-06  0.019543455066107347  0.0017703671623299098   125.0  0.004072276602423051\n",
       "   -16.506858331272234  -16.50689126930861               -16.5  6.674684686405462e-05 6.3640621434980556e-06  0.029157253113782124  0.0028321038678628375   110.0 0.0022842435671603157\n",
       "   -16.323727387846468 -16.314128832262266 -16.299999999999997  4.611600328789229e-05 5.2898683687345245e-06   0.03400611825106452   0.003974441370547859    76.0  0.001440562622240019\n",
       "    -16.10424171449418 -16.103531708805722 -16.099999999999998 1.7596895991432584e-05 3.2676615519954814e-06  0.027147315724556538   0.005166330683002421    29.0 0.0006241856743616043"
      ]
     },
     "execution_count": 63,
     "metadata": {},
     "output_type": "execute_result"
    }
   ],
   "source": [
    "fpath = findfile(ftype='lumfn', dryrun=dryrun, version=version, survey=survey)\n",
    "lumfn = Table.read(fpath)\n",
    "lumfn"
   ]
  },
  {
   "cell_type": "code",
   "execution_count": 64,
   "id": "455b64f3",
   "metadata": {},
   "outputs": [],
   "source": [
    "# read in TMR stepwise digitalisation\n",
    "fpath = '/cosma/home/durham/dc-wils7/DESI/data/tmr_ref_stepwise.txt'\n",
    "lumfn_TMR = Table.read(fpath, format='ascii', names=['Ms', 'PHI_STEP'])"
   ]
  },
  {
   "cell_type": "code",
   "execution_count": 65,
   "id": "ae1f37c1",
   "metadata": {},
   "outputs": [
    {
     "data": {
      "text/plain": [
       "array([-16.09353775, -16.29514379, -16.49667204, -16.6924892 ,\n",
       "       -16.89391373, -17.09533827, -17.29678224, -17.49821326,\n",
       "       -17.69409524, -17.89552626, -18.09140176, -18.29277443,\n",
       "       -18.49423138, -18.69570777, -18.89152493, -19.09295594,\n",
       "       -19.29441937, -19.49026246, -19.6917194 , -19.89320228,\n",
       "       -20.09468515, -20.29058659, -20.49206298, -20.68797089,\n",
       "       -20.89508707, -21.09103388, -21.29260103, -21.49421355,\n",
       "       -21.69590386, -21.89199329, -22.09933635, -22.29554895,\n",
       "       -22.49738836, -22.69362688, -22.89585525])"
      ]
     },
     "execution_count": 65,
     "metadata": {},
     "output_type": "execute_result"
    }
   ],
   "source": [
    "lumfn_TMR['Ms'].data"
   ]
  },
  {
   "cell_type": "code",
   "execution_count": 66,
   "id": "5945fce0",
   "metadata": {},
   "outputs": [
    {
     "data": {
      "text/plain": [
       "array([-16.10424171, -16.32372739, -16.50685833, -16.71320073,\n",
       "       -16.90893524, -17.10099401, -17.30985722, -17.50922277,\n",
       "       -17.70744776, -17.90655961, -18.10736838, -18.30338994,\n",
       "       -18.50270418, -18.70308043, -18.90834513, -19.10465709,\n",
       "       -19.3059802 , -19.5054812 , -19.70319877, -19.89999348,\n",
       "       -20.09950136, -20.29791103, -20.49676466, -20.69696098,\n",
       "       -20.8938786 , -21.09238208, -21.28837464, -21.49144371,\n",
       "       -21.68785511, -21.88563832, -22.09118244, -22.28515285,\n",
       "       -22.46051286, -22.70294049, -22.86941678])"
      ]
     },
     "execution_count": 66,
     "metadata": {},
     "output_type": "execute_result"
    }
   ],
   "source": [
    "lumfn['MEDIAN_M'].data[::-1]"
   ]
  },
  {
   "cell_type": "code",
   "execution_count": 67,
   "id": "619078fc",
   "metadata": {},
   "outputs": [
    {
     "data": {
      "text/plain": [
       "array([-16.10353171, -16.31412883, -16.50689127, -16.70397893,\n",
       "       -16.90251155, -17.10387236, -17.30659492, -17.50292873,\n",
       "       -17.70388075, -17.90437864, -18.10535223, -18.30290125,\n",
       "       -18.50273673, -18.70338697, -18.90523344, -19.10281414,\n",
       "       -19.30351787, -19.503221  , -19.70238102, -19.8999184 ,\n",
       "       -20.09992269, -20.29905075, -20.49781003, -20.69753456,\n",
       "       -20.89635432, -21.09475592, -21.29313291, -21.49353088,\n",
       "       -21.69127509, -21.89029009, -22.09480532, -22.29003533,\n",
       "       -22.47741967, -22.69763165, -22.87669347])"
      ]
     },
     "execution_count": 67,
     "metadata": {},
     "output_type": "execute_result"
    }
   ],
   "source": [
    "lumfn['MEAN_M'].data[::-1]"
   ]
  },
  {
   "cell_type": "code",
   "execution_count": 62,
   "id": "b410b8af",
   "metadata": {},
   "outputs": [
    {
     "data": {
      "text/plain": [
       "array([-16. , -16.2, -16.4, -16.6, -16.8, -17. , -17.2, -17.4, -17.6,\n",
       "       -17.8, -18. , -18.2, -18.4, -18.6, -18.8, -19. , -19.2, -19.4,\n",
       "       -19.6, -19.8, -20. , -20.2, -20.4, -20.6, -20.8, -21. , -21.2,\n",
       "       -21.4, -21.6, -21.8, -22. , -22.2, -22.4, -22.6, -22.8, -23. ])"
      ]
     },
     "execution_count": 62,
     "metadata": {},
     "output_type": "execute_result"
    }
   ],
   "source": [
    "np.linspace(-23, -16, 36)[::-1]"
   ]
  },
  {
   "cell_type": "code",
   "execution_count": 59,
   "id": "0c88c068",
   "metadata": {},
   "outputs": [
    {
     "data": {
      "text/plain": [
       "Text(0.5, 1.0, 'GAMA')"
      ]
     },
     "execution_count": 59,
     "metadata": {},
     "output_type": "execute_result"
    },
    {
     "data": {
      "image/png": "[encoded data removed]",
      "text/plain": [
       "<Figure size 720x360 with 1 Axes>"
      ]
     },
     "metadata": {
      "needs_background": "light"
     },
     "output_type": "display_data"
    }
   ],
   "source": [
    "fig, ax = plt.subplots(1,1,figsize=(10, 5))\n",
    "\n",
    "pl.sca(ax)\n",
    "\n",
    "pl.plot(lumfn_TMR['Ms'], lumfn_TMR['PHI_STEP'], label='TMR STEPWISE', lw=2.)\n",
    "\n",
    "sc = named_schechter(lumfn_step['Ms'], named_type='TMR')\n",
    "pl.plot(lumfn_step['Ms'], np.log10(sc), label='TMR_SCHT', lw=2.)\n",
    "\n",
    "# pl.plot(gama_lf['MEDIAN_M'], np.log10(gama_lf['PHI_N'] / 0.77), label='RAW', lw=2.)\n",
    "# pl.plot(gama_lf['MEDIAN_M'], np.log10(gama_lf['PHI_IVMAX']), label='IVMAX', lw=2.)\n",
    "pl.plot(gama_lf['MEAN_M'], np.log10(gama_lf['PHI_IVMAX']), label='IVMAX', lw=2.)\n",
    "# pl.plot(gama_lf['MID_M'], np.log10(gama_lf['PHI_IVMAX']), label='IVMAX', lw=2.)\n",
    "\n",
    "# pl.scatter(lumfn_TMR['Ms'], lumfn_TMR['PHI_STEP'], s=0.5)\n",
    "# pl.plot(lumfn_TMR['Ms'], lumfn_TMR['PHI_STEP'], label='TMR_SWML', lw=1.)\n",
    "\n",
    "pl.xlabel(r'$M$')\n",
    "pl.ylabel(r'$\\Phi(M)$')\n",
    "\n",
    "pl.ylim(-4.25, -1.)\n",
    "pl.xlim(-23., -15.5)\n",
    "\n",
    "pl.legend(frameon=False, loc=2)\n",
    "pl.title(survey.upper())"
   ]
  },
  {
   "cell_type": "code",
   "execution_count": 15,
   "id": "a668f995",
   "metadata": {},
   "outputs": [
    {
     "data": {
      "text/html": [
       "<div><i>Table length=121975</i>\n",
       "<table id=\"table139993606283216\" class=\"table-striped table-bordered table-condensed\">\n",
       "<thead><tr><th>CATAID</th><th>OBJID</th><th>RA</th><th>DEC</th><th>R_PETRO</th><th>ZGAMA</th><th>NQ</th><th>SPECID</th><th>SURVEY_CLASS</th><th>UMAG_DRED_SDSS</th><th>GMAG_DRED_SDSS</th><th>RMAG_DRED_SDSS</th><th>IMAG_DRED_SDSS</th><th>ZMAG_DRED_SDSS</th><th>ZSURV</th><th>LUMDIST</th><th>DISTMOD</th><th>FIELD</th><th>IN_D8LUMFN</th><th>CONSERVATIVE</th><th>CARTESIAN_X</th><th>CARTESIAN_Y</th><th>CARTESIAN_Z</th><th>ROTCARTESIAN_X</th><th>ROTCARTESIAN_Y</th><th>ROTCARTESIAN_Z</th><th>GMR</th><th>DETMAG</th></tr></thead>\n",
       "<thead><tr><th></th><th></th><th>deg</th><th>deg</th><th>mag</th><th></th><th></th><th></th><th></th><th>mag</th><th>mag</th><th>mag</th><th>mag</th><th>mag</th><th></th><th>Mpc</th><th></th><th></th><th></th><th></th><th></th><th></th><th></th><th></th><th></th><th></th><th>mag</th><th>mag</th></tr></thead>\n",
       "<thead><tr><th>int32</th><th>int64</th><th>float64</th><th>float64</th><th>float32</th><th>float32</th><th>int16</th><th>bytes33</th><th>int16</th><th>float32</th><th>float32</th><th>float32</th><th>float32</th><th>float32</th><th>float32</th><th>float64</th><th>float64</th><th>bytes3</th><th>int64</th><th>int64</th><th>float64</th><th>float64</th><th>float64</th><th>float64</th><th>float64</th><th>float64</th><th>float32</th><th>float32</th></tr></thead>\n",
       "<tr><td>388240</td><td>587727944566112503</td><td>139.23047512</td><td>2.42943373</td><td>19.356083</td><td>0.11227</td><td>4</td><td>G09_Y2_031_011</td><td>6</td><td>20.3459</td><td>19.531559</td><td>19.267254</td><td>19.008936</td><td>19.195526</td><td>0.11227</td><td>366.2462822650856</td><td>37.81886612449065</td><td>G9</td><td>0</td><td>0</td><td>-249.1522446068873</td><td>214.83129405937459</td><td>13.957745738742293</td><td>247.66335024615293</td><td>-216.5633713813023</td><td>13.686332116336128</td><td>0.2643051</td><td>19.356083</td></tr>\n",
       "<tr><td>325157</td><td>587726032767418968</td><td>138.86944953</td><td>1.81225715</td><td>19.22173</td><td>0.2254</td><td>4</td><td>G09_Y4_253_067</td><td>6</td><td>21.704472</td><td>19.943916</td><td>19.146784</td><td>18.666384</td><td>18.506607</td><td>0.2254</td><td>791.1401439652432</td><td>39.49126711002759</td><td>G9</td><td>0</td><td>0</td><td>-486.04440615291793</td><td>424.4601576273573</td><td>20.417394891190096</td><td>483.094981170063</td><td>-427.83895108584494</td><td>19.887968266947663</td><td>0.7971325</td><td>19.22173</td></tr>\n",
       "<tr><td>130171</td><td>587724649792274653</td><td>176.25074554</td><td>-2.1572505</td><td>17.006708</td><td>0.1255</td><td>5</td><td>369446390578833408</td><td>6</td><td>19.706766</td><td>17.904467</td><td>16.867277</td><td>16.402933</td><td>16.02349</td><td>0.1255</td><td>413.1612741247055</td><td>38.08059804025287</td><td>G12</td><td>0</td><td>0</td><td>-366.0460595877974</td><td>23.987142799511304</td><td>-13.818135719321639</td><td>365.85453873179625</td><td>-26.53894211237555</td><td>-14.21909543873022</td><td>1.0371895</td><td>17.006708</td></tr>\n",
       "<tr><td>545665</td><td>588848898856649042</td><td>220.52254643</td><td>-0.86410375</td><td>19.095922</td><td>0.15249</td><td>4</td><td>G15_Y2_002_265</td><td>6</td><td>21.510332</td><td>20.07794</td><td>19.05904</td><td>18.66895</td><td>18.377905</td><td>0.15249</td><td>511.2061887987847</td><td>38.54298051433635</td><td>G15</td><td>0</td><td>0</td><td>-337.13903023593866</td><td>-288.1734533157581</td><td>-6.689377784967644</td><td>339.13268826952515</td><td>285.81562943438297</td><td>-7.061047912403237</td><td>1.0188999</td><td>19.095922</td></tr>\n",
       "<tr><td>290245</td><td>587726031713992886</td><td>185.34163978</td><td>1.81082132</td><td>19.14047</td><td>0.16361</td><td>4</td><td>G12_Y2_009_257</td><td>6</td><td>21.65313</td><td>20.271473</td><td>19.233362</td><td>18.779257</td><td>18.44587</td><td>0.16361</td><td>552.4970718102051</td><td>38.711649903188096</td><td>G12</td><td>0</td><td>0</td><td>-472.5148811637885</td><td>-44.180259639245406</td><td>15.00386703622545</td><td>472.8276154162524</td><td>40.88441254195101</td><td>14.485689487946622</td><td>1.0381107</td><td>19.14047</td></tr>\n",
       "<tr><td>535365</td><td>588848898837840056</td><td>177.58136829</td><td>-0.95353519</td><td>16.963232</td><td>0.10522</td><td>5</td><td>319825974885640192</td><td>6</td><td>19.997427</td><td>17.861998</td><td>16.886753</td><td>16.444294</td><td>16.140514</td><td>0.10522</td><td>341.5586889969979</td><td>37.66732668968702</td><td>G12</td><td>0</td><td>0</td><td>-308.72330403807604</td><td>13.039909996167431</td><td>-5.142930593857436</td><td>308.6190518896802</td><td>-15.192272750390522</td><td>-5.481158945006616</td><td>0.9752445</td><td>16.963232</td></tr>\n",
       "<tr><td>106557</td><td>587722984440463590</td><td>216.57421687</td><td>0.96169929</td><td>19.00783</td><td>0.08552</td><td>4</td><td>G15_Y3_010_251</td><td>6</td><td>20.943867</td><td>19.534164</td><td>18.97323</td><td>18.60886</td><td>18.358973</td><td>0.08552</td><td>273.74063455962795</td><td>37.186696348306604</td><td>G15</td><td>0</td><td>0</td><td>-202.4893279922735</td><td>-150.2405157566001</td><td>4.232507136787574</td><td>203.53652550230868</td><td>148.82493661447845</td><td>4.00944764016569</td><td>0.56093407</td><td>19.00783</td></tr>\n",
       "<tr><td>550657</td><td>588848899356819772</td><td>136.61920934</td><td>-0.49210816</td><td>19.138739</td><td>0.15623</td><td>4</td><td>G09_Y2_018_212</td><td>6</td><td>20.555187</td><td>19.56972</td><td>19.076303</td><td>18.759174</td><td>18.509212</td><td>0.15623</td><td>525.0358291685608</td><td>38.600944706356</td><td>G9</td><td>0</td><td>0</td><td>-330.0248160824138</td><td>311.87942828255007</td><td>-3.9001140963384224</td><td>327.83763492651616</td><td>-314.1730582176836</td><td>-4.259403946825698</td><td>0.49341583</td><td>19.138739</td></tr>\n",
       "<tr><td>486791</td><td>587729777984209223</td><td>221.42715873</td><td>-1.7624878</td><td>19.201046</td><td>0.25777</td><td>4</td><td>G15_Y2_002_037</td><td>6</td><td>22.602844</td><td>20.461824</td><td>19.137342</td><td>18.63203</td><td>18.355726</td><td>0.25777</td><td>922.1592069227469</td><td>39.82402953324585</td><td>G15</td><td>0</td><td>0</td><td>-549.4689340063771</td><td>-484.8851127894692</td><td>-22.54964174447273</td><td>552.8115600177669</td><td>481.0419632154453</td><td>-23.15549874906925</td><td>1.324482</td><td>19.201046</td></tr>\n",
       "<tr><td>279667</td><td>587726031693546200</td><td>138.64172429</td><td>1.08625482</td><td>19.588549</td><td>0.23901</td><td>4</td><td>G09_Y6_086_374</td><td>5</td><td>22.22393</td><td>20.814838</td><td>19.618637</td><td>19.192026</td><td>18.937296</td><td>0.23901</td><td>845.7379723653586</td><td>39.636179150996526</td><td>G9</td><td>0</td><td>0</td><td>-512.2561334124446</td><td>450.9519736040533</td><td>12.940292527839569</td><td>509.11313786457265</td><td>-454.512893343782</td><td>12.382347302421023</td><td>1.1962013</td><td>19.588549</td></tr>\n",
       "<tr><td>220069</td><td>587726013995352303</td><td>180.37138547</td><td>1.60017536</td><td>18.483368</td><td>0.07852</td><td>4</td><td>G12_Y1_DX1_372</td><td>6</td><td>21.166113</td><td>19.267406</td><td>18.344435</td><td>17.840342</td><td>17.488226</td><td>0.07852</td><td>250.06136572431052</td><td>36.990232993861994</td><td>G12</td><td>0</td><td>0</td><td>-231.76073163140563</td><td>-1.5022707508833286</td><td>6.474509298318389</td><td>231.77252892499794</td><td>-0.11379744023741423</td><td>6.2205064296258525</td><td>0.9229717</td><td>18.483368</td></tr>\n",
       "<tr><td>...</td><td>...</td><td>...</td><td>...</td><td>...</td><td>...</td><td>...</td><td>...</td><td>...</td><td>...</td><td>...</td><td>...</td><td>...</td><td>...</td><td>...</td><td>...</td><td>...</td><td>...</td><td>...</td><td>...</td><td>...</td><td>...</td><td>...</td><td>...</td><td>...</td><td>...</td><td>...</td><td>...</td></tr>\n",
       "<tr><td>549162</td><td>588848899354133247</td><td>130.47949303</td><td>-0.61272559</td><td>19.742203</td><td>0.24798</td><td>4</td><td>G09_Y3_009_026</td><td>5</td><td>22.11167</td><td>20.969812</td><td>19.722153</td><td>19.158888</td><td>18.8232</td><td>0.24798</td><td>882.1114570581069</td><td>39.72761731413481</td><td>G9</td><td>0</td><td>0</td><td>-458.83163844615837</td><td>537.6123409192854</td><td>-7.558766788615712</td><td>455.0632392646271</td><td>-540.7986331700546</td><td>-8.057489351565367</td><td>1.2476597</td><td>19.742203</td></tr>\n",
       "<tr><td>377676</td><td>587727943492043119</td><td>138.51726998</td><td>1.66725002</td><td>18.053364</td><td>0.16259</td><td>4</td><td>G09_Y1_HN1_242</td><td>6</td><td>21.142492</td><td>19.22662</td><td>18.102617</td><td>17.663475</td><td>17.350876</td><td>0.16259</td><td>548.6881110138557</td><td>38.69662774997787</td><td>G9</td><td>0</td><td>0</td><td>-353.41663100748866</td><td>312.4867647107503</td><td>13.731429899349443</td><td>351.2439552239651</td><td>-314.94348738206463</td><td>13.346498919365324</td><td>1.1240025</td><td>18.053364</td></tr>\n",
       "<tr><td>39326</td><td>587722982275350842</td><td>176.42644071</td><td>-0.77077665</td><td>18.93469</td><td>0.0924</td><td>4</td><td>G12_Y1_BS2_318</td><td>6</td><td>20.565266</td><td>19.32992</td><td>18.848976</td><td>18.647947</td><td>18.59998</td><td>0.0924</td><td>297.2286917993326</td><td>37.36545365008409</td><td>G12</td><td>0</td><td>0</td><td>-271.5341722953649</td><td>16.957682848401756</td><td>-3.6601752030930945</td><td>271.4051535593993</td><td>-18.850636306157245</td><td>-3.9576187897644917</td><td>0.48094368</td><td>18.93469</td></tr>\n",
       "<tr><td>250202</td><td>587726015083905391</td><td>214.26191567</td><td>2.01941065</td><td>19.17752</td><td>0.21682</td><td>4</td><td>G15_Y6_071_123</td><td>6</td><td>22.48304</td><td>20.401455</td><td>19.172842</td><td>18.702164</td><td>18.417517</td><td>0.21682</td><td>757.090909808524</td><td>39.39574015877952</td><td>G15</td><td>0</td><td>0</td><td>-513.9021009328251</td><td>-350.0599296212453</td><td>21.924706185044887</td><td>516.3542392050686</td><td>346.46805974145695</td><td>21.35883060583046</td><td>1.2286129</td><td>19.17752</td></tr>\n",
       "<tr><td>144183</td><td>587724650867261683</td><td>179.07636441</td><td>-1.34531968</td><td>18.4605</td><td>0.17507</td><td>4</td><td>G12_Y1_DS2_001</td><td>6</td><td>20.363344</td><td>19.028118</td><td>18.409452</td><td>18.106134</td><td>17.893438</td><td>0.17507</td><td>595.5884502576293</td><td>38.874731336283716</td><td>G12</td><td>0</td><td>0</td><td>-506.64801958587583</td><td>8.16811790971853</td><td>-11.899959057083304</td><td>506.5654019124224</td><td>-11.700697472861178</td><td>-12.45512705643822</td><td>0.6186657</td><td>18.4605</td></tr>\n",
       "<tr><td>345754</td><td>587726033300881540</td><td>131.11856269</td><td>2.063963</td><td>14.839395</td><td>0.02538</td><td>5</td><td>525896718336681984</td><td>6</td><td>16.666138</td><td>15.298769</td><td>14.621683</td><td>14.277134</td><td>13.985833</td><td>0.02538</td><td>77.64437594676907</td><td>34.450550018691125</td><td>G9</td><td>0</td><td>0</td><td>-49.764299628932115</td><td>57.00859289707751</td><td>2.7271592491632166</td><td>49.36853687687952</td><td>-57.35420573541706</td><td>2.6730563646861496</td><td>0.6770859</td><td>14.839395</td></tr>\n",
       "<tr><td>693484</td><td>587722983350731049</td><td>180.07279219</td><td>0.09171965</td><td>19.459766</td><td>0.22913</td><td>4</td><td>G12_Y3_026_322</td><td>4</td><td>23.056557</td><td>20.835135</td><td>19.583693</td><td>19.02866</td><td>18.644659</td><td>0.22913</td><td>806.0320810564328</td><td>39.53176163798644</td><td>G12</td><td>0</td><td>0</td><td>-655.7730901780238</td><td>-0.8331361483436741</td><td>1.0497697865471232</td><td>655.7637139515319</td><td>-3.7394882506230056</td><td>0.3310984716324844</td><td>1.251442</td><td>19.459766</td></tr>\n",
       "<tr><td>178253</td><td>587725041165533425</td><td>179.78766145</td><td>-1.90736208</td><td>19.274923</td><td>0.22859</td><td>4</td><td>G12_Y3_006_078</td><td>6</td><td>20.994427</td><td>19.927753</td><td>19.186632</td><td>18.826225</td><td>18.568188</td><td>0.22859</td><td>803.8727789035887</td><td>39.52593661319516</td><td>G12</td><td>0</td><td>0</td><td>-653.9381455739835</td><td>2.4235103267808906</td><td>-21.777631086928874</td><td>653.8810897334611</td><td>-6.983260770387416</td><td>-22.494252883730375</td><td>0.7411213</td><td>19.274923</td></tr>\n",
       "<tr><td>583975</td><td>588848899911647245</td><td>177.58684774</td><td>-0.08128385</td><td>17.860764</td><td>0.12488</td><td>4</td><td>2dF290960</td><td>6</td><td>20.416706</td><td>18.607096</td><td>17.715412</td><td>17.322187</td><td>17.02485</td><td>0.12488</td><td>410.94573182027</td><td>38.06892237060768</td><td>G12</td><td>0</td><td>0</td><td>-364.99973715388444</td><td>15.381955337382605</td><td>-0.518274430905706</td><td>364.8828206905033</td><td>-17.9266680031384</td><td>-0.9181612271501702</td><td>0.8916836</td><td>17.860764</td></tr>\n",
       "<tr><td>302976</td><td>587726032231072149</td><td>140.11041592</td><td>1.37752494</td><td>19.172258</td><td>0.02667</td><td>3</td><td>G09_Y2_040_339</td><td>6</td><td>19.829067</td><td>19.126514</td><td>18.947468</td><td>19.018425</td><td>19.048304</td><td>0.02667</td><td>81.6733290741683</td><td>34.56040129080371</td><td>G9</td><td>0</td><td>0</td><td>-61.02091742604586</td><td>51.00256081731403</td><td>1.912424914446357</td><td>60.665860472915156</td><td>-51.42681031744632</td><td>1.8459404507487296</td><td>0.17904663</td><td>19.172258</td></tr>\n",
       "<tr><td>210067</td><td>587725074990891209</td><td>136.4771262</td><td>0.02915729</td><td>19.328207</td><td>0.19449</td><td>4</td><td>G09_Y2_033_010</td><td>6</td><td>22.044453</td><td>20.423208</td><td>19.31</td><td>18.861416</td><td>18.749847</td><td>0.19449</td><td>669.8391375968793</td><td>39.129852595280134</td><td>G9</td><td>0</td><td>0</td><td>-406.6170356493377</td><td>386.17379139209555</td><td>0.2853727642477264</td><td>403.91449072945255</td><td>-388.99968086718457</td><td>-0.1572895762325428</td><td>1.1132088</td><td>19.328207</td></tr>\n",
       "</table></div>"
      ],
      "text/plain": [
       "<Table length=121975>\n",
       "CATAID       OBJID               RA            DEC      R_PETRO   ZGAMA    NQ  ...     CARTESIAN_Z       ROTCARTESIAN_X      ROTCARTESIAN_Y       ROTCARTESIAN_Z      GMR       DETMAG \n",
       "                                deg            deg        mag                  ...                                                                                    mag        mag   \n",
       "int32        int64            float64        float64    float32  float32 int16 ...       float64            float64             float64              float64        float32    float32 \n",
       "------ ------------------ ---------------- ----------- --------- ------- ----- ... ------------------- ------------------ -------------------- ------------------- ---------- ---------\n",
       "388240 587727944566112503 1.3923047512e+02  2.42943373 19.356083 0.11227     4 ...  13.957745738742293 247.66335024615293   -216.5633713813023  13.686332116336128  0.2643051 19.356083\n",
       "325157 587726032767418968     138.86944953  1.81225715  19.22173  0.2254     4 ...  20.417394891190096   483.094981170063  -427.83895108584494  19.887968266947663  0.7971325  19.22173\n",
       "130171 587724649792274653     176.25074554  -2.1572505 17.006708  0.1255     5 ... -13.818135719321639 365.85453873179625   -26.53894211237555  -14.21909543873022  1.0371895 17.006708\n",
       "545665 588848898856649042     220.52254643 -0.86410375 19.095922 0.15249     4 ...  -6.689377784967644 339.13268826952515   285.81562943438297  -7.061047912403237  1.0188999 19.095922\n",
       "290245 587726031713992886     185.34163978  1.81082132  19.14047 0.16361     4 ...   15.00386703622545  472.8276154162524    40.88441254195101  14.485689487946622  1.0381107  19.14047\n",
       "535365 588848898837840056     177.58136829 -0.95353519 16.963232 0.10522     5 ...  -5.142930593857436  308.6190518896802  -15.192272750390522  -5.481158945006616  0.9752445 16.963232\n",
       "106557 587722984440463590     216.57421687  0.96169929  19.00783 0.08552     4 ...   4.232507136787574 203.53652550230868   148.82493661447845    4.00944764016569 0.56093407  19.00783\n",
       "550657 588848899356819772     136.61920934 -0.49210816 19.138739 0.15623     4 ... -3.9001140963384224 327.83763492651616   -314.1730582176836  -4.259403946825698 0.49341583 19.138739\n",
       "486791 587729777984209223     221.42715873  -1.7624878 19.201046 0.25777     4 ...  -22.54964174447273  552.8115600177669    481.0419632154453  -23.15549874906925   1.324482 19.201046\n",
       "279667 587726031693546200     138.64172429  1.08625482 19.588549 0.23901     4 ...  12.940292527839569 509.11313786457265    -454.512893343782  12.382347302421023  1.1962013 19.588549\n",
       "220069 587726013995352303     180.37138547  1.60017536 18.483368 0.07852     4 ...   6.474509298318389 231.77252892499794 -0.11379744023741423  6.2205064296258525  0.9229717 18.483368\n",
       "   ...                ...              ...         ...       ...     ...   ... ...                 ...                ...                  ...                 ...        ...       ...\n",
       "549162 588848899354133247     130.47949303 -0.61272559 19.742203 0.24798     4 ...  -7.558766788615712  455.0632392646271   -540.7986331700546  -8.057489351565367  1.2476597 19.742203\n",
       "377676 587727943492043119     138.51726998  1.66725002 18.053364 0.16259     4 ...  13.731429899349443  351.2439552239651  -314.94348738206463  13.346498919365324  1.1240025 18.053364\n",
       " 39326 587722982275350842     176.42644071 -0.77077665  18.93469  0.0924     4 ... -3.6601752030930945  271.4051535593993  -18.850636306157245 -3.9576187897644917 0.48094368  18.93469\n",
       "250202 587726015083905391     214.26191567  2.01941065  19.17752 0.21682     4 ...  21.924706185044887  516.3542392050686   346.46805974145695   21.35883060583046  1.2286129  19.17752\n",
       "144183 587724650867261683     179.07636441 -1.34531968   18.4605 0.17507     4 ... -11.899959057083304  506.5654019124224  -11.700697472861178  -12.45512705643822  0.6186657   18.4605\n",
       "345754 587726033300881540     131.11856269    2.063963 14.839395 0.02538     5 ...  2.7271592491632166  49.36853687687952   -57.35420573541706  2.6730563646861496  0.6770859 14.839395\n",
       "693484 587722983350731049     180.07279219  0.09171965 19.459766 0.22913     4 ...  1.0497697865471232  655.7637139515319  -3.7394882506230056  0.3310984716324844   1.251442 19.459766\n",
       "178253 587725041165533425     179.78766145 -1.90736208 19.274923 0.22859     4 ... -21.777631086928874  653.8810897334611   -6.983260770387416 -22.494252883730375  0.7411213 19.274923\n",
       "583975 588848899911647245     177.58684774 -0.08128385 17.860764 0.12488     4 ...  -0.518274430905706  364.8828206905033    -17.9266680031384 -0.9181612271501702  0.8916836 17.860764\n",
       "302976 587726032231072149     140.11041592  1.37752494 19.172258 0.02667     3 ...   1.912424914446357 60.665860472915156   -51.42681031744632  1.8459404507487296 0.17904663 19.172258\n",
       "210067 587725074990891209      136.4771262  0.02915729 19.328207 0.19449     4 ...  0.2853727642477264 403.91449072945255  -388.99968086718457 -0.1572895762325428  1.1132088 19.328207"
      ]
     },
     "execution_count": 15,
     "metadata": {},
     "output_type": "execute_result"
    }
   ],
   "source": [
    "fpath = findfile(ftype='gold', dryrun=dryrun, version=version, survey=survey)\n",
    "gold  = Table.read(fpath)\n",
    "gold"
   ]
  },
  {
   "cell_type": "markdown",
   "id": "de286aa4",
   "metadata": {},
   "source": [
    "##  Cobaya"
   ]
  },
  {
   "cell_type": "code",
   "execution_count": 13,
   "id": "fef0f370",
   "metadata": {},
   "outputs": [],
   "source": [
    "# root = '/cosma/home/durham/{}/data/GAMA4/cobaya/'.format(os.environ['USER'])"
   ]
  },
  {
   "cell_type": "code",
   "execution_count": 20,
   "id": "bbc34dfa",
   "metadata": {},
   "outputs": [],
   "source": [
    "# dat = Table.read(root + 'schechter_chain.1.txt', format='ascii')        "
   ]
  },
  {
   "cell_type": "code",
   "execution_count": 21,
   "id": "1bc38e3b",
   "metadata": {},
   "outputs": [],
   "source": [
    "# samples = np.c_[dat['log10phistar'], dat['Mstar'], dat['alpha']]"
   ]
  },
  {
   "cell_type": "code",
   "execution_count": 22,
   "id": "6b9142f1",
   "metadata": {},
   "outputs": [],
   "source": [
    "# samples = MCSamples(samples=samples, names=['log10phistar', 'Mstar', 'alpha'], labels=['log10phistar', 'Mstar', 'alpha'])"
   ]
  },
  {
   "cell_type": "code",
   "execution_count": 18,
   "id": "727052b3",
   "metadata": {},
   "outputs": [],
   "source": [
    "# tmr_ref = {'log10phistar': -2.01, 'Mstar': -20.89, 'alpha': -1.25}"
   ]
  },
  {
   "cell_type": "code",
   "execution_count": 24,
   "id": "65720a94",
   "metadata": {},
   "outputs": [],
   "source": [
    "# g = plots.get_subplot_plotter()"
   ]
  },
  {
   "cell_type": "code",
   "execution_count": 17,
   "id": "f32a4378",
   "metadata": {},
   "outputs": [],
   "source": [
    "# g.triangle_plot([samples], filled=True)        "
   ]
  },
  {
   "cell_type": "markdown",
   "id": "dd7f86aa",
   "metadata": {},
   "source": [
    "# Done."
   ]
  }
 ],
 "metadata": {
  "kernelspec": {
   "display_name": "lumfn",
   "language": "python",
   "name": "lumfn"
  },
  "language_info": {
   "codemirror_mode": {
    "name": "ipython",
    "version": 3
   },
   "file_extension": ".py",
   "mimetype": "text/x-python",
   "name": "python",
   "nbconvert_exporter": "python",
   "pygments_lexer": "ipython3",
   "version": "3.9.9"
  }
 },
 "nbformat": 4,
 "nbformat_minor": 5
}
