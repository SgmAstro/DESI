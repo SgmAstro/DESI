{
 "cells": [
  {
   "cell_type": "code",
   "execution_count": 1,
   "id": "93b21285",
   "metadata": {},
   "outputs": [],
   "source": [
    "import os\n",
    "import sys\n",
    "import pylab as pl\n",
    "import numpy as np\n",
    "import matplotlib.pyplot as plt\n",
    "import numpy as np\n",
    "\n",
    "# from   getdist       import plots, MCSamples \n",
    "from   astropy.table import Table"
   ]
  },
  {
   "cell_type": "code",
   "execution_count": 2,
   "id": "7e12676d",
   "metadata": {},
   "outputs": [],
   "source": [
    "sys.path.append(os.environ['HOME'] + '/DESI/')"
   ]
  },
  {
   "cell_type": "code",
   "execution_count": 3,
   "id": "d6a4e615",
   "metadata": {},
   "outputs": [],
   "source": [
    "import pubplot\n",
    "\n",
    "from   schechter     import schechter, named_schechter"
   ]
  },
  {
   "cell_type": "markdown",
   "id": "9938b0e1",
   "metadata": {},
   "source": [
    "##  VMAX"
   ]
  },
  {
   "cell_type": "code",
   "execution_count": 4,
   "id": "39986e2b",
   "metadata": {},
   "outputs": [
    {
     "data": {
      "text/html": [
       "<div><i>Table length=113602</i>\n",
       "<table id=\"table140493356940496\" class=\"table-striped table-bordered table-condensed\">\n",
       "<thead><tr><th>ZGAMA</th><th>ZMIN</th><th>ZMAX</th><th>MCOLOR_0P0</th><th>VMAX</th><th>VZ</th></tr></thead>\n",
       "<thead><tr><th></th><th></th><th></th><th>mag</th><th></th><th></th></tr></thead>\n",
       "<thead><tr><th>float32</th><th>float64</th><th>float64</th><th>float64</th><th>float64</th><th>float64</th></tr></thead>\n",
       "<tr><td>0.15655</td><td>0.03903000056743622</td><td>0.16392420521119658</td><td>-18.628643090725816</td><td>1938744.2553151867</td><td>1692914.8221834349</td></tr>\n",
       "<tr><td>0.05258</td><td>0.03903000056743622</td><td>0.0739139156122269</td><td>-17.087817070651862</td><td>161906.26051134185</td><td>40824.56513655541</td></tr>\n",
       "<tr><td>0.10614</td><td>0.03903000056743622</td><td>0.24168470123991342</td><td>-19.484833226058434</td><td>5971110.734171794</td><td>524787.6872112361</td></tr>\n",
       "<tr><td>0.10328</td><td>0.03903000056743622</td><td>0.15849151887991855</td><td>-18.536275513231658</td><td>1755600.7496031362</td><td>482128.5933214005</td></tr>\n",
       "<tr><td>0.23578</td><td>0.03903000056743622</td><td>0.26298999786376953</td><td>-20.092478361885625</td><td>7594841.612883208</td><td>5563439.053892887</td></tr>\n",
       "<tr><td>0.26182</td><td>0.03903000056743622</td><td>0.26298999786376953</td><td>-21.056077673993215</td><td>7594841.612883208</td><td>7499327.902770107</td></tr>\n",
       "<tr><td>0.1357</td><td>0.03903000056743622</td><td>0.26298999786376953</td><td>-19.94891417349914</td><td>7594841.612883208</td><td>1107198.6172626077</td></tr>\n",
       "<tr><td>0.05371</td><td>0.03903000056743622</td><td>0.07804687277456436</td><td>-17.081046692078406</td><td>195139.4244464204</td><td>45350.80907439499</td></tr>\n",
       "<tr><td>0.24042</td><td>0.03903000056743622</td><td>0.26298999786376953</td><td>-19.630832169366276</td><td>7594841.612883208</td><td>5882276.874142841</td></tr>\n",
       "<tr><td>0.16146</td><td>0.03903000056743622</td><td>0.18456828479627121</td><td>-18.937453567661795</td><td>2743309.374805226</td><td>1854248.2180504825</td></tr>\n",
       "<tr><td>0.16593</td><td>0.03903000056743622</td><td>0.1956091483876409</td><td>-19.051357647274447</td><td>3248063.071942477</td><td>2009288.0602811982</td></tr>\n",
       "<tr><td>0.1618</td><td>0.03903000056743622</td><td>0.2547885781458417</td><td>-20.08020648199913</td><td>6941012.655388851</td><td>1865765.2268165</td></tr>\n",
       "<tr><td>0.23259</td><td>0.03903000056743622</td><td>0.26298999786376953</td><td>-21.138387649849847</td><td>7594841.612883208</td><td>5350639.527823693</td></tr>\n",
       "<tr><td>0.13062</td><td>0.03903000056743622</td><td>0.26298999786376953</td><td>-19.81272509468262</td><td>7594841.612883208</td><td>987525.0920129278</td></tr>\n",
       "<tr><td>0.09792</td><td>0.03903000056743622</td><td>0.25908964552178876</td><td>-20.188243122292434</td><td>7279344.262651454</td><td>408072.2482165701</td></tr>\n",
       "<tr><td>0.11102</td><td>0.03903000056743622</td><td>0.17934011515537854</td><td>-19.21288621085387</td><td>2522780.4481923343</td><td>602813.4302434588</td></tr>\n",
       "<tr><td>0.07123</td><td>0.03903000056743622</td><td>0.1759550732982395</td><td>-19.181313162693318</td><td>2386167.4838856524</td><td>142165.95810390892</td></tr>\n",
       "<tr><td>0.20913</td><td>0.03903000056743622</td><td>0.26298999786376953</td><td>-20.578328142217543</td><td>7594841.612883208</td><td>3941147.8448437178</td></tr>\n",
       "<tr><td>...</td><td>...</td><td>...</td><td>...</td><td>...</td><td>...</td></tr>\n",
       "<tr><td>0.25001</td><td>0.03903000056743622</td><td>0.26298999786376953</td><td>-20.20853211182548</td><td>7594841.612883208</td><td>6576781.086083705</td></tr>\n",
       "<tr><td>0.19203</td><td>0.03903000056743622</td><td>0.2312738594930036</td><td>-19.86717379837014</td><td>5264348.663057127</td><td>3078534.447807109</td></tr>\n",
       "<tr><td>0.15506</td><td>0.03903000056743622</td><td>0.15791008387549985</td><td>-18.550896895632647</td><td>1736676.6402431268</td><td>1645779.8100828314</td></tr>\n",
       "<tr><td>0.25358</td><td>0.03903000056743622</td><td>0.26298999786376953</td><td>-21.270305406378277</td><td>7594841.612883208</td><td>6847738.330855084</td></tr>\n",
       "<tr><td>0.23907</td><td>0.03903000056743622</td><td>0.2624875924219528</td><td>-19.730091608269518</td><td>7553735.920005194</td><td>5788366.456998835</td></tr>\n",
       "<tr><td>0.19211</td><td>0.03903000056743622</td><td>0.26298999786376953</td><td>-21.22606857441965</td><td>7594841.612883208</td><td>3082261.4498269074</td></tr>\n",
       "<tr><td>0.1544</td><td>0.03903000056743622</td><td>0.18448761423133572</td><td>-18.86761259825804</td><td>2739817.6904058247</td><td>1625170.0159750537</td></tr>\n",
       "<tr><td>0.25807</td><td>0.03903000056743622</td><td>0.26298999786376953</td><td>-20.913223701083478</td><td>7594841.612883208</td><td>7198230.927417341</td></tr>\n",
       "<tr><td>0.14596</td><td>0.03903000056743622</td><td>0.24109520572489126</td><td>-19.972419934101847</td><td>5929600.682438022</td><td>1375865.94617165</td></tr>\n",
       "<tr><td>0.05352</td><td>0.03903000056743622</td><td>0.20417446251888702</td><td>-19.18767996791392</td><td>3677316.677913631</td><td>44576.562914771814</td></tr>\n",
       "<tr><td>0.14111</td><td>0.03903000056743622</td><td>0.15423120660521267</td><td>-18.830174400959798</td><td>1619925.1666650898</td><td>1244275.994784332</td></tr>\n",
       "<tr><td>0.12199</td><td>0.03903000056743622</td><td>0.17778199181647653</td><td>-19.225658974271468</td><td>2459301.1362192887</td><td>803518.4045581466</td></tr>\n",
       "<tr><td>0.10949</td><td>0.03903000056743622</td><td>0.15386158205093553</td><td>-18.570695509366832</td><td>1608477.7720548585</td><td>577627.9507016037</td></tr>\n",
       "<tr><td>0.1379</td><td>0.03903000056743622</td><td>0.2065148758141962</td><td>-19.179186841031978</td><td>3800487.219601258</td><td>1161725.7261863</td></tr>\n",
       "<tr><td>0.21869</td><td>0.03903000056743622</td><td>0.2294179704962314</td><td>-19.39760600049807</td><td>5144157.390299938</td><td>4483032.978957807</td></tr>\n",
       "<tr><td>0.1062</td><td>0.03903000056743622</td><td>0.18497864049545043</td><td>-19.284589633886405</td><td>2761114.383798262</td><td>525706.6014803558</td></tr>\n",
       "<tr><td>0.22127</td><td>0.03903000056743622</td><td>0.26298999786376953</td><td>-21.160067291303456</td><td>7594841.612883208</td><td>4636841.906194966</td></tr>\n",
       "<tr><td>0.19636</td><td>0.03903000056743622</td><td>0.23835357542047597</td><td>-19.553777539692206</td><td>5738912.307533732</td><td>3284357.079800729</td></tr>\n",
       "<tr><td>0.14597</td><td>0.03903000056743622</td><td>0.26298999786376953</td><td>-20.960350419938724</td><td>7594841.612883208</td><td>1376145.894030689</td></tr>\n",
       "</table></div>"
      ],
      "text/plain": [
       "<Table length=113602>\n",
       " ZGAMA          ZMIN                ZMAX             MCOLOR_0P0            VMAX                VZ        \n",
       "                                                        mag                                              \n",
       "float32       float64             float64             float64            float64            float64      \n",
       "------- ------------------- ------------------- ------------------- ------------------ ------------------\n",
       "0.15655 0.03903000056743622 0.16392420521119658 -18.628643090725816 1938744.2553151867 1692914.8221834349\n",
       "0.05258 0.03903000056743622  0.0739139156122269 -17.087817070651862 161906.26051134185  40824.56513655541\n",
       "0.10614 0.03903000056743622 0.24168470123991342 -19.484833226058434  5971110.734171794  524787.6872112361\n",
       "0.10328 0.03903000056743622 0.15849151887991855 -18.536275513231658 1755600.7496031362  482128.5933214005\n",
       "0.23578 0.03903000056743622 0.26298999786376953 -20.092478361885625  7594841.612883208  5563439.053892887\n",
       "0.26182 0.03903000056743622 0.26298999786376953 -21.056077673993215  7594841.612883208  7499327.902770107\n",
       " 0.1357 0.03903000056743622 0.26298999786376953  -19.94891417349914  7594841.612883208 1107198.6172626077\n",
       "0.05371 0.03903000056743622 0.07804687277456436 -17.081046692078406  195139.4244464204  45350.80907439499\n",
       "0.24042 0.03903000056743622 0.26298999786376953 -19.630832169366276  7594841.612883208  5882276.874142841\n",
       "0.16146 0.03903000056743622 0.18456828479627121 -18.937453567661795  2743309.374805226 1854248.2180504825\n",
       "0.16593 0.03903000056743622  0.1956091483876409 -19.051357647274447  3248063.071942477 2009288.0602811982\n",
       " 0.1618 0.03903000056743622  0.2547885781458417  -20.08020648199913  6941012.655388851    1865765.2268165\n",
       "0.23259 0.03903000056743622 0.26298999786376953 -21.138387649849847  7594841.612883208  5350639.527823693\n",
       "0.13062 0.03903000056743622 0.26298999786376953  -19.81272509468262  7594841.612883208  987525.0920129278\n",
       "0.09792 0.03903000056743622 0.25908964552178876 -20.188243122292434  7279344.262651454  408072.2482165701\n",
       "0.11102 0.03903000056743622 0.17934011515537854  -19.21288621085387 2522780.4481923343  602813.4302434588\n",
       "0.07123 0.03903000056743622  0.1759550732982395 -19.181313162693318 2386167.4838856524 142165.95810390892\n",
       "0.20913 0.03903000056743622 0.26298999786376953 -20.578328142217543  7594841.612883208 3941147.8448437178\n",
       "    ...                 ...                 ...                 ...                ...                ...\n",
       "0.25001 0.03903000056743622 0.26298999786376953  -20.20853211182548  7594841.612883208  6576781.086083705\n",
       "0.19203 0.03903000056743622  0.2312738594930036  -19.86717379837014  5264348.663057127  3078534.447807109\n",
       "0.15506 0.03903000056743622 0.15791008387549985 -18.550896895632647 1736676.6402431268 1645779.8100828314\n",
       "0.25358 0.03903000056743622 0.26298999786376953 -21.270305406378277  7594841.612883208  6847738.330855084\n",
       "0.23907 0.03903000056743622  0.2624875924219528 -19.730091608269518  7553735.920005194  5788366.456998835\n",
       "0.19211 0.03903000056743622 0.26298999786376953  -21.22606857441965  7594841.612883208 3082261.4498269074\n",
       " 0.1544 0.03903000056743622 0.18448761423133572  -18.86761259825804 2739817.6904058247 1625170.0159750537\n",
       "0.25807 0.03903000056743622 0.26298999786376953 -20.913223701083478  7594841.612883208  7198230.927417341\n",
       "0.14596 0.03903000056743622 0.24109520572489126 -19.972419934101847  5929600.682438022   1375865.94617165\n",
       "0.05352 0.03903000056743622 0.20417446251888702  -19.18767996791392  3677316.677913631 44576.562914771814\n",
       "0.14111 0.03903000056743622 0.15423120660521267 -18.830174400959798 1619925.1666650898  1244275.994784332\n",
       "0.12199 0.03903000056743622 0.17778199181647653 -19.225658974271468 2459301.1362192887  803518.4045581466\n",
       "0.10949 0.03903000056743622 0.15386158205093553 -18.570695509366832 1608477.7720548585  577627.9507016037\n",
       " 0.1379 0.03903000056743622  0.2065148758141962 -19.179186841031978  3800487.219601258    1161725.7261863\n",
       "0.21869 0.03903000056743622  0.2294179704962314  -19.39760600049807  5144157.390299938  4483032.978957807\n",
       " 0.1062 0.03903000056743622 0.18497864049545043 -19.284589633886405  2761114.383798262  525706.6014803558\n",
       "0.22127 0.03903000056743622 0.26298999786376953 -21.160067291303456  7594841.612883208  4636841.906194966\n",
       "0.19636 0.03903000056743622 0.23835357542047597 -19.553777539692206  5738912.307533732  3284357.079800729\n",
       "0.14597 0.03903000056743622 0.26298999786376953 -20.960350419938724  7594841.612883208  1376145.894030689"
      ]
     },
     "execution_count": 4,
     "metadata": {},
     "output_type": "execute_result"
    }
   ],
   "source": [
    "gama_vmax = Table.read(os.environ['HOME'] + '/data/GAMA4/gama_gold_vmax.fits')\n",
    "gama_vmax"
   ]
  },
  {
   "cell_type": "markdown",
   "id": "dbe864ce",
   "metadata": {},
   "source": [
    "##  LUMFN"
   ]
  },
  {
   "cell_type": "code",
   "execution_count": 5,
   "id": "f03238eb",
   "metadata": {},
   "outputs": [
    {
     "name": "stderr",
     "output_type": "stream",
     "text": [
      "/tmp/ipykernel_179766/1789927872.py:2: RuntimeWarning: invalid value encountered in true_divide\n",
      "  gama_lf['S2N_N']     = gama_lf['PHI_N'] / gama_lf['PHI_N_ERROR']\n",
      "/tmp/ipykernel_179766/1789927872.py:3: RuntimeWarning: invalid value encountered in true_divide\n",
      "  gama_lf['S2N_IVMAX'] = gama_lf['PHI_IVMAX'] / gama_lf['PHI_IVMAX_ERROR']\n"
     ]
    },
    {
     "data": {
      "text/html": [
       "<div><i>Table length=99</i>\n",
       "<table id=\"table140497981393648\" class=\"table-striped table-bordered table-condensed\">\n",
       "<thead><tr><th>MEDIAN_M</th><th>PHI_N</th><th>PHI_N_ERROR</th><th>PHI_IVMAX</th><th>PHI_IVMAX_ERROR</th><th>N</th><th>V_ON_VMAX</th><th>S2N_N</th><th>S2N_IVMAX</th></tr></thead>\n",
       "<thead><tr><th>float64</th><th>float64</th><th>float64</th><th>float64</th><th>float64</th><th>float64</th><th>float64</th><th>float64</th><th>float64</th></tr></thead>\n",
       "<tr><td>--</td><td>0.0</td><td>0.0</td><td>0.0</td><td>0.0</td><td>0.0</td><td>--</td><td>nan</td><td>nan</td></tr>\n",
       "<tr><td>--</td><td>0.0</td><td>0.0</td><td>0.0</td><td>0.0</td><td>0.0</td><td>--</td><td>nan</td><td>nan</td></tr>\n",
       "<tr><td>--</td><td>0.0</td><td>0.0</td><td>0.0</td><td>0.0</td><td>0.0</td><td>--</td><td>nan</td><td>nan</td></tr>\n",
       "<tr><td>--</td><td>0.0</td><td>0.0</td><td>0.0</td><td>0.0</td><td>0.0</td><td>--</td><td>nan</td><td>nan</td></tr>\n",
       "<tr><td>--</td><td>0.0</td><td>0.0</td><td>0.0</td><td>0.0</td><td>0.0</td><td>--</td><td>nan</td><td>nan</td></tr>\n",
       "<tr><td>--</td><td>0.0</td><td>0.0</td><td>0.0</td><td>0.0</td><td>0.0</td><td>--</td><td>nan</td><td>nan</td></tr>\n",
       "<tr><td>--</td><td>0.0</td><td>0.0</td><td>0.0</td><td>0.0</td><td>0.0</td><td>--</td><td>nan</td><td>nan</td></tr>\n",
       "<tr><td>--</td><td>0.0</td><td>0.0</td><td>0.0</td><td>0.0</td><td>0.0</td><td>--</td><td>nan</td><td>nan</td></tr>\n",
       "<tr><td>--</td><td>0.0</td><td>0.0</td><td>0.0</td><td>0.0</td><td>0.0</td><td>--</td><td>nan</td><td>nan</td></tr>\n",
       "<tr><td>--</td><td>0.0</td><td>0.0</td><td>0.0</td><td>0.0</td><td>0.0</td><td>--</td><td>nan</td><td>nan</td></tr>\n",
       "<tr><td>--</td><td>0.0</td><td>0.0</td><td>0.0</td><td>0.0</td><td>0.0</td><td>--</td><td>nan</td><td>nan</td></tr>\n",
       "<tr><td>--</td><td>0.0</td><td>0.0</td><td>0.0</td><td>0.0</td><td>0.0</td><td>--</td><td>nan</td><td>nan</td></tr>\n",
       "<tr><td>--</td><td>0.0</td><td>0.0</td><td>0.0</td><td>0.0</td><td>0.0</td><td>--</td><td>nan</td><td>nan</td></tr>\n",
       "<tr><td>--</td><td>0.0</td><td>0.0</td><td>0.0</td><td>0.0</td><td>0.0</td><td>--</td><td>nan</td><td>nan</td></tr>\n",
       "<tr><td>--</td><td>0.0</td><td>0.0</td><td>0.0</td><td>0.0</td><td>0.0</td><td>--</td><td>nan</td><td>nan</td></tr>\n",
       "<tr><td>--</td><td>0.0</td><td>0.0</td><td>0.0</td><td>0.0</td><td>0.0</td><td>--</td><td>nan</td><td>nan</td></tr>\n",
       "<tr><td>--</td><td>0.0</td><td>0.0</td><td>0.0</td><td>0.0</td><td>0.0</td><td>--</td><td>nan</td><td>nan</td></tr>\n",
       "<tr><td>--</td><td>0.0</td><td>0.0</td><td>0.0</td><td>0.0</td><td>0.0</td><td>--</td><td>nan</td><td>nan</td></tr>\n",
       "<tr><td>--</td><td>0.0</td><td>0.0</td><td>0.0</td><td>0.0</td><td>0.0</td><td>--</td><td>nan</td><td>nan</td></tr>\n",
       "<tr><td>...</td><td>...</td><td>...</td><td>...</td><td>...</td><td>...</td><td>...</td><td>...</td><td>...</td></tr>\n",
       "<tr><td>-17.55298573252326</td><td>0.0007636762286340926</td><td>3.1709929429906326e-05</td><td>0.01507519604959503</td><td>0.000628379865273342</td><td>580.0</td><td>0.05149401636367929</td><td>24.08318915758459</td><td>23.990577806049526</td></tr>\n",
       "<tr><td>-17.44993647031487</td><td>0.0007110089025213967</td><td>3.059695153856202e-05</td><td>0.016348010668346163</td><td>0.0007058990680078094</td><td>540.0</td><td>0.04417344044125083</td><td>23.237900077244504</td><td>23.159133379342133</td></tr>\n",
       "<tr><td>-17.35219210440102</td><td>0.0006543915269502482</td><td>2.9353471666599273e-05</td><td>0.01740736721483702</td><td>0.0007837397560170019</td><td>497.0</td><td>0.03840848747543437</td><td>22.293496809607948</td><td>22.21064719659238</td></tr>\n",
       "<tr><td>-17.251651906075857</td><td>0.0006267411807410829</td><td>2.872663492055186e-05</td><td>0.01918654784327725</td><td>0.000881745313945067</td><td>476.0</td><td>0.0330167461785291</td><td>21.81742422927143</td><td>21.75973894029969</td></tr>\n",
       "<tr><td>-17.156078195898402</td><td>0.00047663930131989915</td><td>2.5051605497823248e-05</td><td>0.01696091576721776</td><td>0.0008939543328668298</td><td>362.0</td><td>0.028407059017127378</td><td>19.02629759044045</td><td>18.972910744585416</td></tr>\n",
       "<tr><td>-17.053005443053117</td><td>0.0004055384110677595</td><td>2.310769555090375e-05</td><td>0.016814282999767192</td><td>0.0009603242896363318</td><td>308.0</td><td>0.02434862328929651</td><td>17.54992877478424</td><td>17.50896356702031</td></tr>\n",
       "<tr><td>-16.950017610495895</td><td>0.0002975703925367326</td><td>1.9794088072714456e-05</td><td>0.01464933880820904</td><td>0.0009771124997451641</td><td>226.0</td><td>0.020629173176962855</td><td>15.033296378372908</td><td>14.992479179244622</td></tr>\n",
       "<tr><td>-16.85163858445599</td><td>0.00027782014524447163</td><td>1.9125927552845096e-05</td><td>0.016064658259177467</td><td>0.001108794572667598</td><td>211.0</td><td>0.017425338995806318</td><td>14.525839046333951</td><td>14.488399073354266</td></tr>\n",
       "<tr><td>-16.745655463060434</td><td>0.00023305291804867997</td><td>1.7517330016575907e-05</td><td>0.01603068513569308</td><td>0.0012083966193256388</td><td>177.0</td><td>0.014732268484971976</td><td>13.304134695650072</td><td>13.266079099624767</td></tr>\n",
       "<tr><td>-16.65119094584305</td><td>0.000246219749576854</td><td>1.800537131410411e-05</td><td>0.01986700136781453</td><td>0.0014562159852444547</td><td>187.0</td><td>0.012463685861738636</td><td>13.67479433117734</td><td>13.642894714192732</td></tr>\n",
       "<tr><td>-16.549433501133358</td><td>0.0002304195517430452</td><td>1.7418080889116485e-05</td><td>0.022250978945734422</td><td>0.0016860162031380828</td><td>175.0</td><td>0.01034486447282865</td><td>13.228756555322956</td><td>13.19736957706574</td></tr>\n",
       "<tr><td>-16.45617575868919</td><td>0.000226469502284593</td><td>1.7268137661168487e-05</td><td>0.026657994238470217</td><td>0.0020395588905138488</td><td>172.0</td><td>0.008672502092214361</td><td>13.114877048604002</td><td>13.070470464206096</td></tr>\n",
       "<tr><td>-16.361202421993887</td><td>0.00018828569085288836</td><td>1.5745240457439305e-05</td><td>0.026500196825772915</td><td>0.002220994365912005</td><td>143.0</td><td>0.0072089069867535705</td><td>11.958260743101398</td><td>11.931681247147676</td></tr>\n",
       "<tr><td>-16.26055714607927</td><td>0.0001369350478930097</td><td>1.3427586178869598e-05</td><td>0.02410604662544669</td><td>0.0023708942411987755</td><td>104.0</td><td>0.0057875798350747075</td><td>10.198039027185569</td><td>10.167491323129685</td></tr>\n",
       "<tr><td>-16.161672620781538</td><td>7.900098916904406e-05</td><td>1.019898384618734e-05</td><td>0.01736643010935817</td><td>0.002247916493871341</td><td>60.0</td><td>0.004635358106324706</td><td>7.745966692414833</td><td>7.725567278279927</td></tr>\n",
       "<tr><td>-16.03973304384555</td><td>6.320079133523525e-05</td><td>9.122248472598858e-06</td><td>0.018829757887849064</td><td>0.002726813330950702</td><td>48.0</td><td>0.003328949722904594</td><td>6.92820323027551</td><td>6.905407742481617</td></tr>\n",
       "<tr><td>-15.954801353749659</td><td>5.1350642959878645e-05</td><td>8.222683653869562e-06</td><td>0.020025522030793785</td><td>0.003223969130567615</td><td>39.0</td><td>0.0025751673898215125</td><td>6.244997998398398</td><td>6.2114496819850356</td></tr>\n",
       "<tr><td>-15.864828273084505</td><td>2.633366305634802e-05</td><td>5.888386069056906e-06</td><td>0.015507083376815133</td><td>0.0035106383282336555</td><td>20.0</td><td>0.001758290004838562</td><td>4.472135954999579</td><td>4.417169166103583</td></tr>\n",
       "<tr><td>-15.755555654226708</td><td>2.633366305634802e-05</td><td>5.888386069056906e-06</td><td>0.02576903553276498</td><td>0.005843294095796945</td><td>20.0</td><td>0.0010433583314573682</td><td>4.472135954999579</td><td>4.410018580324501</td></tr>\n",
       "</table></div>"
      ],
      "text/plain": [
       "<Table length=99>\n",
       "      MEDIAN_M              PHI_N               PHI_N_ERROR            PHI_IVMAX       ...    N          V_ON_VMAX             S2N_N            S2N_IVMAX     \n",
       "      float64              float64                float64               float64        ... float64        float64             float64            float64      \n",
       "------------------- ---------------------- ---------------------- -------------------- ... ------- --------------------- ------------------ ------------------\n",
       "                 --                    0.0                    0.0                  0.0 ...     0.0                    --                nan                nan\n",
       "                 --                    0.0                    0.0                  0.0 ...     0.0                    --                nan                nan\n",
       "                 --                    0.0                    0.0                  0.0 ...     0.0                    --                nan                nan\n",
       "                 --                    0.0                    0.0                  0.0 ...     0.0                    --                nan                nan\n",
       "                 --                    0.0                    0.0                  0.0 ...     0.0                    --                nan                nan\n",
       "                 --                    0.0                    0.0                  0.0 ...     0.0                    --                nan                nan\n",
       "                 --                    0.0                    0.0                  0.0 ...     0.0                    --                nan                nan\n",
       "                 --                    0.0                    0.0                  0.0 ...     0.0                    --                nan                nan\n",
       "                 --                    0.0                    0.0                  0.0 ...     0.0                    --                nan                nan\n",
       "                 --                    0.0                    0.0                  0.0 ...     0.0                    --                nan                nan\n",
       "                 --                    0.0                    0.0                  0.0 ...     0.0                    --                nan                nan\n",
       "                 --                    0.0                    0.0                  0.0 ...     0.0                    --                nan                nan\n",
       "                 --                    0.0                    0.0                  0.0 ...     0.0                    --                nan                nan\n",
       "                 --                    0.0                    0.0                  0.0 ...     0.0                    --                nan                nan\n",
       "                 --                    0.0                    0.0                  0.0 ...     0.0                    --                nan                nan\n",
       "                 --                    0.0                    0.0                  0.0 ...     0.0                    --                nan                nan\n",
       "                 --                    0.0                    0.0                  0.0 ...     0.0                    --                nan                nan\n",
       "                 --                    0.0                    0.0                  0.0 ...     0.0                    --                nan                nan\n",
       "                 --                    0.0                    0.0                  0.0 ...     0.0                    --                nan                nan\n",
       "                ...                    ...                    ...                  ... ...     ...                   ...                ...                ...\n",
       " -17.55298573252326  0.0007636762286340926 3.1709929429906326e-05  0.01507519604959503 ...   580.0   0.05149401636367929  24.08318915758459 23.990577806049526\n",
       " -17.44993647031487  0.0007110089025213967  3.059695153856202e-05 0.016348010668346163 ...   540.0   0.04417344044125083 23.237900077244504 23.159133379342133\n",
       " -17.35219210440102  0.0006543915269502482 2.9353471666599273e-05  0.01740736721483702 ...   497.0   0.03840848747543437 22.293496809607948  22.21064719659238\n",
       "-17.251651906075857  0.0006267411807410829  2.872663492055186e-05  0.01918654784327725 ...   476.0    0.0330167461785291  21.81742422927143  21.75973894029969\n",
       "-17.156078195898402 0.00047663930131989915 2.5051605497823248e-05  0.01696091576721776 ...   362.0  0.028407059017127378  19.02629759044045 18.972910744585416\n",
       "-17.053005443053117  0.0004055384110677595  2.310769555090375e-05 0.016814282999767192 ...   308.0   0.02434862328929651  17.54992877478424  17.50896356702031\n",
       "-16.950017610495895  0.0002975703925367326 1.9794088072714456e-05  0.01464933880820904 ...   226.0  0.020629173176962855 15.033296378372908 14.992479179244622\n",
       " -16.85163858445599 0.00027782014524447163 1.9125927552845096e-05 0.016064658259177467 ...   211.0  0.017425338995806318 14.525839046333951 14.488399073354266\n",
       "-16.745655463060434 0.00023305291804867997 1.7517330016575907e-05  0.01603068513569308 ...   177.0  0.014732268484971976 13.304134695650072 13.266079099624767\n",
       " -16.65119094584305   0.000246219749576854  1.800537131410411e-05  0.01986700136781453 ...   187.0  0.012463685861738636  13.67479433117734 13.642894714192732\n",
       "-16.549433501133358  0.0002304195517430452 1.7418080889116485e-05 0.022250978945734422 ...   175.0   0.01034486447282865 13.228756555322956  13.19736957706574\n",
       " -16.45617575868919   0.000226469502284593 1.7268137661168487e-05 0.026657994238470217 ...   172.0  0.008672502092214361 13.114877048604002 13.070470464206096\n",
       "-16.361202421993887 0.00018828569085288836 1.5745240457439305e-05 0.026500196825772915 ...   143.0 0.0072089069867535705 11.958260743101398 11.931681247147676\n",
       " -16.26055714607927  0.0001369350478930097 1.3427586178869598e-05  0.02410604662544669 ...   104.0 0.0057875798350747075 10.198039027185569 10.167491323129685\n",
       "-16.161672620781538  7.900098916904406e-05  1.019898384618734e-05  0.01736643010935817 ...    60.0  0.004635358106324706  7.745966692414833  7.725567278279927\n",
       " -16.03973304384555  6.320079133523525e-05  9.122248472598858e-06 0.018829757887849064 ...    48.0  0.003328949722904594   6.92820323027551  6.905407742481617\n",
       "-15.954801353749659 5.1350642959878645e-05  8.222683653869562e-06 0.020025522030793785 ...    39.0 0.0025751673898215125  6.244997998398398 6.2114496819850356\n",
       "-15.864828273084505  2.633366305634802e-05  5.888386069056906e-06 0.015507083376815133 ...    20.0  0.001758290004838562  4.472135954999579  4.417169166103583\n",
       "-15.755555654226708  2.633366305634802e-05  5.888386069056906e-06  0.02576903553276498 ...    20.0 0.0010433583314573682  4.472135954999579  4.410018580324501"
      ]
     },
     "execution_count": 5,
     "metadata": {},
     "output_type": "execute_result"
    }
   ],
   "source": [
    "gama_lf              = Table.read(os.environ['HOME'] + '/data/GAMA4/gama_gold_lumfn.fits')\n",
    "gama_lf['S2N_N']     = gama_lf['PHI_N'] / gama_lf['PHI_N_ERROR']\n",
    "gama_lf['S2N_IVMAX'] = gama_lf['PHI_IVMAX'] / gama_lf['PHI_IVMAX_ERROR']\n",
    "gama_lf"
   ]
  },
  {
   "cell_type": "code",
   "execution_count": 13,
   "id": "d742130e",
   "metadata": {},
   "outputs": [
    {
     "name": "stderr",
     "output_type": "stream",
     "text": [
      "/tmp/ipykernel_179766/292570887.py:6: RuntimeWarning: divide by zero encountered in log10\n",
      "  pl.errorbar(gama_lf['MEDIAN_M'], np.log10(gama_lf['PHI_N']), gama_lf['PHI_N_ERROR'] / gama_lf['PHI_N'] / np.log(10.), label='RAW', alpha=0.4, lw=2)\n",
      "/tmp/ipykernel_179766/292570887.py:6: RuntimeWarning: invalid value encountered in true_divide\n",
      "  pl.errorbar(gama_lf['MEDIAN_M'], np.log10(gama_lf['PHI_N']), gama_lf['PHI_N_ERROR'] / gama_lf['PHI_N'] / np.log(10.), label='RAW', alpha=0.4, lw=2)\n",
      "/tmp/ipykernel_179766/292570887.py:7: RuntimeWarning: divide by zero encountered in log10\n",
      "  pl.errorbar(gama_lf['MEDIAN_M'], np.log10(gama_lf['PHI_IVMAX']), gama_lf['PHI_IVMAX_ERROR'] / gama_lf['PHI_IVMAX'] / np.log(10.), label='IVMAX', lw=2)\n",
      "/tmp/ipykernel_179766/292570887.py:7: RuntimeWarning: invalid value encountered in true_divide\n",
      "  pl.errorbar(gama_lf['MEDIAN_M'], np.log10(gama_lf['PHI_IVMAX']), gama_lf['PHI_IVMAX_ERROR'] / gama_lf['PHI_IVMAX'] / np.log(10.), label='IVMAX', lw=2)\n"
     ]
    },
    {
     "data": {
      "text/plain": [
       "<matplotlib.legend.Legend at 0x7fc813dc9820>"
      ]
     },
     "execution_count": 13,
     "metadata": {},
     "output_type": "execute_result"
    },
    {
     "data": {
      "image/png": "[encoded data removed]",
      "text/plain": [
       "<Figure size 478.207x295.548 with 1 Axes>"
      ]
     },
     "metadata": {
      "needs_background": "light"
     },
     "output_type": "display_data"
    }
   ],
   "source": [
    "Ms = np.arange(-23., -15., 0.01)\n",
    "sc = named_schechter(Ms, named_type='TMR')\n",
    "\n",
    "pl.plot(Ms, np.log10(sc), label='TMR', lw=2)\n",
    "\n",
    "pl.errorbar(gama_lf['MEDIAN_M'], np.log10(gama_lf['PHI_N']), gama_lf['PHI_N_ERROR'] / gama_lf['PHI_N'] / np.log(10.), label='RAW', alpha=0.4, lw=2)\n",
    "pl.errorbar(gama_lf['MEDIAN_M'], np.log10(gama_lf['PHI_IVMAX']), gama_lf['PHI_IVMAX_ERROR'] / gama_lf['PHI_IVMAX'] / np.log(10.), label='IVMAX', lw=2)\n",
    "\n",
    "pl.xlabel(r'$M_r^e - 5 \\log_{10}|h|$')\n",
    "pl.ylabel(r'$\\log_{10} \\left[ \\frac{\\phi_\\delta(M)}{h^{-3} \\ {\\rm Mpc}^{3} \\ {\\rm Mag}^{}} \\right] $')\n",
    "\n",
    "pl.ylim(-4.25, -.75)\n",
    "pl.xlim(-23., -15.5)\n",
    "\n",
    "pl.legend(frameon=True, loc=2)"
   ]
  },
  {
   "cell_type": "markdown",
   "id": "98f80f65",
   "metadata": {},
   "source": [
    "##  Cobaya"
   ]
  },
  {
   "cell_type": "code",
   "execution_count": 19,
   "id": "2cbe8859",
   "metadata": {},
   "outputs": [],
   "source": [
    "#root = '/cosma/home/durham/{}/data/GAMA4/cobaya/'.format(os.environ['USER'])"
   ]
  },
  {
   "cell_type": "code",
   "execution_count": 20,
   "id": "226adfd1",
   "metadata": {},
   "outputs": [],
   "source": [
    "#dat = Table.read(root + 'schechter_chain.1.txt', format='ascii')        "
   ]
  },
  {
   "cell_type": "code",
   "execution_count": 21,
   "id": "a7c0f9bf",
   "metadata": {},
   "outputs": [],
   "source": [
    "#samples = np.c_[dat['log10phistar'], dat['Mstar'], dat['alpha']]"
   ]
  },
  {
   "cell_type": "code",
   "execution_count": 22,
   "id": "f3840612",
   "metadata": {},
   "outputs": [],
   "source": [
    "#samples = MCSamples(samples=samples, names=['log10phistar', 'Mstar', 'alpha'], labels=['log10phistar', 'Mstar', 'alpha'])"
   ]
  },
  {
   "cell_type": "code",
   "execution_count": 23,
   "id": "fb81a288",
   "metadata": {},
   "outputs": [],
   "source": [
    "tmr_ref = {'log10phistar': -2.01, 'Mstar': -20.89, 'alpha': -1.25}"
   ]
  },
  {
   "cell_type": "code",
   "execution_count": 24,
   "id": "ffa0f7c6",
   "metadata": {},
   "outputs": [],
   "source": [
    "#g = plots.get_subplot_plotter()"
   ]
  },
  {
   "cell_type": "code",
   "execution_count": 13,
   "id": "257087b4",
   "metadata": {},
   "outputs": [
    {
     "data": {
      "image/png": "[encoded data removed]",
      "text/plain": [
       "<Figure size 432x432 with 6 Axes>"
      ]
     },
     "metadata": {
      "needs_background": "light"
     },
     "output_type": "display_data"
    }
   ],
   "source": [
    "#g.triangle_plot([samples], filled=True)        "
   ]
  },
  {
   "cell_type": "markdown",
   "id": "75682eb0",
   "metadata": {},
   "source": [
    "# Done."
   ]
  }
 ],
 "metadata": {
  "kernelspec": {
   "display_name": "lumfn",
   "language": "python",
   "name": "lumfn"
  },
  "language_info": {
   "codemirror_mode": {
    "name": "ipython",
    "version": 3
   },
   "file_extension": ".py",
   "mimetype": "text/x-python",
   "name": "python",
   "nbconvert_exporter": "python",
   "pygments_lexer": "ipython3",
   "version": "3.9.9"
  }
 },
 "nbformat": 4,
 "nbformat_minor": 5
}
