{
 "cells": [
  {
   "cell_type": "code",
   "execution_count": 1,
   "id": "cbec3bac",
   "metadata": {},
   "outputs": [],
   "source": [
    "import os\n",
    "import sys\n",
    "import pylab as pl\n",
    "import numpy as np\n",
    "import matplotlib.pyplot as plt\n",
    "import numpy as np\n",
    "\n",
    "# from   getdist       import plots, MCSamples \n",
    "from   astropy.table import Table"
   ]
  },
  {
   "cell_type": "code",
   "execution_count": 2,
   "id": "91fd6b35",
   "metadata": {},
   "outputs": [],
   "source": [
    "sys.path.append(os.environ['HOME'] + '/DESI/')"
   ]
  },
  {
   "cell_type": "code",
   "execution_count": 3,
   "id": "d281088d",
   "metadata": {},
   "outputs": [],
   "source": [
    "import pubplot\n",
    "\n",
    "from   schechter     import schechter, named_schechter\n",
    "from   findfile      import findfile"
   ]
  },
  {
   "cell_type": "code",
   "execution_count": 4,
   "id": "cfd960f2",
   "metadata": {},
   "outputs": [],
   "source": [
    "version = 'GAMA4'\n",
    "survey  = 'gama'\n",
    "dryrun  =  False"
   ]
  },
  {
   "cell_type": "code",
   "execution_count": 5,
   "id": "00a2aba7",
   "metadata": {},
   "outputs": [
    {
     "data": {
      "text/plain": [
       "'/cosma/home/durham/dc-wils7/data/GAMA4/gama_gold.fits'"
      ]
     },
     "execution_count": 5,
     "metadata": {},
     "output_type": "execute_result"
    }
   ],
   "source": [
    "fpath = findfile(ftype='gold', dryrun=dryrun, version=version, survey=survey)\n",
    "fpath"
   ]
  },
  {
   "cell_type": "code",
   "execution_count": 6,
   "id": "827bf32d",
   "metadata": {},
   "outputs": [
    {
     "data": {
      "text/plain": [
       "OrderedDict([('AREA', 180.0), ('GOLD_NGAL', 113687)])"
      ]
     },
     "execution_count": 6,
     "metadata": {},
     "output_type": "execute_result"
    }
   ],
   "source": [
    "gold = Table.read(fpath)\n",
    "gold.meta"
   ]
  },
  {
   "cell_type": "markdown",
   "id": "93fba1db",
   "metadata": {},
   "source": [
    "##  VMAX"
   ]
  },
  {
   "cell_type": "code",
   "execution_count": 7,
   "id": "d5a49201",
   "metadata": {},
   "outputs": [
    {
     "data": {
      "text/html": [
       "<div><i>Table length=113601</i>\n",
       "<table id=\"table140132379760768\" class=\"table-striped table-bordered table-condensed\">\n",
       "<thead><tr><th>MCOLOR_0P0</th><th>WEIGHT_STEPWISE</th><th>IN_D8LUMFN</th><th>FIELD</th><th>ZSURV</th><th>ZMIN</th><th>ZMAX</th><th>MALL_0P0</th><th>VMAX</th><th>VZ</th></tr></thead>\n",
       "<thead><tr><th>mag</th><th></th><th></th><th></th><th></th><th></th><th></th><th>mag</th><th></th><th></th></tr></thead>\n",
       "<thead><tr><th>float64</th><th>float64</th><th>int64</th><th>bytes3</th><th>float32</th><th>float64</th><th>float64</th><th>float64</th><th>float64</th><th>float64</th></tr></thead>\n",
       "<tr><td>-18.658971420719773</td><td>3.618347526917889</td><td>0</td><td>G15</td><td>0.14767</td><td>0.03903000056743622</td><td>0.16350321748052582</td><td>-18.82879189331785</td><td>1924140.0574302732</td><td>1424267.9091938706</td></tr>\n",
       "<tr><td>-19.635734025389933</td><td>5.257448359247273</td><td>0</td><td>G9</td><td>0.19018</td><td>0.03903000056743622</td><td>0.2487988726323865</td><td>-19.854441005737566</td><td>6486398.909219937</td><td>2993143.556167306</td></tr>\n",
       "<tr><td>-19.506516017870727</td><td>4.584470153194735</td><td>0</td><td>G15</td><td>0.16661</td><td>0.03903000056743622</td><td>0.2015738620592325</td><td>-19.478192322807136</td><td>3543433.965658219</td><td>2033566.3263885174</td></tr>\n",
       "<tr><td>-19.29247827281422</td><td>7.165775866315473</td><td>0</td><td>G9</td><td>0.22611</td><td>0.03903000056743622</td><td>0.23376390096846053</td><td>-19.552504727739755</td><td>5428345.448929777</td><td>4934213.97663836</td></tr>\n",
       "<tr><td>-17.321470929511616</td><td>1.9898601062144676</td><td>0</td><td>G12</td><td>0.08393</td><td>0.03903000056743622</td><td>0.08718259487634583</td><td>-17.41799041462762</td><td>281582.14896851627</td><td>248679.5157417601</td></tr>\n",
       "<tr><td>-21.116050046679522</td><td>10.589502667205137</td><td>0</td><td>G12</td><td>0.25301</td><td>0.03903000056743622</td><td>0.26298999786376953</td><td>-21.0730383366318</td><td>7594841.612883208</td><td>6804019.3281371705</td></tr>\n",
       "<tr><td>-20.345134000762762</td><td>7.165775866315473</td><td>0</td><td>G15</td><td>0.22161</td><td>0.03903000056743622</td><td>0.26298999786376953</td><td>-20.30746028898603</td><td>7594841.612883208</td><td>4657354.297752856</td></tr>\n",
       "<tr><td>-19.928624016938965</td><td>1.5207638916776758</td><td>0</td><td>G9</td><td>0.06538</td><td>0.03903000056743622</td><td>0.24136516930827695</td><td>-19.917509412167828</td><td>5948588.083884558</td><td>103902.33222394883</td></tr>\n",
       "<tr><td>-21.49181396812422</td><td>6.092189398390653</td><td>0</td><td>G12</td><td>0.19734</td><td>0.03903000056743622</td><td>0.26298999786376953</td><td>-21.458266179265806</td><td>7594841.612883208</td><td>3332109.4308852656</td></tr>\n",
       "<tr><td>-19.073649672903894</td><td>3.618347526917889</td><td>0</td><td>G9</td><td>0.13883</td><td>0.03903000056743622</td><td>0.21422995507248124</td><td>-19.233304156103014</td><td>4224771.618431658</td><td>1185275.0889501541</td></tr>\n",
       "<tr><td>-19.872986427944166</td><td>7.165775866315473</td><td>0</td><td>G12</td><td>0.22317</td><td>0.03903000056743622</td><td>0.23138911303550738</td><td>-19.835047520201666</td><td>5271870.042804146</td><td>4752199.070788282</td></tr>\n",
       "<tr><td>-20.78911111538701</td><td>7.165775866315473</td><td>0</td><td>G15</td><td>0.21749</td><td>0.03903000056743622</td><td>0.26298999786376953</td><td>-20.75213781779103</td><td>7594841.612883208</td><td>4412600.199020763</td></tr>\n",
       "<tr><td>-19.711175672459895</td><td>7.165775866315473</td><td>0</td><td>G15</td><td>0.22204</td><td>0.03903000056743622</td><td>0.26298999786376953</td><td>-19.96652162795096</td><td>7594841.612883208</td><td>4683377.953602435</td></tr>\n",
       "<tr><td>-20.934953735248378</td><td>10.589502667205137</td><td>0</td><td>G12</td><td>0.25183</td><td>0.03903000056743622</td><td>0.26298999786376953</td><td>-20.892142624632648</td><td>7594841.612883208</td><td>6714066.25824497</td></tr>\n",
       "<tr><td>...</td><td>...</td><td>...</td><td>...</td><td>...</td><td>...</td><td>...</td><td>...</td><td>...</td><td>...</td></tr>\n",
       "<tr><td>-22.05023092410709</td><td>10.589502667205137</td><td>0</td><td>G15</td><td>0.25239</td><td>0.03903000056743622</td><td>0.26298999786376953</td><td>-22.007324624873654</td><td>7594841.612883208</td><td>6756662.193852017</td></tr>\n",
       "<tr><td>-21.079371680706092</td><td>7.165775866315473</td><td>0</td><td>G9</td><td>0.22194</td><td>0.03903000056743622</td><td>0.26298999786376953</td><td>-21.041641880958625</td><td>7594841.612883208</td><td>4677317.766251532</td></tr>\n",
       "<tr><td>-21.181913059061642</td><td>5.257448359247273</td><td>0</td><td>G12</td><td>0.17824</td><td>0.03903000056743622</td><td>0.26298999786376953</td><td>-21.15161224812853</td><td>7594841.612883208</td><td>2477854.8577071386</td></tr>\n",
       "<tr><td>-19.85348419366621</td><td>10.589502667205137</td><td>0</td><td>G12</td><td>0.25019</td><td>0.03903000056743622</td><td>0.26298999786376953</td><td>-20.141202608926523</td><td>7594841.612883208</td><td>6590278.39915528</td></tr>\n",
       "<tr><td>-21.520665362770377</td><td>8.62724787108412</td><td>0</td><td>G15</td><td>0.23365</td><td>0.03903000056743622</td><td>0.26298999786376953</td><td>-21.48094485729438</td><td>7594841.612883208</td><td>5420775.023749229</td></tr>\n",
       "<tr><td>-21.182384494561653</td><td>5.257448359247273</td><td>0</td><td>G12</td><td>0.1882</td><td>0.03903000056743622</td><td>0.26298999786376953</td><td>-21.150390494484405</td><td>7594841.612883208</td><td>2903423.456871352</td></tr>\n",
       "<tr><td>-19.9946372167133</td><td>3.618347526917889</td><td>0</td><td>G15</td><td>0.14598</td><td>0.03903000056743622</td><td>0.24625347362534017</td><td>-19.96982060679423</td><td>6298977.067838132</td><td>1376425.8778626262</td></tr>\n",
       "<tr><td>-18.604195863614645</td><td>3.2372516172360464</td><td>0</td><td>G9</td><td>0.13695</td><td>0.03903000056743622</td><td>0.15800822783781854</td><td>-18.76168835223731</td><td>1739861.863054602</td><td>1137977.2364336422</td></tr>\n",
       "<tr><td>-18.898090456501908</td><td>1.9898601062144676</td><td>0</td><td>G12</td><td>0.08502</td><td>0.03903000056743622</td><td>0.1770249000178306</td><td>-18.9958634421987</td><td>2428824.6145382007</td><td>259437.22713314125</td></tr>\n",
       "<tr><td>-20.474242360080968</td><td>2.9154826542283176</td><td>0</td><td>G15</td><td>0.11933</td><td>0.03903000056743622</td><td>0.26298999786376953</td><td>-20.611471839930307</td><td>7594841.612883208</td><td>751528.0382054683</td></tr>\n",
       "<tr><td>-20.969717536977004</td><td>6.092189398390653</td><td>0</td><td>G15</td><td>0.20636</td><td>0.03903000056743622</td><td>0.26298999786376953</td><td>-20.934636329224777</td><td>7594841.612883208</td><td>3792257.368679045</td></tr>\n",
       "<tr><td>-21.04293524663582</td><td>3.2372516172360464</td><td>0</td><td>G15</td><td>0.13631</td><td>0.03903000056743622</td><td>0.26298999786376953</td><td>-21.019762547720816</td><td>7594841.612883208</td><td>1122151.9973406345</td></tr>\n",
       "<tr><td>-19.863751789020984</td><td>8.62724787108412</td><td>0</td><td>G12</td><td>0.24553</td><td>0.03903000056743622</td><td>0.26298999786376953</td><td>-20.14611124007651</td><td>7594841.612883208</td><td>6246329.545376737</td></tr>\n",
       "<tr><td>-19.81116350363363</td><td>8.62724787108412</td><td>0</td><td>G9</td><td>0.23822</td><td>0.03903000056743622</td><td>0.26298999786376953</td><td>-20.08511649440397</td><td>7594841.612883208</td><td>5729721.402089139</td></tr>\n",
       "</table></div>"
      ],
      "text/plain": [
       "<Table length=113601>\n",
       "     MCOLOR_0P0      WEIGHT_STEPWISE   IN_D8LUMFN FIELD   ZSURV  ...         ZMAX              MALL_0P0             VMAX                VZ        \n",
       "        mag                                                      ...                             mag                                              \n",
       "      float64            float64         int64    bytes3 float32 ...       float64             float64            float64            float64      \n",
       "------------------- ------------------ ---------- ------ ------- ... ------------------- ------------------- ------------------ ------------------\n",
       "-18.658971420719773  3.618347526917889          0    G15 0.14767 ... 0.16350321748052582  -18.82879189331785 1924140.0574302732 1424267.9091938706\n",
       "-19.635734025389933  5.257448359247273          0     G9 0.19018 ...  0.2487988726323865 -19.854441005737566  6486398.909219937  2993143.556167306\n",
       "-19.506516017870727  4.584470153194735          0    G15 0.16661 ...  0.2015738620592325 -19.478192322807136  3543433.965658219 2033566.3263885174\n",
       " -19.29247827281422  7.165775866315473          0     G9 0.22611 ... 0.23376390096846053 -19.552504727739755  5428345.448929777   4934213.97663836\n",
       "-17.321470929511616 1.9898601062144676          0    G12 0.08393 ... 0.08718259487634583  -17.41799041462762 281582.14896851627  248679.5157417601\n",
       "-21.116050046679522 10.589502667205137          0    G12 0.25301 ... 0.26298999786376953   -21.0730383366318  7594841.612883208 6804019.3281371705\n",
       "-20.345134000762762  7.165775866315473          0    G15 0.22161 ... 0.26298999786376953  -20.30746028898603  7594841.612883208  4657354.297752856\n",
       "-19.928624016938965 1.5207638916776758          0     G9 0.06538 ... 0.24136516930827695 -19.917509412167828  5948588.083884558 103902.33222394883\n",
       " -21.49181396812422  6.092189398390653          0    G12 0.19734 ... 0.26298999786376953 -21.458266179265806  7594841.612883208 3332109.4308852656\n",
       "-19.073649672903894  3.618347526917889          0     G9 0.13883 ... 0.21422995507248124 -19.233304156103014  4224771.618431658 1185275.0889501541\n",
       "-19.872986427944166  7.165775866315473          0    G12 0.22317 ... 0.23138911303550738 -19.835047520201666  5271870.042804146  4752199.070788282\n",
       " -20.78911111538701  7.165775866315473          0    G15 0.21749 ... 0.26298999786376953  -20.75213781779103  7594841.612883208  4412600.199020763\n",
       "-19.711175672459895  7.165775866315473          0    G15 0.22204 ... 0.26298999786376953  -19.96652162795096  7594841.612883208  4683377.953602435\n",
       "-20.934953735248378 10.589502667205137          0    G12 0.25183 ... 0.26298999786376953 -20.892142624632648  7594841.612883208   6714066.25824497\n",
       "                ...                ...        ...    ...     ... ...                 ...                 ...                ...                ...\n",
       " -22.05023092410709 10.589502667205137          0    G15 0.25239 ... 0.26298999786376953 -22.007324624873654  7594841.612883208  6756662.193852017\n",
       "-21.079371680706092  7.165775866315473          0     G9 0.22194 ... 0.26298999786376953 -21.041641880958625  7594841.612883208  4677317.766251532\n",
       "-21.181913059061642  5.257448359247273          0    G12 0.17824 ... 0.26298999786376953  -21.15161224812853  7594841.612883208 2477854.8577071386\n",
       " -19.85348419366621 10.589502667205137          0    G12 0.25019 ... 0.26298999786376953 -20.141202608926523  7594841.612883208   6590278.39915528\n",
       "-21.520665362770377   8.62724787108412          0    G15 0.23365 ... 0.26298999786376953  -21.48094485729438  7594841.612883208  5420775.023749229\n",
       "-21.182384494561653  5.257448359247273          0    G12  0.1882 ... 0.26298999786376953 -21.150390494484405  7594841.612883208  2903423.456871352\n",
       "  -19.9946372167133  3.618347526917889          0    G15 0.14598 ... 0.24625347362534017  -19.96982060679423  6298977.067838132 1376425.8778626262\n",
       "-18.604195863614645 3.2372516172360464          0     G9 0.13695 ... 0.15800822783781854  -18.76168835223731  1739861.863054602 1137977.2364336422\n",
       "-18.898090456501908 1.9898601062144676          0    G12 0.08502 ...  0.1770249000178306   -18.9958634421987 2428824.6145382007 259437.22713314125\n",
       "-20.474242360080968 2.9154826542283176          0    G15 0.11933 ... 0.26298999786376953 -20.611471839930307  7594841.612883208  751528.0382054683\n",
       "-20.969717536977004  6.092189398390653          0    G15 0.20636 ... 0.26298999786376953 -20.934636329224777  7594841.612883208  3792257.368679045\n",
       " -21.04293524663582 3.2372516172360464          0    G15 0.13631 ... 0.26298999786376953 -21.019762547720816  7594841.612883208 1122151.9973406345\n",
       "-19.863751789020984   8.62724787108412          0    G12 0.24553 ... 0.26298999786376953  -20.14611124007651  7594841.612883208  6246329.545376737\n",
       " -19.81116350363363   8.62724787108412          0     G9 0.23822 ... 0.26298999786376953  -20.08511649440397  7594841.612883208  5729721.402089139"
      ]
     },
     "execution_count": 7,
     "metadata": {},
     "output_type": "execute_result"
    }
   ],
   "source": [
    "fpath = findfile(ftype='vmax', dryrun=dryrun, version=version, survey=survey)\n",
    "vmax  = Table.read(fpath)\n",
    "vmax"
   ]
  },
  {
   "cell_type": "markdown",
   "id": "2d74ffd2",
   "metadata": {},
   "source": [
    "##  LUMFN"
   ]
  },
  {
   "cell_type": "code",
   "execution_count": 8,
   "id": "b4405608",
   "metadata": {},
   "outputs": [
    {
     "data": {
      "text/html": [
       "<div><i>Table length=24</i>\n",
       "<table id=\"table140132379761728\" class=\"table-striped table-bordered table-condensed\">\n",
       "<thead><tr><th>MEDIAN_M</th><th>PHI_N</th><th>PHI_N_ERROR</th><th>PHI_IVMAX</th><th>PHI_IVMAX_ERROR</th><th>N</th><th>V_ON_VMAX</th></tr></thead>\n",
       "<thead><tr><th>float64</th><th>float64</th><th>float64</th><th>float64</th><th>float64</th><th>float64</th><th>float64</th></tr></thead>\n",
       "<tr><td>-25.3</td><td>0.0</td><td>0.0</td><td>0.0</td><td>0.0</td><td>0.0</td><td>0.0</td></tr>\n",
       "<tr><td>-24.900000000000002</td><td>0.0</td><td>0.0</td><td>0.0</td><td>0.0</td><td>0.0</td><td>0.0</td></tr>\n",
       "<tr><td>-24.500000000000004</td><td>0.0</td><td>0.0</td><td>0.0</td><td>0.0</td><td>0.0</td><td>0.0</td></tr>\n",
       "<tr><td>-24.100000000000005</td><td>0.0</td><td>0.0</td><td>0.0</td><td>0.0</td><td>0.0</td><td>0.0</td></tr>\n",
       "<tr><td>-23.700000000000006</td><td>0.0</td><td>0.0</td><td>0.0</td><td>0.0</td><td>0.0</td><td>0.0</td></tr>\n",
       "<tr><td>-23.300000000000008</td><td>0.0</td><td>0.0</td><td>0.0</td><td>0.0</td><td>0.0</td><td>0.0</td></tr>\n",
       "<tr><td>-23.11550995782177</td><td>9.875123646130683e-07</td><td>5.701405295374389e-07</td><td>9.875876958960226e-07</td><td>5.701840253914576e-07</td><td>3.0</td><td>1.0</td></tr>\n",
       "<tr><td>-22.76681964683723</td><td>1.448351468099167e-05</td><td>2.1834719928387883e-06</td><td>1.448351468099167e-05</td><td>2.1834719928387888e-06</td><td>44.0</td><td>1.0</td></tr>\n",
       "<tr><td>-22.426289490172692</td><td>7.143006104034528e-05</td><td>4.848988502165758e-06</td><td>7.143006104034525e-05</td><td>4.848988502165758e-06</td><td>217.0</td><td>1.0</td></tr>\n",
       "<tr><td>-22.046592831052877</td><td>0.00028835361046701595</td><td>9.742565639450396e-06</td><td>0.0002883536104670159</td><td>9.742565639450396e-06</td><td>876.0</td><td>1.0</td></tr>\n",
       "<tr><td>-21.646491245445937</td><td>0.0008897486405163745</td><td>1.7113715590208027e-05</td><td>0.0008897486405163743</td><td>1.7113715590208027e-05</td><td>2703.0</td><td>1.0</td></tr>\n",
       "<tr><td>-21.267852624953765</td><td>0.0019121531086791045</td><td>2.508834282991427e-05</td><td>0.0019121531086791043</td><td>2.508834282991427e-05</td><td>5809.0</td><td>1.0</td></tr>\n",
       "<tr><td>-20.877237580886188</td><td>0.003351616965496754</td><td>3.321527356942373e-05</td><td>0.003351616965496753</td><td>3.321527356942373e-05</td><td>10182.0</td><td>1.0</td></tr>\n",
       "<tr><td>-20.48480410505588</td><td>0.004873044348577288</td><td>4.005076589999209e-05</td><td>0.004873044348577286</td><td>4.005076589999209e-05</td><td>14804.0</td><td>1.0</td></tr>\n",
       "<tr><td>-20.097105995264705</td><td>0.0059359368236891535</td><td>4.420335963459136e-05</td><td>0.006363118749623385</td><td>4.76335826140571e-05</td><td>18033.0</td><td>1.0</td></tr>\n",
       "<tr><td>-19.703142746948593</td><td>0.006105788950402602</td><td>4.483132120976887e-05</td><td>0.008141518487155951</td><td>6.191198667175526e-05</td><td>18549.0</td><td>0.8436537232461416</td></tr>\n",
       "<tr><td>-19.316111224780613</td><td>0.004809514386453847</td><td>3.978883815178829e-05</td><td>0.009411673194594</td><td>8.124096386618052e-05</td><td>14611.0</td><td>0.5464065947678376</td></tr>\n",
       "<tr><td>-18.923714259634096</td><td>0.003378608970129511</td><td>3.334875376579819e-05</td><td>0.010816695527527759</td><td>0.0001102192500909636</td><td>10264.0</td><td>0.3266802016835278</td></tr>\n",
       "<tr><td>-18.518643936653497</td><td>0.0022429697508244825</td><td>2.7172046680318783e-05</td><td>0.012011735763654822</td><td>0.00014891840128587145</td><td>6814.0</td><td>0.1907595383467998</td></tr>\n",
       "<tr><td>-18.129764176457346</td><td>0.0013835048228229088</td><td>2.13403227017106e-05</td><td>0.012495016821923995</td><td>0.00019636445529458017</td><td>4203.0</td><td>0.11285016266783994</td></tr>\n",
       "<tr><td>-17.72142716559512</td><td>0.0008950153731276443</td><td>1.71642918824938e-05</td><td>0.014258813941170612</td><td>0.0002781720155176054</td><td>2719.0</td><td>0.06402379461234864</td></tr>\n",
       "<tr><td>-17.320931092897975</td><td>0.0006171952278831677</td><td>1.425351323843597e-05</td><td>0.01747571037341986</td><td>0.0004099672736398787</td><td>1875.0</td><td>0.035985096453085876</td></tr>\n",
       "<tr><td>-16.932093379420884</td><td>0.0003034954667244163</td><td>9.995090894940627e-06</td><td>0.01588974130071198</td><td>0.0005342412477288869</td><td>922.0</td><td>0.019777668828415685</td></tr>\n",
       "<tr><td>-16.515226787344048</td><td>0.00022284862361434906</td><td>8.56476836145562e-06</td><td>0.023819042844448444</td><td>0.0009372777094534563</td><td>677.0</td><td>0.009706191620297398</td></tr>\n",
       "</table></div>"
      ],
      "text/plain": [
       "<Table length=24>\n",
       "      MEDIAN_M              PHI_N               PHI_N_ERROR             PHI_IVMAX          PHI_IVMAX_ERROR        N         V_ON_VMAX      \n",
       "      float64              float64                float64                float64               float64         float64       float64       \n",
       "------------------- ---------------------- ---------------------- --------------------- ---------------------- ------- --------------------\n",
       "              -25.3                    0.0                    0.0                   0.0                    0.0     0.0                  0.0\n",
       "-24.900000000000002                    0.0                    0.0                   0.0                    0.0     0.0                  0.0\n",
       "-24.500000000000004                    0.0                    0.0                   0.0                    0.0     0.0                  0.0\n",
       "-24.100000000000005                    0.0                    0.0                   0.0                    0.0     0.0                  0.0\n",
       "-23.700000000000006                    0.0                    0.0                   0.0                    0.0     0.0                  0.0\n",
       "-23.300000000000008                    0.0                    0.0                   0.0                    0.0     0.0                  0.0\n",
       " -23.11550995782177  9.875123646130683e-07  5.701405295374389e-07 9.875876958960226e-07  5.701840253914576e-07     3.0                  1.0\n",
       " -22.76681964683723  1.448351468099167e-05 2.1834719928387883e-06 1.448351468099167e-05 2.1834719928387888e-06    44.0                  1.0\n",
       "-22.426289490172692  7.143006104034528e-05  4.848988502165758e-06 7.143006104034525e-05  4.848988502165758e-06   217.0                  1.0\n",
       "-22.046592831052877 0.00028835361046701595  9.742565639450396e-06 0.0002883536104670159  9.742565639450396e-06   876.0                  1.0\n",
       "-21.646491245445937  0.0008897486405163745 1.7113715590208027e-05 0.0008897486405163743 1.7113715590208027e-05  2703.0                  1.0\n",
       "-21.267852624953765  0.0019121531086791045  2.508834282991427e-05 0.0019121531086791043  2.508834282991427e-05  5809.0                  1.0\n",
       "-20.877237580886188   0.003351616965496754  3.321527356942373e-05  0.003351616965496753  3.321527356942373e-05 10182.0                  1.0\n",
       " -20.48480410505588   0.004873044348577288  4.005076589999209e-05  0.004873044348577286  4.005076589999209e-05 14804.0                  1.0\n",
       "-20.097105995264705  0.0059359368236891535  4.420335963459136e-05  0.006363118749623385   4.76335826140571e-05 18033.0                  1.0\n",
       "-19.703142746948593   0.006105788950402602  4.483132120976887e-05  0.008141518487155951  6.191198667175526e-05 18549.0   0.8436537232461416\n",
       "-19.316111224780613   0.004809514386453847  3.978883815178829e-05     0.009411673194594  8.124096386618052e-05 14611.0   0.5464065947678376\n",
       "-18.923714259634096   0.003378608970129511  3.334875376579819e-05  0.010816695527527759  0.0001102192500909636 10264.0   0.3266802016835278\n",
       "-18.518643936653497  0.0022429697508244825 2.7172046680318783e-05  0.012011735763654822 0.00014891840128587145  6814.0   0.1907595383467998\n",
       "-18.129764176457346  0.0013835048228229088   2.13403227017106e-05  0.012495016821923995 0.00019636445529458017  4203.0  0.11285016266783994\n",
       " -17.72142716559512  0.0008950153731276443   1.71642918824938e-05  0.014258813941170612  0.0002781720155176054  2719.0  0.06402379461234864\n",
       "-17.320931092897975  0.0006171952278831677  1.425351323843597e-05   0.01747571037341986  0.0004099672736398787  1875.0 0.035985096453085876\n",
       "-16.932093379420884  0.0003034954667244163  9.995090894940627e-06   0.01588974130071198  0.0005342412477288869   922.0 0.019777668828415685\n",
       "-16.515226787344048 0.00022284862361434906   8.56476836145562e-06  0.023819042844448444  0.0009372777094534563   677.0 0.009706191620297398"
      ]
     },
     "execution_count": 8,
     "metadata": {},
     "output_type": "execute_result"
    }
   ],
   "source": [
    "fpath = findfile(ftype='lumfn', dryrun=dryrun, version=version, survey=survey)\n",
    "lumfn = Table.read(fpath)\n",
    "lumfn"
   ]
  },
  {
   "cell_type": "code",
   "execution_count": 9,
   "id": "9740e2d3",
   "metadata": {},
   "outputs": [],
   "source": [
    "##  HACK\n",
    "## TODO: note that offset should be re-added if desired.\n",
    "offset = 0.12\n",
    "\n",
    "## TODO: Rename\n",
    "gama_lf = lumfn"
   ]
  },
  {
   "cell_type": "code",
   "execution_count": 10,
   "id": "1fad0ac6",
   "metadata": {},
   "outputs": [],
   "source": [
    "# read in our stepwise\n",
    "fpath = '/cosma/home/durham/dc-moor2/data/{}/gama_gold_lumfn_step.fits'.format(version)\n",
    "lumfn_step = Table.read(fpath)\n",
    "\n",
    "# read in TMR stepwise digitalisation\n",
    "fpath = '/cosma/home/durham/dc-moor2/DESI/data/tmr_ref_stepwise.txt'\n",
    "lumfn_TMR = Table.read(fpath, format='ascii', names=['Ms', 'PHI_STEP'])"
   ]
  },
  {
   "cell_type": "code",
   "execution_count": 20,
   "id": "cf90297d",
   "metadata": {},
   "outputs": [
    {
     "name": "stderr",
     "output_type": "stream",
     "text": [
      "/tmp/ipykernel_238224/351588438.py:10: RuntimeWarning: divide by zero encountered in log10\n",
      "  pl.plot(gama_lf['MEDIAN_M'], np.log10(gama_lf['PHI_N']), label='RAW', lw=2.)\n",
      "/tmp/ipykernel_238224/351588438.py:11: RuntimeWarning: divide by zero encountered in log10\n",
      "  pl.plot(gama_lf['MEDIAN_M'], np.log10(gama_lf['PHI_IVMAX']), label='IVMAX', lw=2.)\n"
     ]
    },
    {
     "data": {
      "text/plain": [
       "Text(0.5, 1.0, 'GAMA')"
      ]
     },
     "execution_count": 20,
     "metadata": {},
     "output_type": "execute_result"
    },
    {
     "data": {
      "image/png": "[encoded data removed]",
      "text/plain": [
       "<Figure size 1440x720 with 1 Axes>"
      ]
     },
     "metadata": {
      "needs_background": "light"
     },
     "output_type": "display_data"
    }
   ],
   "source": [
    "Ms = np.arange(-23., -15., 0.01)\n",
    "sc = named_schechter(Ms, named_type='TMR')\n",
    "\n",
    "fig, ax = plt.subplots(1,1,figsize=(20, 10))\n",
    "\n",
    "pl.sca(ax)\n",
    "\n",
    "pl.plot(Ms, np.log10(sc), label='TMR_SCHT', lw=2.)\n",
    "\n",
    "pl.plot(gama_lf['MEDIAN_M'], np.log10(gama_lf['PHI_N']), label='RAW', lw=2.)\n",
    "pl.plot(gama_lf['MEDIAN_M'], np.log10(gama_lf['PHI_IVMAX']), label='IVMAX', lw=2.)\n",
    "\n",
    "# offset = 1.15\n",
    "# pl.plot(lumfn_step['Ms'], np.log10(lumfn_step['PHI_STEP'])-offset, label='STEPWISE', lw=2.)\n",
    "\n",
    "pl.scatter(lumfn_TMR['Ms'], lumfn_TMR['PHI_STEP'], s=0.5)\n",
    "# pl.plot(lumfn_TMR['Ms'], lumfn_TMR['PHI_STEP'], label='TMR_SWML', lw=1.)\n",
    "\n",
    "pl.xlabel(r'$M$')\n",
    "pl.ylabel(r'$\\Phi(M)$')\n",
    "\n",
    "pl.ylim(-4.25, -1.)\n",
    "pl.xlim(-23., -15.5)\n",
    "\n",
    "pl.legend(frameon=False, loc=2)\n",
    "pl.title(survey.upper())"
   ]
  },
  {
   "cell_type": "code",
   "execution_count": 12,
   "id": "24f3ce4d",
   "metadata": {},
   "outputs": [
    {
     "data": {
      "text/html": [
       "<div><i>Table length=113687</i>\n",
       "<table id=\"table140136476205264\" class=\"table-striped table-bordered table-condensed\">\n",
       "<thead><tr><th>CATAID</th><th>OBJID</th><th>RA</th><th>DEC</th><th>R_PETRO</th><th>ZGAMA</th><th>NQ</th><th>SPECID</th><th>SURVEY_CLASS</th><th>UMAG_DRED_SDSS</th><th>GMAG_DRED_SDSS</th><th>RMAG_DRED_SDSS</th><th>IMAG_DRED_SDSS</th><th>ZMAG_DRED_SDSS</th><th>ZSURV</th><th>LUMDIST</th><th>DISTMOD</th><th>FIELD</th><th>IN_D8LUMFN</th><th>CONSERVATIVE</th><th>CARTESIAN_X</th><th>CARTESIAN_Y</th><th>CARTESIAN_Z</th><th>ROTCARTESIAN_X</th><th>ROTCARTESIAN_Y</th><th>ROTCARTESIAN_Z</th><th>GMR</th><th>DETMAG</th><th>JK</th></tr></thead>\n",
       "<thead><tr><th></th><th></th><th>deg</th><th>deg</th><th>mag</th><th></th><th></th><th></th><th></th><th>mag</th><th>mag</th><th>mag</th><th>mag</th><th>mag</th><th></th><th>Mpc</th><th></th><th></th><th></th><th></th><th></th><th></th><th></th><th></th><th></th><th></th><th>mag</th><th>mag</th><th></th></tr></thead>\n",
       "<thead><tr><th>int32</th><th>int64</th><th>float64</th><th>float64</th><th>float32</th><th>float32</th><th>int16</th><th>bytes33</th><th>int16</th><th>float32</th><th>float32</th><th>float32</th><th>float32</th><th>float32</th><th>float32</th><th>float64</th><th>float64</th><th>bytes3</th><th>int64</th><th>int64</th><th>float64</th><th>float64</th><th>float64</th><th>float64</th><th>float64</th><th>float64</th><th>float32</th><th>float32</th><th>bytes4</th></tr></thead>\n",
       "<tr><td>79517</td><td>587722983369015586</td><td>221.90442937</td><td>0.19181593</td><td>19.589008</td><td>0.14767</td><td>4</td><td>G15_Y5_004_309</td><td>5</td><td>21.616375</td><td>20.058775</td><td>19.546654</td><td>19.20639</td><td>19.090242</td><td>0.14767</td><td>493.46971211371834</td><td>38.46630250979477</td><td>G15</td><td>0</td><td>0</td><td>-320.0115524901314</td><td>-287.17460304287704</td><td>1.4394768642038602</td><td>322.4137148457745</td><td>284.47648238969197</td><td>1.1161989767273883</td><td>0.5121212</td><td>19.589008</td><td>JK8</td></tr>\n",
       "<tr><td>423202</td><td>587728879794782493</td><td>134.32965481</td><td>2.82326431</td><td>19.222818</td><td>0.19018</td><td>4</td><td>G09_Y1_DX2_241</td><td>6</td><td>21.372406</td><td>20.112215</td><td>19.258823</td><td>18.882227</td><td>18.598429</td><td>0.19018</td><td>653.2280894262998</td><td>39.075324257700316</td><td>G9</td><td>0</td><td>0</td><td>-383.0616535447091</td><td>392.1316199246054</td><td>27.03368964713638</td><td>379.7812811157212</td><td>-395.3353758568989</td><td>26.652903166931036</td><td>0.85339165</td><td>19.222818</td><td>JK1</td></tr>\n",
       "<tr><td>618528</td><td>588848900465295688</td><td>215.97888844</td><td>0.21146994</td><td>19.322342</td><td>0.16661</td><td>4</td><td>G15_Y3_005_314</td><td>6</td><td>22.302507</td><td>20.306444</td><td>19.239223</td><td>18.774178</td><td>18.491404</td><td>0.16661</td><td>563.7250516414288</td><td>38.75533667532398</td><td>G15</td><td>0</td><td>0</td><td>-391.0322205795908</td><td>-283.8814590125174</td><td>1.7834735092634075</td><td>393.4045254093146</td><td>280.5869047306039</td><td>1.3890145465743724</td><td>1.0672207</td><td>19.322342</td><td>JK7</td></tr>\n",
       "<tr><td>373141</td><td>587727942955630981</td><td>139.53849015</td><td>1.26850634</td><td>19.737514</td><td>0.22611</td><td>4</td><td>G09_Y3_014_239</td><td>5</td><td>21.303547</td><td>20.244375</td><td>19.748362</td><td>19.455616</td><td>19.24166</td><td>0.22611</td><td>793.9706172982571</td><td>39.499022153310875</td><td>G9</td><td>0</td><td>0</td><td>-492.56446888872307</td><td>420.11785987044976</td><td>14.335390665026965</td><td>489.0323711249148</td><td>-424.2404154497467</td><td>13.845053638238964</td><td>0.49601364</td><td>19.737514</td><td>JK2</td></tr>\n",
       "<tr><td>41220</td><td>587722982278955568</td><td>184.63971854</td><td>-0.69652957</td><td>19.718143</td><td>0.08393</td><td>4</td><td>G12_Y1_ND7_140</td><td>5</td><td>21.04846</td><td>20.039017</td><td>19.660496</td><td>19.375326</td><td>19.384188</td><td>0.08393</td><td>268.3426613039717</td><td>37.14344861300682</td><td>G12</td><td>0</td><td>0</td><td>-246.73507218300853</td><td>-20.023990929771518</td><td>-3.009502502081882</td><td>246.89142103749109</td><td>17.95079263419047</td><td>-3.257057738613331</td><td>0.37852097</td><td>19.718143</td><td>JK5</td></tr>\n",
       "<tr><td>273124</td><td>587726031175745783</td><td>182.18343912</td><td>1.38318181</td><td>18.728197</td><td>0.25301</td><td>4</td><td>G12_Y1_EX2_010</td><td>6</td><td>20.82814</td><td>19.595024</td><td>18.477016</td><td>18.070349</td><td>17.733896</td><td>0.25301</td><td>902.642312609461</td><td>39.777578439085346</td><td>G12</td><td>0</td><td>0</td><td>-719.6463876706407</td><td>-27.437712954604105</td><td>17.389039367761065</td><td>719.8685415343215</td><td>21.391956603583516</td><td>16.667248472208893</td><td>1.1180077</td><td>18.728197</td><td>JK5</td></tr>\n",
       "<tr><td>367321</td><td>587726033877205694</td><td>221.34957849</td><td>2.86496938</td><td>19.153774</td><td>0.22161</td><td>4</td><td>G15_Y4_230_359</td><td>6</td><td>21.16949</td><td>20.083027</td><td>19.089508</td><td>18.630032</td><td>18.36162</td><td>0.22161</td><td>776.0641832900482</td><td>39.44948820227037</td><td>G15</td><td>0</td><td>0</td><td>-476.3038987332113</td><td>-419.17400164285385</td><td>31.75275682703238</td><td>479.8396135972334</td><td>415.1584210260319</td><td>31.271645973422384</td><td>0.9935188</td><td>19.153774</td><td>JK8</td></tr>\n",
       "<tr><td>278559</td><td>587726031690858703</td><td>132.39561337</td><td>0.84647721</td><td>16.67593</td><td>0.06538</td><td>5</td><td>525839268854130688</td><td>6</td><td>18.920893</td><td>17.333975</td><td>16.626013</td><td>16.218363</td><td>15.91453</td><td>0.06538</td><td>206.21224741843818</td><td>36.57157227729542</td><td>G9</td><td>0</td><td>0</td><td>-130.49107494720033</td><td>142.92793609466335</td><td>2.8594780285823997</td><td>129.28872691612673</td><td>-144.01897519551804</td><td>2.7298439134762837</td><td>0.70796204</td><td>16.67593</td><td>JK0</td></tr>\n",
       "<tr><td>273382</td><td>587726031176270062</td><td>183.35132078</td><td>1.30197926</td><td>17.753372</td><td>0.19734</td><td>5</td><td>583295079989405696</td><td>6</td><td>20.247446</td><td>18.61641</td><td>17.517601</td><td>17.061766</td><td>16.820946</td><td>0.19734</td><td>680.8644055163691</td><td>39.16530315281349</td><td>G12</td><td>0</td><td>0</td><td>-567.5284719256234</td><td>-33.233547003107894</td><td>12.920734180721075</td><td>567.8002713896303</td><td>28.4653256854016</td><td>12.351417242408539</td><td>1.0988083</td><td>17.753372</td><td>JK5</td></tr>\n",
       "<tr><td>3623145</td><td>587729151448514851</td><td>130.89195134</td><td>-0.76247836</td><td>18.982603</td><td>0.13883</td><td>4</td><td>G09_Y2_014_187</td><td>4</td><td>19.39866</td><td>19.115591</td><td>18.952793</td><td>18.881454</td><td>18.991667</td><td>0.13883</td><td>461.19610859401655</td><td>38.31942817109167</td><td>G9</td><td>0</td><td>0</td><td>-265.0862935253557</td><td>306.1108674997119</td><td>-5.389132068185304</td><td>262.500177649309</td><td>-308.32670458028264</td><td>-5.652339129062967</td><td>0.16279793</td><td>18.982603</td><td>JK0</td></tr>\n",
       "<tr><td>560810</td><td>588848899376611577</td><td>181.90906736</td><td>-0.61751426</td><td>19.705654</td><td>0.22317</td><td>4</td><td>G12_Y2_017_273</td><td>5</td><td>22.61862</td><td>21.065271</td><td>19.763395</td><td>19.073662</td><td>18.713171</td><td>0.22317</td><td>782.2628539270328</td><td>39.46676354041884</td><td>G12</td><td>0</td><td>0</td><td>-639.1451962996227</td><td>-21.30388981697611</td><td>-6.892580120486411</td><td>639.2943617576046</td><td>15.934532874806703</td><td>-7.533592896696282</td><td>1.3018761</td><td>19.705654</td><td>JK4</td></tr>\n",
       "<tr><td>505425</td><td>587729971251183780</td><td>219.7516849</td><td>-1.93730552</td><td>18.72025</td><td>0.21749</td><td>4</td><td>G15_Y2_005_045</td><td>6</td><td>22.149815</td><td>19.942682</td><td>18.668718</td><td>18.21969</td><td>17.990892</td><td>0.21749</td><td>759.7393585261846</td><td>39.403323128717304</td><td>G15</td><td>0</td><td>0</td><td>-479.48752708984676</td><td>-398.8094210331702</td><td>-21.095604043379986</td><td>482.799082374363</td><td>394.76781742313494</td><td>-21.57970887087212</td><td>1.2739639</td><td>18.72025</td><td>JK8</td></tr>\n",
       "<tr><td>228261</td><td>587726014011212378</td><td>216.63144681</td><td>1.1361692</td><td>19.431587</td><td>0.22204</td><td>4</td><td>G15_Y6_078_388</td><td>5</td><td>21.158575</td><td>20.111212</td><td>19.31523</td><td>19.025759</td><td>18.836773</td><td>0.22204</td><td>777.7718245859566</td><td>39.454261032135896</td><td>G15</td><td>0</td><td>0</td><td>-510.64737737421996</td><td>-379.6752403808668</td><td>12.619981654304254</td><td>513.8309031351971</td><td>375.3725794861091</td><td>12.104778709482204</td><td>0.79598236</td><td>19.431587</td><td>JK7</td></tr>\n",
       "<tr><td>289578</td><td>587726031712878816</td><td>182.77017901</td><td>1.83039361</td><td>18.954403</td><td>0.25183</td><td>4</td><td>G12_Y3_029_278</td><td>6</td><td>21.879566</td><td>20.307022</td><td>18.94962</td><td>18.443531</td><td>18.0822</td><td>0.25183</td><td>897.8173153110752</td><td>39.76593988476422</td><td>G12</td><td>0</td><td>0</td><td>-716.0002508170049</td><td>-34.6447126367896</td><td>22.90818135884628</td><td>716.2886054367572</td><td>28.629328365902296</td><td>22.189982777203998</td><td>1.3574028</td><td>18.954403</td><td>JK5</td></tr>\n",
       "<tr><td>...</td><td>...</td><td>...</td><td>...</td><td>...</td><td>...</td><td>...</td><td>...</td><td>...</td><td>...</td><td>...</td><td>...</td><td>...</td><td>...</td><td>...</td><td>...</td><td>...</td><td>...</td><td>...</td><td>...</td><td>...</td><td>...</td><td>...</td><td>...</td><td>...</td><td>...</td><td>...</td><td>...</td><td>...</td></tr>\n",
       "<tr><td>227844</td><td>587726014010491215</td><td>214.9975871</td><td>1.28426323</td><td>17.88204</td><td>0.25239</td><td>5</td><td>601297653967382528</td><td>6</td><td>23.203487</td><td>19.462011</td><td>17.969885</td><td>17.396118</td><td>17.07371</td><td>0.25239</td><td>900.1064646132514</td><td>39.77146940419378</td><td>G15</td><td>0</td><td>0</td><td>-588.6030365727688</td><td>-412.107343182817</td><td>16.108285914899714</td><td>592.0596893577368</td><td>407.1487367504976</td><td>15.514646083454496</td><td>1.4921265</td><td>17.88204</td><td>JK6</td></tr>\n",
       "<tr><td>203660</td><td>587725074453168579</td><td>134.59530547</td><td>-0.21159756</td><td>18.477907</td><td>0.22194</td><td>4</td><td>G09_Y1_ES1_205</td><td>6</td><td>21.6256</td><td>19.492472</td><td>18.232311</td><td>17.683584</td><td>17.269196</td><td>0.22194</td><td>777.3746942008792</td><td>39.45315199490692</td><td>G9</td><td>0</td><td>0</td><td>-446.6560723147987</td><td>453.01075149706537</td><td>-2.349457204565048</td><td>442.83259845346424</td><td>-456.7465315459945</td><td>-2.79347891195848</td><td>1.2601604</td><td>18.477907</td><td>JK1</td></tr>\n",
       "<tr><td>39980</td><td>587722982276530338</td><td>179.10058249</td><td>-0.71800214</td><td>17.811718</td><td>0.17824</td><td>4</td><td>2dF297818</td><td>6</td><td>20.583662</td><td>18.648983</td><td>17.579992</td><td>17.079473</td><td>16.741219</td><td>0.17824</td><td>607.603681799456</td><td>38.91810198411983</td><td>G12</td><td>0</td><td>0</td><td>-515.583486211481</td><td>8.09418972122903</td><td>-6.462169590603747</td><td>515.4905704421443</td><td>-12.424632620608925</td><td>-6.979046247231705</td><td>1.0689907</td><td>17.811718</td><td>JK4</td></tr>\n",
       "<tr><td>171742</td><td>587725040628597334</td><td>179.62867598</td><td>-2.44286802</td><td>19.44748</td><td>0.25019</td><td>4</td><td>G12_Y4_202_219</td><td>5</td><td>21.084738</td><td>20.090853</td><td>19.38651</td><td>19.212564</td><td>18.987944</td><td>0.25019</td><td>891.120118913735</td><td>39.749681244456625</td><td>G12</td><td>0</td><td>0</td><td>-712.1250173940388</td><td>4.615223470503566</td><td>-30.381275693365257</td><td>712.0303081523908</td><td>-10.596672075311709</td><td>-31.095231342423524</td><td>0.7043419</td><td>19.44748</td><td>JK4</td></tr>\n",
       "<tr><td>261676</td><td>587726015621366034</td><td>215.51727288</td><td>2.38380209</td><td>18.167816</td><td>0.23365</td><td>4</td><td>G15_Y4_221_139</td><td>6</td><td>21.588467</td><td>19.33173</td><td>18.048737</td><td>17.548836</td><td>17.208303</td><td>0.23365</td><td>824.1503216409362</td><td>39.58003216227837</td><td>G15</td><td>0</td><td>0</td><td>-543.2892430661238</td><td>-387.7716202691875</td><td>27.786685361323062</td><td>546.5548151101328</td><td>383.1944930226592</td><td>27.238678344545757</td><td>1.2829933</td><td>18.167816</td><td>JK7</td></tr>\n",
       "<tr><td>31329</td><td>587722981739790541</td><td>179.42293453</td><td>-1.23765789</td><td>17.983078</td><td>0.1882</td><td>4</td><td>G12_Y1_ES1_203</td><td>6</td><td>21.207188</td><td>19.238346</td><td>17.93256</td><td>17.47585</td><td>17.088366</td><td>0.1882</td><td>645.6221020617959</td><td>39.04989194747321</td><td>G12</td><td>0</td><td>0</td><td>-543.2071573259537</td><td>5.47120042473688</td><td>-11.73634992986228</td><td>543.1299970622467</td><td>-10.033765434477537</td><td>-12.280942808967524</td><td>1.3057861</td><td>17.983078</td><td>JK4</td></tr>\n",
       "<tr><td>240605</td><td>587726014551097587</td><td>223.48885721</td><td>1.43784619</td><td>18.503124</td><td>0.14598</td><td>4</td><td>G15_Y1_IN1_380</td><td>6</td><td>20.770271</td><td>19.402657</td><td>18.501781</td><td>18.122776</td><td>17.79166</td><td>0.14598</td><td>487.27412052709553</td><td>38.438866731534674</td><td>G15</td><td>0</td><td>0</td><td>-308.39113347869954</td><td>-292.53829410814194</td><td>10.669412876534812</td><td>310.8480194939508</td><td>289.937591859874</td><td>10.357736349917213</td><td>0.9008751</td><td>18.503124</td><td>JK8</td></tr>\n",
       "<tr><td>280127</td><td>587726031694594366</td><td>140.98565283</td><td>1.05556099</td><td>19.49906</td><td>0.13695</td><td>4</td><td>G09_Y6_074_048</td><td>5</td><td>20.794266</td><td>19.870121</td><td>19.32801</td><td>19.052124</td><td>18.943342</td><td>0.13695</td><td>454.37538140886824</td><td>38.287073963779775</td><td>G9</td><td>0</td><td>0</td><td>-310.4661264913291</td><td>251.53926015072162</td><td>7.362232910203418</td><td>308.3495554454826</td><td>-254.13819778208008</td><td>7.053059887457089</td><td>0.54211044</td><td>19.49906</td><td>JK2</td></tr>\n",
       "<tr><td>69665</td><td>587722983348895982</td><td>175.94086401</td><td>0.07269387</td><td>18.197943</td><td>0.08502</td><td>4</td><td>2dF292523</td><td>6</td><td>20.045727</td><td>18.784836</td><td>18.156761</td><td>17.77412</td><td>17.523487</td><td>0.08502</td><td>272.0419081016438</td><td>37.17317906162921</td><td>G12</td><td>0</td><td>0</td><td>-250.0961199296484</td><td>17.747833987444157</td><td>0.318106930771186</td><td>249.93841455100466</td><td>-19.847931450243802</td><td>0.06749819970625431</td><td>0.62807465</td><td>18.197943</td><td>JK3</td></tr>\n",
       "<tr><td>252022</td><td>587726015087247557</td><td>221.89140457</td><td>1.82130903</td><td>17.36593</td><td>0.11933</td><td>5</td><td>604650615179601920</td><td>6</td><td>19.201584</td><td>18.02399</td><td>17.352144</td><td>16.973293</td><td>16.738102</td><td>0.11933</td><td>391.1870640067411</td><td>37.961922424297406</td><td>G15</td><td>0</td><td>0</td><td>-260.0279728326971</td><td>-233.2393525131843</td><td>11.10744542773498</td><td>261.98893753198894</td><td>231.04697653809475</td><td>10.844759271009446</td><td>0.6718464</td><td>17.36593</td><td>JK8</td></tr>\n",
       "<tr><td>505829</td><td>587729971252101381</td><td>221.93712211</td><td>-1.92426255</td><td>18.419752</td><td>0.20636</td><td>4</td><td>G15_Y6_074_121</td><td>6</td><td>21.4419</td><td>19.655428</td><td>18.349733</td><td>17.955877</td><td>17.549816</td><td>0.20636</td><td>715.9727610096223</td><td>39.27448250002922</td><td>G15</td><td>0</td><td>0</td><td>-441.24188076851755</td><td>-396.4200298692532</td><td>-19.92873018999666</td><td>444.5359044291959</td><td>392.69976115967177</td><td>-20.374468609452496</td><td>1.3056946</td><td>18.419752</td><td>JK8</td></tr>\n",
       "<tr><td>569108</td><td>588848899392274718</td><td>217.64682536</td><td>-0.43633518</td><td>17.290802</td><td>0.13631</td><td>5</td><td>343400323282397184</td><td>6</td><td>19.573645</td><td>17.961958</td><td>17.043135</td><td>16.63584</td><td>16.307354</td><td>0.13631</td><td>452.05684237853745</td><td>38.27596523577397</td><td>G15</td><td>0</td><td>0</td><td>-314.98802744455674</td><td>-242.98379013445918</td><td>-3.0296302274023996</td><td>317.01470062308135</td><td>240.32942436255735</td><td>-3.347496863999147</td><td>0.91882324</td><td>17.290802</td><td>JK7</td></tr>\n",
       "<tr><td>85579</td><td>587722983888847441</td><td>182.98823153</td><td>0.49833173</td><td>19.477518</td><td>0.24553</td><td>4</td><td>G12_Y1_GD1_319</td><td>5</td><td>21.348835</td><td>20.261463</td><td>19.42819</td><td>19.077236</td><td>18.799568</td><td>0.24553</td><td>872.146164647314</td><td>39.70294637638439</td><td>G12</td><td>0</td><td>0</td><td>-699.2423518941542</td><td>-36.50172255449504</td><td>6.090115263069963</td><td>699.530041199221</td><td>30.62703350555709</td><td>5.388711747421471</td><td>0.83327293</td><td>19.477518</td><td>JK5</td></tr>\n",
       "<tr><td>302733</td><td>587726032230613392</td><td>138.98189887</td><td>1.32202231</td><td>19.430979</td><td>0.23822</td><td>4</td><td>G09_Y6_086_368</td><td>5</td><td>21.189224</td><td>20.248524</td><td>19.50122</td><td>19.19297</td><td>19.158525</td><td>0.23822</td><td>842.5492685750261</td><td>39.62797652958424</td><td>G9</td><td>0</td><td>0</td><td>-513.2659294649523</td><td>446.46002944491175</td><td>15.699112978634064</td><td>509.513193090477</td><td>-450.75554105932105</td><td>15.188240874237449</td><td>0.747303</td><td>19.430979</td><td>JK2</td></tr>\n",
       "</table></div>"
      ],
      "text/plain": [
       "<Table length=113687>\n",
       " CATAID       OBJID             RA          DEC      R_PETRO   ZGAMA  ...    ROTCARTESIAN_Y      ROTCARTESIAN_Z      GMR       DETMAG    JK  \n",
       "                               deg          deg        mag            ...                                            mag        mag          \n",
       " int32        int64          float64      float64    float32  float32 ...       float64             float64        float32    float32  bytes4\n",
       "------- ------------------ ------------ ----------- --------- ------- ... ------------------- ------------------- ---------- --------- ------\n",
       "  79517 587722983369015586 221.90442937  0.19181593 19.589008 0.14767 ...  284.47648238969197  1.1161989767273883  0.5121212 19.589008    JK8\n",
       " 423202 587728879794782493 134.32965481  2.82326431 19.222818 0.19018 ...  -395.3353758568989  26.652903166931036 0.85339165 19.222818    JK1\n",
       " 618528 588848900465295688 215.97888844  0.21146994 19.322342 0.16661 ...   280.5869047306039  1.3890145465743724  1.0672207 19.322342    JK7\n",
       " 373141 587727942955630981 139.53849015  1.26850634 19.737514 0.22611 ...  -424.2404154497467  13.845053638238964 0.49601364 19.737514    JK2\n",
       "  41220 587722982278955568 184.63971854 -0.69652957 19.718143 0.08393 ...   17.95079263419047  -3.257057738613331 0.37852097 19.718143    JK5\n",
       " 273124 587726031175745783 182.18343912  1.38318181 18.728197 0.25301 ...  21.391956603583516  16.667248472208893  1.1180077 18.728197    JK5\n",
       " 367321 587726033877205694 221.34957849  2.86496938 19.153774 0.22161 ...   415.1584210260319  31.271645973422384  0.9935188 19.153774    JK8\n",
       " 278559 587726031690858703 132.39561337  0.84647721  16.67593 0.06538 ... -144.01897519551804  2.7298439134762837 0.70796204  16.67593    JK0\n",
       " 273382 587726031176270062 183.35132078  1.30197926 17.753372 0.19734 ...    28.4653256854016  12.351417242408539  1.0988083 17.753372    JK5\n",
       "3623145 587729151448514851 130.89195134 -0.76247836 18.982603 0.13883 ... -308.32670458028264  -5.652339129062967 0.16279793 18.982603    JK0\n",
       " 560810 588848899376611577 181.90906736 -0.61751426 19.705654 0.22317 ...  15.934532874806703  -7.533592896696282  1.3018761 19.705654    JK4\n",
       " 505425 587729971251183780  219.7516849 -1.93730552  18.72025 0.21749 ...  394.76781742313494  -21.57970887087212  1.2739639  18.72025    JK8\n",
       " 228261 587726014011212378 216.63144681   1.1361692 19.431587 0.22204 ...   375.3725794861091  12.104778709482204 0.79598236 19.431587    JK7\n",
       " 289578 587726031712878816 182.77017901  1.83039361 18.954403 0.25183 ...  28.629328365902296  22.189982777203998  1.3574028 18.954403    JK5\n",
       "    ...                ...          ...         ...       ...     ... ...                 ...                 ...        ...       ...    ...\n",
       " 227844 587726014010491215  214.9975871  1.28426323  17.88204 0.25239 ...   407.1487367504976  15.514646083454496  1.4921265  17.88204    JK6\n",
       " 203660 587725074453168579 134.59530547 -0.21159756 18.477907 0.22194 ...  -456.7465315459945   -2.79347891195848  1.2601604 18.477907    JK1\n",
       "  39980 587722982276530338 179.10058249 -0.71800214 17.811718 0.17824 ... -12.424632620608925  -6.979046247231705  1.0689907 17.811718    JK4\n",
       " 171742 587725040628597334 179.62867598 -2.44286802  19.44748 0.25019 ... -10.596672075311709 -31.095231342423524  0.7043419  19.44748    JK4\n",
       " 261676 587726015621366034 215.51727288  2.38380209 18.167816 0.23365 ...   383.1944930226592  27.238678344545757  1.2829933 18.167816    JK7\n",
       "  31329 587722981739790541 179.42293453 -1.23765789 17.983078  0.1882 ... -10.033765434477537 -12.280942808967524  1.3057861 17.983078    JK4\n",
       " 240605 587726014551097587 223.48885721  1.43784619 18.503124 0.14598 ...    289.937591859874  10.357736349917213  0.9008751 18.503124    JK8\n",
       " 280127 587726031694594366 140.98565283  1.05556099  19.49906 0.13695 ... -254.13819778208008   7.053059887457089 0.54211044  19.49906    JK2\n",
       "  69665 587722983348895982 175.94086401  0.07269387 18.197943 0.08502 ... -19.847931450243802 0.06749819970625431 0.62807465 18.197943    JK3\n",
       " 252022 587726015087247557 221.89140457  1.82130903  17.36593 0.11933 ...  231.04697653809475  10.844759271009446  0.6718464  17.36593    JK8\n",
       " 505829 587729971252101381 221.93712211 -1.92426255 18.419752 0.20636 ...  392.69976115967177 -20.374468609452496  1.3056946 18.419752    JK8\n",
       " 569108 588848899392274718 217.64682536 -0.43633518 17.290802 0.13631 ...  240.32942436255735  -3.347496863999147 0.91882324 17.290802    JK7\n",
       "  85579 587722983888847441 182.98823153  0.49833173 19.477518 0.24553 ...   30.62703350555709   5.388711747421471 0.83327293 19.477518    JK5\n",
       " 302733 587726032230613392 138.98189887  1.32202231 19.430979 0.23822 ... -450.75554105932105  15.188240874237449   0.747303 19.430979    JK2"
      ]
     },
     "execution_count": 12,
     "metadata": {},
     "output_type": "execute_result"
    }
   ],
   "source": [
    "fpath = findfile(ftype='gold', dryrun=dryrun, version=version, survey=survey)\n",
    "gold  = Table.read(fpath)\n",
    "gold"
   ]
  },
  {
   "cell_type": "markdown",
   "id": "6bf10489",
   "metadata": {},
   "source": [
    "##  Cobaya"
   ]
  },
  {
   "cell_type": "code",
   "execution_count": 13,
   "id": "80e4b6ce",
   "metadata": {},
   "outputs": [],
   "source": [
    "# root = '/cosma/home/durham/{}/data/GAMA4/cobaya/'.format(os.environ['USER'])"
   ]
  },
  {
   "cell_type": "code",
   "execution_count": 20,
   "id": "7f378f19",
   "metadata": {},
   "outputs": [],
   "source": [
    "# dat = Table.read(root + 'schechter_chain.1.txt', format='ascii')        "
   ]
  },
  {
   "cell_type": "code",
   "execution_count": 21,
   "id": "9635fd95",
   "metadata": {},
   "outputs": [],
   "source": [
    "# samples = np.c_[dat['log10phistar'], dat['Mstar'], dat['alpha']]"
   ]
  },
  {
   "cell_type": "code",
   "execution_count": 22,
   "id": "45a38df1",
   "metadata": {},
   "outputs": [],
   "source": [
    "# samples = MCSamples(samples=samples, names=['log10phistar', 'Mstar', 'alpha'], labels=['log10phistar', 'Mstar', 'alpha'])"
   ]
  },
  {
   "cell_type": "code",
   "execution_count": 18,
   "id": "1cf37f8a",
   "metadata": {},
   "outputs": [],
   "source": [
    "# tmr_ref = {'log10phistar': -2.01, 'Mstar': -20.89, 'alpha': -1.25}"
   ]
  },
  {
   "cell_type": "code",
   "execution_count": 24,
   "id": "f44cb7fb",
   "metadata": {},
   "outputs": [],
   "source": [
    "# g = plots.get_subplot_plotter()"
   ]
  },
  {
   "cell_type": "code",
   "execution_count": 17,
   "id": "fee04b72",
   "metadata": {},
   "outputs": [],
   "source": [
    "# g.triangle_plot([samples], filled=True)        "
   ]
  },
  {
   "cell_type": "markdown",
   "id": "59e9f200",
   "metadata": {},
   "source": [
    "# Done."
   ]
  }
 ],
 "metadata": {
  "kernelspec": {
   "display_name": "lumfn",
   "language": "python",
   "name": "lumfn"
  },
  "language_info": {
   "codemirror_mode": {
    "name": "ipython",
    "version": 3
   },
   "file_extension": ".py",
   "mimetype": "text/x-python",
   "name": "python",
   "nbconvert_exporter": "python",
   "pygments_lexer": "ipython3",
   "version": "3.9.9"
  }
 },
 "nbformat": 4,
 "nbformat_minor": 5
}
