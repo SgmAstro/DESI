{
 "cells": [
  {
   "cell_type": "code",
   "execution_count": 1,
   "id": "91962721",
   "metadata": {},
   "outputs": [],
   "source": [
    "import os\n",
    "import sys\n",
    "import pylab as pl\n",
    "import numpy as np\n",
    "import matplotlib.pyplot as plt\n",
    "import numpy as np\n",
    "\n",
    "# from   getdist     import plots, MCSamples \n",
    "from   astropy.table import Table"
   ]
  },
  {
   "cell_type": "code",
   "execution_count": 2,
   "id": "ee678a1a",
   "metadata": {},
   "outputs": [],
   "source": [
    "sys.path.append(os.environ['HOME'])\n",
    "sys.path.append(os.environ['HOME'] + '/DESI/')"
   ]
  },
  {
   "cell_type": "code",
   "execution_count": 3,
   "id": "c2d6dda2",
   "metadata": {},
   "outputs": [],
   "source": [
    "import pubplot\n",
    "\n",
    "from   schechter     import schechter, named_schechter\n",
    "from   findfile      import findfile"
   ]
  },
  {
   "cell_type": "code",
   "execution_count": 4,
   "id": "bb9d642c",
   "metadata": {},
   "outputs": [],
   "source": [
    "version = 'GAMA4'\n",
    "survey  = 'gama'\n",
    "dryrun  =  False"
   ]
  },
  {
   "cell_type": "code",
   "execution_count": 5,
   "id": "db3fa005",
   "metadata": {},
   "outputs": [
    {
     "data": {
      "text/plain": [
       "'/cosma/home/durham/dc-wils7/data/GAMA4/gama_gold.fits'"
      ]
     },
     "execution_count": 5,
     "metadata": {},
     "output_type": "execute_result"
    }
   ],
   "source": [
    "fpath = findfile(ftype='gold', dryrun=dryrun, version=version, survey=survey)\n",
    "fpath"
   ]
  },
  {
   "cell_type": "code",
   "execution_count": 6,
   "id": "865eaf6c",
   "metadata": {},
   "outputs": [
    {
     "data": {
      "text/plain": [
       "OrderedDict([('AREA', 180.0),\n",
       "             ('GOLD_NGAL', 121975),\n",
       "             ('IMMUTABLE', 'FALSE'),\n",
       "             ('RLIM', 19.8),\n",
       "             ('RMAX', 12.0),\n",
       "             ('MAX_SEP', 70.0)])"
      ]
     },
     "execution_count": 6,
     "metadata": {},
     "output_type": "execute_result"
    }
   ],
   "source": [
    "gold = Table.read(fpath)\n",
    "gold.meta"
   ]
  },
  {
   "cell_type": "markdown",
   "id": "a7fd82a2",
   "metadata": {},
   "source": [
    "##  VMAX"
   ]
  },
  {
   "cell_type": "code",
   "execution_count": 7,
   "id": "f4edcd7a",
   "metadata": {},
   "outputs": [
    {
     "data": {
      "text/html": [
       "<div><i>Table length=121975</i>\n",
       "<table id=\"table139636369183984\" class=\"table-striped table-bordered table-condensed\">\n",
       "<thead><tr><th>IN_D8LUMFN</th><th>ZMAX</th><th>ZMIN</th><th>DEC</th><th>ZSURV</th><th>MCOLOR_0P0</th><th>MALL_0P0</th><th>WEIGHT_STEPWISE</th><th>RA</th><th>FIELD</th><th>VMAX</th><th>VZ</th></tr></thead>\n",
       "<thead><tr><th></th><th></th><th></th><th>deg</th><th></th><th>mag</th><th>mag</th><th></th><th>deg</th><th></th><th></th><th></th></tr></thead>\n",
       "<thead><tr><th>int64</th><th>float64</th><th>float64</th><th>float64</th><th>float32</th><th>float64</th><th>float64</th><th>float64</th><th>float64</th><th>bytes3</th><th>float64</th><th>float64</th></tr></thead>\n",
       "<tr><td>0</td><td>0.2715100049972534</td><td>0.019571442349045218</td><td>0.45825774</td><td>0.23773</td><td>-21.884046095184747</td><td>-21.84363198535866</td><td>8.149568154070954</td><td>185.64764412</td><td>G12</td><td>8338113.2370324405</td><td>5721065.691393298</td></tr>\n",
       "<tr><td>0</td><td>0.21805927999858019</td><td>0.01882999949157238</td><td>0.33337858</td><td>0.05383</td><td>-19.667748836607696</td><td>-19.65859773549533</td><td>1.289117707077976</td><td>211.51215914</td><td>G15</td><td>4471307.641845536</td><td>71223.83821140969</td></tr>\n",
       "<tr><td>0</td><td>0.2715100049972534</td><td>0.01882999949157238</td><td>-0.07440745</td><td>0.13694</td><td>-20.464964474573154</td><td>-20.622445459499378</td><td>3.0874874038282454</td><td>219.05986017</td><td>G15</td><td>8338511.288086089</td><td>1163110.168847972</td></tr>\n",
       "<tr><td>0</td><td>0.2602917431747893</td><td>0.01882999949157238</td><td>0.28400507</td><td>0.2063</td><td>-20.162179800749126</td><td>-20.127108785391155</td><td>5.763463668605391</td><td>221.331891</td><td>G15</td><td>7401077.881981758</td><td>3814453.796555815</td></tr>\n",
       "<tr><td>0</td><td>0.2715100049972534</td><td>0.01882999949157238</td><td>2.46904323</td><td>0.21168</td><td>-20.420959187069553</td><td>-20.384973583140987</td><td>6.773782050315595</td><td>133.10434664</td><td>G9</td><td>8338511.288086089</td><td>4106794.2706257547</td></tr>\n",
       "<tr><td>0</td><td>0.1028448004638656</td><td>0.01882999949157238</td><td>2.0113576</td><td>0.08258</td><td>-17.719145236155548</td><td>-17.81411222144083</td><td>1.9232185128725956</td><td>214.80095093</td><td>G15</td><td>501212.9471751141</td><td>261106.12775140742</td></tr>\n",
       "<tr><td>0</td><td>0.2715100049972534</td><td>0.01882999949157238</td><td>0.92333403</td><td>0.20102</td><td>-21.420353404560917</td><td>-21.38617999044978</td><td>5.763463668605391</td><td>212.43262578</td><td>G15</td><td>8338511.288086089</td><td>3540704.4223336377</td></tr>\n",
       "<tr><td>0</td><td>0.2278452606399476</td><td>0.01882999949157238</td><td>-0.07159713</td><td>0.22326</td><td>-19.810230675875047</td><td>-19.77227646464</td><td>6.773782050315595</td><td>137.75408238</td><td>G9</td><td>5069042.470325668</td><td>4783088.893825615</td></tr>\n",
       "<tr><td>0</td><td>0.21605974043252052</td><td>0.01882999949157238</td><td>0.88008268</td><td>0.18166</td><td>-19.67152326283796</td><td>-19.64064106819971</td><td>4.978730804706623</td><td>185.77367243</td><td>G12</td><td>4354945.002679911</td><td>2644577.0705100037</td></tr>\n",
       "<tr><td>0</td><td>0.14784683027697237</td><td>0.01882999949157238</td><td>-1.73750472</td><td>0.12823</td><td>-18.729746538170684</td><td>-18.70794743574511</td><td>3.0874874038282454</td><td>130.16337942</td><td>G9</td><td>1454714.7780676445</td><td>959553.8689527513</td></tr>\n",
       "<tr><td>0</td><td>0.2715100049972534</td><td>0.01882999949157238</td><td>-1.95012302</td><td>0.25835</td><td>-20.16813203033188</td><td>-20.465234511458664</td><td>10.03535091867076</td><td>133.50986188</td><td>G9</td><td>8338511.288086089</td><td>7245831.757234225</td></tr>\n",
       "<tr><td>...</td><td>...</td><td>...</td><td>...</td><td>...</td><td>...</td><td>...</td><td>...</td><td>...</td><td>...</td><td>...</td><td>...</td></tr>\n",
       "<tr><td>0</td><td>0.109685215089422</td><td>0.01882999949157238</td><td>1.42458247</td><td>0.066</td><td>-17.808326511246385</td><td>-17.884226507109823</td><td>1.499083405550503</td><td>176.54757777</td><td>G12</td><td>606185.5822222868</td><td>133040.12445526896</td></tr>\n",
       "<tr><td>0</td><td>0.2715100049972534</td><td>0.01882999949157238</td><td>1.68165673</td><td>0.20199</td><td>-21.28447962637054</td><td>-21.51676807637321</td><td>5.763463668605391</td><td>138.24139546</td><td>G9</td><td>8338511.288086089</td><td>3590028.4872471807</td></tr>\n",
       "<tr><td>0</td><td>0.19181575391008826</td><td>0.01882999949157238</td><td>1.99530538</td><td>0.18122</td><td>-18.95023804864066</td><td>-19.1586410101332</td><td>4.978730804706623</td><td>213.38186297</td><td>G15</td><td>3093949.138836887</td><td>2626114.749012426</td></tr>\n",
       "<tr><td>0</td><td>0.1230046967527289</td><td>0.01882999949157238</td><td>2.67856182</td><td>0.1072</td><td>-18.062196052751105</td><td>-18.18547604151682</td><td>2.532489941607362</td><td>135.30671775</td><td>G9</td><td>849308.72475518</td><td>566549.7337137085</td></tr>\n",
       "<tr><td>0</td><td>0.19232640271123397</td><td>0.01882999949157238</td><td>1.98545573</td><td>0.18851</td><td>-19.37833449630606</td><td>-19.34628779082167</td><td>4.978730804706623</td><td>182.61088494</td><td>G12</td><td>3117737.967599133</td><td>2942738.2904778454</td></tr>\n",
       "<tr><td>0</td><td>0.1948159961961001</td><td>0.01882999949157238</td><td>-0.85510195</td><td>0.18094</td><td>-19.4240264808462</td><td>-19.393266684345996</td><td>4.978730804706623</td><td>175.13126624</td><td>G12</td><td>3235381.5645398074</td><td>2614409.2435342795</td></tr>\n",
       "<tr><td>0</td><td>0.2715100049972534</td><td>0.01882999949157238</td><td>-1.6272147</td><td>0.09275</td><td>-20.69882035197644</td><td>-20.683052844721363</td><td>2.104061473981565</td><td>216.06867119</td><td>G15</td><td>8338511.288086089</td><td>369025.2798890665</td></tr>\n",
       "<tr><td>0</td><td>0.2089503871100031</td><td>0.01882999949157238</td><td>2.95826995</td><td>0.19786</td><td>-19.59002645942499</td><td>-19.556390247076052</td><td>5.763463668605391</td><td>135.87612953</td><td>G9</td><td>3956765.062883324</td><td>3383005.7649646425</td></tr>\n",
       "<tr><td>0</td><td>0.2715100049972534</td><td>0.01882999949157238</td><td>-1.05471967</td><td>0.21642</td><td>-20.95864524541973</td><td>-20.921853846298447</td><td>6.773782050315595</td><td>137.08405459</td><td>G9</td><td>8338511.288086089</td><td>4375766.992755676</td></tr>\n",
       "<tr><td>0</td><td>0.11459984416203775</td><td>0.01882999949157238</td><td>1.03321558</td><td>0.07447</td><td>-17.873517928087484</td><td>-17.959158418142568</td><td>1.6177138852926831</td><td>185.71449136</td><td>G12</td><td>689758.4846566991</td><td>191556.18238330755</td></tr>\n",
       "<tr><td>0</td><td>0.2715100049972534</td><td>0.01882999949157238</td><td>0.34965978</td><td>0.12897</td><td>-20.941955470878984</td><td>-21.090270945269967</td><td>3.0874874038282454</td><td>212.54545223</td><td>G15</td><td>8338511.288086089</td><td>975873.930179877</td></tr>\n",
       "</table></div>"
      ],
      "text/plain": [
       "<Table length=121975>\n",
       "IN_D8LUMFN         ZMAX                ZMIN             DEC      ZSURV       MCOLOR_0P0           MALL_0P0       WEIGHT_STEPWISE        RA      FIELD         VMAX                VZ        \n",
       "                                                        deg                     mag                 mag                                deg                                                  \n",
       "  int64          float64             float64          float64   float32       float64             float64            float64         float64    bytes3      float64            float64      \n",
       "---------- ------------------- -------------------- ----------- ------- ------------------- ------------------- ------------------ ------------ ------ ------------------ ------------------\n",
       "         0  0.2715100049972534 0.019571442349045218  0.45825774 0.23773 -21.884046095184747  -21.84363198535866  8.149568154070954 185.64764412    G12 8338113.2370324405  5721065.691393298\n",
       "         0 0.21805927999858019  0.01882999949157238  0.33337858 0.05383 -19.667748836607696  -19.65859773549533  1.289117707077976 211.51215914    G15  4471307.641845536  71223.83821140969\n",
       "         0  0.2715100049972534  0.01882999949157238 -0.07440745 0.13694 -20.464964474573154 -20.622445459499378 3.0874874038282454 219.05986017    G15  8338511.288086089  1163110.168847972\n",
       "         0  0.2602917431747893  0.01882999949157238  0.28400507  0.2063 -20.162179800749126 -20.127108785391155  5.763463668605391   221.331891    G15  7401077.881981758  3814453.796555815\n",
       "         0  0.2715100049972534  0.01882999949157238  2.46904323 0.21168 -20.420959187069553 -20.384973583140987  6.773782050315595 133.10434664     G9  8338511.288086089 4106794.2706257547\n",
       "         0  0.1028448004638656  0.01882999949157238   2.0113576 0.08258 -17.719145236155548  -17.81411222144083 1.9232185128725956 214.80095093    G15  501212.9471751141 261106.12775140742\n",
       "         0  0.2715100049972534  0.01882999949157238  0.92333403 0.20102 -21.420353404560917  -21.38617999044978  5.763463668605391 212.43262578    G15  8338511.288086089 3540704.4223336377\n",
       "         0  0.2278452606399476  0.01882999949157238 -0.07159713 0.22326 -19.810230675875047     -19.77227646464  6.773782050315595 137.75408238     G9  5069042.470325668  4783088.893825615\n",
       "         0 0.21605974043252052  0.01882999949157238  0.88008268 0.18166  -19.67152326283796  -19.64064106819971  4.978730804706623 185.77367243    G12  4354945.002679911 2644577.0705100037\n",
       "         0 0.14784683027697237  0.01882999949157238 -1.73750472 0.12823 -18.729746538170684  -18.70794743574511 3.0874874038282454 130.16337942     G9 1454714.7780676445  959553.8689527513\n",
       "         0  0.2715100049972534  0.01882999949157238 -1.95012302 0.25835  -20.16813203033188 -20.465234511458664  10.03535091867076 133.50986188     G9  8338511.288086089  7245831.757234225\n",
       "       ...                 ...                  ...         ...     ...                 ...                 ...                ...          ...    ...                ...                ...\n",
       "         0   0.109685215089422  0.01882999949157238  1.42458247   0.066 -17.808326511246385 -17.884226507109823  1.499083405550503 176.54757777    G12  606185.5822222868 133040.12445526896\n",
       "         0  0.2715100049972534  0.01882999949157238  1.68165673 0.20199  -21.28447962637054  -21.51676807637321  5.763463668605391 138.24139546     G9  8338511.288086089 3590028.4872471807\n",
       "         0 0.19181575391008826  0.01882999949157238  1.99530538 0.18122  -18.95023804864066   -19.1586410101332  4.978730804706623 213.38186297    G15  3093949.138836887  2626114.749012426\n",
       "         0  0.1230046967527289  0.01882999949157238  2.67856182  0.1072 -18.062196052751105  -18.18547604151682  2.532489941607362 135.30671775     G9    849308.72475518  566549.7337137085\n",
       "         0 0.19232640271123397  0.01882999949157238  1.98545573 0.18851  -19.37833449630606  -19.34628779082167  4.978730804706623 182.61088494    G12  3117737.967599133 2942738.2904778454\n",
       "         0  0.1948159961961001  0.01882999949157238 -0.85510195 0.18094   -19.4240264808462 -19.393266684345996  4.978730804706623 175.13126624    G12 3235381.5645398074 2614409.2435342795\n",
       "         0  0.2715100049972534  0.01882999949157238  -1.6272147 0.09275  -20.69882035197644 -20.683052844721363  2.104061473981565 216.06867119    G15  8338511.288086089  369025.2798890665\n",
       "         0  0.2089503871100031  0.01882999949157238  2.95826995 0.19786  -19.59002645942499 -19.556390247076052  5.763463668605391 135.87612953     G9  3956765.062883324 3383005.7649646425\n",
       "         0  0.2715100049972534  0.01882999949157238 -1.05471967 0.21642  -20.95864524541973 -20.921853846298447  6.773782050315595 137.08405459     G9  8338511.288086089  4375766.992755676\n",
       "         0 0.11459984416203775  0.01882999949157238  1.03321558 0.07447 -17.873517928087484 -17.959158418142568 1.6177138852926831 185.71449136    G12  689758.4846566991 191556.18238330755\n",
       "         0  0.2715100049972534  0.01882999949157238  0.34965978 0.12897 -20.941955470878984 -21.090270945269967 3.0874874038282454 212.54545223    G15  8338511.288086089   975873.930179877"
      ]
     },
     "execution_count": 7,
     "metadata": {},
     "output_type": "execute_result"
    }
   ],
   "source": [
    "fpath = findfile(ftype='vmax', dryrun=dryrun, version=version, survey=survey)\n",
    "vmax  = Table.read(fpath)\n",
    "vmax"
   ]
  },
  {
   "cell_type": "markdown",
   "id": "97a30173",
   "metadata": {},
   "source": [
    "##  LUMFN"
   ]
  },
  {
   "cell_type": "code",
   "execution_count": 8,
   "id": "87c0190b",
   "metadata": {},
   "outputs": [
    {
     "name": "stderr",
     "output_type": "stream",
     "text": [
      "WARNING: hdu= was not specified but multiple tables are present, reading in first available table (hdu=1) [astropy.io.fits.connect]\n"
     ]
    },
    {
     "data": {
      "text/html": [
       "<div><i>Table length=24</i>\n",
       "<table id=\"table139636369230912\" class=\"table-striped table-bordered table-condensed\">\n",
       "<thead><tr><th>MEDIAN_M</th><th>PHI_N</th><th>PHI_N_ERROR</th><th>PHI_IVMAX</th><th>PHI_IVMAX_ERROR</th><th>N</th><th>V_ON_VMAX</th><th>PHI_IVMAX_JK</th><th>PHI_IVMAX_ERROR_JK</th></tr></thead>\n",
       "<thead><tr><th>float64</th><th>float64</th><th>float64</th><th>float64</th><th>float64</th><th>float64</th><th>float64</th><th>float64</th><th>float64</th></tr></thead>\n",
       "<tr><td>-25.3</td><td>0.0</td><td>0.0</td><td>0.0</td><td>0.0</td><td>0.0</td><td>0.0</td><td>0.0</td><td>0.0</td></tr>\n",
       "<tr><td>-25.48584913809907</td><td>2.998137093814291e-07</td><td>2.998137093814291e-07</td><td>3.149615412670524e-07</td><td>3.149615412670524e-07</td><td>1.0</td><td>0.9519057729248931</td><td>3.149615412670523e-07</td><td>1.6264544053641519e-07</td></tr>\n",
       "<tr><td>-24.500000000000004</td><td>0.0</td><td>0.0</td><td>0.0</td><td>0.0</td><td>0.0</td><td>0.0</td><td>0.0</td><td>0.0</td></tr>\n",
       "<tr><td>-24.100000000000005</td><td>0.0</td><td>0.0</td><td>0.0</td><td>0.0</td><td>0.0</td><td>0.0</td><td>0.0</td><td>0.0</td></tr>\n",
       "<tr><td>-23.700000000000006</td><td>0.0</td><td>0.0</td><td>0.0</td><td>0.0</td><td>0.0</td><td>0.0</td><td>0.0</td><td>0.0</td></tr>\n",
       "<tr><td>-23.300000000000008</td><td>0.0</td><td>0.0</td><td>0.0</td><td>0.0</td><td>0.0</td><td>0.0</td><td>0.0</td><td>0.0</td></tr>\n",
       "<tr><td>-23.224755980884105</td><td>2.3985096750514327e-06</td><td>8.480012279852055e-07</td><td>2.404435360663174e-06</td><td>8.500964209037463e-07</td><td>8.0</td><td>0.997758227237414</td><td>2.404435360663174e-06</td><td>4.38944864923368e-07</td></tr>\n",
       "<tr><td>-22.76681964683723</td><td>1.5590312887834313e-05</td><td>2.161987404523603e-06</td><td>1.5607652859424733e-05</td><td>2.164392070796236e-06</td><td>52.0</td><td>0.998957874994935</td><td>1.5607652859424733e-05</td><td>1.9108688538871613e-06</td></tr>\n",
       "<tr><td>-22.426289490172692</td><td>7.525324105473872e-05</td><td>4.749942456872089e-06</td><td>7.529491772289312e-05</td><td>4.7525731117481465e-06</td><td>251.0</td><td>0.9994818637990127</td><td>7.529491772289314e-05</td><td>1.8482397352425e-06</td></tr>\n",
       "<tr><td>-22.046017481492616</td><td>0.00030011352309081054</td><td>9.485681240342471e-06</td><td>0.0003001660128241831</td><td>9.487340318431865e-06</td><td>1001.0</td><td>0.999844337210982</td><td>0.00030016601282418305</td><td>6.546357965165159e-06</td></tr>\n",
       "<tr><td>-21.647956856860247</td><td>0.0009336198910137702</td><td>1.673057209652808e-05</td><td>0.0009336242648006749</td><td>1.673065047656033e-05</td><td>3114.0</td><td>1.0</td><td>0.0009336242648006751</td><td>1.2482290824674818e-05</td></tr>\n",
       "<tr><td>-21.2689229879542</td><td>0.0019490889246886708</td><td>2.4173613309250466e-05</td><td>0.00194908892468867</td><td>2.4173613309250473e-05</td><td>6501.0</td><td>1.0</td><td>0.0019490889246886703</td><td>3.025184872262622e-05</td></tr>\n",
       "<tr><td>-20.877732371213348</td><td>0.0034289693941954046</td><td>3.206325051252783e-05</td><td>0.0034289693941954033</td><td>3.206325051252784e-05</td><td>11437.0</td><td>1.0</td><td>0.0034289693941954046</td><td>4.903332812330596e-05</td></tr>\n",
       "<tr><td>-20.485185459832337</td><td>0.0049673135370315175</td><td>3.859104426156419e-05</td><td>0.004967916406518851</td><td>3.8595785351183824e-05</td><td>16568.0</td><td>1.0</td><td>0.004967916406518853</td><td>7.280277673256195e-05</td></tr>\n",
       "<tr><td>-20.09836952725835</td><td>0.005763618749148593</td><td>4.156936271633945e-05</td><td>0.0064438340359906175</td><td>4.6907175091051944e-05</td><td>19224.0</td><td>0.976224880092403</td><td>0.0064438340359906175</td><td>9.862900067658186e-05</td></tr>\n",
       "<tr><td>-19.706043009709454</td><td>0.00578160757171148</td><td>4.163418321839129e-05</td><td>0.008186100074221807</td><td>6.146035934878726e-05</td><td>19284.0</td><td>0.7905746198717691</td><td>0.008186100074221807</td><td>0.00010603288348986283</td></tr>\n",
       "<tr><td>-19.316111224780613</td><td>0.004406362086778864</td><td>3.634677099984076e-05</td><td>0.009404999661351969</td><td>8.090326726185292e-05</td><td>14697.0</td><td>0.5003850425564433</td><td>0.009404999661351969</td><td>0.00021300436457636233</td></tr>\n",
       "<tr><td>-18.923263156023445</td><td>0.003102172450969647</td><td>3.049711182499237e-05</td><td>0.010787166974672219</td><td>0.00010940064040100035</td><td>10347.0</td><td>0.30038108327311563</td><td>0.010787166974672219</td><td>0.00029019716055746865</td></tr>\n",
       "<tr><td>-18.5183502407112</td><td>0.002071712731825675</td><td>2.492243725845026e-05</td><td>0.011962329098528488</td><td>0.00014715275709313943</td><td>6910.0</td><td>0.1766656403146867</td><td>0.011962329098528488</td><td>0.00036396433199938717</td></tr>\n",
       "<tr><td>-18.128633374397005</td><td>0.0012957948519465366</td><td>1.971032879379365e-05</td><td>0.012480983245191495</td><td>0.00019321523028737259</td><td>4322.0</td><td>0.10556640215919968</td><td>0.012480983245191497</td><td>0.00025734138580585717</td></tr>\n",
       "<tr><td>-17.719308411160917</td><td>0.0008592660910871758</td><td>1.605053750235571e-05</td><td>0.014280920259458403</td><td>0.0002709285892717805</td><td>2866.0</td><td>0.061215747036791085</td><td>0.014280920259458405</td><td>0.00018472503675041259</td></tr>\n",
       "<tr><td>-17.320303803653086</td><td>0.0006146181042319297</td><td>1.357464304071222e-05</td><td>0.017446049826118405</td><td>0.0003904701814307506</td><td>2050.0</td><td>0.03581482772510524</td><td>0.017446049826118405</td><td>0.0003198220068994789</td></tr>\n",
       "<tr><td>-16.922059236702143</td><td>0.00033219358999462346</td><td>9.979789198626475e-06</td><td>0.01627995074882083</td><td>0.0004963304336438011</td><td>1108.0</td><td>0.02083850220615498</td><td>0.01627995074882083</td><td>0.0004403314112764182</td></tr>\n",
       "<tr><td>-16.508938405178448</td><td>0.00026953252473390477</td><td>8.989412997488422e-06</td><td>0.023205311741128304</td><td>0.0007839450416921917</td><td>899.0</td><td>0.01174552900302054</td><td>0.023205311741128304</td><td>0.0008780663693650582</td></tr>\n",
       "</table></div>"
      ],
      "text/plain": [
       "<Table length=24>\n",
       "      MEDIAN_M              PHI_N               PHI_N_ERROR             PHI_IVMAX           PHI_IVMAX_ERROR        N         V_ON_VMAX            PHI_IVMAX_JK        PHI_IVMAX_ERROR_JK  \n",
       "      float64              float64                float64                float64                float64         float64       float64               float64                float64        \n",
       "------------------- ---------------------- ---------------------- ---------------------- ---------------------- ------- -------------------- ---------------------- ----------------------\n",
       "              -25.3                    0.0                    0.0                    0.0                    0.0     0.0                  0.0                    0.0                    0.0\n",
       " -25.48584913809907  2.998137093814291e-07  2.998137093814291e-07  3.149615412670524e-07  3.149615412670524e-07     1.0   0.9519057729248931  3.149615412670523e-07 1.6264544053641519e-07\n",
       "-24.500000000000004                    0.0                    0.0                    0.0                    0.0     0.0                  0.0                    0.0                    0.0\n",
       "-24.100000000000005                    0.0                    0.0                    0.0                    0.0     0.0                  0.0                    0.0                    0.0\n",
       "-23.700000000000006                    0.0                    0.0                    0.0                    0.0     0.0                  0.0                    0.0                    0.0\n",
       "-23.300000000000008                    0.0                    0.0                    0.0                    0.0     0.0                  0.0                    0.0                    0.0\n",
       "-23.224755980884105 2.3985096750514327e-06  8.480012279852055e-07  2.404435360663174e-06  8.500964209037463e-07     8.0    0.997758227237414  2.404435360663174e-06   4.38944864923368e-07\n",
       " -22.76681964683723 1.5590312887834313e-05  2.161987404523603e-06 1.5607652859424733e-05  2.164392070796236e-06    52.0    0.998957874994935 1.5607652859424733e-05 1.9108688538871613e-06\n",
       "-22.426289490172692  7.525324105473872e-05  4.749942456872089e-06  7.529491772289312e-05 4.7525731117481465e-06   251.0   0.9994818637990127  7.529491772289314e-05    1.8482397352425e-06\n",
       "-22.046017481492616 0.00030011352309081054  9.485681240342471e-06  0.0003001660128241831  9.487340318431865e-06  1001.0    0.999844337210982 0.00030016601282418305  6.546357965165159e-06\n",
       "-21.647956856860247  0.0009336198910137702  1.673057209652808e-05  0.0009336242648006749  1.673065047656033e-05  3114.0                  1.0  0.0009336242648006751 1.2482290824674818e-05\n",
       "  -21.2689229879542  0.0019490889246886708 2.4173613309250466e-05    0.00194908892468867 2.4173613309250473e-05  6501.0                  1.0  0.0019490889246886703  3.025184872262622e-05\n",
       "-20.877732371213348  0.0034289693941954046  3.206325051252783e-05  0.0034289693941954033  3.206325051252784e-05 11437.0                  1.0  0.0034289693941954046  4.903332812330596e-05\n",
       "-20.485185459832337  0.0049673135370315175  3.859104426156419e-05   0.004967916406518851 3.8595785351183824e-05 16568.0                  1.0   0.004967916406518853  7.280277673256195e-05\n",
       " -20.09836952725835   0.005763618749148593  4.156936271633945e-05  0.0064438340359906175 4.6907175091051944e-05 19224.0    0.976224880092403  0.0064438340359906175  9.862900067658186e-05\n",
       "-19.706043009709454    0.00578160757171148  4.163418321839129e-05   0.008186100074221807  6.146035934878726e-05 19284.0   0.7905746198717691   0.008186100074221807 0.00010603288348986283\n",
       "-19.316111224780613   0.004406362086778864  3.634677099984076e-05   0.009404999661351969  8.090326726185292e-05 14697.0   0.5003850425564433   0.009404999661351969 0.00021300436457636233\n",
       "-18.923263156023445   0.003102172450969647  3.049711182499237e-05   0.010787166974672219 0.00010940064040100035 10347.0  0.30038108327311563   0.010787166974672219 0.00029019716055746865\n",
       "  -18.5183502407112   0.002071712731825675  2.492243725845026e-05   0.011962329098528488 0.00014715275709313943  6910.0   0.1766656403146867   0.011962329098528488 0.00036396433199938717\n",
       "-18.128633374397005  0.0012957948519465366  1.971032879379365e-05   0.012480983245191495 0.00019321523028737259  4322.0  0.10556640215919968   0.012480983245191497 0.00025734138580585717\n",
       "-17.719308411160917  0.0008592660910871758  1.605053750235571e-05   0.014280920259458403  0.0002709285892717805  2866.0 0.061215747036791085   0.014280920259458405 0.00018472503675041259\n",
       "-17.320303803653086  0.0006146181042319297  1.357464304071222e-05   0.017446049826118405  0.0003904701814307506  2050.0  0.03581482772510524   0.017446049826118405  0.0003198220068994789\n",
       "-16.922059236702143 0.00033219358999462346  9.979789198626475e-06    0.01627995074882083  0.0004963304336438011  1108.0  0.02083850220615498    0.01627995074882083  0.0004403314112764182\n",
       "-16.508938405178448 0.00026953252473390477  8.989412997488422e-06   0.023205311741128304  0.0007839450416921917   899.0  0.01174552900302054   0.023205311741128304  0.0008780663693650582"
      ]
     },
     "execution_count": 8,
     "metadata": {},
     "output_type": "execute_result"
    }
   ],
   "source": [
    "fpath = findfile(ftype='lumfn', dryrun=dryrun, version=version, survey=survey)\n",
    "lumfn = Table.read(fpath)\n",
    "lumfn"
   ]
  },
  {
   "cell_type": "code",
   "execution_count": 10,
   "id": "4d2ce978",
   "metadata": {},
   "outputs": [],
   "source": [
    "##  HACK\n",
    "## TODO: note that offset should be re-added if desired.\n",
    "offset = 0.12\n",
    "\n",
    "## TODO: Rename\n",
    "gama_lf = lumfn"
   ]
  },
  {
   "cell_type": "raw",
   "id": "e7306989",
   "metadata": {},
   "source": [
    "# read in our stepwise\n",
    "fpath = '/cosma/home/durham/dc-wils7/data/{}/gama_gold_lumfn_step.fits'.format(version)\n",
    "lumfn_step = Table.read(fpath)\n",
    "\n",
    "# read in TMR stepwise digitalisation\n",
    "fpath = '/cosma/home/durham/dc-wils7/DESI/data/tmr_ref_stepwise.txt'\n",
    "lumfn_TMR = Table.read(fpath, format='ascii', names=['Ms', 'PHI_STEP'])"
   ]
  },
  {
   "cell_type": "code",
   "execution_count": 11,
   "id": "1b1058b7",
   "metadata": {},
   "outputs": [
    {
     "name": "stderr",
     "output_type": "stream",
     "text": [
      "/tmp/ipykernel_41854/531266354.py:10: RuntimeWarning: divide by zero encountered in log10\n",
      "  pl.plot(gama_lf['MEDIAN_M'], np.log10(gama_lf['PHI_N']), label='RAW', lw=2.)\n",
      "/tmp/ipykernel_41854/531266354.py:11: RuntimeWarning: divide by zero encountered in log10\n",
      "  pl.plot(gama_lf['MEDIAN_M'], np.log10(gama_lf['PHI_IVMAX']), label='IVMAX', lw=2.)\n"
     ]
    },
    {
     "data": {
      "text/plain": [
       "Text(0.5, 1.0, 'GAMA')"
      ]
     },
     "execution_count": 11,
     "metadata": {},
     "output_type": "execute_result"
    },
    {
     "data": {
      "image/png": "[encoded data removed]",
      "text/plain": [
       "<Figure size 1440x720 with 1 Axes>"
      ]
     },
     "metadata": {
      "needs_background": "light"
     },
     "output_type": "display_data"
    }
   ],
   "source": [
    "Ms = np.arange(-23., -15., 0.01)\n",
    "sc = named_schechter(Ms, named_type='TMR')\n",
    "\n",
    "fig, ax = plt.subplots(1,1,figsize=(20, 10))\n",
    "\n",
    "pl.sca(ax)\n",
    "\n",
    "pl.plot(Ms, np.log10(sc), label='TMR_SCHT', lw=2.)\n",
    "\n",
    "pl.plot(gama_lf['MEDIAN_M'], np.log10(gama_lf['PHI_N']), label='RAW', lw=2.)\n",
    "pl.plot(gama_lf['MEDIAN_M'], np.log10(gama_lf['PHI_IVMAX']), label='IVMAX', lw=2.)\n",
    "\n",
    "# offset = 1.15\n",
    "# pl.plot(lumfn_step['Ms'], np.log10(lumfn_step['PHI_STEP'])-offset, label='STEPWISE', lw=2.)\n",
    "\n",
    "# pl.scatter(lumfn_TMR['Ms'], lumfn_TMR['PHI_STEP'], s=0.5)\n",
    "# pl.plot(lumfn_TMR['Ms'], lumfn_TMR['PHI_STEP'], label='TMR_SWML', lw=1.)\n",
    "\n",
    "pl.xlabel(r'$M$')\n",
    "pl.ylabel(r'$\\Phi(M)$')\n",
    "\n",
    "pl.ylim(-4.25, -1.)\n",
    "pl.xlim(-23., -15.5)\n",
    "\n",
    "pl.legend(frameon=False, loc=2)\n",
    "pl.title(survey.upper())"
   ]
  },
  {
   "cell_type": "code",
   "execution_count": 12,
   "id": "371c11cb",
   "metadata": {},
   "outputs": [
    {
     "data": {
      "text/html": [
       "<div><i>Table length=121975</i>\n",
       "<table id=\"table139635782661984\" class=\"table-striped table-bordered table-condensed\">\n",
       "<thead><tr><th>CATAID</th><th>OBJID</th><th>RA</th><th>DEC</th><th>R_PETRO</th><th>ZGAMA</th><th>NQ</th><th>SPECID</th><th>SURVEY_CLASS</th><th>UMAG_DRED_SDSS</th><th>GMAG_DRED_SDSS</th><th>RMAG_DRED_SDSS</th><th>IMAG_DRED_SDSS</th><th>ZMAG_DRED_SDSS</th><th>ZSURV</th><th>LUMDIST</th><th>DISTMOD</th><th>FIELD</th><th>IN_D8LUMFN</th><th>CONSERVATIVE</th><th>CARTESIAN_X</th><th>CARTESIAN_Y</th><th>CARTESIAN_Z</th><th>ROTCARTESIAN_X</th><th>ROTCARTESIAN_Y</th><th>ROTCARTESIAN_Z</th><th>GMR</th><th>DETMAG</th></tr></thead>\n",
       "<thead><tr><th></th><th></th><th>deg</th><th>deg</th><th>mag</th><th></th><th></th><th></th><th></th><th>mag</th><th>mag</th><th>mag</th><th>mag</th><th>mag</th><th></th><th>Mpc</th><th></th><th></th><th></th><th></th><th></th><th></th><th></th><th></th><th></th><th></th><th>mag</th><th>mag</th></tr></thead>\n",
       "<thead><tr><th>int32</th><th>int64</th><th>float64</th><th>float64</th><th>float32</th><th>float32</th><th>int16</th><th>bytes33</th><th>int16</th><th>float32</th><th>float32</th><th>float32</th><th>float32</th><th>float32</th><th>float32</th><th>float64</th><th>float64</th><th>bytes3</th><th>int64</th><th>int64</th><th>float64</th><th>float64</th><th>float64</th><th>float64</th><th>float64</th><th>float64</th><th>float32</th><th>float32</th></tr></thead>\n",
       "<tr><td>86187</td><td>587722983890026653</td><td>185.64764412</td><td>0.45825774</td><td>17.885168</td><td>0.23773</td><td>4</td><td>G12_Y1_IN1_366</td><td>6</td><td>20.97136</td><td>19.13244</td><td>17.69423</td><td>17.180195</td><td>16.8645</td><td>0.23773</td><td>840.5726708609474</td><td>39.62287632944614</td><td>G12</td><td>0</td><td>0</td><td>-675.8062612682004</td><td>-66.83079688776589</td><td>5.431651350640607</td><td>676.2613794170416</td><td>62.116879849571745</td><td>4.6905186350961925</td><td>1.4382114</td><td>17.885168</td></tr>\n",
       "<tr><td>617429</td><td>588848900463329480</td><td>211.51215914</td><td>0.33337858</td><td>16.491335</td><td>0.05383</td><td>4</td><td>G15_Y6_072_126</td><td>6</td><td>18.441204</td><td>17.068653</td><td>16.389126</td><td>15.991108</td><td>15.69622</td><td>0.05383</td><td>168.3225606128227</td><td>36.13071164621924</td><td>G15</td><td>0</td><td>0</td><td>-136.1675749443299</td><td>-83.48335106299008</td><td>0.9293608415316806</td><td>136.7473174971628</td><td>82.53184613359454</td><td>0.779495741336187</td><td>0.6795273</td><td>16.491335</td></tr>\n",
       "<tr><td>594128</td><td>588848899929800874</td><td>219.05986017</td><td>-0.07440745</td><td>17.661882</td><td>0.13694</td><td>5</td><td>344534744807008256</td><td>6</td><td>19.502266</td><td>18.28102</td><td>17.649033</td><td>17.278406</td><td>17.08318</td><td>0.13694</td><td>454.3391400668327</td><td>38.286900758504636</td><td>G15</td><td>0</td><td>0</td><td>-310.2965986762804</td><td>-251.81045450990524</td><td>-0.5189628516176182</td><td>312.04413432684754</td><td>249.64068275010177</td><td>-0.8609420807934335</td><td>0.6319866</td><td>17.661882</td></tr>\n",
       "<tr><td>619784</td><td>588848900467655041</td><td>221.331891</td><td>0.28400507</td><td>19.199787</td><td>0.2063</td><td>4</td><td>G15_Y2_014_259</td><td>6</td><td>22.054535</td><td>20.266598</td><td>19.106667</td><td>18.666481</td><td>18.32868</td><td>0.2063</td><td>715.7382006779324</td><td>39.27377098589429</td><td>G15</td><td>0</td><td>0</td><td>-445.5266613190083</td><td>-391.84432420106833</td><td>2.9410373795726867</td><td>448.2510540490064</td><td>388.72820986399864</td><td>2.449786808740405</td><td>1.1599312</td><td>19.199787</td></tr>\n",
       "<tr><td>517646</td><td>588010358528868746</td><td>133.10434664</td><td>2.46904323</td><td>19.02159</td><td>0.21168</td><td>4</td><td>G09_Y1_CX2_265</td><td>6</td><td>22.315638</td><td>20.25712</td><td>18.987331</td><td>18.496666</td><td>18.107693</td><td>0.21168</td><td>736.8315164616245</td><td>39.33684096822303</td><td>G9</td><td>0</td><td>0</td><td>-415.15174372520573</td><td>443.57337261322016</td><td>26.197021488563923</td><td>412.0771454194852</td><td>-446.45737786817364</td><td>25.745429000529725</td><td>1.2697887</td><td>19.02159</td></tr>\n",
       "<tr><td>250504</td><td>587726015084167756</td><td>214.80095093</td><td>2.0113576</td><td>19.314877</td><td>0.08258</td><td>4</td><td>G15_Y6_083_154</td><td>6</td><td>21.896044</td><td>19.971685</td><td>19.291718</td><td>18.874441</td><td>18.496765</td><td>0.08258</td><td>263.76840050867764</td><td>37.10611382893427</td><td>G15</td><td>0</td><td>0</td><td>-199.94575651953147</td><td>-138.97084242037815</td><td>8.551459291074071</td><td>200.91916902577134</td><td>137.57327318029633</td><td>8.331270830872633</td><td>0.6799679</td><td>19.314877</td></tr>\n",
       "<tr><td>105538</td><td>587722984438628396</td><td>212.43262578</td><td>0.92333403</td><td>17.884026</td><td>0.20102</td><td>5</td><td>340177655959676928</td><td>6</td><td>21.931866</td><td>18.96789</td><td>17.763554</td><td>17.288898</td><td>17.004675</td><td>0.20102</td><td>695.1487465240222</td><td>39.21038871994787</td><td>G15</td><td>0</td><td>0</td><td>-488.4557448533853</td><td>-310.3737413663091</td><td>9.327063108802347</td><td>490.61798540477486</td><td>306.96026977875385</td><td>8.789385129036933</td><td>1.2043362</td><td>17.884026</td></tr>\n",
       "<tr><td>574914</td><td>588848899894149537</td><td>137.75408238</td><td>-0.07159713</td><td>19.748035</td><td>0.22326</td><td>4</td><td>G09_Y3_010_235</td><td>5</td><td>23.506832</td><td>20.890038</td><td>19.711256</td><td>19.360645</td><td>18.972797</td><td>0.22326</td><td>782.6207677913833</td><td>39.46775684124222</td><td>G9</td><td>0</td><td>0</td><td>-473.609123961879</td><td>430.1346558728962</td><td>-0.7994760275212474</td><td>470.59718916445354</td><td>-433.4266020851874</td><td>-1.3152186723953165</td><td>1.1787815</td><td>19.748035</td></tr>\n",
       "<tr><td>100171</td><td>587722984426963127</td><td>185.77367243</td><td>0.88008268</td><td>19.36547</td><td>0.18166</td><td>4</td><td>G12_Y2_025_066</td><td>6</td><td>21.343155</td><td>20.359194</td><td>19.318336</td><td>18.922379</td><td>18.593027</td><td>0.18166</td><td>620.6125494357092</td><td>38.964102766130964</td><td>G12</td><td>0</td><td>0</td><td>-522.4780381669136</td><td>-52.82883787014854</td><td>8.066995329887947</td><td>522.8422306121055</td><td>49.18439516897655</td><td>7.494001036149339</td><td>1.0408573</td><td>19.36547</td></tr>\n",
       "<tr><td>3854117</td><td>588010930294358603</td><td>130.16337942</td><td>-1.73750472</td><td>19.456196</td><td>0.12823</td><td>4</td><td>G09_Y5_001_055</td><td>5</td><td>22.152245</td><td>20.366323</td><td>19.485611</td><td>18.95773</td><td>18.628633</td><td>0.12823</td><td>422.9366944033414</td><td>38.131376832988565</td><td>G9</td><td>0</td><td>0</td><td>-241.66686250435419</td><td>286.3451463804656</td><td>-11.366179933658199</td><td>239.6517466362885</td><td>-288.0232907496668</td><td>-11.62882859716244</td><td>0.8807125</td><td>19.456196</td></tr>\n",
       "<tr><td>3860798</td><td>588010930295865909</td><td>133.50986188</td><td>-1.95012302</td><td>19.266338</td><td>0.25835</td><td>4</td><td>G09_Y4_227_042</td><td>6</td><td>21.036171</td><td>20.040134</td><td>19.196268</td><td>18.924599</td><td>18.741978</td><td>0.25835</td><td>924.5431587112332</td><td>39.82963594660869</td><td>G9</td><td>0</td><td>0</td><td>-505.55113427958787</td><td>532.556126487389</td><td>-25.002374291231266</td><td>501.7977104596989</td><td>-536.068309462863</td><td>-25.552325096968747</td><td>0.84386635</td><td>19.266338</td></tr>\n",
       "<tr><td>...</td><td>...</td><td>...</td><td>...</td><td>...</td><td>...</td><td>...</td><td>...</td><td>...</td><td>...</td><td>...</td><td>...</td><td>...</td><td>...</td><td>...</td><td>...</td><td>...</td><td>...</td><td>...</td><td>...</td><td>...</td><td>...</td><td>...</td><td>...</td><td>...</td><td>...</td><td>...</td><td>...</td></tr>\n",
       "<tr><td>397071</td><td>587728307495239939</td><td>176.54757777</td><td>1.42458247</td><td>18.709467</td><td>0.066</td><td>4</td><td>G12_Y1_BX1_140</td><td>6</td><td>20.093124</td><td>19.170315</td><td>18.824062</td><td>18.624361</td><td>18.63077</td><td>0.066</td><td>208.26351413572408</td><td>36.59306596093785</td><td>G12</td><td>0</td><td>0</td><td>-194.95431094728565</td><td>11.76143121733055</td><td>4.857090654409992</td><td>194.87276686757102</td><td>-13.120531491940548</td><td>4.64352641668256</td><td>0.34625244</td><td>18.709467</td></tr>\n",
       "<tr><td>377592</td><td>587727943491911801</td><td>138.24139546</td><td>1.68165673</td><td>17.688156</td><td>0.20199</td><td>4</td><td>G09_Y1_GN1_361</td><td>6</td><td>19.553078</td><td>18.46362</td><td>17.643116</td><td>17.212273</td><td>16.99446</td><td>0.20199</td><td>698.9229091576645</td><td>39.22214637963124</td><td>G9</td><td>0</td><td>0</td><td>-433.5661192122033</td><td>387.0895534178463</td><td>17.063997550307384</td><td>430.8749057063663</td><td>-390.1033324141191</td><td>16.591798524707496</td><td>0.82050323</td><td>17.688156</td></tr>\n",
       "<tr><td>249917</td><td>587726015083512521</td><td>213.38186297</td><td>1.99530538</td><td>19.68728</td><td>0.18122</td><td>4</td><td>G15_Y4_234_160</td><td>5</td><td>21.499628</td><td>20.649828</td><td>20.157738</td><td>19.977415</td><td>20.290821</td><td>0.18122</td><td>618.9362616516281</td><td>38.958229637360304</td><td>G15</td><td>0</td><td>0</td><td>-437.2699909060031</td><td>-288.12787679772117</td><td>18.24374826764562</td><td>439.28816174524195</td><td>285.07185635100393</td><td>17.76232960033505</td><td>0.49209023</td><td>19.68728</td></tr>\n",
       "<tr><td>518220</td><td>588010358529851841</td><td>135.30671775</td><td>2.67856182</td><td>19.507793</td><td>0.1072</td><td>4</td><td>G09_Y5_034_222</td><td>5</td><td>20.720747</td><td>19.855574</td><td>19.414885</td><td>19.114262</td><td>19.163845</td><td>0.1072</td><td>348.4701668823615</td><td>37.71082801671877</td><td>G9</td><td>0</td><td>0</td><td>-223.49213308623405</td><td>221.11203990324952</td><td>14.708227937377922</td><td>221.9609057821668</td><td>-222.66504055503896</td><td>14.464982877695283</td><td>0.4406891</td><td>19.507793</td></tr>\n",
       "<tr><td>231169</td><td>587726014533206225</td><td>182.61088494</td><td>1.98545573</td><td>19.750051</td><td>0.18851</td><td>4</td><td>G12_Y1_FX1_299</td><td>5</td><td>23.379509</td><td>20.796886</td><td>19.74253</td><td>19.283928</td><td>18.953253</td><td>0.18851</td><td>646.8118630614368</td><td>39.05388988312662</td><td>G12</td><td>0</td><td>0</td><td>-543.3295080695495</td><td>-24.775883003916533</td><td>18.854968550521356</td><td>543.5093951616325</td><td>20.986728217665593</td><td>18.259330943876357</td><td>1.0543556</td><td>19.750051</td></tr>\n",
       "<tr><td>534800</td><td>588848898836791572</td><td>175.13126624</td><td>-0.85510195</td><td>19.613483</td><td>0.18094</td><td>4</td><td>G12_Y1_AD2_081</td><td>5</td><td>22.799736</td><td>20.657427</td><td>19.51891</td><td>18.997316</td><td>18.55358</td><td>0.18094</td><td>617.8699200785888</td><td>38.95448526429212</td><td>G12</td><td>0</td><td>0</td><td>-521.2558799663068</td><td>44.40086666332728</td><td>-7.808153638577753</td><td>520.9247375387238</td><td>-48.034423734275805</td><td>-8.3790560252821</td><td>1.1385174</td><td>19.613483</td></tr>\n",
       "<tr><td>508137</td><td>587729971786416371</td><td>216.06867119</td><td>-1.6272147</td><td>16.716251</td><td>0.09275</td><td>5</td><td>1032623702799312896</td><td>6</td><td>19.328838</td><td>17.5173</td><td>16.586273</td><td>16.193024</td><td>15.88408</td><td>0.09275</td><td>298.42923794272104</td><td>37.374206849618815</td><td>G15</td><td>0</td><td>0</td><td>-220.6603959794988</td><td>-160.723588417955</td><td>-7.755046683318153</td><td>221.76710009877374</td><td>159.18105038481661</td><td>-7.998092835222143</td><td>0.93102646</td><td>16.716251</td></tr>\n",
       "<tr><td>423626</td><td>587728879795437878</td><td>135.87612953</td><td>2.95826995</td><td>19.662548</td><td>0.19786</td><td>4</td><td>G09_Y3_002_329</td><td>5</td><td>23.091774</td><td>20.67845</td><td>19.572115</td><td>19.069782</td><td>18.738678</td><td>0.19786</td><td>682.8795640892475</td><td>39.17172058090004</td><td>G9</td><td>0</td><td>0</td><td>-408.680898750162</td><td>396.3696337608627</td><td>29.42119080952503</td><td>405.93913926515074</td><td>-399.2096663667187</td><td>28.97632709045332</td><td>1.1063347</td><td>19.662548</td></tr>\n",
       "<tr><td>3909149</td><td>588010931371114750</td><td>137.08405459</td><td>-1.05471967</td><td>18.529512</td><td>0.21642</td><td>4</td><td>G09_Y4_206_252</td><td>6</td><td>21.168894</td><td>19.652792</td><td>18.435694</td><td>17.920557</td><td>17.55179</td><td>0.21642</td><td>755.5105094931627</td><td>39.39120254974943</td><td>G9</td><td>0</td><td>0</td><td>-454.7828829137277</td><td>422.8462534143134</td><td>-11.432648884609058</td><td>451.8105847496971</td><td>-426.0071043502134</td><td>-11.927809088229278</td><td>1.2170982</td><td>18.529512</td></tr>\n",
       "<tr><td>100158</td><td>587722984426963009</td><td>185.71449136</td><td>1.03321558</td><td>18.902573</td><td>0.07447</td><td>4</td><td>G12_Y2_040_049</td><td>6</td><td>19.668018</td><td>18.914362</td><td>18.927937</td><td>18.804064</td><td>19.165062</td><td>0.07447</td><td>236.46241936437548</td><td>36.86881064377188</td><td>G12</td><td>0</td><td>0</td><td>-218.944256304645</td><td>-21.90947096598793</td><td>3.968373974727364</td><td>219.09592247985992</td><td>20.382273960527684</td><td>3.7282622901393054</td><td>-0.0135746</td><td>18.902573</td></tr>\n",
       "<tr><td>617636</td><td>588848900463788278</td><td>212.54545223</td><td>0.34965978</td><td>17.073904</td><td>0.12897</td><td>5</td><td>340160613529446400</td><td>6</td><td>19.239635</td><td>17.886095</td><td>17.147776</td><td>16.743351</td><td>16.43522</td><td>0.12897</td><td>425.59196126268046</td><td>38.14496708125368</td><td>G15</td><td>0</td><td>0</td><td>-317.7696619282848</td><td>-202.79617487566003</td><td>2.30054830198496</td><td>319.17833263334745</td><td>200.5754861693045</td><td>1.9507521751645838</td><td>0.7383194</td><td>17.073904</td></tr>\n",
       "</table></div>"
      ],
      "text/plain": [
       "<Table length=121975>\n",
       " CATAID       OBJID             RA          DEC      R_PETRO   ZGAMA    NQ  ...     CARTESIAN_Y         CARTESIAN_Z       ROTCARTESIAN_X      ROTCARTESIAN_Y      ROTCARTESIAN_Z      GMR       DETMAG \n",
       "                               deg          deg        mag                  ...                                                                                                       mag        mag   \n",
       " int32        int64          float64      float64    float32  float32 int16 ...       float64             float64            float64             float64             float64        float32    float32 \n",
       "------- ------------------ ------------ ----------- --------- ------- ----- ... ------------------- ------------------- ------------------ ------------------- ------------------- ---------- ---------\n",
       "  86187 587722983890026653 185.64764412  0.45825774 17.885168 0.23773     4 ...  -66.83079688776589   5.431651350640607  676.2613794170416  62.116879849571745  4.6905186350961925  1.4382114 17.885168\n",
       " 617429 588848900463329480 211.51215914  0.33337858 16.491335 0.05383     4 ...  -83.48335106299008  0.9293608415316806  136.7473174971628   82.53184613359454   0.779495741336187  0.6795273 16.491335\n",
       " 594128 588848899929800874 219.05986017 -0.07440745 17.661882 0.13694     5 ... -251.81045450990524 -0.5189628516176182 312.04413432684754  249.64068275010177 -0.8609420807934335  0.6319866 17.661882\n",
       " 619784 588848900467655041   221.331891  0.28400507 19.199787  0.2063     4 ... -391.84432420106833  2.9410373795726867  448.2510540490064  388.72820986399864   2.449786808740405  1.1599312 19.199787\n",
       " 517646 588010358528868746 133.10434664  2.46904323  19.02159 0.21168     4 ...  443.57337261322016  26.197021488563923  412.0771454194852 -446.45737786817364  25.745429000529725  1.2697887  19.02159\n",
       " 250504 587726015084167756 214.80095093   2.0113576 19.314877 0.08258     4 ... -138.97084242037815   8.551459291074071 200.91916902577134  137.57327318029633   8.331270830872633  0.6799679 19.314877\n",
       " 105538 587722984438628396 212.43262578  0.92333403 17.884026 0.20102     5 ...  -310.3737413663091   9.327063108802347 490.61798540477486  306.96026977875385   8.789385129036933  1.2043362 17.884026\n",
       " 574914 588848899894149537 137.75408238 -0.07159713 19.748035 0.22326     4 ...   430.1346558728962 -0.7994760275212474 470.59718916445354  -433.4266020851874 -1.3152186723953165  1.1787815 19.748035\n",
       " 100171 587722984426963127 185.77367243  0.88008268  19.36547 0.18166     4 ...  -52.82883787014854   8.066995329887947  522.8422306121055   49.18439516897655   7.494001036149339  1.0408573  19.36547\n",
       "3854117 588010930294358603 130.16337942 -1.73750472 19.456196 0.12823     4 ...   286.3451463804656 -11.366179933658199  239.6517466362885  -288.0232907496668  -11.62882859716244  0.8807125 19.456196\n",
       "3860798 588010930295865909 133.50986188 -1.95012302 19.266338 0.25835     4 ...    532.556126487389 -25.002374291231266  501.7977104596989   -536.068309462863 -25.552325096968747 0.84386635 19.266338\n",
       "    ...                ...          ...         ...       ...     ...   ... ...                 ...                 ...                ...                 ...                 ...        ...       ...\n",
       " 397071 587728307495239939 176.54757777  1.42458247 18.709467   0.066     4 ...   11.76143121733055   4.857090654409992 194.87276686757102 -13.120531491940548    4.64352641668256 0.34625244 18.709467\n",
       " 377592 587727943491911801 138.24139546  1.68165673 17.688156 0.20199     4 ...   387.0895534178463  17.063997550307384  430.8749057063663  -390.1033324141191  16.591798524707496 0.82050323 17.688156\n",
       " 249917 587726015083512521 213.38186297  1.99530538  19.68728 0.18122     4 ... -288.12787679772117   18.24374826764562 439.28816174524195  285.07185635100393   17.76232960033505 0.49209023  19.68728\n",
       " 518220 588010358529851841 135.30671775  2.67856182 19.507793  0.1072     4 ...  221.11203990324952  14.708227937377922  221.9609057821668 -222.66504055503896  14.464982877695283  0.4406891 19.507793\n",
       " 231169 587726014533206225 182.61088494  1.98545573 19.750051 0.18851     4 ... -24.775883003916533  18.854968550521356  543.5093951616325  20.986728217665593  18.259330943876357  1.0543556 19.750051\n",
       " 534800 588848898836791572 175.13126624 -0.85510195 19.613483 0.18094     4 ...   44.40086666332728  -7.808153638577753  520.9247375387238 -48.034423734275805    -8.3790560252821  1.1385174 19.613483\n",
       " 508137 587729971786416371 216.06867119  -1.6272147 16.716251 0.09275     5 ...   -160.723588417955  -7.755046683318153 221.76710009877374  159.18105038481661  -7.998092835222143 0.93102646 16.716251\n",
       " 423626 587728879795437878 135.87612953  2.95826995 19.662548 0.19786     4 ...   396.3696337608627   29.42119080952503 405.93913926515074  -399.2096663667187   28.97632709045332  1.1063347 19.662548\n",
       "3909149 588010931371114750 137.08405459 -1.05471967 18.529512 0.21642     4 ...   422.8462534143134 -11.432648884609058  451.8105847496971  -426.0071043502134 -11.927809088229278  1.2170982 18.529512\n",
       " 100158 587722984426963009 185.71449136  1.03321558 18.902573 0.07447     4 ...  -21.90947096598793   3.968373974727364 219.09592247985992  20.382273960527684  3.7282622901393054 -0.0135746 18.902573\n",
       " 617636 588848900463788278 212.54545223  0.34965978 17.073904 0.12897     5 ... -202.79617487566003    2.30054830198496 319.17833263334745   200.5754861693045  1.9507521751645838  0.7383194 17.073904"
      ]
     },
     "execution_count": 12,
     "metadata": {},
     "output_type": "execute_result"
    }
   ],
   "source": [
    "fpath = findfile(ftype='gold', dryrun=dryrun, version=version, survey=survey)\n",
    "gold  = Table.read(fpath)\n",
    "gold"
   ]
  },
  {
   "cell_type": "markdown",
   "id": "83380403",
   "metadata": {},
   "source": [
    "##  Cobaya"
   ]
  },
  {
   "cell_type": "code",
   "execution_count": 13,
   "id": "199dde1c",
   "metadata": {},
   "outputs": [],
   "source": [
    "# root = '/cosma/home/durham/{}/data/GAMA4/cobaya/'.format(os.environ['USER'])"
   ]
  },
  {
   "cell_type": "code",
   "execution_count": 20,
   "id": "f98e1daa",
   "metadata": {},
   "outputs": [],
   "source": [
    "# dat = Table.read(root + 'schechter_chain.1.txt', format='ascii')        "
   ]
  },
  {
   "cell_type": "code",
   "execution_count": 21,
   "id": "1cf0b0d9",
   "metadata": {},
   "outputs": [],
   "source": [
    "# samples = np.c_[dat['log10phistar'], dat['Mstar'], dat['alpha']]"
   ]
  },
  {
   "cell_type": "code",
   "execution_count": 22,
   "id": "7d998f4a",
   "metadata": {},
   "outputs": [],
   "source": [
    "# samples = MCSamples(samples=samples, names=['log10phistar', 'Mstar', 'alpha'], labels=['log10phistar', 'Mstar', 'alpha'])"
   ]
  },
  {
   "cell_type": "code",
   "execution_count": 18,
   "id": "9a209db6",
   "metadata": {},
   "outputs": [],
   "source": [
    "# tmr_ref = {'log10phistar': -2.01, 'Mstar': -20.89, 'alpha': -1.25}"
   ]
  },
  {
   "cell_type": "code",
   "execution_count": 24,
   "id": "506891c3",
   "metadata": {},
   "outputs": [],
   "source": [
    "# g = plots.get_subplot_plotter()"
   ]
  },
  {
   "cell_type": "code",
   "execution_count": 17,
   "id": "7dc5752c",
   "metadata": {},
   "outputs": [],
   "source": [
    "# g.triangle_plot([samples], filled=True)        "
   ]
  },
  {
   "cell_type": "markdown",
   "id": "96209e6d",
   "metadata": {},
   "source": [
    "# Done."
   ]
  }
 ],
 "metadata": {
  "kernelspec": {
   "display_name": "lumfn",
   "language": "python",
   "name": "lumfn"
  },
  "language_info": {
   "codemirror_mode": {
    "name": "ipython",
    "version": 3
   },
   "file_extension": ".py",
   "mimetype": "text/x-python",
   "name": "python",
   "nbconvert_exporter": "python",
   "pygments_lexer": "ipython3",
   "version": "3.9.9"
  }
 },
 "nbformat": 4,
 "nbformat_minor": 5
}
