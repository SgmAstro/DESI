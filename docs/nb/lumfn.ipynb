{
 "cells": [
  {
   "cell_type": "code",
   "execution_count": 1,
   "id": "8275f731",
   "metadata": {},
   "outputs": [],
   "source": [
    "import os\n",
    "import sys\n",
    "import pylab             as pl\n",
    "import numpy             as np\n",
    "import matplotlib.pyplot as plt\n",
    "import numpy             as np\n",
    "\n",
    "from   astropy.table     import Table"
   ]
  },
  {
   "cell_type": "code",
   "execution_count": 2,
   "id": "19a660eb",
   "metadata": {},
   "outputs": [],
   "source": [
    "sys.path.append(os.environ['HOME'])\n",
    "sys.path.append(os.environ['HOME'] + '/DESI/')"
   ]
  },
  {
   "cell_type": "code",
   "execution_count": 3,
   "id": "9ecf60b9",
   "metadata": {},
   "outputs": [],
   "source": [
    "import pubplot\n",
    "\n",
    "from   schechter     import schechter, named_schechter\n",
    "from   findfile      import findfile, fetch_header"
   ]
  },
  {
   "cell_type": "code",
   "execution_count": 4,
   "id": "4f6bfcc0",
   "metadata": {},
   "outputs": [],
   "source": [
    "version = 'GAMA4'\n",
    "survey  = 'gama'\n",
    "dryrun  =  False"
   ]
  },
  {
   "cell_type": "code",
   "execution_count": 5,
   "id": "9e152acc",
   "metadata": {},
   "outputs": [
    {
     "data": {
      "text/plain": [
       "'/cosma/home/durham/dc-wils7/data/GAMA4/gama_gold.fits'"
      ]
     },
     "execution_count": 5,
     "metadata": {},
     "output_type": "execute_result"
    }
   ],
   "source": [
    "fpath = findfile(ftype='gold', dryrun=dryrun, version=version, survey=survey)\n",
    "fpath"
   ]
  },
  {
   "cell_type": "code",
   "execution_count": 6,
   "id": "bdc76ebf",
   "metadata": {},
   "outputs": [
    {
     "data": {
      "text/plain": [
       "OrderedDict([('AREA', 180.0),\n",
       "             ('GOLD_NGAL', 121975),\n",
       "             ('IMMUTABLE', 'FALSE'),\n",
       "             ('RLIM', 19.8),\n",
       "             ('RMAX', 12.0),\n",
       "             ('MAX_SEP', 70.0)])"
      ]
     },
     "execution_count": 6,
     "metadata": {},
     "output_type": "execute_result"
    }
   ],
   "source": [
    "gold = Table.read(fpath)\n",
    "gold.meta"
   ]
  },
  {
   "cell_type": "markdown",
   "id": "42e0f8f4",
   "metadata": {},
   "source": [
    "##  VMAX"
   ]
  },
  {
   "cell_type": "code",
   "execution_count": 7,
   "id": "ba4b6939",
   "metadata": {},
   "outputs": [
    {
     "data": {
      "text/html": [
       "<div><i>Table length=78722</i>\n",
       "<table id=\"table140471872133968\" class=\"table-striped table-bordered table-condensed\">\n",
       "<thead><tr><th>ZMAX</th><th>ZMIN</th><th>RA</th><th>DEC</th><th>ZSURV</th><th>FILLFACTOR</th><th>FIELD</th><th>IN_D8LUMFN</th><th>MCOLOR_0P0</th><th>MALL_0P0</th><th>VZ</th><th>VMAX</th><th>FILLFACTOR_VMAX</th></tr></thead>\n",
       "<thead><tr><th></th><th></th><th>deg</th><th>deg</th><th></th><th></th><th></th><th></th><th>mag</th><th>mag</th><th></th><th></th><th></th></tr></thead>\n",
       "<thead><tr><th>float64</th><th>float64</th><th>float64</th><th>float64</th><th>float32</th><th>float64</th><th>bytes3</th><th>int64</th><th>float64</th><th>float64</th><th>float64</th><th>float64</th><th>float64</th></tr></thead>\n",
       "<tr><td>0.2715100049972534</td><td>0.039663288528705265</td><td>179.0450651</td><td>-0.35024037</td><td>0.2563</td><td>1.0</td><td>G12</td><td>0</td><td>-23.461170534036924</td><td>-23.417599538706114</td><td>4988771.027606055</td><td>5875467.512993152</td><td>0.7068891074027949</td></tr>\n",
       "<tr><td>0.2715100049972534</td><td>0.03933423422922606</td><td>182.1835035</td><td>-2.07231294</td><td>0.10734</td><td>0.9316159364359198</td><td>G12</td><td>0</td><td>-23.442632031321555</td><td>-23.424384233236342</td><td>383585.3029794814</td><td>5875477.459299331</td><td>0.7068277252437339</td></tr>\n",
       "<tr><td>0.2715100049972534</td><td>0.0339096951732739</td><td>213.78496641</td><td>-0.49323659</td><td>0.13893</td><td>1.0</td><td>G15</td><td>0</td><td>-23.107939332154334</td><td>-23.084321237531245</td><td>845476.0306159477</td><td>5875661.861370013</td><td>0.7059607371476206</td></tr>\n",
       "<tr><td>0.2715100049972534</td><td>0.03350598251431382</td><td>178.51993046</td><td>0.60517927</td><td>0.22878</td><td>1.0</td><td>G12</td><td>0</td><td>-23.082316886159298</td><td>-23.04342428919923</td><td>3609792.362603803</td><td>5875671.490270573</td><td>0.705905875411497</td></tr>\n",
       "<tr><td>0.2715100049972534</td><td>0.03294944890178139</td><td>180.52796941</td><td>-0.24151196</td><td>0.24896</td><td>1.0</td><td>G12</td><td>0</td><td>-23.045208950883637</td><td>-23.002885748988877</td><td>4594763.401207476</td><td>5875670.818130875</td><td>0.7058307402117311</td></tr>\n",
       "<tr><td>0.2715100049972534</td><td>0.03247041721586893</td><td>184.98709908</td><td>-0.85050901</td><td>0.20644</td><td>1.0</td><td>G12</td><td>0</td><td>-23.010391635049515</td><td>-22.975296822537118</td><td>2687975.3729321975</td><td>5875655.482235701</td><td>0.7057662807353843</td></tr>\n",
       "<tr><td>0.2715100049972534</td><td>0.03194881372599459</td><td>222.36929583</td><td>-1.27151016</td><td>0.20233</td><td>0.9979434474259146</td><td>G15</td><td>0</td><td>-22.976202885033608</td><td>-22.94180678796959</td><td>2536930.1314334297</td><td>5875670.580733907</td><td>0.7057019681287673</td></tr>\n",
       "<tr><td>0.2715100049972534</td><td>0.031541209667382365</td><td>179.83440251</td><td>-1.64817036</td><td>0.08135</td><td>0.9369780902242146</td><td>G12</td><td>0</td><td>-22.94904753859117</td><td>-22.93521803910806</td><td>167754.5871742479</td><td>5875685.007485165</td><td>0.7056534973951007</td></tr>\n",
       "<tr><td>0.2715100049972534</td><td>0.03105122891707608</td><td>183.77207804</td><td>-1.4609492</td><td>0.19885</td><td>1.0</td><td>G12</td><td>0</td><td>-22.911188045606362</td><td>-22.877383554444062</td><td>2413629.9806062165</td><td>5875707.618936393</td><td>0.7055975457838572</td></tr>\n",
       "<tr><td>0.2715100049972534</td><td>0.03013485689717856</td><td>130.46404172</td><td>-0.56800756</td><td>0.24565</td><td>1.0</td><td>G9</td><td>0</td><td>-22.84411963242417</td><td>-22.802359128178413</td><td>4423764.066531583</td><td>5875736.678187466</td><td>0.7054961513093642</td></tr>\n",
       "<tr><td>0.2715100049972534</td><td>0.029814011195731755</td><td>180.67664245</td><td>-1.3960721</td><td>0.24803</td><td>1.0</td><td>G12</td><td>0</td><td>-22.819730991835396</td><td>-22.777565891260902</td><td>4546853.429768277</td><td>5875732.565134901</td><td>0.7054603972533912</td></tr>\n",
       "<tr><td>...</td><td>...</td><td>...</td><td>...</td><td>...</td><td>...</td><td>...</td><td>...</td><td>...</td><td>...</td><td>...</td><td>...</td><td>...</td></tr>\n",
       "<tr><td>0.0529906904474329</td><td>0.01882999949157238</td><td>179.72985917</td><td>0.02010831</td><td>0.04751</td><td>0.9124986924950426</td><td>G12</td><td>0</td><td>-16.251843411283566</td><td>-16.3064799046088</td><td>2419.615357916712</td><td>3409.212243418565</td><td>0.05026181982676679</td></tr>\n",
       "<tr><td>0.05253879813860891</td><td>0.01882999949157238</td><td>134.61289881</td><td>0.28358843</td><td>0.05228</td><td>0.9496840633312611</td><td>G9</td><td>0</td><td>-16.231413194828935</td><td>-16.291535193019815</td><td>3027.797782529006</td><td>3074.7574803196335</td><td>0.04655596863721068</td></tr>\n",
       "<tr><td>0.05282935789416516</td><td>0.01882999949157238</td><td>178.16824812</td><td>-0.93067831</td><td>0.05147</td><td>0.9234561371928625</td><td>G12</td><td>0</td><td>-16.230356211308887</td><td>-16.289546708111217</td><td>3032.8293348547527</td><td>3289.7433333544727</td><td>0.04896293098543617</td></tr>\n",
       "<tr><td>0.05266538171806199</td><td>0.01882999949157238</td><td>131.92992534</td><td>0.70406309</td><td>0.05243</td><td>0.9323153477996104</td><td>G9</td><td>0</td><td>-16.2302354524563</td><td>-16.290529942763868</td><td>3124.485118057723</td><td>3168.394074415357</td><td>0.04761548959136529</td></tr>\n",
       "<tr><td>0.05232077264271665</td><td>0.01882999949157238</td><td>132.50118613</td><td>0.51596786</td><td>0.05129</td><td>0.9466532807552683</td><td>G9</td><td>0</td><td>-16.215355316986884</td><td>-16.27433881430849</td><td>2738.273767160024</td><td>2913.8062341725736</td><td>0.044694452258911166</td></tr>\n",
       "<tr><td>0.05226070784488128</td><td>0.01882999949157238</td><td>136.390158</td><td>0.38899142</td><td>0.0515</td><td>0.9663533674992211</td><td>G9</td><td>0</td><td>-16.21078860063796</td><td>-16.270013593628455</td><td>2745.1721341617904</td><td>2873.754642849636</td><td>0.04423825811676807</td></tr>\n",
       "<tr><td>0.05202247519531786</td><td>0.01882999949157238</td><td>137.14373517</td><td>0.19402926</td><td>0.05108</td><td>0.9552793542407861</td><td>G9</td><td>0</td><td>-16.20325411598858</td><td>-16.26199610646543</td><td>2564.4165628215164</td><td>2715.2040829335706</td><td>0.04239750916994633</td></tr>\n",
       "<tr><td>0.050918943437983206</td><td>0.01882999949157238</td><td>177.07764561</td><td>-0.20845646</td><td>0.04836</td><td>0.9294011337842328</td><td>G12</td><td>0</td><td>-16.15814769847686</td><td>-16.21376169680054</td><td>1726.5149161690622</td><td>2030.598095534394</td><td>0.03390545480281063</td></tr>\n",
       "<tr><td>0.05070431440385727</td><td>0.01882999949157238</td><td>220.66746929</td><td>0.96364521</td><td>0.0496</td><td>0.9206584917380999</td><td>G15</td><td>0</td><td>-16.142646601219003</td><td>-16.19968659596545</td><td>1785.3760442961795</td><td>1913.1912974201969</td><td>0.0323706115344332</td></tr>\n",
       "<tr><td>0.049578496462859424</td><td>0.01882999949157238</td><td>215.9447985</td><td>0.02364557</td><td>0.04662</td><td>0.9145969265861145</td><td>G15</td><td>0</td><td>-16.093747452350346</td><td>-16.14736044451782</td><td>1075.853587072231</td><td>1307.2080675940315</td><td>0.023733320671724758</td></tr>\n",
       "<tr><td>0.048123801862842805</td><td>0.01882999949157238</td><td>177.63172766</td><td>-0.00776332</td><td>0.04737</td><td>0.9037560504489097</td><td>G12</td><td>0</td><td>-16.027174739541138</td><td>-16.081650236995543</td><td>664.7943803972902</td><td>698.9111415164856</td><td>0.01393950544716901</td></tr>\n",
       "</table></div>"
      ],
      "text/plain": [
       "<Table length=78722>\n",
       "        ZMAX                 ZMIN              RA          DEC      ZSURV      FILLFACTOR     ...      MCOLOR_0P0           MALL_0P0              VZ                VMAX          FILLFACTOR_VMAX   \n",
       "                                              deg          deg                                ...         mag                 mag                                                                   \n",
       "      float64              float64          float64      float64   float32      float64       ...       float64             float64            float64            float64             float64       \n",
       "-------------------- -------------------- ------------ ----------- ------- ------------------ ... ------------------- ------------------- ------------------ ------------------ --------------------\n",
       "  0.2715100049972534 0.039663288528705265  179.0450651 -0.35024037  0.2563                1.0 ... -23.461170534036924 -23.417599538706114  4988771.027606055  5875467.512993152   0.7068891074027949\n",
       "  0.2715100049972534  0.03933423422922606  182.1835035 -2.07231294 0.10734 0.9316159364359198 ... -23.442632031321555 -23.424384233236342  383585.3029794814  5875477.459299331   0.7068277252437339\n",
       "  0.2715100049972534   0.0339096951732739 213.78496641 -0.49323659 0.13893                1.0 ... -23.107939332154334 -23.084321237531245  845476.0306159477  5875661.861370013   0.7059607371476206\n",
       "  0.2715100049972534  0.03350598251431382 178.51993046  0.60517927 0.22878                1.0 ... -23.082316886159298  -23.04342428919923  3609792.362603803  5875671.490270573    0.705905875411497\n",
       "  0.2715100049972534  0.03294944890178139 180.52796941 -0.24151196 0.24896                1.0 ... -23.045208950883637 -23.002885748988877  4594763.401207476  5875670.818130875   0.7058307402117311\n",
       "  0.2715100049972534  0.03247041721586893 184.98709908 -0.85050901 0.20644                1.0 ... -23.010391635049515 -22.975296822537118 2687975.3729321975  5875655.482235701   0.7057662807353843\n",
       "  0.2715100049972534  0.03194881372599459 222.36929583 -1.27151016 0.20233 0.9979434474259146 ... -22.976202885033608  -22.94180678796959 2536930.1314334297  5875670.580733907   0.7057019681287673\n",
       "  0.2715100049972534 0.031541209667382365 179.83440251 -1.64817036 0.08135 0.9369780902242146 ...  -22.94904753859117  -22.93521803910806  167754.5871742479  5875685.007485165   0.7056534973951007\n",
       "  0.2715100049972534  0.03105122891707608 183.77207804  -1.4609492 0.19885                1.0 ... -22.911188045606362 -22.877383554444062 2413629.9806062165  5875707.618936393   0.7055975457838572\n",
       "  0.2715100049972534  0.03013485689717856 130.46404172 -0.56800756 0.24565                1.0 ...  -22.84411963242417 -22.802359128178413  4423764.066531583  5875736.678187466   0.7054961513093642\n",
       "  0.2715100049972534 0.029814011195731755 180.67664245  -1.3960721 0.24803                1.0 ... -22.819730991835396 -22.777565891260902  4546853.429768277  5875732.565134901   0.7054603972533912\n",
       "                 ...                  ...          ...         ...     ...                ... ...                 ...                 ...                ...                ...                  ...\n",
       "  0.0529906904474329  0.01882999949157238 179.72985917  0.02010831 0.04751 0.9124986924950426 ... -16.251843411283566   -16.3064799046088  2419.615357916712  3409.212243418565  0.05026181982676679\n",
       " 0.05253879813860891  0.01882999949157238 134.61289881  0.28358843 0.05228 0.9496840633312611 ... -16.231413194828935 -16.291535193019815  3027.797782529006 3074.7574803196335  0.04655596863721068\n",
       " 0.05282935789416516  0.01882999949157238 178.16824812 -0.93067831 0.05147 0.9234561371928625 ... -16.230356211308887 -16.289546708111217 3032.8293348547527 3289.7433333544727  0.04896293098543617\n",
       " 0.05266538171806199  0.01882999949157238 131.92992534  0.70406309 0.05243 0.9323153477996104 ...   -16.2302354524563 -16.290529942763868  3124.485118057723  3168.394074415357  0.04761548959136529\n",
       " 0.05232077264271665  0.01882999949157238 132.50118613  0.51596786 0.05129 0.9466532807552683 ... -16.215355316986884  -16.27433881430849  2738.273767160024 2913.8062341725736 0.044694452258911166\n",
       " 0.05226070784488128  0.01882999949157238   136.390158  0.38899142  0.0515 0.9663533674992211 ...  -16.21078860063796 -16.270013593628455 2745.1721341617904  2873.754642849636  0.04423825811676807\n",
       " 0.05202247519531786  0.01882999949157238 137.14373517  0.19402926 0.05108 0.9552793542407861 ...  -16.20325411598858  -16.26199610646543 2564.4165628215164 2715.2040829335706  0.04239750916994633\n",
       "0.050918943437983206  0.01882999949157238 177.07764561 -0.20845646 0.04836 0.9294011337842328 ...  -16.15814769847686  -16.21376169680054 1726.5149161690622  2030.598095534394  0.03390545480281063\n",
       " 0.05070431440385727  0.01882999949157238 220.66746929  0.96364521  0.0496 0.9206584917380999 ... -16.142646601219003  -16.19968659596545 1785.3760442961795 1913.1912974201969   0.0323706115344332\n",
       "0.049578496462859424  0.01882999949157238  215.9447985  0.02364557 0.04662 0.9145969265861145 ... -16.093747452350346  -16.14736044451782  1075.853587072231 1307.2080675940315 0.023733320671724758\n",
       "0.048123801862842805  0.01882999949157238 177.63172766 -0.00776332 0.04737 0.9037560504489097 ... -16.027174739541138 -16.081650236995543  664.7943803972902  698.9111415164856  0.01393950544716901"
      ]
     },
     "execution_count": 7,
     "metadata": {},
     "output_type": "execute_result"
    }
   ],
   "source": [
    "fpath = findfile(ftype='vmax', dryrun=dryrun, version=version, survey=survey)\n",
    "vmax  = Table.read(fpath)\n",
    "vmax.sort('MCOLOR_0P0')\n",
    "vmax"
   ]
  },
  {
   "cell_type": "markdown",
   "id": "6284e746",
   "metadata": {},
   "source": [
    "##  LUMFN"
   ]
  },
  {
   "cell_type": "code",
   "execution_count": 26,
   "id": "eb8c3c9d",
   "metadata": {},
   "outputs": [
    {
     "data": {
      "text/html": [
       "<div><i>Table length=34</i>\n",
       "<table id=\"table140471664503632\" class=\"table-striped table-bordered table-condensed\">\n",
       "<thead><tr><th>MEDIAN_M</th><th>MEAN_M</th><th>MID_M</th><th>IVMAXMEAN_M</th><th>PHI_N</th><th>PHI_N_ERROR</th><th>PHI_IVMAX</th><th>PHI_IVMAX_ERROR</th><th>N</th><th>V_ON_VMAX</th></tr></thead>\n",
       "<thead><tr><th>float64</th><th>float64</th><th>float64</th><th>float64</th><th>float64</th><th>float64</th><th>float64</th><th>float64</th><th>float64</th><th>float64</th></tr></thead>\n",
       "<tr><td>-22.831925312129783</td><td>-22.864672608757225</td><td>-22.7</td><td>-22.864672846948825</td><td>4.908450103523929e-06</td><td>1.7353991766587908e-06</td><td>6.807683039529099e-06</td><td>2.4068794207278818e-06</td><td>8.0</td><td>0.7210177510903818</td></tr>\n",
       "<tr><td>-22.704044909575536</td><td>-22.698038847342218</td><td>-22.5</td><td>-22.698039103486725</td><td>3.190492567290554e-05</td><td>4.424417132828013e-06</td><td>4.4249604347294826e-05</td><td>6.136316053647418e-06</td><td>52.0</td><td>0.721020720440997</td></tr>\n",
       "<tr><td>-22.46463274592758</td><td>-22.48108373846114</td><td>-22.299999999999997</td><td>-22.481083659631633</td><td>5.5833619927584695e-05</td><td>5.8529537149381755e-06</td><td>7.743638269803898e-05</td><td>8.117538579317302e-06</td><td>91.0</td><td>0.7210259339267379</td></tr>\n",
       "<tr><td>-22.284524826240034</td><td>-22.290306198711036</td><td>-22.099999999999998</td><td>-22.290306339943715</td><td>0.00011473502116987185</td><td>8.390255706316985e-06</td><td>0.00015912611022395477</td><td>1.1636453636587745e-05</td><td>187.0</td><td>0.7210330233374752</td></tr>\n",
       "<tr><td>-22.09683320928304</td><td>-22.09645970260883</td><td>-21.9</td><td>-22.09645979429541</td><td>0.00022701581728798174</td><td>1.1801990361104154e-05</td><td>0.0003148477530928903</td><td>1.636815527487585e-05</td><td>370.0</td><td>0.721033859495996</td></tr>\n",
       "<tr><td>-21.885819187202795</td><td>-21.890524649514894</td><td>-21.7</td><td>-21.890525468252765</td><td>0.00039758445838543826</td><td>1.5618592589929115e-05</td><td>0.0005513978970344479</td><td>2.1660955120500223e-05</td><td>648.0</td><td>0.7210463360654576</td></tr>\n",
       "<tr><td>-21.68767578779024</td><td>-21.691111193907943</td><td>-21.5</td><td>-21.691111198123572</td><td>0.0006442340760875158</td><td>1.9881495220007374e-05</td><td>0.0008934387683987182</td><td>2.757211898998973e-05</td><td>1050.0</td><td>0.7210724731344396</td></tr>\n",
       "<tr><td>-21.490264713562876</td><td>-21.493198474116287</td><td>-21.299999999999997</td><td>-21.493198474116287</td><td>0.0010565438847835258</td><td>2.546073678392691e-05</td><td>0.0014652395205031487</td><td>3.5309539238478065e-05</td><td>1722.0</td><td>0.7210724731344396</td></tr>\n",
       "<tr><td>-21.289397454101135</td><td>-21.293651059135694</td><td>-21.099999999999998</td><td>--</td><td>0.0014209963049701775</td><td>2.9527295550553703e-05</td><td>--</td><td>--</td><td>2316.0</td><td>--</td></tr>\n",
       "<tr><td>-21.091829643615487</td><td>-21.094662962786106</td><td>-20.9</td><td>-21.094662962786114</td><td>0.0019265666656331424</td><td>3.4381056465321034e-05</td><td>0.0026718072557374486</td><td>4.7680445095719116e-05</td><td>3140.0</td><td>0.7210724731344396</td></tr>\n",
       "<tr><td>-20.893728309095025</td><td>-20.89624872510583</td><td>-20.7</td><td>-20.89624872510583</td><td>0.0024799944148054653</td><td>3.900789798568146e-05</td><td>0.0034393136712390984</td><td>5.4097056036708084e-05</td><td>4042.0</td><td>0.7210724731344396</td></tr>\n",
       "<tr><td>...</td><td>...</td><td>...</td><td>...</td><td>...</td><td>...</td><td>...</td><td>...</td><td>...</td><td>...</td></tr>\n",
       "<tr><td>-18.50338336838848</td><td>-18.503055089177842</td><td>-18.299999999999997</td><td>-18.497939757739626</td><td>0.0011860042562639695</td><td>2.6975550769258402e-05</td><td>0.012975206255802238</td><td>0.00030212466313608155</td><td>1933.0</td><td>0.09750060232552557</td></tr>\n",
       "<tr><td>-18.305147868350943</td><td>-18.30354101449388</td><td>-18.099999999999998</td><td>-18.298168629106318</td><td>0.0009393546385618919</td><td>2.4007226445631952e-05</td><td>0.01415874910753396</td><td>0.0003687789677853183</td><td>1531.0</td><td>0.06977320886669339</td></tr>\n",
       "<tr><td>-18.106942195680066</td><td>-18.1049936509936</td><td>-17.9</td><td>-18.098932658447854</td><td>0.0005969902438410979</td><td>1.9138628556484305e-05</td><td>0.012636510711978828</td><td>0.00041204253275074293</td><td>973.0</td><td>0.049130674167354775</td></tr>\n",
       "<tr><td>-17.907484856152248</td><td>-17.905371940345027</td><td>-17.7</td><td>-17.89902018452109</td><td>0.0004368520592136297</td><td>1.6371723089185597e-05</td><td>0.013212638620283781</td><td>0.0005022093617045373</td><td>712.0</td><td>0.03418419903413494</td></tr>\n",
       "<tr><td>-17.707491884017074</td><td>-17.702958616999343</td><td>-17.5</td><td>-17.695814914158603</td><td>0.0003251848193584603</td><td>1.4125125929723798e-05</td><td>0.014489359857075336</td><td>0.0006389319134643083</td><td>530.0</td><td>0.0231320752100882</td></tr>\n",
       "<tr><td>-17.51202907759046</td><td>-17.504054770618442</td><td>-17.299999999999997</td><td>-17.496938565887948</td><td>0.00022762937355092224</td><td>1.1817928235159872e-05</td><td>0.014832049042598385</td><td>0.0007794457229233977</td><td>371.0</td><td>0.01595236053606737</td></tr>\n",
       "<tr><td>-17.309897021825783</td><td>-17.30661293643489</td><td>-17.099999999999998</td><td>-17.29903429080562</td><td>0.00018590754767096882</td><td>1.0680109559430131e-05</td><td>0.01850264408693678</td><td>0.0010763095076101225</td><td>303.0</td><td>0.01021704806941649</td></tr>\n",
       "<tr><td>-17.100994008387858</td><td>-17.105531117523206</td><td>-16.9</td><td>-17.097990853574128</td><td>0.00010553167722576448</td><td>8.046714950865489e-06</td><td>0.01633707706027718</td><td>0.0012596700341423147</td><td>172.0</td><td>0.006493958794362721</td></tr>\n",
       "<tr><td>-16.909135468828655</td><td>-16.903373134970476</td><td>-16.7</td><td>-16.893760682872305</td><td>5.828784497934666e-05</td><td>5.9802067138505e-06</td><td>0.014995971781812242</td><td>0.0015613307105057249</td><td>95.0</td><td>0.003984543963817995</td></tr>\n",
       "<tr><td>-16.72360908767375</td><td>-16.709535066118043</td><td>-16.5</td><td>-16.701399939111973</td><td>4.233538214289389e-05</td><td>5.096581094984321e-06</td><td>0.018663642583733965</td><td>0.0022826972369717966</td><td>69.0</td><td>0.0023709437015738137</td></tr>\n",
       "<tr><td>-16.51021613211435</td><td>-16.507629841437026</td><td>-16.299999999999997</td><td>-16.494678076353463</td><td>3.313203819878652e-05</td><td>4.508699318079335e-06</td><td>0.027952271615210213</td><td>0.003919030383672512</td><td>54.0</td><td>0.0012032507969276438</td></tr>\n",
       "<tr><td>-16.31172206315175</td><td>-16.305872287010317</td><td>-16.099999999999998</td><td>-16.291802879483225</td><td>2.3315137991738664e-05</td><td>3.7822148188796786e-06</td><td>0.043178724058291</td><td>0.0072491570817495325</td><td>38.0</td><td>0.0005992027376173624</td></tr>\n",
       "</table></div>"
      ],
      "text/plain": [
       "<Table length=34>\n",
       "      MEDIAN_M             MEAN_M              MID_M            IVMAXMEAN_M             PHI_N               PHI_N_ERROR             PHI_IVMAX           PHI_IVMAX_ERROR        N          V_ON_VMAX      \n",
       "      float64             float64             float64             float64              float64                float64                float64                float64         float64        float64       \n",
       "------------------- ------------------- ------------------- ------------------- ---------------------- ---------------------- ---------------------- ---------------------- ------- ---------------------\n",
       "-22.831925312129783 -22.864672608757225               -22.7 -22.864672846948825  4.908450103523929e-06 1.7353991766587908e-06  6.807683039529099e-06 2.4068794207278818e-06     8.0    0.7210177510903818\n",
       "-22.704044909575536 -22.698038847342218               -22.5 -22.698039103486725  3.190492567290554e-05  4.424417132828013e-06 4.4249604347294826e-05  6.136316053647418e-06    52.0     0.721020720440997\n",
       " -22.46463274592758  -22.48108373846114 -22.299999999999997 -22.481083659631633 5.5833619927584695e-05 5.8529537149381755e-06  7.743638269803898e-05  8.117538579317302e-06    91.0    0.7210259339267379\n",
       "-22.284524826240034 -22.290306198711036 -22.099999999999998 -22.290306339943715 0.00011473502116987185  8.390255706316985e-06 0.00015912611022395477 1.1636453636587745e-05   187.0    0.7210330233374752\n",
       " -22.09683320928304  -22.09645970260883               -21.9  -22.09645979429541 0.00022701581728798174 1.1801990361104154e-05  0.0003148477530928903  1.636815527487585e-05   370.0     0.721033859495996\n",
       "-21.885819187202795 -21.890524649514894               -21.7 -21.890525468252765 0.00039758445838543826 1.5618592589929115e-05  0.0005513978970344479 2.1660955120500223e-05   648.0    0.7210463360654576\n",
       " -21.68767578779024 -21.691111193907943               -21.5 -21.691111198123572  0.0006442340760875158 1.9881495220007374e-05  0.0008934387683987182  2.757211898998973e-05  1050.0    0.7210724731344396\n",
       "-21.490264713562876 -21.493198474116287 -21.299999999999997 -21.493198474116287  0.0010565438847835258  2.546073678392691e-05  0.0014652395205031487 3.5309539238478065e-05  1722.0    0.7210724731344396\n",
       "-21.289397454101135 -21.293651059135694 -21.099999999999998                  --  0.0014209963049701775 2.9527295550553703e-05                     --                     --  2316.0                    --\n",
       "-21.091829643615487 -21.094662962786106               -20.9 -21.094662962786114  0.0019265666656331424 3.4381056465321034e-05  0.0026718072557374486 4.7680445095719116e-05  3140.0    0.7210724731344396\n",
       "-20.893728309095025  -20.89624872510583               -20.7  -20.89624872510583  0.0024799944148054653  3.900789798568146e-05  0.0034393136712390984 5.4097056036708084e-05  4042.0    0.7210724731344396\n",
       "                ...                 ...                 ...                 ...                    ...                    ...                    ...                    ...     ...                   ...\n",
       " -18.50338336838848 -18.503055089177842 -18.299999999999997 -18.497939757739626  0.0011860042562639695 2.6975550769258402e-05   0.012975206255802238 0.00030212466313608155  1933.0   0.09750060232552557\n",
       "-18.305147868350943  -18.30354101449388 -18.099999999999998 -18.298168629106318  0.0009393546385618919 2.4007226445631952e-05    0.01415874910753396  0.0003687789677853183  1531.0   0.06977320886669339\n",
       "-18.106942195680066   -18.1049936509936               -17.9 -18.098932658447854  0.0005969902438410979 1.9138628556484305e-05   0.012636510711978828 0.00041204253275074293   973.0  0.049130674167354775\n",
       "-17.907484856152248 -17.905371940345027               -17.7  -17.89902018452109  0.0004368520592136297 1.6371723089185597e-05   0.013212638620283781  0.0005022093617045373   712.0   0.03418419903413494\n",
       "-17.707491884017074 -17.702958616999343               -17.5 -17.695814914158603  0.0003251848193584603 1.4125125929723798e-05   0.014489359857075336  0.0006389319134643083   530.0    0.0231320752100882\n",
       " -17.51202907759046 -17.504054770618442 -17.299999999999997 -17.496938565887948 0.00022762937355092224 1.1817928235159872e-05   0.014832049042598385  0.0007794457229233977   371.0   0.01595236053606737\n",
       "-17.309897021825783  -17.30661293643489 -17.099999999999998  -17.29903429080562 0.00018590754767096882 1.0680109559430131e-05    0.01850264408693678  0.0010763095076101225   303.0   0.01021704806941649\n",
       "-17.100994008387858 -17.105531117523206               -16.9 -17.097990853574128 0.00010553167722576448  8.046714950865489e-06    0.01633707706027718  0.0012596700341423147   172.0  0.006493958794362721\n",
       "-16.909135468828655 -16.903373134970476               -16.7 -16.893760682872305  5.828784497934666e-05    5.9802067138505e-06   0.014995971781812242  0.0015613307105057249    95.0  0.003984543963817995\n",
       " -16.72360908767375 -16.709535066118043               -16.5 -16.701399939111973  4.233538214289389e-05  5.096581094984321e-06   0.018663642583733965  0.0022826972369717966    69.0 0.0023709437015738137\n",
       " -16.51021613211435 -16.507629841437026 -16.299999999999997 -16.494678076353463  3.313203819878652e-05  4.508699318079335e-06   0.027952271615210213   0.003919030383672512    54.0 0.0012032507969276438\n",
       " -16.31172206315175 -16.305872287010317 -16.099999999999998 -16.291802879483225 2.3315137991738664e-05 3.7822148188796786e-06      0.043178724058291  0.0072491570817495325    38.0 0.0005992027376173624"
      ]
     },
     "execution_count": 26,
     "metadata": {},
     "output_type": "execute_result"
    }
   ],
   "source": [
    "fpath = findfile(ftype='lumfn', dryrun=dryrun, version=version, survey=survey)\n",
    "lumfn = Table.read(fpath)\n",
    "lumfn = lumfn[lumfn['N'] > 5.]\n",
    "lumfn"
   ]
  },
  {
   "cell_type": "code",
   "execution_count": 32,
   "id": "a8b9ca80",
   "metadata": {},
   "outputs": [
    {
     "data": {
      "text/html": [
       "<div><i>Table length=12</i>\n",
       "<table id=\"table140471662859504\" class=\"table-striped table-bordered table-condensed\">\n",
       "<thead><tr><th>MID_M</th><th>PHI_STEPWISE</th></tr></thead>\n",
       "<thead><tr><th>float64</th><th>float64</th></tr></thead>\n",
       "<tr><td>-15.681818181818182</td><td>0.00021290873757229901</td></tr>\n",
       "<tr><td>-16.31818181818182</td><td>0.0013587989826821883</td></tr>\n",
       "<tr><td>-16.954545454545453</td><td>0.005953409094671041</td></tr>\n",
       "<tr><td>-17.590909090909093</td><td>0.021537864969003284</td></tr>\n",
       "<tr><td>-18.227272727272727</td><td>0.08255131129772303</td></tr>\n",
       "<tr><td>-18.86363636363636</td><td>0.2573186656637145</td></tr>\n",
       "<tr><td>-19.5</td><td>0.46661733173901115</td></tr>\n",
       "<tr><td>-20.136363636363633</td><td>0.42450592153052474</td></tr>\n",
       "<tr><td>-20.772727272727273</td><td>0.22584337613593833</td></tr>\n",
       "<tr><td>-21.409090909090907</td><td>0.07415376002278033</td></tr>\n",
       "<tr><td>-22.045454545454547</td><td>0.01058278562236522</td></tr>\n",
       "<tr><td>-22.68181818181818</td><td>0.0007924376325844848</td></tr>\n",
       "</table></div>"
      ],
      "text/plain": [
       "<Table length=12>\n",
       "       MID_M             PHI_STEPWISE     \n",
       "      float64              float64        \n",
       "------------------- ----------------------\n",
       "-15.681818181818182 0.00021290873757229901\n",
       " -16.31818181818182  0.0013587989826821883\n",
       "-16.954545454545453   0.005953409094671041\n",
       "-17.590909090909093   0.021537864969003284\n",
       "-18.227272727272727    0.08255131129772303\n",
       " -18.86363636363636     0.2573186656637145\n",
       "              -19.5    0.46661733173901115\n",
       "-20.136363636363633    0.42450592153052474\n",
       "-20.772727272727273    0.22584337613593833\n",
       "-21.409090909090907    0.07415376002278033\n",
       "-22.045454545454547    0.01058278562236522\n",
       " -22.68181818181818  0.0007924376325844848"
      ]
     },
     "execution_count": 32,
     "metadata": {},
     "output_type": "execute_result"
    }
   ],
   "source": [
    "fpath      = findfile(ftype='lumfn_step', dryrun=dryrun, version=version, survey=survey)\n",
    "lumfn_step = Table.read(fpath)\n",
    "lumfn_step"
   ]
  },
  {
   "cell_type": "code",
   "execution_count": 28,
   "id": "db4729ca",
   "metadata": {},
   "outputs": [
    {
     "name": "stdout",
     "output_type": "stream",
     "text": [
      "Warning:  GOLD_DIR not defined in environment; assuming {gold_dir}\n",
      "WARNING: defaulting to survey=gama\n"
     ]
    },
    {
     "data": {
      "text/plain": [
       "0.7005882538475274"
      ]
     },
     "execution_count": 28,
     "metadata": {},
     "output_type": "execute_result"
    }
   ],
   "source": [
    "ddp1_full8frac = fetch_header(fpath=findfile(ftype='randoms_bd_ddp_n8', dryrun=False, field='GALL', prefix='randoms_ddp1'), name='DDP1_FULL8FRAC')\n",
    "ddp1_full8frac"
   ]
  },
  {
   "cell_type": "code",
   "execution_count": 31,
   "id": "858bcc42",
   "metadata": {},
   "outputs": [
    {
     "data": {
      "text/plain": [
       "Text(0.5, 1.0, 'GAMA')"
      ]
     },
     "execution_count": 31,
     "metadata": {},
     "output_type": "execute_result"
    },
    {
     "data": {
      "image/png": "[encoded data removed]",
      "text/plain": [
       "<Figure size 720x360 with 1 Axes>"
      ]
     },
     "metadata": {
      "needs_background": "light"
     },
     "output_type": "display_data"
    }
   ],
   "source": [
    "fig, ax = plt.subplots(1,1,figsize=(10, 5))\n",
    "\n",
    "pl.sca(ax)\n",
    "\n",
    "# pl.plot(lumfn['MEDIAN_M'],  np.log10(lumfn['PHI_N'] / ddp1_full8frac), label='RAW', lw=2.)\n",
    "pl.plot(lumfn['MEDIAN_M'],    np.log10(lumfn['PHI_IVMAX']),    label='IVMAX', lw=2.)\n",
    "# pl.plot(lumfn['MEDIAN_M'],  np.log10(named_schechter(lumfn['MEDIAN_M'], 'TMR')), linestyle='--', c='k', lw=1.)\n",
    "\n",
    "# pl.scatter(lumfn_tmr['Ms'], lumfn_tmr['PHI_STEP'], s=0.5)\n",
    "# pl.plot(lumfn_tmr['Ms'],    lumfn_tmr['PHI_STEP'], label='TMR_SWML', lw=1.)\n",
    "\n",
    "pl.plot(lumfn_step['MID_M'],  np.log10(lumfn_step['PHI_STEPWISE']))\n",
    "\n",
    "pl.xlabel(r'$M$')\n",
    "pl.ylabel(r'$\\Phi(M)$')\n",
    "\n",
    "pl.xlim(-23., -15.5)\n",
    "# pl.ylim(-4.25, -1.)\n",
    "\n",
    "pl.legend(frameon=False, loc=2)\n",
    "pl.title(survey.upper())"
   ]
  },
  {
   "cell_type": "code",
   "execution_count": 16,
   "id": "437313cf",
   "metadata": {},
   "outputs": [
    {
     "data": {
      "text/html": [
       "<div><i>Table length=906</i>\n",
       "<table id=\"table140475830462352\" class=\"table-striped table-bordered table-condensed\">\n",
       "<thead><tr><th>CATAID</th><th>OBJID</th><th>RA</th><th>DEC</th><th>R_PETRO</th><th>ZGAMA</th><th>NQ</th><th>SPECID</th><th>SURVEY_CLASS</th><th>UMAG_DRED_SDSS</th><th>GMAG_DRED_SDSS</th><th>RMAG_DRED_SDSS</th><th>IMAG_DRED_SDSS</th><th>ZMAG_DRED_SDSS</th><th>ZSURV</th><th>LUMDIST</th><th>DISTMOD</th><th>FIELD</th><th>IN_D8LUMFN</th><th>CONSERVATIVE</th><th>CARTESIAN_X</th><th>CARTESIAN_Y</th><th>CARTESIAN_Z</th><th>ROTCARTESIAN_X</th><th>ROTCARTESIAN_Y</th><th>ROTCARTESIAN_Z</th><th>GMR</th><th>DETMAG</th><th>REST_GMR_0P1</th><th>REST_GMR_0P1_WARN</th><th>REST_GMR_0P1_INDEX</th><th>KCORR_R0P1</th><th>KCORR_G0P1</th><th>KCORR_R0P0</th><th>KCORR_G0P0</th><th>REST_GMR_0P0</th><th>Q_COLOR_0P0</th><th>EQ_ALL_0P0</th><th>EQ_COLOR_0P0</th><th>MALL_0P0</th><th>MCOLOR_0P0</th><th>MQZERO_0P0</th><th>Z_THETA_QALL</th><th>Z_THETA_QZERO</th><th>Z_THETA_QCOLOR</th><th>DDPKCORR_R0P1</th><th>DDPKCORR_G0P1</th><th>DDPKCORR_R0P0</th><th>DDPKCORR_G0P0</th><th>DDPMALL_0P0</th><th>DELTA_DETMAG_FAINT</th><th>ZMAX</th><th>ZMAX_WARN</th><th>DELTA_DETMAG_BRIGHT</th><th>ZMIN</th><th>ZMIN_WARN</th><th>VMAX</th><th>DDP [3]</th><th>DDPZLIMS [3]</th><th>RAND_N8</th><th>FILLFACTOR</th><th>BOUND_DIST</th><th>rRANDSEP</th><th>rRANDMATCH</th><th>rBOUND_DIST</th><th>rFILLFACTOR</th><th>DDP1_N8</th><th>DDP2_N8</th><th>DDP3_N8</th><th>DDP1_DELTA8</th><th>DDP1_DELTA8_TIER</th></tr></thead>\n",
       "<thead><tr><th></th><th></th><th>deg</th><th>deg</th><th>mag</th><th></th><th></th><th></th><th></th><th>mag</th><th>mag</th><th>mag</th><th>mag</th><th>mag</th><th></th><th>Mpc</th><th></th><th></th><th></th><th></th><th></th><th></th><th></th><th></th><th></th><th></th><th>mag</th><th>mag</th><th></th><th></th><th></th><th></th><th></th><th></th><th></th><th>mag</th><th>mag</th><th></th><th></th><th>mag</th><th>mag</th><th>mag</th><th></th><th></th><th></th><th></th><th></th><th></th><th></th><th>mag</th><th>mag</th><th></th><th></th><th>mag</th><th></th><th></th><th></th><th></th><th></th><th></th><th></th><th></th><th></th><th></th><th></th><th></th><th></th><th></th><th></th><th></th><th></th></tr></thead>\n",
       "<thead><tr><th>int32</th><th>int64</th><th>float64</th><th>float64</th><th>float32</th><th>float32</th><th>int16</th><th>bytes33</th><th>int16</th><th>float32</th><th>float32</th><th>float32</th><th>float32</th><th>float32</th><th>float32</th><th>float64</th><th>float64</th><th>bytes3</th><th>int64</th><th>int64</th><th>float64</th><th>float64</th><th>float64</th><th>float64</th><th>float64</th><th>float64</th><th>float32</th><th>float32</th><th>float64</th><th>int32</th><th>int64</th><th>float64</th><th>float64</th><th>float64</th><th>float64</th><th>float64</th><th>float64</th><th>float32</th><th>float32</th><th>float64</th><th>float64</th><th>float64</th><th>float64</th><th>float64</th><th>float64</th><th>float64</th><th>float64</th><th>float64</th><th>float64</th><th>float64</th><th>float32</th><th>float64</th><th>float64</th><th>float32</th><th>float64</th><th>float64</th><th>float64</th><th>int64</th><th>int64</th><th>float64</th><th>float64</th><th>float64</th><th>float64</th><th>int64</th><th>float64</th><th>float64</th><th>int64</th><th>int64</th><th>int64</th><th>float64</th><th>int64</th></tr></thead>\n",
       "<tr><td>278617</td><td>587726031690989899</td><td>132.74706519</td><td>0.81545433</td><td>19.182756</td><td>0.0449</td><td>4</td><td>G09_Y2_012_182</td><td>6</td><td>20.366165</td><td>19.372587</td><td>19.172089</td><td>19.035418</td><td>18.949251</td><td>0.0449</td><td>139.45130555881028</td><td>35.722112922674484</td><td>G9</td><td>0</td><td>0</td><td>-90.57787706395119</td><td>97.99666511930467</td><td>1.89937286358174</td><td>89.89438709967055</td><td>-98.62586826519342</td><td>1.800855936386617</td><td>0.20049858</td><td>19.182756</td><td>0.22471829259057355</td><td>0</td><td>2</td><td>-0.1118172112236913</td><td>-0.13603692288164768</td><td>0.052681761487007414</td><td>0.013493432529692567</td><td>0.23968690988993202</td><td>2.12</td><td>-0.043553002</td><td>-0.09518799</td><td>-16.548485258032628</td><td>-16.496850268353768</td><td>-16.592038260211297</td><td>35.73124168198282</td><td>35.77479468416149</td><td>35.67960669230396</td><td>-0.15538421315581485</td><td>-0.20608063982425123</td><td>0.06134066520638626</td><td>0.05909464988941204</td><td>-16.557144161752007</td><td>0.6172428</td><td>0.05965957861940685</td><td>0.0</td><td>-7.1827564</td><td>0.0016675576772754352</td><td>0.0</td><td>101040.21792999028</td><td>0 .. 0</td><td>1 .. 1</td><td>7729.0</td><td>0.9009584049941471</td><td>5.11122250000175</td><td>0.19756740191885158</td><td>2490561</td><td>4.927176919172937</td><td>0.8885924235222281</td><td>4</td><td>7</td><td>19</td><td>-0.6606866454747917</td><td>1</td></tr>\n",
       "<tr><td>78180</td><td>587722983366394701</td><td>215.9447985</td><td>0.02364557</td><td>19.66574</td><td>0.04662</td><td>4</td><td>G15_Y6_075_302</td><td>5</td><td>21.054993</td><td>19.884249</td><td>19.565754</td><td>19.248247</td><td>19.15994</td><td>0.04662</td><td>144.98328937499377</td><td>35.80658974391799</td><td>G15</td><td>0</td><td>0</td><td>-112.14765950848437</td><td>-81.31507616189805</td><td>0.057168402616653985</td><td>112.71192552555893</td><td>80.53111109293992</td><td>-0.0663560842423554</td><td>0.3184948</td><td>19.66574</td><td>0.35062900070955305</td><td>0</td><td>3</td><td>-0.12346369782660625</td><td>-0.1555979017836609</td><td>0.05173116328922951</td><td>0.026604286233009145</td><td>0.34362167380915004</td><td>2.12</td><td>-0.045221403</td><td>-0.098834395</td><td>-16.14736044451782</td><td>-16.093747452350346</td><td>-16.192581847758976</td><td>35.813099503966065</td><td>35.85832090720722</td><td>35.75948651179859</td><td>-0.15341826112596105</td><td>-0.20335180759594895</td><td>0.06330661723624006</td><td>0.06182348211771432</td><td>-16.15893589846483</td><td>0.13426018</td><td>0.049578496462859424</td><td>0.0</td><td>-7.665739</td><td>0.0013854812839479852</td><td>0.0</td><td>58330.718305073766</td><td>0 .. 0</td><td>1 .. 1</td><td>7846.0</td><td>0.9145969265861145</td><td>4.911304230854167</td><td>0.5958107225319964</td><td>502325</td><td>5.254005815828465</td><td>0.9133243864660662</td><td>1</td><td>10</td><td>15</td><td>-0.9164366263979947</td><td>0</td></tr>\n",
       "<tr><td>54214</td><td>587722982812549325</td><td>177.09954495</td><td>-0.26436877</td><td>18.322176</td><td>0.04676</td><td>4</td><td>2dF291424</td><td>6</td><td>19.911781</td><td>18.66606</td><td>18.300789</td><td>18.094685</td><td>17.845188</td><td>0.04676</td><td>145.43416805624597</td><td>35.81333225458978</td><td>G12</td><td>0</td><td>0</td><td>-138.75799549286265</td><td>7.030281677179068</td><td>-0.6410698095235361</td><td>138.704815275611</td><td>-7.9976487688025255</td><td>-0.7930811357966554</td><td>0.3652706</td><td>18.322176</td><td>0.4001443838388503</td><td>0</td><td>3</td><td>-0.12916768494913566</td><td>-0.16404145416378046</td><td>0.053746094786930654</td><td>0.03301615198216351</td><td>0.3860005574287906</td><td>2.12</td><td>-0.0453572</td><td>-0.0991312</td><td>-17.499545168514047</td><td>-17.445771173025165</td><td>-17.544902369762454</td><td>35.821721148128304</td><td>35.86707834937671</td><td>35.76794715263942</td><td>-0.1532593615765124</td><td>-0.20312825673985896</td><td>0.06346551678568871</td><td>0.06204703297380432</td><td>-17.509264590512803</td><td>1.4778233</td><td>0.09234453939553415</td><td>0.0</td><td>-6.322176</td><td>0.002580656182838843</td><td>0.0</td><td>367498.3384978038</td><td>0 .. 0</td><td>1 .. 1</td><td>7804.0</td><td>0.90970104704028</td><td>5.502855530303053</td><td>0.6803032047737643</td><td>944296</td><td>5.492852720775617</td><td>0.9039211892431144</td><td>20</td><td>34</td><td>59</td><td>0.6802619920075184</td><td>4</td></tr>\n",
       "<tr><td>54216</td><td>587722982812549328</td><td>177.10448338</td><td>-0.37071999</td><td>19.219475</td><td>0.04683</td><td>4</td><td>G12_Y1_CND1_167</td><td>6</td><td>20.493336</td><td>19.509523</td><td>19.200487</td><td>19.066668</td><td>18.790014</td><td>0.04683</td><td>145.65963594336196</td><td>35.816696100795276</td><td>G12</td><td>0</td><td>0</td><td>-138.96300028373827</td><td>7.028660230260126</td><td>-0.9002920754924582</td><td>138.90954217607293</td><td>-7.997456827942923</td><td>-1.0525279240444598</td><td>0.30903625</td><td>19.219475</td><td>0.34060517471215745</td><td>0</td><td>2</td><td>-0.12214047108671292</td><td>-0.15370939091640637</td><td>0.05149178276957264</td><td>0.02548548670426895</td><td>0.3350425509481162</td><td>2.12</td><td>-0.0454251</td><td>-0.09927959</td><td>-16.603287992694995</td><td>-16.549433501133343</td><td>-16.64871309108438</td><td>35.82276278517546</td><td>35.86818788356485</td><td>35.76890829361381</td><td>-0.15317997692624208</td><td>-0.20301640332145765</td><td>0.06354490143595903</td><td>0.062158886392205626</td><td>-16.61534111136138</td><td>0.58052444</td><td>0.061139740822551455</td><td>0.0</td><td>-7.219475</td><td>0.0017086869706116215</td><td>0.0</td><td>108654.22639505575</td><td>0 .. 0</td><td>1 .. 1</td><td>7834.0</td><td>0.9131981038587332</td><td>5.760079925218147</td><td>0.7611901278053607</td><td>1292279</td><td>5.224845326201509</td><td>0.9052034434098806</td><td>19</td><td>34</td><td>58</td><td>0.5901361190126804</td><td>4</td></tr>\n",
       "<tr><td>40172</td><td>587722982276923556</td><td>179.87645226</td><td>-0.80447162</td><td>18.761398</td><td>0.04726</td><td>4</td><td>G12_Y1_ES1_279</td><td>6</td><td>20.001276</td><td>19.020355</td><td>18.45867</td><td>18.16449</td><td>17.97957</td><td>0.04726</td><td>147.04523286019048</td><td>35.83725474720514</td><td>G12</td><td>0</td><td>0</td><td>-140.39530825101366</td><td>0.30273695675777545</td><td>-1.971379518066964</td><td>140.38753941812453</td><td>-1.281684327051169</td><td>-2.1252357932035757</td><td>0.56168556</td><td>18.761398</td><td>0.6127522931391111</td><td>0</td><td>4</td><td>-0.15342085334967645</td><td>-0.20448758435499842</td><td>0.06401308845483339</td><td>0.06429036350644218</td><td>0.5614082870821803</td><td>2.12</td><td>-0.045842204</td><td>-0.1001912</td><td>-17.094027315987336</td><td>-17.039678321940887</td><td>-17.13986952023028</td><td>35.85542563141703</td><td>35.90126783565997</td><td>35.80107663737058</td><td>-0.15269323116211472</td><td>-0.20232810016463684</td><td>0.06403164720008639</td><td>0.06284718954902643</td><td>-17.09404587473259</td><td>1.0386009</td><td>0.07571956611820876</td><td>0.0</td><td>-6.7613983</td><td>0.0021408736719521065</td><td>0.0</td><td>204624.35993309692</td><td>0 .. 0</td><td>1 .. 1</td><td>7952.0</td><td>0.9269531940113156</td><td>5.379208120190493</td><td>0.8931910044443554</td><td>141454</td><td>5.187072186349016</td><td>0.911517573776532</td><td>17</td><td>26</td><td>32</td><td>0.4016410837251849</td><td>4</td></tr>\n",
       "<tr><td>55383</td><td>587722982814646452</td><td>181.871878</td><td>-0.27042178</td><td>18.602032</td><td>0.04729</td><td>4</td><td>2dF296759</td><td>6</td><td>20.109747</td><td>18.963661</td><td>18.533672</td><td>18.344677</td><td>18.491995</td><td>0.04729</td><td>147.14192120311714</td><td>35.83868211120554</td><td>G12</td><td>0</td><td>0</td><td>-140.4212474610433</td><td>-4.589256047031396</td><td>-0.6631120215621416</td><td>140.44902284105908</td><td>3.6100088794607585</td><td>-0.8170348926460619</td><td>0.42998886</td><td>18.602032</td><td>0.4691743462003388</td><td>0</td><td>3</td><td>-0.13683212673986056</td><td>-0.17601761185616793</td><td>0.05719678133943923</td><td>0.04292461406467418</td><td>0.4442610283587494</td><td>2.12</td><td>-0.045871302</td><td>-0.1002548</td><td>-17.247975882295844</td><td>-17.19359238833594</td><td>-17.29384718478131</td><td>35.85000759005952</td><td>35.895878892544985</td><td>35.795624096099615</td><td>-0.1526593314431797</td><td>-0.20228000393021722</td><td>0.06406554691902142</td><td>0.06289528578344605</td><td>-17.254844647875426</td><td>1.1979675</td><td>0.08183233858724823</td><td>0.0</td><td>-6.6020317</td><td>0.002298026795390262</td><td>0.0</td><td>257352.3675536312</td><td>0 .. 0</td><td>1 .. 1</td><td>7950.0</td><td>0.9267200568900854</td><td>5.573436808059438</td><td>0.7175109429459394</td><td>2236498</td><td>5.801070528160622</td><td>0.9223293077735831</td><td>11</td><td>20</td><td>32</td><td>-0.09282760728368944</td><td>3</td></tr>\n",
       "<tr><td>54941</td><td>587722982813794547</td><td>179.97690307</td><td>-0.26637789</td><td>19.063278</td><td>0.04733</td><td>4</td><td>G12_Y6_054_287</td><td>6</td><td>20.260378</td><td>19.30763</td><td>19.037622</td><td>18.894066</td><td>18.681274</td><td>0.04733</td><td>147.27086402434998</td><td>35.840584173960046</td><td>G12</td><td>0</td><td>0</td><td>-140.61399689984256</td><td>0.05668396253511218</td><td>-0.6537433129270095</td><td>140.6093823453748</td><td>-1.0371621965815947</td><td>-0.8078419213763879</td><td>0.2700081</td><td>19.063278</td><td>0.2992973323595158</td><td>0</td><td>2</td><td>-0.11699152047472956</td><td>-0.14628076567604226</td><td>0.05020128258169547</td><td>0.020521089183115904</td><td>0.2996882805567827</td><td>2.12</td><td>-0.0459101</td><td>-0.10033959</td><td>-16.78159715691563</td><td>-16.72716766679641</td><td>-16.827507258299555</td><td>35.84487535515782</td><td>35.89078545654174</td><td>35.7904458650386</td><td>-0.15261414558602565</td><td>-0.20221586167646002</td><td>0.06411073277617546</td><td>0.06295942803720325</td><td>-16.79550660711011</td><td>0.73672104</td><td>0.06645759445985212</td><td>0.0</td><td>-7.063278</td><td>0.0018542789835421208</td><td>0.0</td><td>139106.98621337552</td><td>0 .. 0</td><td>1 .. 1</td><td>7990.0</td><td>0.9313827993146896</td><td>5.5617749859568475</td><td>0.6810644867048553</td><td>846380</td><td>6.095105608750245</td><td>0.9285365836263374</td><td>17</td><td>28</td><td>36</td><td>0.3949749559177309</td><td>4</td></tr>\n",
       "<tr><td>583985</td><td>588848899911647383</td><td>177.63172766</td><td>-0.00776332</td><td>19.765614</td><td>0.04737</td><td>4</td><td>G12_Y1_CD1_396</td><td>5</td><td>20.97897</td><td>20.015602</td><td>19.756144</td><td>19.63203</td><td>19.584358</td><td>0.04737</td><td>147.3998090296922</td><td>35.84248460427037</td><td>G12</td><td>0</td><td>0</td><td>-140.6130732094397</td><td>5.815434138512851</td><td>-0.019068725311956622</td><td>140.56899938873997</td><td>-6.795765933255084</td><td>-0.1731226956745799</td><td>0.25945854</td><td>19.765614</td><td>0.2880564222164626</td><td>0</td><td>2</td><td>-0.11593742823278239</td><td>-0.14453530857912783</td><td>0.05072809264105249</td><td>0.01959402421505782</td><td>0.29059261029611183</td><td>2.12</td><td>-0.045948904</td><td>-0.1004244</td><td>-16.081650236995543</td><td>-16.027174739541138</td><td>-16.127599141003216</td><td>35.847263792903746</td><td>35.89321269691142</td><td>35.79278829544934</td><td>-0.1525689685513723</td><td>-0.2021516969164388</td><td>0.0641559098108288</td><td>0.06302359279722447</td><td>-16.09507805416532</td><td>0.03438568</td><td>0.048123801862842805</td><td>0.0</td><td>-7.7656136</td><td>0.0013436526794161107</td><td>0.0</td><td>53390.68872630234</td><td>0 .. 0</td><td>1 .. 1</td><td>7753.0</td><td>0.9037560504489097</td><td>4.930964101907637</td><td>0.7243792220147727</td><td>291984</td><td>4.22496552440947</td><td>0.8620147917019843</td><td>17</td><td>29</td><td>45</td><td>0.4376176831913672</td><td>4</td></tr>\n",
       "<tr><td>79036</td><td>587722983368098080</td><td>219.83103783</td><td>0.20115541</td><td>18.990782</td><td>0.04746</td><td>4</td><td>MGC66140</td><td>6</td><td>20.204353</td><td>19.232195</td><td>19.054749</td><td>18.831564</td><td>18.773197</td><td>0.04746</td><td>147.6899663037259</td><td>35.846754957028836</td><td>G15</td><td>0</td><td>0</td><td>-108.27701691541179</td><td>-90.31242583649137</td><td>0.4950188687792099</td><td>108.90459629561383</td><td>89.55523142778888</td><td>0.3756672159376291</td><td>0.17744637</td><td>18.990782</td><td>0.2006091946666429</td><td>0</td><td>2</td><td>-0.1081302156714274</td><td>-0.13129304498162497</td><td>0.05554407967461779</td><td>0.012680339022583559</td><td>0.22031010600847956</td><td>2.12</td><td>-0.046036202</td><td>-0.100615196</td><td>-16.86548105018531</td><td>-16.810902056715832</td><td>-16.911517252645837</td><td>35.856262834242926</td><td>35.902299036703454</td><td>35.80168384077345</td><td>-0.1524673776316158</td><td>-0.2020072687626675</td><td>0.06425750073058531</td><td>0.06316802095099577</td><td>-16.874194471241275</td><td>0.80921745</td><td>0.06899112489668631</td><td>0.0</td><td>-6.990782</td><td>0.0019266025457585953</td><td>0.0</td><td>155397.7446473544</td><td>0 .. 0</td><td>1 .. 1</td><td>7897.0</td><td>0.9205419231774848</td><td>5.4212386363679155</td><td>0.7083162011808611</td><td>875962</td><td>4.824481817125505</td><td>0.8942557127587786</td><td>2</td><td>7</td><td>13</td><td>-0.833952582175172</td><td>0</td></tr>\n",
       "<tr><td>584043</td><td>588848899911713116</td><td>177.87244826</td><td>-0.03083848</td><td>18.978224</td><td>0.04748</td><td>4</td><td>G12_Y3_023_237</td><td>6</td><td>20.474436</td><td>19.324734</td><td>18.93999</td><td>18.727446</td><td>18.510115</td><td>0.04748</td><td>147.75444690788063</td><td>35.847702802706955</td><td>G12</td><td>0</td><td>0</td><td>-140.95980248117255</td><td>5.236636794451132</td><td>-0.07592156239524814</td><td>140.9196935780741</td><td>-6.219400349577891</td><td>-0.23035990362038206</td><td>0.38474464</td><td>18.978224</td><td>0.42064277750141144</td><td>0</td><td>3</td><td>-0.1309808771475802</td><td>-0.1668790104838518</td><td>0.05512838291252184</td><td>0.03632844626590645</td><td>0.40354458081165445</td><td>2.12</td><td>-0.0460556</td><td>-0.10065759</td><td>-16.878551784913185</td><td>-16.823949795226696</td><td>-16.924607384960296</td><td>35.856775585572365</td><td>35.902831185619476</td><td>35.802173595885876</td><td>-0.1524448136973695</td><td>-0.20197516621850248</td><td>0.0642800646648316</td><td>0.0632001234951608</td><td>-16.887703466665496</td><td>0.82177544</td><td>0.06918987989489778</td><td>0.0</td><td>-6.978224</td><td>0.0019387131441894797</td><td>0.0</td><td>156726.20622405686</td><td>0 .. 0</td><td>1 .. 1</td><td>7815.0</td><td>0.9109833012070462</td><td>5.009750706743648</td><td>0.7738585442493682</td><td>2732153</td><td>5.377667189845121</td><td>0.9210081974199452</td><td>18</td><td>27</td><td>41</td><td>0.5101072459454898</td><td>4</td></tr>\n",
       "<tr><td>55530</td><td>587722982814974120</td><td>182.63511722</td><td>-0.36282709</td><td>18.97975</td><td>0.0475</td><td>4</td><td>G12_Y1_GN1_093</td><td>6</td><td>20.259407</td><td>19.284191</td><td>19.030306</td><td>18.841322</td><td>18.791992</td><td>0.0475</td><td>147.8189408666147</td><td>35.84865043101171</td><td>G12</td><td>0</td><td>0</td><td>-140.9638866419447</td><td>-6.487711546053775</td><td>-0.8936145249102593</td><td>141.0046335175557</td><td>5.504634487003926</td><td>-1.0481464455204375</td><td>0.25388527</td><td>18.97975</td><td>0.2821176753258542</td><td>0</td><td>2</td><td>-0.11533163975157033</td><td>-0.14356404591238547</td><td>0.05113073996158969</td><td>0.019196448994566462</td><td>0.2858195601320623</td><td>2.12</td><td>-0.046075</td><td>-0.10069999</td><td>-16.873956490048887</td><td>-16.819331500420095</td><td>-16.920031491407872</td><td>35.85370616961432</td><td>35.899781170973306</td><td>35.79908117998553</td><td>-0.15242224953719916</td><td>-0.20194305219968386</td><td>0.06430262882500196</td><td>0.06323223751397941</td><td>-16.887128378912298</td><td>0.82024956</td><td>0.06934444294389606</td><td>0.0</td><td>-6.9797497</td><td>0.0019345085435607903</td><td>0.0</td><td>157764.51069304236</td><td>0 .. 0</td><td>1 .. 1</td><td>7998.0</td><td>0.9323153477996104</td><td>5.822968924853402</td><td>0.4719814713962157</td><td>112590</td><td>6.112517795567855</td><td>0.9273028996931608</td><td>7</td><td>12</td><td>28</td><td>-0.4261730926519961</td><td>2</td></tr>\n",
       "<tr><td>...</td><td>...</td><td>...</td><td>...</td><td>...</td><td>...</td><td>...</td><td>...</td><td>...</td><td>...</td><td>...</td><td>...</td><td>...</td><td>...</td><td>...</td><td>...</td><td>...</td><td>...</td><td>...</td><td>...</td><td>...</td><td>...</td><td>...</td><td>...</td><td>...</td><td>...</td><td>...</td><td>...</td><td>...</td><td>...</td><td>...</td><td>...</td><td>...</td><td>...</td><td>...</td><td>...</td><td>...</td><td>...</td><td>...</td><td>...</td><td>...</td><td>...</td><td>...</td><td>...</td><td>...</td><td>...</td><td>...</td><td>...</td><td>...</td><td>...</td><td>...</td><td>...</td><td>...</td><td>...</td><td>...</td><td>...</td><td>...</td><td>...</td><td>...</td><td>...</td><td>...</td><td>...</td><td>...</td><td>...</td><td>...</td><td>...</td><td>...</td><td>...</td><td>...</td><td>...</td><td>...</td></tr>\n",
       "<tr><td>7263</td><td>588848900984865397</td><td>176.48185398</td><td>0.63608342</td><td>19.688787</td><td>0.08866</td><td>4</td><td>G12_Y2_015_109</td><td>5</td><td>21.114727</td><td>20.016748</td><td>19.658863</td><td>19.4123</td><td>19.321459</td><td>0.08866</td><td>284.4341643854867</td><td>37.26990879912431</td><td>G12</td><td>0</td><td>0</td><td>-260.76151264116913</td><td>16.031753099969457</td><td>2.9004942907530924</td><td>260.6464086631456</td><td>-17.849612981082235</td><td>2.614845488696364</td><td>0.35788536</td><td>19.688787</td><td>0.3694187286925681</td><td>0</td><td>3</td><td>-0.10565322391468979</td><td>-0.11718659188948442</td><td>0.07247075482139007</td><td>0.07065281931081989</td><td>0.3597032962283436</td><td>2.12</td><td>-0.086000204</td><td>-0.1879592</td><td>-17.567591889532245</td><td>-17.4656328994352</td><td>-17.65359209361855</td><td>37.256379349859394</td><td>37.3423795539457</td><td>37.15442035976235</td><td>-0.11250144979859908</td><td>-0.1270147554292211</td><td>0.10422342856360203</td><td>0.13816053428444217</td><td>-17.59934456327446</td><td>0.11121178</td><td>0.09338869742799552</td><td>0.0</td><td>-7.6887875</td><td>0.0026043346652615835</td><td>0.0</td><td>379867.72525633103</td><td>0 .. 0</td><td>1 .. 1</td><td>8227.0</td><td>0.9590095481804695</td><td>6.262287679251347</td><td>0.6393788605906173</td><td>974836</td><td>6.36496171569392</td><td>0.970248700233109</td><td>1</td><td>6</td><td>18</td><td>-0.9203065237290223</td><td>0</td></tr>\n",
       "<tr><td>319284</td><td>587726032263381884</td><td>213.95939102</td><td>1.82206849</td><td>19.672518</td><td>0.08894</td><td>4</td><td>G15_Y4_218_094</td><td>5</td><td>20.639797</td><td>19.969854</td><td>19.641247</td><td>19.615978</td><td>19.807262</td><td>0.08894</td><td>285.38988284454814</td><td>37.277192865920725</td><td>G15</td><td>0</td><td>0</td><td>-217.26844101756427</td><td>-146.32546952579878</td><td>8.333040148030678</td><td>218.29246526890967</td><td>144.80693309563677</td><td>8.09381161843018</td><td>0.32860756</td><td>19.672518</td><td>0.33961648117049736</td><td>0</td><td>2</td><td>-0.10473079376434467</td><td>-0.11573971573074046</td><td>0.06874733334372422</td><td>0.06315853778980984</td><td>0.33419635475801596</td><td>2.12</td><td>-0.08627181</td><td>-0.1885528</td><td>-17.587150615223806</td><td>-17.48486962593452</td><td>-17.67342242277519</td><td>37.25966839171306</td><td>37.34594019926445</td><td>37.15738740242378</td><td>-0.1122696978053515</td><td>-0.12644780364153563</td><td>0.10445518055684962</td><td>0.13872748607212765</td><td>-17.622858462436934</td><td>0.12748146</td><td>0.09441926166282921</td><td>0.0</td><td>-7.672518</td><td>0.0026274749271647875</td><td>0.0</td><td>392339.76835284074</td><td>0 .. 0</td><td>1 .. 1</td><td>7940.0</td><td>0.9255543712839344</td><td>5.440241598047741</td><td>0.34229600511201974</td><td>1312099</td><td>5.1429994289697385</td><td>0.9139849416428852</td><td>3</td><td>11</td><td>15</td><td>-0.7522777471229218</td><td>0</td></tr>\n",
       "<tr><td>31847</td><td>587722981740904877</td><td>181.92819806</td><td>-1.24224958</td><td>19.7609</td><td>0.08902</td><td>4</td><td>G12_Y2_004_213</td><td>5</td><td>20.984648</td><td>20.245384</td><td>19.743464</td><td>19.40663</td><td>19.407663</td><td>0.08902</td><td>285.66299528254007</td><td>37.279269928104384</td><td>G12</td><td>0</td><td>0</td><td>-262.1018357714651</td><td>-8.823950616990333</td><td>-5.686831030064908</td><td>262.1506021585336</td><td>6.996140613812562</td><td>-5.974133481743753</td><td>0.5019207</td><td>19.7609</td><td>0.5147726930752552</td><td>0</td><td>3</td><td>-0.1096991709442813</td><td>-0.12255116394629434</td><td>0.09206292353268619</td><td>0.11214403025872394</td><td>0.48183959334720444</td><td>2.12</td><td>-0.0863494</td><td>-0.18872239</td><td>-17.524082956302827</td><td>-17.421709967244333</td><td>-17.610432354200547</td><td>37.28498345373935</td><td>37.37133285163707</td><td>37.182610464680856</td><td>-0.11220357271662074</td><td>-0.12628569031265538</td><td>0.10452130564558038</td><td>0.1388895994010079</td><td>-17.53654133841572</td><td>0.03909874</td><td>0.09063484549106604</td><td>0.0</td><td>-7.7609005</td><td>0.002552177564138373</td><td>0.0</td><td>347818.4598825433</td><td>0 .. 0</td><td>1 .. 1</td><td>8488.0</td><td>1.0</td><td>8.050314937390468</td><td>0.7530157979992717</td><td>1388383</td><td>7.700704298633547</td><td>0.9985360042757078</td><td>2</td><td>8</td><td>13</td><td>-0.8471463906568775</td><td>0</td></tr>\n",
       "<tr><td>7197</td><td>588848900984668449</td><td>176.01818228</td><td>0.67936622</td><td>19.670273</td><td>0.08911</td><td>4</td><td>G12_Y3_021_231</td><td>5</td><td>20.895004</td><td>20.00141</td><td>19.661705</td><td>19.325304</td><td>19.337706</td><td>0.08911</td><td>285.9703055153041</td><td>37.28160469675752</td><td>G12</td><td>0</td><td>0</td><td>-261.9202412531931</td><td>18.23172493822071</td><td>3.1132953773526504</td><td>261.7900015716616</td><td>-20.057610971808316</td><td>2.826393403886605</td><td>0.3397045</td><td>19.670273</td><td>0.3506572378681185</td><td>0</td><td>3</td><td>-0.10501470786827825</td><td>-0.11596743218659206</td><td>0.07018455511855713</td><td>0.0662432274356834</td><td>0.34364584123267844</td><td>2.12</td><td>-0.086436704</td><td>-0.1889132</td><td>-17.595079720926485</td><td>-17.492603228402338</td><td>-17.68151642472764</td><td>37.26535254807492</td><td>37.35178925187608</td><td>37.162876055550775</td><td>-0.11212922283110291</td><td>-0.12610322868335538</td><td>0.1045956555310982</td><td>0.1390720610303079</td><td>-17.629490821339026</td><td>0.12972641</td><td>0.09469327935170199</td><td>0.0</td><td>-7.670273</td><td>0.002636836942047294</td><td>0.0</td><td>395700.3508340241</td><td>0 .. 0</td><td>1 .. 1</td><td>8106.0</td><td>0.9449047523460418</td><td>6.056470852838566</td><td>0.5609328106819913</td><td>481408</td><td>6.383782246655588</td><td>0.9719000881751566</td><td>1</td><td>6</td><td>18</td><td>-0.9191169221217205</td><td>0</td></tr>\n",
       "<tr><td>32294</td><td>587722981741887704</td><td>184.07552651</td><td>-1.14524157</td><td>19.767826</td><td>0.0892</td><td>4</td><td>G12_Y2_043_065</td><td>5</td><td>21.217403</td><td>19.985275</td><td>19.715296</td><td>19.493137</td><td>19.442785</td><td>0.0892</td><td>286.277628563361</td><td>37.28393705496829</td><td>G12</td><td>0</td><td>0</td><td>-262.1159124664336</td><td>-18.676169422178937</td><td>-5.253216774434702</td><td>262.23385166782253</td><td>16.848021751239457</td><td>-5.540610201452707</td><td>0.26997948</td><td>19.767826</td><td>0.280227549196809</td><td>0</td><td>2</td><td>-0.10305312454733548</td><td>-0.11330119681543349</td><td>0.06334460138906847</td><td>0.04902363779065955</td><td>0.2843004405271199</td><td>2.12</td><td>-0.086524</td><td>-0.18910399</td><td>-17.492931573781085</td><td>-17.390351585241866</td><td>-17.579455576035095</td><td>37.26075765410335</td><td>37.34728165635736</td><td>37.15817766556413</td><td>-0.11205492798065114</td><td>-0.12592070713552841</td><td>0.10466995038154997</td><td>0.13925458257813486</td><td>-17.534256922773565</td><td>0.032173157</td><td>0.09056278195019576</td><td>0.0</td><td>-7.767826</td><td>0.002515551406740712</td><td>0.0</td><td>347004.79394786386</td><td>0 .. 0</td><td>1 .. 1</td><td>8573.0</td><td>1.0</td><td>8.520490193682972</td><td>0.6784085429514177</td><td>1671102</td><td>8.210598923093993</td><td>1.0</td><td>9</td><td>19</td><td>52</td><td>-0.3121587579559484</td><td>3</td></tr>\n",
       "<tr><td>537076</td><td>588848898840658242</td><td>183.99115292</td><td>-0.99746627</td><td>19.68929</td><td>0.08937</td><td>4</td><td>G12_Y2_013_319</td><td>5</td><td>20.749144</td><td>19.952188</td><td>19.65797</td><td>19.342016</td><td>19.350605</td><td>0.08937</td><td>286.8582492906204</td><td>37.288336717839414</td><td>G12</td><td>0</td><td>0</td><td>-262.64648080710793</td><td>-18.325277784060724</td><td>-4.584010209291229</td><td>262.7626934838509</td><td>16.49343907267303</td><td>-4.8719828087003245</td><td>0.29421806</td><td>19.68929</td><td>0.30453817151594315</td><td>0</td><td>2</td><td>-0.10369237639805086</td><td>-0.11401248455950182</td><td>0.06431741742757706</td><td>0.05436170705839054</td><td>0.3041737737236787</td><td>2.12</td><td>-0.0866889</td><td>-0.18946439</td><td>-17.576676143745633</td><td>-17.47390065197155</td><td>-17.663365042249414</td><td>37.26596523676321</td><td>37.35265413526699</td><td>37.163189744989126</td><td>-0.11191471973171649</td><td>-0.12557572270522482</td><td>0.10481015863048462</td><td>0.13959956700843845</td><td>-17.61716888494854</td><td>0.110710144</td><td>0.09415168652457657</td><td>0.0</td><td>-7.689289</td><td>0.0026142520573278045</td><td>0.0</td><td>389076.2856643837</td><td>0 .. 0</td><td>1 .. 1</td><td>8589.0</td><td>1.0</td><td>9.206430627634004</td><td>0.8569691052807547</td><td>1943208</td><td>8.487772340550627</td><td>1.0</td><td>8</td><td>17</td><td>51</td><td>-0.38858556262750965</td><td>3</td></tr>\n",
       "<tr><td>203480</td><td>587725074452906328</td><td>134.05943411</td><td>-0.31348767</td><td>19.773933</td><td>0.09012</td><td>4</td><td>G09_Y5_004_137</td><td>5</td><td>21.03612</td><td>20.224499</td><td>19.75565</td><td>19.446098</td><td>19.334198</td><td>0.09012</td><td>289.4213689877038</td><td>37.30765296720521</td><td>G9</td><td>0</td><td>0</td><td>-184.62355136756722</td><td>190.78683119605256</td><td>-1.4526198261822216</td><td>183.287034009493</td><td>-192.06954447365177</td><td>-1.6534906864270902</td><td>0.46884918</td><td>19.773933</td><td>0.4800653759648292</td><td>0</td><td>3</td><td>-0.10814923206219838</td><td>-0.11936542589812131</td><td>0.08772672462749041</td><td>0.10333934972507448</td><td>0.45323655703132215</td><td>2.12</td><td>-0.0874164</td><td>-0.19105439</td><td>-17.53402987819258</td><td>-17.430391892307437</td><td>-17.621446281188167</td><td>37.30796328883711</td><td>37.395379691832694</td><td>37.204325302951965</td><td>-0.11129822287493073</td><td>-0.12405053129184343</td><td>0.10542665548727038</td><td>0.14112475842181985</td><td>-17.55172980905236</td><td>0.026065826</td><td>0.09121096232276715</td><td>0.0</td><td>-7.7739334</td><td>0.0025624280314127047</td><td>0.0</td><td>354370.96919316024</td><td>0 .. 0</td><td>1 .. 1</td><td>8617.0</td><td>1.0044712868203605</td><td>7.827714949724954</td><td>0.520869020860919</td><td>1988644</td><td>7.769649507990272</td><td>0.9975257434170438</td><td>3</td><td>9</td><td>24</td><td>-0.7717402010161308</td><td>0</td></tr>\n",
       "<tr><td>759727</td><td>587722983350796628</td><td>180.27596952</td><td>0.10209415</td><td>19.794008</td><td>0.09073</td><td>3</td><td>G12_Y6_054_331</td><td>5</td><td>21.184687</td><td>20.086948</td><td>19.78484</td><td>19.519115</td><td>19.248905</td><td>0.09073</td><td>291.5078742169225</td><td>37.32325145212648</td><td>G12</td><td>0</td><td>0</td><td>-267.25591384407636</td><td>-1.2872685780062614</td><td>0.47622374580644117</td><td>267.2587540331806</td><td>-0.576296791832765</td><td>0.18332681198383793</td><td>0.30210876</td><td>19.794008</td><td>0.3112689370415868</td><td>0</td><td>2</td><td>-0.10376525334651102</td><td>-0.11292542573966027</td><td>0.06529379483323614</td><td>0.05746810471587055</td><td>0.30993445476580306</td><td>2.12</td><td>-0.0880081</td><td>-0.19234759</td><td>-17.506528893650557</td><td>-17.40218940579989</td><td>-17.59453699195483</td><td>37.300537148655444</td><td>37.388545246959715</td><td>37.19619766080478</td><td>-0.11079929490923696</td><td>-0.12280623752759548</td><td>0.10592558345296416</td><td>0.1423690521860678</td><td>-17.547160682270288</td><td>0.005990982</td><td>0.09098589926622629</td><td>0.0</td><td>-7.7940083</td><td>0.002529441160406444</td><td>0.0</td><td>351801.95475851756</td><td>0 .. 0</td><td>1 .. 1</td><td>8609.0</td><td>1.0</td><td>8.852783218331016</td><td>0.6894223477879842</td><td>482794</td><td>9.472824919998013</td><td>1.0</td><td>8</td><td>14</td><td>19</td><td>-0.38858556262750965</td><td>3</td></tr>\n",
       "<tr><td>177572</td><td>587725041164353975</td><td>176.98365439</td><td>-1.92092872</td><td>19.768322</td><td>0.09178</td><td>4</td><td>G12_Y3_027_170</td><td>5</td><td>20.943651</td><td>19.846758</td><td>19.453154</td><td>19.166218</td><td>19.074139</td><td>0.09178</td><td>295.1033418759051</td><td>37.34987063831726</td><td>G12</td><td>0</td><td>0</td><td>-269.76946105330836</td><td>14.215192010786046</td><td>-9.060376995938597</td><td>269.65369098407473</td><td>-16.095907082036547</td><td>-9.35590434304075</td><td>0.39360428</td><td>19.768322</td><td>0.4023975971024912</td><td>0</td><td>3</td><td>-0.10564893358586104</td><td>-0.1144422521238991</td><td>0.07761609799795231</td><td>0.0832913545505757</td><td>0.38792902201182977</td><td>2.12</td><td>-0.0890266</td><td>-0.19457358</td><td>-17.570138145225968</td><td>-17.4645911641297</td><td>-17.65916474534842</td><td>37.338460136192765</td><td>37.42748673631522</td><td>37.2329131550965</td><td>-0.10994564584948083</td><td>-0.12065638608330853</td><td>0.10677923251272028</td><td>0.14451890363035474</td><td>-17.599301279740736</td><td>0.031677246</td><td>0.09314475896391916</td><td>0.0</td><td>-7.768322</td><td>0.0026030891876647165</td><td>0.0</td><td>376953.9420646844</td><td>0 .. 0</td><td>1 .. 1</td><td>7850.0</td><td>0.9150632008285748</td><td>5.092249759709503</td><td>0.4977797653026282</td><td>993999</td><td>4.791423612157394</td><td>0.896460801363748</td><td>18</td><td>34</td><td>85</td><td>0.5033742837024209</td><td>4</td></tr>\n",
       "<tr><td>618966</td><td>588848900465951323</td><td>217.46196316</td><td>0.29978199</td><td>19.75658</td><td>0.09186</td><td>4</td><td>G15_Y3_049_285</td><td>5</td><td>21.309656</td><td>20.239838</td><td>19.735006</td><td>19.415737</td><td>19.33687</td><td>0.09186</td><td>295.3775033183131</td><td>37.35188707646447</td><td>G15</td><td>0</td><td>0</td><td>-214.72975389564039</td><td>-164.54156490445192</td><td>1.4154396636035145</td><td>215.87327811267872</td><td>163.04028750238274</td><td>1.1788582425582583</td><td>0.5048313</td><td>19.75658</td><td>0.5145377104507247</td><td>0</td><td>3</td><td>-0.1080056482516708</td><td>-0.11771204461548146</td><td>0.09371659468329469</td><td>0.11690196958882942</td><td>0.4816459391813793</td><td>2.12</td><td>-0.0891042</td><td>-0.19474319</td><td>-17.599919120445193</td><td>-17.494280132129134</td><td>-17.689023318364562</td><td>37.356499473228396</td><td>37.445603671147765</td><td>37.25086048491234</td><td>-0.10988087536810683</td><td>-0.12049218059544001</td><td>0.10684400299409429</td><td>0.14468310911822327</td><td>-17.613046528755994</td><td>0.043418884</td><td>0.09371446573112055</td><td>0.0</td><td>-7.7565804</td><td>0.0026387888568226324</td><td>0.0</td><td>383781.50849797996</td><td>0 .. 0</td><td>1 .. 1</td><td>8647.0</td><td>1.0</td><td>10.863762396394131</td><td>0.33813950218968386</td><td>410567</td><td>10.81302400215523</td><td>1.0</td><td>10</td><td>16</td><td>37</td><td>-0.235731953284387</td><td>3</td></tr>\n",
       "<tr><td>609565</td><td>588848900447863493</td><td>176.17555875</td><td>0.24747227</td><td>19.77434</td><td>0.09324</td><td>4</td><td>G12_Y1_BD1_316</td><td>5</td><td>22.01122</td><td>20.267551</td><td>19.835735</td><td>19.526901</td><td>19.336338</td><td>0.09324</td><td>300.11095522776554</td><td>37.3864092458368</td><td>G12</td><td>0</td><td>0</td><td>-273.9012849133085</td><td>18.309862947828343</td><td>1.1856837994702414</td><td>273.768089398436</td><td>-20.219289042799808</td><td>0.8856535076718204</td><td>0.4318161</td><td>19.77434</td><td>0.43932608116644084</td><td>0</td><td>3</td><td>-0.10587779265346463</td><td>-0.1133877727456867</td><td>0.08314399461400719</td><td>0.0954249781659981</td><td>0.41953511752222783</td><td>2.12</td><td>-0.09044281</td><td>-0.19766879</td><td>-17.604770758065175</td><td>-17.49754477373023</td><td>-17.69521356454749</td><td>37.37911043396849</td><td>37.46955324045081</td><td>37.271884449633546</td><td>-0.10876943428074971</td><td>-0.11765032512073054</td><td>0.1079554440814514</td><td>0.14752496459293274</td><td>-17.629582207532618</td><td>0.025659561</td><td>0.09435771354894053</td><td>0.0</td><td>-7.7743397</td><td>0.002642841080703991</td><td>0.0</td><td>391587.3305469913</td><td>0 .. 0</td><td>1 .. 1</td><td>8619.0</td><td>1.0</td><td>8.400583968363167</td><td>0.7612194799491311</td><td>551952</td><td>8.069935870690845</td><td>1.0</td><td>21</td><td>28</td><td>61</td><td>0.6049628981027872</td><td>4</td></tr>\n",
       "</table></div>"
      ],
      "text/plain": [
       "<Table length=906>\n",
       "CATAID       OBJID               RA            DEC      R_PETRO   ZGAMA    NQ       SPECID     ...    rBOUND_DIST        rFILLFACTOR     DDP1_N8 DDP2_N8 DDP3_N8     DDP1_DELTA8      DDP1_DELTA8_TIER\n",
       "                                deg            deg        mag                                  ...                                                                                                    \n",
       "int32        int64            float64        float64    float32  float32 int16     bytes33     ...      float64            float64        int64   int64   int64        float64             int64      \n",
       "------ ------------------ ---------------- ----------- --------- ------- ----- --------------- ... ------------------ ------------------ ------- ------- ------- -------------------- ----------------\n",
       "278617 587726031690989899 1.3274706519e+02  0.81545433 19.182756  0.0449     4  G09_Y2_012_182 ...  4.927176919172937 0.8885924235222281       4       7      19  -0.6606866454747917                1\n",
       " 78180 587722983366394701      215.9447985  0.02364557  19.66574 0.04662     4  G15_Y6_075_302 ...  5.254005815828465 0.9133243864660662       1      10      15  -0.9164366263979947                0\n",
       " 54214 587722982812549325     177.09954495 -0.26436877 18.322176 0.04676     4       2dF291424 ...  5.492852720775617 0.9039211892431144      20      34      59   0.6802619920075184                4\n",
       " 54216 587722982812549328     177.10448338 -0.37071999 19.219475 0.04683     4 G12_Y1_CND1_167 ...  5.224845326201509 0.9052034434098806      19      34      58   0.5901361190126804                4\n",
       " 40172 587722982276923556     179.87645226 -0.80447162 18.761398 0.04726     4  G12_Y1_ES1_279 ...  5.187072186349016  0.911517573776532      17      26      32   0.4016410837251849                4\n",
       " 55383 587722982814646452       181.871878 -0.27042178 18.602032 0.04729     4       2dF296759 ...  5.801070528160622 0.9223293077735831      11      20      32 -0.09282760728368944                3\n",
       " 54941 587722982813794547     179.97690307 -0.26637789 19.063278 0.04733     4  G12_Y6_054_287 ...  6.095105608750245 0.9285365836263374      17      28      36   0.3949749559177309                4\n",
       "583985 588848899911647383     177.63172766 -0.00776332 19.765614 0.04737     4  G12_Y1_CD1_396 ...   4.22496552440947 0.8620147917019843      17      29      45   0.4376176831913672                4\n",
       " 79036 587722983368098080     219.83103783  0.20115541 18.990782 0.04746     4        MGC66140 ...  4.824481817125505 0.8942557127587786       2       7      13   -0.833952582175172                0\n",
       "584043 588848899911713116     177.87244826 -0.03083848 18.978224 0.04748     4  G12_Y3_023_237 ...  5.377667189845121 0.9210081974199452      18      27      41   0.5101072459454898                4\n",
       " 55530 587722982814974120     182.63511722 -0.36282709  18.97975  0.0475     4  G12_Y1_GN1_093 ...  6.112517795567855 0.9273028996931608       7      12      28  -0.4261730926519961                2\n",
       "   ...                ...              ...         ...       ...     ...   ...             ... ...                ...                ...     ...     ...     ...                  ...              ...\n",
       "  7263 588848900984865397     176.48185398  0.63608342 19.688787 0.08866     4  G12_Y2_015_109 ...   6.36496171569392  0.970248700233109       1       6      18  -0.9203065237290223                0\n",
       "319284 587726032263381884     213.95939102  1.82206849 19.672518 0.08894     4  G15_Y4_218_094 ... 5.1429994289697385 0.9139849416428852       3      11      15  -0.7522777471229218                0\n",
       " 31847 587722981740904877     181.92819806 -1.24224958   19.7609 0.08902     4  G12_Y2_004_213 ...  7.700704298633547 0.9985360042757078       2       8      13  -0.8471463906568775                0\n",
       "  7197 588848900984668449     176.01818228  0.67936622 19.670273 0.08911     4  G12_Y3_021_231 ...  6.383782246655588 0.9719000881751566       1       6      18  -0.9191169221217205                0\n",
       " 32294 587722981741887704     184.07552651 -1.14524157 19.767826  0.0892     4  G12_Y2_043_065 ...  8.210598923093993                1.0       9      19      52  -0.3121587579559484                3\n",
       "537076 588848898840658242     183.99115292 -0.99746627  19.68929 0.08937     4  G12_Y2_013_319 ...  8.487772340550627                1.0       8      17      51 -0.38858556262750965                3\n",
       "203480 587725074452906328     134.05943411 -0.31348767 19.773933 0.09012     4  G09_Y5_004_137 ...  7.769649507990272 0.9975257434170438       3       9      24  -0.7717402010161308                0\n",
       "759727 587722983350796628     180.27596952  0.10209415 19.794008 0.09073     3  G12_Y6_054_331 ...  9.472824919998013                1.0       8      14      19 -0.38858556262750965                3\n",
       "177572 587725041164353975     176.98365439 -1.92092872 19.768322 0.09178     4  G12_Y3_027_170 ...  4.791423612157394  0.896460801363748      18      34      85   0.5033742837024209                4\n",
       "618966 588848900465951323     217.46196316  0.29978199  19.75658 0.09186     4  G15_Y3_049_285 ...  10.81302400215523                1.0      10      16      37   -0.235731953284387                3\n",
       "609565 588848900447863493     176.17555875  0.24747227  19.77434 0.09324     4  G12_Y1_BD1_316 ...  8.069935870690845                1.0      21      28      61   0.6049628981027872                4"
      ]
     },
     "execution_count": 16,
     "metadata": {},
     "output_type": "execute_result"
    }
   ],
   "source": [
    "fpath = findfile(ftype='ddp_n8', dryrun=dryrun, version=version, survey=survey)\n",
    "ddp   = Table.read(fpath)\n",
    "ddp   = ddp[(ddp['MCOLOR_0P0'] > -17.5) & (ddp['FILLFACTOR'] > 0.9)]\n",
    "ddp.sort('ZGAMA')\n",
    "ddp"
   ]
  },
  {
   "cell_type": "markdown",
   "id": "3c59d3ae",
   "metadata": {},
   "source": [
    "##  Cobaya"
   ]
  },
  {
   "cell_type": "code",
   "execution_count": null,
   "id": "8768064c",
   "metadata": {},
   "outputs": [],
   "source": [
    "# root = '/cosma/home/durham/{}/data/GAMA4/cobaya/'.format(os.environ['USER'])"
   ]
  },
  {
   "cell_type": "code",
   "execution_count": null,
   "id": "93af258f",
   "metadata": {},
   "outputs": [],
   "source": [
    "# dat = Table.read(root + 'schechter_chain.1.txt', format='ascii')        "
   ]
  },
  {
   "cell_type": "code",
   "execution_count": null,
   "id": "12fc4bd2",
   "metadata": {},
   "outputs": [],
   "source": [
    "# samples = np.c_[dat['log10phistar'], dat['Mstar'], dat['alpha']]"
   ]
  },
  {
   "cell_type": "code",
   "execution_count": null,
   "id": "c8df5dce",
   "metadata": {},
   "outputs": [],
   "source": [
    "# samples = MCSamples(samples=samples, names=['log10phistar', 'Mstar', 'alpha'], labels=['log10phistar', 'Mstar', 'alpha'])"
   ]
  },
  {
   "cell_type": "code",
   "execution_count": null,
   "id": "dac1172a",
   "metadata": {},
   "outputs": [],
   "source": [
    "# tmr_ref = {'log10phistar': -2.01, 'Mstar': -20.89, 'alpha': -1.25}"
   ]
  },
  {
   "cell_type": "code",
   "execution_count": null,
   "id": "9df1378c",
   "metadata": {},
   "outputs": [],
   "source": [
    "# g = plots.get_subplot_plotter()"
   ]
  },
  {
   "cell_type": "code",
   "execution_count": null,
   "id": "661aa632",
   "metadata": {},
   "outputs": [],
   "source": [
    "# g.triangle_plot([samples], filled=True)        "
   ]
  },
  {
   "cell_type": "markdown",
   "id": "a29d0627",
   "metadata": {},
   "source": [
    "# Done."
   ]
  }
 ],
 "metadata": {
  "kernelspec": {
   "display_name": "lumfn",
   "language": "python",
   "name": "lumfn"
  },
  "language_info": {
   "codemirror_mode": {
    "name": "ipython",
    "version": 3
   },
   "file_extension": ".py",
   "mimetype": "text/x-python",
   "name": "python",
   "nbconvert_exporter": "python",
   "pygments_lexer": "ipython3",
   "version": "3.9.9"
  }
 },
 "nbformat": 4,
 "nbformat_minor": 5
}
