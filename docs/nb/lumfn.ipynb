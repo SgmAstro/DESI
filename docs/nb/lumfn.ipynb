{
 "cells": [
  {
   "cell_type": "code",
   "execution_count": 1,
   "id": "f89886a0",
   "metadata": {},
   "outputs": [],
   "source": [
    "import os\n",
    "import sys\n",
    "import pylab as pl\n",
    "import numpy as np\n",
    "import matplotlib.pyplot as plt\n",
    "import numpy as np\n",
    "\n",
    "# from   getdist     import plots, MCSamples \n",
    "from   astropy.table import Table"
   ]
  },
  {
   "cell_type": "code",
   "execution_count": 2,
   "id": "b9fda612",
   "metadata": {},
   "outputs": [],
   "source": [
    "sys.path.append(os.environ['HOME'])\n",
    "sys.path.append(os.environ['HOME'] + '/DESI/')"
   ]
  },
  {
   "cell_type": "code",
   "execution_count": 3,
   "id": "62379c3e",
   "metadata": {},
   "outputs": [],
   "source": [
    "import pubplot\n",
    "\n",
    "from   schechter     import schechter, named_schechter\n",
    "from   findfile      import findfile"
   ]
  },
  {
   "cell_type": "code",
   "execution_count": 4,
   "id": "f45437b4",
   "metadata": {},
   "outputs": [],
   "source": [
    "version = 'GAMA4'\n",
    "survey  = 'gama'\n",
    "dryrun  =  False"
   ]
  },
  {
   "cell_type": "code",
   "execution_count": 5,
   "id": "81a33d64",
   "metadata": {},
   "outputs": [
    {
     "data": {
      "text/plain": [
       "'/cosma/home/durham/dc-wils7/data/GAMA4/gama_gold.fits'"
      ]
     },
     "execution_count": 5,
     "metadata": {},
     "output_type": "execute_result"
    }
   ],
   "source": [
    "fpath = findfile(ftype='gold', dryrun=dryrun, version=version, survey=survey)\n",
    "fpath"
   ]
  },
  {
   "cell_type": "code",
   "execution_count": 6,
   "id": "7d613a1e",
   "metadata": {},
   "outputs": [
    {
     "data": {
      "text/plain": [
       "OrderedDict([('AREA', 180.0),\n",
       "             ('GOLD_NGAL', 121975),\n",
       "             ('IMMUTABLE', 'FALSE'),\n",
       "             ('RLIM', 19.8),\n",
       "             ('RMAX', 12.0),\n",
       "             ('MAX_SEP', 70.0)])"
      ]
     },
     "execution_count": 6,
     "metadata": {},
     "output_type": "execute_result"
    }
   ],
   "source": [
    "gold = Table.read(fpath)\n",
    "gold.meta"
   ]
  },
  {
   "cell_type": "markdown",
   "id": "a2823254",
   "metadata": {},
   "source": [
    "##  VMAX"
   ]
  },
  {
   "cell_type": "code",
   "execution_count": 7,
   "id": "7476feb2",
   "metadata": {},
   "outputs": [
    {
     "data": {
      "text/html": [
       "<div><i>Table length=78886</i>\n",
       "<table id=\"table140103806184416\" class=\"table-striped table-bordered table-condensed\">\n",
       "<thead><tr><th>FILLFACTOR</th><th>ZMIN</th><th>RA</th><th>ZMAX</th><th>ZSURV</th><th>FIELD</th><th>FILLFACTOR_VMAX</th><th>MALL_0P0</th><th>DEC</th><th>IN_D8LUMFN</th><th>MCOLOR_0P0</th><th>VMAX</th><th>VZ</th></tr></thead>\n",
       "<thead><tr><th></th><th></th><th>deg</th><th></th><th></th><th></th><th></th><th>mag</th><th>deg</th><th></th><th>mag</th><th></th><th></th></tr></thead>\n",
       "<thead><tr><th>float64</th><th>float64</th><th>float64</th><th>float64</th><th>float32</th><th>bytes3</th><th>float64</th><th>float64</th><th>float64</th><th>int64</th><th>float64</th><th>float64</th><th>float64</th></tr></thead>\n",
       "<tr><td>1.0</td><td>0.039663288528705265</td><td>179.0450651</td><td>0.2715100049972534</td><td>0.2563</td><td>G12</td><td>0.7013097221172861</td><td>-23.417599538706114</td><td>-0.35024037</td><td>0</td><td>-23.461170534036924</td><td>5829093.1996189905</td><td>7057360.164928085</td></tr>\n",
       "<tr><td>0.9151988682115066</td><td>0.03933423422922606</td><td>182.1835035</td><td>0.2715100049972534</td><td>0.10734</td><td>G12</td><td>0.7013097221172861</td><td>-23.424384233236342</td><td>-2.07231294</td><td>0</td><td>-23.442632031321555</td><td>5829609.276951776</td><td>542685.7058376006</td></tr>\n",
       "<tr><td>1.0</td><td>0.0339096951732739</td><td>213.78496641</td><td>0.2715100049972534</td><td>0.13893</td><td>G15</td><td>0.7013097221172861</td><td>-23.084321237531245</td><td>-0.49323659</td><td>0</td><td>-23.107939332154334</td><td>5836951.788426281</td><td>1197624.720649519</td></tr>\n",
       "<tr><td>1.0</td><td>0.03350598251431382</td><td>178.51993046</td><td>0.2715100049972534</td><td>0.22878</td><td>G12</td><td>0.7013097221172861</td><td>-23.04342428919923</td><td>0.60517927</td><td>0</td><td>-23.082316886159298</td><td>5837414.992037058</td><td>5113702.10723849</td></tr>\n",
       "<tr><td>1.0</td><td>0.03294944890178139</td><td>180.52796941</td><td>0.2715100049972534</td><td>0.24896</td><td>G12</td><td>0.7013097221172861</td><td>-23.002885748988877</td><td>-0.24151196</td><td>0</td><td>-23.045208950883637</td><td>5838035.713037828</td><td>6509724.129936825</td></tr>\n",
       "<tr><td>1.0</td><td>0.03247041721586893</td><td>184.98709908</td><td>0.2715100049972534</td><td>0.20644</td><td>G12</td><td>0.7013097221172861</td><td>-22.975296822537118</td><td>-0.85050901</td><td>0</td><td>-23.010391635049515</td><td>5838553.677019037</td><td>3808591.37975736</td></tr>\n",
       "<tr><td>1.0004493115365345</td><td>0.03194881372599459</td><td>222.36929583</td><td>0.2715100049972534</td><td>0.20233</td><td>G15</td><td>0.7013097221172861</td><td>-22.94180678796959</td><td>-1.27151016</td><td>0</td><td>-22.976202885033608</td><td>5839100.765374831</td><td>3594903.0128969736</td></tr>\n",
       "<tr><td>0.947391207452521</td><td>0.031541209667382365</td><td>179.83440251</td><td>0.2715100049972534</td><td>0.08135</td><td>G12</td><td>0.7013097221172861</td><td>-22.93521803910806</td><td>-1.64817036</td><td>0</td><td>-22.94904753859117</td><td>5839516.186144442</td><td>237729.406562157</td></tr>\n",
       "<tr><td>1.0</td><td>0.03105122891707608</td><td>183.77207804</td><td>0.2715100049972534</td><td>0.19885</td><td>G12</td><td>0.7013097221172861</td><td>-22.877383554444062</td><td>-1.4609492</td><td>0</td><td>-22.911188045606362</td><td>5840001.715001681</td><td>3420689.3079891372</td></tr>\n",
       "<tr><td>1.0</td><td>0.03013485689717856</td><td>130.46404172</td><td>0.2715100049972534</td><td>0.24565</td><td>G9</td><td>0.7013097221172861</td><td>-22.802359128178413</td><td>-0.56800756</td><td>0</td><td>-22.84411963242417</td><td>5840869.931559757</td><td>6270429.765380444</td></tr>\n",
       "<tr><td>1.0</td><td>0.029814011195731755</td><td>180.67664245</td><td>0.2715100049972534</td><td>0.24803</td><td>G12</td><td>0.7013097221172861</td><td>-22.777565891260902</td><td>-1.3960721</td><td>0</td><td>-22.819730991835396</td><td>5841161.868949175</td><td>6445228.459982727</td></tr>\n",
       "<tr><td>...</td><td>...</td><td>...</td><td>...</td><td>...</td><td>...</td><td>...</td><td>...</td><td>...</td><td>...</td><td>...</td><td>...</td><td>...</td></tr>\n",
       "<tr><td>0.9247769148293824</td><td>0.01882999949157238</td><td>135.60445694</td><td>0.05316317378397626</td><td>0.05233</td><td>G9</td><td>0.06482571062472216</td><td>-16.320640495396574</td><td>1.03416237</td><td>0</td><td>-16.26046100480052</td><td>4441.740794594568</td><td>65229.75820404849</td></tr>\n",
       "<tr><td>0.9744739599582387</td><td>0.01882999949157238</td><td>214.64457514</td><td>0.053294166630284016</td><td>0.05285</td><td>G15</td><td>0.06482571062472216</td><td>-16.314324218326394</td><td>0.55082816</td><td>0</td><td>-16.253546725505178</td><td>4475.858313065301</td><td>67270.20211050057</td></tr>\n",
       "<tr><td>0.9704134898910256</td><td>0.01882999949157238</td><td>132.904672</td><td>0.05309816966835318</td><td>0.05233</td><td>G9</td><td>0.06482571062472216</td><td>-16.313022316258305</td><td>0.48358543</td><td>0</td><td>-16.25284282566225</td><td>4424.87124339236</td><td>65229.75820404849</td></tr>\n",
       "<tr><td>0.9622925497565995</td><td>0.01882999949157238</td><td>134.61289881</td><td>0.05253879813860891</td><td>0.05228</td><td>G9</td><td>0.06482571062472216</td><td>-16.291535193019815</td><td>0.28358843</td><td>0</td><td>-16.231413194828935</td><td>4281.3702409166</td><td>65035.65216574583</td></tr>\n",
       "<tr><td>0.9353846500288959</td><td>0.01882999949157238</td><td>178.16824812</td><td>0.05282935789416516</td><td>0.05147</td><td>G12</td><td>0.06482571062472216</td><td>-16.289546708111217</td><td>-0.93067831</td><td>0</td><td>-16.230356211308887</td><td>4355.53887533978</td><td>61941.33549229019</td></tr>\n",
       "<tr><td>0.964313070746983</td><td>0.01882999949157238</td><td>131.92992534</td><td>0.05266538171806199</td><td>0.05243</td><td>G9</td><td>0.06482571062472216</td><td>-16.290529942763868</td><td>0.70406309</td><td>0</td><td>-16.2302354524563</td><td>4313.583650526632</td><td>65619.0904445583</td></tr>\n",
       "<tr><td>0.9641576460554151</td><td>0.01882999949157238</td><td>132.50118613</td><td>0.05232077264271665</td><td>0.05129</td><td>G9</td><td>0.041097553572512595</td><td>-16.27433881430849</td><td>0.51596786</td><td>0</td><td>-16.215355316986884</td><td>2679.310333978928</td><td>61266.52478695648</td></tr>\n",
       "<tr><td>0.9587566380234284</td><td>0.01882999949157238</td><td>136.390158</td><td>0.05226070784488128</td><td>0.0515</td><td>G9</td><td>0.041097553572512595</td><td>-16.270013593628455</td><td>0.38899142</td><td>0</td><td>-16.21078860063796</td><td>2669.7318207473336</td><td>62054.25464347703</td></tr>\n",
       "<tr><td>0.9444381383127297</td><td>0.01882999949157238</td><td>137.14373517</td><td>0.05202247519531786</td><td>0.05108</td><td>G9</td><td>0.041097553572512595</td><td>-16.26199610646543</td><td>0.19402926</td><td>0</td><td>-16.20325411598858</td><td>2631.9528539135786</td><td>60485.07596383315</td></tr>\n",
       "<tr><td>0.9231643836543647</td><td>0.01882999949157238</td><td>177.07764561</td><td>0.050918943437983206</td><td>0.04836</td><td>G12</td><td>0.041097553572512595</td><td>-16.21376169680054</td><td>-0.20845646</td><td>0</td><td>-16.15814769847686</td><td>2461.332977269159</td><td>50921.44984369715</td></tr>\n",
       "<tr><td>0.905212831778265</td><td>0.01882999949157238</td><td>220.66746929</td><td>0.05070431440385727</td><td>0.0496</td><td>G15</td><td>0.041097553572512595</td><td>-16.19968659596545</td><td>0.96364521</td><td>0</td><td>-16.142646601219003</td><td>2428.977338180774</td><td>55154.226616850996</td></tr>\n",
       "</table></div>"
      ],
      "text/plain": [
       "<Table length=78886>\n",
       "    FILLFACTOR             ZMIN              RA              ZMAX          ZSURV  FIELD  ...       MALL_0P0          DEC     IN_D8LUMFN      MCOLOR_0P0            VMAX                VZ        \n",
       "                                            deg                                          ...         mag             deg                        mag                                              \n",
       "     float64             float64          float64          float64        float32 bytes3 ...       float64         float64     int64          float64            float64            float64      \n",
       "------------------ -------------------- ------------ -------------------- ------- ------ ... ------------------- ----------- ---------- ------------------- ------------------ ------------------\n",
       "               1.0 0.039663288528705265  179.0450651   0.2715100049972534  0.2563    G12 ... -23.417599538706114 -0.35024037          0 -23.461170534036924 5829093.1996189905  7057360.164928085\n",
       "0.9151988682115066  0.03933423422922606  182.1835035   0.2715100049972534 0.10734    G12 ... -23.424384233236342 -2.07231294          0 -23.442632031321555  5829609.276951776  542685.7058376006\n",
       "               1.0   0.0339096951732739 213.78496641   0.2715100049972534 0.13893    G15 ... -23.084321237531245 -0.49323659          0 -23.107939332154334  5836951.788426281  1197624.720649519\n",
       "               1.0  0.03350598251431382 178.51993046   0.2715100049972534 0.22878    G12 ...  -23.04342428919923  0.60517927          0 -23.082316886159298  5837414.992037058   5113702.10723849\n",
       "               1.0  0.03294944890178139 180.52796941   0.2715100049972534 0.24896    G12 ... -23.002885748988877 -0.24151196          0 -23.045208950883637  5838035.713037828  6509724.129936825\n",
       "               1.0  0.03247041721586893 184.98709908   0.2715100049972534 0.20644    G12 ... -22.975296822537118 -0.85050901          0 -23.010391635049515  5838553.677019037   3808591.37975736\n",
       "1.0004493115365345  0.03194881372599459 222.36929583   0.2715100049972534 0.20233    G15 ...  -22.94180678796959 -1.27151016          0 -22.976202885033608  5839100.765374831 3594903.0128969736\n",
       " 0.947391207452521 0.031541209667382365 179.83440251   0.2715100049972534 0.08135    G12 ...  -22.93521803910806 -1.64817036          0  -22.94904753859117  5839516.186144442   237729.406562157\n",
       "               1.0  0.03105122891707608 183.77207804   0.2715100049972534 0.19885    G12 ... -22.877383554444062  -1.4609492          0 -22.911188045606362  5840001.715001681 3420689.3079891372\n",
       "               1.0  0.03013485689717856 130.46404172   0.2715100049972534 0.24565     G9 ... -22.802359128178413 -0.56800756          0  -22.84411963242417  5840869.931559757  6270429.765380444\n",
       "               1.0 0.029814011195731755 180.67664245   0.2715100049972534 0.24803    G12 ... -22.777565891260902  -1.3960721          0 -22.819730991835396  5841161.868949175  6445228.459982727\n",
       "               ...                  ...          ...                  ...     ...    ... ...                 ...         ...        ...                 ...                ...                ...\n",
       "0.9247769148293824  0.01882999949157238 135.60445694  0.05316317378397626 0.05233     G9 ... -16.320640495396574  1.03416237          0  -16.26046100480052  4441.740794594568  65229.75820404849\n",
       "0.9744739599582387  0.01882999949157238 214.64457514 0.053294166630284016 0.05285    G15 ... -16.314324218326394  0.55082816          0 -16.253546725505178  4475.858313065301  67270.20211050057\n",
       "0.9704134898910256  0.01882999949157238   132.904672  0.05309816966835318 0.05233     G9 ... -16.313022316258305  0.48358543          0  -16.25284282566225   4424.87124339236  65229.75820404849\n",
       "0.9622925497565995  0.01882999949157238 134.61289881  0.05253879813860891 0.05228     G9 ... -16.291535193019815  0.28358843          0 -16.231413194828935    4281.3702409166  65035.65216574583\n",
       "0.9353846500288959  0.01882999949157238 178.16824812  0.05282935789416516 0.05147    G12 ... -16.289546708111217 -0.93067831          0 -16.230356211308887   4355.53887533978  61941.33549229019\n",
       " 0.964313070746983  0.01882999949157238 131.92992534  0.05266538171806199 0.05243     G9 ... -16.290529942763868  0.70406309          0   -16.2302354524563  4313.583650526632   65619.0904445583\n",
       "0.9641576460554151  0.01882999949157238 132.50118613  0.05232077264271665 0.05129     G9 ...  -16.27433881430849  0.51596786          0 -16.215355316986884  2679.310333978928  61266.52478695648\n",
       "0.9587566380234284  0.01882999949157238   136.390158  0.05226070784488128  0.0515     G9 ... -16.270013593628455  0.38899142          0  -16.21078860063796 2669.7318207473336  62054.25464347703\n",
       "0.9444381383127297  0.01882999949157238 137.14373517  0.05202247519531786 0.05108     G9 ...  -16.26199610646543  0.19402926          0  -16.20325411598858 2631.9528539135786  60485.07596383315\n",
       "0.9231643836543647  0.01882999949157238 177.07764561 0.050918943437983206 0.04836    G12 ...  -16.21376169680054 -0.20845646          0  -16.15814769847686  2461.332977269159  50921.44984369715\n",
       " 0.905212831778265  0.01882999949157238 220.66746929  0.05070431440385727  0.0496    G15 ...  -16.19968659596545  0.96364521          0 -16.142646601219003  2428.977338180774 55154.226616850996"
      ]
     },
     "execution_count": 7,
     "metadata": {},
     "output_type": "execute_result"
    }
   ],
   "source": [
    "fpath = findfile(ftype='vmax', dryrun=dryrun, version=version, survey=survey)\n",
    "vmax  = Table.read(fpath)\n",
    "vmax.sort('MCOLOR_0P0')\n",
    "vmax"
   ]
  },
  {
   "cell_type": "markdown",
   "id": "22fb516c",
   "metadata": {},
   "source": [
    "##  LUMFN"
   ]
  },
  {
   "cell_type": "code",
   "execution_count": 13,
   "id": "090e2099",
   "metadata": {},
   "outputs": [
    {
     "data": {
      "text/html": [
       "<div><i>Table length=34</i>\n",
       "<table id=\"table140103814954576\" class=\"table-striped table-bordered table-condensed\">\n",
       "<thead><tr><th>MEDIAN_M</th><th>MEAN_M</th><th>MID_M</th><th>IVMAXMEAN_M</th><th>PHI_N</th><th>PHI_N_ERROR</th><th>PHI_IVMAX</th><th>PHI_IVMAX_ERROR</th><th>N</th><th>V_ON_VMAX</th></tr></thead>\n",
       "<thead><tr><th>float64</th><th>float64</th><th>float64</th><th>float64</th><th>float64</th><th>float64</th><th>float64</th><th>float64</th><th>float64</th><th>float64</th></tr></thead>\n",
       "<tr><td>-22.831925312129783</td><td>-22.864672608757225</td><td>-22.7</td><td>-22.864682184297706</td><td>4.914395182202463e-06</td><td>1.7375010793829303e-06</td><td>6.848633004974947e-06</td><td>2.4213574455130194e-06</td><td>8.0</td><td>0.7176265099844633</td></tr>\n",
       "<tr><td>-22.704044909575536</td><td>-22.69803884734222</td><td>-22.5</td><td>-22.698044339625408</td><td>3.194356868431601e-05</td><td>4.429775954331044e-06</td><td>4.450162559544417e-05</td><td>6.171265141827296e-06</td><td>52.0</td><td>0.7178041712472061</td></tr>\n",
       "<tr><td>-22.46463274592758</td><td>-22.481083738461145</td><td>-22.299999999999997</td><td>-22.481088482250815</td><td>5.590124519755302e-05</td><td>5.860042769446878e-06</td><td>7.785198598263439e-05</td><td>8.161105667388297e-06</td><td>91.0</td><td>0.7180634837774518</td></tr>\n",
       "<tr><td>-22.285094947604357</td><td>-22.290579952100963</td><td>-22.099999999999998</td><td>-22.290583500868948</td><td>0.00011364538858843197</td><td>8.355375142374793e-06</td><td>0.0001582355422751188</td><td>1.1633708462979465e-05</td><td>185.0</td><td>0.7182102458845068</td></tr>\n",
       "<tr><td>-22.09683320928304</td><td>-22.09626631811732</td><td>-21.9</td><td>-22.096268996367463</td><td>0.00022606217838131332</td><td>1.1784305666411362e-05</td><td>0.0003147053430762731</td><td>1.6405150070484102e-05</td><td>368.0</td><td>0.7183311141581933</td></tr>\n",
       "<tr><td>-21.885558642098573</td><td>-21.89021627030132</td><td>-21.7</td><td>-21.890218247842146</td><td>0.0003974517103606242</td><td>1.5625439076048313e-05</td><td>0.0005532213258165438</td><td>2.174937458306019e-05</td><td>647.0</td><td>0.7184347788966676</td></tr>\n",
       "<tr><td>-21.687855113067435</td><td>-21.691249562583632</td><td>-21.5</td><td>-21.69124956679765</td><td>0.000644400068266298</td><td>1.9896094437410427e-05</td><td>0.000896906413935858</td><td>2.7692322816165894e-05</td><td>1049.0</td><td>0.7184697138090647</td></tr>\n",
       "<tr><td>-21.48999970826809</td><td>-21.493036737717073</td><td>-21.299999999999997</td><td>-21.49303673771708</td><td>0.001057209263571305</td><td>2.54841718314394e-05</td><td>0.0014714736658367495</td><td>3.5470071099213916e-05</td><td>1721.0</td><td>0.7184697138090647</td></tr>\n",
       "<tr><td>-21.28914781181131</td><td>-21.29347549148593</td><td>-21.099999999999998</td><td>--</td><td>0.0014288603992253662</td><td>2.9626813577385068e-05</td><td>--</td><td>--</td><td>2326.0</td><td>--</td></tr>\n",
       "<tr><td>-21.091935576950743</td><td>-21.094735268436295</td><td>-20.9</td><td>-21.094735268436303</td><td>0.001931357306605568</td><td>3.4444616855711155e-05</td><td>0.002688154099587879</td><td>4.7941640675566324e-05</td><td>3144.0</td><td>0.7184697138090647</td></tr>\n",
       "<tr><td>-20.89382783523582</td><td>-20.896316557606365</td><td>-20.7</td><td>-20.896316557606372</td><td>0.002489141159785548</td><td>3.9103425878482736e-05</td><td>0.0034645039476876864</td><td>5.442599058375142e-05</td><td>4052.0</td><td>0.7184697138090647</td></tr>\n",
       "<tr><td>...</td><td>...</td><td>...</td><td>...</td><td>...</td><td>...</td><td>...</td><td>...</td><td>...</td><td>...</td></tr>\n",
       "<tr><td>-18.502978375579513</td><td>-18.502980879396137</td><td>-18.299999999999997</td><td>-18.497854663957376</td><td>0.0011941980292751986</td><td>2.7084961329273002e-05</td><td>0.012884616722865448</td><td>0.00029914227452253997</td><td>1944.0</td><td>0.09847154327006456</td></tr>\n",
       "<tr><td>-18.305216279020996</td><td>-18.30360006456548</td><td>-18.099999999999998</td><td>-18.29813036382141</td><td>0.0009398780785962211</td><td>2.4028452668947954e-05</td><td>0.013946366716648988</td><td>0.0003633476144243478</td><td>1530.0</td><td>0.07077726007780319</td></tr>\n",
       "<tr><td>-18.106562933759204</td><td>-18.104899592575393</td><td>-17.9</td><td>-18.098903936079672</td><td>0.000602627709217577</td><td>1.9240422003040133e-05</td><td>0.012566774958662444</td><td>0.0004079345707454136</td><td>981.0</td><td>0.04954760065819229</td></tr>\n",
       "<tr><td>-17.907083663407874</td><td>-17.90514259761293</td><td>-17.7</td><td>-17.899026826788592</td><td>0.00043799547061379457</td><td>1.6403059282535273e-05</td><td>0.012991622863360065</td><td>0.000493155551994114</td><td>713.0</td><td>0.034872322892804515</td></tr>\n",
       "<tr><td>-17.707447757851718</td><td>-17.702590520844215</td><td>-17.5</td><td>-17.695497708949777</td><td>0.0003261929802186885</td><td>1.415556962142016e-05</td><td>0.01417545641437741</td><td>0.0006242273591541588</td><td>531.0</td><td>0.023793383703213933</td></tr>\n",
       "<tr><td>-17.510843150907235</td><td>-17.503544796258293</td><td>-17.299999999999997</td><td>-17.496413242683023</td><td>0.0002322051723590664</td><td>1.194334532450963e-05</td><td>0.014685124845280539</td><td>0.0007645950080978322</td><td>378.0</td><td>0.016080690766276513</td></tr>\n",
       "<tr><td>-17.307723771578587</td><td>-17.30694226538203</td><td>-17.099999999999998</td><td>-17.299600553871432</td><td>0.0001861327175259183</td><td>1.0693045229608501e-05</td><td>0.017764818656432244</td><td>0.0010329705067053888</td><td>303.0</td><td>0.010641647675038201</td></tr>\n",
       "<tr><td>-17.103830425361988</td><td>-17.106533414894734</td><td>-16.9</td><td>-17.09942843326344</td><td>0.00010688809521290358</td><td>8.103165586277774e-06</td><td>0.015648913280768537</td><td>0.0011989505899813527</td><td>174.0</td><td>0.00688522281048156</td></tr>\n",
       "<tr><td>-16.910287228004705</td><td>-16.904019609210188</td><td>-16.7</td><td>-16.895002133580043</td><td>6.0201340981980175e-05</td><td>6.081253777840256e-06</td><td>0.014708047173204526</td><td>0.0015062499483414697</td><td>98.0</td><td>0.004172055120406902</td></tr>\n",
       "<tr><td>-16.723243955822213</td><td>-16.70916683590712</td><td>-16.5</td><td>-16.701078054158216</td><td>4.545815543537279e-05</td><td>5.2844032310116e-06</td><td>0.018542704840575405</td><td>0.0021895096793836614</td><td>74.0</td><td>0.002631168829984729</td></tr>\n",
       "<tr><td>-16.506796807989886</td><td>-16.50723616392713</td><td>-16.299999999999997</td><td>-16.494219173639284</td><td>3.378646687764194e-05</td><td>4.555766264405016e-06</td><td>0.026669408547768378</td><td>0.0037259574696624264</td><td>55.0</td><td>0.0012328541135791366</td></tr>\n",
       "<tr><td>-16.316285874181208</td><td>-16.30788096987826</td><td>-16.099999999999998</td><td>-16.293350007102475</td><td>2.33433771154617e-05</td><td>3.7867958096615173e-06</td><td>0.037826481375554895</td><td>0.006420155188727258</td><td>38.0</td><td>0.0006036456306629296</td></tr>\n",
       "</table></div>"
      ],
      "text/plain": [
       "<Table length=34>\n",
       "        MEDIAN_M               MEAN_M              MID_M            IVMAXMEAN_M             PHI_N          ...       PHI_IVMAX          PHI_IVMAX_ERROR        N          V_ON_VMAX      \n",
       "        float64               float64             float64             float64              float64         ...        float64               float64         float64        float64       \n",
       "----------------------- ------------------- ------------------- ------------------- ---------------------- ... --------------------- ---------------------- ------- ---------------------\n",
       "-2.2831925312129783e+01 -22.864672608757225               -22.7 -22.864682184297706  4.914395182202463e-06 ... 6.848633004974947e-06 2.4213574455130194e-06     8.0    0.7176265099844633\n",
       "    -22.704044909575536  -22.69803884734222               -22.5 -22.698044339625408  3.194356868431601e-05 ... 4.450162559544417e-05  6.171265141827296e-06    52.0    0.7178041712472061\n",
       "     -22.46463274592758 -22.481083738461145 -22.299999999999997 -22.481088482250815  5.590124519755302e-05 ... 7.785198598263439e-05  8.161105667388297e-06    91.0    0.7180634837774518\n",
       "    -22.285094947604357 -22.290579952100963 -22.099999999999998 -22.290583500868948 0.00011364538858843197 ... 0.0001582355422751188 1.1633708462979465e-05   185.0    0.7182102458845068\n",
       "     -22.09683320928304  -22.09626631811732               -21.9 -22.096268996367463 0.00022606217838131332 ... 0.0003147053430762731 1.6405150070484102e-05   368.0    0.7183311141581933\n",
       "    -21.885558642098573  -21.89021627030132               -21.7 -21.890218247842146  0.0003974517103606242 ... 0.0005532213258165438  2.174937458306019e-05   647.0    0.7184347788966676\n",
       "    -21.687855113067435 -21.691249562583632               -21.5  -21.69124956679765   0.000644400068266298 ...  0.000896906413935858 2.7692322816165894e-05  1049.0    0.7184697138090647\n",
       "     -21.48999970826809 -21.493036737717073 -21.299999999999997  -21.49303673771708   0.001057209263571305 ... 0.0014714736658367495 3.5470071099213916e-05  1721.0    0.7184697138090647\n",
       "     -21.28914781181131  -21.29347549148593 -21.099999999999998                  --  0.0014288603992253662 ...                    --                     --  2326.0                    --\n",
       "    -21.091935576950743 -21.094735268436295               -20.9 -21.094735268436303   0.001931357306605568 ...  0.002688154099587879 4.7941640675566324e-05  3144.0    0.7184697138090647\n",
       "     -20.89382783523582 -20.896316557606365               -20.7 -20.896316557606372   0.002489141159785548 ... 0.0034645039476876864  5.442599058375142e-05  4052.0    0.7184697138090647\n",
       "                    ...                 ...                 ...                 ...                    ... ...                   ...                    ...     ...                   ...\n",
       "    -18.502978375579513 -18.502980879396137 -18.299999999999997 -18.497854663957376  0.0011941980292751986 ...  0.012884616722865448 0.00029914227452253997  1944.0   0.09847154327006456\n",
       "    -18.305216279020996  -18.30360006456548 -18.099999999999998  -18.29813036382141  0.0009398780785962211 ...  0.013946366716648988  0.0003633476144243478  1530.0   0.07077726007780319\n",
       "    -18.106562933759204 -18.104899592575393               -17.9 -18.098903936079672   0.000602627709217577 ...  0.012566774958662444  0.0004079345707454136   981.0   0.04954760065819229\n",
       "    -17.907083663407874  -17.90514259761293               -17.7 -17.899026826788592 0.00043799547061379457 ...  0.012991622863360065   0.000493155551994114   713.0  0.034872322892804515\n",
       "    -17.707447757851718 -17.702590520844215               -17.5 -17.695497708949777  0.0003261929802186885 ...   0.01417545641437741  0.0006242273591541588   531.0  0.023793383703213933\n",
       "    -17.510843150907235 -17.503544796258293 -17.299999999999997 -17.496413242683023  0.0002322051723590664 ...  0.014685124845280539  0.0007645950080978322   378.0  0.016080690766276513\n",
       "    -17.307723771578587  -17.30694226538203 -17.099999999999998 -17.299600553871432  0.0001861327175259183 ...  0.017764818656432244  0.0010329705067053888   303.0  0.010641647675038201\n",
       "    -17.103830425361988 -17.106533414894734               -16.9  -17.09942843326344 0.00010688809521290358 ...  0.015648913280768537  0.0011989505899813527   174.0   0.00688522281048156\n",
       "    -16.910287228004705 -16.904019609210188               -16.7 -16.895002133580043 6.0201340981980175e-05 ...  0.014708047173204526  0.0015062499483414697    98.0  0.004172055120406902\n",
       "    -16.723243955822213  -16.70916683590712               -16.5 -16.701078054158216  4.545815543537279e-05 ...  0.018542704840575405  0.0021895096793836614    74.0  0.002631168829984729\n",
       "    -16.506796807989886  -16.50723616392713 -16.299999999999997 -16.494219173639284  3.378646687764194e-05 ...  0.026669408547768378  0.0037259574696624264    55.0 0.0012328541135791366\n",
       "    -16.316285874181208  -16.30788096987826 -16.099999999999998 -16.293350007102475   2.33433771154617e-05 ...  0.037826481375554895   0.006420155188727258    38.0 0.0006036456306629296"
      ]
     },
     "execution_count": 13,
     "metadata": {},
     "output_type": "execute_result"
    }
   ],
   "source": [
    "fpath = findfile(ftype='lumfn', dryrun=dryrun, version=version, survey=survey)\n",
    "lumfn = Table.read(fpath)\n",
    "lumfn = lumfn[lumfn['N'] > 5.]\n",
    "lumfn"
   ]
  },
  {
   "cell_type": "code",
   "execution_count": 14,
   "id": "921a0e40",
   "metadata": {},
   "outputs": [
    {
     "data": {
      "text/plain": [
       "Text(0.5, 1.0, 'GAMA')"
      ]
     },
     "execution_count": 14,
     "metadata": {},
     "output_type": "execute_result"
    },
    {
     "data": {
      "image/png": "[encoded data removed]",
      "text/plain": [
       "<Figure size 720x360 with 1 Axes>"
      ]
     },
     "metadata": {
      "needs_background": "light"
     },
     "output_type": "display_data"
    }
   ],
   "source": [
    "fig, ax = plt.subplots(1,1,figsize=(10, 5))\n",
    "\n",
    "pl.sca(ax)\n",
    "\n",
    "# pl.plot(lumfn['MEDIAN_M'],    np.log10(lumfn['PHI_N'] / 0.77), label='RAW', lw=2.)\n",
    "pl.plot(lumfn['MEDIAN_M'],    np.log10(lumfn['PHI_IVMAX']),    label='IVMAX', lw=2.)\n",
    "pl.plot(lumfn['IVMAXMEAN_M'], np.log10(lumfn['PHI_IVMAX']),    label='IVMAX', lw=0., marker='.')\n",
    "\n",
    "pl.plot(lumfn['MEDIAN_M'],    np.log10(named_schechter(lumfn['MEDIAN_M'], 'TMR')), linestyle='--', c='k', lw=1.)\n",
    "\n",
    "# pl.scatter(lumfn_tmr['Ms'], lumfn_tmr['PHI_STEP'], s=0.5)\n",
    "# pl.plot(lumfn_tmr['Ms'], lumfn_tmr['PHI_STEP'], label='TMR_SWML', lw=1.)\n",
    "\n",
    "pl.xlabel(r'$M$')\n",
    "pl.ylabel(r'$\\Phi(M)$')\n",
    "\n",
    "pl.ylim(-4.25, -1.)\n",
    "pl.xlim(-23., -15.5)\n",
    "\n",
    "pl.legend(frameon=False, loc=2)\n",
    "pl.title(survey.upper())"
   ]
  },
  {
   "cell_type": "code",
   "execution_count": 26,
   "id": "cec0c5bf",
   "metadata": {},
   "outputs": [
    {
     "data": {
      "text/plain": [
       "0.09214245336348219"
      ]
     },
     "execution_count": 26,
     "metadata": {},
     "output_type": "execute_result"
    }
   ],
   "source": [
    "fpath = findfile(ftype='ddp_n8', dryrun=dryrun, version=version, survey=survey)\n",
    "ddp   = Table.read(fpath)\n",
    "ddp   = ddp[ddp['MCOLOR_0P0'] > -16.5]\n",
    "ddp.sort('ZMAX')\n",
    "np.mean(ddp['FILLFACTOR'] > 0.8)"
   ]
  },
  {
   "cell_type": "markdown",
   "id": "d60338ab",
   "metadata": {},
   "source": [
    "##  Cobaya"
   ]
  },
  {
   "cell_type": "code",
   "execution_count": null,
   "id": "fd91b01b",
   "metadata": {},
   "outputs": [],
   "source": [
    "# root = '/cosma/home/durham/{}/data/GAMA4/cobaya/'.format(os.environ['USER'])"
   ]
  },
  {
   "cell_type": "code",
   "execution_count": null,
   "id": "8017ab35",
   "metadata": {},
   "outputs": [],
   "source": [
    "# dat = Table.read(root + 'schechter_chain.1.txt', format='ascii')        "
   ]
  },
  {
   "cell_type": "code",
   "execution_count": null,
   "id": "5c2e397b",
   "metadata": {},
   "outputs": [],
   "source": [
    "# samples = np.c_[dat['log10phistar'], dat['Mstar'], dat['alpha']]"
   ]
  },
  {
   "cell_type": "code",
   "execution_count": null,
   "id": "2951a418",
   "metadata": {},
   "outputs": [],
   "source": [
    "# samples = MCSamples(samples=samples, names=['log10phistar', 'Mstar', 'alpha'], labels=['log10phistar', 'Mstar', 'alpha'])"
   ]
  },
  {
   "cell_type": "code",
   "execution_count": null,
   "id": "2287b8fc",
   "metadata": {},
   "outputs": [],
   "source": [
    "# tmr_ref = {'log10phistar': -2.01, 'Mstar': -20.89, 'alpha': -1.25}"
   ]
  },
  {
   "cell_type": "code",
   "execution_count": null,
   "id": "52111d21",
   "metadata": {},
   "outputs": [],
   "source": [
    "# g = plots.get_subplot_plotter()"
   ]
  },
  {
   "cell_type": "code",
   "execution_count": null,
   "id": "691efa53",
   "metadata": {},
   "outputs": [],
   "source": [
    "# g.triangle_plot([samples], filled=True)        "
   ]
  },
  {
   "cell_type": "markdown",
   "id": "8be90b82",
   "metadata": {},
   "source": [
    "# Done."
   ]
  }
 ],
 "metadata": {
  "kernelspec": {
   "display_name": "lumfn",
   "language": "python",
   "name": "lumfn"
  },
  "language_info": {
   "codemirror_mode": {
    "name": "ipython",
    "version": 3
   },
   "file_extension": ".py",
   "mimetype": "text/x-python",
   "name": "python",
   "nbconvert_exporter": "python",
   "pygments_lexer": "ipython3",
   "version": "3.9.9"
  }
 },
 "nbformat": 4,
 "nbformat_minor": 5
}
