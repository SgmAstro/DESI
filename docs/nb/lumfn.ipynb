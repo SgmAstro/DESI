{
 "cells": [
  {
   "cell_type": "code",
   "execution_count": 48,
   "id": "44dc3c50",
   "metadata": {},
   "outputs": [],
   "source": [
    "import os\n",
    "import sys\n",
    "import pylab as pl\n",
    "import numpy as np\n",
    "import matplotlib.pyplot as plt\n",
    "import numpy as np\n",
    "\n",
    "# from   getdist       import plots, MCSamples \n",
    "from   astropy.table import Table"
   ]
  },
  {
   "cell_type": "code",
   "execution_count": 49,
   "id": "49c9e40d",
   "metadata": {},
   "outputs": [],
   "source": [
    "sys.path.append(os.environ['HOME'] + '/DESI/')"
   ]
  },
  {
   "cell_type": "code",
   "execution_count": 50,
   "id": "c8e1921d",
   "metadata": {},
   "outputs": [],
   "source": [
    "import pubplot\n",
    "\n",
    "from   schechter     import schechter, named_schechter\n",
    "from   findfile      import findfile"
   ]
  },
  {
   "cell_type": "code",
   "execution_count": 51,
   "id": "bd84f88a",
   "metadata": {},
   "outputs": [],
   "source": [
    "version = 'GAMA4'\n",
    "survey  = 'gama'\n",
    "dryrun  =  False"
   ]
  },
  {
   "cell_type": "code",
   "execution_count": 52,
   "id": "4920ea23",
   "metadata": {},
   "outputs": [
    {
     "data": {
      "text/plain": [
       "'/cosma/home/durham/dc-moor2/data/GAMA4/gama_gold.fits'"
      ]
     },
     "execution_count": 52,
     "metadata": {},
     "output_type": "execute_result"
    }
   ],
   "source": [
    "fpath = findfile(ftype='gold', dryrun=dryrun, version=version, survey=survey)\n",
    "fpath"
   ]
  },
  {
   "cell_type": "code",
   "execution_count": 53,
   "id": "eb936af9",
   "metadata": {},
   "outputs": [
    {
     "data": {
      "text/plain": [
       "OrderedDict([('AREA', 180.0), ('GOLD_NGAL', 113687)])"
      ]
     },
     "execution_count": 53,
     "metadata": {},
     "output_type": "execute_result"
    }
   ],
   "source": [
    "gold = Table.read(fpath)\n",
    "gold.meta"
   ]
  },
  {
   "cell_type": "markdown",
   "id": "43df5e8a",
   "metadata": {},
   "source": [
    "##  VMAX"
   ]
  },
  {
   "cell_type": "code",
   "execution_count": 54,
   "id": "d608a70d",
   "metadata": {},
   "outputs": [
    {
     "data": {
      "text/html": [
       "<div><i>Table length=113602</i>\n",
       "<table id=\"table140099454041152\" class=\"table-striped table-bordered table-condensed\">\n",
       "<thead><tr><th>MCOLOR_0P0</th><th>ZGAMA</th><th>ZMIN</th><th>FIELD</th><th>WEIGHT_STEPWISE</th><th>ZMAX</th><th>IN_D8LUMFN</th><th>VMAX</th><th>VZ</th></tr></thead>\n",
       "<thead><tr><th>mag</th><th></th><th></th><th></th><th></th><th></th><th></th><th></th><th></th></tr></thead>\n",
       "<thead><tr><th>float64</th><th>float32</th><th>float64</th><th>bytes3</th><th>float64</th><th>float64</th><th>int64</th><th>float64</th><th>float64</th></tr></thead>\n",
       "<tr><td>-18.604556713474466</td><td>0.12458</td><td>0.03903000056743622</td><td>G15</td><td>2.9154826542283168</td><td>0.16536951392988855</td><td>0</td><td>1989415.1173069389</td><td>856251.0919558892</td></tr>\n",
       "<tr><td>-17.11399743017944</td><td>0.07201</td><td>0.03903000056743622</td><td>G12</td><td>1.6538945935980034</td><td>0.07941366026455443</td><td>0</td><td>206911.28313956544</td><td>147757.13652707596</td></tr>\n",
       "<tr><td>-18.636691739639105</td><td>0.07826</td><td>0.03903000056743622</td><td>G9</td><td>1.8026043529105287</td><td>0.1420511737557886</td><td>0</td><td>1269160.6371459882</td><td>196949.02424263215</td></tr>\n",
       "<tr><td>-21.502733726822058</td><td>0.15774</td><td>0.03903000056743622</td><td>G12</td><td>4.055363565159679</td><td>0.26298999786376953</td><td>0</td><td>7594841.612883208</td><td>1731165.271538042</td></tr>\n",
       "<tr><td>-19.433183926472903</td><td>0.15464</td><td>0.03903000056743622</td><td>G9</td><td>4.055363565159679</td><td>0.19594298885874487</td><td>0</td><td>3264168.438401783</td><td>1632645.5786324611</td></tr>\n",
       "<tr><td>-20.100998160222886</td><td>0.10636</td><td>0.03903000056743622</td><td>G12</td><td>2.641752036027377</td><td>0.25972323287594257</td><td>0</td><td>7330030.538789366</td><td>528161.9353389031</td></tr>\n",
       "<tr><td>-20.67997312087086</td><td>0.21078</td><td>0.03903000056743622</td><td>G9</td><td>6.092189398390652</td><td>0.26298999786376953</td><td>0</td><td>7594841.612883208</td><td>4031555.38349436</td></tr>\n",
       "<tr><td>-19.131149226207985</td><td>0.08423</td><td>0.03903000056743622</td><td>G12</td><td>1.989860106214467</td><td>0.2020584584880216</td><td>0</td><td>3568145.049230486</td><td>251613.6194825457</td></tr>\n",
       "<tr><td>-20.345461783022323</td><td>0.24358</td><td>0.03903000056743622</td><td>G15</td><td>8.62724787108412</td><td>0.26298999786376953</td><td>0</td><td>7594841.612883208</td><td>6105796.634334633</td></tr>\n",
       "<tr><td>...</td><td>...</td><td>...</td><td>...</td><td>...</td><td>...</td><td>...</td><td>...</td><td>...</td></tr>\n",
       "<tr><td>-19.297993063262005</td><td>0.18549</td><td>0.03903000056743622</td><td>G9</td><td>5.257448359247273</td><td>0.21152940621505997</td><td>0</td><td>4073043.9753379487</td><td>2783403.5904447017</td></tr>\n",
       "<tr><td>-19.963469019951816</td><td>0.21382</td><td>0.03903000056743622</td><td>G9</td><td>7.165775866315471</td><td>0.2398525639315168</td><td>0</td><td>5842689.364981897</td><td>4201513.84907117</td></tr>\n",
       "<tr><td>-20.22997295555514</td><td>0.22896</td><td>0.03903000056743622</td><td>G12</td><td>7.165775866315471</td><td>0.26298999786376953</td><td>0</td><td>7594841.612883208</td><td>5114765.470644664</td></tr>\n",
       "<tr><td>-19.97418039031508</td><td>0.23952</td><td>0.03903000056743622</td><td>G12</td><td>8.62724787108412</td><td>0.24282840653198529</td><td>0</td><td>6052161.935995473</td><td>5819565.165983729</td></tr>\n",
       "<tr><td>-17.370702590259004</td><td>0.08249</td><td>0.03903000056743622</td><td>G12</td><td>1.989860106214467</td><td>0.088976736832061</td><td>0</td><td>300776.8928869253</td><td>234875.60970421333</td></tr>\n",
       "<tr><td>-19.51881369322766</td><td>0.13108</td><td>0.03903000056743622</td><td>G15</td><td>3.237251617236046</td><td>0.2018501688785634</td><td>0</td><td>3557510.466291926</td><td>998008.3249015495</td></tr>\n",
       "<tr><td>-19.565268582461737</td><td>0.19599</td><td>0.03903000056743622</td><td>G9</td><td>6.092189398390652</td><td>0.24742793847581726</td><td>0</td><td>6385029.685463025</td><td>3266440.231900357</td></tr>\n",
       "<tr><td>-18.4599245208652</td><td>0.12211</td><td>0.03903000056743622</td><td>G12</td><td>2.9154826542283168</td><td>0.1460699157239535</td><td>0</td><td>1378945.3080508334</td><td>805915.2979674749</td></tr>\n",
       "<tr><td>-19.951556175574048</td><td>0.18943</td><td>0.03903000056743622</td><td>G9</td><td>5.257448359247273</td><td>0.26298999786376953</td><td>0</td><td>7594841.612883208</td><td>2958955.8503567446</td></tr>\n",
       "<tr><td>-19.89799213219278</td><td>0.22324</td><td>0.03903000056743622</td><td>G9</td><td>7.165775866315471</td><td>0.26298999786376953</td><td>0</td><td>7594841.612883208</td><td>4756483.379777038</td></tr>\n",
       "</table></div>"
      ],
      "text/plain": [
       "<Table length=113602>\n",
       "     MCOLOR_0P0      ZGAMA          ZMIN        FIELD   WEIGHT_STEPWISE           ZMAX        IN_D8LUMFN        VMAX                VZ        \n",
       "        mag                                                                                                                                   \n",
       "      float64       float32       float64       bytes3      float64             float64         int64         float64            float64      \n",
       "------------------- ------- ------------------- ------ ------------------ ------------------- ---------- ------------------ ------------------\n",
       "-18.604556713474466 0.12458 0.03903000056743622    G15 2.9154826542283168 0.16536951392988855          0 1989415.1173069389  856251.0919558892\n",
       " -17.11399743017944 0.07201 0.03903000056743622    G12 1.6538945935980034 0.07941366026455443          0 206911.28313956544 147757.13652707596\n",
       "-18.636691739639105 0.07826 0.03903000056743622     G9 1.8026043529105287  0.1420511737557886          0 1269160.6371459882 196949.02424263215\n",
       "-21.502733726822058 0.15774 0.03903000056743622    G12  4.055363565159679 0.26298999786376953          0  7594841.612883208  1731165.271538042\n",
       "-19.433183926472903 0.15464 0.03903000056743622     G9  4.055363565159679 0.19594298885874487          0  3264168.438401783 1632645.5786324611\n",
       "-20.100998160222886 0.10636 0.03903000056743622    G12  2.641752036027377 0.25972323287594257          0  7330030.538789366  528161.9353389031\n",
       " -20.67997312087086 0.21078 0.03903000056743622     G9  6.092189398390652 0.26298999786376953          0  7594841.612883208   4031555.38349436\n",
       "-19.131149226207985 0.08423 0.03903000056743622    G12  1.989860106214467  0.2020584584880216          0  3568145.049230486  251613.6194825457\n",
       "-20.345461783022323 0.24358 0.03903000056743622    G15   8.62724787108412 0.26298999786376953          0  7594841.612883208  6105796.634334633\n",
       "                ...     ...                 ...    ...                ...                 ...        ...                ...                ...\n",
       "-19.297993063262005 0.18549 0.03903000056743622     G9  5.257448359247273 0.21152940621505997          0 4073043.9753379487 2783403.5904447017\n",
       "-19.963469019951816 0.21382 0.03903000056743622     G9  7.165775866315471  0.2398525639315168          0  5842689.364981897   4201513.84907117\n",
       " -20.22997295555514 0.22896 0.03903000056743622    G12  7.165775866315471 0.26298999786376953          0  7594841.612883208  5114765.470644664\n",
       " -19.97418039031508 0.23952 0.03903000056743622    G12   8.62724787108412 0.24282840653198529          0  6052161.935995473  5819565.165983729\n",
       "-17.370702590259004 0.08249 0.03903000056743622    G12  1.989860106214467   0.088976736832061          0  300776.8928869253 234875.60970421333\n",
       " -19.51881369322766 0.13108 0.03903000056743622    G15  3.237251617236046  0.2018501688785634          0  3557510.466291926  998008.3249015495\n",
       "-19.565268582461737 0.19599 0.03903000056743622     G9  6.092189398390652 0.24742793847581726          0  6385029.685463025  3266440.231900357\n",
       "  -18.4599245208652 0.12211 0.03903000056743622    G12 2.9154826542283168  0.1460699157239535          0 1378945.3080508334  805915.2979674749\n",
       "-19.951556175574048 0.18943 0.03903000056743622     G9  5.257448359247273 0.26298999786376953          0  7594841.612883208 2958955.8503567446\n",
       " -19.89799213219278 0.22324 0.03903000056743622     G9  7.165775866315471 0.26298999786376953          0  7594841.612883208  4756483.379777038"
      ]
     },
     "execution_count": 54,
     "metadata": {},
     "output_type": "execute_result"
    }
   ],
   "source": [
    "fpath = findfile(ftype='vmax', dryrun=dryrun, version=version, survey=survey)\n",
    "vmax  = Table.read(fpath)\n",
    "vmax"
   ]
  },
  {
   "cell_type": "markdown",
   "id": "2eac9f0e",
   "metadata": {},
   "source": [
    "##  LUMFN"
   ]
  },
  {
   "cell_type": "code",
   "execution_count": 55,
   "id": "123a4532",
   "metadata": {},
   "outputs": [
    {
     "data": {
      "text/html": [
       "<div><i>Table length=49</i>\n",
       "<table id=\"table140099454041488\" class=\"table-striped table-bordered table-condensed\">\n",
       "<thead><tr><th>MEDIAN_M</th><th>PHI_N</th><th>PHI_N_ERROR</th><th>PHI_IVMAX</th><th>PHI_IVMAX_ERROR</th><th>N</th><th>V_ON_VMAX</th></tr></thead>\n",
       "<thead><tr><th>float64</th><th>float64</th><th>float64</th><th>float64</th><th>float64</th><th>float64</th><th>float64</th></tr></thead>\n",
       "<tr><td>-25.4</td><td>0.0</td><td>0.0</td><td>0.0</td><td>0.0</td><td>0.0</td><td>--</td></tr>\n",
       "<tr><td>-25.200000000000003</td><td>0.0</td><td>0.0</td><td>0.0</td><td>0.0</td><td>0.0</td><td>--</td></tr>\n",
       "<tr><td>-25.0</td><td>0.0</td><td>0.0</td><td>0.0</td><td>0.0</td><td>0.0</td><td>--</td></tr>\n",
       "<tr><td>-24.800000000000004</td><td>0.0</td><td>0.0</td><td>0.0</td><td>0.0</td><td>0.0</td><td>--</td></tr>\n",
       "<tr><td>-24.6</td><td>0.0</td><td>0.0</td><td>0.0</td><td>0.0</td><td>0.0</td><td>--</td></tr>\n",
       "<tr><td>-24.400000000000006</td><td>0.0</td><td>0.0</td><td>0.0</td><td>0.0</td><td>0.0</td><td>--</td></tr>\n",
       "<tr><td>-24.200000000000003</td><td>0.0</td><td>0.0</td><td>0.0</td><td>0.0</td><td>0.0</td><td>--</td></tr>\n",
       "<tr><td>-24.000000000000007</td><td>0.0</td><td>0.0</td><td>0.0</td><td>0.0</td><td>0.0</td><td>--</td></tr>\n",
       "<tr><td>-23.800000000000004</td><td>0.0</td><td>0.0</td><td>0.0</td><td>0.0</td><td>0.0</td><td>--</td></tr>\n",
       "<tr><td>-23.60000000000001</td><td>0.0</td><td>0.0</td><td>0.0</td><td>0.0</td><td>0.0</td><td>--</td></tr>\n",
       "<tr><td>...</td><td>...</td><td>...</td><td>...</td><td>...</td><td>...</td><td>...</td></tr>\n",
       "<tr><td>-17.806770806245083</td><td>0.000992779097224338</td><td>2.5565362424426706e-05</td><td>0.01381931287635131</td><td>0.0003588176756506515</td><td>1508.0</td><td>0.07389117751531793</td></tr>\n",
       "<tr><td>-17.60540082245031</td><td>0.0007972516490309505</td><td>2.2909908498671075e-05</td><td>0.014698315005989913</td><td>0.0004251688564666649</td><td>1211.0</td><td>0.05518194314959416</td></tr>\n",
       "<tr><td>-17.403713154375016</td><td>0.0006827002147358345</td><td>2.1200234328510514e-05</td><td>0.016877688941591893</td><td>0.0005273854139469359</td><td>1037.0</td><td>0.041027935766775755</td></tr>\n",
       "<tr><td>-17.212893850404157</td><td>0.0005516902410305008</td><td>1.9057823143510443e-05</td><td>0.018073731805247826</td><td>0.0006278194700539957</td><td>838.0</td><td>0.030985802528041846</td></tr>\n",
       "<tr><td>-17.016257753703133</td><td>0.00035155440180225235</td><td>1.5213246828863214e-05</td><td>0.015731810903988393</td><td>0.0006850130616316444</td><td>534.0</td><td>0.022844181546381424</td></tr>\n",
       "<tr><td>-16.806631082779923</td><td>0.00025543653164658033</td><td>1.2967825142119382e-05</td><td>0.01604767169743556</td><td>0.0008200072856345317</td><td>388.0</td><td>0.016161457253183884</td></tr>\n",
       "<tr><td>-16.604055320370207</td><td>0.0002383196506599538</td><td>1.2525802748911848e-05</td><td>0.021058990156774846</td><td>0.001113913779532084</td><td>362.0</td><td>0.01144087266008334</td></tr>\n",
       "<tr><td>-16.407765796266453</td><td>0.00020737759656874435</td><td>1.1684403871696542e-05</td><td>0.02657909553212204</td><td>0.001507698282257368</td><td>315.0</td><td>0.007817437918952234</td></tr>\n",
       "<tr><td>-16.228752020563036</td><td>0.00010796801853102881</td><td>8.43088580882475e-06</td><td>0.020736238367402796</td><td>0.0016335749191855819</td><td>164.0</td><td>0.005359130088187801</td></tr>\n",
       "<tr><td>-16.007578916653898</td><td>5.727571714755796e-05</td><td>6.140601429572092e-06</td><td>0.019427639959321768</td><td>0.002111248913362894</td><td>87.0</td><td>0.003012505265889661</td></tr>\n",
       "</table></div>"
      ],
      "text/plain": [
       "<Table length=49>\n",
       "      MEDIAN_M              PHI_N               PHI_N_ERROR            PHI_IVMAX          PHI_IVMAX_ERROR       N         V_ON_VMAX      \n",
       "      float64              float64                float64               float64               float64        float64       float64       \n",
       "------------------- ---------------------- ---------------------- -------------------- --------------------- ------- --------------------\n",
       "              -25.4                    0.0                    0.0                  0.0                   0.0     0.0                   --\n",
       "-25.200000000000003                    0.0                    0.0                  0.0                   0.0     0.0                   --\n",
       "              -25.0                    0.0                    0.0                  0.0                   0.0     0.0                   --\n",
       "-24.800000000000004                    0.0                    0.0                  0.0                   0.0     0.0                   --\n",
       "              -24.6                    0.0                    0.0                  0.0                   0.0     0.0                   --\n",
       "-24.400000000000006                    0.0                    0.0                  0.0                   0.0     0.0                   --\n",
       "-24.200000000000003                    0.0                    0.0                  0.0                   0.0     0.0                   --\n",
       "-24.000000000000007                    0.0                    0.0                  0.0                   0.0     0.0                   --\n",
       "-23.800000000000004                    0.0                    0.0                  0.0                   0.0     0.0                   --\n",
       " -23.60000000000001                    0.0                    0.0                  0.0                   0.0     0.0                   --\n",
       "                ...                    ...                    ...                  ...                   ...     ...                  ...\n",
       "-17.806770806245083   0.000992779097224338 2.5565362424426706e-05  0.01381931287635131 0.0003588176756506515  1508.0  0.07389117751531793\n",
       " -17.60540082245031  0.0007972516490309505 2.2909908498671075e-05 0.014698315005989913 0.0004251688564666649  1211.0  0.05518194314959416\n",
       "-17.403713154375016  0.0006827002147358345 2.1200234328510514e-05 0.016877688941591893 0.0005273854139469359  1037.0 0.041027935766775755\n",
       "-17.212893850404157  0.0005516902410305008 1.9057823143510443e-05 0.018073731805247826 0.0006278194700539957   838.0 0.030985802528041846\n",
       "-17.016257753703133 0.00035155440180225235 1.5213246828863214e-05 0.015731810903988393 0.0006850130616316444   534.0 0.022844181546381424\n",
       "-16.806631082779923 0.00025543653164658033 1.2967825142119382e-05  0.01604767169743556 0.0008200072856345317   388.0 0.016161457253183884\n",
       "-16.604055320370207  0.0002383196506599538 1.2525802748911848e-05 0.021058990156774846  0.001113913779532084   362.0  0.01144087266008334\n",
       "-16.407765796266453 0.00020737759656874435 1.1684403871696542e-05  0.02657909553212204  0.001507698282257368   315.0 0.007817437918952234\n",
       "-16.228752020563036 0.00010796801853102881   8.43088580882475e-06 0.020736238367402796 0.0016335749191855819   164.0 0.005359130088187801\n",
       "-16.007578916653898  5.727571714755796e-05  6.140601429572092e-06 0.019427639959321768  0.002111248913362894    87.0 0.003012505265889661"
      ]
     },
     "execution_count": 55,
     "metadata": {},
     "output_type": "execute_result"
    }
   ],
   "source": [
    "fpath = findfile(ftype='lumfn', dryrun=dryrun, version=version, survey=survey)\n",
    "lumfn = Table.read(fpath)\n",
    "lumfn"
   ]
  },
  {
   "cell_type": "code",
   "execution_count": null,
   "id": "3e7a0803",
   "metadata": {},
   "outputs": [],
   "source": []
  },
  {
   "cell_type": "code",
   "execution_count": 68,
   "id": "67aca3cb",
   "metadata": {},
   "outputs": [],
   "source": [
    "# TODO: incorporate into findfile\n",
    "\n",
    "#stepwise  = Table.read('/cosma5/data/durham/dc-wils7/GAMA4/gama_gold_lumfn_step.fits')\n",
    "stepwise   = Table.read('/cosma/home/durham/dc-moor2/data/GAMA4/gama_gold_lumfn_step.fits')"
   ]
  },
  {
   "cell_type": "code",
   "execution_count": 69,
   "id": "f72160fd",
   "metadata": {},
   "outputs": [
    {
     "data": {
      "text/html": [
       "<div><i>Table length=50</i>\n",
       "<table id=\"table140099452919920\" class=\"table-striped table-bordered table-condensed\">\n",
       "<thead><tr><th>Ms</th><th>PHI_STEP</th></tr></thead>\n",
       "<thead><tr><th>float64</th><th>float64</th></tr></thead>\n",
       "<tr><td>-25.5</td><td>0.0</td></tr>\n",
       "<tr><td>-25.3</td><td>0.0</td></tr>\n",
       "<tr><td>-25.1</td><td>0.0</td></tr>\n",
       "<tr><td>-24.900000000000002</td><td>0.0</td></tr>\n",
       "<tr><td>-24.700000000000003</td><td>0.0</td></tr>\n",
       "<tr><td>-24.500000000000004</td><td>0.0</td></tr>\n",
       "<tr><td>-24.300000000000004</td><td>0.0</td></tr>\n",
       "<tr><td>-24.100000000000005</td><td>0.0</td></tr>\n",
       "<tr><td>-23.900000000000006</td><td>0.0</td></tr>\n",
       "<tr><td>-23.700000000000006</td><td>0.0</td></tr>\n",
       "<tr><td>...</td><td>...</td></tr>\n",
       "<tr><td>-17.50000000000003</td><td>0.22042574795440323</td></tr>\n",
       "<tr><td>-17.30000000000003</td><td>0.2610250656802714</td></tr>\n",
       "<tr><td>-17.10000000000003</td><td>0.2494027466715096</td></tr>\n",
       "<tr><td>-16.90000000000003</td><td>0.26465408772978116</td></tr>\n",
       "<tr><td>-16.70000000000003</td><td>0.29686436301280955</td></tr>\n",
       "<tr><td>-16.500000000000032</td><td>0.29631091378528196</td></tr>\n",
       "<tr><td>-16.300000000000033</td><td>0.3582926964659477</td></tr>\n",
       "<tr><td>-16.100000000000033</td><td>0.33741116938627885</td></tr>\n",
       "<tr><td>-15.900000000000034</td><td>0.26001035292814545</td></tr>\n",
       "<tr><td>-15.700000000000035</td><td>0.16328914874473904</td></tr>\n",
       "</table></div>"
      ],
      "text/plain": [
       "<Table length=50>\n",
       "         Ms               PHI_STEP     \n",
       "      float64             float64      \n",
       "------------------- -------------------\n",
       "              -25.5                 0.0\n",
       "              -25.3                 0.0\n",
       "              -25.1                 0.0\n",
       "-24.900000000000002                 0.0\n",
       "-24.700000000000003                 0.0\n",
       "-24.500000000000004                 0.0\n",
       "-24.300000000000004                 0.0\n",
       "-24.100000000000005                 0.0\n",
       "-23.900000000000006                 0.0\n",
       "-23.700000000000006                 0.0\n",
       "                ...                 ...\n",
       " -17.50000000000003 0.22042574795440323\n",
       " -17.30000000000003  0.2610250656802714\n",
       " -17.10000000000003  0.2494027466715096\n",
       " -16.90000000000003 0.26465408772978116\n",
       " -16.70000000000003 0.29686436301280955\n",
       "-16.500000000000032 0.29631091378528196\n",
       "-16.300000000000033  0.3582926964659477\n",
       "-16.100000000000033 0.33741116938627885\n",
       "-15.900000000000034 0.26001035292814545\n",
       "-15.700000000000035 0.16328914874473904"
      ]
     },
     "execution_count": 69,
     "metadata": {},
     "output_type": "execute_result"
    }
   ],
   "source": [
    "stepwise"
   ]
  },
  {
   "cell_type": "code",
   "execution_count": 70,
   "id": "974b31f1",
   "metadata": {},
   "outputs": [
    {
     "name": "stderr",
     "output_type": "stream",
     "text": [
      "/tmp/ipykernel_2588/3436872867.py:5: RuntimeWarning: divide by zero encountered in log10\n",
      "  pl.plot(stepwise['Ms'], np.log10(stepwise['PHI_STEP']), label='STEPWISE', lw=2)\n",
      "/tmp/ipykernel_2588/3436872867.py:8: RuntimeWarning: divide by zero encountered in log10\n",
      "  pl.errorbar(lumfn['MEDIAN_M'], np.log10(lumfn['PHI_N']), lumfn['PHI_N_ERROR'] / lumfn['PHI_N'] / np.log(10.), label='RAW', alpha=0.4, lw=2)\n",
      "/tmp/ipykernel_2588/3436872867.py:8: RuntimeWarning: invalid value encountered in true_divide\n",
      "  pl.errorbar(lumfn['MEDIAN_M'], np.log10(lumfn['PHI_N']), lumfn['PHI_N_ERROR'] / lumfn['PHI_N'] / np.log(10.), label='RAW', alpha=0.4, lw=2)\n",
      "/tmp/ipykernel_2588/3436872867.py:9: RuntimeWarning: divide by zero encountered in log10\n",
      "  pl.errorbar(lumfn['MEDIAN_M'],  np.log10(lumfn['PHI_IVMAX']), lumfn['PHI_IVMAX_ERROR'] / lumfn['PHI_IVMAX'] / np.log(10.), label='IVMAX', lw=2)\n",
      "/tmp/ipykernel_2588/3436872867.py:9: RuntimeWarning: invalid value encountered in true_divide\n",
      "  pl.errorbar(lumfn['MEDIAN_M'],  np.log10(lumfn['PHI_IVMAX']), lumfn['PHI_IVMAX_ERROR'] / lumfn['PHI_IVMAX'] / np.log(10.), label='IVMAX', lw=2)\n"
     ]
    },
    {
     "data": {
      "text/plain": [
       "Text(0.5, 1.0, 'GAMA')"
      ]
     },
     "execution_count": 70,
     "metadata": {},
     "output_type": "execute_result"
    },
    {
     "data": {
      "image/png": "[encoded data removed]",
      "text/plain": [
       "<Figure size 432x288 with 1 Axes>"
      ]
     },
     "metadata": {
      "needs_background": "light"
     },
     "output_type": "display_data"
    }
   ],
   "source": [
    "Ms = np.arange(-23., -15., 0.01)\n",
    "sc = named_schechter(Ms, named_type='TMR')\n",
    "\n",
    "pl.plot(Ms, np.log10(sc), label='TMR', lw=2)\n",
    "pl.plot(stepwise['Ms'], np.log10(stepwise['PHI_STEP']), label='STEPWISE', lw=2)\n",
    "\n",
    "\n",
    "pl.errorbar(lumfn['MEDIAN_M'], np.log10(lumfn['PHI_N']), lumfn['PHI_N_ERROR'] / lumfn['PHI_N'] / np.log(10.), label='RAW', alpha=0.4, lw=2)\n",
    "pl.errorbar(lumfn['MEDIAN_M'],  np.log10(lumfn['PHI_IVMAX']), lumfn['PHI_IVMAX_ERROR'] / lumfn['PHI_IVMAX'] / np.log(10.), label='IVMAX', lw=2)\n",
    "\n",
    "pl.xlabel(r'$M_r^e - 5 \\log_{10}|h|$')\n",
    "pl.ylabel(r'$\\log_{10} \\left[ \\frac{\\phi_\\delta(M)}{h^{-3} \\ {\\rm Mpc}^{3} \\ {\\rm Mag}^{}} \\right] $')\n",
    "\n",
    "pl.ylim(-4.25, -.75)\n",
    "pl.xlim(-23., -15.5)\n",
    "\n",
    "pl.legend(frameon=False, loc=2)\n",
    "pl.title(survey.upper())"
   ]
  },
  {
   "cell_type": "code",
   "execution_count": null,
   "id": "89ca102e",
   "metadata": {},
   "outputs": [],
   "source": []
  },
  {
   "cell_type": "code",
   "execution_count": 58,
   "id": "865c99df",
   "metadata": {},
   "outputs": [
    {
     "data": {
      "text/html": [
       "<div><i>Table length=113687</i>\n",
       "<table id=\"table140099452692656\" class=\"table-striped table-bordered table-condensed\">\n",
       "<thead><tr><th>CATAID</th><th>OBJID</th><th>RA</th><th>DEC</th><th>R_PETRO</th><th>ZGAMA</th><th>NQ</th><th>SPECID</th><th>SURVEY_CLASS</th><th>UMAG_DRED_SDSS</th><th>GMAG_DRED_SDSS</th><th>RMAG_DRED_SDSS</th><th>IMAG_DRED_SDSS</th><th>ZMAG_DRED_SDSS</th><th>ZSURV</th><th>LUMDIST</th><th>DISTMOD</th><th>FIELD</th><th>IN_D8LUMFN</th><th>CARTESIAN_X</th><th>CARTESIAN_Y</th><th>CARTESIAN_Z</th><th>ROTCARTESIAN_X</th><th>ROTCARTESIAN_Y</th><th>ROTCARTESIAN_Z</th><th>GMR</th><th>DETMAG</th></tr></thead>\n",
       "<thead><tr><th></th><th></th><th>deg</th><th>deg</th><th>mag</th><th></th><th></th><th></th><th></th><th>mag</th><th>mag</th><th>mag</th><th>mag</th><th>mag</th><th></th><th>Mpc</th><th></th><th></th><th></th><th></th><th></th><th></th><th></th><th></th><th></th><th>mag</th><th>mag</th></tr></thead>\n",
       "<thead><tr><th>int32</th><th>int64</th><th>float64</th><th>float64</th><th>float32</th><th>float32</th><th>int16</th><th>bytes33</th><th>int16</th><th>float32</th><th>float32</th><th>float32</th><th>float32</th><th>float32</th><th>float32</th><th>float64</th><th>float64</th><th>bytes3</th><th>int64</th><th>float64</th><th>float64</th><th>float64</th><th>float64</th><th>float64</th><th>float64</th><th>float32</th><th>float32</th></tr></thead>\n",
       "<tr><td>49666</td><td>587722982295273988</td><td>221.89800269</td><td>-0.6415381</td><td>19.241835</td><td>0.12458</td><td>4</td><td>G15_Y1_HS2_033</td><td>6</td><td>19.763887</td><td>19.138214</td><td>18.93341</td><td>18.772236</td><td>19.113127</td><td>0.12458</td><td>409.8743148290063</td><td>38.06325351842394</td><td>G15</td><td>0</td><td>-271.2698035537147</td><td>-243.37940556486063</td><td>-4.080854256126575</td><td>273.30030998287657</td><td>241.09224426149586</td><td>-4.354889763758178</td><td>0.20480347</td><td>19.241835</td></tr>\n",
       "<tr><td>139025</td><td>587724650333077845</td><td>185.31240015</td><td>-1.71745883</td><td>19.589233</td><td>0.07201</td><td>3</td><td>G12_Y2_005_095</td><td>5</td><td>20.732338</td><td>19.895437</td><td>19.584732</td><td>19.327354</td><td>19.398808</td><td>0.07201</td><td>228.23871532041073</td><td>36.7919465707857</td><td>G12</td><td>0</td><td>-211.89751863006472</td><td>-19.70339365082965</td><td>-6.381005589922235</td><td>212.0490405347563</td><td>17.922830436436097</td><td>-6.593626673755219</td><td>0.31070518</td><td>19.589233</td></tr>\n",
       "<tr><td>214264</td><td>587725075524682122</td><td>129.50683691</td><td>0.52589209</td><td>18.379673</td><td>0.07826</td><td>4</td><td>G09_Y1_test_116</td><td>6</td><td>21.10666</td><td>19.103128</td><td>18.255648</td><td>17.893887</td><td>17.584246</td><td>0.07826</td><td>249.18607796654842</td><td>36.98261887309769</td><td>G9</td><td>0</td><td>-147.0128822160159</td><td>178.2975350217959</td><td>2.12113451328627</td><td>145.51211007838148</td><td>-179.52610400322502</td><td>1.9752331235584817</td><td>0.8474808</td><td>18.379673</td></tr>\n",
       "<tr><td>536269</td><td>588848898839543956</td><td>181.39347962</td><td>-0.85282612</td><td>17.191727</td><td>0.15774</td><td>5</td><td>322041491755132928</td><td>6</td><td>19.97562</td><td>18.241964</td><td>17.1869</td><td>16.784622</td><td>16.485594</td><td>0.15774</td><td>530.636077190221</td><td>38.62398386856322</td><td>G12</td><td>0</td><td>-458.15155993384866</td><td>-11.144813340761596</td><td>-6.821934742361414</td><td>458.2219394709942</td><td>7.296100659330028</td><td>-7.281389321955303</td><td>1.0550652</td><td>17.191727</td></tr>\n",
       "<tr><td>418998</td><td>587728879259680951</td><td>138.42527661</td><td>2.73289256</td><td>19.210749</td><td>0.15464</td><td>4</td><td>G09_Y2_031_298</td><td>6</td><td>21.882418</td><td>20.103489</td><td>19.081709</td><td>18.549156</td><td>18.176828</td><td>0.15464</td><td>519.1491953902114</td><td>38.57646092626833</td><td>G9</td><td>0</td><td>-335.97407304578536</td><td>298.02679081242127</td><td>21.437830774361636</td><td>333.4802231857957</td><td>-300.8383466656785</td><td>21.103466744793728</td><td>1.02178</td><td>19.210749</td></tr>\n",
       "<tr><td>54280</td><td>587722982812680385</td><td>177.47329606</td><td>-0.31725895</td><td>17.634909</td><td>0.10636</td><td>5</td><td>319842192682149888</td><td>6</td><td>19.65366</td><td>18.283745</td><td>17.539707</td><td>17.175686</td><td>16.829344</td><td>0.10636</td><td>345.5359225666571</td><td>37.69246602065664</td><td>G12</td><td>0</td><td>-312.00938903303575</td><td>13.768323044374418</td><td>-1.7293614973141267</td><td>311.88084194944713</td><td>-16.388611600815402</td><td>-2.0420798496929287</td><td>0.7440376</td><td>17.634909</td></tr>\n",
       "<tr><td>377162</td><td>587727943491256566</td><td>136.65750354</td><td>1.55698374</td><td>18.749691</td><td>0.21078</td><td>4</td><td>G09_Y1_FN2_374</td><td>6</td><td>21.79226</td><td>20.003727</td><td>18.744532</td><td>18.27386</td><td>18.025156</td><td>0.21078</td><td>733.2949454247376</td><td>39.32639345714967</td><td>G9</td><td>0</td><td>-440.2963571027586</td><td>415.53130054247623</td><td>16.455892305458278</td><td>436.806781247178</td><td>-419.2149833084115</td><td>16.017922033113244</td><td>1.2591953</td><td>18.749691</td></tr>\n",
       "<tr><td>40016</td><td>587722982276661360</td><td>179.32108875</td><td>-0.7282803</td><td>17.932632</td><td>0.08423</td><td>4</td><td>G12_Y1_DS2_343</td><td>6</td><td>19.457369</td><td>18.422329</td><td>17.913288</td><td>17.519955</td><td>17.36411</td><td>0.08423</td><td>269.36025131515987</td><td>37.15166754290135</td><td>G12</td><td>0</td><td>-248.39710875856295</td><td>2.943453881959531</td><td>-3.1577398347411334</td><td>248.36033076963108</td><td>-5.029802486538083</td><td>-3.4067679959696218</td><td>0.50904083</td><td>17.932632</td></tr>\n",
       "<tr><td>620018</td><td>588848900468244857</td><td>222.77076993</td><td>0.31348161</td><td>19.02901</td><td>0.24358</td><td>4</td><td>G15_Y3_021_154</td><td>6</td><td>21.212782</td><td>19.956366</td><td>19.02093</td><td>18.640211</td><td>18.355568</td><td>0.24358</td><td>864.2309603432375</td><td>39.683149102432054</td><td>G15</td><td>0</td><td>-510.14173535360027</td><td>-471.91323355882713</td><td>3.802273622560577</td><td>514.0912056812136</td><td>467.61156593347175</td><td>3.2868052443748965</td><td>0.93543625</td><td>19.02901</td></tr>\n",
       "<tr><td>...</td><td>...</td><td>...</td><td>...</td><td>...</td><td>...</td><td>...</td><td>...</td><td>...</td><td>...</td><td>...</td><td>...</td><td>...</td><td>...</td><td>...</td><td>...</td><td>...</td><td>...</td><td>...</td><td>...</td><td>...</td><td>...</td><td>...</td><td>...</td><td>...</td><td>...</td><td>...</td></tr>\n",
       "<tr><td>3580501</td><td>587729150375166191</td><td>131.78536165</td><td>-1.63553463</td><td>19.514818</td><td>0.18549</td><td>4</td><td>G09_Y4_205_016</td><td>5</td><td>23.590101</td><td>20.417795</td><td>19.539589</td><td>19.060429</td><td>18.783537</td><td>0.18549</td><td>635.237738449026</td><td>39.01468145459928</td><td>G9</td><td>0</td><td>-356.90991032273683</td><td>399.3873212501499</td><td>-15.29383925644776</td><td>353.5270871333852</td><td>-402.3711553410259</td><td>-15.64832239150692</td><td>0.87820625</td><td>19.514818</td></tr>\n",
       "<tr><td>599414</td><td>588848900428267978</td><td>131.37537209</td><td>0.24548389</td><td>19.501078</td><td>0.21382</td><td>4</td><td>G09_Y4_243_293</td><td>5</td><td>23.213451</td><td>20.709242</td><td>19.452118</td><td>18.963646</td><td>18.602535</td><td>0.21382</td><td>745.2537059476672</td><td>39.36152072170261</td><td>G9</td><td>0</td><td>-405.8264569614448</td><td>460.7188236258582</td><td>2.6305641534138062</td><td>401.94469219185385</td><td>-464.1113766692935</td><td>2.2275425401974234</td><td>1.257124</td><td>19.501078</td></tr>\n",
       "<tr><td>39105</td><td>587722982274826438</td><td>175.21481956</td><td>-0.78939957</td><td>19.412838</td><td>0.22896</td><td>4</td><td>G12_Y3_020_232</td><td>5</td><td>22.088514</td><td>20.638214</td><td>19.329536</td><td>18.888765</td><td>18.51788</td><td>0.22896</td><td>805.3522159513187</td><td>39.52992928997574</td><td>G12</td><td>0</td><td>-652.9658753635781</td><td>54.66099961265371</td><td>-9.028354642131436</td><td>652.4743255236301</td><td>-60.14376575118024</td><td>-9.682583811860843</td><td>1.3086777</td><td>19.412838</td></tr>\n",
       "<tr><td>186463</td><td>587725041704501820</td><td>184.57957855</td><td>-1.45633905</td><td>19.764551</td><td>0.23952</td><td>4</td><td>G12_Y2_022_201</td><td>5</td><td>22.988518</td><td>20.929329</td><td>19.704033</td><td>19.125475</td><td>18.796965</td><td>0.23952</td><td>847.7977341667684</td><td>39.64146125766853</td><td>G12</td><td>0</td><td>-681.5687581279863</td><td>-54.59322885310973</td><td>-17.383284032684536</td><td>681.9855059578898</td><td>48.86635383841578</td><td>-18.067107748459026</td><td>1.225296</td><td>19.764551</td></tr>\n",
       "<tr><td>130852</td><td>587724649793454275</td><td>179.01554402</td><td>-2.16749218</td><td>19.636364</td><td>0.08249</td><td>4</td><td>G12_Y5_007_303</td><td>5</td><td>21.10274</td><td>20.048021</td><td>19.62861</td><td>19.389269</td><td>19.463245</td><td>0.08249</td><td>263.4637325616034</td><td>37.1036042014921</td><td>G12</td><td>0</td><td>-243.17673174075446</td><td>4.17867338398472</td><td>-9.205095019136596</td><td>243.1237015403025</td><td>-6.221128995811171</td><td>-9.448875543450551</td><td>0.4194107</td><td>19.636364</td></tr>\n",
       "<tr><td>618670</td><td>588848900465492210</td><td>216.40553559</td><td>0.36774914</td><td>18.724096</td><td>0.13108</td><td>4</td><td>G15_Y1_DS1_325</td><td>6</td><td>21.404636</td><td>19.720257</td><td>18.700453</td><td>18.249287</td><td>17.890133</td><td>0.13108</td><td>433.17604316774094</td><td>38.183322149649214</td><td>G15</td><td>0</td><td>-308.2263700280637</td><td>-227.29004754470466</td><td>2.458086412609354</td><td>310.12696546647686</td><td>224.693031069197</td><td>2.147128746575449</td><td>1.019804</td><td>18.724096</td></tr>\n",
       "<tr><td>216345</td><td>587725075528286796</td><td>137.67737506</td><td>0.62673543</td><td>19.31674</td><td>0.19599</td><td>4</td><td>G09_Y2_035_245</td><td>6</td><td>21.203674</td><td>19.975529</td><td>19.240753</td><td>18.859108</td><td>18.643003</td><td>0.19599</td><td>675.6378214236531</td><td>39.148569764410766</td><td>G9</td><td>0</td><td>-417.65673152587243</td><td>380.3399700074972</td><td>6.179301274886419</td><td>414.45325680402533</td><td>-383.83472898103446</td><td>5.763739325901883</td><td>0.73477554</td><td>19.31674</td></tr>\n",
       "<tr><td>39583</td><td>587722982275874923</td><td>177.52358306</td><td>-0.67440757</td><td>19.415237</td><td>0.12211</td><td>4</td><td>G12_Y3_012_230</td><td>5</td><td>20.972622</td><td>19.975359</td><td>19.387562</td><td>19.033064</td><td>18.827078</td><td>0.12211</td><td>401.067511026404</td><td>38.01608741420354</td><td>G12</td><td>0</td><td>-357.06409341088516</td><td>15.442509161538608</td><td>-4.206993317132424</td><td>356.9173873765393</td><td>-18.441183069408766</td><td>-4.564870273937984</td><td>0.58779716</td><td>19.415237</td></tr>\n",
       "<tr><td>203036</td><td>587725074452119983</td><td>132.24395112</td><td>-0.2196714</td><td>18.779766</td><td>0.18943</td><td>4</td><td>G09_Y1_CS1_214</td><td>6</td><td>20.021069</td><td>19.250122</td><td>18.726618</td><td>18.448082</td><td>18.324938</td><td>0.18943</td><td>650.345135584666</td><td>39.06571948090466</td><td>G9</td><td>0</td><td>-367.5848471615529</td><td>404.7652084368566</td><td>-2.0963067371932858</td><td>364.1697025201961</td><td>-407.83851869854664</td><td>-2.4614544029475924</td><td>0.52350426</td><td>18.779766</td></tr>\n",
       "<tr><td>278346</td><td>587726031689941801</td><td>130.41051311</td><td>0.80104703</td><td>19.276276</td><td>0.22324</td><td>4</td><td>G09_Y2_036_174</td><td>6</td><td>21.66579</td><td>19.913363</td><td>19.07367</td><td>18.550446</td><td>18.154348</td><td>0.22324</td><td>782.5412227464686</td><td>39.467536123039835</td><td>G9</td><td>0</td><td>-414.6694785793605</td><td>487.0538941211369</td><td>8.943690830844433</td><td>410.57252180850554</td><td>-490.5197965381904</td><td>8.532021416805206</td><td>0.83969307</td><td>19.276276</td></tr>\n",
       "</table></div>"
      ],
      "text/plain": [
       "<Table length=113687>\n",
       " CATAID       OBJID             RA          DEC      R_PETRO   ZGAMA    NQ  ...     CARTESIAN_Z       ROTCARTESIAN_X      ROTCARTESIAN_Y      ROTCARTESIAN_Z      GMR       DETMAG \n",
       "                               deg          deg        mag                  ...                                                                                   mag        mag   \n",
       " int32        int64          float64      float64    float32  float32 int16 ...       float64            float64             float64             float64        float32    float32 \n",
       "------- ------------------ ------------ ----------- --------- ------- ----- ... ------------------- ------------------ ------------------- ------------------- ---------- ---------\n",
       "  49666 587722982295273988 221.89800269  -0.6415381 19.241835 0.12458     4 ...  -4.080854256126575 273.30030998287657  241.09224426149586  -4.354889763758178 0.20480347 19.241835\n",
       " 139025 587724650333077845 185.31240015 -1.71745883 19.589233 0.07201     3 ...  -6.381005589922235  212.0490405347563  17.922830436436097  -6.593626673755219 0.31070518 19.589233\n",
       " 214264 587725075524682122 129.50683691  0.52589209 18.379673 0.07826     4 ...    2.12113451328627 145.51211007838148 -179.52610400322502  1.9752331235584817  0.8474808 18.379673\n",
       " 536269 588848898839543956 181.39347962 -0.85282612 17.191727 0.15774     5 ...  -6.821934742361414  458.2219394709942   7.296100659330028  -7.281389321955303  1.0550652 17.191727\n",
       " 418998 587728879259680951 138.42527661  2.73289256 19.210749 0.15464     4 ...  21.437830774361636  333.4802231857957  -300.8383466656785  21.103466744793728    1.02178 19.210749\n",
       "  54280 587722982812680385 177.47329606 -0.31725895 17.634909 0.10636     5 ... -1.7293614973141267 311.88084194944713 -16.388611600815402 -2.0420798496929287  0.7440376 17.634909\n",
       " 377162 587727943491256566 136.65750354  1.55698374 18.749691 0.21078     4 ...  16.455892305458278   436.806781247178  -419.2149833084115  16.017922033113244  1.2591953 18.749691\n",
       "  40016 587722982276661360 179.32108875  -0.7282803 17.932632 0.08423     4 ... -3.1577398347411334 248.36033076963108  -5.029802486538083 -3.4067679959696218 0.50904083 17.932632\n",
       " 620018 588848900468244857 222.77076993  0.31348161  19.02901 0.24358     4 ...   3.802273622560577  514.0912056812136  467.61156593347175  3.2868052443748965 0.93543625  19.02901\n",
       "    ...                ...          ...         ...       ...     ...   ... ...                 ...                ...                 ...                 ...        ...       ...\n",
       "3580501 587729150375166191 131.78536165 -1.63553463 19.514818 0.18549     4 ...  -15.29383925644776  353.5270871333852  -402.3711553410259  -15.64832239150692 0.87820625 19.514818\n",
       " 599414 588848900428267978 131.37537209  0.24548389 19.501078 0.21382     4 ...  2.6305641534138062 401.94469219185385  -464.1113766692935  2.2275425401974234   1.257124 19.501078\n",
       "  39105 587722982274826438 175.21481956 -0.78939957 19.412838 0.22896     4 ...  -9.028354642131436  652.4743255236301  -60.14376575118024  -9.682583811860843  1.3086777 19.412838\n",
       " 186463 587725041704501820 184.57957855 -1.45633905 19.764551 0.23952     4 ... -17.383284032684536  681.9855059578898   48.86635383841578 -18.067107748459026   1.225296 19.764551\n",
       " 130852 587724649793454275 179.01554402 -2.16749218 19.636364 0.08249     4 ...  -9.205095019136596  243.1237015403025  -6.221128995811171  -9.448875543450551  0.4194107 19.636364\n",
       " 618670 588848900465492210 216.40553559  0.36774914 18.724096 0.13108     4 ...   2.458086412609354 310.12696546647686    224.693031069197   2.147128746575449   1.019804 18.724096\n",
       " 216345 587725075528286796 137.67737506  0.62673543  19.31674 0.19599     4 ...   6.179301274886419 414.45325680402533 -383.83472898103446   5.763739325901883 0.73477554  19.31674\n",
       "  39583 587722982275874923 177.52358306 -0.67440757 19.415237 0.12211     4 ...  -4.206993317132424  356.9173873765393 -18.441183069408766  -4.564870273937984 0.58779716 19.415237\n",
       " 203036 587725074452119983 132.24395112  -0.2196714 18.779766 0.18943     4 ... -2.0963067371932858  364.1697025201961 -407.83851869854664 -2.4614544029475924 0.52350426 18.779766\n",
       " 278346 587726031689941801 130.41051311  0.80104703 19.276276 0.22324     4 ...   8.943690830844433 410.57252180850554  -490.5197965381904   8.532021416805206 0.83969307 19.276276"
      ]
     },
     "execution_count": 58,
     "metadata": {},
     "output_type": "execute_result"
    }
   ],
   "source": [
    "fpath = findfile(ftype='gold', dryrun=dryrun, version=version, survey=survey)\n",
    "gold  = Table.read(fpath)\n",
    "gold"
   ]
  },
  {
   "cell_type": "markdown",
   "id": "af7374cc",
   "metadata": {},
   "source": [
    "##  Cobaya"
   ]
  },
  {
   "cell_type": "code",
   "execution_count": 59,
   "id": "4b3bbe35",
   "metadata": {},
   "outputs": [],
   "source": [
    "# root = '/cosma/home/durham/{}/data/GAMA4/cobaya/'.format(os.environ['USER'])"
   ]
  },
  {
   "cell_type": "code",
   "execution_count": 60,
   "id": "d3739ef3",
   "metadata": {},
   "outputs": [],
   "source": [
    "# dat = Table.read(root + 'schechter_chain.1.txt', format='ascii')        "
   ]
  },
  {
   "cell_type": "code",
   "execution_count": 61,
   "id": "83b39ef3",
   "metadata": {},
   "outputs": [],
   "source": [
    "# samples = np.c_[dat['log10phistar'], dat['Mstar'], dat['alpha']]"
   ]
  },
  {
   "cell_type": "code",
   "execution_count": 62,
   "id": "ebf64b82",
   "metadata": {},
   "outputs": [],
   "source": [
    "# samples = MCSamples(samples=samples, names=['log10phistar', 'Mstar', 'alpha'], labels=['log10phistar', 'Mstar', 'alpha'])"
   ]
  },
  {
   "cell_type": "code",
   "execution_count": 63,
   "id": "8feb7c84",
   "metadata": {},
   "outputs": [],
   "source": [
    "# tmr_ref = {'log10phistar': -2.01, 'Mstar': -20.89, 'alpha': -1.25}"
   ]
  },
  {
   "cell_type": "code",
   "execution_count": 64,
   "id": "d6dc9872",
   "metadata": {},
   "outputs": [],
   "source": [
    "# g = plots.get_subplot_plotter()"
   ]
  },
  {
   "cell_type": "code",
   "execution_count": 65,
   "id": "de30fd82",
   "metadata": {},
   "outputs": [],
   "source": [
    "# g.triangle_plot([samples], filled=True)        "
   ]
  },
  {
   "cell_type": "markdown",
   "id": "b36aa4d0",
   "metadata": {},
   "source": [
    "# Done."
   ]
  }
 ],
 "metadata": {
  "kernelspec": {
   "display_name": "Lumfn",
   "language": "python",
   "name": "lumfn"
  },
  "language_info": {
   "codemirror_mode": {
    "name": "ipython",
    "version": 3
   },
   "file_extension": ".py",
   "mimetype": "text/x-python",
   "name": "python",
   "nbconvert_exporter": "python",
   "pygments_lexer": "ipython3",
   "version": "3.9.9"
  }
 },
 "nbformat": 4,
 "nbformat_minor": 5
}
