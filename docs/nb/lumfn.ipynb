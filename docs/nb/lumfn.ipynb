{
 "cells": [
  {
   "cell_type": "code",
   "execution_count": 1,
   "id": "e4c7f206",
   "metadata": {},
   "outputs": [],
   "source": [
    "import os\n",
    "import sys\n",
    "import pylab as pl\n",
    "import numpy as np\n",
    "import matplotlib.pyplot as plt\n",
    "import numpy as np\n",
    "\n",
    "# from   getdist     import plots, MCSamples \n",
    "from   astropy.table import Table"
   ]
  },
  {
   "cell_type": "code",
   "execution_count": 2,
   "id": "158d1adb",
   "metadata": {},
   "outputs": [],
   "source": [
    "sys.path.append(os.environ['HOME'])\n",
    "sys.path.append(os.environ['HOME'] + '/DESI/')"
   ]
  },
  {
   "cell_type": "code",
   "execution_count": 3,
   "id": "9f1666d1",
   "metadata": {},
   "outputs": [],
   "source": [
    "import pubplot\n",
    "\n",
    "from   schechter     import schechter, named_schechter\n",
    "from   findfile      import findfile"
   ]
  },
  {
   "cell_type": "code",
   "execution_count": 4,
   "id": "12b4cb2c",
   "metadata": {},
   "outputs": [],
   "source": [
    "version = 'GAMA4'\n",
    "survey  = 'gama'\n",
    "dryrun  =  False"
   ]
  },
  {
   "cell_type": "code",
   "execution_count": 5,
   "id": "8cdd3aa0",
   "metadata": {},
   "outputs": [
    {
     "data": {
      "text/plain": [
       "'/cosma/home/durham/dc-wils7/data/GAMA4/gama_gold.fits'"
      ]
     },
     "execution_count": 5,
     "metadata": {},
     "output_type": "execute_result"
    }
   ],
   "source": [
    "fpath = findfile(ftype='gold', dryrun=dryrun, version=version, survey=survey)\n",
    "fpath"
   ]
  },
  {
   "cell_type": "code",
   "execution_count": 6,
   "id": "868a3c47",
   "metadata": {},
   "outputs": [
    {
     "data": {
      "text/plain": [
       "OrderedDict([('AREA', 180.0),\n",
       "             ('GOLD_NGAL', 121975),\n",
       "             ('IMMUTABLE', 'FALSE'),\n",
       "             ('RLIM', 19.8),\n",
       "             ('RMAX', 12.0),\n",
       "             ('MAX_SEP', 70.0)])"
      ]
     },
     "execution_count": 6,
     "metadata": {},
     "output_type": "execute_result"
    }
   ],
   "source": [
    "gold = Table.read(fpath)\n",
    "gold.meta"
   ]
  },
  {
   "cell_type": "markdown",
   "id": "b6b9871c",
   "metadata": {},
   "source": [
    "##  VMAX"
   ]
  },
  {
   "cell_type": "code",
   "execution_count": 7,
   "id": "f9dbc585",
   "metadata": {},
   "outputs": [
    {
     "ename": "FileNotFoundError",
     "evalue": "[Errno 2] No such file or directory: '/cosma/home/durham/dc-wils7/data/GAMA4/gama_gold_vmax.fits'",
     "output_type": "error",
     "traceback": [
      "\u001b[0;31m---------------------------------------------------------------------------\u001b[0m",
      "\u001b[0;31mFileNotFoundError\u001b[0m                         Traceback (most recent call last)",
      "Input \u001b[0;32mIn [7]\u001b[0m, in \u001b[0;36m<module>\u001b[0;34m\u001b[0m\n\u001b[1;32m      1\u001b[0m fpath \u001b[38;5;241m=\u001b[39m findfile(ftype\u001b[38;5;241m=\u001b[39m\u001b[38;5;124m'\u001b[39m\u001b[38;5;124mvmax\u001b[39m\u001b[38;5;124m'\u001b[39m, dryrun\u001b[38;5;241m=\u001b[39mdryrun, version\u001b[38;5;241m=\u001b[39mversion, survey\u001b[38;5;241m=\u001b[39msurvey)\n\u001b[0;32m----> 2\u001b[0m vmax  \u001b[38;5;241m=\u001b[39m \u001b[43mTable\u001b[49m\u001b[38;5;241;43m.\u001b[39;49m\u001b[43mread\u001b[49m\u001b[43m(\u001b[49m\u001b[43mfpath\u001b[49m\u001b[43m)\u001b[49m\n\u001b[1;32m      3\u001b[0m vmax\u001b[38;5;241m.\u001b[39msort(\u001b[38;5;124m'\u001b[39m\u001b[38;5;124mMCOLOR_0P0\u001b[39m\u001b[38;5;124m'\u001b[39m)\n\u001b[1;32m      4\u001b[0m vmax\n",
      "File \u001b[0;32m~/.local/lib/python3.9/site-packages/astropy/table/connect.py:62\u001b[0m, in \u001b[0;36mTableRead.__call__\u001b[0;34m(self, *args, **kwargs)\u001b[0m\n\u001b[1;32m     59\u001b[0m units \u001b[38;5;241m=\u001b[39m kwargs\u001b[38;5;241m.\u001b[39mpop(\u001b[38;5;124m'\u001b[39m\u001b[38;5;124munits\u001b[39m\u001b[38;5;124m'\u001b[39m, \u001b[38;5;28;01mNone\u001b[39;00m)\n\u001b[1;32m     60\u001b[0m descriptions \u001b[38;5;241m=\u001b[39m kwargs\u001b[38;5;241m.\u001b[39mpop(\u001b[38;5;124m'\u001b[39m\u001b[38;5;124mdescriptions\u001b[39m\u001b[38;5;124m'\u001b[39m, \u001b[38;5;28;01mNone\u001b[39;00m)\n\u001b[0;32m---> 62\u001b[0m out \u001b[38;5;241m=\u001b[39m \u001b[38;5;28;43mself\u001b[39;49m\u001b[38;5;241;43m.\u001b[39;49m\u001b[43mregistry\u001b[49m\u001b[38;5;241;43m.\u001b[39;49m\u001b[43mread\u001b[49m\u001b[43m(\u001b[49m\u001b[38;5;28;43mcls\u001b[39;49m\u001b[43m,\u001b[49m\u001b[43m \u001b[49m\u001b[38;5;241;43m*\u001b[39;49m\u001b[43margs\u001b[49m\u001b[43m,\u001b[49m\u001b[43m \u001b[49m\u001b[38;5;241;43m*\u001b[39;49m\u001b[38;5;241;43m*\u001b[39;49m\u001b[43mkwargs\u001b[49m\u001b[43m)\u001b[49m\n\u001b[1;32m     64\u001b[0m \u001b[38;5;66;03m# For some readers (e.g., ascii.ecsv), the returned `out` class is not\u001b[39;00m\n\u001b[1;32m     65\u001b[0m \u001b[38;5;66;03m# guaranteed to be the same as the desired output `cls`.  If so,\u001b[39;00m\n\u001b[1;32m     66\u001b[0m \u001b[38;5;66;03m# try coercing to desired class without copying (io.registry.read\u001b[39;00m\n\u001b[1;32m     67\u001b[0m \u001b[38;5;66;03m# would normally do a copy).  The normal case here is swapping\u001b[39;00m\n\u001b[1;32m     68\u001b[0m \u001b[38;5;66;03m# Table <=> QTable.\u001b[39;00m\n\u001b[1;32m     69\u001b[0m \u001b[38;5;28;01mif\u001b[39;00m \u001b[38;5;28mcls\u001b[39m \u001b[38;5;129;01mis\u001b[39;00m \u001b[38;5;129;01mnot\u001b[39;00m out\u001b[38;5;241m.\u001b[39m\u001b[38;5;18m__class__\u001b[39m:\n",
      "File \u001b[0;32m~/.local/lib/python3.9/site-packages/astropy/io/registry/core.py:184\u001b[0m, in \u001b[0;36mUnifiedInputRegistry.read\u001b[0;34m(self, cls, format, cache, *args, **kwargs)\u001b[0m\n\u001b[1;32m    182\u001b[0m \u001b[38;5;28;01mtry\u001b[39;00m:\n\u001b[1;32m    183\u001b[0m     ctx \u001b[38;5;241m=\u001b[39m get_readable_fileobj(args[\u001b[38;5;241m0\u001b[39m], encoding\u001b[38;5;241m=\u001b[39m\u001b[38;5;124m'\u001b[39m\u001b[38;5;124mbinary\u001b[39m\u001b[38;5;124m'\u001b[39m, cache\u001b[38;5;241m=\u001b[39mcache)\n\u001b[0;32m--> 184\u001b[0m     fileobj \u001b[38;5;241m=\u001b[39m \u001b[43mctx\u001b[49m\u001b[38;5;241;43m.\u001b[39;49m\u001b[38;5;21;43m__enter__\u001b[39;49m\u001b[43m(\u001b[49m\u001b[43m)\u001b[49m\n\u001b[1;32m    185\u001b[0m \u001b[38;5;28;01mexcept\u001b[39;00m \u001b[38;5;167;01mOSError\u001b[39;00m:\n\u001b[1;32m    186\u001b[0m     \u001b[38;5;28;01mraise\u001b[39;00m\n",
      "File \u001b[0;32m~/.conda/envs/lumfn/lib/python3.9/contextlib.py:119\u001b[0m, in \u001b[0;36m_GeneratorContextManager.__enter__\u001b[0;34m(self)\u001b[0m\n\u001b[1;32m    117\u001b[0m \u001b[38;5;28;01mdel\u001b[39;00m \u001b[38;5;28mself\u001b[39m\u001b[38;5;241m.\u001b[39margs, \u001b[38;5;28mself\u001b[39m\u001b[38;5;241m.\u001b[39mkwds, \u001b[38;5;28mself\u001b[39m\u001b[38;5;241m.\u001b[39mfunc\n\u001b[1;32m    118\u001b[0m \u001b[38;5;28;01mtry\u001b[39;00m:\n\u001b[0;32m--> 119\u001b[0m     \u001b[38;5;28;01mreturn\u001b[39;00m \u001b[38;5;28;43mnext\u001b[39;49m\u001b[43m(\u001b[49m\u001b[38;5;28;43mself\u001b[39;49m\u001b[38;5;241;43m.\u001b[39;49m\u001b[43mgen\u001b[49m\u001b[43m)\u001b[49m\n\u001b[1;32m    120\u001b[0m \u001b[38;5;28;01mexcept\u001b[39;00m \u001b[38;5;167;01mStopIteration\u001b[39;00m:\n\u001b[1;32m    121\u001b[0m     \u001b[38;5;28;01mraise\u001b[39;00m \u001b[38;5;167;01mRuntimeError\u001b[39;00m(\u001b[38;5;124m\"\u001b[39m\u001b[38;5;124mgenerator didn\u001b[39m\u001b[38;5;124m'\u001b[39m\u001b[38;5;124mt yield\u001b[39m\u001b[38;5;124m\"\u001b[39m) \u001b[38;5;28;01mfrom\u001b[39;00m \u001b[38;5;28mNone\u001b[39m\n",
      "File \u001b[0;32m~/.local/lib/python3.9/site-packages/astropy/utils/data.py:271\u001b[0m, in \u001b[0;36mget_readable_fileobj\u001b[0;34m(name_or_obj, encoding, cache, show_progress, remote_timeout, sources, http_headers)\u001b[0m\n\u001b[1;32m    266\u001b[0m \u001b[38;5;28;01mif\u001b[39;00m is_url:\n\u001b[1;32m    267\u001b[0m     name_or_obj \u001b[38;5;241m=\u001b[39m download_file(\n\u001b[1;32m    268\u001b[0m         name_or_obj, cache\u001b[38;5;241m=\u001b[39mcache, show_progress\u001b[38;5;241m=\u001b[39mshow_progress,\n\u001b[1;32m    269\u001b[0m         timeout\u001b[38;5;241m=\u001b[39mremote_timeout, sources\u001b[38;5;241m=\u001b[39msources,\n\u001b[1;32m    270\u001b[0m         http_headers\u001b[38;5;241m=\u001b[39mhttp_headers)\n\u001b[0;32m--> 271\u001b[0m fileobj \u001b[38;5;241m=\u001b[39m \u001b[43mio\u001b[49m\u001b[38;5;241;43m.\u001b[39;49m\u001b[43mFileIO\u001b[49m\u001b[43m(\u001b[49m\u001b[43mname_or_obj\u001b[49m\u001b[43m,\u001b[49m\u001b[43m \u001b[49m\u001b[38;5;124;43m'\u001b[39;49m\u001b[38;5;124;43mr\u001b[39;49m\u001b[38;5;124;43m'\u001b[39;49m\u001b[43m)\u001b[49m\n\u001b[1;32m    272\u001b[0m \u001b[38;5;28;01mif\u001b[39;00m is_url \u001b[38;5;129;01mand\u001b[39;00m \u001b[38;5;129;01mnot\u001b[39;00m cache:\n\u001b[1;32m    273\u001b[0m     delete_fds\u001b[38;5;241m.\u001b[39mappend(fileobj)\n",
      "\u001b[0;31mFileNotFoundError\u001b[0m: [Errno 2] No such file or directory: '/cosma/home/durham/dc-wils7/data/GAMA4/gama_gold_vmax.fits'"
     ]
    }
   ],
   "source": [
    "fpath = findfile(ftype='vmax', dryrun=dryrun, version=version, survey=survey)\n",
    "vmax  = Table.read(fpath)\n",
    "vmax.sort('MCOLOR_0P0')\n",
    "vmax"
   ]
  },
  {
   "cell_type": "markdown",
   "id": "d2636c10",
   "metadata": {},
   "source": [
    "##  LUMFN"
   ]
  },
  {
   "cell_type": "code",
   "execution_count": 8,
   "id": "e9dd3185",
   "metadata": {},
   "outputs": [
    {
     "ename": "FileNotFoundError",
     "evalue": "[Errno 2] No such file or directory: '/cosma/home/durham/dc-wils7/data/GAMA4/gama_gold_lumfn.fits'",
     "output_type": "error",
     "traceback": [
      "\u001b[0;31m---------------------------------------------------------------------------\u001b[0m",
      "\u001b[0;31mFileNotFoundError\u001b[0m                         Traceback (most recent call last)",
      "Input \u001b[0;32mIn [8]\u001b[0m, in \u001b[0;36m<module>\u001b[0;34m\u001b[0m\n\u001b[1;32m      1\u001b[0m fpath \u001b[38;5;241m=\u001b[39m findfile(ftype\u001b[38;5;241m=\u001b[39m\u001b[38;5;124m'\u001b[39m\u001b[38;5;124mlumfn\u001b[39m\u001b[38;5;124m'\u001b[39m, dryrun\u001b[38;5;241m=\u001b[39mdryrun, version\u001b[38;5;241m=\u001b[39mversion, survey\u001b[38;5;241m=\u001b[39msurvey)\n\u001b[0;32m----> 2\u001b[0m lumfn \u001b[38;5;241m=\u001b[39m \u001b[43mTable\u001b[49m\u001b[38;5;241;43m.\u001b[39;49m\u001b[43mread\u001b[49m\u001b[43m(\u001b[49m\u001b[43mfpath\u001b[49m\u001b[43m)\u001b[49m\n\u001b[1;32m      3\u001b[0m lumfn\n",
      "File \u001b[0;32m~/.local/lib/python3.9/site-packages/astropy/table/connect.py:62\u001b[0m, in \u001b[0;36mTableRead.__call__\u001b[0;34m(self, *args, **kwargs)\u001b[0m\n\u001b[1;32m     59\u001b[0m units \u001b[38;5;241m=\u001b[39m kwargs\u001b[38;5;241m.\u001b[39mpop(\u001b[38;5;124m'\u001b[39m\u001b[38;5;124munits\u001b[39m\u001b[38;5;124m'\u001b[39m, \u001b[38;5;28;01mNone\u001b[39;00m)\n\u001b[1;32m     60\u001b[0m descriptions \u001b[38;5;241m=\u001b[39m kwargs\u001b[38;5;241m.\u001b[39mpop(\u001b[38;5;124m'\u001b[39m\u001b[38;5;124mdescriptions\u001b[39m\u001b[38;5;124m'\u001b[39m, \u001b[38;5;28;01mNone\u001b[39;00m)\n\u001b[0;32m---> 62\u001b[0m out \u001b[38;5;241m=\u001b[39m \u001b[38;5;28;43mself\u001b[39;49m\u001b[38;5;241;43m.\u001b[39;49m\u001b[43mregistry\u001b[49m\u001b[38;5;241;43m.\u001b[39;49m\u001b[43mread\u001b[49m\u001b[43m(\u001b[49m\u001b[38;5;28;43mcls\u001b[39;49m\u001b[43m,\u001b[49m\u001b[43m \u001b[49m\u001b[38;5;241;43m*\u001b[39;49m\u001b[43margs\u001b[49m\u001b[43m,\u001b[49m\u001b[43m \u001b[49m\u001b[38;5;241;43m*\u001b[39;49m\u001b[38;5;241;43m*\u001b[39;49m\u001b[43mkwargs\u001b[49m\u001b[43m)\u001b[49m\n\u001b[1;32m     64\u001b[0m \u001b[38;5;66;03m# For some readers (e.g., ascii.ecsv), the returned `out` class is not\u001b[39;00m\n\u001b[1;32m     65\u001b[0m \u001b[38;5;66;03m# guaranteed to be the same as the desired output `cls`.  If so,\u001b[39;00m\n\u001b[1;32m     66\u001b[0m \u001b[38;5;66;03m# try coercing to desired class without copying (io.registry.read\u001b[39;00m\n\u001b[1;32m     67\u001b[0m \u001b[38;5;66;03m# would normally do a copy).  The normal case here is swapping\u001b[39;00m\n\u001b[1;32m     68\u001b[0m \u001b[38;5;66;03m# Table <=> QTable.\u001b[39;00m\n\u001b[1;32m     69\u001b[0m \u001b[38;5;28;01mif\u001b[39;00m \u001b[38;5;28mcls\u001b[39m \u001b[38;5;129;01mis\u001b[39;00m \u001b[38;5;129;01mnot\u001b[39;00m out\u001b[38;5;241m.\u001b[39m\u001b[38;5;18m__class__\u001b[39m:\n",
      "File \u001b[0;32m~/.local/lib/python3.9/site-packages/astropy/io/registry/core.py:184\u001b[0m, in \u001b[0;36mUnifiedInputRegistry.read\u001b[0;34m(self, cls, format, cache, *args, **kwargs)\u001b[0m\n\u001b[1;32m    182\u001b[0m \u001b[38;5;28;01mtry\u001b[39;00m:\n\u001b[1;32m    183\u001b[0m     ctx \u001b[38;5;241m=\u001b[39m get_readable_fileobj(args[\u001b[38;5;241m0\u001b[39m], encoding\u001b[38;5;241m=\u001b[39m\u001b[38;5;124m'\u001b[39m\u001b[38;5;124mbinary\u001b[39m\u001b[38;5;124m'\u001b[39m, cache\u001b[38;5;241m=\u001b[39mcache)\n\u001b[0;32m--> 184\u001b[0m     fileobj \u001b[38;5;241m=\u001b[39m \u001b[43mctx\u001b[49m\u001b[38;5;241;43m.\u001b[39;49m\u001b[38;5;21;43m__enter__\u001b[39;49m\u001b[43m(\u001b[49m\u001b[43m)\u001b[49m\n\u001b[1;32m    185\u001b[0m \u001b[38;5;28;01mexcept\u001b[39;00m \u001b[38;5;167;01mOSError\u001b[39;00m:\n\u001b[1;32m    186\u001b[0m     \u001b[38;5;28;01mraise\u001b[39;00m\n",
      "File \u001b[0;32m~/.conda/envs/lumfn/lib/python3.9/contextlib.py:119\u001b[0m, in \u001b[0;36m_GeneratorContextManager.__enter__\u001b[0;34m(self)\u001b[0m\n\u001b[1;32m    117\u001b[0m \u001b[38;5;28;01mdel\u001b[39;00m \u001b[38;5;28mself\u001b[39m\u001b[38;5;241m.\u001b[39margs, \u001b[38;5;28mself\u001b[39m\u001b[38;5;241m.\u001b[39mkwds, \u001b[38;5;28mself\u001b[39m\u001b[38;5;241m.\u001b[39mfunc\n\u001b[1;32m    118\u001b[0m \u001b[38;5;28;01mtry\u001b[39;00m:\n\u001b[0;32m--> 119\u001b[0m     \u001b[38;5;28;01mreturn\u001b[39;00m \u001b[38;5;28;43mnext\u001b[39;49m\u001b[43m(\u001b[49m\u001b[38;5;28;43mself\u001b[39;49m\u001b[38;5;241;43m.\u001b[39;49m\u001b[43mgen\u001b[49m\u001b[43m)\u001b[49m\n\u001b[1;32m    120\u001b[0m \u001b[38;5;28;01mexcept\u001b[39;00m \u001b[38;5;167;01mStopIteration\u001b[39;00m:\n\u001b[1;32m    121\u001b[0m     \u001b[38;5;28;01mraise\u001b[39;00m \u001b[38;5;167;01mRuntimeError\u001b[39;00m(\u001b[38;5;124m\"\u001b[39m\u001b[38;5;124mgenerator didn\u001b[39m\u001b[38;5;124m'\u001b[39m\u001b[38;5;124mt yield\u001b[39m\u001b[38;5;124m\"\u001b[39m) \u001b[38;5;28;01mfrom\u001b[39;00m \u001b[38;5;28mNone\u001b[39m\n",
      "File \u001b[0;32m~/.local/lib/python3.9/site-packages/astropy/utils/data.py:271\u001b[0m, in \u001b[0;36mget_readable_fileobj\u001b[0;34m(name_or_obj, encoding, cache, show_progress, remote_timeout, sources, http_headers)\u001b[0m\n\u001b[1;32m    266\u001b[0m \u001b[38;5;28;01mif\u001b[39;00m is_url:\n\u001b[1;32m    267\u001b[0m     name_or_obj \u001b[38;5;241m=\u001b[39m download_file(\n\u001b[1;32m    268\u001b[0m         name_or_obj, cache\u001b[38;5;241m=\u001b[39mcache, show_progress\u001b[38;5;241m=\u001b[39mshow_progress,\n\u001b[1;32m    269\u001b[0m         timeout\u001b[38;5;241m=\u001b[39mremote_timeout, sources\u001b[38;5;241m=\u001b[39msources,\n\u001b[1;32m    270\u001b[0m         http_headers\u001b[38;5;241m=\u001b[39mhttp_headers)\n\u001b[0;32m--> 271\u001b[0m fileobj \u001b[38;5;241m=\u001b[39m \u001b[43mio\u001b[49m\u001b[38;5;241;43m.\u001b[39;49m\u001b[43mFileIO\u001b[49m\u001b[43m(\u001b[49m\u001b[43mname_or_obj\u001b[49m\u001b[43m,\u001b[49m\u001b[43m \u001b[49m\u001b[38;5;124;43m'\u001b[39;49m\u001b[38;5;124;43mr\u001b[39;49m\u001b[38;5;124;43m'\u001b[39;49m\u001b[43m)\u001b[49m\n\u001b[1;32m    272\u001b[0m \u001b[38;5;28;01mif\u001b[39;00m is_url \u001b[38;5;129;01mand\u001b[39;00m \u001b[38;5;129;01mnot\u001b[39;00m cache:\n\u001b[1;32m    273\u001b[0m     delete_fds\u001b[38;5;241m.\u001b[39mappend(fileobj)\n",
      "\u001b[0;31mFileNotFoundError\u001b[0m: [Errno 2] No such file or directory: '/cosma/home/durham/dc-wils7/data/GAMA4/gama_gold_lumfn.fits'"
     ]
    }
   ],
   "source": [
    "fpath = findfile(ftype='lumfn', dryrun=dryrun, version=version, survey=survey)\n",
    "lumfn = Table.read(fpath)\n",
    "lumfn"
   ]
  },
  {
   "cell_type": "code",
   "execution_count": 9,
   "id": "4c91b3fe",
   "metadata": {},
   "outputs": [],
   "source": [
    "# read in TMR stepwise digitalisation\n",
    "fpath     = '/cosma/home/durham/dc-wils7/DESI/data/tmr_ref_stepwise.txt'\n",
    "lumfn_TMR = Table.read(fpath, format='ascii', names=['Ms', 'PHI_STEP'])"
   ]
  },
  {
   "cell_type": "code",
   "execution_count": 17,
   "id": "92166cc6",
   "metadata": {},
   "outputs": [
    {
     "name": "stderr",
     "output_type": "stream",
     "text": [
      "/tmp/ipykernel_211175/3680491744.py:8: RuntimeWarning: divide by zero encountered in log10\n",
      "  pl.plot(lumfn['MEDIAN_M'],    np.log10(lumfn['PHI_IVMAX']),    label='IVMAX', lw=2.)\n",
      "/tmp/ipykernel_211175/3680491744.py:9: RuntimeWarning: divide by zero encountered in log10\n",
      "  pl.plot(lumfn['IVMAXMEAN_M'], np.log10(lumfn['PHI_IVMAX']),    label='IVMAX', lw=0., marker='.')\n"
     ]
    },
    {
     "data": {
      "text/plain": [
       "Text(0.5, 1.0, 'GAMA')"
      ]
     },
     "execution_count": 17,
     "metadata": {},
     "output_type": "execute_result"
    },
    {
     "data": {
      "image/png": "[encoded data removed]",
      "text/plain": [
       "<Figure size 720x360 with 1 Axes>"
      ]
     },
     "metadata": {
      "needs_background": "light"
     },
     "output_type": "display_data"
    }
   ],
   "source": [
    "fig, ax = plt.subplots(1,1,figsize=(10, 5))\n",
    "\n",
    "pl.sca(ax)\n",
    "\n",
    "# pl.plot(lumfn_TMR['Ms'], lumfn_TMR['PHI_STEP'], label='TMR STEPWISE', lw=2.)\n",
    "\n",
    "# pl.plot(lumfn['MEDIAN_M'],    np.log10(lumfn['PHI_N'] / 0.77), label='RAW', lw=2.)\n",
    "pl.plot(lumfn['MEDIAN_M'],    np.log10(lumfn['PHI_IVMAX']),    label='IVMAX', lw=2.)\n",
    "pl.plot(lumfn['IVMAXMEAN_M'], np.log10(lumfn['PHI_IVMAX']),    label='IVMAX', lw=0., marker='.')\n",
    "\n",
    "pl.plot(lumfn['MEDIAN_M'],    np.log10(named_schechter(lumfn['MEDIAN_M'], 'TMR')), linestyle='--', c='k', lw=1.)\n",
    "\n",
    "\n",
    "# pl.scatter(lumfn_TMR['Ms'], lumfn_TMR['PHI_STEP'], s=0.5)\n",
    "# pl.plot(lumfn_TMR['Ms'], lumfn_TMR['PHI_STEP'], label='TMR_SWML', lw=1.)\n",
    "\n",
    "pl.xlabel(r'$M$')\n",
    "pl.ylabel(r'$\\Phi(M)$')\n",
    "\n",
    "pl.ylim(-4.25, -1.)\n",
    "pl.xlim(-23., -15.5)\n",
    "\n",
    "pl.legend(frameon=False, loc=2)\n",
    "pl.title(survey.upper())"
   ]
  },
  {
   "cell_type": "code",
   "execution_count": 18,
   "id": "76301a99",
   "metadata": {},
   "outputs": [
    {
     "data": {
      "text/html": [
       "<div><i>Table length=121975</i>\n",
       "<table id=\"table139725097681248\" class=\"table-striped table-bordered table-condensed\">\n",
       "<thead><tr><th>CATAID</th><th>OBJID</th><th>RA</th><th>DEC</th><th>R_PETRO</th><th>ZGAMA</th><th>NQ</th><th>SPECID</th><th>SURVEY_CLASS</th><th>UMAG_DRED_SDSS</th><th>GMAG_DRED_SDSS</th><th>RMAG_DRED_SDSS</th><th>IMAG_DRED_SDSS</th><th>ZMAG_DRED_SDSS</th><th>ZSURV</th><th>LUMDIST</th><th>DISTMOD</th><th>FIELD</th><th>IN_D8LUMFN</th><th>CONSERVATIVE</th><th>CARTESIAN_X</th><th>CARTESIAN_Y</th><th>CARTESIAN_Z</th><th>ROTCARTESIAN_X</th><th>ROTCARTESIAN_Y</th><th>ROTCARTESIAN_Z</th><th>GMR</th><th>DETMAG</th></tr></thead>\n",
       "<thead><tr><th></th><th></th><th>deg</th><th>deg</th><th>mag</th><th></th><th></th><th></th><th></th><th>mag</th><th>mag</th><th>mag</th><th>mag</th><th>mag</th><th></th><th>Mpc</th><th></th><th></th><th></th><th></th><th></th><th></th><th></th><th></th><th></th><th></th><th>mag</th><th>mag</th></tr></thead>\n",
       "<thead><tr><th>int32</th><th>int64</th><th>float64</th><th>float64</th><th>float32</th><th>float32</th><th>int16</th><th>bytes33</th><th>int16</th><th>float32</th><th>float32</th><th>float32</th><th>float32</th><th>float32</th><th>float32</th><th>float64</th><th>float64</th><th>bytes3</th><th>int64</th><th>int64</th><th>float64</th><th>float64</th><th>float64</th><th>float64</th><th>float64</th><th>float64</th><th>float32</th><th>float32</th></tr></thead>\n",
       "<tr><td>186172</td><td>587725041703977119</td><td>183.36147981</td><td>-1.47603946</td><td>18.018501</td><td>0.12797</td><td>4</td><td>G12_Y1_GS2_031</td><td>6</td><td>19.953535</td><td>18.68423</td><td>18.02194</td><td>17.65001</td><td>17.319805</td><td>0.12797</td><td>422.00428891516066</td><td>38.12658432403494</td><td>G12</td><td>0</td><td>0</td><td>-373.3596109871224</td><td>-21.929760909860484</td><td>-9.63710564553418</td><td>373.49266132369706</td><td>19.32584906979296</td><td>-10.046433711321933</td><td>0.6622906</td><td>18.018501</td></tr>\n",
       "<tr><td>240048</td><td>587726014549721294</td><td>220.35365668</td><td>1.52173696</td><td>18.241734</td><td>0.08419</td><td>4</td><td>G15_Y1_GN2_360</td><td>6</td><td>20.009663</td><td>18.799726</td><td>18.24281</td><td>17.873219</td><td>17.704176</td><td>0.08419</td><td>269.2245786693688</td><td>37.1505735298624</td><td>G15</td><td>0</td><td>0</td><td>-189.16752438979816</td><td>-160.73053177087175</td><td>6.59439869998412</td><td>190.29078744208968</td><td>159.40758848267123</td><td>6.38585703999604</td><td>0.5569172</td><td>18.241734</td></tr>\n",
       "<tr><td>220544</td><td>587726013996073093</td><td>182.08402727</td><td>1.54607143</td><td>18.739721</td><td>0.21431</td><td>4</td><td>G12_Y1_EX2_399</td><td>6</td><td>21.580355</td><td>19.697283</td><td>18.532803</td><td>17.982117</td><td>17.715078</td><td>0.21431</td><td>747.1847629934595</td><td>39.367140034690664</td><td>G12</td><td>0</td><td>0</td><td>-614.6854523330815</td><td>-22.367903669549293</td><td>16.60170277623398</td><td>614.8443019907271</td><td>18.081253480015427</td><td>15.927885662972182</td><td>1.1644802</td><td>18.739721</td></tr>\n",
       "<tr><td>696407</td><td>587722984422768817</td><td>176.2539266</td><td>0.96075327</td><td>19.308483</td><td>0.26544</td><td>4</td><td>G12_Y2_032_143</td><td>4</td><td>22.646307</td><td>20.605484</td><td>19.284819</td><td>18.736702</td><td>18.39961</td><td>0.26544</td><td>953.7866843264428</td><td>39.89725627509861</td><td>G12</td><td>0</td><td>0</td><td>-752.0032833648487</td><td>49.23714171213921</td><td>12.638006887407187</td><td>751.655077762792</td><td>-54.479547099735385</td><td>11.814252189604048</td><td>1.3206654</td><td>19.308483</td></tr>\n",
       "<tr><td>7789</td><td>588848900986110711</td><td>179.30135256</td><td>0.76409281</td><td>19.518755</td><td>0.26327</td><td>4</td><td>G12_Y2_033_140</td><td>5</td><td>21.71862</td><td>20.247671</td><td>19.471909</td><td>19.237104</td><td>19.014057</td><td>0.26327</td><td>944.8162862114375</td><td>39.87673685396928</td><td>G12</td><td>0</td><td>0</td><td>-747.7910677810731</td><td>9.118790502094468</td><td>9.973826028407293</td><td>747.7197862312338</td><td>-14.332800063481145</td><td>9.154382539635934</td><td>0.77576256</td><td>19.518755</td></tr>\n",
       "<tr><td>78743</td><td>587722983367508318</td><td>218.42715105</td><td>0.14264876</td><td>18.302853</td><td>0.03048</td><td>3</td><td>G15_Y6_080_197</td><td>6</td><td>19.975256</td><td>18.723587</td><td>18.40436</td><td>18.310389</td><td>18.629835</td><td>0.03048</td><td>93.61897507751773</td><td>34.856819411226134</td><td>G15</td><td>0</td><td>0</td><td>-71.1714777111325</td><td>-56.464752068538516</td><td>0.2261878243947342</td><td>71.56367236814782</td><td>55.967111691722714</td><td>0.14775909546764165</td><td>0.31922722</td><td>18.302853</td></tr>\n",
       "<tr><td>397491</td><td>587728307496026245</td><td>178.30895126</td><td>1.61686552</td><td>19.131966</td><td>0.0772</td><td>5</td><td>579874220561950720</td><td>6</td><td>20.226706</td><td>19.48654</td><td>19.09197</td><td>18.710066</td><td>18.66265</td><td>0.0772</td><td>245.62095549441392</td><td>36.95132708244647</td><td>G12</td><td>0</td><td>0</td><td>-227.8279057101566</td><td>6.726149882300808</td><td>6.433727667548955</td><td>227.78238081330525</td><td>-8.314595049994736</td><td>6.184097702364939</td><td>0.3945694</td><td>19.131966</td></tr>\n",
       "<tr><td>85897</td><td>587722983889502489</td><td>184.47242736</td><td>0.47895984</td><td>19.485579</td><td>0.09972</td><td>4</td><td>G12_Y1_HD1_343</td><td>5</td><td>21.157537</td><td>19.792309</td><td>19.29044</td><td>18.984407</td><td>18.91735</td><td>0.09972</td><td>322.45105257690625</td><td>37.54231899471532</td><td>G12</td><td>0</td><td>0</td><td>-292.30890478794095</td><td>-22.863674985782136</td><td>2.4510551579248236</td><td>292.46373400595115</td><td>20.824894457139948</td><td>2.1305364848986357</td><td>0.5018692</td><td>19.485579</td></tr>\n",
       "<tr><td>559092</td><td>588848899373793524</td><td>175.46192621</td><td>-0.49910368</td><td>19.341295</td><td>0.10661</td><td>4</td><td>G12_Y1_AD2_052</td><td>6</td><td>22.030622</td><td>20.19547</td><td>19.351458</td><td>18.96882</td><td>18.709887</td><td>0.10661</td><td>346.40890608524114</td><td>37.6979452454499</td><td>G12</td><td>0</td><td>0</td><td>-312.042892851768</td><td>24.766960127770027</td><td>-2.726823840199855</td><td>311.859435039732</td><td>-26.942184769031538</td><td>-3.0686019775476754</td><td>0.8440132</td><td>19.341295</td></tr>\n",
       "<tr><td>363228</td><td>587726033339154483</td><td>218.56430594</td><td>2.65324211</td><td>19.116287</td><td>0.02913</td><td>4</td><td>G15_Y6_084_310</td><td>6</td><td>20.570007</td><td>19.60082</td><td>19.07903</td><td>21.42878</td><td>18.523903</td><td>0.02913</td><td>89.3783868099515</td><td>34.75616255908093</td><td>G15</td><td>0</td><td>0</td><td>-67.83481805032731</td><td>-54.08266788787351</td><td>4.020326282663235</td><td>68.21464404568327</td><td>53.60835143169983</td><td>3.9455701370280565</td><td>0.52179146</td><td>19.116287</td></tr>\n",
       "<tr><td>508034</td><td>587729971786154391</td><td>215.4331191</td><td>-1.61422015</td><td>19.665672</td><td>0.16088</td><td>4</td><td>G15_Y3_047_122</td><td>5</td><td>21.381863</td><td>20.251936</td><td>19.71605</td><td>19.407377</td><td>19.179121</td><td>0.16088</td><td>542.3121594601113</td><td>38.67124671042389</td><td>G15</td><td>0</td><td>0</td><td>-380.48437974580423</td><td>-270.7273205583465</td><td>-13.159660994206993</td><td>382.34821791052633</td><td>268.06768039685375</td><td>-13.578696256584351</td><td>0.53588676</td><td>19.665672</td></tr>\n",
       "<tr><td>...</td><td>...</td><td>...</td><td>...</td><td>...</td><td>...</td><td>...</td><td>...</td><td>...</td><td>...</td><td>...</td><td>...</td><td>...</td><td>...</td><td>...</td><td>...</td><td>...</td><td>...</td><td>...</td><td>...</td><td>...</td><td>...</td><td>...</td><td>...</td><td>...</td><td>...</td><td>...</td><td>...</td></tr>\n",
       "<tr><td>585572</td><td>588848899914137832</td><td>183.38114944</td><td>-0.14126018</td><td>19.795559</td><td>0.12376</td><td>4</td><td>G12_Y1_FT_013</td><td>5</td><td>22.21074</td><td>20.672626</td><td>19.857777</td><td>19.445791</td><td>19.27609</td><td>0.12376</td><td>406.947646254669</td><td>38.04769270453896</td><td>G12</td><td>0</td><td>0</td><td>-361.49892997348735</td><td>-21.357641606407743</td><td>-0.8928153743283466</td><td>361.6378696109748</td><td>18.836446365772648</td><td>-1.2891461522109602</td><td>0.81484985</td><td>19.795559</td></tr>\n",
       "<tr><td>106534</td><td>587722984440398149</td><td>216.47433543</td><td>0.87528784</td><td>18.261614</td><td>0.1216</td><td>4</td><td>G15_Y1_DN2_057</td><td>6</td><td>20.366817</td><td>19.060184</td><td>18.212595</td><td>17.84422</td><td>17.601812</td><td>0.1216</td><td>399.2524072631053</td><td>38.006237716825694</td><td>G15</td><td>0</td><td>0</td><td>-286.20779271695613</td><td>-211.5842945819461</td><td>5.437770828687461</td><td>287.6819660011216</td><td>209.58346825476661</td><td>5.122494438257546</td><td>0.8475895</td><td>18.261614</td></tr>\n",
       "<tr><td>560898</td><td>588848899376742755</td><td>182.08563339</td><td>-0.56303702</td><td>19.48054</td><td>0.25403</td><td>4</td><td>G12_Y3_028_024</td><td>5</td><td>21.499289</td><td>20.338938</td><td>19.543407</td><td>19.148659</td><td>18.879894</td><td>0.25403</td><td>906.8172185995761</td><td>39.78759878947237</td><td>G12</td><td>0</td><td>0</td><td>-722.6085108713227</td><td>-26.315419057514088</td><td>-7.105901189373819</td><td>722.7662155553863</td><td>21.276142137220265</td><td>-7.898007537226483</td><td>0.7955303</td><td>19.48054</td></tr>\n",
       "<tr><td>324251</td><td>587726032765780242</td><td>135.16119827</td><td>1.63128442</td><td>19.33376</td><td>0.1671</td><td>4</td><td>G09_Y2_034_396</td><td>6</td><td>20.802502</td><td>19.760504</td><td>19.358635</td><td>19.139294</td><td>19.281874</td><td>0.1671</td><td>565.5624565824007</td><td>38.76240286108475</td><td>G9</td><td>0</td><td>0</td><td>-343.47877635055835</td><td>341.5514793591623</td><td>13.794974465308185</td><td>341.10375414040715</td><td>-343.93820032977965</td><td>13.421156486711745</td><td>0.40186882</td><td>19.33376</td></tr>\n",
       "<tr><td>32154</td><td>587722981741625746</td><td>183.51630758</td><td>-1.13841616</td><td>19.46969</td><td>0.17762</td><td>4</td><td>G12_Y2_029_247</td><td>5</td><td>21.423656</td><td>20.097225</td><td>19.38107</td><td>19.067652</td><td>18.92897</td><td>0.17762</td><td>605.2503686296513</td><td>38.90967531311139</td><td>G12</td><td>0</td><td>0</td><td>-512.8918542354901</td><td>-31.51633807841533</td><td>-10.211269961517877</td><td>513.0876451035754</td><td>27.93925647162723</td><td>-10.77358487687952</td><td>0.716156</td><td>19.46969</td></tr>\n",
       "<tr><td>22310</td><td>588848901521997901</td><td>177.01372858</td><td>1.18322338</td><td>19.093204</td><td>0.21548</td><td>4</td><td>G12_Y1_BX2_045</td><td>6</td><td>21.15759</td><td>20.014532</td><td>19.170885</td><td>18.793098</td><td>18.402304</td><td>0.21548</td><td>751.7992346561828</td><td>39.38050939629595</td><td>G12</td><td>0</td><td>0</td><td>-617.5488351737072</td><td>32.21598828824601</td><td>12.772247144522472</td><td>617.3228118915629</td><td>-36.52127743659581</td><td>12.095711455099755</td><td>0.843647</td><td>19.093204</td></tr>\n",
       "<tr><td>726283</td><td>587727943491059874</td><td>136.31043251</td><td>1.63691895</td><td>19.498781</td><td>0.21496</td><td>4</td><td>G09_Y3_012_287</td><td>4</td><td>24.210588</td><td>20.816305</td><td>19.480528</td><td>18.907114</td><td>18.55418</td><td>0.21496</td><td>749.7476486772533</td><td>39.3745755621005</td><td>G9</td><td>0</td><td>0</td><td>-446.03608066429695</td><td>426.0859825655954</td><td>17.627819792899835</td><td>443.0732585334758</td><td>-429.1857646450449</td><td>17.142252549857798</td><td>1.3357773</td><td>19.498781</td></tr>\n",
       "<tr><td>47819</td><td>587722982291931746</td><td>214.25030418</td><td>-0.76441996</td><td>18.855145</td><td>0.13739</td><td>4</td><td>G15_Y1_CS2_159</td><td>6</td><td>20.89902</td><td>19.460846</td><td>18.748741</td><td>18.38052</td><td>18.103088</td><td>0.13739</td><td>455.97037741755827</td><td>38.29468314597594</td><td>G15</td><td>0</td><td>0</td><td>-331.34239641047327</td><td>-225.60558218068743</td><td>-5.348398014698476</td><td>332.90139265686145</td><td>223.2896983899894</td><td>-5.7132382652555735</td><td>0.7121048</td><td>18.855145</td></tr>\n",
       "<tr><td>279396</td><td>587726031692824955</td><td>136.94065862</td><td>1.03389477</td><td>19.571156</td><td>0.12773</td><td>4</td><td>G09_Y4_237_166</td><td>5</td><td>20.871162</td><td>20.068491</td><td>19.51655</td><td>19.254097</td><td>18.982967</td><td>0.12773</td><td>421.1439127170247</td><td>38.122152638547355</td><td>G9</td><td>0</td><td>0</td><td>-272.8112412549546</td><td>254.9293624635209</td><td>6.738380426879477</td><td>271.0342481495465</td><td>-256.82543549580294</td><td>6.441349571707037</td><td>0.5519409</td><td>19.571156</td></tr>\n",
       "<tr><td>583935</td><td>588848899911516363</td><td>177.29863124</td><td>-0.05179401</td><td>19.390345</td><td>0.26833</td><td>4</td><td>G12_Y1_CND1_210</td><td>6</td><td>22.641346</td><td>20.569334</td><td>19.304216</td><td>18.806765</td><td>18.53567</td><td>0.26833</td><td>965.7608204039113</td><td>39.92434791344171</td><td>G12</td><td>0</td><td>0</td><td>-760.5964067962071</td><td>35.887026615506485</td><td>-0.6883259929943795</td><td>760.3264706222154</td><td>-41.189675070309114</td><td>-1.521591944090275</td><td>1.2651176</td><td>19.390345</td></tr>\n",
       "<tr><td>484769</td><td>587729777980211887</td><td>212.3780425</td><td>-1.84738525</td><td>19.688059</td><td>0.13821</td><td>4</td><td>G15_Y3_043_081</td><td>5</td><td>21.305063</td><td>20.072117</td><td>19.647905</td><td>19.490528</td><td>19.587996</td><td>0.13821</td><td>458.94506955969086</td><td>38.30880354299457</td><td>G15</td><td>0</td><td>0</td><td>-340.3527264340781</td><td>-215.8114879964407</td><td>-12.998638829046964</td><td>341.83482143020586</td><td>213.4330146707557</td><td>-13.373274097565359</td><td>0.4242115</td><td>19.688059</td></tr>\n",
       "</table></div>"
      ],
      "text/plain": [
       "<Table length=121975>\n",
       "CATAID       OBJID               RA            DEC      R_PETRO   ZGAMA    NQ  ...     CARTESIAN_Y         CARTESIAN_Z       ROTCARTESIAN_X      ROTCARTESIAN_Y      ROTCARTESIAN_Z      GMR       DETMAG \n",
       "                                deg            deg        mag                  ...                                                                                                       mag        mag   \n",
       "int32        int64            float64        float64    float32  float32 int16 ...       float64             float64            float64             float64             float64        float32    float32 \n",
       "------ ------------------ ---------------- ----------- --------- ------- ----- ... ------------------- ------------------- ------------------ ------------------- ------------------- ---------- ---------\n",
       "186172 587725041703977119 1.8336147981e+02 -1.47603946 18.018501 0.12797     4 ... -21.929760909860484   -9.63710564553418 373.49266132369706   19.32584906979296 -10.046433711321933  0.6622906 18.018501\n",
       "240048 587726014549721294     220.35365668  1.52173696 18.241734 0.08419     4 ... -160.73053177087175    6.59439869998412 190.29078744208968  159.40758848267123    6.38585703999604  0.5569172 18.241734\n",
       "220544 587726013996073093     182.08402727  1.54607143 18.739721 0.21431     4 ... -22.367903669549293   16.60170277623398  614.8443019907271  18.081253480015427  15.927885662972182  1.1644802 18.739721\n",
       "696407 587722984422768817      176.2539266  0.96075327 19.308483 0.26544     4 ...   49.23714171213921  12.638006887407187   751.655077762792 -54.479547099735385  11.814252189604048  1.3206654 19.308483\n",
       "  7789 588848900986110711     179.30135256  0.76409281 19.518755 0.26327     4 ...   9.118790502094468   9.973826028407293  747.7197862312338 -14.332800063481145   9.154382539635934 0.77576256 19.518755\n",
       " 78743 587722983367508318     218.42715105  0.14264876 18.302853 0.03048     3 ... -56.464752068538516  0.2261878243947342  71.56367236814782  55.967111691722714 0.14775909546764165 0.31922722 18.302853\n",
       "397491 587728307496026245     178.30895126  1.61686552 19.131966  0.0772     5 ...   6.726149882300808   6.433727667548955 227.78238081330525  -8.314595049994736   6.184097702364939  0.3945694 19.131966\n",
       " 85897 587722983889502489     184.47242736  0.47895984 19.485579 0.09972     4 ... -22.863674985782136  2.4510551579248236 292.46373400595115  20.824894457139948  2.1305364848986357  0.5018692 19.485579\n",
       "559092 588848899373793524     175.46192621 -0.49910368 19.341295 0.10661     4 ...  24.766960127770027  -2.726823840199855   311.859435039732 -26.942184769031538 -3.0686019775476754  0.8440132 19.341295\n",
       "363228 587726033339154483     218.56430594  2.65324211 19.116287 0.02913     4 ...  -54.08266788787351   4.020326282663235  68.21464404568327   53.60835143169983  3.9455701370280565 0.52179146 19.116287\n",
       "508034 587729971786154391      215.4331191 -1.61422015 19.665672 0.16088     4 ...  -270.7273205583465 -13.159660994206993 382.34821791052633  268.06768039685375 -13.578696256584351 0.53588676 19.665672\n",
       "   ...                ...              ...         ...       ...     ...   ... ...                 ...                 ...                ...                 ...                 ...        ...       ...\n",
       "585572 588848899914137832     183.38114944 -0.14126018 19.795559 0.12376     4 ... -21.357641606407743 -0.8928153743283466  361.6378696109748  18.836446365772648 -1.2891461522109602 0.81484985 19.795559\n",
       "106534 587722984440398149     216.47433543  0.87528784 18.261614  0.1216     4 ...  -211.5842945819461   5.437770828687461  287.6819660011216  209.58346825476661   5.122494438257546  0.8475895 18.261614\n",
       "560898 588848899376742755     182.08563339 -0.56303702  19.48054 0.25403     4 ... -26.315419057514088  -7.105901189373819  722.7662155553863  21.276142137220265  -7.898007537226483  0.7955303  19.48054\n",
       "324251 587726032765780242     135.16119827  1.63128442  19.33376  0.1671     4 ...   341.5514793591623  13.794974465308185 341.10375414040715 -343.93820032977965  13.421156486711745 0.40186882  19.33376\n",
       " 32154 587722981741625746     183.51630758 -1.13841616  19.46969 0.17762     4 ...  -31.51633807841533 -10.211269961517877  513.0876451035754   27.93925647162723  -10.77358487687952   0.716156  19.46969\n",
       " 22310 588848901521997901     177.01372858  1.18322338 19.093204 0.21548     4 ...   32.21598828824601  12.772247144522472  617.3228118915629  -36.52127743659581  12.095711455099755   0.843647 19.093204\n",
       "726283 587727943491059874     136.31043251  1.63691895 19.498781 0.21496     4 ...   426.0859825655954  17.627819792899835  443.0732585334758  -429.1857646450449  17.142252549857798  1.3357773 19.498781\n",
       " 47819 587722982291931746     214.25030418 -0.76441996 18.855145 0.13739     4 ... -225.60558218068743  -5.348398014698476 332.90139265686145   223.2896983899894 -5.7132382652555735  0.7121048 18.855145\n",
       "279396 587726031692824955     136.94065862  1.03389477 19.571156 0.12773     4 ...   254.9293624635209   6.738380426879477  271.0342481495465 -256.82543549580294   6.441349571707037  0.5519409 19.571156\n",
       "583935 588848899911516363     177.29863124 -0.05179401 19.390345 0.26833     4 ...  35.887026615506485 -0.6883259929943795  760.3264706222154 -41.189675070309114  -1.521591944090275  1.2651176 19.390345\n",
       "484769 587729777980211887      212.3780425 -1.84738525 19.688059 0.13821     4 ...  -215.8114879964407 -12.998638829046964 341.83482143020586   213.4330146707557 -13.373274097565359  0.4242115 19.688059"
      ]
     },
     "execution_count": 18,
     "metadata": {},
     "output_type": "execute_result"
    }
   ],
   "source": [
    "fpath = findfile(ftype='gold', dryrun=dryrun, version=version, survey=survey)\n",
    "gold  = Table.read(fpath)\n",
    "gold"
   ]
  },
  {
   "cell_type": "markdown",
   "id": "3a8f9cbd",
   "metadata": {},
   "source": [
    "##  Cobaya"
   ]
  },
  {
   "cell_type": "code",
   "execution_count": null,
   "id": "240058f1",
   "metadata": {},
   "outputs": [],
   "source": [
    "# root = '/cosma/home/durham/{}/data/GAMA4/cobaya/'.format(os.environ['USER'])"
   ]
  },
  {
   "cell_type": "code",
   "execution_count": null,
   "id": "97e972f9",
   "metadata": {},
   "outputs": [],
   "source": [
    "# dat = Table.read(root + 'schechter_chain.1.txt', format='ascii')        "
   ]
  },
  {
   "cell_type": "code",
   "execution_count": null,
   "id": "15ef6f2e",
   "metadata": {},
   "outputs": [],
   "source": [
    "# samples = np.c_[dat['log10phistar'], dat['Mstar'], dat['alpha']]"
   ]
  },
  {
   "cell_type": "code",
   "execution_count": null,
   "id": "e2fc1a30",
   "metadata": {},
   "outputs": [],
   "source": [
    "# samples = MCSamples(samples=samples, names=['log10phistar', 'Mstar', 'alpha'], labels=['log10phistar', 'Mstar', 'alpha'])"
   ]
  },
  {
   "cell_type": "code",
   "execution_count": null,
   "id": "6a2a5e55",
   "metadata": {},
   "outputs": [],
   "source": [
    "# tmr_ref = {'log10phistar': -2.01, 'Mstar': -20.89, 'alpha': -1.25}"
   ]
  },
  {
   "cell_type": "code",
   "execution_count": null,
   "id": "cc9ded09",
   "metadata": {},
   "outputs": [],
   "source": [
    "# g = plots.get_subplot_plotter()"
   ]
  },
  {
   "cell_type": "code",
   "execution_count": null,
   "id": "ce91eded",
   "metadata": {},
   "outputs": [],
   "source": [
    "# g.triangle_plot([samples], filled=True)        "
   ]
  },
  {
   "cell_type": "markdown",
   "id": "28fd6e70",
   "metadata": {},
   "source": [
    "# Done."
   ]
  }
 ],
 "metadata": {
  "kernelspec": {
   "display_name": "lumfn",
   "language": "python",
   "name": "lumfn"
  },
  "language_info": {
   "codemirror_mode": {
    "name": "ipython",
    "version": 3
   },
   "file_extension": ".py",
   "mimetype": "text/x-python",
   "name": "python",
   "nbconvert_exporter": "python",
   "pygments_lexer": "ipython3",
   "version": "3.9.9"
  }
 },
 "nbformat": 4,
 "nbformat_minor": 5
}
