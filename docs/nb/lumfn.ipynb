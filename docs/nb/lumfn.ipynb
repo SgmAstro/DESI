{
 "cells": [
  {
   "cell_type": "code",
   "execution_count": 1,
   "id": "1b3a4b1e",
   "metadata": {},
   "outputs": [],
   "source": [
    "import os\n",
    "import sys\n",
    "import pylab as pl\n",
    "import numpy as np\n",
    "import matplotlib.pyplot as plt\n",
    "import numpy as np\n",
    "\n",
    "# from   getdist       import plots, MCSamples \n",
    "from   astropy.table import Table"
   ]
  },
  {
   "cell_type": "code",
   "execution_count": 2,
   "id": "83e34038",
   "metadata": {},
   "outputs": [],
   "source": [
    "sys.path.append(os.environ['HOME'] + '/DESI/')"
   ]
  },
  {
   "cell_type": "code",
   "execution_count": 3,
   "id": "3670641f",
   "metadata": {},
   "outputs": [],
   "source": [
    "import pubplot\n",
    "\n",
    "from   schechter     import schechter, named_schechter\n",
    "from   findfile      import findfile"
   ]
  },
  {
   "cell_type": "code",
   "execution_count": 4,
   "id": "35cfe7f3",
   "metadata": {},
   "outputs": [],
   "source": [
    "version = 'GAMA4'\n",
    "survey  = 'gama'\n",
    "dryrun  =  False"
   ]
  },
  {
   "cell_type": "code",
   "execution_count": 5,
   "id": "fb722c5b",
   "metadata": {},
   "outputs": [
    {
     "data": {
      "text/plain": [
       "'/cosma/home/durham/dc-moor2/data/GAMA4/gama_gold.fits'"
      ]
     },
     "execution_count": 5,
     "metadata": {},
     "output_type": "execute_result"
    }
   ],
   "source": [
    "fpath = findfile(ftype='gold', dryrun=dryrun, version=version, survey=survey)\n",
    "fpath"
   ]
  },
  {
   "cell_type": "code",
   "execution_count": 6,
   "id": "7dc97911",
   "metadata": {},
   "outputs": [
    {
     "data": {
      "text/plain": [
       "OrderedDict([('AREA', 180.0), ('GOLD_NGAL', 113687)])"
      ]
     },
     "execution_count": 6,
     "metadata": {},
     "output_type": "execute_result"
    }
   ],
   "source": [
    "gold = Table.read(fpath)\n",
    "gold.meta"
   ]
  },
  {
   "cell_type": "markdown",
   "id": "3724ffaf",
   "metadata": {},
   "source": [
    "##  VMAX"
   ]
  },
  {
   "cell_type": "code",
   "execution_count": 7,
   "id": "f407d6db",
   "metadata": {},
   "outputs": [
    {
     "data": {
      "text/html": [
       "<div><i>Table length=113601</i>\n",
       "<table id=\"table140446123433744\" class=\"table-striped table-bordered table-condensed\">\n",
       "<thead><tr><th>WEIGHT_STEPWISE</th><th>FIELD</th><th>MCOLOR_0P0</th><th>IN_D8LUMFN</th><th>MALL_0P0</th><th>ZSURV</th><th>ZMAX</th><th>ZMIN</th><th>VMAX</th><th>VZ</th></tr></thead>\n",
       "<thead><tr><th></th><th></th><th>mag</th><th></th><th>mag</th><th></th><th></th><th></th><th></th><th></th></tr></thead>\n",
       "<thead><tr><th>float64</th><th>bytes3</th><th>float64</th><th>int64</th><th>float64</th><th>float32</th><th>float64</th><th>float64</th><th>float64</th><th>float64</th></tr></thead>\n",
       "<tr><td>4.584470153194735</td><td>G12</td><td>-20.303152497562987</td><td>0</td><td>-20.273995797786338</td><td>0.17151</td><td>0.26298999786376953</td><td>0.03903000056743622</td><td>7594841.612883208</td><td>2214006.379379328</td></tr>\n",
       "<tr><td>1.8026043529105293</td><td>G9</td><td>-18.212599115122458</td><td>0</td><td>-18.19906880860438</td><td>0.07959</td><td>0.11922916393998877</td><td>0.03903000056743622</td><td>749599.9257597037</td><td>208458.9792430824</td></tr>\n",
       "<tr><td>3.2372516172360464</td><td>G15</td><td>-20.49260656626233</td><td>0</td><td>-20.637679026436892</td><td>0.12615</td><td>0.26298999786376953</td><td>0.03903000056743622</td><td>7594841.612883208</td><td>889245.9030587805</td></tr>\n",
       "<tr><td>5.257448359247273</td><td>G12</td><td>-21.219917732443477</td><td>0</td><td>-21.189263331856395</td><td>0.18032</td><td>0.26298999786376953</td><td>0.03903000056743622</td><td>7594841.612883208</td><td>2563226.226761019</td></tr>\n",
       "<tr><td>8.62724787108412</td><td>G9</td><td>-20.237954121653768</td><td>0</td><td>-20.516932573740217</td><td>0.24259</td><td>0.26298999786376953</td><td>0.03903000056743622</td><td>7594841.612883208</td><td>6035210.161194991</td></tr>\n",
       "<tr><td>5.257448359247273</td><td>G15</td><td>-20.515837018975343</td><td>0</td><td>-20.48536621559533</td><td>0.17924</td><td>0.26298999786376953</td><td>0.03903000056743622</td><td>7594841.612883208</td><td>2518671.0552019044</td></tr>\n",
       "<tr><td>3.2372516172360464</td><td>G12</td><td>-18.65454692926764</td><td>0</td><td>-18.631387827662223</td><td>0.13623</td><td>0.14324243306541382</td><td>0.03903000056743622</td><td>1301104.9698871186</td><td>1120183.9320889541</td></tr>\n",
       "<tr><td>8.62724787108412</td><td>G15</td><td>-20.01920805669913</td><td>0</td><td>-20.29387399352679</td><td>0.23884</td><td>0.26298999786376953</td><td>0.03903000056743622</td><td>7594841.612883208</td><td>5772460.895282479</td></tr>\n",
       "<tr><td>8.62724787108412</td><td>G12</td><td>-21.227976007401484</td><td>0</td><td>-21.186904011308688</td><td>0.2416</td><td>0.26298999786376953</td><td>0.03903000056743622</td><td>7594841.612883208</td><td>5965135.759874679</td></tr>\n",
       "<tr><td>1.989860106214468</td><td>G15</td><td>-19.54011992767038</td><td>0</td><td>-19.525839921380896</td><td>0.084</td><td>0.20417932115057139</td><td>0.03903000056743622</td><td>3677569.736101232</td><td>249362.31939676445</td></tr>\n",
       "<tr><td>3.2372516172360464</td><td>G12</td><td>-18.38438558214207</td><td>0</td><td>-18.53342556589146</td><td>0.1296</td><td>0.13977873720161202</td><td>0.03903000056743622</td><td>1209606.418308552</td><td>964527.413542877</td></tr>\n",
       "<tr><td>10.589502667205137</td><td>G15</td><td>-21.396642488920996</td><td>0</td><td>-21.353486282313177</td><td>0.25386</td><td>0.26298999786376953</td><td>0.03903000056743622</td><td>7594841.612883208</td><td>6869277.5971253235</td></tr>\n",
       "<tr><td>1.8026043529105293</td><td>G15</td><td>-19.931333777375283</td><td>0</td><td>-19.918202974714102</td><td>0.07724</td><td>0.23963051260324097</td><td>0.03903000056743622</td><td>5827243.174212013</td><td>188374.68563502806</td></tr>\n",
       "<tr><td>5.257448359247273</td><td>G15</td><td>-19.83660643491635</td><td>0</td><td>-19.806361741756294</td><td>0.17791</td><td>0.2296577437424404</td><td>0.03903000056743622</td><td>5159588.004705514</td><td>2464477.8169288295</td></tr>\n",
       "<tr><td>...</td><td>...</td><td>...</td><td>...</td><td>...</td><td>...</td><td>...</td><td>...</td><td>...</td><td>...</td></tr>\n",
       "<tr><td>1.0337603701702325</td><td>G9</td><td>-16.708662758526323</td><td>0</td><td>-16.75618075480771</td><td>0.04132</td><td>0.06538002886868229</td><td>0.03903000056743622</td><td>103902.50806610096</td><td>5296.590331920888</td></tr>\n",
       "<tr><td>3.2372516172360464</td><td>G15</td><td>-19.199749402840947</td><td>0</td><td>-19.348950393637036</td><td>0.12974</td><td>0.2069541036553355</td><td>0.03903000056743622</td><td>3823887.747905173</td><td>967663.7134562108</td></tr>\n",
       "<tr><td>5.257448359247273</td><td>G9</td><td>-19.62902876429605</td><td>0</td><td>-19.597422358322614</td><td>0.18592</td><td>0.21490779514193914</td><td>0.03903000056743622</td><td>4263403.752356967</td><td>2802234.332266254</td></tr>\n",
       "<tr><td>2.181202329914016</td><td>G9</td><td>-17.85110544005596</td><td>0</td><td>-17.95964242110216</td><td>0.09438</td><td>0.11146446779543925</td><td>0.03903000056743622</td><td>610255.3151026133</td><td>363234.4343024601</td></tr>\n",
       "<tr><td>4.584470153194735</td><td>G15</td><td>-19.31099901771201</td><td>0</td><td>-19.499299999829663</td><td>0.16374</td><td>0.22626336303642341</td><td>0.03903000056743622</td><td>4943826.662562355</td><td>1932345.3249381136</td></tr>\n",
       "<tr><td>4.584470153194735</td><td>G12</td><td>-21.847822523043202</td><td>0</td><td>-21.81829181902175</td><td>0.17371</td><td>0.26298999786376953</td><td>0.03903000056743622</td><td>7594841.612883208</td><td>2298196.219031226</td></tr>\n",
       "<tr><td>1.989860106214468</td><td>G9</td><td>-17.849317068871528</td><td>0</td><td>-17.947791556533844</td><td>0.08563</td><td>0.11204703973888543</td><td>0.03903000056743622</td><td>620095.5821466891</td><td>265575.10569585237</td></tr>\n",
       "<tr><td>3.618347526917889</td><td>G12</td><td>-19.801778169318837</td><td>0</td><td>-19.77805637006442</td><td>0.13954</td><td>0.2293757901469883</td><td>0.03903000056743622</td><td>5141445.862828279</td><td>1203454.3868910905</td></tr>\n",
       "<tr><td>5.257448359247273</td><td>G12</td><td>-19.938993441898923</td><td>0</td><td>-20.144877913434605</td><td>0.17903</td><td>0.26298999786376953</td><td>0.03903000056743622</td><td>7594841.612883208</td><td>2510064.6348461397</td></tr>\n",
       "<tr><td>4.584470153194735</td><td>G9</td><td>-19.90350821648671</td><td>0</td><td>-19.875473514543312</td><td>0.16491</td><td>0.23436076509927317</td><td>0.03903000056743622</td><td>5468123.646377217</td><td>1973215.5642088787</td></tr>\n",
       "<tr><td>7.165775866315473</td><td>G9</td><td>-20.699897953239503</td><td>0</td><td>-20.94758493539435</td><td>0.21538</td><td>0.26298999786376953</td><td>0.03903000056743622</td><td>7594841.612883208</td><td>4290446.590474862</td></tr>\n",
       "<tr><td>7.165775866315473</td><td>G9</td><td>-20.642738505343456</td><td>0</td><td>-20.60635000381853</td><td>0.21405</td><td>0.26298999786376953</td><td>0.03903000056743622</td><td>7594841.612883208</td><td>4214552.218235894</td></tr>\n",
       "<tr><td>3.618347526917889</td><td>G15</td><td>-20.709544721698933</td><td>0</td><td>-20.684473115658932</td><td>0.14748</td><td>0.26298999786376953</td><td>0.03903000056743622</td><td>7594841.612883208</td><td>1418837.5089214942</td></tr>\n",
       "<tr><td>7.165775866315473</td><td>G15</td><td>-19.40060091288839</td><td>0</td><td>-19.647586378176552</td><td>0.21477</td><td>0.24104197333787167</td><td>0.03903000056743622</td><td>5925861.146827417</td><td>4255532.750169248</td></tr>\n",
       "</table></div>"
      ],
      "text/plain": [
       "<Table length=113601>\n",
       " WEIGHT_STEPWISE   FIELD       MCOLOR_0P0     IN_D8LUMFN ...         ZMAX                ZMIN               VMAX                VZ        \n",
       "                                  mag                    ...                                                                              \n",
       "     float64       bytes3       float64         int64    ...       float64             float64            float64            float64      \n",
       "------------------ ------ ------------------- ---------- ... ------------------- ------------------- ------------------ ------------------\n",
       " 4.584470153194735    G12 -20.303152497562987          0 ... 0.26298999786376953 0.03903000056743622  7594841.612883208  2214006.379379328\n",
       "1.8026043529105293     G9 -18.212599115122458          0 ... 0.11922916393998877 0.03903000056743622  749599.9257597037  208458.9792430824\n",
       "3.2372516172360464    G15  -20.49260656626233          0 ... 0.26298999786376953 0.03903000056743622  7594841.612883208  889245.9030587805\n",
       " 5.257448359247273    G12 -21.219917732443477          0 ... 0.26298999786376953 0.03903000056743622  7594841.612883208  2563226.226761019\n",
       "  8.62724787108412     G9 -20.237954121653768          0 ... 0.26298999786376953 0.03903000056743622  7594841.612883208  6035210.161194991\n",
       " 5.257448359247273    G15 -20.515837018975343          0 ... 0.26298999786376953 0.03903000056743622  7594841.612883208 2518671.0552019044\n",
       "3.2372516172360464    G12  -18.65454692926764          0 ... 0.14324243306541382 0.03903000056743622 1301104.9698871186 1120183.9320889541\n",
       "  8.62724787108412    G15  -20.01920805669913          0 ... 0.26298999786376953 0.03903000056743622  7594841.612883208  5772460.895282479\n",
       "  8.62724787108412    G12 -21.227976007401484          0 ... 0.26298999786376953 0.03903000056743622  7594841.612883208  5965135.759874679\n",
       " 1.989860106214468    G15  -19.54011992767038          0 ... 0.20417932115057139 0.03903000056743622  3677569.736101232 249362.31939676445\n",
       "3.2372516172360464    G12  -18.38438558214207          0 ... 0.13977873720161202 0.03903000056743622  1209606.418308552   964527.413542877\n",
       "10.589502667205137    G15 -21.396642488920996          0 ... 0.26298999786376953 0.03903000056743622  7594841.612883208 6869277.5971253235\n",
       "1.8026043529105293    G15 -19.931333777375283          0 ... 0.23963051260324097 0.03903000056743622  5827243.174212013 188374.68563502806\n",
       " 5.257448359247273    G15  -19.83660643491635          0 ...  0.2296577437424404 0.03903000056743622  5159588.004705514 2464477.8169288295\n",
       "               ...    ...                 ...        ... ...                 ...                 ...                ...                ...\n",
       "1.0337603701702325     G9 -16.708662758526323          0 ... 0.06538002886868229 0.03903000056743622 103902.50806610096  5296.590331920888\n",
       "3.2372516172360464    G15 -19.199749402840947          0 ...  0.2069541036553355 0.03903000056743622  3823887.747905173  967663.7134562108\n",
       " 5.257448359247273     G9  -19.62902876429605          0 ... 0.21490779514193914 0.03903000056743622  4263403.752356967  2802234.332266254\n",
       " 2.181202329914016     G9  -17.85110544005596          0 ... 0.11146446779543925 0.03903000056743622  610255.3151026133  363234.4343024601\n",
       " 4.584470153194735    G15  -19.31099901771201          0 ... 0.22626336303642341 0.03903000056743622  4943826.662562355 1932345.3249381136\n",
       " 4.584470153194735    G12 -21.847822523043202          0 ... 0.26298999786376953 0.03903000056743622  7594841.612883208  2298196.219031226\n",
       " 1.989860106214468     G9 -17.849317068871528          0 ... 0.11204703973888543 0.03903000056743622  620095.5821466891 265575.10569585237\n",
       " 3.618347526917889    G12 -19.801778169318837          0 ...  0.2293757901469883 0.03903000056743622  5141445.862828279 1203454.3868910905\n",
       " 5.257448359247273    G12 -19.938993441898923          0 ... 0.26298999786376953 0.03903000056743622  7594841.612883208 2510064.6348461397\n",
       " 4.584470153194735     G9  -19.90350821648671          0 ... 0.23436076509927317 0.03903000056743622  5468123.646377217 1973215.5642088787\n",
       " 7.165775866315473     G9 -20.699897953239503          0 ... 0.26298999786376953 0.03903000056743622  7594841.612883208  4290446.590474862\n",
       " 7.165775866315473     G9 -20.642738505343456          0 ... 0.26298999786376953 0.03903000056743622  7594841.612883208  4214552.218235894\n",
       " 3.618347526917889    G15 -20.709544721698933          0 ... 0.26298999786376953 0.03903000056743622  7594841.612883208 1418837.5089214942\n",
       " 7.165775866315473    G15  -19.40060091288839          0 ... 0.24104197333787167 0.03903000056743622  5925861.146827417  4255532.750169248"
      ]
     },
     "execution_count": 7,
     "metadata": {},
     "output_type": "execute_result"
    }
   ],
   "source": [
    "fpath = findfile(ftype='vmax', dryrun=dryrun, version=version, survey=survey)\n",
    "vmax  = Table.read(fpath)\n",
    "vmax"
   ]
  },
  {
   "cell_type": "markdown",
   "id": "64f56a4c",
   "metadata": {},
   "source": [
    "##  LUMFN"
   ]
  },
  {
   "cell_type": "code",
   "execution_count": 8,
   "id": "408cc2fd",
   "metadata": {},
   "outputs": [
    {
     "data": {
      "text/html": [
       "<div><i>Table length=49</i>\n",
       "<table id=\"table140446123433552\" class=\"table-striped table-bordered table-condensed\">\n",
       "<thead><tr><th>MEDIAN_M</th><th>PHI_N</th><th>PHI_N_ERROR</th><th>PHI_IVMAX</th><th>PHI_IVMAX_ERROR</th><th>N</th><th>V_ON_VMAX</th></tr></thead>\n",
       "<thead><tr><th>float64</th><th>float64</th><th>float64</th><th>float64</th><th>float64</th><th>float64</th><th>float64</th></tr></thead>\n",
       "<tr><td>-25.4</td><td>0.0</td><td>0.0</td><td>0.0</td><td>0.0</td><td>0.0</td><td>0.0</td></tr>\n",
       "<tr><td>-25.200000000000003</td><td>0.0</td><td>0.0</td><td>0.0</td><td>0.0</td><td>0.0</td><td>0.0</td></tr>\n",
       "<tr><td>-25.0</td><td>0.0</td><td>0.0</td><td>0.0</td><td>0.0</td><td>0.0</td><td>0.0</td></tr>\n",
       "<tr><td>-24.800000000000004</td><td>0.0</td><td>0.0</td><td>0.0</td><td>0.0</td><td>0.0</td><td>0.0</td></tr>\n",
       "<tr><td>-24.6</td><td>0.0</td><td>0.0</td><td>0.0</td><td>0.0</td><td>0.0</td><td>0.0</td></tr>\n",
       "<tr><td>-24.400000000000006</td><td>0.0</td><td>0.0</td><td>0.0</td><td>0.0</td><td>0.0</td><td>0.0</td></tr>\n",
       "<tr><td>-24.200000000000003</td><td>0.0</td><td>0.0</td><td>0.0</td><td>0.0</td><td>0.0</td><td>0.0</td></tr>\n",
       "<tr><td>-24.000000000000007</td><td>0.0</td><td>0.0</td><td>0.0</td><td>0.0</td><td>0.0</td><td>0.0</td></tr>\n",
       "<tr><td>-23.800000000000004</td><td>0.0</td><td>0.0</td><td>0.0</td><td>0.0</td><td>0.0</td><td>0.0</td></tr>\n",
       "<tr><td>-23.60000000000001</td><td>0.0</td><td>0.0</td><td>0.0</td><td>0.0</td><td>0.0</td><td>0.0</td></tr>\n",
       "<tr><td>-23.400000000000006</td><td>0.0</td><td>0.0</td><td>0.0</td><td>0.0</td><td>0.0</td><td>0.0</td></tr>\n",
       "<tr><td>-23.42293176064758</td><td>6.583415764087122e-07</td><td>6.583415764087122e-07</td><td>6.584922389746205e-07</td><td>6.584922389746205e-07</td><td>1.0</td><td>0.9997712006960888</td></tr>\n",
       "<tr><td>-23.11172464498805</td><td>1.3166831528174244e-06</td><td>9.310355860312842e-07</td><td>1.3166831528174244e-06</td><td>9.31035586031284e-07</td><td>2.0</td><td>1.0</td></tr>\n",
       "<tr><td>-22.976202885033608</td><td>4.608391034860986e-06</td><td>1.7418080889116797e-06</td><td>4.608391034860985e-06</td><td>1.7418080889116797e-06</td><td>7.0</td><td>1.0</td></tr>\n",
       "<tr><td>...</td><td>...</td><td>...</td><td>...</td><td>...</td><td>...</td><td>...</td></tr>\n",
       "<tr><td>-18.806507498769086</td><td>0.0029882124153191446</td><td>4.435385521175461e-05</td><td>0.010941778700420275</td><td>0.00016597167112401465</td><td>4539.0</td><td>0.2927568458369124</td></tr>\n",
       "<tr><td>-18.604545918146613</td><td>0.00247931437675521</td><td>4.040093730603052e-05</td><td>0.011755724602911534</td><td>0.00019500206562440766</td><td>3766.0</td><td>0.22314095455433955</td></tr>\n",
       "<tr><td>-18.404930210487827</td><td>0.002006625124893755</td><td>3.6346179276285475e-05</td><td>0.012267746924398111</td><td>0.00022512431092259577</td><td>3048.0</td><td>0.17017316342122124</td></tr>\n",
       "<tr><td>-18.210680967022103</td><td>0.001580678124957318</td><td>3.22587372440269e-05</td><td>0.012580438881076109</td><td>0.0002594531471564492</td><td>2401.0</td><td>0.12964537729372896</td></tr>\n",
       "<tr><td>-18.005531487039228</td><td>0.0011863315206884996</td><td>2.794658053274875e-05</td><td>0.012409594762771883</td><td>0.00029482208472765846</td><td>1802.0</td><td>0.09813916342801689</td></tr>\n",
       "<tr><td>-17.806770806245083</td><td>0.000992779097224338</td><td>2.5565362424426706e-05</td><td>0.01381931287635131</td><td>0.0003588176756506515</td><td>1508.0</td><td>0.07389117751531793</td></tr>\n",
       "<tr><td>-17.60540082245031</td><td>0.0007972516490309505</td><td>2.2909908498671075e-05</td><td>0.014698315005989913</td><td>0.0004251688564666649</td><td>1211.0</td><td>0.05518194314959416</td></tr>\n",
       "<tr><td>-17.403713154375016</td><td>0.0006827002147358345</td><td>2.1200234328510514e-05</td><td>0.01687768894159189</td><td>0.0005273854139469358</td><td>1037.0</td><td>0.041027935766775755</td></tr>\n",
       "<tr><td>-17.212893850404157</td><td>0.0005516902410305008</td><td>1.9057823143510443e-05</td><td>0.018073731805247826</td><td>0.0006278194700539957</td><td>838.0</td><td>0.030985802528041846</td></tr>\n",
       "<tr><td>-17.016257753703133</td><td>0.00035155440180225235</td><td>1.5213246828863214e-05</td><td>0.015731810903988393</td><td>0.0006850130616316443</td><td>534.0</td><td>0.022844181546381424</td></tr>\n",
       "<tr><td>-16.806631082779923</td><td>0.00025543653164658033</td><td>1.2967825142119382e-05</td><td>0.01604767169743556</td><td>0.0008200072856345317</td><td>388.0</td><td>0.016161457253183884</td></tr>\n",
       "<tr><td>-16.604055320370207</td><td>0.0002383196506599538</td><td>1.2525802748911848e-05</td><td>0.021058990156774846</td><td>0.001113913779532084</td><td>362.0</td><td>0.01144087266008334</td></tr>\n",
       "<tr><td>-16.407765796266453</td><td>0.00020737759656874435</td><td>1.1684403871696542e-05</td><td>0.026579095532122038</td><td>0.001507698282257368</td><td>315.0</td><td>0.007817437918952234</td></tr>\n",
       "<tr><td>-16.228752020563036</td><td>0.00010796801853102881</td><td>8.43088580882475e-06</td><td>0.020736238367402796</td><td>0.0016335749191855819</td><td>164.0</td><td>0.005359130088187801</td></tr>\n",
       "<tr><td>-16.007578916653898</td><td>5.727571714755796e-05</td><td>6.140601429572092e-06</td><td>0.01942763995932177</td><td>0.0021112489133628936</td><td>87.0</td><td>0.003012505265889661</td></tr>\n",
       "</table></div>"
      ],
      "text/plain": [
       "<Table length=49>\n",
       "      MEDIAN_M              PHI_N               PHI_N_ERROR             PHI_IVMAX           PHI_IVMAX_ERROR        N         V_ON_VMAX      \n",
       "      float64              float64                float64                float64                float64         float64       float64       \n",
       "------------------- ---------------------- ---------------------- ---------------------- ---------------------- ------- --------------------\n",
       "              -25.4                    0.0                    0.0                    0.0                    0.0     0.0                  0.0\n",
       "-25.200000000000003                    0.0                    0.0                    0.0                    0.0     0.0                  0.0\n",
       "              -25.0                    0.0                    0.0                    0.0                    0.0     0.0                  0.0\n",
       "-24.800000000000004                    0.0                    0.0                    0.0                    0.0     0.0                  0.0\n",
       "              -24.6                    0.0                    0.0                    0.0                    0.0     0.0                  0.0\n",
       "-24.400000000000006                    0.0                    0.0                    0.0                    0.0     0.0                  0.0\n",
       "-24.200000000000003                    0.0                    0.0                    0.0                    0.0     0.0                  0.0\n",
       "-24.000000000000007                    0.0                    0.0                    0.0                    0.0     0.0                  0.0\n",
       "-23.800000000000004                    0.0                    0.0                    0.0                    0.0     0.0                  0.0\n",
       " -23.60000000000001                    0.0                    0.0                    0.0                    0.0     0.0                  0.0\n",
       "-23.400000000000006                    0.0                    0.0                    0.0                    0.0     0.0                  0.0\n",
       " -23.42293176064758  6.583415764087122e-07  6.583415764087122e-07  6.584922389746205e-07  6.584922389746205e-07     1.0   0.9997712006960888\n",
       " -23.11172464498805 1.3166831528174244e-06  9.310355860312842e-07 1.3166831528174244e-06   9.31035586031284e-07     2.0                  1.0\n",
       "-22.976202885033608  4.608391034860986e-06 1.7418080889116797e-06  4.608391034860985e-06 1.7418080889116797e-06     7.0                  1.0\n",
       "                ...                    ...                    ...                    ...                    ...     ...                  ...\n",
       "-18.806507498769086  0.0029882124153191446  4.435385521175461e-05   0.010941778700420275 0.00016597167112401465  4539.0   0.2927568458369124\n",
       "-18.604545918146613    0.00247931437675521  4.040093730603052e-05   0.011755724602911534 0.00019500206562440766  3766.0  0.22314095455433955\n",
       "-18.404930210487827   0.002006625124893755 3.6346179276285475e-05   0.012267746924398111 0.00022512431092259577  3048.0  0.17017316342122124\n",
       "-18.210680967022103   0.001580678124957318   3.22587372440269e-05   0.012580438881076109  0.0002594531471564492  2401.0  0.12964537729372896\n",
       "-18.005531487039228  0.0011863315206884996  2.794658053274875e-05   0.012409594762771883 0.00029482208472765846  1802.0  0.09813916342801689\n",
       "-17.806770806245083   0.000992779097224338 2.5565362424426706e-05    0.01381931287635131  0.0003588176756506515  1508.0  0.07389117751531793\n",
       " -17.60540082245031  0.0007972516490309505 2.2909908498671075e-05   0.014698315005989913  0.0004251688564666649  1211.0  0.05518194314959416\n",
       "-17.403713154375016  0.0006827002147358345 2.1200234328510514e-05    0.01687768894159189  0.0005273854139469358  1037.0 0.041027935766775755\n",
       "-17.212893850404157  0.0005516902410305008 1.9057823143510443e-05   0.018073731805247826  0.0006278194700539957   838.0 0.030985802528041846\n",
       "-17.016257753703133 0.00035155440180225235 1.5213246828863214e-05   0.015731810903988393  0.0006850130616316443   534.0 0.022844181546381424\n",
       "-16.806631082779923 0.00025543653164658033 1.2967825142119382e-05    0.01604767169743556  0.0008200072856345317   388.0 0.016161457253183884\n",
       "-16.604055320370207  0.0002383196506599538 1.2525802748911848e-05   0.021058990156774846   0.001113913779532084   362.0  0.01144087266008334\n",
       "-16.407765796266453 0.00020737759656874435 1.1684403871696542e-05   0.026579095532122038   0.001507698282257368   315.0 0.007817437918952234\n",
       "-16.228752020563036 0.00010796801853102881   8.43088580882475e-06   0.020736238367402796  0.0016335749191855819   164.0 0.005359130088187801\n",
       "-16.007578916653898  5.727571714755796e-05  6.140601429572092e-06    0.01942763995932177  0.0021112489133628936    87.0 0.003012505265889661"
      ]
     },
     "execution_count": 8,
     "metadata": {},
     "output_type": "execute_result"
    }
   ],
   "source": [
    "fpath = findfile(ftype='lumfn', dryrun=dryrun, version=version, survey=survey)\n",
    "lumfn = Table.read(fpath)\n",
    "lumfn"
   ]
  },
  {
   "cell_type": "code",
   "execution_count": 12,
   "id": "a54cd0ec",
   "metadata": {},
   "outputs": [],
   "source": [
    "##  HACK\n",
    "## TODO: note that offset should be re-added if desired.\n",
    "offset = 0.12\n",
    "\n",
    "## TODO: Rename\n",
    "gama_lf = lumfn"
   ]
  },
  {
   "cell_type": "code",
   "execution_count": 14,
   "id": "d703bd65",
   "metadata": {},
   "outputs": [],
   "source": [
    "# read in our stepwise\n",
    "fpath = '/cosma/home/durham/dc-moor2/data/{}/gama_gold_lumfn_step.fits'.format(version)\n",
    "lumfn_step = Table.read(fpath)\n",
    "\n",
    "# read in TMR stepwise digitalisation\n",
    "fpath = '/cosma/home/durham/dc-moor2/DESI/data/tmr_ref_stepwise.txt'\n",
    "lumfn_TMR = Table.read(fpath, format='ascii', names=['Ms', 'PHI_STEP'])"
   ]
  },
  {
   "cell_type": "code",
   "execution_count": 15,
   "id": "101b70ce",
   "metadata": {},
   "outputs": [
    {
     "name": "stderr",
     "output_type": "stream",
     "text": [
      "/tmp/ipykernel_74024/3883704093.py:6: RuntimeWarning: divide by zero encountered in log10\n",
      "  pl.plot(gama_lf['MEDIAN_M'], np.log10(gama_lf['PHI_N']), label='RAW', lw=1.)\n",
      "/tmp/ipykernel_74024/3883704093.py:7: RuntimeWarning: divide by zero encountered in log10\n",
      "  pl.plot(gama_lf['MEDIAN_M'], np.log10(gama_lf['PHI_IVMAX']), label='IVMAX', lw=1.)\n",
      "/tmp/ipykernel_74024/3883704093.py:10: RuntimeWarning: divide by zero encountered in log10\n",
      "  pl.plot(lumfn_step['Ms'], np.log10(lumfn_step['PHI_STEP'])-offset, label='STEPWISE', lw=1.)\n"
     ]
    },
    {
     "data": {
      "text/plain": [
       "Text(0.5, 1.0, 'GAMA')"
      ]
     },
     "execution_count": 15,
     "metadata": {},
     "output_type": "execute_result"
    },
    {
     "data": {
      "image/png": "[encoded data removed]",
      "text/plain": [
       "<Figure size 432x288 with 1 Axes>"
      ]
     },
     "metadata": {
      "needs_background": "light"
     },
     "output_type": "display_data"
    }
   ],
   "source": [
    "Ms = np.arange(-23., -15., 0.01)\n",
    "sc = named_schechter(Ms, named_type='TMR')\n",
    "\n",
    "pl.plot(Ms, np.log10(sc), label='TMR_SCHT', lw=1.)\n",
    "\n",
    "pl.plot(gama_lf['MEDIAN_M'], np.log10(gama_lf['PHI_N']), label='RAW', lw=1.)\n",
    "pl.plot(gama_lf['MEDIAN_M'], np.log10(gama_lf['PHI_IVMAX']), label='IVMAX', lw=1.)\n",
    "\n",
    "offset = 1.15\n",
    "pl.plot(lumfn_step['Ms'], np.log10(lumfn_step['PHI_STEP'])-offset, label='STEPWISE', lw=1.)\n",
    "\n",
    "pl.scatter(lumfn_TMR['Ms'], lumfn_TMR['PHI_STEP'], s=0.5)\n",
    "pl.plot(lumfn_TMR['Ms'], lumfn_TMR['PHI_STEP'], label='TMR_SWML', lw=1.)\n",
    "\n",
    "\n",
    "\n",
    "pl.xlabel(r'$M$')\n",
    "pl.ylabel(r'$\\Phi(M)$')\n",
    "\n",
    "pl.ylim(-4.25, -1.)\n",
    "pl.xlim(-23., -15.5)\n",
    "\n",
    "pl.legend(frameon=False, loc=2)\n",
    "pl.title(survey.upper())"
   ]
  },
  {
   "cell_type": "code",
   "execution_count": null,
   "id": "8c059bab",
   "metadata": {},
   "outputs": [],
   "source": []
  },
  {
   "cell_type": "code",
   "execution_count": 11,
   "id": "86af3020",
   "metadata": {},
   "outputs": [
    {
     "data": {
      "text/html": [
       "<div><i>Table length=113687</i>\n",
       "<table id=\"table140446092229792\" class=\"table-striped table-bordered table-condensed\">\n",
       "<thead><tr><th>CATAID</th><th>OBJID</th><th>RA</th><th>DEC</th><th>R_PETRO</th><th>ZGAMA</th><th>NQ</th><th>SPECID</th><th>SURVEY_CLASS</th><th>UMAG_DRED_SDSS</th><th>GMAG_DRED_SDSS</th><th>RMAG_DRED_SDSS</th><th>IMAG_DRED_SDSS</th><th>ZMAG_DRED_SDSS</th><th>ZSURV</th><th>LUMDIST</th><th>DISTMOD</th><th>FIELD</th><th>IN_D8LUMFN</th><th>CONSERVATIVE</th><th>CARTESIAN_X</th><th>CARTESIAN_Y</th><th>CARTESIAN_Z</th><th>ROTCARTESIAN_X</th><th>ROTCARTESIAN_Y</th><th>ROTCARTESIAN_Z</th><th>GMR</th><th>DETMAG</th><th>JK</th></tr></thead>\n",
       "<thead><tr><th></th><th></th><th>deg</th><th>deg</th><th>mag</th><th></th><th></th><th></th><th></th><th>mag</th><th>mag</th><th>mag</th><th>mag</th><th>mag</th><th></th><th>Mpc</th><th></th><th></th><th></th><th></th><th></th><th></th><th></th><th></th><th></th><th></th><th>mag</th><th>mag</th><th></th></tr></thead>\n",
       "<thead><tr><th>int32</th><th>int64</th><th>float64</th><th>float64</th><th>float32</th><th>float32</th><th>int16</th><th>bytes33</th><th>int16</th><th>float32</th><th>float32</th><th>float32</th><th>float32</th><th>float32</th><th>float32</th><th>float64</th><th>float64</th><th>bytes3</th><th>int64</th><th>int64</th><th>float64</th><th>float64</th><th>float64</th><th>float64</th><th>float64</th><th>float64</th><th>float32</th><th>float32</th><th>bytes4</th></tr></thead>\n",
       "<tr><td>560367</td><td>588848899375825135</td><td>180.12588394</td><td>-0.5937657</td><td>18.599897</td><td>0.17151</td><td>4</td><td>G12_Y1_ES2_327</td><td>6</td><td>21.23269</td><td>19.610481</td><td>18.504696</td><td>17.916262</td><td>17.505035</td><td>0.17151</td><td>582.1441797346662</td><td>38.825152798751276</td><td>G12</td><td>0</td><td>0</td><td>-496.88993234358065</td><td>-1.0917132746844402</td><td>-5.14954985191297</td><td>496.8761600457173</td><td>-3.0820340973700975</td><td>-5.647761503914847</td><td>1.1057854</td><td>18.599897</td><td>JK4</td></tr>\n",
       "<tr><td>208588</td><td>587725074987876392</td><td>129.58898455</td><td>0.18220989</td><td>18.842192</td><td>0.07959</td><td>4</td><td>G09_Y1_AS2_288</td><td>6</td><td>21.44489</td><td>19.758184</td><td>18.888025</td><td>18.5268</td><td>18.288902</td><td>0.07959</td><td>253.66656373300447</td><td>37.02131612910743</td><td>G9</td><td>0</td><td>0</td><td>-149.73717907766925</td><td>181.07202516629394</td><td>0.7472277105197227</td><td>148.21162709629013</td><td>-182.3233794501662</td><td>0.5986188714962972</td><td>0.87015915</td><td>18.842192</td><td>JK0</td></tr>\n",
       "<tr><td>63220</td><td>587722982829130118</td><td>215.01355265</td><td>-0.36740351</td><td>17.46823</td><td>0.12615</td><td>5</td><td>342314280604952576</td><td>6</td><td>19.526714</td><td>18.069859</td><td>17.392889</td><td>17.03065</td><td>16.77651</td><td>0.12615</td><td>415.48585538081625</td><td>38.09278121719966</td><td>G15</td><td>0</td><td>0</td><td>-302.16463914316876</td><td>-211.68449208440353</td><td>-2.365798161588926</td><td>303.9295332821462</td><td>209.13894264601316</td><td>-2.6705441953138664</td><td>0.6769695</td><td>17.46823</td><td>JK6</td></tr>\n",
       "<tr><td>560751</td><td>588848899376480390</td><td>181.51136885</td><td>-0.61197239</td><td>17.807583</td><td>0.18032</td><td>4</td><td>G12_Y1_FS1_316</td><td>6</td><td>20.757238</td><td>18.82045</td><td>17.697247</td><td>17.266537</td><td>16.934586</td><td>0.18032</td><td>615.5098200833555</td><td>38.94617493112946</td><td>G12</td><td>0</td><td>0</td><td>-521.2659121873513</td><td>-13.75333135249762</td><td>-5.569755741903392</td><td>521.3571996662812</td><td>9.374387247227162</td><td>-6.09251431677462</td><td>1.1232033</td><td>17.807583</td><td>JK4</td></tr>\n",
       "<tr><td>574176</td><td>588848899891528520</td><td>131.68433895</td><td>-0.03170999</td><td>19.117767</td><td>0.24259</td><td>4</td><td>G09_Y1_CS2_216</td><td>6</td><td>21.424124</td><td>19.90955</td><td>19.007305</td><td>18.596333</td><td>18.240759</td><td>0.24259</td><td>860.2179979362163</td><td>39.673042624260646</td><td>G9</td><td>0</td><td>0</td><td>-460.3831361113276</td><td>517.0071549581764</td><td>-0.3831370388663122</td><td>456.0235946178165</td><td>-520.8559800885297</td><td>-0.8403841397070202</td><td>0.90224457</td><td>19.117767</td><td>JK0</td></tr>\n",
       "<tr><td>318633</td><td>587726032262463621</td><td>211.785782</td><td>1.9442089</td><td>18.505053</td><td>0.17924</td><td>4</td><td>G15_Y1_AN2_248</td><td>6</td><td>21.56819</td><td>19.48898</td><td>18.3083</td><td>17.9075</td><td>17.598957</td><td>0.17924</td><td>611.4024892001427</td><td>38.931636012673984</td><td>G15</td><td>0</td><td>0</td><td>-440.45933887902356</td><td>-272.9450647974357</td><td>17.58984255416682</td><td>442.753861946708</td><td>269.2357251033041</td><td>17.145909817703668</td><td>1.1806793</td><td>18.505053</td><td>JK6</td></tr>\n",
       "<tr><td>184748</td><td>587725041701487062</td><td>177.65487771</td><td>-1.56037394</td><td>19.678253</td><td>0.13623</td><td>4</td><td>G12_Y2_019_091</td><td>5</td><td>22.277521</td><td>20.576443</td><td>19.644218</td><td>19.176764</td><td>18.803804</td><td>0.13623</td><td>451.7671900745132</td><td>38.27457343386233</td><td>G12</td><td>0</td><td>0</td><td>-397.1215760342764</td><td>16.26331077865705</td><td>-10.826817313569876</td><td>396.9599046904599</td><td>-19.598425155975455</td><td>-11.224847532098604</td><td>0.9322243</td><td>19.678253</td><td>JK3</td></tr>\n",
       "<tr><td>509764</td><td>587729971789300707</td><td>222.72770784</td><td>-1.42435095</td><td>19.209635</td><td>0.23884</td><td>4</td><td>G15_Y1_GX2_327</td><td>6</td><td>20.903494</td><td>19.794823</td><td>19.080503</td><td>18.84659</td><td>18.612919</td><td>0.23884</td><td>845.0515736518563</td><td>39.63441607415034</td><td>G15</td><td>0</td><td>0</td><td>-500.9296817558317</td><td>-462.69332773669134</td><td>-16.955774995634496</td><td>504.78122389291343</td><td>458.4693635314442</td><td>-17.461918852167695</td><td>0.7143192</td><td>19.209635</td><td>JK8</td></tr>\n",
       "<tr><td>289697</td><td>587726031713009886</td><td>183.11280695</td><td>1.73720727</td><td>18.568317</td><td>0.2416</td><td>4</td><td>G12_Y1_FX2_387</td><td>6</td><td>21.846792</td><td>19.916803</td><td>18.524065</td><td>18.025152</td><td>17.666636</td><td>0.2416</td><td>856.2089165982271</td><td>39.6628987314207</td><td>G12</td><td>0</td><td>0</td><td>-688.2672825657661</td><td>-37.42952058129588</td><td>20.905496770513807</td><td>688.5780128697877</td><td>31.64698570485439</td><td>20.21508211022466</td><td>1.3927383</td><td>18.568317</td><td>JK5</td></tr>\n",
       "<tr><td>64734</td><td>587722982831292619</td><td>219.85215484</td><td>-0.31053859</td><td>17.641548</td><td>0.084</td><td>5</td><td>345691981231450112</td><td>6</td><td>20.05624</td><td>18.516792</td><td>17.655779</td><td>17.262909</td><td>16.993519</td><td>0.084</td><td>268.5800568584036</td><td>37.145368807153</td><td>G15</td><td>0</td><td>0</td><td>-190.20851040382777</td><td>-158.76931061624092</td><td>-1.3428741094894292</td><td>191.53396649170745</td><td>157.1660218596286</td><td>-1.534922553630316</td><td>0.8610134</td><td>17.641548</td><td>JK8</td></tr>\n",
       "<tr><td>123499</td><td>587724649255404318</td><td>176.34301646</td><td>-2.47906337</td><td>19.635447</td><td>0.1296</td><td>4</td><td>G12_Y5_021_019</td><td>5</td><td>21.756336</td><td>20.385113</td><td>19.700565</td><td>19.2645</td><td>18.913855</td><td>0.1296</td><td>427.8544195993473</td><td>38.15648011235807</td><td>G12</td><td>0</td><td>0</td><td>-377.6412733223253</td><td>24.136268703182502</td><td>-16.38327798980681</td><td>377.4085974554667</td><td>-27.307477327435503</td><td>-16.761707246573625</td><td>0.6845474</td><td>19.635447</td><td>JK3</td></tr>\n",
       "<tr><td>249495</td><td>587726015082791165</td><td>211.68104679</td><td>2.14621557</td><td>18.458998</td><td>0.25386</td><td>4</td><td>G15_Y4_206_173</td><td>6</td><td>20.916069</td><td>19.5727</td><td>18.444195</td><td>17.921227</td><td>17.555029</td><td>0.25386</td><td>906.121144648944</td><td>39.785931324671914</td><td>G15</td><td>0</td><td>0</td><td>-614.5458719218993</td><td>-379.2704906673465</td><td>27.0636494418978</td><td>617.7367627918561</td><td>374.0951315270607</td><td>26.444269163669343</td><td>1.1285057</td><td>18.458998</td><td>JK6</td></tr>\n",
       "<tr><td>592909</td><td>588848899927834799</td><td>214.606511</td><td>-0.15726454</td><td>17.057478</td><td>0.07724</td><td>5</td><td>342320877674719232</td><td>6</td><td>19.565115</td><td>17.733915</td><td>16.95334</td><td>16.594728</td><td>16.337431</td><td>0.07724</td><td>245.75536627092356</td><td>36.9525150489279</td><td>G15</td><td>0</td><td>0</td><td>-187.77019049279772</td><td>-129.56547295112932</td><td>-0.626178531440578</td><td>188.85115011967417</td><td>127.9836955117</td><td>-0.8155366021032036</td><td>0.7805748</td><td>17.057478</td><td>JK6</td></tr>\n",
       "<tr><td>105843</td><td>587722984439152883</td><td>213.61447555</td><td>0.94915045</td><td>19.153646</td><td>0.17791</td><td>4</td><td>G15_Y3_002_099</td><td>6</td><td>24.644892</td><td>20.166008</td><td>19.085552</td><td>18.608402</td><td>18.217478</td><td>0.17791</td><td>606.35091339153</td><td>38.913620180583194</td><td>G15</td><td>0</td><td>0</td><td>-428.630787880568</td><td>-284.93773542083085</td><td>8.527161729684773</td><td>431.0173815542028</td><td>281.3273285146778</td><td>8.094992401820315</td><td>1.0804558</td><td>19.153646</td><td>JK6</td></tr>\n",
       "<tr><td>...</td><td>...</td><td>...</td><td>...</td><td>...</td><td>...</td><td>...</td><td>...</td><td>...</td><td>...</td><td>...</td><td>...</td><td>...</td><td>...</td><td>...</td><td>...</td><td>...</td><td>...</td><td>...</td><td>...</td><td>...</td><td>...</td><td>...</td><td>...</td><td>...</td><td>...</td><td>...</td><td>...</td><td>...</td></tr>\n",
       "<tr><td>278771</td><td>587726031691383144</td><td>133.61319571</td><td>0.92091062</td><td>18.793053</td><td>0.04132</td><td>4</td><td>G09_Y1_DN2_163</td><td>6</td><td>20.021437</td><td>19.13917</td><td>18.667227</td><td>18.416615</td><td>18.184025</td><td>0.04132</td><td>127.98146114240706</td><td>35.53573532063521</td><td>G9</td><td>0</td><td>0</td><td>-84.76593138820884</td><td>88.97195691789355</td><td>1.9753270820655793</td><td>84.0175448117183</td><td>-89.6808235899221</td><td>1.8910851475707706</td><td>0.4719429</td><td>18.793053</td><td>JK1</td></tr>\n",
       "<tr><td>77583</td><td>587722983365476694</td><td>213.76182556</td><td>0.11739063</td><td>18.808704</td><td>0.12974</td><td>4</td><td>G15_Y1_BS1_336</td><td>6</td><td>20.532663</td><td>19.492792</td><td>18.881502</td><td>18.642813</td><td>18.490383</td><td>0.12974</td><td>428.3573841442818</td><td>38.15903128895513</td><td>G15</td><td>0</td><td>0</td><td>-315.21967421096616</td><td>-210.71717204402208</td><td>0.7768519302235165</td><td>316.97912715349173</td><td>208.06199881244305</td><td>0.4590228759899939</td><td>0.61129</td><td>18.808704</td><td>JK6</td></tr>\n",
       "<tr><td>3602911</td><td>587729150911644109</td><td>130.93108561</td><td>-1.23961236</td><td>19.44431</td><td>0.18592</td><td>4</td><td>G09_Y4_246_216</td><td>5</td><td>22.750895</td><td>20.32264</td><td>19.399323</td><td>19.016209</td><td>18.79345</td><td>0.18592</td><td>636.8834559573306</td><td>39.02029983777295</td><td>G9</td><td>0</td><td>0</td><td>-351.758175507935</td><td>405.63583673526705</td><td>-11.61806917300984</td><td>348.3267368698321</td><td>-408.5761775468002</td><td>-11.967336159761658</td><td>0.92331696</td><td>19.44431</td><td>JK0</td></tr>\n",
       "<tr><td>210170</td><td>587725074991022731</td><td>136.8291678</td><td>0.10417695</td><td>19.444351</td><td>0.09438</td><td>4</td><td>G09_Y3_018_319</td><td>5</td><td>20.778378</td><td>19.795801</td><td>19.381086</td><td>19.14471</td><td>19.065092</td><td>0.09438</td><td>304.0276012913104</td><td>37.41456506515506</td><td>G9</td><td>0</td><td>0</td><td>-202.60981818447505</td><td>190.0692770485151</td><td>0.5051189057376103</td><td>201.0065577751651</td><td>-191.76442637302998</td><td>0.3035733884173606</td><td>0.4147148</td><td>19.444351</td><td>JK1</td></tr>\n",
       "<tr><td>278224</td><td>587726031190294909</td><td>215.39751366</td><td>1.0882378</td><td>19.147615</td><td>0.16374</td><td>4</td><td>G15_Y2_019_198</td><td>6</td><td>20.721447</td><td>19.635351</td><td>19.103374</td><td>18.81797</td><td>18.653303</td><td>0.16374</td><td>552.9828613199566</td><td>38.71355835679914</td><td>G15</td><td>0</td><td>0</td><td>-387.2723138025492</td><td>-275.1948156063364</td><td>9.024658095144945</td><td>389.57904891351484</td><td>271.9321497266372</td><td>8.634038511089257</td><td>0.5319767</td><td>19.147615</td><td>JK6</td></tr>\n",
       "<tr><td>184782</td><td>587725041701617786</td><td>177.93972712</td><td>-1.55254353</td><td>17.082897</td><td>0.17371</td><td>4</td><td>G12_Y1_CS1_031</td><td>6</td><td>20.004688</td><td>18.239275</td><td>17.171669</td><td>16.698618</td><td>16.32653</td><td>0.17371</td><td>590.4462734755706</td><td>38.85590192977615</td><td>G12</td><td>0</td><td>0</td><td>-502.5500152726913</td><td>18.07876018204023</td><td>-13.629740610800438</td><td>502.3665120496598</td><td>-22.299374061013573</td><td>-14.133461605914201</td><td>1.067606</td><td>17.082897</td><td>JK3</td></tr>\n",
       "<tr><td>423096</td><td>587728879794520519</td><td>133.83764797</td><td>2.77219119</td><td>19.228521</td><td>0.08563</td><td>4</td><td>G09_Y2_039_352</td><td>6</td><td>20.653612</td><td>19.567345</td><td>19.228575</td><td>18.94923</td><td>18.81419</td><td>0.08563</td><td>274.1144786865801</td><td>37.18965987758108</td><td>G9</td><td>0</td><td>0</td><td>-174.6766868162808</td><td>181.9117424953247</td><td>12.211844056414725</td><td>173.15468451212703</td><td>-183.37255066032122</td><td>12.038231011667415</td><td>0.3387699</td><td>19.228521</td><td>JK1</td></tr>\n",
       "<tr><td>610293</td><td>588848900449370284</td><td>179.62129682</td><td>0.36069629</td><td>18.583061</td><td>0.13954</td><td>4</td><td>G12_Y6_054_268</td><td>6</td><td>20.942123</td><td>19.399372</td><td>18.554632</td><td>18.162706</td><td>17.898378</td><td>0.13954</td><td>463.775938893954</td><td>38.33154106652227</td><td>G12</td><td>0</td><td>0</td><td>-406.9682820492812</td><td>2.6899438016521615</td><td>2.5620926445036267</td><td>406.93369488058516</td><td>-6.108246047188167</td><td>2.154068610847282</td><td>0.8447399</td><td>18.583061</td><td>JK4</td></tr>\n",
       "<tr><td>610465</td><td>588848900449632640</td><td>180.25079652</td><td>0.39961125</td><td>18.721437</td><td>0.17903</td><td>4</td><td>G12_Y1_EN1_383</td><td>6</td><td>20.34616</td><td>19.314413</td><td>18.700659</td><td>18.390722</td><td>18.264421</td><td>0.17903</td><td>610.6043627041913</td><td>38.92879951481147</td><td>G12</td><td>0</td><td>0</td><td>-517.8695134236818</td><td>-2.266845872324418</td><td>3.611990684141876</td><td>517.8736462209068</td><td>-2.083164403898448</td><td>3.092729623115587</td><td>0.6137543</td><td>18.721437</td><td>JK4</td></tr>\n",
       "<tr><td>198475</td><td>587725073918525625</td><td>139.61196419</td><td>-0.80162328</td><td>18.903824</td><td>0.16491</td><td>4</td><td>G09_Y1_HS2_048</td><td>6</td><td>21.97968</td><td>19.986063</td><td>18.874733</td><td>18.414076</td><td>18.116096</td><td>0.16491</td><td>557.3579413657703</td><td>38.73067096718674</td><td>G9</td><td>0</td><td>0</td><td>-364.3915075721306</td><td>309.9903008994382</td><td>-6.693840430126059</td><td>361.7679443770695</td><td>-313.0401316299209</td><td>-7.056582205977265</td><td>1.11133</td><td>18.903824</td><td>JK2</td></tr>\n",
       "<tr><td>418007</td><td>587728879257977208</td><td>134.59974908</td><td>2.42306021</td><td>18.433517</td><td>0.21538</td><td>4</td><td>G09_Y1_DX1_225</td><td>6</td><td>20.415848</td><td>19.373299</td><td>18.434265</td><td>17.999872</td><td>17.626999</td><td>0.21538</td><td>751.4046029383491</td><td>39.379369255637116</td><td>G9</td><td>0</td><td>0</td><td>-433.71372297192767</td><td>439.81603591805504</td><td>26.138092704857137</td><td>430.0301072811646</td><td>-443.44357005180143</td><td>25.70692215246375</td><td>0.9390335</td><td>18.433517</td><td>JK1</td></tr>\n",
       "<tr><td>422352</td><td>587728879793078536</td><td>130.46631488</td><td>2.54793826</td><td>18.779766</td><td>0.21405</td><td>4</td><td>G09_Y1_AX2_398</td><td>6</td><td>21.075024</td><td>19.742802</td><td>18.735767</td><td>18.316177</td><td>18.04866</td><td>0.21405</td><td>746.1600107652309</td><td>39.36415985010293</td><td>G9</td><td>0</td><td>0</td><td>-398.484192005132</td><td>467.1208667246358</td><td>27.322377916852876</td><td>394.57367299518046</td><td>-470.4515213537557</td><td>26.926759508312493</td><td>1.0070343</td><td>18.779766</td><td>JK0</td></tr>\n",
       "<tr><td>509538</td><td>587729971788906776</td><td>221.75929045</td><td>-1.37625673</td><td>17.820578</td><td>0.14748</td><td>4</td><td>2dF331916</td><td>6</td><td>20.67411</td><td>18.944958</td><td>17.896235</td><td>17.391243</td><td>17.01643</td><td>0.14748</td><td>492.77254152440804</td><td>38.46323249946821</td><td>G15</td><td>0</td><td>0</td><td>-320.2472701459332</td><td>-285.9249246524117</td><td>-10.31422095962037</td><td>322.62714197123864</td><td>283.22486813585004</td><td>-10.637718755174562</td><td>1.0487232</td><td>17.820578</td><td>JK8</td></tr>\n",
       "<tr><td>341981</td><td>587726032800252165</td><td>213.97579994</td><td>2.27184271</td><td>19.576208</td><td>0.21477</td><td>4</td><td>G15_Y4_234_343</td><td>5</td><td>21.126833</td><td>20.091759</td><td>19.518106</td><td>19.198765</td><td>19.086266</td><td>0.21477</td><td>748.9983232881484</td><td>39.37240422743245</td><td>G15</td><td>0</td><td>0</td><td>-510.9085790645903</td><td>-344.29830700292575</td><td>24.441543191337907</td><td>513.8067945157941</td><td>339.9947001221378</td><td>23.926370362342173</td><td>0.57365227</td><td>19.576208</td><td>JK6</td></tr>\n",
       "</table></div>"
      ],
      "text/plain": [
       "<Table length=113687>\n",
       " CATAID       OBJID             RA          DEC      R_PETRO   ZGAMA  ...    ROTCARTESIAN_Y      ROTCARTESIAN_Z      GMR       DETMAG    JK  \n",
       "                               deg          deg        mag            ...                                            mag        mag          \n",
       " int32        int64          float64      float64    float32  float32 ...       float64             float64        float32    float32  bytes4\n",
       "------- ------------------ ------------ ----------- --------- ------- ... ------------------- ------------------- ---------- --------- ------\n",
       " 560367 588848899375825135 180.12588394  -0.5937657 18.599897 0.17151 ... -3.0820340973700975  -5.647761503914847  1.1057854 18.599897    JK4\n",
       " 208588 587725074987876392 129.58898455  0.18220989 18.842192 0.07959 ...  -182.3233794501662  0.5986188714962972 0.87015915 18.842192    JK0\n",
       "  63220 587722982829130118 215.01355265 -0.36740351  17.46823 0.12615 ...  209.13894264601316 -2.6705441953138664  0.6769695  17.46823    JK6\n",
       " 560751 588848899376480390 181.51136885 -0.61197239 17.807583 0.18032 ...   9.374387247227162   -6.09251431677462  1.1232033 17.807583    JK4\n",
       " 574176 588848899891528520 131.68433895 -0.03170999 19.117767 0.24259 ...  -520.8559800885297 -0.8403841397070202 0.90224457 19.117767    JK0\n",
       " 318633 587726032262463621   211.785782   1.9442089 18.505053 0.17924 ...   269.2357251033041  17.145909817703668  1.1806793 18.505053    JK6\n",
       " 184748 587725041701487062 177.65487771 -1.56037394 19.678253 0.13623 ... -19.598425155975455 -11.224847532098604  0.9322243 19.678253    JK3\n",
       " 509764 587729971789300707 222.72770784 -1.42435095 19.209635 0.23884 ...   458.4693635314442 -17.461918852167695  0.7143192 19.209635    JK8\n",
       " 289697 587726031713009886 183.11280695  1.73720727 18.568317  0.2416 ...   31.64698570485439   20.21508211022466  1.3927383 18.568317    JK5\n",
       "  64734 587722982831292619 219.85215484 -0.31053859 17.641548   0.084 ...   157.1660218596286  -1.534922553630316  0.8610134 17.641548    JK8\n",
       " 123499 587724649255404318 176.34301646 -2.47906337 19.635447  0.1296 ... -27.307477327435503 -16.761707246573625  0.6845474 19.635447    JK3\n",
       " 249495 587726015082791165 211.68104679  2.14621557 18.458998 0.25386 ...   374.0951315270607  26.444269163669343  1.1285057 18.458998    JK6\n",
       " 592909 588848899927834799   214.606511 -0.15726454 17.057478 0.07724 ...      127.9836955117 -0.8155366021032036  0.7805748 17.057478    JK6\n",
       " 105843 587722984439152883 213.61447555  0.94915045 19.153646 0.17791 ...   281.3273285146778   8.094992401820315  1.0804558 19.153646    JK6\n",
       "    ...                ...          ...         ...       ...     ... ...                 ...                 ...        ...       ...    ...\n",
       " 278771 587726031691383144 133.61319571  0.92091062 18.793053 0.04132 ...   -89.6808235899221  1.8910851475707706  0.4719429 18.793053    JK1\n",
       "  77583 587722983365476694 213.76182556  0.11739063 18.808704 0.12974 ...  208.06199881244305  0.4590228759899939    0.61129 18.808704    JK6\n",
       "3602911 587729150911644109 130.93108561 -1.23961236  19.44431 0.18592 ...  -408.5761775468002 -11.967336159761658 0.92331696  19.44431    JK0\n",
       " 210170 587725074991022731  136.8291678  0.10417695 19.444351 0.09438 ... -191.76442637302998  0.3035733884173606  0.4147148 19.444351    JK1\n",
       " 278224 587726031190294909 215.39751366   1.0882378 19.147615 0.16374 ...   271.9321497266372   8.634038511089257  0.5319767 19.147615    JK6\n",
       " 184782 587725041701617786 177.93972712 -1.55254353 17.082897 0.17371 ... -22.299374061013573 -14.133461605914201   1.067606 17.082897    JK3\n",
       " 423096 587728879794520519 133.83764797  2.77219119 19.228521 0.08563 ... -183.37255066032122  12.038231011667415  0.3387699 19.228521    JK1\n",
       " 610293 588848900449370284 179.62129682  0.36069629 18.583061 0.13954 ...  -6.108246047188167   2.154068610847282  0.8447399 18.583061    JK4\n",
       " 610465 588848900449632640 180.25079652  0.39961125 18.721437 0.17903 ...  -2.083164403898448   3.092729623115587  0.6137543 18.721437    JK4\n",
       " 198475 587725073918525625 139.61196419 -0.80162328 18.903824 0.16491 ...  -313.0401316299209  -7.056582205977265    1.11133 18.903824    JK2\n",
       " 418007 587728879257977208 134.59974908  2.42306021 18.433517 0.21538 ... -443.44357005180143   25.70692215246375  0.9390335 18.433517    JK1\n",
       " 422352 587728879793078536 130.46631488  2.54793826 18.779766 0.21405 ...  -470.4515213537557  26.926759508312493  1.0070343 18.779766    JK0\n",
       " 509538 587729971788906776 221.75929045 -1.37625673 17.820578 0.14748 ...  283.22486813585004 -10.637718755174562  1.0487232 17.820578    JK8\n",
       " 341981 587726032800252165 213.97579994  2.27184271 19.576208 0.21477 ...   339.9947001221378  23.926370362342173 0.57365227 19.576208    JK6"
      ]
     },
     "execution_count": 11,
     "metadata": {},
     "output_type": "execute_result"
    }
   ],
   "source": [
    "fpath = findfile(ftype='gold', dryrun=dryrun, version=version, survey=survey)\n",
    "gold  = Table.read(fpath)\n",
    "gold"
   ]
  },
  {
   "cell_type": "markdown",
   "id": "8a5cea54",
   "metadata": {},
   "source": [
    "##  Cobaya"
   ]
  },
  {
   "cell_type": "code",
   "execution_count": 19,
   "id": "ec26974e",
   "metadata": {},
   "outputs": [],
   "source": [
    "# root = '/cosma/home/durham/{}/data/GAMA4/cobaya/'.format(os.environ['USER'])"
   ]
  },
  {
   "cell_type": "code",
   "execution_count": 20,
   "id": "017d1263",
   "metadata": {},
   "outputs": [],
   "source": [
    "# dat = Table.read(root + 'schechter_chain.1.txt', format='ascii')        "
   ]
  },
  {
   "cell_type": "code",
   "execution_count": 21,
   "id": "ea2cd088",
   "metadata": {},
   "outputs": [],
   "source": [
    "# samples = np.c_[dat['log10phistar'], dat['Mstar'], dat['alpha']]"
   ]
  },
  {
   "cell_type": "code",
   "execution_count": 22,
   "id": "81cd1b15",
   "metadata": {},
   "outputs": [],
   "source": [
    "# samples = MCSamples(samples=samples, names=['log10phistar', 'Mstar', 'alpha'], labels=['log10phistar', 'Mstar', 'alpha'])"
   ]
  },
  {
   "cell_type": "code",
   "execution_count": 18,
   "id": "f5a0fd36",
   "metadata": {},
   "outputs": [],
   "source": [
    "# tmr_ref = {'log10phistar': -2.01, 'Mstar': -20.89, 'alpha': -1.25}"
   ]
  },
  {
   "cell_type": "code",
   "execution_count": 24,
   "id": "b15d3f17",
   "metadata": {},
   "outputs": [],
   "source": [
    "# g = plots.get_subplot_plotter()"
   ]
  },
  {
   "cell_type": "code",
   "execution_count": 17,
   "id": "c62d822e",
   "metadata": {},
   "outputs": [],
   "source": [
    "# g.triangle_plot([samples], filled=True)        "
   ]
  },
  {
   "cell_type": "markdown",
   "id": "47b3d748",
   "metadata": {},
   "source": [
    "# Done."
   ]
  }
 ],
 "metadata": {
  "kernelspec": {
   "display_name": "Lumfn",
   "language": "python",
   "name": "lumfn"
  },
  "language_info": {
   "codemirror_mode": {
    "name": "ipython",
    "version": 3
   },
   "file_extension": ".py",
   "mimetype": "text/x-python",
   "name": "python",
   "nbconvert_exporter": "python",
   "pygments_lexer": "ipython3",
   "version": "3.9.9"
  }
 },
 "nbformat": 4,
 "nbformat_minor": 5
}
