{
 "cells": [
  {
   "cell_type": "code",
   "execution_count": 1,
   "id": "2f71e96d",
   "metadata": {},
   "outputs": [],
   "source": [
    "import os\n",
    "import sys\n",
    "import pylab as pl\n",
    "import numpy as np\n",
    "import matplotlib.pyplot as plt\n",
    "import numpy as np\n",
    "\n",
    "# from   getdist       import plots, MCSamples \n",
    "from   astropy.table import Table"
   ]
  },
  {
   "cell_type": "code",
   "execution_count": 2,
   "id": "b5b4e716",
   "metadata": {},
   "outputs": [],
   "source": [
    "sys.path.append(os.environ['HOME'] + '/DESI/')"
   ]
  },
  {
   "cell_type": "code",
   "execution_count": 3,
   "id": "73618497",
   "metadata": {},
   "outputs": [],
   "source": [
    "import pubplot\n",
    "\n",
    "from   schechter     import schechter, named_schechter\n",
    "from   findfile      import findfile"
   ]
  },
  {
   "cell_type": "code",
   "execution_count": 4,
   "id": "b634e530",
   "metadata": {},
   "outputs": [],
   "source": [
    "version = 'GAMA4'\n",
    "survey  = 'gama'\n",
    "dryrun  =  False"
   ]
  },
  {
   "cell_type": "code",
   "execution_count": 5,
   "id": "c3c7ca3e",
   "metadata": {},
   "outputs": [
    {
     "data": {
      "text/plain": [
       "'/cosma/home/durham/dc-wils7/data/GAMA4/gama_gold.fits'"
      ]
     },
     "execution_count": 5,
     "metadata": {},
     "output_type": "execute_result"
    }
   ],
   "source": [
    "fpath = findfile(ftype='gold', dryrun=dryrun, version=version, survey=survey)\n",
    "fpath"
   ]
  },
  {
   "cell_type": "code",
   "execution_count": 6,
   "id": "9c00d4ff",
   "metadata": {},
   "outputs": [
    {
     "data": {
      "text/plain": [
       "OrderedDict([('AREA', 180.0), ('GOLD_NGAL', 113687)])"
      ]
     },
     "execution_count": 6,
     "metadata": {},
     "output_type": "execute_result"
    }
   ],
   "source": [
    "gold = Table.read(fpath)\n",
    "gold.meta"
   ]
  },
  {
   "cell_type": "markdown",
   "id": "8e4b4a13",
   "metadata": {},
   "source": [
    "##  VMAX"
   ]
  },
  {
   "cell_type": "code",
   "execution_count": 7,
   "id": "a5670177",
   "metadata": {},
   "outputs": [
    {
     "data": {
      "text/html": [
       "<div><i>Table length=113685</i>\n",
       "<table id=\"table140676086994736\" class=\"table-striped table-bordered table-condensed\">\n",
       "<thead><tr><th>WEIGHT_STEPWISE</th><th>ZMAX</th><th>MCOLOR_0P0</th><th>ZSURV</th><th>MALL_0P0</th><th>FIELD</th><th>ZMIN</th><th>IN_D8LUMFN</th><th>VMAX</th><th>VZ</th></tr></thead>\n",
       "<thead><tr><th></th><th></th><th>mag</th><th></th><th>mag</th><th></th><th></th><th></th><th></th><th></th></tr></thead>\n",
       "<thead><tr><th>float64</th><th>float64</th><th>float64</th><th>float32</th><th>float64</th><th>bytes3</th><th>float64</th><th>int64</th><th>float64</th><th>float64</th></tr></thead>\n",
       "<tr><td>3.237251617236048</td><td>0.26298999786376953</td><td>-20.955930940885857</td><td>0.13277</td><td>-20.933360040266827</td><td>G12</td><td>0.03903000056743622</td><td>0</td><td>7594841.612883208</td><td>1037123.3273605476</td></tr>\n",
       "<tr><td>8.627247871084124</td><td>0.26298999786376953</td><td>-20.24031925071675</td><td>0.24889</td><td>-20.198007939948624</td><td>G9</td><td>0.03903000056743622</td><td>0</td><td>7594841.612883208</td><td>6493172.10199475</td></tr>\n",
       "<tr><td>4.5844701531947365</td><td>0.26298999786376953</td><td>-20.772811643895864</td><td>0.16371</td><td>-20.74498093884921</td><td>G15</td><td>0.03903000056743622</td><td>0</td><td>7594841.612883208</td><td>1931304.6199546135</td></tr>\n",
       "<tr><td>8.627247871084124</td><td>0.26298999786376953</td><td>-21.33387327520519</td><td>0.24721</td><td>-21.291847574993664</td><td>G12</td><td>0.03903000056743622</td><td>0</td><td>7594841.612883208</td><td>6369006.149275019</td></tr>\n",
       "<tr><td>1.989860106214468</td><td>0.26298999786376953</td><td>-19.87372727855954</td><td>0.08636</td><td>-19.973041267841193</td><td>G9</td><td>0.03903000056743622</td><td>0</td><td>7594841.612883208</td><td>273032.18668819166</td></tr>\n",
       "<tr><td>4.5844701531947365</td><td>0.26298999786376953</td><td>-20.044480153163196</td><td>0.16961</td><td>-20.239531614621402</td><td>G12</td><td>0.03903000056743622</td><td>0</td><td>7594841.612883208</td><td>2142887.9333201526</td></tr>\n",
       "<tr><td>3.237251617236048</td><td>0.21605671013487018</td><td>-19.122874939729037</td><td>0.13495</td><td>-19.27806741922027</td><td>G15</td><td>0.03903000056743622</td><td>0</td><td>4329388.8812227</td><td>1088985.926046155</td></tr>\n",
       "<tr><td>10.589502667205144</td><td>0.26298999786376953</td><td>-20.927756096384304</td><td>0.2626</td><td>-20.883114109895008</td><td>G12</td><td>0.03903000056743622</td><td>0</td><td>7594841.612883208</td><td>7562921.2301444085</td></tr>\n",
       "<tr><td>6.092189398390656</td><td>0.20285892701289526</td><td>-19.160622651915972</td><td>0.20081</td><td>-19.391554127674524</td><td>G9</td><td>0.03903000056743622</td><td>0</td><td>3609200.469450055</td><td>3504701.4931096435</td></tr>\n",
       "<tr><td>6.092189398390656</td><td>0.26298999786376953</td><td>-21.469297255362672</td><td>0.20031</td><td>-21.435244555558366</td><td>G9</td><td>0.03903000056743622</td><td>0</td><td>7594841.612883208</td><td>3479493.7189845145</td></tr>\n",
       "<tr><td>1.6538945935980043</td><td>0.15296258824852815</td><td>-18.534268743077572</td><td>0.07065</td><td>-18.615516221801098</td><td>G9</td><td>0.03903000056743622</td><td>0</td><td>1580849.4168496532</td><td>138084.74861255242</td></tr>\n",
       "<tr><td>3.6183475269178906</td><td>0.14390840030930113</td><td>-18.41251837142629</td><td>0.13824</td><td>-18.57149434515161</td><td>G15</td><td>0.03903000056743622</td><td>0</td><td>1319182.2364588277</td><td>1170300.5067438032</td></tr>\n",
       "<tr><td>3.6183475269178906</td><td>0.23101536342566434</td><td>-19.394061086430224</td><td>0.1492</td><td>-19.565641073240908</td><td>G15</td><td>0.03903000056743622</td><td>0</td><td>5247503.771428661</td><td>1468475.0551373318</td></tr>\n",
       "<tr><td>6.092189398390656</td><td>0.23663771429341246</td><td>-19.858876327172727</td><td>0.19909</td><td>-19.825031021729917</td><td>G12</td><td>0.03903000056743622</td><td>0</td><td>5621542.413149497</td><td>3418465.779230628</td></tr>\n",
       "<tr><td>...</td><td>...</td><td>...</td><td>...</td><td>...</td><td>...</td><td>...</td><td>...</td><td>...</td><td>...</td></tr>\n",
       "<tr><td>6.092189398390656</td><td>0.21448284202340318</td><td>-19.658534335667046</td><td>0.19592</td><td>-19.62522793071881</td><td>G12</td><td>0.03903000056743622</td><td>0</td><td>4239158.586931686</td><td>3263058.04703153</td></tr>\n",
       "<tr><td>6.092189398390656</td><td>0.24098020696214528</td><td>-19.387941275149654</td><td>0.19971</td><td>-19.617607746630977</td><td>G15</td><td>0.03903000056743622</td><td>0</td><td>5921523.948994095</td><td>3449394.562815359</td></tr>\n",
       "<tr><td>7.165775866315475</td><td>0.2535603295341359</td><td>-20.057421453855373</td><td>0.22484</td><td>-20.019198649189807</td><td>G9</td><td>0.03903000056743622</td><td>0</td><td>6846226.397716612</td><td>4855062.89895672</td></tr>\n",
       "<tr><td>4.5844701531947365</td><td>0.205759676385195</td><td>-19.05543294714827</td><td>0.16987</td><td>-19.25078341530699</td><td>G12</td><td>0.03903000056743622</td><td>0</td><td>3760463.7599495924</td><td>2152533.7240774557</td></tr>\n",
       "<tr><td>3.237251617236048</td><td>0.20975216021973472</td><td>-19.563548279484795</td><td>0.13076</td><td>-19.54131906994252</td><td>G12</td><td>0.03903000056743622</td><td>0</td><td>3975086.199659479</td><td>990708.1956783474</td></tr>\n",
       "<tr><td>1.989860106214468</td><td>0.09484562730109025</td><td>-17.66913145594193</td><td>0.08554</td><td>-17.654589651151433</td><td>G15</td><td>0.03903000056743622</td><td>0</td><td>368951.6894233268</td><td>264664.1567698255</td></tr>\n",
       "<tr><td>8.627247871084124</td><td>0.257486206062506</td><td>-19.486521277842662</td><td>0.24353</td><td>-19.76658073466792</td><td>G12</td><td>0.03903000056743622</td><td>0</td><td>7152044.566432318</td><td>6102219.871837649</td></tr>\n",
       "<tr><td>8.627247871084124</td><td>0.26298999786376953</td><td>-21.79484043530931</td><td>0.23032</td><td>-21.755686024947067</td><td>G15</td><td>0.03903000056743622</td><td>0</td><td>7594841.612883208</td><td>5202358.284737247</td></tr>\n",
       "<tr><td>1.1794429707512417</td><td>0.15987737524361315</td><td>-18.618441827753195</td><td>0.05069</td><td>-18.67673531935514</td><td>G9</td><td>0.03903000056743622</td><td>0</td><td>1801230.8392393473</td><td>33669.20210833374</td></tr>\n",
       "<tr><td>4.5844701531947365</td><td>0.26298999786376953</td><td>-19.889429895367726</td><td>0.17295</td><td>-20.088322369542226</td><td>G15</td><td>0.03903000056743622</td><td>0</td><td>7594841.612883208</td><td>2268887.811593769</td></tr>\n",
       "<tr><td>1.2883288684565406</td><td>0.12168126580653711</td><td>-18.001825766949842</td><td>0.05596</td><td>-18.06617975824971</td><td>G9</td><td>0.03903000056743622</td><td>0</td><td>797372.1512353916</td><td>54933.64711276717</td></tr>\n",
       "<tr><td>3.6183475269178906</td><td>0.26298999786376953</td><td>-21.388977660095076</td><td>0.13832</td><td>-21.548045633589606</td><td>G15</td><td>0.03903000056743622</td><td>0</td><td>7594841.612883208</td><td>1172323.9949350783</td></tr>\n",
       "<tr><td>4.5844701531947365</td><td>0.1712355635277871</td><td>-18.756472000215943</td><td>0.16856</td><td>-18.95031599078029</td><td>G15</td><td>0.03903000056743622</td><td>0</td><td>2203643.4071891117</td><td>2104213.560153618</td></tr>\n",
       "<tr><td>2.1812023299140164</td><td>0.14449464727887334</td><td>-18.404190619285817</td><td>0.09595</td><td>-18.51453310697865</td><td>G9</td><td>0.03903000056743622</td><td>0</td><td>1335226.098601047</td><td>382729.0182628217</td></tr>\n",
       "</table></div>"
      ],
      "text/plain": [
       "<Table length=113685>\n",
       " WEIGHT_STEPWISE           ZMAX             MCOLOR_0P0      ZSURV  ...         ZMIN        IN_D8LUMFN        VMAX                VZ        \n",
       "                                               mag                 ...                                                                     \n",
       "     float64             float64             float64       float32 ...       float64         int64         float64            float64      \n",
       "------------------ ------------------- ------------------- ------- ... ------------------- ---------- ------------------ ------------------\n",
       " 3.237251617236048 0.26298999786376953 -20.955930940885857 0.13277 ... 0.03903000056743622          0  7594841.612883208 1037123.3273605476\n",
       " 8.627247871084124 0.26298999786376953  -20.24031925071675 0.24889 ... 0.03903000056743622          0  7594841.612883208   6493172.10199475\n",
       "4.5844701531947365 0.26298999786376953 -20.772811643895864 0.16371 ... 0.03903000056743622          0  7594841.612883208 1931304.6199546135\n",
       " 8.627247871084124 0.26298999786376953  -21.33387327520519 0.24721 ... 0.03903000056743622          0  7594841.612883208  6369006.149275019\n",
       " 1.989860106214468 0.26298999786376953  -19.87372727855954 0.08636 ... 0.03903000056743622          0  7594841.612883208 273032.18668819166\n",
       "4.5844701531947365 0.26298999786376953 -20.044480153163196 0.16961 ... 0.03903000056743622          0  7594841.612883208 2142887.9333201526\n",
       " 3.237251617236048 0.21605671013487018 -19.122874939729037 0.13495 ... 0.03903000056743622          0    4329388.8812227  1088985.926046155\n",
       "10.589502667205144 0.26298999786376953 -20.927756096384304  0.2626 ... 0.03903000056743622          0  7594841.612883208 7562921.2301444085\n",
       " 6.092189398390656 0.20285892701289526 -19.160622651915972 0.20081 ... 0.03903000056743622          0  3609200.469450055 3504701.4931096435\n",
       " 6.092189398390656 0.26298999786376953 -21.469297255362672 0.20031 ... 0.03903000056743622          0  7594841.612883208 3479493.7189845145\n",
       "1.6538945935980043 0.15296258824852815 -18.534268743077572 0.07065 ... 0.03903000056743622          0 1580849.4168496532 138084.74861255242\n",
       "3.6183475269178906 0.14390840030930113  -18.41251837142629 0.13824 ... 0.03903000056743622          0 1319182.2364588277 1170300.5067438032\n",
       "3.6183475269178906 0.23101536342566434 -19.394061086430224  0.1492 ... 0.03903000056743622          0  5247503.771428661 1468475.0551373318\n",
       " 6.092189398390656 0.23663771429341246 -19.858876327172727 0.19909 ... 0.03903000056743622          0  5621542.413149497  3418465.779230628\n",
       "               ...                 ...                 ...     ... ...                 ...        ...                ...                ...\n",
       " 6.092189398390656 0.21448284202340318 -19.658534335667046 0.19592 ... 0.03903000056743622          0  4239158.586931686   3263058.04703153\n",
       " 6.092189398390656 0.24098020696214528 -19.387941275149654 0.19971 ... 0.03903000056743622          0  5921523.948994095  3449394.562815359\n",
       " 7.165775866315475  0.2535603295341359 -20.057421453855373 0.22484 ... 0.03903000056743622          0  6846226.397716612   4855062.89895672\n",
       "4.5844701531947365   0.205759676385195  -19.05543294714827 0.16987 ... 0.03903000056743622          0 3760463.7599495924 2152533.7240774557\n",
       " 3.237251617236048 0.20975216021973472 -19.563548279484795 0.13076 ... 0.03903000056743622          0  3975086.199659479  990708.1956783474\n",
       " 1.989860106214468 0.09484562730109025  -17.66913145594193 0.08554 ... 0.03903000056743622          0  368951.6894233268  264664.1567698255\n",
       " 8.627247871084124   0.257486206062506 -19.486521277842662 0.24353 ... 0.03903000056743622          0  7152044.566432318  6102219.871837649\n",
       " 8.627247871084124 0.26298999786376953  -21.79484043530931 0.23032 ... 0.03903000056743622          0  7594841.612883208  5202358.284737247\n",
       "1.1794429707512417 0.15987737524361315 -18.618441827753195 0.05069 ... 0.03903000056743622          0 1801230.8392393473  33669.20210833374\n",
       "4.5844701531947365 0.26298999786376953 -19.889429895367726 0.17295 ... 0.03903000056743622          0  7594841.612883208  2268887.811593769\n",
       "1.2883288684565406 0.12168126580653711 -18.001825766949842 0.05596 ... 0.03903000056743622          0  797372.1512353916  54933.64711276717\n",
       "3.6183475269178906 0.26298999786376953 -21.388977660095076 0.13832 ... 0.03903000056743622          0  7594841.612883208 1172323.9949350783\n",
       "4.5844701531947365  0.1712355635277871 -18.756472000215943 0.16856 ... 0.03903000056743622          0 2203643.4071891117  2104213.560153618\n",
       "2.1812023299140164 0.14449464727887334 -18.404190619285817 0.09595 ... 0.03903000056743622          0  1335226.098601047  382729.0182628217"
      ]
     },
     "execution_count": 7,
     "metadata": {},
     "output_type": "execute_result"
    }
   ],
   "source": [
    "fpath = findfile(ftype='vmax', dryrun=dryrun, version=version, survey=survey)\n",
    "vmax  = Table.read(fpath)\n",
    "vmax"
   ]
  },
  {
   "cell_type": "markdown",
   "id": "7a7381d8",
   "metadata": {},
   "source": [
    "##  LUMFN"
   ]
  },
  {
   "cell_type": "code",
   "execution_count": 8,
   "id": "643bea99",
   "metadata": {},
   "outputs": [
    {
     "data": {
      "text/html": [
       "<div><i>Table length=24</i>\n",
       "<table id=\"table140671412427600\" class=\"table-striped table-bordered table-condensed\">\n",
       "<thead><tr><th>MEDIAN_M</th><th>PHI_N</th><th>PHI_N_ERROR</th><th>PHI_IVMAX</th><th>PHI_IVMAX_ERROR</th><th>N</th><th>V_ON_VMAX</th></tr></thead>\n",
       "<thead><tr><th>float64</th><th>float64</th><th>float64</th><th>float64</th><th>float64</th><th>float64</th><th>float64</th></tr></thead>\n",
       "<tr><td>-25.3</td><td>0.0</td><td>0.0</td><td>0.0</td><td>0.0</td><td>0.0</td><td>0.0</td></tr>\n",
       "<tr><td>-25.48584913809907</td><td>3.291707882043561e-07</td><td>3.291707882043561e-07</td><td>3.462993057321449e-07</td><td>3.462993057321449e-07</td><td>1.0</td><td>0.9505384006139553</td></tr>\n",
       "<tr><td>-24.500000000000004</td><td>0.0</td><td>0.0</td><td>0.0</td><td>0.0</td><td>0.0</td><td>0.0</td></tr>\n",
       "<tr><td>-24.100000000000005</td><td>0.0</td><td>0.0</td><td>0.0</td><td>0.0</td><td>0.0</td><td>0.0</td></tr>\n",
       "<tr><td>-23.700000000000006</td><td>0.0</td><td>0.0</td><td>0.0</td><td>0.0</td><td>0.0</td><td>0.0</td></tr>\n",
       "<tr><td>-23.300000000000008</td><td>0.0</td><td>0.0</td><td>0.0</td><td>0.0</td><td>0.0</td><td>0.0</td></tr>\n",
       "<tr><td>-23.27907099457166</td><td>1.3166831528174244e-06</td><td>6.583415764087122e-07</td><td>1.3167731092950076e-06</td><td>6.583865565703332e-07</td><td>4.0</td><td>0.9999559128920792</td></tr>\n",
       "<tr><td>-22.767725929292183</td><td>1.4812685469196024e-05</td><td>2.2081447758963785e-06</td><td>1.4812685469196026e-05</td><td>2.2081447758963785e-06</td><td>45.0</td><td>1.0</td></tr>\n",
       "<tr><td>-22.425903975884022</td><td>7.27467441931627e-05</td><td>4.893475567054977e-06</td><td>7.274674419316267e-05</td><td>4.893475567054977e-06</td><td>221.0</td><td>1.0</td></tr>\n",
       "<tr><td>-22.045786793822543</td><td>0.00029296200150187693</td><td>9.820108601655005e-06</td><td>0.0002929620015018768</td><td>9.820108601655003e-06</td><td>890.0</td><td>1.0</td></tr>\n",
       "<tr><td>-21.646499120444503</td><td>0.0008979779102214835</td><td>1.7192675664296882e-05</td><td>0.0008979779102214833</td><td>1.7192675664296882e-05</td><td>2728.0</td><td>1.0</td></tr>\n",
       "<tr><td>-21.268283219648858</td><td>0.001920053207596009</td><td>2.5140115905434498e-05</td><td>0.0019200532075960084</td><td>2.5140115905434495e-05</td><td>5833.0</td><td>1.0</td></tr>\n",
       "<tr><td>-20.877376208587464</td><td>0.003356225356531615</td><td>3.323810081820196e-05</td><td>0.003356225356531614</td><td>3.323810081820196e-05</td><td>10196.0</td><td>1.0</td></tr>\n",
       "<tr><td>-20.48480410505588</td><td>0.004873044348577288</td><td>4.005076589999209e-05</td><td>0.004873044348577286</td><td>4.005076589999209e-05</td><td>14804.0</td><td>1.0</td></tr>\n",
       "<tr><td>-20.097105995264705</td><td>0.0059359368236891535</td><td>4.420335963459136e-05</td><td>0.006363118749622747</td><td>4.763358261405202e-05</td><td>18033.0</td><td>1.0</td></tr>\n",
       "<tr><td>-19.703142746948593</td><td>0.006105788950402602</td><td>4.483132120976887e-05</td><td>0.008141518487151599</td><td>6.191198667171666e-05</td><td>18549.0</td><td>0.843653723246111</td></tr>\n",
       "<tr><td>-19.316111224780613</td><td>0.004809514386453847</td><td>3.978883815178829e-05</td><td>0.009411673194595863</td><td>8.124096386619595e-05</td><td>14611.0</td><td>0.5464065947676636</td></tr>\n",
       "<tr><td>-18.923714259634096</td><td>0.003378608970129511</td><td>3.334875376579819e-05</td><td>0.010816695527528968</td><td>0.00011021925009097905</td><td>10264.0</td><td>0.32668020168311696</td></tr>\n",
       "<tr><td>-18.518643936653497</td><td>0.0022429697508244825</td><td>2.7172046680318783e-05</td><td>0.012011735763665371</td><td>0.00014891840128598266</td><td>6814.0</td><td>0.19075953834624307</td></tr>\n",
       "<tr><td>-18.129764176457346</td><td>0.0013835048228229088</td><td>2.13403227017106e-05</td><td>0.012495016821905505</td><td>0.000196364455294271</td><td>4203.0</td><td>0.11285016266681701</td></tr>\n",
       "<tr><td>-17.72142716559512</td><td>0.0008950153731276443</td><td>1.71642918824938e-05</td><td>0.014258813941158296</td><td>0.0002781720155174338</td><td>2719.0</td><td>0.06402379461238657</td></tr>\n",
       "<tr><td>-17.320931092897975</td><td>0.0006171952278831677</td><td>1.425351323843597e-05</td><td>0.017475710373430195</td><td>0.00040996727364008614</td><td>1875.0</td><td>0.03598509645308576</td></tr>\n",
       "<tr><td>-16.932093379420884</td><td>0.0003034954667244163</td><td>9.995090894940627e-06</td><td>0.015889741300725225</td><td>0.0005342412477292865</td><td>922.0</td><td>0.01977766882821481</td></tr>\n",
       "<tr><td>-16.515226787344048</td><td>0.00022284862361434906</td><td>8.56476836145562e-06</td><td>0.02381904284445746</td><td>0.0009372777094536999</td><td>677.0</td><td>0.009706191620292978</td></tr>\n",
       "</table></div>"
      ],
      "text/plain": [
       "<Table length=24>\n",
       "      MEDIAN_M              PHI_N               PHI_N_ERROR             PHI_IVMAX           PHI_IVMAX_ERROR        N         V_ON_VMAX      \n",
       "      float64              float64                float64                float64                float64         float64       float64       \n",
       "------------------- ---------------------- ---------------------- ---------------------- ---------------------- ------- --------------------\n",
       "              -25.3                    0.0                    0.0                    0.0                    0.0     0.0                  0.0\n",
       " -25.48584913809907  3.291707882043561e-07  3.291707882043561e-07  3.462993057321449e-07  3.462993057321449e-07     1.0   0.9505384006139553\n",
       "-24.500000000000004                    0.0                    0.0                    0.0                    0.0     0.0                  0.0\n",
       "-24.100000000000005                    0.0                    0.0                    0.0                    0.0     0.0                  0.0\n",
       "-23.700000000000006                    0.0                    0.0                    0.0                    0.0     0.0                  0.0\n",
       "-23.300000000000008                    0.0                    0.0                    0.0                    0.0     0.0                  0.0\n",
       " -23.27907099457166 1.3166831528174244e-06  6.583415764087122e-07 1.3167731092950076e-06  6.583865565703332e-07     4.0   0.9999559128920792\n",
       "-22.767725929292183 1.4812685469196024e-05 2.2081447758963785e-06 1.4812685469196026e-05 2.2081447758963785e-06    45.0                  1.0\n",
       "-22.425903975884022   7.27467441931627e-05  4.893475567054977e-06  7.274674419316267e-05  4.893475567054977e-06   221.0                  1.0\n",
       "-22.045786793822543 0.00029296200150187693  9.820108601655005e-06  0.0002929620015018768  9.820108601655003e-06   890.0                  1.0\n",
       "-21.646499120444503  0.0008979779102214835 1.7192675664296882e-05  0.0008979779102214833 1.7192675664296882e-05  2728.0                  1.0\n",
       "-21.268283219648858   0.001920053207596009 2.5140115905434498e-05  0.0019200532075960084 2.5140115905434495e-05  5833.0                  1.0\n",
       "-20.877376208587464   0.003356225356531615  3.323810081820196e-05   0.003356225356531614  3.323810081820196e-05 10196.0                  1.0\n",
       " -20.48480410505588   0.004873044348577288  4.005076589999209e-05   0.004873044348577286  4.005076589999209e-05 14804.0                  1.0\n",
       "-20.097105995264705  0.0059359368236891535  4.420335963459136e-05   0.006363118749622747  4.763358261405202e-05 18033.0                  1.0\n",
       "-19.703142746948593   0.006105788950402602  4.483132120976887e-05   0.008141518487151599  6.191198667171666e-05 18549.0    0.843653723246111\n",
       "-19.316111224780613   0.004809514386453847  3.978883815178829e-05   0.009411673194595863  8.124096386619595e-05 14611.0   0.5464065947676636\n",
       "-18.923714259634096   0.003378608970129511  3.334875376579819e-05   0.010816695527528968 0.00011021925009097905 10264.0  0.32668020168311696\n",
       "-18.518643936653497  0.0022429697508244825 2.7172046680318783e-05   0.012011735763665371 0.00014891840128598266  6814.0  0.19075953834624307\n",
       "-18.129764176457346  0.0013835048228229088   2.13403227017106e-05   0.012495016821905505   0.000196364455294271  4203.0  0.11285016266681701\n",
       " -17.72142716559512  0.0008950153731276443   1.71642918824938e-05   0.014258813941158296  0.0002781720155174338  2719.0  0.06402379461238657\n",
       "-17.320931092897975  0.0006171952278831677  1.425351323843597e-05   0.017475710373430195 0.00040996727364008614  1875.0  0.03598509645308576\n",
       "-16.932093379420884  0.0003034954667244163  9.995090894940627e-06   0.015889741300725225  0.0005342412477292865   922.0  0.01977766882821481\n",
       "-16.515226787344048 0.00022284862361434906   8.56476836145562e-06    0.02381904284445746  0.0009372777094536999   677.0 0.009706191620292978"
      ]
     },
     "execution_count": 8,
     "metadata": {},
     "output_type": "execute_result"
    }
   ],
   "source": [
    "fpath = findfile(ftype='lumfn', dryrun=dryrun, version=version, survey=survey)\n",
    "lumfn = Table.read(fpath)\n",
    "lumfn"
   ]
  },
  {
   "cell_type": "code",
   "execution_count": 9,
   "id": "06d3b6e0",
   "metadata": {},
   "outputs": [],
   "source": [
    "##  HACK\n",
    "## TODO: note that offset should be re-added if desired.\n",
    "offset = 0.12\n",
    "\n",
    "## TODO: Rename\n",
    "gama_lf = lumfn"
   ]
  },
  {
   "cell_type": "code",
   "execution_count": 10,
   "id": "fc016037",
   "metadata": {},
   "outputs": [],
   "source": [
    "# read in our stepwise\n",
    "fpath = '/cosma/home/durham/dc-moor2/data/{}/gama_gold_lumfn_step.fits'.format(version)\n",
    "lumfn_step = Table.read(fpath)\n",
    "\n",
    "# read in TMR stepwise digitalisation\n",
    "fpath = '/cosma/home/durham/dc-moor2/DESI/data/tmr_ref_stepwise.txt'\n",
    "lumfn_TMR = Table.read(fpath, format='ascii', names=['Ms', 'PHI_STEP'])"
   ]
  },
  {
   "cell_type": "code",
   "execution_count": 13,
   "id": "7a9ab414",
   "metadata": {},
   "outputs": [
    {
     "name": "stderr",
     "output_type": "stream",
     "text": [
      "/tmp/ipykernel_130807/351588438.py:10: RuntimeWarning: divide by zero encountered in log10\n",
      "  pl.plot(gama_lf['MEDIAN_M'], np.log10(gama_lf['PHI_N']), label='RAW', lw=2.)\n",
      "/tmp/ipykernel_130807/351588438.py:11: RuntimeWarning: divide by zero encountered in log10\n",
      "  pl.plot(gama_lf['MEDIAN_M'], np.log10(gama_lf['PHI_IVMAX']), label='IVMAX', lw=2.)\n"
     ]
    },
    {
     "data": {
      "text/plain": [
       "Text(0.5, 1.0, 'GAMA')"
      ]
     },
     "execution_count": 13,
     "metadata": {},
     "output_type": "execute_result"
    },
    {
     "data": {
      "image/png": "[encoded data removed]",
      "text/plain": [
       "<Figure size 1440x720 with 1 Axes>"
      ]
     },
     "metadata": {
      "needs_background": "light"
     },
     "output_type": "display_data"
    }
   ],
   "source": [
    "Ms = np.arange(-23., -15., 0.01)\n",
    "sc = named_schechter(Ms, named_type='TMR')\n",
    "\n",
    "fig, ax = plt.subplots(1,1,figsize=(20, 10))\n",
    "\n",
    "pl.sca(ax)\n",
    "\n",
    "pl.plot(Ms, np.log10(sc), label='TMR_SCHT', lw=2.)\n",
    "\n",
    "pl.plot(gama_lf['MEDIAN_M'], np.log10(gama_lf['PHI_N']), label='RAW', lw=2.)\n",
    "pl.plot(gama_lf['MEDIAN_M'], np.log10(gama_lf['PHI_IVMAX']), label='IVMAX', lw=2.)\n",
    "\n",
    "# offset = 1.15\n",
    "# pl.plot(lumfn_step['Ms'], np.log10(lumfn_step['PHI_STEP'])-offset, label='STEPWISE', lw=2.)\n",
    "\n",
    "pl.scatter(lumfn_TMR['Ms'], lumfn_TMR['PHI_STEP'], s=0.5)\n",
    "# pl.plot(lumfn_TMR['Ms'], lumfn_TMR['PHI_STEP'], label='TMR_SWML', lw=1.)\n",
    "\n",
    "pl.xlabel(r'$M$')\n",
    "pl.ylabel(r'$\\Phi(M)$')\n",
    "\n",
    "pl.ylim(-4.25, -1.)\n",
    "pl.xlim(-23., -15.5)\n",
    "\n",
    "pl.legend(frameon=False, loc=2)\n",
    "pl.title(survey.upper())"
   ]
  },
  {
   "cell_type": "code",
   "execution_count": 12,
   "id": "95624e4e",
   "metadata": {},
   "outputs": [
    {
     "data": {
      "text/html": [
       "<div><i>Table length=113687</i>\n",
       "<table id=\"table140136476205264\" class=\"table-striped table-bordered table-condensed\">\n",
       "<thead><tr><th>CATAID</th><th>OBJID</th><th>RA</th><th>DEC</th><th>R_PETRO</th><th>ZGAMA</th><th>NQ</th><th>SPECID</th><th>SURVEY_CLASS</th><th>UMAG_DRED_SDSS</th><th>GMAG_DRED_SDSS</th><th>RMAG_DRED_SDSS</th><th>IMAG_DRED_SDSS</th><th>ZMAG_DRED_SDSS</th><th>ZSURV</th><th>LUMDIST</th><th>DISTMOD</th><th>FIELD</th><th>IN_D8LUMFN</th><th>CONSERVATIVE</th><th>CARTESIAN_X</th><th>CARTESIAN_Y</th><th>CARTESIAN_Z</th><th>ROTCARTESIAN_X</th><th>ROTCARTESIAN_Y</th><th>ROTCARTESIAN_Z</th><th>GMR</th><th>DETMAG</th><th>JK</th></tr></thead>\n",
       "<thead><tr><th></th><th></th><th>deg</th><th>deg</th><th>mag</th><th></th><th></th><th></th><th></th><th>mag</th><th>mag</th><th>mag</th><th>mag</th><th>mag</th><th></th><th>Mpc</th><th></th><th></th><th></th><th></th><th></th><th></th><th></th><th></th><th></th><th></th><th>mag</th><th>mag</th><th></th></tr></thead>\n",
       "<thead><tr><th>int32</th><th>int64</th><th>float64</th><th>float64</th><th>float32</th><th>float32</th><th>int16</th><th>bytes33</th><th>int16</th><th>float32</th><th>float32</th><th>float32</th><th>float32</th><th>float32</th><th>float32</th><th>float64</th><th>float64</th><th>bytes3</th><th>int64</th><th>int64</th><th>float64</th><th>float64</th><th>float64</th><th>float64</th><th>float64</th><th>float64</th><th>float32</th><th>float32</th><th>bytes4</th></tr></thead>\n",
       "<tr><td>79517</td><td>587722983369015586</td><td>221.90442937</td><td>0.19181593</td><td>19.589008</td><td>0.14767</td><td>4</td><td>G15_Y5_004_309</td><td>5</td><td>21.616375</td><td>20.058775</td><td>19.546654</td><td>19.20639</td><td>19.090242</td><td>0.14767</td><td>493.46971211371834</td><td>38.46630250979477</td><td>G15</td><td>0</td><td>0</td><td>-320.0115524901314</td><td>-287.17460304287704</td><td>1.4394768642038602</td><td>322.4137148457745</td><td>284.47648238969197</td><td>1.1161989767273883</td><td>0.5121212</td><td>19.589008</td><td>JK8</td></tr>\n",
       "<tr><td>423202</td><td>587728879794782493</td><td>134.32965481</td><td>2.82326431</td><td>19.222818</td><td>0.19018</td><td>4</td><td>G09_Y1_DX2_241</td><td>6</td><td>21.372406</td><td>20.112215</td><td>19.258823</td><td>18.882227</td><td>18.598429</td><td>0.19018</td><td>653.2280894262998</td><td>39.075324257700316</td><td>G9</td><td>0</td><td>0</td><td>-383.0616535447091</td><td>392.1316199246054</td><td>27.03368964713638</td><td>379.7812811157212</td><td>-395.3353758568989</td><td>26.652903166931036</td><td>0.85339165</td><td>19.222818</td><td>JK1</td></tr>\n",
       "<tr><td>618528</td><td>588848900465295688</td><td>215.97888844</td><td>0.21146994</td><td>19.322342</td><td>0.16661</td><td>4</td><td>G15_Y3_005_314</td><td>6</td><td>22.302507</td><td>20.306444</td><td>19.239223</td><td>18.774178</td><td>18.491404</td><td>0.16661</td><td>563.7250516414288</td><td>38.75533667532398</td><td>G15</td><td>0</td><td>0</td><td>-391.0322205795908</td><td>-283.8814590125174</td><td>1.7834735092634075</td><td>393.4045254093146</td><td>280.5869047306039</td><td>1.3890145465743724</td><td>1.0672207</td><td>19.322342</td><td>JK7</td></tr>\n",
       "<tr><td>373141</td><td>587727942955630981</td><td>139.53849015</td><td>1.26850634</td><td>19.737514</td><td>0.22611</td><td>4</td><td>G09_Y3_014_239</td><td>5</td><td>21.303547</td><td>20.244375</td><td>19.748362</td><td>19.455616</td><td>19.24166</td><td>0.22611</td><td>793.9706172982571</td><td>39.499022153310875</td><td>G9</td><td>0</td><td>0</td><td>-492.56446888872307</td><td>420.11785987044976</td><td>14.335390665026965</td><td>489.0323711249148</td><td>-424.2404154497467</td><td>13.845053638238964</td><td>0.49601364</td><td>19.737514</td><td>JK2</td></tr>\n",
       "<tr><td>41220</td><td>587722982278955568</td><td>184.63971854</td><td>-0.69652957</td><td>19.718143</td><td>0.08393</td><td>4</td><td>G12_Y1_ND7_140</td><td>5</td><td>21.04846</td><td>20.039017</td><td>19.660496</td><td>19.375326</td><td>19.384188</td><td>0.08393</td><td>268.3426613039717</td><td>37.14344861300682</td><td>G12</td><td>0</td><td>0</td><td>-246.73507218300853</td><td>-20.023990929771518</td><td>-3.009502502081882</td><td>246.89142103749109</td><td>17.95079263419047</td><td>-3.257057738613331</td><td>0.37852097</td><td>19.718143</td><td>JK5</td></tr>\n",
       "<tr><td>273124</td><td>587726031175745783</td><td>182.18343912</td><td>1.38318181</td><td>18.728197</td><td>0.25301</td><td>4</td><td>G12_Y1_EX2_010</td><td>6</td><td>20.82814</td><td>19.595024</td><td>18.477016</td><td>18.070349</td><td>17.733896</td><td>0.25301</td><td>902.642312609461</td><td>39.777578439085346</td><td>G12</td><td>0</td><td>0</td><td>-719.6463876706407</td><td>-27.437712954604105</td><td>17.389039367761065</td><td>719.8685415343215</td><td>21.391956603583516</td><td>16.667248472208893</td><td>1.1180077</td><td>18.728197</td><td>JK5</td></tr>\n",
       "<tr><td>367321</td><td>587726033877205694</td><td>221.34957849</td><td>2.86496938</td><td>19.153774</td><td>0.22161</td><td>4</td><td>G15_Y4_230_359</td><td>6</td><td>21.16949</td><td>20.083027</td><td>19.089508</td><td>18.630032</td><td>18.36162</td><td>0.22161</td><td>776.0641832900482</td><td>39.44948820227037</td><td>G15</td><td>0</td><td>0</td><td>-476.3038987332113</td><td>-419.17400164285385</td><td>31.75275682703238</td><td>479.8396135972334</td><td>415.1584210260319</td><td>31.271645973422384</td><td>0.9935188</td><td>19.153774</td><td>JK8</td></tr>\n",
       "<tr><td>278559</td><td>587726031690858703</td><td>132.39561337</td><td>0.84647721</td><td>16.67593</td><td>0.06538</td><td>5</td><td>525839268854130688</td><td>6</td><td>18.920893</td><td>17.333975</td><td>16.626013</td><td>16.218363</td><td>15.91453</td><td>0.06538</td><td>206.21224741843818</td><td>36.57157227729542</td><td>G9</td><td>0</td><td>0</td><td>-130.49107494720033</td><td>142.92793609466335</td><td>2.8594780285823997</td><td>129.28872691612673</td><td>-144.01897519551804</td><td>2.7298439134762837</td><td>0.70796204</td><td>16.67593</td><td>JK0</td></tr>\n",
       "<tr><td>273382</td><td>587726031176270062</td><td>183.35132078</td><td>1.30197926</td><td>17.753372</td><td>0.19734</td><td>5</td><td>583295079989405696</td><td>6</td><td>20.247446</td><td>18.61641</td><td>17.517601</td><td>17.061766</td><td>16.820946</td><td>0.19734</td><td>680.8644055163691</td><td>39.16530315281349</td><td>G12</td><td>0</td><td>0</td><td>-567.5284719256234</td><td>-33.233547003107894</td><td>12.920734180721075</td><td>567.8002713896303</td><td>28.4653256854016</td><td>12.351417242408539</td><td>1.0988083</td><td>17.753372</td><td>JK5</td></tr>\n",
       "<tr><td>3623145</td><td>587729151448514851</td><td>130.89195134</td><td>-0.76247836</td><td>18.982603</td><td>0.13883</td><td>4</td><td>G09_Y2_014_187</td><td>4</td><td>19.39866</td><td>19.115591</td><td>18.952793</td><td>18.881454</td><td>18.991667</td><td>0.13883</td><td>461.19610859401655</td><td>38.31942817109167</td><td>G9</td><td>0</td><td>0</td><td>-265.0862935253557</td><td>306.1108674997119</td><td>-5.389132068185304</td><td>262.500177649309</td><td>-308.32670458028264</td><td>-5.652339129062967</td><td>0.16279793</td><td>18.982603</td><td>JK0</td></tr>\n",
       "<tr><td>560810</td><td>588848899376611577</td><td>181.90906736</td><td>-0.61751426</td><td>19.705654</td><td>0.22317</td><td>4</td><td>G12_Y2_017_273</td><td>5</td><td>22.61862</td><td>21.065271</td><td>19.763395</td><td>19.073662</td><td>18.713171</td><td>0.22317</td><td>782.2628539270328</td><td>39.46676354041884</td><td>G12</td><td>0</td><td>0</td><td>-639.1451962996227</td><td>-21.30388981697611</td><td>-6.892580120486411</td><td>639.2943617576046</td><td>15.934532874806703</td><td>-7.533592896696282</td><td>1.3018761</td><td>19.705654</td><td>JK4</td></tr>\n",
       "<tr><td>505425</td><td>587729971251183780</td><td>219.7516849</td><td>-1.93730552</td><td>18.72025</td><td>0.21749</td><td>4</td><td>G15_Y2_005_045</td><td>6</td><td>22.149815</td><td>19.942682</td><td>18.668718</td><td>18.21969</td><td>17.990892</td><td>0.21749</td><td>759.7393585261846</td><td>39.403323128717304</td><td>G15</td><td>0</td><td>0</td><td>-479.48752708984676</td><td>-398.8094210331702</td><td>-21.095604043379986</td><td>482.799082374363</td><td>394.76781742313494</td><td>-21.57970887087212</td><td>1.2739639</td><td>18.72025</td><td>JK8</td></tr>\n",
       "<tr><td>228261</td><td>587726014011212378</td><td>216.63144681</td><td>1.1361692</td><td>19.431587</td><td>0.22204</td><td>4</td><td>G15_Y6_078_388</td><td>5</td><td>21.158575</td><td>20.111212</td><td>19.31523</td><td>19.025759</td><td>18.836773</td><td>0.22204</td><td>777.7718245859566</td><td>39.454261032135896</td><td>G15</td><td>0</td><td>0</td><td>-510.64737737421996</td><td>-379.6752403808668</td><td>12.619981654304254</td><td>513.8309031351971</td><td>375.3725794861091</td><td>12.104778709482204</td><td>0.79598236</td><td>19.431587</td><td>JK7</td></tr>\n",
       "<tr><td>289578</td><td>587726031712878816</td><td>182.77017901</td><td>1.83039361</td><td>18.954403</td><td>0.25183</td><td>4</td><td>G12_Y3_029_278</td><td>6</td><td>21.879566</td><td>20.307022</td><td>18.94962</td><td>18.443531</td><td>18.0822</td><td>0.25183</td><td>897.8173153110752</td><td>39.76593988476422</td><td>G12</td><td>0</td><td>0</td><td>-716.0002508170049</td><td>-34.6447126367896</td><td>22.90818135884628</td><td>716.2886054367572</td><td>28.629328365902296</td><td>22.189982777203998</td><td>1.3574028</td><td>18.954403</td><td>JK5</td></tr>\n",
       "<tr><td>...</td><td>...</td><td>...</td><td>...</td><td>...</td><td>...</td><td>...</td><td>...</td><td>...</td><td>...</td><td>...</td><td>...</td><td>...</td><td>...</td><td>...</td><td>...</td><td>...</td><td>...</td><td>...</td><td>...</td><td>...</td><td>...</td><td>...</td><td>...</td><td>...</td><td>...</td><td>...</td><td>...</td><td>...</td></tr>\n",
       "<tr><td>227844</td><td>587726014010491215</td><td>214.9975871</td><td>1.28426323</td><td>17.88204</td><td>0.25239</td><td>5</td><td>601297653967382528</td><td>6</td><td>23.203487</td><td>19.462011</td><td>17.969885</td><td>17.396118</td><td>17.07371</td><td>0.25239</td><td>900.1064646132514</td><td>39.77146940419378</td><td>G15</td><td>0</td><td>0</td><td>-588.6030365727688</td><td>-412.107343182817</td><td>16.108285914899714</td><td>592.0596893577368</td><td>407.1487367504976</td><td>15.514646083454496</td><td>1.4921265</td><td>17.88204</td><td>JK6</td></tr>\n",
       "<tr><td>203660</td><td>587725074453168579</td><td>134.59530547</td><td>-0.21159756</td><td>18.477907</td><td>0.22194</td><td>4</td><td>G09_Y1_ES1_205</td><td>6</td><td>21.6256</td><td>19.492472</td><td>18.232311</td><td>17.683584</td><td>17.269196</td><td>0.22194</td><td>777.3746942008792</td><td>39.45315199490692</td><td>G9</td><td>0</td><td>0</td><td>-446.6560723147987</td><td>453.01075149706537</td><td>-2.349457204565048</td><td>442.83259845346424</td><td>-456.7465315459945</td><td>-2.79347891195848</td><td>1.2601604</td><td>18.477907</td><td>JK1</td></tr>\n",
       "<tr><td>39980</td><td>587722982276530338</td><td>179.10058249</td><td>-0.71800214</td><td>17.811718</td><td>0.17824</td><td>4</td><td>2dF297818</td><td>6</td><td>20.583662</td><td>18.648983</td><td>17.579992</td><td>17.079473</td><td>16.741219</td><td>0.17824</td><td>607.603681799456</td><td>38.91810198411983</td><td>G12</td><td>0</td><td>0</td><td>-515.583486211481</td><td>8.09418972122903</td><td>-6.462169590603747</td><td>515.4905704421443</td><td>-12.424632620608925</td><td>-6.979046247231705</td><td>1.0689907</td><td>17.811718</td><td>JK4</td></tr>\n",
       "<tr><td>171742</td><td>587725040628597334</td><td>179.62867598</td><td>-2.44286802</td><td>19.44748</td><td>0.25019</td><td>4</td><td>G12_Y4_202_219</td><td>5</td><td>21.084738</td><td>20.090853</td><td>19.38651</td><td>19.212564</td><td>18.987944</td><td>0.25019</td><td>891.120118913735</td><td>39.749681244456625</td><td>G12</td><td>0</td><td>0</td><td>-712.1250173940388</td><td>4.615223470503566</td><td>-30.381275693365257</td><td>712.0303081523908</td><td>-10.596672075311709</td><td>-31.095231342423524</td><td>0.7043419</td><td>19.44748</td><td>JK4</td></tr>\n",
       "<tr><td>261676</td><td>587726015621366034</td><td>215.51727288</td><td>2.38380209</td><td>18.167816</td><td>0.23365</td><td>4</td><td>G15_Y4_221_139</td><td>6</td><td>21.588467</td><td>19.33173</td><td>18.048737</td><td>17.548836</td><td>17.208303</td><td>0.23365</td><td>824.1503216409362</td><td>39.58003216227837</td><td>G15</td><td>0</td><td>0</td><td>-543.2892430661238</td><td>-387.7716202691875</td><td>27.786685361323062</td><td>546.5548151101328</td><td>383.1944930226592</td><td>27.238678344545757</td><td>1.2829933</td><td>18.167816</td><td>JK7</td></tr>\n",
       "<tr><td>31329</td><td>587722981739790541</td><td>179.42293453</td><td>-1.23765789</td><td>17.983078</td><td>0.1882</td><td>4</td><td>G12_Y1_ES1_203</td><td>6</td><td>21.207188</td><td>19.238346</td><td>17.93256</td><td>17.47585</td><td>17.088366</td><td>0.1882</td><td>645.6221020617959</td><td>39.04989194747321</td><td>G12</td><td>0</td><td>0</td><td>-543.2071573259537</td><td>5.47120042473688</td><td>-11.73634992986228</td><td>543.1299970622467</td><td>-10.033765434477537</td><td>-12.280942808967524</td><td>1.3057861</td><td>17.983078</td><td>JK4</td></tr>\n",
       "<tr><td>240605</td><td>587726014551097587</td><td>223.48885721</td><td>1.43784619</td><td>18.503124</td><td>0.14598</td><td>4</td><td>G15_Y1_IN1_380</td><td>6</td><td>20.770271</td><td>19.402657</td><td>18.501781</td><td>18.122776</td><td>17.79166</td><td>0.14598</td><td>487.27412052709553</td><td>38.438866731534674</td><td>G15</td><td>0</td><td>0</td><td>-308.39113347869954</td><td>-292.53829410814194</td><td>10.669412876534812</td><td>310.8480194939508</td><td>289.937591859874</td><td>10.357736349917213</td><td>0.9008751</td><td>18.503124</td><td>JK8</td></tr>\n",
       "<tr><td>280127</td><td>587726031694594366</td><td>140.98565283</td><td>1.05556099</td><td>19.49906</td><td>0.13695</td><td>4</td><td>G09_Y6_074_048</td><td>5</td><td>20.794266</td><td>19.870121</td><td>19.32801</td><td>19.052124</td><td>18.943342</td><td>0.13695</td><td>454.37538140886824</td><td>38.287073963779775</td><td>G9</td><td>0</td><td>0</td><td>-310.4661264913291</td><td>251.53926015072162</td><td>7.362232910203418</td><td>308.3495554454826</td><td>-254.13819778208008</td><td>7.053059887457089</td><td>0.54211044</td><td>19.49906</td><td>JK2</td></tr>\n",
       "<tr><td>69665</td><td>587722983348895982</td><td>175.94086401</td><td>0.07269387</td><td>18.197943</td><td>0.08502</td><td>4</td><td>2dF292523</td><td>6</td><td>20.045727</td><td>18.784836</td><td>18.156761</td><td>17.77412</td><td>17.523487</td><td>0.08502</td><td>272.0419081016438</td><td>37.17317906162921</td><td>G12</td><td>0</td><td>0</td><td>-250.0961199296484</td><td>17.747833987444157</td><td>0.318106930771186</td><td>249.93841455100466</td><td>-19.847931450243802</td><td>0.06749819970625431</td><td>0.62807465</td><td>18.197943</td><td>JK3</td></tr>\n",
       "<tr><td>252022</td><td>587726015087247557</td><td>221.89140457</td><td>1.82130903</td><td>17.36593</td><td>0.11933</td><td>5</td><td>604650615179601920</td><td>6</td><td>19.201584</td><td>18.02399</td><td>17.352144</td><td>16.973293</td><td>16.738102</td><td>0.11933</td><td>391.1870640067411</td><td>37.961922424297406</td><td>G15</td><td>0</td><td>0</td><td>-260.0279728326971</td><td>-233.2393525131843</td><td>11.10744542773498</td><td>261.98893753198894</td><td>231.04697653809475</td><td>10.844759271009446</td><td>0.6718464</td><td>17.36593</td><td>JK8</td></tr>\n",
       "<tr><td>505829</td><td>587729971252101381</td><td>221.93712211</td><td>-1.92426255</td><td>18.419752</td><td>0.20636</td><td>4</td><td>G15_Y6_074_121</td><td>6</td><td>21.4419</td><td>19.655428</td><td>18.349733</td><td>17.955877</td><td>17.549816</td><td>0.20636</td><td>715.9727610096223</td><td>39.27448250002922</td><td>G15</td><td>0</td><td>0</td><td>-441.24188076851755</td><td>-396.4200298692532</td><td>-19.92873018999666</td><td>444.5359044291959</td><td>392.69976115967177</td><td>-20.374468609452496</td><td>1.3056946</td><td>18.419752</td><td>JK8</td></tr>\n",
       "<tr><td>569108</td><td>588848899392274718</td><td>217.64682536</td><td>-0.43633518</td><td>17.290802</td><td>0.13631</td><td>5</td><td>343400323282397184</td><td>6</td><td>19.573645</td><td>17.961958</td><td>17.043135</td><td>16.63584</td><td>16.307354</td><td>0.13631</td><td>452.05684237853745</td><td>38.27596523577397</td><td>G15</td><td>0</td><td>0</td><td>-314.98802744455674</td><td>-242.98379013445918</td><td>-3.0296302274023996</td><td>317.01470062308135</td><td>240.32942436255735</td><td>-3.347496863999147</td><td>0.91882324</td><td>17.290802</td><td>JK7</td></tr>\n",
       "<tr><td>85579</td><td>587722983888847441</td><td>182.98823153</td><td>0.49833173</td><td>19.477518</td><td>0.24553</td><td>4</td><td>G12_Y1_GD1_319</td><td>5</td><td>21.348835</td><td>20.261463</td><td>19.42819</td><td>19.077236</td><td>18.799568</td><td>0.24553</td><td>872.146164647314</td><td>39.70294637638439</td><td>G12</td><td>0</td><td>0</td><td>-699.2423518941542</td><td>-36.50172255449504</td><td>6.090115263069963</td><td>699.530041199221</td><td>30.62703350555709</td><td>5.388711747421471</td><td>0.83327293</td><td>19.477518</td><td>JK5</td></tr>\n",
       "<tr><td>302733</td><td>587726032230613392</td><td>138.98189887</td><td>1.32202231</td><td>19.430979</td><td>0.23822</td><td>4</td><td>G09_Y6_086_368</td><td>5</td><td>21.189224</td><td>20.248524</td><td>19.50122</td><td>19.19297</td><td>19.158525</td><td>0.23822</td><td>842.5492685750261</td><td>39.62797652958424</td><td>G9</td><td>0</td><td>0</td><td>-513.2659294649523</td><td>446.46002944491175</td><td>15.699112978634064</td><td>509.513193090477</td><td>-450.75554105932105</td><td>15.188240874237449</td><td>0.747303</td><td>19.430979</td><td>JK2</td></tr>\n",
       "</table></div>"
      ],
      "text/plain": [
       "<Table length=113687>\n",
       " CATAID       OBJID             RA          DEC      R_PETRO   ZGAMA  ...    ROTCARTESIAN_Y      ROTCARTESIAN_Z      GMR       DETMAG    JK  \n",
       "                               deg          deg        mag            ...                                            mag        mag          \n",
       " int32        int64          float64      float64    float32  float32 ...       float64             float64        float32    float32  bytes4\n",
       "------- ------------------ ------------ ----------- --------- ------- ... ------------------- ------------------- ---------- --------- ------\n",
       "  79517 587722983369015586 221.90442937  0.19181593 19.589008 0.14767 ...  284.47648238969197  1.1161989767273883  0.5121212 19.589008    JK8\n",
       " 423202 587728879794782493 134.32965481  2.82326431 19.222818 0.19018 ...  -395.3353758568989  26.652903166931036 0.85339165 19.222818    JK1\n",
       " 618528 588848900465295688 215.97888844  0.21146994 19.322342 0.16661 ...   280.5869047306039  1.3890145465743724  1.0672207 19.322342    JK7\n",
       " 373141 587727942955630981 139.53849015  1.26850634 19.737514 0.22611 ...  -424.2404154497467  13.845053638238964 0.49601364 19.737514    JK2\n",
       "  41220 587722982278955568 184.63971854 -0.69652957 19.718143 0.08393 ...   17.95079263419047  -3.257057738613331 0.37852097 19.718143    JK5\n",
       " 273124 587726031175745783 182.18343912  1.38318181 18.728197 0.25301 ...  21.391956603583516  16.667248472208893  1.1180077 18.728197    JK5\n",
       " 367321 587726033877205694 221.34957849  2.86496938 19.153774 0.22161 ...   415.1584210260319  31.271645973422384  0.9935188 19.153774    JK8\n",
       " 278559 587726031690858703 132.39561337  0.84647721  16.67593 0.06538 ... -144.01897519551804  2.7298439134762837 0.70796204  16.67593    JK0\n",
       " 273382 587726031176270062 183.35132078  1.30197926 17.753372 0.19734 ...    28.4653256854016  12.351417242408539  1.0988083 17.753372    JK5\n",
       "3623145 587729151448514851 130.89195134 -0.76247836 18.982603 0.13883 ... -308.32670458028264  -5.652339129062967 0.16279793 18.982603    JK0\n",
       " 560810 588848899376611577 181.90906736 -0.61751426 19.705654 0.22317 ...  15.934532874806703  -7.533592896696282  1.3018761 19.705654    JK4\n",
       " 505425 587729971251183780  219.7516849 -1.93730552  18.72025 0.21749 ...  394.76781742313494  -21.57970887087212  1.2739639  18.72025    JK8\n",
       " 228261 587726014011212378 216.63144681   1.1361692 19.431587 0.22204 ...   375.3725794861091  12.104778709482204 0.79598236 19.431587    JK7\n",
       " 289578 587726031712878816 182.77017901  1.83039361 18.954403 0.25183 ...  28.629328365902296  22.189982777203998  1.3574028 18.954403    JK5\n",
       "    ...                ...          ...         ...       ...     ... ...                 ...                 ...        ...       ...    ...\n",
       " 227844 587726014010491215  214.9975871  1.28426323  17.88204 0.25239 ...   407.1487367504976  15.514646083454496  1.4921265  17.88204    JK6\n",
       " 203660 587725074453168579 134.59530547 -0.21159756 18.477907 0.22194 ...  -456.7465315459945   -2.79347891195848  1.2601604 18.477907    JK1\n",
       "  39980 587722982276530338 179.10058249 -0.71800214 17.811718 0.17824 ... -12.424632620608925  -6.979046247231705  1.0689907 17.811718    JK4\n",
       " 171742 587725040628597334 179.62867598 -2.44286802  19.44748 0.25019 ... -10.596672075311709 -31.095231342423524  0.7043419  19.44748    JK4\n",
       " 261676 587726015621366034 215.51727288  2.38380209 18.167816 0.23365 ...   383.1944930226592  27.238678344545757  1.2829933 18.167816    JK7\n",
       "  31329 587722981739790541 179.42293453 -1.23765789 17.983078  0.1882 ... -10.033765434477537 -12.280942808967524  1.3057861 17.983078    JK4\n",
       " 240605 587726014551097587 223.48885721  1.43784619 18.503124 0.14598 ...    289.937591859874  10.357736349917213  0.9008751 18.503124    JK8\n",
       " 280127 587726031694594366 140.98565283  1.05556099  19.49906 0.13695 ... -254.13819778208008   7.053059887457089 0.54211044  19.49906    JK2\n",
       "  69665 587722983348895982 175.94086401  0.07269387 18.197943 0.08502 ... -19.847931450243802 0.06749819970625431 0.62807465 18.197943    JK3\n",
       " 252022 587726015087247557 221.89140457  1.82130903  17.36593 0.11933 ...  231.04697653809475  10.844759271009446  0.6718464  17.36593    JK8\n",
       " 505829 587729971252101381 221.93712211 -1.92426255 18.419752 0.20636 ...  392.69976115967177 -20.374468609452496  1.3056946 18.419752    JK8\n",
       " 569108 588848899392274718 217.64682536 -0.43633518 17.290802 0.13631 ...  240.32942436255735  -3.347496863999147 0.91882324 17.290802    JK7\n",
       "  85579 587722983888847441 182.98823153  0.49833173 19.477518 0.24553 ...   30.62703350555709   5.388711747421471 0.83327293 19.477518    JK5\n",
       " 302733 587726032230613392 138.98189887  1.32202231 19.430979 0.23822 ... -450.75554105932105  15.188240874237449   0.747303 19.430979    JK2"
      ]
     },
     "execution_count": 12,
     "metadata": {},
     "output_type": "execute_result"
    }
   ],
   "source": [
    "fpath = findfile(ftype='gold', dryrun=dryrun, version=version, survey=survey)\n",
    "gold  = Table.read(fpath)\n",
    "gold"
   ]
  },
  {
   "cell_type": "markdown",
   "id": "3d4626cf",
   "metadata": {},
   "source": [
    "##  Cobaya"
   ]
  },
  {
   "cell_type": "code",
   "execution_count": 13,
   "id": "9a6481e1",
   "metadata": {},
   "outputs": [],
   "source": [
    "# root = '/cosma/home/durham/{}/data/GAMA4/cobaya/'.format(os.environ['USER'])"
   ]
  },
  {
   "cell_type": "code",
   "execution_count": 20,
   "id": "1502a537",
   "metadata": {},
   "outputs": [],
   "source": [
    "# dat = Table.read(root + 'schechter_chain.1.txt', format='ascii')        "
   ]
  },
  {
   "cell_type": "code",
   "execution_count": 21,
   "id": "2915eef1",
   "metadata": {},
   "outputs": [],
   "source": [
    "# samples = np.c_[dat['log10phistar'], dat['Mstar'], dat['alpha']]"
   ]
  },
  {
   "cell_type": "code",
   "execution_count": 22,
   "id": "2aa66d82",
   "metadata": {},
   "outputs": [],
   "source": [
    "# samples = MCSamples(samples=samples, names=['log10phistar', 'Mstar', 'alpha'], labels=['log10phistar', 'Mstar', 'alpha'])"
   ]
  },
  {
   "cell_type": "code",
   "execution_count": 18,
   "id": "d1882c1a",
   "metadata": {},
   "outputs": [],
   "source": [
    "# tmr_ref = {'log10phistar': -2.01, 'Mstar': -20.89, 'alpha': -1.25}"
   ]
  },
  {
   "cell_type": "code",
   "execution_count": 24,
   "id": "f235ddbf",
   "metadata": {},
   "outputs": [],
   "source": [
    "# g = plots.get_subplot_plotter()"
   ]
  },
  {
   "cell_type": "code",
   "execution_count": 17,
   "id": "bf3cb3e1",
   "metadata": {},
   "outputs": [],
   "source": [
    "# g.triangle_plot([samples], filled=True)        "
   ]
  },
  {
   "cell_type": "markdown",
   "id": "0b1812d4",
   "metadata": {},
   "source": [
    "# Done."
   ]
  }
 ],
 "metadata": {
  "kernelspec": {
   "display_name": "lumfn",
   "language": "python",
   "name": "lumfn"
  },
  "language_info": {
   "codemirror_mode": {
    "name": "ipython",
    "version": 3
   },
   "file_extension": ".py",
   "mimetype": "text/x-python",
   "name": "python",
   "nbconvert_exporter": "python",
   "pygments_lexer": "ipython3",
   "version": "3.9.9"
  }
 },
 "nbformat": 4,
 "nbformat_minor": 5
}
