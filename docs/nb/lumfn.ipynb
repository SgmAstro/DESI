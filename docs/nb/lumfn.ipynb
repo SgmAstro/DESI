{
 "cells": [
  {
   "cell_type": "code",
   "execution_count": 1,
   "id": "30e0c3a5",
   "metadata": {},
   "outputs": [],
   "source": [
    "import os\n",
    "import sys\n",
    "import pylab as pl\n",
    "import numpy as np\n",
    "import matplotlib.pyplot as plt\n",
    "import numpy as np\n",
    "\n",
    "# from   getdist     import plots, MCSamples \n",
    "from   astropy.table import Table"
   ]
  },
  {
   "cell_type": "code",
   "execution_count": 2,
   "id": "250e718d",
   "metadata": {},
   "outputs": [],
   "source": [
    "sys.path.append(os.environ['HOME'])\n",
    "sys.path.append(os.environ['HOME'] + '/DESI/')"
   ]
  },
  {
   "cell_type": "code",
   "execution_count": 3,
   "id": "e1cbf856",
   "metadata": {},
   "outputs": [],
   "source": [
    "import pubplot\n",
    "\n",
    "from   schechter     import schechter, named_schechter\n",
    "from   findfile      import findfile"
   ]
  },
  {
   "cell_type": "code",
   "execution_count": 4,
   "id": "13af9370",
   "metadata": {},
   "outputs": [],
   "source": [
    "version = 'GAMA4'\n",
    "survey  = 'gama'\n",
    "dryrun  =  False"
   ]
  },
  {
   "cell_type": "code",
   "execution_count": 5,
   "id": "ac20edd5",
   "metadata": {},
   "outputs": [
    {
     "data": {
      "text/plain": [
       "'/cosma/home/durham/dc-wils7/data/GAMA4/gama_gold.fits'"
      ]
     },
     "execution_count": 5,
     "metadata": {},
     "output_type": "execute_result"
    }
   ],
   "source": [
    "fpath = findfile(ftype='gold', dryrun=dryrun, version=version, survey=survey)\n",
    "fpath"
   ]
  },
  {
   "cell_type": "code",
   "execution_count": 6,
   "id": "6427f920",
   "metadata": {},
   "outputs": [
    {
     "data": {
      "text/plain": [
       "OrderedDict([('AREA', 180.0),\n",
       "             ('GOLD_NGAL', 121975),\n",
       "             ('IMMUTABLE', 'FALSE'),\n",
       "             ('RLIM', 19.8),\n",
       "             ('RMAX', 12.0),\n",
       "             ('MAX_SEP', 70.0)])"
      ]
     },
     "execution_count": 6,
     "metadata": {},
     "output_type": "execute_result"
    }
   ],
   "source": [
    "gold = Table.read(fpath)\n",
    "gold.meta"
   ]
  },
  {
   "cell_type": "markdown",
   "id": "16c9a9cd",
   "metadata": {},
   "source": [
    "##  VMAX"
   ]
  },
  {
   "cell_type": "code",
   "execution_count": 7,
   "id": "40addce1",
   "metadata": {},
   "outputs": [
    {
     "data": {
      "text/html": [
       "<div><i>Table length=78912</i>\n",
       "<table id=\"table140646140024288\" class=\"table-striped table-bordered table-condensed\">\n",
       "<thead><tr><th>DEC</th><th>ZMIN</th><th>RA</th><th>ZMAX</th><th>IN_D8LUMFN</th><th>FILLFACTOR</th><th>MALL_0P0</th><th>FILLFACTOR_VMAX</th><th>MCOLOR_0P0</th><th>FIELD</th><th>ZSURV</th><th>VMAX</th><th>VZ</th></tr></thead>\n",
       "<thead><tr><th>deg</th><th></th><th>deg</th><th></th><th></th><th></th><th>mag</th><th></th><th>mag</th><th></th><th></th><th></th><th></th></tr></thead>\n",
       "<thead><tr><th>float64</th><th>float64</th><th>float64</th><th>float64</th><th>int64</th><th>float64</th><th>float64</th><th>float64</th><th>float64</th><th>bytes3</th><th>float32</th><th>float64</th><th>float64</th></tr></thead>\n",
       "<tr><td>-0.35024037</td><td>0.04682999849319458</td><td>179.0450651</td><td>0.2697399854660034</td><td>0</td><td>1.0</td><td>-23.417599538706114</td><td>0.7012996482542835</td><td>-23.461170534036924</td><td>G12</td><td>0.2563</td><td>5708572.503567905</td><td>7038162.543969559</td></tr>\n",
       "<tr><td>-2.07231294</td><td>0.04682999849319458</td><td>182.1835035</td><td>0.2697399854660034</td><td>0</td><td>0.9103224185135618</td><td>-23.424384233236342</td><td>0.7012996482542835</td><td>-23.442632031321555</td><td>G12</td><td>0.10734</td><td>5708572.503567905</td><td>522752.208394677</td></tr>\n",
       "<tr><td>-0.49323659</td><td>0.04682999849319458</td><td>213.78496641</td><td>0.2697399854660034</td><td>0</td><td>1.0</td><td>-23.084321237531245</td><td>0.7012996482542835</td><td>-23.107939332154334</td><td>G15</td><td>0.13893</td><td>5708572.503567905</td><td>1167221.5102638772</td></tr>\n",
       "<tr><td>0.60517927</td><td>0.04682999849319458</td><td>178.51993046</td><td>0.2697399854660034</td><td>0</td><td>1.0</td><td>-23.04342428919923</td><td>0.7012996482542835</td><td>-23.082316886159298</td><td>G12</td><td>0.22878</td><td>5708572.503567905</td><td>5082638.413194675</td></tr>\n",
       "<tr><td>-0.24151196</td><td>0.04682999849319458</td><td>180.52796941</td><td>0.2697399854660034</td><td>0</td><td>1.0</td><td>-23.002885748988877</td><td>0.7012996482542835</td><td>-23.045208950883637</td><td>G12</td><td>0.24896</td><td>5708572.503567905</td><td>6477775.347634292</td></tr>\n",
       "<tr><td>-0.85050901</td><td>0.04682999849319458</td><td>184.98709908</td><td>0.2697399854660034</td><td>0</td><td>1.0</td><td>-22.975296822537118</td><td>0.7012996482542835</td><td>-23.010391635049515</td><td>G12</td><td>0.20644</td><td>5708572.503567905</td><td>3775904.030791805</td></tr>\n",
       "<tr><td>-1.27151016</td><td>0.04682999849319458</td><td>222.36929583</td><td>0.2697399854660034</td><td>0</td><td>1.0030332470338519</td><td>-22.94180678796959</td><td>0.7012996482542835</td><td>-22.976202885033608</td><td>G15</td><td>0.20233</td><td>5708572.503567905</td><td>3561435.5687202164</td></tr>\n",
       "<tr><td>-1.64817036</td><td>0.04682999849319458</td><td>179.83440251</td><td>0.2697399854660034</td><td>0</td><td>0.9543464624001874</td><td>-22.93521803910806</td><td>0.7012996482542835</td><td>-22.94904753859117</td><td>G12</td><td>0.08135</td><td>5708572.503567905</td><td>203669.61244854482</td></tr>\n",
       "<tr><td>-1.4609492</td><td>0.04682999849319458</td><td>183.77207804</td><td>0.2697399854660034</td><td>0</td><td>1.0</td><td>-22.877383554444062</td><td>0.7012996482542835</td><td>-22.911188045606362</td><td>G12</td><td>0.19885</td><td>5708572.503567905</td><td>3385937.1965698814</td></tr>\n",
       "<tr><td>-0.56800756</td><td>0.04682999849319458</td><td>130.46404172</td><td>0.2697399854660034</td><td>0</td><td>1.0</td><td>-22.802359128178413</td><td>0.7012996482542835</td><td>-22.84411963242417</td><td>G9</td><td>0.24565</td><td>5708572.503567905</td><td>6234439.66091661</td></tr>\n",
       "<tr><td>-1.3960721</td><td>0.04682999849319458</td><td>180.67664245</td><td>0.2697399854660034</td><td>0</td><td>1.0</td><td>-22.777565891260902</td><td>0.7012996482542835</td><td>-22.819730991835396</td><td>G12</td><td>0.24803</td><td>5708572.503567905</td><td>6408822.080968275</td></tr>\n",
       "<tr><td>...</td><td>...</td><td>...</td><td>...</td><td>...</td><td>...</td><td>...</td><td>...</td><td>...</td><td>...</td><td>...</td><td>...</td><td>...</td></tr>\n",
       "<tr><td>1.03416237</td><td>0.04682999849319458</td><td>135.60445694</td><td>0.05316317378397626</td><td>0</td><td>0.9229506747034588</td><td>-16.320640495396574</td><td>0.055264978552649786</td><td>-16.26046100480052</td><td>G9</td><td>0.05233</td><td>1245.3293102998325</td><td>19245.349456806252</td></tr>\n",
       "<tr><td>0.55082816</td><td>0.04682999849319458</td><td>214.64457514</td><td>0.053294166630284016</td><td>0</td><td>0.9710157605708515</td><td>-16.314324218326394</td><td>0.055264978552649786</td><td>-16.253546725505178</td><td>G15</td><td>0.05285</td><td>1274.4150527989766</td><td>21285.793363258337</td></tr>\n",
       "<tr><td>0.48358543</td><td>0.04682999849319458</td><td>132.904672</td><td>0.05309816966835318</td><td>0</td><td>0.9653039031557288</td><td>-16.313022316258305</td><td>0.055264978552649786</td><td>-16.25284282566225</td><td>G9</td><td>0.05233</td><td>1230.9477419930852</td><td>19245.349456806252</td></tr>\n",
       "<tr><td>0.28358843</td><td>0.04682999849319458</td><td>134.61289881</td><td>0.05253879813860891</td><td>0</td><td>0.9625062587075055</td><td>-16.291535193019815</td><td>0.04490789628065235</td><td>-16.231413194828935</td><td>G9</td><td>0.05228</td><td>900.8485969551264</td><td>19051.24341850359</td></tr>\n",
       "<tr><td>-0.93067831</td><td>0.04682999849319458</td><td>178.16824812</td><td>0.05282935789416516</td><td>0</td><td>0.9296727926137732</td><td>-16.289546708111217</td><td>0.04490789628065235</td><td>-16.230356211308887</td><td>G12</td><td>0.05147</td><td>952.2287871582948</td><td>15956.926745047953</td></tr>\n",
       "<tr><td>0.70406309</td><td>0.04682999849319458</td><td>131.92992534</td><td>0.05266538171806199</td><td>0</td><td>0.9596309019134982</td><td>-16.290529942763868</td><td>0.04490789628065235</td><td>-16.2302354524563</td><td>G9</td><td>0.05243</td><td>923.164379438223</td><td>19634.681697316068</td></tr>\n",
       "<tr><td>0.51596786</td><td>0.04682999849319458</td><td>132.50118613</td><td>0.05232077264271665</td><td>0</td><td>0.9584263605538464</td><td>-16.27433881430849</td><td>0.04490789628065235</td><td>-16.215355316986884</td><td>G9</td><td>0.05129</td><td>862.65842661772</td><td>15282.116039714238</td></tr>\n",
       "<tr><td>0.38899142</td><td>0.04682999849319458</td><td>136.390158</td><td>0.05226070784488128</td><td>0</td><td>0.9555121475869471</td><td>-16.270013593628455</td><td>0.04490789628065235</td><td>-16.21078860063796</td><td>G9</td><td>0.0515</td><td>852.1918454873289</td><td>16069.845896234787</td></tr>\n",
       "<tr><td>0.19402926</td><td>0.04682999849319458</td><td>137.14373517</td><td>0.05202247519531786</td><td>0</td><td>0.9455649673265974</td><td>-16.26199610646543</td><td>0.04490789628065235</td><td>-16.20325411598858</td><td>G9</td><td>0.05108</td><td>810.9102173444993</td><td>14500.667216590911</td></tr>\n",
       "<tr><td>-0.20845646</td><td>0.04682999849319458</td><td>177.07764561</td><td>0.050918943437983206</td><td>0</td><td>0.9206193043299393</td><td>-16.21376169680054</td><td>0.0275305802753058</td><td>-16.15814769847686</td><td>G12</td><td>0.04836</td><td>382.82932705582016</td><td>4937.041096454908</td></tr>\n",
       "<tr><td>0.96364521</td><td>0.04682999849319458</td><td>220.66746929</td><td>0.05070431440385727</td><td>0</td><td>0.913547480863597</td><td>-16.19968659596545</td><td>0.0275305802753058</td><td>-16.142646601219003</td><td>G15</td><td>0.0496</td><td>361.1548125933004</td><td>9169.817869608756</td></tr>\n",
       "</table></div>"
      ],
      "text/plain": [
       "<Table length=78912>\n",
       "    DEC             ZMIN             RA              ZMAX         IN_D8LUMFN     FILLFACTOR     ...   FILLFACTOR_VMAX         MCOLOR_0P0     FIELD   ZSURV         VMAX                VZ        \n",
       "    deg                             deg                                                         ...                              mag                                                             \n",
       "  float64         float64         float64          float64          int64         float64       ...       float64              float64       bytes3 float32      float64            float64      \n",
       "----------- ------------------- ------------ -------------------- ---------- ------------------ ... -------------------- ------------------- ------ ------- ------------------ ------------------\n",
       "-0.35024037 0.04682999849319458  179.0450651   0.2697399854660034          0                1.0 ...   0.7012996482542835 -23.461170534036924    G12  0.2563  5708572.503567905  7038162.543969559\n",
       "-2.07231294 0.04682999849319458  182.1835035   0.2697399854660034          0 0.9103224185135618 ...   0.7012996482542835 -23.442632031321555    G12 0.10734  5708572.503567905   522752.208394677\n",
       "-0.49323659 0.04682999849319458 213.78496641   0.2697399854660034          0                1.0 ...   0.7012996482542835 -23.107939332154334    G15 0.13893  5708572.503567905 1167221.5102638772\n",
       " 0.60517927 0.04682999849319458 178.51993046   0.2697399854660034          0                1.0 ...   0.7012996482542835 -23.082316886159298    G12 0.22878  5708572.503567905  5082638.413194675\n",
       "-0.24151196 0.04682999849319458 180.52796941   0.2697399854660034          0                1.0 ...   0.7012996482542835 -23.045208950883637    G12 0.24896  5708572.503567905  6477775.347634292\n",
       "-0.85050901 0.04682999849319458 184.98709908   0.2697399854660034          0                1.0 ...   0.7012996482542835 -23.010391635049515    G12 0.20644  5708572.503567905  3775904.030791805\n",
       "-1.27151016 0.04682999849319458 222.36929583   0.2697399854660034          0 1.0030332470338519 ...   0.7012996482542835 -22.976202885033608    G15 0.20233  5708572.503567905 3561435.5687202164\n",
       "-1.64817036 0.04682999849319458 179.83440251   0.2697399854660034          0 0.9543464624001874 ...   0.7012996482542835  -22.94904753859117    G12 0.08135  5708572.503567905 203669.61244854482\n",
       " -1.4609492 0.04682999849319458 183.77207804   0.2697399854660034          0                1.0 ...   0.7012996482542835 -22.911188045606362    G12 0.19885  5708572.503567905 3385937.1965698814\n",
       "-0.56800756 0.04682999849319458 130.46404172   0.2697399854660034          0                1.0 ...   0.7012996482542835  -22.84411963242417     G9 0.24565  5708572.503567905   6234439.66091661\n",
       " -1.3960721 0.04682999849319458 180.67664245   0.2697399854660034          0                1.0 ...   0.7012996482542835 -22.819730991835396    G12 0.24803  5708572.503567905  6408822.080968275\n",
       "        ...                 ...          ...                  ...        ...                ... ...                  ...                 ...    ...     ...                ...                ...\n",
       " 1.03416237 0.04682999849319458 135.60445694  0.05316317378397626          0 0.9229506747034588 ... 0.055264978552649786  -16.26046100480052     G9 0.05233 1245.3293102998325 19245.349456806252\n",
       " 0.55082816 0.04682999849319458 214.64457514 0.053294166630284016          0 0.9710157605708515 ... 0.055264978552649786 -16.253546725505178    G15 0.05285 1274.4150527989766 21285.793363258337\n",
       " 0.48358543 0.04682999849319458   132.904672  0.05309816966835318          0 0.9653039031557288 ... 0.055264978552649786  -16.25284282566225     G9 0.05233 1230.9477419930852 19245.349456806252\n",
       " 0.28358843 0.04682999849319458 134.61289881  0.05253879813860891          0 0.9625062587075055 ...  0.04490789628065235 -16.231413194828935     G9 0.05228  900.8485969551264  19051.24341850359\n",
       "-0.93067831 0.04682999849319458 178.16824812  0.05282935789416516          0 0.9296727926137732 ...  0.04490789628065235 -16.230356211308887    G12 0.05147  952.2287871582948 15956.926745047953\n",
       " 0.70406309 0.04682999849319458 131.92992534  0.05266538171806199          0 0.9596309019134982 ...  0.04490789628065235   -16.2302354524563     G9 0.05243   923.164379438223 19634.681697316068\n",
       " 0.51596786 0.04682999849319458 132.50118613  0.05232077264271665          0 0.9584263605538464 ...  0.04490789628065235 -16.215355316986884     G9 0.05129    862.65842661772 15282.116039714238\n",
       " 0.38899142 0.04682999849319458   136.390158  0.05226070784488128          0 0.9555121475869471 ...  0.04490789628065235  -16.21078860063796     G9  0.0515  852.1918454873289 16069.845896234787\n",
       " 0.19402926 0.04682999849319458 137.14373517  0.05202247519531786          0 0.9455649673265974 ...  0.04490789628065235  -16.20325411598858     G9 0.05108  810.9102173444993 14500.667216590911\n",
       "-0.20845646 0.04682999849319458 177.07764561 0.050918943437983206          0 0.9206193043299393 ...   0.0275305802753058  -16.15814769847686    G12 0.04836 382.82932705582016  4937.041096454908\n",
       " 0.96364521 0.04682999849319458 220.66746929  0.05070431440385727          0  0.913547480863597 ...   0.0275305802753058 -16.142646601219003    G15  0.0496  361.1548125933004  9169.817869608756"
      ]
     },
     "execution_count": 7,
     "metadata": {},
     "output_type": "execute_result"
    }
   ],
   "source": [
    "fpath = findfile(ftype='vmax', dryrun=dryrun, version=version, survey=survey)\n",
    "vmax  = Table.read(fpath)\n",
    "vmax.sort('MCOLOR_0P0')\n",
    "vmax"
   ]
  },
  {
   "cell_type": "markdown",
   "id": "6f8541a7",
   "metadata": {},
   "source": [
    "##  LUMFN"
   ]
  },
  {
   "cell_type": "code",
   "execution_count": 8,
   "id": "6c209422",
   "metadata": {},
   "outputs": [
    {
     "data": {
      "text/html": [
       "<div><i>Table length=36</i>\n",
       "<table id=\"table140646140341792\" class=\"table-striped table-bordered table-condensed\">\n",
       "<thead><tr><th>MEDIAN_M</th><th>MEAN_M</th><th>MID_M</th><th>IVMAXMEAN_M</th><th>PHI_N</th><th>PHI_N_ERROR</th><th>PHI_IVMAX</th><th>PHI_IVMAX_ERROR</th><th>N</th><th>V_ON_VMAX</th></tr></thead>\n",
       "<thead><tr><th>float64</th><th>float64</th><th>float64</th><th>float64</th><th>float64</th><th>float64</th><th>float64</th><th>float64</th><th>float64</th><th>float64</th></tr></thead>\n",
       "<tr><td>-22.9</td><td>-22.9</td><td>-22.9</td><td>-22.9</td><td>0.0</td><td>0.0</td><td>0.0</td><td>0.0</td><td>0.0</td><td>0.0</td></tr>\n",
       "<tr><td>-22.831925312129783</td><td>-22.864672608757225</td><td>-22.7</td><td>-22.86467260875723</td><td>4.914010623958724e-06</td><td>1.7373651175119758e-06</td><td>7.0070056874988744e-06</td><td>2.4773506187215806e-06</td><td>8.0</td><td>0.7012996482542835</td></tr>\n",
       "<tr><td>-22.704044909575536</td><td>-22.698038847342215</td><td>-22.5</td><td>-22.698038847342218</td><td>3.1941069055731705e-05</td><td>4.429429318214493e-06</td><td>4.5545536968742676e-05</td><td>6.316029573436249e-06</td><td>52.0</td><td>0.7012996482542835</td></tr>\n",
       "<tr><td>-22.46463274592758</td><td>-22.481083738461145</td><td>-22.299999999999997</td><td>-22.481083738461138</td><td>5.589687084753049e-05</td><td>5.859584212966965e-06</td><td>7.970468969529973e-05</td><td>8.355321762320839e-06</td><td>91.0</td><td>0.7012996482542835</td></tr>\n",
       "<tr><td>-22.285094947604357</td><td>-22.290651532969026</td><td>-22.099999999999998</td><td>-22.290651532969015</td><td>0.00011486499833503518</td><td>8.399760577982001e-06</td><td>0.00016378875794528626</td><td>1.1977420206742124e-05</td><td>187.0</td><td>0.7012996482542835</td></tr>\n",
       "<tr><td>-22.096814637488745</td><td>-22.096091725919973</td><td>-21.9</td><td>-22.096091725919965</td><td>0.00022665874003009615</td><td>1.1799382698477234e-05</td><td>0.0003231981373358857</td><td>1.6825022981045197e-05</td><td>369.0</td><td>0.7012996482542835</td></tr>\n",
       "<tr><td>-21.885558642098573</td><td>-21.89030919733171</td><td>-21.7</td><td>-21.890309197331707</td><td>0.0003986491118686515</td><td>1.56483464420137e-05</td><td>0.0005684433363983462</td><td>2.2313352760074086e-05</td><td>649.0</td><td>0.7012996482542835</td></tr>\n",
       "<tr><td>-21.687780700695825</td><td>-21.691196962247055</td><td>-21.5</td><td>-21.69119696224705</td><td>0.0006449638943945826</td><td>1.9904017901936187e-05</td><td>0.0009196694964842274</td><td>2.838161683309331e-05</td><td>1050.0</td><td>0.7012996482542835</td></tr>\n",
       "<tr><td>-21.49023271220814</td><td>-21.493143640357683</td><td>-21.299999999999997</td><td>-21.493143640357673</td><td>0.0010583550381351103</td><td>2.549697997144998e-05</td><td>0.0015091338499450704</td><td>3.635675568199494e-05</td><td>1723.0</td><td>0.7012996482542835</td></tr>\n",
       "<tr><td>-21.28911949460354</td><td>-21.2935219517175</td><td>-21.099999999999998</td><td>--</td><td>0.001429362840243994</td><td>2.9630862674015254e-05</td><td>--</td><td>--</td><td>2327.0</td><td>--</td></tr>\n",
       "<tr><td>-21.091897954602302</td><td>-21.09469759525499</td><td>-20.9</td><td>-21.094697595254985</td><td>0.0019342774318557529</td><td>3.446929766078569e-05</td><td>0.0027581326137417444</td><td>4.915059881548308e-05</td><td>3149.0</td><td>0.7012996482542835</td></tr>\n",
       "<tr><td>...</td><td>...</td><td>...</td><td>...</td><td>...</td><td>...</td><td>...</td><td>...</td><td>...</td><td>...</td></tr>\n",
       "<tr><td>-18.304879907776783</td><td>-18.303534365425698</td><td>-18.099999999999998</td><td>-18.297907015876458</td><td>0.0009416472858160905</td><td>2.4050116336834438e-05</td><td>0.014659138718468792</td><td>0.00038213962419914103</td><td>1533.0</td><td>0.06777004331571747</td></tr>\n",
       "<tr><td>-18.106752564719635</td><td>-18.104873258580284</td><td>-17.9</td><td>-18.098530016099723</td><td>0.0006031948040909334</td><td>1.9248719683460598e-05</td><td>0.013385542224239013</td><td>0.0004351824994426192</td><td>982.0</td><td>0.047005747101222656</td></tr>\n",
       "<tr><td>-17.90671805675614</td><td>-17.904780407463562</td><td>-17.7</td><td>-17.898198005577864</td><td>0.0004398039508443058</td><td>1.6436245339599076e-05</td><td>0.014141096105135472</td><td>0.0005367906348813871</td><td>716.0</td><td>0.032223067165922464</td></tr>\n",
       "<tr><td>-17.7063558120619</td><td>-17.70238226385248</td><td>-17.5</td><td>-17.694864716108054</td><td>0.0003243247011812758</td><td>1.411442093754216e-05</td><td>0.015685778420028433</td><td>0.0006943417844337158</td><td>528.0</td><td>0.021387757183847937</td></tr>\n",
       "<tr><td>-17.512229330889806</td><td>-17.504363582668276</td><td>-17.299999999999997</td><td>-17.49658283997224</td><td>0.00023157275065405488</td><td>1.1926603440069232e-05</td><td>0.016845247017100187</td><td>0.0008805679177907031</td><td>377.0</td><td>0.014269978354013547</td></tr>\n",
       "<tr><td>-17.308810396702185</td><td>-17.307236063468615</td><td>-17.099999999999998</td><td>-17.298890486928187</td><td>0.0001867324037104315</td><td>1.0709837858660665e-05</td><td>0.021452065467305586</td><td>0.0012494599161583203</td><td>304.0</td><td>0.008939528498290921</td></tr>\n",
       "<tr><td>-17.103830425361988</td><td>-17.106398229725894</td><td>-16.9</td><td>-17.097799238244086</td><td>0.00010687973107110225</td><td>8.102531502324194e-06</td><td>0.02010098030287918</td><td>0.001546429771452177</td><td>174.0</td><td>0.005356955241747904</td></tr>\n",
       "<tr><td>-16.909135468828655</td><td>-16.903209233049175</td><td>-16.7</td><td>-16.891988917435</td><td>6.0810881471489213e-05</td><td>6.111723545809241e-06</td><td>0.020924787975242297</td><td>0.002148508549875383</td><td>99.0</td><td>0.0030125708888651594</td></tr>\n",
       "<tr><td>-16.723243955822213</td><td>-16.709166835907116</td><td>-16.5</td><td>-16.698543149240766</td><td>4.54545982716182e-05</td><td>5.283989719124504e-06</td><td>0.03013887759838973</td><td>0.0035937934487422275</td><td>74.0</td><td>0.0015977700990640698</td></tr>\n",
       "<tr><td>-16.506796807989886</td><td>-16.50723616392713</td><td>-16.299999999999997</td><td>-16.489384014466044</td><td>3.378382303971623e-05</td><td>4.555409769371838e-06</td><td>0.05391644736366977</td><td>0.007763748945468119</td><td>55.0</td><td>0.0006551035507504534</td></tr>\n",
       "<tr><td>-16.314532995707907</td><td>-16.30821357116974</td><td>-16.099999999999998</td><td>-16.286810192572176</td><td>2.4570053119793622e-05</td><td>3.884866504493688e-06</td><td>0.12314855265317684</td><td>0.02113129313109353</td><td>40.0</td><td>0.00023405381169973216</td></tr>\n",
       "<tr><td>-16.150397149847933</td><td>-16.150397149847933</td><td>-15.9</td><td>-16.150171352859264</td><td>1.228502655989681e-06</td><td>8.686825587559879e-07</td><td>0.026905128785195513</td><td>0.019032870793542298</td><td>2.0</td><td>4.569932457865712e-05</td></tr>\n",
       "</table></div>"
      ],
      "text/plain": [
       "<Table length=36>\n",
       "      MEDIAN_M             MEAN_M              MID_M            IVMAXMEAN_M             PHI_N               PHI_N_ERROR             PHI_IVMAX           PHI_IVMAX_ERROR        N          V_ON_VMAX       \n",
       "      float64             float64             float64             float64              float64                float64                float64                float64         float64        float64        \n",
       "------------------- ------------------- ------------------- ------------------- ---------------------- ---------------------- ---------------------- ---------------------- ------- ----------------------\n",
       "              -22.9               -22.9               -22.9               -22.9                    0.0                    0.0                    0.0                    0.0     0.0                    0.0\n",
       "-22.831925312129783 -22.864672608757225               -22.7  -22.86467260875723  4.914010623958724e-06 1.7373651175119758e-06 7.0070056874988744e-06 2.4773506187215806e-06     8.0     0.7012996482542835\n",
       "-22.704044909575536 -22.698038847342215               -22.5 -22.698038847342218 3.1941069055731705e-05  4.429429318214493e-06 4.5545536968742676e-05  6.316029573436249e-06    52.0     0.7012996482542835\n",
       " -22.46463274592758 -22.481083738461145 -22.299999999999997 -22.481083738461138  5.589687084753049e-05  5.859584212966965e-06  7.970468969529973e-05  8.355321762320839e-06    91.0     0.7012996482542835\n",
       "-22.285094947604357 -22.290651532969026 -22.099999999999998 -22.290651532969015 0.00011486499833503518  8.399760577982001e-06 0.00016378875794528626 1.1977420206742124e-05   187.0     0.7012996482542835\n",
       "-22.096814637488745 -22.096091725919973               -21.9 -22.096091725919965 0.00022665874003009615 1.1799382698477234e-05  0.0003231981373358857 1.6825022981045197e-05   369.0     0.7012996482542835\n",
       "-21.885558642098573  -21.89030919733171               -21.7 -21.890309197331707  0.0003986491118686515   1.56483464420137e-05  0.0005684433363983462 2.2313352760074086e-05   649.0     0.7012996482542835\n",
       "-21.687780700695825 -21.691196962247055               -21.5  -21.69119696224705  0.0006449638943945826 1.9904017901936187e-05  0.0009196694964842274  2.838161683309331e-05  1050.0     0.7012996482542835\n",
       " -21.49023271220814 -21.493143640357683 -21.299999999999997 -21.493143640357673  0.0010583550381351103  2.549697997144998e-05  0.0015091338499450704  3.635675568199494e-05  1723.0     0.7012996482542835\n",
       " -21.28911949460354   -21.2935219517175 -21.099999999999998                  --   0.001429362840243994 2.9630862674015254e-05                     --                     --  2327.0                     --\n",
       "-21.091897954602302  -21.09469759525499               -20.9 -21.094697595254985  0.0019342774318557529  3.446929766078569e-05  0.0027581326137417444  4.915059881548308e-05  3149.0     0.7012996482542835\n",
       "                ...                 ...                 ...                 ...                    ...                    ...                    ...                    ...     ...                    ...\n",
       "-18.304879907776783 -18.303534365425698 -18.099999999999998 -18.297907015876458  0.0009416472858160905 2.4050116336834438e-05   0.014659138718468792 0.00038213962419914103  1533.0    0.06777004331571747\n",
       "-18.106752564719635 -18.104873258580284               -17.9 -18.098530016099723  0.0006031948040909334 1.9248719683460598e-05   0.013385542224239013  0.0004351824994426192   982.0   0.047005747101222656\n",
       " -17.90671805675614 -17.904780407463562               -17.7 -17.898198005577864  0.0004398039508443058 1.6436245339599076e-05   0.014141096105135472  0.0005367906348813871   716.0   0.032223067165922464\n",
       "  -17.7063558120619  -17.70238226385248               -17.5 -17.694864716108054  0.0003243247011812758  1.411442093754216e-05   0.015685778420028433  0.0006943417844337158   528.0   0.021387757183847937\n",
       "-17.512229330889806 -17.504363582668276 -17.299999999999997  -17.49658283997224 0.00023157275065405488 1.1926603440069232e-05   0.016845247017100187  0.0008805679177907031   377.0   0.014269978354013547\n",
       "-17.308810396702185 -17.307236063468615 -17.099999999999998 -17.298890486928187  0.0001867324037104315 1.0709837858660665e-05   0.021452065467305586  0.0012494599161583203   304.0   0.008939528498290921\n",
       "-17.103830425361988 -17.106398229725894               -16.9 -17.097799238244086 0.00010687973107110225  8.102531502324194e-06    0.02010098030287918   0.001546429771452177   174.0   0.005356955241747904\n",
       "-16.909135468828655 -16.903209233049175               -16.7    -16.891988917435 6.0810881471489213e-05  6.111723545809241e-06   0.020924787975242297   0.002148508549875383    99.0  0.0030125708888651594\n",
       "-16.723243955822213 -16.709166835907116               -16.5 -16.698543149240766   4.54545982716182e-05  5.283989719124504e-06    0.03013887759838973  0.0035937934487422275    74.0  0.0015977700990640698\n",
       "-16.506796807989886  -16.50723616392713 -16.299999999999997 -16.489384014466044  3.378382303971623e-05  4.555409769371838e-06    0.05391644736366977   0.007763748945468119    55.0  0.0006551035507504534\n",
       "-16.314532995707907  -16.30821357116974 -16.099999999999998 -16.286810192572176 2.4570053119793622e-05  3.884866504493688e-06    0.12314855265317684    0.02113129313109353    40.0 0.00023405381169973216\n",
       "-16.150397149847933 -16.150397149847933               -15.9 -16.150171352859264  1.228502655989681e-06  8.686825587559879e-07   0.026905128785195513   0.019032870793542298     2.0  4.569932457865712e-05"
      ]
     },
     "execution_count": 8,
     "metadata": {},
     "output_type": "execute_result"
    }
   ],
   "source": [
    "fpath = findfile(ftype='lumfn', dryrun=dryrun, version=version, survey=survey)\n",
    "lumfn = Table.read(fpath)\n",
    "lumfn"
   ]
  },
  {
   "cell_type": "code",
   "execution_count": 12,
   "id": "a027c2e2",
   "metadata": {},
   "outputs": [
    {
     "name": "stderr",
     "output_type": "stream",
     "text": [
      "/tmp/ipykernel_184080/1765726101.py:6: RuntimeWarning: divide by zero encountered in log10\n",
      "  pl.plot(lumfn['MEDIAN_M'],    np.log10(lumfn['PHI_IVMAX']),    label='IVMAX', lw=2.)\n",
      "/tmp/ipykernel_184080/1765726101.py:7: RuntimeWarning: divide by zero encountered in log10\n",
      "  pl.plot(lumfn['IVMAXMEAN_M'], np.log10(lumfn['PHI_IVMAX']),    label='IVMAX', lw=0., marker='.')\n"
     ]
    },
    {
     "data": {
      "text/plain": [
       "Text(0.5, 1.0, 'GAMA')"
      ]
     },
     "execution_count": 12,
     "metadata": {},
     "output_type": "execute_result"
    },
    {
     "data": {
      "image/png": "[encoded data removed]",
      "text/plain": [
       "<Figure size 720x360 with 1 Axes>"
      ]
     },
     "metadata": {
      "needs_background": "light"
     },
     "output_type": "display_data"
    }
   ],
   "source": [
    "fig, ax = plt.subplots(1,1,figsize=(10, 5))\n",
    "\n",
    "pl.sca(ax)\n",
    "\n",
    "# pl.plot(lumfn['MEDIAN_M'],    np.log10(lumfn['PHI_N'] / 0.77), label='RAW', lw=2.)\n",
    "pl.plot(lumfn['MEDIAN_M'],    np.log10(lumfn['PHI_IVMAX']),    label='IVMAX', lw=2.)\n",
    "pl.plot(lumfn['IVMAXMEAN_M'], np.log10(lumfn['PHI_IVMAX']),    label='IVMAX', lw=0., marker='.')\n",
    "\n",
    "pl.plot(lumfn['MEDIAN_M'],    np.log10(named_schechter(lumfn['MEDIAN_M'], 'TMR')), linestyle='--', c='k', lw=1.)\n",
    "\n",
    "\n",
    "# pl.scatter(lumfn_TMR['Ms'], lumfn_TMR['PHI_STEP'], s=0.5)\n",
    "# pl.plot(lumfn_TMR['Ms'], lumfn_TMR['PHI_STEP'], label='TMR_SWML', lw=1.)\n",
    "\n",
    "pl.xlabel(r'$M$')\n",
    "pl.ylabel(r'$\\Phi(M)$')\n",
    "\n",
    "pl.ylim(-4.25, -1.)\n",
    "pl.xlim(-23., -15.5)\n",
    "\n",
    "pl.legend(frameon=False, loc=2)\n",
    "pl.title(survey.upper())"
   ]
  },
  {
   "cell_type": "code",
   "execution_count": 11,
   "id": "7312f441",
   "metadata": {},
   "outputs": [
    {
     "data": {
      "text/html": [
       "<div><i>Table length=121975</i>\n",
       "<table id=\"table140650539789424\" class=\"table-striped table-bordered table-condensed\">\n",
       "<thead><tr><th>CATAID</th><th>OBJID</th><th>RA</th><th>DEC</th><th>R_PETRO</th><th>ZGAMA</th><th>NQ</th><th>SPECID</th><th>SURVEY_CLASS</th><th>UMAG_DRED_SDSS</th><th>GMAG_DRED_SDSS</th><th>RMAG_DRED_SDSS</th><th>IMAG_DRED_SDSS</th><th>ZMAG_DRED_SDSS</th><th>ZSURV</th><th>LUMDIST</th><th>DISTMOD</th><th>FIELD</th><th>IN_D8LUMFN</th><th>CONSERVATIVE</th><th>CARTESIAN_X</th><th>CARTESIAN_Y</th><th>CARTESIAN_Z</th><th>ROTCARTESIAN_X</th><th>ROTCARTESIAN_Y</th><th>ROTCARTESIAN_Z</th><th>GMR</th><th>DETMAG</th></tr></thead>\n",
       "<thead><tr><th></th><th></th><th>deg</th><th>deg</th><th>mag</th><th></th><th></th><th></th><th></th><th>mag</th><th>mag</th><th>mag</th><th>mag</th><th>mag</th><th></th><th>Mpc</th><th></th><th></th><th></th><th></th><th></th><th></th><th></th><th></th><th></th><th></th><th>mag</th><th>mag</th></tr></thead>\n",
       "<thead><tr><th>int32</th><th>int64</th><th>float64</th><th>float64</th><th>float32</th><th>float32</th><th>int16</th><th>bytes33</th><th>int16</th><th>float32</th><th>float32</th><th>float32</th><th>float32</th><th>float32</th><th>float32</th><th>float64</th><th>float64</th><th>bytes3</th><th>int64</th><th>int64</th><th>float64</th><th>float64</th><th>float64</th><th>float64</th><th>float64</th><th>float64</th><th>float32</th><th>float32</th></tr></thead>\n",
       "<tr><td>55188</td><td>587722982814187660</td><td>180.82655947</td><td>-0.39458166</td><td>18.46422</td><td>0.25672</td><td>4</td><td>G12_Y1_ND8_031</td><td>6</td><td>21.206772</td><td>19.584589</td><td>18.446634</td><td>17.97138</td><td>17.72121</td><td>0.25672</td><td>917.8466870621888</td><td>39.81385072341665</td><td>G12</td><td>0</td><td>0</td><td>-730.2576298489741</td><td>-10.535561971539122</td><td>-5.029703976591031</td><td>730.3073889208534</td><td>5.443332547325564</td><td>-5.830073685156636</td><td>1.1379547</td><td>18.46422</td></tr>\n",
       "<tr><td>278732</td><td>587726031691317538</td><td>133.47427045</td><td>0.92585357</td><td>18.429876</td><td>0.10815</td><td>4</td><td>G09_Y1_DN2_161</td><td>6</td><td>20.990864</td><td>19.358027</td><td>18.368195</td><td>17.947943</td><td>17.637024</td><td>0.10815</td><td>351.7923973276524</td><td>37.731432247887966</td><td>G9</td><td>0</td><td>0</td><td>-218.39253472524186</td><td>230.3447880145794</td><td>5.1296610471387325</td><td>216.7865585300106</td><td>-231.8620055037295</td><td>4.892080964056602</td><td>0.9898319</td><td>18.429876</td></tr>\n",
       "<tr><td>3609417</td><td>587729150913216637</td><td>134.52787406</td><td>-1.36362038</td><td>18.398266</td><td>0.18092</td><td>4</td><td>G09_Y4_207_244</td><td>6</td><td>20.461782</td><td>19.233057</td><td>18.310143</td><td>17.828026</td><td>17.603497</td><td>0.18092</td><td>617.793758703047</td><td>38.95421758251315</td><td>G9</td><td>0</td><td>0</td><td>-366.75557601074127</td><td>372.85017788630597</td><td>-12.449528045812439</td><td>364.13297095286447</td><td>-375.3984434846844</td><td>-12.848600223403427</td><td>0.9229145</td><td>18.398266</td></tr>\n",
       "<tr><td>568142</td><td>588848899390701883</td><td>214.0072981</td><td>-0.52809784</td><td>19.501715</td><td>0.18415</td><td>4</td><td>G15_Y6_088_327</td><td>5</td><td>21.600208</td><td>20.502804</td><td>19.463715</td><td>19.026712</td><td>18.69108</td><td>0.18415</td><td>630.1140306398959</td><td>38.997095750413706</td><td>G15</td><td>0</td><td>0</td><td>-441.0937311748348</td><td>-297.60323201585595</td><td>-4.9045373641951935</td><td>443.1525079902256</td><td>294.5203188693608</td><td>-5.390204990605358</td><td>1.0390892</td><td>19.501715</td></tr>\n",
       "<tr><td>32694</td><td>587722981742543239</td><td>185.58381141</td><td>-1.14019741</td><td>19.389992</td><td>0.25899</td><td>4</td><td>G12_Y2_038_297</td><td>6</td><td>21.010239</td><td>20.110897</td><td>19.349888</td><td>19.015686</td><td>18.64863</td><td>0.25899</td><td>927.17512559037</td><td>39.83580885893348</td><td>G12</td><td>0</td><td>0</td><td>-732.8039685360275</td><td>-71.64302304380016</td><td>-14.65440624728488</td><td>733.2692087716774</td><td>66.53155283668735</td><td>-15.45802768672178</td><td>0.7610092</td><td>19.389992</td></tr>\n",
       "<tr><td>92521</td><td>587722983903592834</td><td>216.61655363</td><td>0.57521077</td><td>19.712523</td><td>0.20445</td><td>4</td><td>G15_Y5_029_306</td><td>5</td><td>21.542164</td><td>20.422659</td><td>19.540344</td><td>19.150215</td><td>18.835436</td><td>0.20445</td><td>708.5114173749403</td><td>39.25173426559899</td><td>G15</td><td>0</td><td>0</td><td>-472.12803610357025</td><td>-350.844908552486</td><td>5.9054793385200615</td><td>474.569132586039</td><td>347.5443036705153</td><td>5.385387743278932</td><td>0.8823147</td><td>19.712523</td></tr>\n",
       "<tr><td>32588</td><td>587722981742412125</td><td>185.32210325</td><td>-1.08063974</td><td>19.583977</td><td>0.06728</td><td>4</td><td>G12_Y3_013_310</td><td>5</td><td>20.63319</td><td>19.991241</td><td>19.561407</td><td>19.331211</td><td>19.166885</td><td>0.06728</td><td>212.5039760951136</td><td>36.63683530204959</td><td>G12</td><td>0</td><td>0</td><td>-198.2143635757845</td><td>-18.464917414634233</td><td>-3.7550975242818345</td><td>198.33406344294247</td><td>17.0823504781424</td><td>-3.9724602769829835</td><td>0.42983437</td><td>19.583977</td></tr>\n",
       "<tr><td>536802</td><td>588848898840133767</td><td>182.78650298</td><td>-1.02128439</td><td>16.439064</td><td>0.17981</td><td>5</td><td>323201202047182848</td><td>6</td><td>19.7486</td><td>17.56023</td><td>16.336481</td><td>15.859609</td><td>15.535098</td><td>0.17981</td><td>613.5696857514553</td><td>38.93931947279388</td><td>G12</td><td>0</td><td>0</td><td>-519.3606023604921</td><td>-25.27833545228503</td><td>-9.269426561405647</td><td>519.5137676803537</td><td>21.656299916620974</td><td>-9.838783499694246</td><td>1.2237492</td><td>16.439064</td></tr>\n",
       "<tr><td>7350</td><td>588848900985127197</td><td>177.10322124</td><td>0.83390949</td><td>19.543259</td><td>0.22312</td><td>4</td><td>G12_Y2_027_152</td><td>5</td><td>21.559937</td><td>20.348064</td><td>19.513428</td><td>19.10143</td><td>18.825598</td><td>0.22312</td><td>782.0640118395694</td><td>39.466211507313034</td><td>G12</td><td>0</td><td>0</td><td>-638.5162379688975</td><td>32.30984703247975</td><td>9.305810269560899</td><td>638.2852389294517</td><td>-36.761336349834444</td><td>8.60629911960837</td><td>0.8346367</td><td>19.543259</td></tr>\n",
       "<tr><td>3585492</td><td>587729150376346385</td><td>134.5734633</td><td>-1.59428272</td><td>19.665266</td><td>0.17159</td><td>4</td><td>G09_Y4_230_086</td><td>5</td><td>21.286755</td><td>20.251974</td><td>19.565952</td><td>19.210741</td><td>19.194504</td><td>0.17159</td><td>582.4457325177765</td><td>38.82627733805268</td><td>G9</td><td>0</td><td>0</td><td>-348.77021880311787</td><td>354.00208262482556</td><td>-13.831410944159328</td><td>346.2779721012776</td><td>-356.425397322368</td><td>-14.210916100443816</td><td>0.6860218</td><td>19.665266</td></tr>\n",
       "<tr><td>585599</td><td>588848899914203445</td><td>183.5505801</td><td>-0.10693681</td><td>19.660707</td><td>0.24659</td><td>4</td><td>G12_Y1_HD1_188</td><td>5</td><td>22.768116</td><td>20.81106</td><td>19.604237</td><td>19.120985</td><td>18.753216</td><td>0.24659</td><td>876.4549074499901</td><td>39.71364788538119</td><td>G12</td><td>0</td><td>0</td><td>-701.7311467954278</td><td>-43.54154744476159</td><td>-1.312230936041123</td><td>702.0158360698923</td><td>38.647426372030786</td><td>-2.0815928153234684</td><td>1.2068233</td><td>19.660707</td></tr>\n",
       "<tr><td>...</td><td>...</td><td>...</td><td>...</td><td>...</td><td>...</td><td>...</td><td>...</td><td>...</td><td>...</td><td>...</td><td>...</td><td>...</td><td>...</td><td>...</td><td>...</td><td>...</td><td>...</td><td>...</td><td>...</td><td>...</td><td>...</td><td>...</td><td>...</td><td>...</td><td>...</td><td>...</td><td>...</td></tr>\n",
       "<tr><td>71103</td><td>587722983352041583</td><td>183.03922076</td><td>0.17643204</td><td>18.172073</td><td>0.12631</td><td>4</td><td>G12_Y6_057_165</td><td>6</td><td>20.33761</td><td>18.908905</td><td>18.050335</td><td>17.654493</td><td>17.297743</td><td>0.12631</td><td>416.05835281093164</td><td>38.09577122677025</td><td>G12</td><td>0</td><td>0</td><td>-368.8781862668879</td><td>-19.58529792603736</td><td>1.1374974867366219</td><td>369.006808890542</td><td>17.01269136139546</td><td>0.7330920773027083</td><td>0.8585701</td><td>18.172073</td></tr>\n",
       "<tr><td>514109</td><td>588010357994094911</td><td>137.90448348</td><td>2.56197337</td><td>18.554863</td><td>0.1234</td><td>4</td><td>G09_Y1_FX1_363</td><td>6</td><td>19.903801</td><td>18.92373</td><td>18.557257</td><td>18.338863</td><td>18.265762</td><td>0.1234</td><td>405.6637030923395</td><td>38.040830753928205</td><td>G9</td><td>0</td><td>0</td><td>-267.681216840164</td><td>241.83049448614736</td><td>16.141317793387763</td><td>266.0059928178548</td><td>-243.69111509416064</td><td>15.849803207124772</td><td>0.36647415</td><td>18.554863</td></tr>\n",
       "<tr><td>14578</td><td>588848901000462632</td><td>212.16331625</td><td>0.80481599</td><td>19.602652</td><td>0.26921</td><td>4</td><td>G15_Y3_048_262</td><td>5</td><td>23.509556</td><td>20.995173</td><td>19.558418</td><td>18.982718</td><td>18.781485</td><td>0.26921</td><td>969.4130913742355</td><td>39.93254440163558</td><td>G15</td><td>0</td><td>0</td><td>-646.5126796446341</td><td>-406.55291410077103</td><td>10.728403118254858</td><td>649.3431606614156</td><td>402.0349978266091</td><td>10.016774100653024</td><td>1.4367542</td><td>19.602652</td></tr>\n",
       "<tr><td>575397</td><td>588848899895001440</td><td>139.69769761</td><td>-0.00080674</td><td>18.479713</td><td>0.09055</td><td>4</td><td>G09_Y1_HS2_370</td><td>6</td><td>20.325855</td><td>19.052805</td><td>18.419968</td><td>18.061123</td><td>17.840382</td><td>0.09055</td><td>290.89200771435105</td><td>37.31865894564338</td><td>G9</td><td>0</td><td>0</td><td>-203.42631878570953</td><td>172.53211843171917</td><td>-0.0037557544195206353</td><td>202.21820809160283</td><td>-173.94638427565917</td><td>-0.22537300980982525</td><td>0.6328373</td><td>18.479713</td></tr>\n",
       "<tr><td>23278</td><td>588848901523702028</td><td>180.98382194</td><td>1.14371286</td><td>17.965601</td><td>0.08156</td><td>4</td><td>G12_Y1_EX1_141</td><td>6</td><td>20.554865</td><td>18.785933</td><td>17.991333</td><td>17.528055</td><td>17.26527</td><td>0.08156</td><td>260.3177653693596</td><td>37.07751903759972</td><td>G12</td><td>0</td><td>0</td><td>-240.60387972595566</td><td>-4.131798965737678</td><td>4.804173838721376</td><td>240.63196143708484</td><td>2.45400494785577</td><td>4.540460638009813</td><td>0.79459953</td><td>17.965601</td></tr>\n",
       "<tr><td>514016</td><td>587729972590870599</td><td>214.09750992</td><td>-1.30094841</td><td>18.181828</td><td>0.12762</td><td>4</td><td>G15_Y1_BX2_316</td><td>6</td><td>20.966177</td><td>19.083132</td><td>18.138985</td><td>17.742239</td><td>17.442646</td><td>0.12762</td><td>420.749635963875</td><td>38.12011874446392</td><td>G15</td><td>0</td><td>0</td><td>-308.9041799422308</td><td>-209.1242745282776</td><td>-8.471515509935685</td><td>310.34539089376193</td><td>206.96524961432326</td><td>-8.811637808867168</td><td>0.9441471</td><td>18.181828</td></tr>\n",
       "<tr><td>106251</td><td>587722984439873717</td><td>215.27156154</td><td>0.85294713</td><td>17.682917</td><td>0.16743</td><td>5</td><td>601297928845289472</td><td>6</td><td>20.705605</td><td>18.855803</td><td>17.714315</td><td>17.25454</td><td>16.88787</td><td>0.16743</td><td>566.8005281946439</td><td>38.767151231447265</td><td>G15</td><td>0</td><td>0</td><td>-396.3393399616276</td><td>-280.328657717814</td><td>7.227412117026027</td><td>398.29207457502343</td><td>277.55822996141166</td><td>6.790915727017938</td><td>1.1414871</td><td>17.682917</td></tr>\n",
       "<tr><td>69418</td><td>587722983348240490</td><td>174.4063184</td><td>0.13615967</td><td>17.954681</td><td>0.09374</td><td>4</td><td>G12_Y1_AT_220</td><td>6</td><td>19.62824</td><td>18.429562</td><td>17.983557</td><td>17.611986</td><td>17.350233</td><td>0.09374</td><td>301.828064268999</td><td>37.39879809221631</td><td>G12</td><td>0</td><td>0</td><td>-274.64476140710406</td><td>26.898576488222332</td><td>0.6557993433955529</td><td>274.4510789221115</td><td>-28.812977932978757</td><td>0.35502022382335047</td><td>0.44600487</td><td>17.954681</td></tr>\n",
       "<tr><td>98304</td><td>587722984423358506</td><td>177.54916888</td><td>0.98248759</td><td>19.153534</td><td>0.16978</td><td>4</td><td>G12_Y1_ND2_310</td><td>6</td><td>20.705791</td><td>19.644154</td><td>19.158041</td><td>18.914373</td><td>18.696775</td><td>0.16978</td><td>575.6297878529987</td><td>38.80071629919856</td><td>G12</td><td>0</td><td>0</td><td>-491.5613990170413</td><td>21.039408007032126</td><td>8.437663849707782</td><td>491.41169633339433</td><td>-24.466477994117497</td><td>7.899115483220787</td><td>0.4861126</td><td>19.153534</td></tr>\n",
       "<tr><td>105383</td><td>587722984438235354</td><td>211.54896608</td><td>0.91657376</td><td>18.061512</td><td>0.16247</td><td>4</td><td>G15_Y1_AN1_171</td><td>6</td><td>19.552263</td><td>18.621027</td><td>18.086592</td><td>17.749214</td><td>17.570549</td><td>0.16247</td><td>548.2402622826361</td><td>38.69485463289714</td><td>G15</td><td>0</td><td>0</td><td>-401.85717757250933</td><td>-246.73104601757825</td><td>7.5442390810300575</td><td>403.5758511511723</td><td>243.9229600119227</td><td>7.101952225430309</td><td>0.5344353</td><td>18.061512</td></tr>\n",
       "<tr><td>460399</td><td>587729774221590733</td><td>212.12228119</td><td>-1.78212643</td><td>17.147367</td><td>0.13889</td><td>5</td><td>1031429357924542464</td><td>6</td><td>20.037674</td><td>18.170252</td><td>17.11969</td><td>16.6937</td><td>16.326374</td><td>0.13889</td><td>461.4140475477684</td><td>38.32045406145433</td><td>G15</td><td>0</td><td>0</td><td>-342.95634209736266</td><td>-215.3220032696109</td><td>-12.599545276239603</td><td>344.43539651429643</td><td>212.92538723499678</td><td>-12.977030356586434</td><td>1.0505619</td><td>17.147367</td></tr>\n",
       "</table></div>"
      ],
      "text/plain": [
       "<Table length=121975>\n",
       " CATAID       OBJID               RA            DEC      R_PETRO   ZGAMA    NQ  ...      CARTESIAN_Z         ROTCARTESIAN_X      ROTCARTESIAN_Y      ROTCARTESIAN_Z       GMR       DETMAG \n",
       "                                 deg            deg        mag                  ...                                                                                       mag        mag   \n",
       " int32        int64            float64        float64    float32  float32 int16 ...        float64              float64             float64             float64         float32    float32 \n",
       "------- ------------------ ---------------- ----------- --------- ------- ----- ... ---------------------- ------------------ ------------------- -------------------- ---------- ---------\n",
       "  55188 587722982814187660 1.8082655947e+02 -0.39458166  18.46422 0.25672     4 ...     -5.029703976591031  730.3073889208534   5.443332547325564   -5.830073685156636  1.1379547  18.46422\n",
       " 278732 587726031691317538     133.47427045  0.92585357 18.429876 0.10815     4 ...     5.1296610471387325  216.7865585300106  -231.8620055037295    4.892080964056602  0.9898319 18.429876\n",
       "3609417 587729150913216637     134.52787406 -1.36362038 18.398266 0.18092     4 ...    -12.449528045812439 364.13297095286447  -375.3984434846844  -12.848600223403427  0.9229145 18.398266\n",
       " 568142 588848899390701883      214.0072981 -0.52809784 19.501715 0.18415     4 ...    -4.9045373641951935  443.1525079902256   294.5203188693608   -5.390204990605358  1.0390892 19.501715\n",
       "  32694 587722981742543239     185.58381141 -1.14019741 19.389992 0.25899     4 ...     -14.65440624728488  733.2692087716774   66.53155283668735   -15.45802768672178  0.7610092 19.389992\n",
       "  92521 587722983903592834     216.61655363  0.57521077 19.712523 0.20445     4 ...     5.9054793385200615   474.569132586039   347.5443036705153    5.385387743278932  0.8823147 19.712523\n",
       "  32588 587722981742412125     185.32210325 -1.08063974 19.583977 0.06728     4 ...    -3.7550975242818345 198.33406344294247    17.0823504781424  -3.9724602769829835 0.42983437 19.583977\n",
       " 536802 588848898840133767     182.78650298 -1.02128439 16.439064 0.17981     5 ...     -9.269426561405647  519.5137676803537  21.656299916620974   -9.838783499694246  1.2237492 16.439064\n",
       "   7350 588848900985127197     177.10322124  0.83390949 19.543259 0.22312     4 ...      9.305810269560899  638.2852389294517 -36.761336349834444     8.60629911960837  0.8346367 19.543259\n",
       "3585492 587729150376346385      134.5734633 -1.59428272 19.665266 0.17159     4 ...    -13.831410944159328  346.2779721012776   -356.425397322368  -14.210916100443816  0.6860218 19.665266\n",
       " 585599 588848899914203445      183.5505801 -0.10693681 19.660707 0.24659     4 ...     -1.312230936041123  702.0158360698923  38.647426372030786  -2.0815928153234684  1.2068233 19.660707\n",
       "    ...                ...              ...         ...       ...     ...   ... ...                    ...                ...                 ...                  ...        ...       ...\n",
       "  71103 587722983352041583     183.03922076  0.17643204 18.172073 0.12631     4 ...     1.1374974867366219   369.006808890542   17.01269136139546   0.7330920773027083  0.8585701 18.172073\n",
       " 514109 588010357994094911     137.90448348  2.56197337 18.554863  0.1234     4 ...     16.141317793387763  266.0059928178548 -243.69111509416064   15.849803207124772 0.36647415 18.554863\n",
       "  14578 588848901000462632     212.16331625  0.80481599 19.602652 0.26921     4 ...     10.728403118254858  649.3431606614156   402.0349978266091   10.016774100653024  1.4367542 19.602652\n",
       " 575397 588848899895001440     139.69769761 -0.00080674 18.479713 0.09055     4 ... -0.0037557544195206353 202.21820809160283 -173.94638427565917 -0.22537300980982525  0.6328373 18.479713\n",
       "  23278 588848901523702028     180.98382194  1.14371286 17.965601 0.08156     4 ...      4.804173838721376 240.63196143708484    2.45400494785577    4.540460638009813 0.79459953 17.965601\n",
       " 514016 587729972590870599     214.09750992 -1.30094841 18.181828 0.12762     4 ...     -8.471515509935685 310.34539089376193  206.96524961432326   -8.811637808867168  0.9441471 18.181828\n",
       " 106251 587722984439873717     215.27156154  0.85294713 17.682917 0.16743     5 ...      7.227412117026027 398.29207457502343  277.55822996141166    6.790915727017938  1.1414871 17.682917\n",
       "  69418 587722983348240490      174.4063184  0.13615967 17.954681 0.09374     4 ...     0.6557993433955529  274.4510789221115 -28.812977932978757  0.35502022382335047 0.44600487 17.954681\n",
       "  98304 587722984423358506     177.54916888  0.98248759 19.153534 0.16978     4 ...      8.437663849707782 491.41169633339433 -24.466477994117497    7.899115483220787  0.4861126 19.153534\n",
       " 105383 587722984438235354     211.54896608  0.91657376 18.061512 0.16247     4 ...     7.5442390810300575  403.5758511511723   243.9229600119227    7.101952225430309  0.5344353 18.061512\n",
       " 460399 587729774221590733     212.12228119 -1.78212643 17.147367 0.13889     5 ...    -12.599545276239603 344.43539651429643  212.92538723499678  -12.977030356586434  1.0505619 17.147367"
      ]
     },
     "execution_count": 11,
     "metadata": {},
     "output_type": "execute_result"
    }
   ],
   "source": [
    "fpath = findfile(ftype='gold', dryrun=dryrun, version=version, survey=survey)\n",
    "gold  = Table.read(fpath)\n",
    "gold"
   ]
  },
  {
   "cell_type": "markdown",
   "id": "f511d5d7",
   "metadata": {},
   "source": [
    "##  Cobaya"
   ]
  },
  {
   "cell_type": "code",
   "execution_count": null,
   "id": "1a07d664",
   "metadata": {},
   "outputs": [],
   "source": [
    "# root = '/cosma/home/durham/{}/data/GAMA4/cobaya/'.format(os.environ['USER'])"
   ]
  },
  {
   "cell_type": "code",
   "execution_count": null,
   "id": "718b99b8",
   "metadata": {},
   "outputs": [],
   "source": [
    "# dat = Table.read(root + 'schechter_chain.1.txt', format='ascii')        "
   ]
  },
  {
   "cell_type": "code",
   "execution_count": null,
   "id": "a8e15d81",
   "metadata": {},
   "outputs": [],
   "source": [
    "# samples = np.c_[dat['log10phistar'], dat['Mstar'], dat['alpha']]"
   ]
  },
  {
   "cell_type": "code",
   "execution_count": null,
   "id": "35ccb2e0",
   "metadata": {},
   "outputs": [],
   "source": [
    "# samples = MCSamples(samples=samples, names=['log10phistar', 'Mstar', 'alpha'], labels=['log10phistar', 'Mstar', 'alpha'])"
   ]
  },
  {
   "cell_type": "code",
   "execution_count": null,
   "id": "25b151cb",
   "metadata": {},
   "outputs": [],
   "source": [
    "# tmr_ref = {'log10phistar': -2.01, 'Mstar': -20.89, 'alpha': -1.25}"
   ]
  },
  {
   "cell_type": "code",
   "execution_count": null,
   "id": "36730ff6",
   "metadata": {},
   "outputs": [],
   "source": [
    "# g = plots.get_subplot_plotter()"
   ]
  },
  {
   "cell_type": "code",
   "execution_count": null,
   "id": "942a922c",
   "metadata": {},
   "outputs": [],
   "source": [
    "# g.triangle_plot([samples], filled=True)        "
   ]
  },
  {
   "cell_type": "markdown",
   "id": "a284cd18",
   "metadata": {},
   "source": [
    "# Done."
   ]
  }
 ],
 "metadata": {
  "kernelspec": {
   "display_name": "lumfn",
   "language": "python",
   "name": "lumfn"
  },
  "language_info": {
   "codemirror_mode": {
    "name": "ipython",
    "version": 3
   },
   "file_extension": ".py",
   "mimetype": "text/x-python",
   "name": "python",
   "nbconvert_exporter": "python",
   "pygments_lexer": "ipython3",
   "version": "3.9.9"
  }
 },
 "nbformat": 4,
 "nbformat_minor": 5
}
