{
 "cells": [
  {
   "cell_type": "code",
   "execution_count": 1,
   "id": "548910da",
   "metadata": {},
   "outputs": [],
   "source": [
    "import os\n",
    "import sys\n",
    "import pylab as pl\n",
    "import numpy as np\n",
    "import matplotlib.pyplot as plt\n",
    "import numpy as np\n",
    "\n",
    "# from   getdist     import plots, MCSamples \n",
    "from   astropy.table import Table"
   ]
  },
  {
   "cell_type": "code",
   "execution_count": 2,
   "id": "9722f134",
   "metadata": {},
   "outputs": [],
   "source": [
    "sys.path.append(os.environ['HOME'])\n",
    "sys.path.append(os.environ['HOME'] + '/DESI/')"
   ]
  },
  {
   "cell_type": "code",
   "execution_count": 3,
   "id": "0537473a",
   "metadata": {},
   "outputs": [],
   "source": [
    "import pubplot\n",
    "\n",
    "from   schechter     import schechter, named_schechter\n",
    "from   findfile      import findfile"
   ]
  },
  {
   "cell_type": "code",
   "execution_count": 4,
   "id": "64adbbe3",
   "metadata": {},
   "outputs": [],
   "source": [
    "version = 'GAMA4'\n",
    "survey  = 'gama'\n",
    "dryrun  =  False"
   ]
  },
  {
   "cell_type": "code",
   "execution_count": 5,
   "id": "4ebd3f8b",
   "metadata": {},
   "outputs": [
    {
     "data": {
      "text/plain": [
       "'/cosma/home/durham/dc-wils7/data/GAMA4/gama_gold.fits'"
      ]
     },
     "execution_count": 5,
     "metadata": {},
     "output_type": "execute_result"
    }
   ],
   "source": [
    "fpath = findfile(ftype='gold', dryrun=dryrun, version=version, survey=survey)\n",
    "fpath"
   ]
  },
  {
   "cell_type": "code",
   "execution_count": 6,
   "id": "4e44d2e0",
   "metadata": {},
   "outputs": [
    {
     "data": {
      "text/plain": [
       "OrderedDict([('AREA', 180.0),\n",
       "             ('GOLD_NGAL', 121975),\n",
       "             ('IMMUTABLE', 'FALSE'),\n",
       "             ('RLIM', 19.8),\n",
       "             ('RMAX', 12.0),\n",
       "             ('MAX_SEP', 70.0)])"
      ]
     },
     "execution_count": 6,
     "metadata": {},
     "output_type": "execute_result"
    }
   ],
   "source": [
    "gold = Table.read(fpath)\n",
    "gold.meta"
   ]
  },
  {
   "cell_type": "markdown",
   "id": "2b9ecbd0",
   "metadata": {},
   "source": [
    "##  VMAX"
   ]
  },
  {
   "cell_type": "code",
   "execution_count": 10,
   "id": "f2991796",
   "metadata": {},
   "outputs": [
    {
     "data": {
      "text/html": [
       "<div><i>Table length=89447</i>\n",
       "<table id=\"table140098937137760\" class=\"table-striped table-bordered table-condensed\">\n",
       "<thead><tr><th>DEC</th><th>MCOLOR_0P0</th><th>ZMIN</th><th>ZMAX</th><th>MALL_0P0</th><th>FIELD</th><th>FILLFACTOR_VMAX</th><th>FILLFACTOR</th><th>RA</th><th>IN_D8LUMFN</th><th>WEIGHT_STEPWISE</th><th>ZSURV</th><th>VMAX</th><th>VZ</th></tr></thead>\n",
       "<thead><tr><th>deg</th><th>mag</th><th></th><th></th><th>mag</th><th></th><th></th><th></th><th>deg</th><th></th><th></th><th></th><th></th><th></th></tr></thead>\n",
       "<thead><tr><th>float64</th><th>float64</th><th>float64</th><th>float64</th><th>float64</th><th>bytes3</th><th>float64</th><th>float64</th><th>float64</th><th>int64</th><th>float64</th><th>float32</th><th>float64</th><th>float64</th></tr></thead>\n",
       "<tr><td>2.42943373</td><td>-18.28383923953233</td><td>0.036729998886585236</td><td>0.13951500174464584</td><td>-18.412949724847653</td><td>G9</td><td>0.624288538250441</td><td>0.8127160046085126</td><td>139.23047512</td><td>0</td><td>2.5324446308643034</td><td>0.11227</td><td>753859.1474602104</td><td>628625.4377848413</td></tr>\n",
       "<tr><td>1.81225715</td><td>-19.948851030455135</td><td>0.036729998886585236</td><td>0.2706100046634674</td><td>-20.208060991154216</td><td>G9</td><td>0.7797192364390116</td><td>1.0</td><td>138.86944953</td><td>0</td><td>6.771929604808127</td><td>0.2254</td><td>6424956.386552604</td><td>4894603.446660215</td></tr>\n",
       "<tr><td>-2.1572505</td><td>-21.13519463679464</td><td>0.036729998886585236</td><td>0.2706100046634674</td><td>-21.113859631034448</td><td>G12</td><td>0.7797192364390116</td><td>0.9235727057534775</td><td>176.25074554</td><td>0</td><td>2.7879565542227054</td><td>0.1255</td><td>6424956.386552604</td><td>880228.4288816366</td></tr>\n",
       "<tr><td>-0.86410375</td><td>-19.513802704555964</td><td>0.036729998886585236</td><td>0.20225379188420323</td><td>-19.487879407746767</td><td>G15</td><td>0.7287106967347928</td><td>1.0</td><td>220.52254643</td><td>0</td><td>3.8510701868189137</td><td>0.15249</td><td>2610878.7742084656</td><td>1571184.8076225782</td></tr>\n",
       "<tr><td>-0.95353519</td><td>-20.75306876756291</td><td>0.036729998886585236</td><td>0.2706100046634674</td><td>-20.735181361511753</td><td>G12</td><td>0.7797192364390116</td><td>1.0</td><td>177.58136829</td><td>0</td><td>2.310720721840845</td><td>0.10522</td><td>6424956.386552604</td><td>515559.4551880245</td></tr>\n",
       "<tr><td>0.96169929</td><td>-18.095932068056264</td><td>0.036729998886585236</td><td>0.12298310172853909</td><td>-18.194280052310624</td><td>G15</td><td>0.5851567325943148</td><td>1.0</td><td>216.57421687</td><td>0</td><td>1.923196749417998</td><td>0.08552</td><td>484643.0275549797</td><td>269199.9442781308</td></tr>\n",
       "<tr><td>-0.49210816</td><td>-19.215623414672855</td><td>0.036729998886585236</td><td>0.21694002031558093</td><td>-19.39528787747765</td><td>G9</td><td>0.7458250316399908</td><td>1.0</td><td>136.61920934</td><td>0</td><td>3.8510701868189137</td><td>0.15623</td><td>3270659.631652062</td><td>1687458.8111005237</td></tr>\n",
       "<tr><td>-1.7624878</td><td>-20.73918807667125</td><td>0.036729998886585236</td><td>0.2706100046634674</td><td>-20.69536718886722</td><td>G15</td><td>0.7797192364390116</td><td>0.834164619761692</td><td>221.42715873</td><td>0</td><td>10.03096547575655</td><td>0.25777</td><td>6424956.386552604</td><td>7179212.017488108</td></tr>\n",
       "<tr><td>1.08625482</td><td>-20.139372038265876</td><td>0.036729998886585236</td><td>0.2593676718803533</td><td>-20.098740326782874</td><td>G9</td><td>0.7836315462259821</td><td>1.0</td><td>138.64172429</td><td>0</td><td>8.14707142294824</td><td>0.23901</td><td>5725444.910350502</td><td>5788953.020422685</td></tr>\n",
       "<tr><td>0.20429582</td><td>-20.214372670553352</td><td>0.036729998886585236</td><td>0.2643666094349375</td><td>-20.192216573558476</td><td>G12</td><td>0.7874011298128855</td><td>1.0</td><td>183.70785433</td><td>0</td><td>3.087135203663567</td><td>0.13033</td><td>6073162.230133044</td><td>985689.6289771759</td></tr>\n",
       "<tr><td>0.95977698</td><td>-19.61177941883016</td><td>0.036729998886585236</td><td>0.2706100046634674</td><td>-19.910606888179068</td><td>G12</td><td>0.7797192364390116</td><td>0.9590095481804695</td><td>185.48326182</td><td>0</td><td>10.03096547575655</td><td>0.25985</td><td>6424956.386552604</td><td>7344935.543831965</td></tr>\n",
       "<tr><td>...</td><td>...</td><td>...</td><td>...</td><td>...</td><td>...</td><td>...</td><td>...</td><td>...</td><td>...</td><td>...</td><td>...</td><td>...</td><td>...</td></tr>\n",
       "<tr><td>-0.47596927</td><td>-18.296309611909788</td><td>0.036729998886585236</td><td>0.13621617556153892</td><td>-18.44852358769695</td><td>G15</td><td>0.6185944139315447</td><td>1.0</td><td>217.79375545</td><td>0</td><td>3.087135203663567</td><td>0.13236</td><td>695660.0095156177</td><td>1032284.6643661438</td></tr>\n",
       "<tr><td>1.66438787</td><td>-20.057441783426228</td><td>0.036729998886585236</td><td>0.2706100046634674</td><td>-20.361432743547383</td><td>G12</td><td>0.7797192364390116</td><td>0.8677363652188422</td><td>182.99610638</td><td>0</td><td>10.03096547575655</td><td>0.26434</td><td>6424956.386552604</td><td>7710720.780174909</td></tr>\n",
       "<tr><td>-0.61272559</td><td>-20.086114871975198</td><td>0.036729998886585236</td><td>0.25355003465076886</td><td>-20.043958265062585</td><td>G9</td><td>0.7797816636561092</td><td>1.0</td><td>130.47949303</td><td>0</td><td>8.14707142294824</td><td>0.24798</td><td>5341639.516362456</td><td>6430468.356453753</td></tr>\n",
       "<tr><td>1.66725002</td><td>-20.72194336273433</td><td>0.036729998886585236</td><td>0.2706100046634674</td><td>-20.69430306472541</td><td>G9</td><td>0.7797192364390116</td><td>1.0</td><td>138.51726998</td><td>0</td><td>3.8510701868189137</td><td>0.16259</td><td>6424956.386552604</td><td>1897437.6355953156</td></tr>\n",
       "<tr><td>-0.77077665</td><td>-18.325201261099984</td><td>0.036729998886585236</td><td>0.1383356476808</td><td>-18.431461240407636</td><td>G12</td><td>0.624288538250441</td><td>1.0</td><td>176.42644071</td><td>0</td><td>2.104033460643596</td><td>0.0924</td><td>735073.520782928</td><td>344260.76655939233</td></tr>\n",
       "<tr><td>2.01941065</td><td>-20.317006413825055</td><td>0.036729998886585236</td><td>0.2706100046634674</td><td>-20.280147005804082</td><td>G15</td><td>0.7797192364390116</td><td>1.0</td><td>214.26191567</td><td>0</td><td>6.771929604808127</td><td>0.21682</td><td>6424956.386552604</td><td>4378316.782078286</td></tr>\n",
       "<tr><td>-1.34531968</td><td>-20.158578427332813</td><td>0.036729998886585236</td><td>0.2706100046634674</td><td>-20.3599088953914</td><td>G12</td><td>0.7797192364390116</td><td>1.0</td><td>179.07636441</td><td>0</td><td>4.346382165771279</td><td>0.17507</td><td>6424956.386552604</td><td>2355975.245677103</td></tr>\n",
       "<tr><td>0.09171965</td><td>-20.17476136659893</td><td>0.036729998886585236</td><td>0.26095276844642157</td><td>-20.135809254401053</td><td>G12</td><td>0.7855036433550008</td><td>1.0</td><td>180.07279219</td><td>0</td><td>6.771929604808127</td><td>0.22913</td><td>5839240.420412603</td><td>5130401.169535404</td></tr>\n",
       "<tr><td>-1.90736208</td><td>-19.892328296576586</td><td>0.036729998886585236</td><td>0.2706100046634674</td><td>-20.15520675924882</td><td>G12</td><td>0.7797192364390116</td><td>1.0</td><td>179.78766145</td><td>0</td><td>6.771929604808127</td><td>0.22859</td><td>6424956.386552604</td><td>5095833.154779242</td></tr>\n",
       "<tr><td>-0.08128385</td><td>-20.26199140884943</td><td>0.036729998886585236</td><td>0.2706100046634674</td><td>-20.24076180645294</td><td>G12</td><td>0.7797192364390116</td><td>1.0</td><td>177.58684774</td><td>0</td><td>2.7879565542227054</td><td>0.12488</td><td>6424956.386552604</td><td>867233.2948587645</td></tr>\n",
       "<tr><td>0.02915729</td><td>-19.88331298367151</td><td>0.036729998886585236</td><td>0.23412698254592593</td><td>-19.850249691168152</td><td>G9</td><td>0.7629100067389706</td><td>1.0</td><td>136.4771262</td><td>0</td><td>5.762267098612436</td><td>0.19449</td><td>4163397.842348219</td><td>3199175.9007850057</td></tr>\n",
       "</table></div>"
      ],
      "text/plain": [
       "<Table length=89447>\n",
       "    DEC          MCOLOR_0P0             ZMIN                 ZMAX              MALL_0P0      FIELD  ...      RA      IN_D8LUMFN  WEIGHT_STEPWISE    ZSURV         VMAX                VZ        \n",
       "    deg             mag                                                          mag                ...     deg                                                                                 \n",
       "  float64         float64             float64              float64             float64       bytes3 ...   float64      int64         float64       float32      float64            float64      \n",
       "----------- ------------------- -------------------- ------------------- ------------------- ------ ... ------------ ---------- ------------------ ------- ------------------ ------------------\n",
       " 2.42943373  -18.28383923953233 0.036729998886585236 0.13951500174464584 -18.412949724847653     G9 ... 139.23047512          0 2.5324446308643034 0.11227  753859.1474602104  628625.4377848413\n",
       " 1.81225715 -19.948851030455135 0.036729998886585236  0.2706100046634674 -20.208060991154216     G9 ... 138.86944953          0  6.771929604808127  0.2254  6424956.386552604  4894603.446660215\n",
       " -2.1572505  -21.13519463679464 0.036729998886585236  0.2706100046634674 -21.113859631034448    G12 ... 176.25074554          0 2.7879565542227054  0.1255  6424956.386552604  880228.4288816366\n",
       "-0.86410375 -19.513802704555964 0.036729998886585236 0.20225379188420323 -19.487879407746767    G15 ... 220.52254643          0 3.8510701868189137 0.15249 2610878.7742084656 1571184.8076225782\n",
       "-0.95353519  -20.75306876756291 0.036729998886585236  0.2706100046634674 -20.735181361511753    G12 ... 177.58136829          0  2.310720721840845 0.10522  6424956.386552604  515559.4551880245\n",
       " 0.96169929 -18.095932068056264 0.036729998886585236 0.12298310172853909 -18.194280052310624    G15 ... 216.57421687          0  1.923196749417998 0.08552  484643.0275549797  269199.9442781308\n",
       "-0.49210816 -19.215623414672855 0.036729998886585236 0.21694002031558093  -19.39528787747765     G9 ... 136.61920934          0 3.8510701868189137 0.15623  3270659.631652062 1687458.8111005237\n",
       " -1.7624878  -20.73918807667125 0.036729998886585236  0.2706100046634674  -20.69536718886722    G15 ... 221.42715873          0  10.03096547575655 0.25777  6424956.386552604  7179212.017488108\n",
       " 1.08625482 -20.139372038265876 0.036729998886585236  0.2593676718803533 -20.098740326782874     G9 ... 138.64172429          0   8.14707142294824 0.23901  5725444.910350502  5788953.020422685\n",
       " 0.20429582 -20.214372670553352 0.036729998886585236  0.2643666094349375 -20.192216573558476    G12 ... 183.70785433          0  3.087135203663567 0.13033  6073162.230133044  985689.6289771759\n",
       " 0.95977698  -19.61177941883016 0.036729998886585236  0.2706100046634674 -19.910606888179068    G12 ... 185.48326182          0  10.03096547575655 0.25985  6424956.386552604  7344935.543831965\n",
       "        ...                 ...                  ...                 ...                 ...    ... ...          ...        ...                ...     ...                ...                ...\n",
       "-0.47596927 -18.296309611909788 0.036729998886585236 0.13621617556153892  -18.44852358769695    G15 ... 217.79375545          0  3.087135203663567 0.13236  695660.0095156177 1032284.6643661438\n",
       " 1.66438787 -20.057441783426228 0.036729998886585236  0.2706100046634674 -20.361432743547383    G12 ... 182.99610638          0  10.03096547575655 0.26434  6424956.386552604  7710720.780174909\n",
       "-0.61272559 -20.086114871975198 0.036729998886585236 0.25355003465076886 -20.043958265062585     G9 ... 130.47949303          0   8.14707142294824 0.24798  5341639.516362456  6430468.356453753\n",
       " 1.66725002  -20.72194336273433 0.036729998886585236  0.2706100046634674  -20.69430306472541     G9 ... 138.51726998          0 3.8510701868189137 0.16259  6424956.386552604 1897437.6355953156\n",
       "-0.77077665 -18.325201261099984 0.036729998886585236     0.1383356476808 -18.431461240407636    G12 ... 176.42644071          0  2.104033460643596  0.0924   735073.520782928 344260.76655939233\n",
       " 2.01941065 -20.317006413825055 0.036729998886585236  0.2706100046634674 -20.280147005804082    G15 ... 214.26191567          0  6.771929604808127 0.21682  6424956.386552604  4378316.782078286\n",
       "-1.34531968 -20.158578427332813 0.036729998886585236  0.2706100046634674   -20.3599088953914    G12 ... 179.07636441          0  4.346382165771279 0.17507  6424956.386552604  2355975.245677103\n",
       " 0.09171965  -20.17476136659893 0.036729998886585236 0.26095276844642157 -20.135809254401053    G12 ... 180.07279219          0  6.771929604808127 0.22913  5839240.420412603  5130401.169535404\n",
       "-1.90736208 -19.892328296576586 0.036729998886585236  0.2706100046634674  -20.15520675924882    G12 ... 179.78766145          0  6.771929604808127 0.22859  6424956.386552604  5095833.154779242\n",
       "-0.08128385  -20.26199140884943 0.036729998886585236  0.2706100046634674  -20.24076180645294    G12 ... 177.58684774          0 2.7879565542227054 0.12488  6424956.386552604  867233.2948587645\n",
       " 0.02915729  -19.88331298367151 0.036729998886585236 0.23412698254592593 -19.850249691168152     G9 ...  136.4771262          0  5.762267098612436 0.19449  4163397.842348219 3199175.9007850057"
      ]
     },
     "execution_count": 10,
     "metadata": {},
     "output_type": "execute_result"
    }
   ],
   "source": [
    "fpath = findfile(ftype='vmax', dryrun=dryrun, version=version, survey=survey)\n",
    "vmax  = Table.read(fpath)\n",
    "vmax"
   ]
  },
  {
   "cell_type": "markdown",
   "id": "5cd7393d",
   "metadata": {},
   "source": [
    "##  LUMFN"
   ]
  },
  {
   "cell_type": "code",
   "execution_count": 18,
   "id": "6a73fb90",
   "metadata": {},
   "outputs": [
    {
     "data": {
      "text/html": [
       "<div><i>Table length=25</i>\n",
       "<table id=\"table140102997342480\" class=\"table-striped table-bordered table-condensed\">\n",
       "<thead><tr><th>MEDIAN_M</th><th>MEAN_M</th><th>MID_M</th><th>PHI_N</th><th>PHI_N_ERROR</th><th>PHI_IVMAX</th><th>PHI_IVMAX_ERROR</th><th>N</th><th>V_ON_VMAX</th></tr></thead>\n",
       "<thead><tr><th>float64</th><th>float64</th><th>float64</th><th>float64</th><th>float64</th><th>float64</th><th>float64</th><th>float64</th><th>float64</th></tr></thead>\n",
       "<tr><td>-25.4</td><td>-25.4</td><td>-25.4</td><td>0.0</td><td>0.0</td><td>0.0</td><td>0.0</td><td>0.0</td><td>0.0</td></tr>\n",
       "<tr><td>-25.48584913809907</td><td>-25.48584913809907</td><td>-25.200000000000003</td><td>6.067895169459533e-07</td><td>6.067895169459533e-07</td><td>8.158791962347847e-07</td><td>8.158791962347847e-07</td><td>1.0</td><td>0.7437247079546051</td></tr>\n",
       "<tr><td>-25.0</td><td>-25.0</td><td>-25.0</td><td>0.0</td><td>0.0</td><td>0.0</td><td>0.0</td><td>0.0</td><td>0.0</td></tr>\n",
       "<tr><td>-24.800000000000004</td><td>-24.800000000000004</td><td>-24.800000000000004</td><td>0.0</td><td>0.0</td><td>0.0</td><td>0.0</td><td>0.0</td><td>0.0</td></tr>\n",
       "<tr><td>-24.6</td><td>-24.6</td><td>-24.6</td><td>0.0</td><td>0.0</td><td>0.0</td><td>0.0</td><td>0.0</td><td>0.0</td></tr>\n",
       "<tr><td>-24.400000000000006</td><td>-24.400000000000006</td><td>-24.400000000000006</td><td>0.0</td><td>0.0</td><td>0.0</td><td>0.0</td><td>0.0</td><td>0.0</td></tr>\n",
       "<tr><td>-24.200000000000003</td><td>-24.200000000000003</td><td>-24.200000000000003</td><td>0.0</td><td>0.0</td><td>0.0</td><td>0.0</td><td>0.0</td><td>0.0</td></tr>\n",
       "<tr><td>-24.000000000000007</td><td>-24.000000000000007</td><td>-24.000000000000007</td><td>0.0</td><td>0.0</td><td>0.0</td><td>0.0</td><td>0.0</td><td>0.0</td></tr>\n",
       "<tr><td>-23.800000000000004</td><td>-23.800000000000004</td><td>-23.800000000000004</td><td>0.0</td><td>0.0</td><td>0.0</td><td>0.0</td><td>0.0</td><td>0.0</td></tr>\n",
       "<tr><td>-23.60000000000001</td><td>-23.60000000000001</td><td>-23.60000000000001</td><td>0.0</td><td>0.0</td><td>0.0</td><td>0.0</td><td>0.0</td><td>0.0</td></tr>\n",
       "<tr><td>-23.400000000000006</td><td>-23.400000000000006</td><td>-23.400000000000006</td><td>0.0</td><td>0.0</td><td>0.0</td><td>0.0</td><td>0.0</td><td>0.0</td></tr>\n",
       "<tr><td>-23.451901282679238</td><td>-23.451901282679238</td><td>-23.20000000000001</td><td>1.2135790338919066e-06</td><td>8.581299643707862e-07</td><td>1.5575224814869163e-06</td><td>1.1013347096093699e-06</td><td>2.0</td><td>0.7791727251066037</td></tr>\n",
       "<tr><td>-23.11172464498805</td><td>-23.11172464498805</td><td>-23.000000000000007</td><td>1.2135790338919066e-06</td><td>8.581299643707862e-07</td><td>1.5564307986479063e-06</td><td>1.1005627721715286e-06</td><td>2.0</td><td>0.7797192364390116</td></tr>\n",
       "<tr><td>-22.962625211812387</td><td>-22.979916932134596</td><td>-22.80000000000001</td><td>4.8543161355676265e-06</td><td>1.7162599287415724e-06</td><td>6.225723194591625e-06</td><td>2.201125544343057e-06</td><td>8.0</td><td>0.7797192364390116</td></tr>\n",
       "<tr><td>-22.754863836258018</td><td>-22.758946900181137</td><td>-22.60000000000001</td><td>2.3058001643946225e-05</td><td>3.7405017951164152e-06</td><td>2.957218517431022e-05</td><td>4.797241904918671e-06</td><td>38.0</td><td>0.7797192364390116</td></tr>\n",
       "<tr><td>-22.590401252254676</td><td>-22.594186306396402</td><td>-22.400000000000013</td><td>3.64073710167572e-05</td><td>4.7001713875698406e-06</td><td>4.6692923959437185e-05</td><td>6.028030562687649e-06</td><td>60.0</td><td>0.7797192364390116</td></tr>\n",
       "<tr><td>-22.385555603122597</td><td>-22.388537517498733</td><td>-22.20000000000001</td><td>9.344558560967681e-05</td><td>7.530059877107719e-06</td><td>0.00011984517149588878</td><td>9.657399131894711e-06</td><td>154.0</td><td>0.7797192364390116</td></tr>\n",
       "<tr><td>-22.179204585440715</td><td>-22.186526026246813</td><td>-22.000000000000014</td><td>0.00018749796073629955</td><td>1.0666386315127095e-05</td><td>0.00024046855839110153</td><td>1.3679778331288354e-05</td><td>309.0</td><td>0.7797192364390116</td></tr>\n",
       "<tr><td>-21.982468817938333</td><td>-21.987892198575835</td><td>-21.80000000000001</td><td>0.0003070354955746524</td><td>1.3649392662129868e-05</td><td>0.00039377699205792033</td><td>1.7505522532016563e-05</td><td>506.0</td><td>0.7797192364390116</td></tr>\n",
       "<tr><td>-21.788898834919117</td><td>-21.79325997135856</td><td>-21.600000000000016</td><td>0.0005667414088275203</td><td>1.8544345383316183e-05</td><td>0.0007268531829685723</td><td>2.378336267296477e-05</td><td>934.0</td><td>0.7797192364390116</td></tr>\n",
       "<tr><td>-21.585597131307825</td><td>-21.588635254205254</td><td>-21.400000000000013</td><td>0.0009302083294781463</td><td>2.3757959990351582e-05</td><td>0.0011930042071636201</td><td>3.046989080178977e-05</td><td>1533.0</td><td>0.7797192364390116</td></tr>\n",
       "<tr><td>-21.39504032346713</td><td>-21.39572089264761</td><td>-21.200000000000017</td><td>0.001311878935637151</td><td>2.8214081336220007e-05</td><td>0.0016825016933383868</td><td>3.618492403121167e-05</td><td>2162.0</td><td>0.7797192364390116</td></tr>\n",
       "<tr><td>-21.193578735909504</td><td>-21.195848901133434</td><td>-21.000000000000014</td><td>0.0018361450782784546</td><td>3.337893924454869e-05</td><td>--</td><td>--</td><td>3026.0</td><td>--</td></tr>\n",
       "<tr><td>-20.993212223433083</td><td>-20.996148930111836</td><td>-20.80000000000002</td><td>0.0024502160694277594</td><td>3.855859729270869e-05</td><td>--</td><td>--</td><td>4038.0</td><td>--</td></tr>\n",
       "<tr><td>-20.794126292928397</td><td>-20.796018965844528</td><td>-20.600000000000016</td><td>0.0030327340056958744</td><td>4.2897916060593964e-05</td><td>0.003889520565821118</td><td>5.501713188007176e-05</td><td>4998.0</td><td>0.7797192364390116</td></tr>\n",
       "</table></div>"
      ],
      "text/plain": [
       "<Table length=25>\n",
       "      MEDIAN_M             MEAN_M              MID_M                PHI_N               PHI_N_ERROR             PHI_IVMAX           PHI_IVMAX_ERROR        N        V_ON_VMAX     \n",
       "      float64             float64             float64              float64                float64                float64                float64         float64      float64      \n",
       "------------------- ------------------- ------------------- ---------------------- ---------------------- ---------------------- ---------------------- ------- ------------------\n",
       "              -25.4               -25.4               -25.4                    0.0                    0.0                    0.0                    0.0     0.0                0.0\n",
       " -25.48584913809907  -25.48584913809907 -25.200000000000003  6.067895169459533e-07  6.067895169459533e-07  8.158791962347847e-07  8.158791962347847e-07     1.0 0.7437247079546051\n",
       "              -25.0               -25.0               -25.0                    0.0                    0.0                    0.0                    0.0     0.0                0.0\n",
       "-24.800000000000004 -24.800000000000004 -24.800000000000004                    0.0                    0.0                    0.0                    0.0     0.0                0.0\n",
       "              -24.6               -24.6               -24.6                    0.0                    0.0                    0.0                    0.0     0.0                0.0\n",
       "-24.400000000000006 -24.400000000000006 -24.400000000000006                    0.0                    0.0                    0.0                    0.0     0.0                0.0\n",
       "-24.200000000000003 -24.200000000000003 -24.200000000000003                    0.0                    0.0                    0.0                    0.0     0.0                0.0\n",
       "-24.000000000000007 -24.000000000000007 -24.000000000000007                    0.0                    0.0                    0.0                    0.0     0.0                0.0\n",
       "-23.800000000000004 -23.800000000000004 -23.800000000000004                    0.0                    0.0                    0.0                    0.0     0.0                0.0\n",
       " -23.60000000000001  -23.60000000000001  -23.60000000000001                    0.0                    0.0                    0.0                    0.0     0.0                0.0\n",
       "-23.400000000000006 -23.400000000000006 -23.400000000000006                    0.0                    0.0                    0.0                    0.0     0.0                0.0\n",
       "-23.451901282679238 -23.451901282679238  -23.20000000000001 1.2135790338919066e-06  8.581299643707862e-07 1.5575224814869163e-06 1.1013347096093699e-06     2.0 0.7791727251066037\n",
       " -23.11172464498805  -23.11172464498805 -23.000000000000007 1.2135790338919066e-06  8.581299643707862e-07 1.5564307986479063e-06 1.1005627721715286e-06     2.0 0.7797192364390116\n",
       "-22.962625211812387 -22.979916932134596  -22.80000000000001 4.8543161355676265e-06 1.7162599287415724e-06  6.225723194591625e-06  2.201125544343057e-06     8.0 0.7797192364390116\n",
       "-22.754863836258018 -22.758946900181137  -22.60000000000001 2.3058001643946225e-05 3.7405017951164152e-06  2.957218517431022e-05  4.797241904918671e-06    38.0 0.7797192364390116\n",
       "-22.590401252254676 -22.594186306396402 -22.400000000000013   3.64073710167572e-05 4.7001713875698406e-06 4.6692923959437185e-05  6.028030562687649e-06    60.0 0.7797192364390116\n",
       "-22.385555603122597 -22.388537517498733  -22.20000000000001  9.344558560967681e-05  7.530059877107719e-06 0.00011984517149588878  9.657399131894711e-06   154.0 0.7797192364390116\n",
       "-22.179204585440715 -22.186526026246813 -22.000000000000014 0.00018749796073629955 1.0666386315127095e-05 0.00024046855839110153 1.3679778331288354e-05   309.0 0.7797192364390116\n",
       "-21.982468817938333 -21.987892198575835  -21.80000000000001  0.0003070354955746524 1.3649392662129868e-05 0.00039377699205792033 1.7505522532016563e-05   506.0 0.7797192364390116\n",
       "-21.788898834919117  -21.79325997135856 -21.600000000000016  0.0005667414088275203 1.8544345383316183e-05  0.0007268531829685723  2.378336267296477e-05   934.0 0.7797192364390116\n",
       "-21.585597131307825 -21.588635254205254 -21.400000000000013  0.0009302083294781463 2.3757959990351582e-05  0.0011930042071636201  3.046989080178977e-05  1533.0 0.7797192364390116\n",
       " -21.39504032346713  -21.39572089264761 -21.200000000000017   0.001311878935637151 2.8214081336220007e-05  0.0016825016933383868  3.618492403121167e-05  2162.0 0.7797192364390116\n",
       "-21.193578735909504 -21.195848901133434 -21.000000000000014  0.0018361450782784546  3.337893924454869e-05                     --                     --  3026.0                 --\n",
       "-20.993212223433083 -20.996148930111836  -20.80000000000002  0.0024502160694277594  3.855859729270869e-05                     --                     --  4038.0                 --\n",
       "-20.794126292928397 -20.796018965844528 -20.600000000000016  0.0030327340056958744 4.2897916060593964e-05   0.003889520565821118  5.501713188007176e-05  4998.0 0.7797192364390116"
      ]
     },
     "execution_count": 18,
     "metadata": {},
     "output_type": "execute_result"
    }
   ],
   "source": [
    "fpath = findfile(ftype='lumfn', dryrun=dryrun, version=version, survey=survey)\n",
    "lumfn = Table.read(fpath)\n",
    "lumfn[lumfn['MID_M'] < -20.5]"
   ]
  },
  {
   "cell_type": "code",
   "execution_count": 19,
   "id": "1248da9e",
   "metadata": {},
   "outputs": [],
   "source": [
    "## HACK\n",
    "## TODO: note that offset should be re-added if desired.\n",
    "offset = 0.12\n",
    "\n",
    "## TODO: Rename\n",
    "gama_lf = lumfn"
   ]
  },
  {
   "cell_type": "raw",
   "id": "ea65c4a8",
   "metadata": {},
   "source": [
    "# read in our stepwise\n",
    "fpath = '/cosma/home/durham/dc-wils7/data/{}/gama_gold_lumfn_step.fits'.format(version)\n",
    "lumfn_step = Table.read(fpath)\n",
    "\n",
    "# read in TMR stepwise digitalisation\n",
    "fpath = '/cosma/home/durham/dc-wils7/DESI/data/tmr_ref_stepwise.txt'\n",
    "lumfn_TMR = Table.read(fpath, format='ascii', names=['Ms', 'PHI_STEP'])"
   ]
  },
  {
   "cell_type": "code",
   "execution_count": 13,
   "id": "ee7d95d3",
   "metadata": {},
   "outputs": [
    {
     "name": "stderr",
     "output_type": "stream",
     "text": [
      "/tmp/ipykernel_146927/2082379129.py:13: RuntimeWarning: divide by zero encountered in log10\n",
      "  pl.plot(gama_lf['MID_M'], 0.08 + np.log10(gama_lf['PHI_IVMAX']), label='IVMAX', lw=2.)\n"
     ]
    },
    {
     "data": {
      "text/plain": [
       "Text(0.5, 1.0, 'GAMA')"
      ]
     },
     "execution_count": 13,
     "metadata": {},
     "output_type": "execute_result"
    },
    {
     "data": {
      "image/png": "[encoded data removed]",
      "text/plain": [
       "<Figure size 720x360 with 1 Axes>"
      ]
     },
     "metadata": {
      "needs_background": "light"
     },
     "output_type": "display_data"
    }
   ],
   "source": [
    "Ms = np.arange(-23., -15., 0.01)\n",
    "sc = named_schechter(Ms, named_type='TMR')\n",
    "\n",
    "fig, ax = plt.subplots(1,1,figsize=(10, 5))\n",
    "\n",
    "pl.sca(ax)\n",
    "\n",
    "pl.plot(Ms, np.log10(sc), label='TMR_SCHT', lw=2.)\n",
    "\n",
    "# pl.plot(gama_lf['MEDIAN_M'], np.log10(gama_lf['PHI_N'] / 0.77), label='RAW', lw=2.)\n",
    "# pl.plot(gama_lf['MEDIAN_M'], np.log10(gama_lf['PHI_IVMAX']), label='IVMAX', lw=2.)\n",
    "# pl.plot(gama_lf['MEAN_M'], np.log10(gama_lf['PHI_IVMAX']), label='IVMAX', lw=2.)\n",
    "pl.plot(gama_lf['MID_M'], 0.08 + np.log10(gama_lf['PHI_IVMAX']), label='IVMAX', lw=2.)\n",
    "\n",
    "# offset = 1.15\n",
    "# pl.plot(lumfn_step['Ms'], np.log10(lumfn_step['PHI_STEP'])-offset, label='STEPWISE', lw=2.)\n",
    "\n",
    "# pl.scatter(lumfn_TMR['Ms'], lumfn_TMR['PHI_STEP'], s=0.5)\n",
    "# pl.plot(lumfn_TMR['Ms'], lumfn_TMR['PHI_STEP'], label='TMR_SWML', lw=1.)\n",
    "\n",
    "pl.xlabel(r'$M$')\n",
    "pl.ylabel(r'$\\Phi(M)$')\n",
    "\n",
    "pl.ylim(-4.25, -1.)\n",
    "pl.xlim(-23., -15.5)\n",
    "\n",
    "pl.legend(frameon=False, loc=2)\n",
    "pl.title(survey.upper())"
   ]
  },
  {
   "cell_type": "code",
   "execution_count": 12,
   "id": "85788c35",
   "metadata": {},
   "outputs": [
    {
     "data": {
      "text/html": [
       "<div><i>Table length=121975</i>\n",
       "<table id=\"table139635782661984\" class=\"table-striped table-bordered table-condensed\">\n",
       "<thead><tr><th>CATAID</th><th>OBJID</th><th>RA</th><th>DEC</th><th>R_PETRO</th><th>ZGAMA</th><th>NQ</th><th>SPECID</th><th>SURVEY_CLASS</th><th>UMAG_DRED_SDSS</th><th>GMAG_DRED_SDSS</th><th>RMAG_DRED_SDSS</th><th>IMAG_DRED_SDSS</th><th>ZMAG_DRED_SDSS</th><th>ZSURV</th><th>LUMDIST</th><th>DISTMOD</th><th>FIELD</th><th>IN_D8LUMFN</th><th>CONSERVATIVE</th><th>CARTESIAN_X</th><th>CARTESIAN_Y</th><th>CARTESIAN_Z</th><th>ROTCARTESIAN_X</th><th>ROTCARTESIAN_Y</th><th>ROTCARTESIAN_Z</th><th>GMR</th><th>DETMAG</th></tr></thead>\n",
       "<thead><tr><th></th><th></th><th>deg</th><th>deg</th><th>mag</th><th></th><th></th><th></th><th></th><th>mag</th><th>mag</th><th>mag</th><th>mag</th><th>mag</th><th></th><th>Mpc</th><th></th><th></th><th></th><th></th><th></th><th></th><th></th><th></th><th></th><th></th><th>mag</th><th>mag</th></tr></thead>\n",
       "<thead><tr><th>int32</th><th>int64</th><th>float64</th><th>float64</th><th>float32</th><th>float32</th><th>int16</th><th>bytes33</th><th>int16</th><th>float32</th><th>float32</th><th>float32</th><th>float32</th><th>float32</th><th>float32</th><th>float64</th><th>float64</th><th>bytes3</th><th>int64</th><th>int64</th><th>float64</th><th>float64</th><th>float64</th><th>float64</th><th>float64</th><th>float64</th><th>float32</th><th>float32</th></tr></thead>\n",
       "<tr><td>86187</td><td>587722983890026653</td><td>185.64764412</td><td>0.45825774</td><td>17.885168</td><td>0.23773</td><td>4</td><td>G12_Y1_IN1_366</td><td>6</td><td>20.97136</td><td>19.13244</td><td>17.69423</td><td>17.180195</td><td>16.8645</td><td>0.23773</td><td>840.5726708609474</td><td>39.62287632944614</td><td>G12</td><td>0</td><td>0</td><td>-675.8062612682004</td><td>-66.83079688776589</td><td>5.431651350640607</td><td>676.2613794170416</td><td>62.116879849571745</td><td>4.6905186350961925</td><td>1.4382114</td><td>17.885168</td></tr>\n",
       "<tr><td>617429</td><td>588848900463329480</td><td>211.51215914</td><td>0.33337858</td><td>16.491335</td><td>0.05383</td><td>4</td><td>G15_Y6_072_126</td><td>6</td><td>18.441204</td><td>17.068653</td><td>16.389126</td><td>15.991108</td><td>15.69622</td><td>0.05383</td><td>168.3225606128227</td><td>36.13071164621924</td><td>G15</td><td>0</td><td>0</td><td>-136.1675749443299</td><td>-83.48335106299008</td><td>0.9293608415316806</td><td>136.7473174971628</td><td>82.53184613359454</td><td>0.779495741336187</td><td>0.6795273</td><td>16.491335</td></tr>\n",
       "<tr><td>594128</td><td>588848899929800874</td><td>219.05986017</td><td>-0.07440745</td><td>17.661882</td><td>0.13694</td><td>5</td><td>344534744807008256</td><td>6</td><td>19.502266</td><td>18.28102</td><td>17.649033</td><td>17.278406</td><td>17.08318</td><td>0.13694</td><td>454.3391400668327</td><td>38.286900758504636</td><td>G15</td><td>0</td><td>0</td><td>-310.2965986762804</td><td>-251.81045450990524</td><td>-0.5189628516176182</td><td>312.04413432684754</td><td>249.64068275010177</td><td>-0.8609420807934335</td><td>0.6319866</td><td>17.661882</td></tr>\n",
       "<tr><td>619784</td><td>588848900467655041</td><td>221.331891</td><td>0.28400507</td><td>19.199787</td><td>0.2063</td><td>4</td><td>G15_Y2_014_259</td><td>6</td><td>22.054535</td><td>20.266598</td><td>19.106667</td><td>18.666481</td><td>18.32868</td><td>0.2063</td><td>715.7382006779324</td><td>39.27377098589429</td><td>G15</td><td>0</td><td>0</td><td>-445.5266613190083</td><td>-391.84432420106833</td><td>2.9410373795726867</td><td>448.2510540490064</td><td>388.72820986399864</td><td>2.449786808740405</td><td>1.1599312</td><td>19.199787</td></tr>\n",
       "<tr><td>517646</td><td>588010358528868746</td><td>133.10434664</td><td>2.46904323</td><td>19.02159</td><td>0.21168</td><td>4</td><td>G09_Y1_CX2_265</td><td>6</td><td>22.315638</td><td>20.25712</td><td>18.987331</td><td>18.496666</td><td>18.107693</td><td>0.21168</td><td>736.8315164616245</td><td>39.33684096822303</td><td>G9</td><td>0</td><td>0</td><td>-415.15174372520573</td><td>443.57337261322016</td><td>26.197021488563923</td><td>412.0771454194852</td><td>-446.45737786817364</td><td>25.745429000529725</td><td>1.2697887</td><td>19.02159</td></tr>\n",
       "<tr><td>250504</td><td>587726015084167756</td><td>214.80095093</td><td>2.0113576</td><td>19.314877</td><td>0.08258</td><td>4</td><td>G15_Y6_083_154</td><td>6</td><td>21.896044</td><td>19.971685</td><td>19.291718</td><td>18.874441</td><td>18.496765</td><td>0.08258</td><td>263.76840050867764</td><td>37.10611382893427</td><td>G15</td><td>0</td><td>0</td><td>-199.94575651953147</td><td>-138.97084242037815</td><td>8.551459291074071</td><td>200.91916902577134</td><td>137.57327318029633</td><td>8.331270830872633</td><td>0.6799679</td><td>19.314877</td></tr>\n",
       "<tr><td>105538</td><td>587722984438628396</td><td>212.43262578</td><td>0.92333403</td><td>17.884026</td><td>0.20102</td><td>5</td><td>340177655959676928</td><td>6</td><td>21.931866</td><td>18.96789</td><td>17.763554</td><td>17.288898</td><td>17.004675</td><td>0.20102</td><td>695.1487465240222</td><td>39.21038871994787</td><td>G15</td><td>0</td><td>0</td><td>-488.4557448533853</td><td>-310.3737413663091</td><td>9.327063108802347</td><td>490.61798540477486</td><td>306.96026977875385</td><td>8.789385129036933</td><td>1.2043362</td><td>17.884026</td></tr>\n",
       "<tr><td>574914</td><td>588848899894149537</td><td>137.75408238</td><td>-0.07159713</td><td>19.748035</td><td>0.22326</td><td>4</td><td>G09_Y3_010_235</td><td>5</td><td>23.506832</td><td>20.890038</td><td>19.711256</td><td>19.360645</td><td>18.972797</td><td>0.22326</td><td>782.6207677913833</td><td>39.46775684124222</td><td>G9</td><td>0</td><td>0</td><td>-473.609123961879</td><td>430.1346558728962</td><td>-0.7994760275212474</td><td>470.59718916445354</td><td>-433.4266020851874</td><td>-1.3152186723953165</td><td>1.1787815</td><td>19.748035</td></tr>\n",
       "<tr><td>100171</td><td>587722984426963127</td><td>185.77367243</td><td>0.88008268</td><td>19.36547</td><td>0.18166</td><td>4</td><td>G12_Y2_025_066</td><td>6</td><td>21.343155</td><td>20.359194</td><td>19.318336</td><td>18.922379</td><td>18.593027</td><td>0.18166</td><td>620.6125494357092</td><td>38.964102766130964</td><td>G12</td><td>0</td><td>0</td><td>-522.4780381669136</td><td>-52.82883787014854</td><td>8.066995329887947</td><td>522.8422306121055</td><td>49.18439516897655</td><td>7.494001036149339</td><td>1.0408573</td><td>19.36547</td></tr>\n",
       "<tr><td>3854117</td><td>588010930294358603</td><td>130.16337942</td><td>-1.73750472</td><td>19.456196</td><td>0.12823</td><td>4</td><td>G09_Y5_001_055</td><td>5</td><td>22.152245</td><td>20.366323</td><td>19.485611</td><td>18.95773</td><td>18.628633</td><td>0.12823</td><td>422.9366944033414</td><td>38.131376832988565</td><td>G9</td><td>0</td><td>0</td><td>-241.66686250435419</td><td>286.3451463804656</td><td>-11.366179933658199</td><td>239.6517466362885</td><td>-288.0232907496668</td><td>-11.62882859716244</td><td>0.8807125</td><td>19.456196</td></tr>\n",
       "<tr><td>3860798</td><td>588010930295865909</td><td>133.50986188</td><td>-1.95012302</td><td>19.266338</td><td>0.25835</td><td>4</td><td>G09_Y4_227_042</td><td>6</td><td>21.036171</td><td>20.040134</td><td>19.196268</td><td>18.924599</td><td>18.741978</td><td>0.25835</td><td>924.5431587112332</td><td>39.82963594660869</td><td>G9</td><td>0</td><td>0</td><td>-505.55113427958787</td><td>532.556126487389</td><td>-25.002374291231266</td><td>501.7977104596989</td><td>-536.068309462863</td><td>-25.552325096968747</td><td>0.84386635</td><td>19.266338</td></tr>\n",
       "<tr><td>...</td><td>...</td><td>...</td><td>...</td><td>...</td><td>...</td><td>...</td><td>...</td><td>...</td><td>...</td><td>...</td><td>...</td><td>...</td><td>...</td><td>...</td><td>...</td><td>...</td><td>...</td><td>...</td><td>...</td><td>...</td><td>...</td><td>...</td><td>...</td><td>...</td><td>...</td><td>...</td><td>...</td></tr>\n",
       "<tr><td>397071</td><td>587728307495239939</td><td>176.54757777</td><td>1.42458247</td><td>18.709467</td><td>0.066</td><td>4</td><td>G12_Y1_BX1_140</td><td>6</td><td>20.093124</td><td>19.170315</td><td>18.824062</td><td>18.624361</td><td>18.63077</td><td>0.066</td><td>208.26351413572408</td><td>36.59306596093785</td><td>G12</td><td>0</td><td>0</td><td>-194.95431094728565</td><td>11.76143121733055</td><td>4.857090654409992</td><td>194.87276686757102</td><td>-13.120531491940548</td><td>4.64352641668256</td><td>0.34625244</td><td>18.709467</td></tr>\n",
       "<tr><td>377592</td><td>587727943491911801</td><td>138.24139546</td><td>1.68165673</td><td>17.688156</td><td>0.20199</td><td>4</td><td>G09_Y1_GN1_361</td><td>6</td><td>19.553078</td><td>18.46362</td><td>17.643116</td><td>17.212273</td><td>16.99446</td><td>0.20199</td><td>698.9229091576645</td><td>39.22214637963124</td><td>G9</td><td>0</td><td>0</td><td>-433.5661192122033</td><td>387.0895534178463</td><td>17.063997550307384</td><td>430.8749057063663</td><td>-390.1033324141191</td><td>16.591798524707496</td><td>0.82050323</td><td>17.688156</td></tr>\n",
       "<tr><td>249917</td><td>587726015083512521</td><td>213.38186297</td><td>1.99530538</td><td>19.68728</td><td>0.18122</td><td>4</td><td>G15_Y4_234_160</td><td>5</td><td>21.499628</td><td>20.649828</td><td>20.157738</td><td>19.977415</td><td>20.290821</td><td>0.18122</td><td>618.9362616516281</td><td>38.958229637360304</td><td>G15</td><td>0</td><td>0</td><td>-437.2699909060031</td><td>-288.12787679772117</td><td>18.24374826764562</td><td>439.28816174524195</td><td>285.07185635100393</td><td>17.76232960033505</td><td>0.49209023</td><td>19.68728</td></tr>\n",
       "<tr><td>518220</td><td>588010358529851841</td><td>135.30671775</td><td>2.67856182</td><td>19.507793</td><td>0.1072</td><td>4</td><td>G09_Y5_034_222</td><td>5</td><td>20.720747</td><td>19.855574</td><td>19.414885</td><td>19.114262</td><td>19.163845</td><td>0.1072</td><td>348.4701668823615</td><td>37.71082801671877</td><td>G9</td><td>0</td><td>0</td><td>-223.49213308623405</td><td>221.11203990324952</td><td>14.708227937377922</td><td>221.9609057821668</td><td>-222.66504055503896</td><td>14.464982877695283</td><td>0.4406891</td><td>19.507793</td></tr>\n",
       "<tr><td>231169</td><td>587726014533206225</td><td>182.61088494</td><td>1.98545573</td><td>19.750051</td><td>0.18851</td><td>4</td><td>G12_Y1_FX1_299</td><td>5</td><td>23.379509</td><td>20.796886</td><td>19.74253</td><td>19.283928</td><td>18.953253</td><td>0.18851</td><td>646.8118630614368</td><td>39.05388988312662</td><td>G12</td><td>0</td><td>0</td><td>-543.3295080695495</td><td>-24.775883003916533</td><td>18.854968550521356</td><td>543.5093951616325</td><td>20.986728217665593</td><td>18.259330943876357</td><td>1.0543556</td><td>19.750051</td></tr>\n",
       "<tr><td>534800</td><td>588848898836791572</td><td>175.13126624</td><td>-0.85510195</td><td>19.613483</td><td>0.18094</td><td>4</td><td>G12_Y1_AD2_081</td><td>5</td><td>22.799736</td><td>20.657427</td><td>19.51891</td><td>18.997316</td><td>18.55358</td><td>0.18094</td><td>617.8699200785888</td><td>38.95448526429212</td><td>G12</td><td>0</td><td>0</td><td>-521.2558799663068</td><td>44.40086666332728</td><td>-7.808153638577753</td><td>520.9247375387238</td><td>-48.034423734275805</td><td>-8.3790560252821</td><td>1.1385174</td><td>19.613483</td></tr>\n",
       "<tr><td>508137</td><td>587729971786416371</td><td>216.06867119</td><td>-1.6272147</td><td>16.716251</td><td>0.09275</td><td>5</td><td>1032623702799312896</td><td>6</td><td>19.328838</td><td>17.5173</td><td>16.586273</td><td>16.193024</td><td>15.88408</td><td>0.09275</td><td>298.42923794272104</td><td>37.374206849618815</td><td>G15</td><td>0</td><td>0</td><td>-220.6603959794988</td><td>-160.723588417955</td><td>-7.755046683318153</td><td>221.76710009877374</td><td>159.18105038481661</td><td>-7.998092835222143</td><td>0.93102646</td><td>16.716251</td></tr>\n",
       "<tr><td>423626</td><td>587728879795437878</td><td>135.87612953</td><td>2.95826995</td><td>19.662548</td><td>0.19786</td><td>4</td><td>G09_Y3_002_329</td><td>5</td><td>23.091774</td><td>20.67845</td><td>19.572115</td><td>19.069782</td><td>18.738678</td><td>0.19786</td><td>682.8795640892475</td><td>39.17172058090004</td><td>G9</td><td>0</td><td>0</td><td>-408.680898750162</td><td>396.3696337608627</td><td>29.42119080952503</td><td>405.93913926515074</td><td>-399.2096663667187</td><td>28.97632709045332</td><td>1.1063347</td><td>19.662548</td></tr>\n",
       "<tr><td>3909149</td><td>588010931371114750</td><td>137.08405459</td><td>-1.05471967</td><td>18.529512</td><td>0.21642</td><td>4</td><td>G09_Y4_206_252</td><td>6</td><td>21.168894</td><td>19.652792</td><td>18.435694</td><td>17.920557</td><td>17.55179</td><td>0.21642</td><td>755.5105094931627</td><td>39.39120254974943</td><td>G9</td><td>0</td><td>0</td><td>-454.7828829137277</td><td>422.8462534143134</td><td>-11.432648884609058</td><td>451.8105847496971</td><td>-426.0071043502134</td><td>-11.927809088229278</td><td>1.2170982</td><td>18.529512</td></tr>\n",
       "<tr><td>100158</td><td>587722984426963009</td><td>185.71449136</td><td>1.03321558</td><td>18.902573</td><td>0.07447</td><td>4</td><td>G12_Y2_040_049</td><td>6</td><td>19.668018</td><td>18.914362</td><td>18.927937</td><td>18.804064</td><td>19.165062</td><td>0.07447</td><td>236.46241936437548</td><td>36.86881064377188</td><td>G12</td><td>0</td><td>0</td><td>-218.944256304645</td><td>-21.90947096598793</td><td>3.968373974727364</td><td>219.09592247985992</td><td>20.382273960527684</td><td>3.7282622901393054</td><td>-0.0135746</td><td>18.902573</td></tr>\n",
       "<tr><td>617636</td><td>588848900463788278</td><td>212.54545223</td><td>0.34965978</td><td>17.073904</td><td>0.12897</td><td>5</td><td>340160613529446400</td><td>6</td><td>19.239635</td><td>17.886095</td><td>17.147776</td><td>16.743351</td><td>16.43522</td><td>0.12897</td><td>425.59196126268046</td><td>38.14496708125368</td><td>G15</td><td>0</td><td>0</td><td>-317.7696619282848</td><td>-202.79617487566003</td><td>2.30054830198496</td><td>319.17833263334745</td><td>200.5754861693045</td><td>1.9507521751645838</td><td>0.7383194</td><td>17.073904</td></tr>\n",
       "</table></div>"
      ],
      "text/plain": [
       "<Table length=121975>\n",
       " CATAID       OBJID             RA          DEC      R_PETRO   ZGAMA    NQ  ...     CARTESIAN_Y         CARTESIAN_Z       ROTCARTESIAN_X      ROTCARTESIAN_Y      ROTCARTESIAN_Z      GMR       DETMAG \n",
       "                               deg          deg        mag                  ...                                                                                                       mag        mag   \n",
       " int32        int64          float64      float64    float32  float32 int16 ...       float64             float64            float64             float64             float64        float32    float32 \n",
       "------- ------------------ ------------ ----------- --------- ------- ----- ... ------------------- ------------------- ------------------ ------------------- ------------------- ---------- ---------\n",
       "  86187 587722983890026653 185.64764412  0.45825774 17.885168 0.23773     4 ...  -66.83079688776589   5.431651350640607  676.2613794170416  62.116879849571745  4.6905186350961925  1.4382114 17.885168\n",
       " 617429 588848900463329480 211.51215914  0.33337858 16.491335 0.05383     4 ...  -83.48335106299008  0.9293608415316806  136.7473174971628   82.53184613359454   0.779495741336187  0.6795273 16.491335\n",
       " 594128 588848899929800874 219.05986017 -0.07440745 17.661882 0.13694     5 ... -251.81045450990524 -0.5189628516176182 312.04413432684754  249.64068275010177 -0.8609420807934335  0.6319866 17.661882\n",
       " 619784 588848900467655041   221.331891  0.28400507 19.199787  0.2063     4 ... -391.84432420106833  2.9410373795726867  448.2510540490064  388.72820986399864   2.449786808740405  1.1599312 19.199787\n",
       " 517646 588010358528868746 133.10434664  2.46904323  19.02159 0.21168     4 ...  443.57337261322016  26.197021488563923  412.0771454194852 -446.45737786817364  25.745429000529725  1.2697887  19.02159\n",
       " 250504 587726015084167756 214.80095093   2.0113576 19.314877 0.08258     4 ... -138.97084242037815   8.551459291074071 200.91916902577134  137.57327318029633   8.331270830872633  0.6799679 19.314877\n",
       " 105538 587722984438628396 212.43262578  0.92333403 17.884026 0.20102     5 ...  -310.3737413663091   9.327063108802347 490.61798540477486  306.96026977875385   8.789385129036933  1.2043362 17.884026\n",
       " 574914 588848899894149537 137.75408238 -0.07159713 19.748035 0.22326     4 ...   430.1346558728962 -0.7994760275212474 470.59718916445354  -433.4266020851874 -1.3152186723953165  1.1787815 19.748035\n",
       " 100171 587722984426963127 185.77367243  0.88008268  19.36547 0.18166     4 ...  -52.82883787014854   8.066995329887947  522.8422306121055   49.18439516897655   7.494001036149339  1.0408573  19.36547\n",
       "3854117 588010930294358603 130.16337942 -1.73750472 19.456196 0.12823     4 ...   286.3451463804656 -11.366179933658199  239.6517466362885  -288.0232907496668  -11.62882859716244  0.8807125 19.456196\n",
       "3860798 588010930295865909 133.50986188 -1.95012302 19.266338 0.25835     4 ...    532.556126487389 -25.002374291231266  501.7977104596989   -536.068309462863 -25.552325096968747 0.84386635 19.266338\n",
       "    ...                ...          ...         ...       ...     ...   ... ...                 ...                 ...                ...                 ...                 ...        ...       ...\n",
       " 397071 587728307495239939 176.54757777  1.42458247 18.709467   0.066     4 ...   11.76143121733055   4.857090654409992 194.87276686757102 -13.120531491940548    4.64352641668256 0.34625244 18.709467\n",
       " 377592 587727943491911801 138.24139546  1.68165673 17.688156 0.20199     4 ...   387.0895534178463  17.063997550307384  430.8749057063663  -390.1033324141191  16.591798524707496 0.82050323 17.688156\n",
       " 249917 587726015083512521 213.38186297  1.99530538  19.68728 0.18122     4 ... -288.12787679772117   18.24374826764562 439.28816174524195  285.07185635100393   17.76232960033505 0.49209023  19.68728\n",
       " 518220 588010358529851841 135.30671775  2.67856182 19.507793  0.1072     4 ...  221.11203990324952  14.708227937377922  221.9609057821668 -222.66504055503896  14.464982877695283  0.4406891 19.507793\n",
       " 231169 587726014533206225 182.61088494  1.98545573 19.750051 0.18851     4 ... -24.775883003916533  18.854968550521356  543.5093951616325  20.986728217665593  18.259330943876357  1.0543556 19.750051\n",
       " 534800 588848898836791572 175.13126624 -0.85510195 19.613483 0.18094     4 ...   44.40086666332728  -7.808153638577753  520.9247375387238 -48.034423734275805    -8.3790560252821  1.1385174 19.613483\n",
       " 508137 587729971786416371 216.06867119  -1.6272147 16.716251 0.09275     5 ...   -160.723588417955  -7.755046683318153 221.76710009877374  159.18105038481661  -7.998092835222143 0.93102646 16.716251\n",
       " 423626 587728879795437878 135.87612953  2.95826995 19.662548 0.19786     4 ...   396.3696337608627   29.42119080952503 405.93913926515074  -399.2096663667187   28.97632709045332  1.1063347 19.662548\n",
       "3909149 588010931371114750 137.08405459 -1.05471967 18.529512 0.21642     4 ...   422.8462534143134 -11.432648884609058  451.8105847496971  -426.0071043502134 -11.927809088229278  1.2170982 18.529512\n",
       " 100158 587722984426963009 185.71449136  1.03321558 18.902573 0.07447     4 ...  -21.90947096598793   3.968373974727364 219.09592247985992  20.382273960527684  3.7282622901393054 -0.0135746 18.902573\n",
       " 617636 588848900463788278 212.54545223  0.34965978 17.073904 0.12897     5 ... -202.79617487566003    2.30054830198496 319.17833263334745   200.5754861693045  1.9507521751645838  0.7383194 17.073904"
      ]
     },
     "execution_count": 12,
     "metadata": {},
     "output_type": "execute_result"
    }
   ],
   "source": [
    "fpath = findfile(ftype='gold', dryrun=dryrun, version=version, survey=survey)\n",
    "gold  = Table.read(fpath)\n",
    "gold"
   ]
  },
  {
   "cell_type": "markdown",
   "id": "d79f40a4",
   "metadata": {},
   "source": [
    "##  Cobaya"
   ]
  },
  {
   "cell_type": "code",
   "execution_count": 13,
   "id": "8704ed0a",
   "metadata": {},
   "outputs": [],
   "source": [
    "# root = '/cosma/home/durham/{}/data/GAMA4/cobaya/'.format(os.environ['USER'])"
   ]
  },
  {
   "cell_type": "code",
   "execution_count": 20,
   "id": "0f0d9ed2",
   "metadata": {},
   "outputs": [],
   "source": [
    "# dat = Table.read(root + 'schechter_chain.1.txt', format='ascii')        "
   ]
  },
  {
   "cell_type": "code",
   "execution_count": 21,
   "id": "bb86356e",
   "metadata": {},
   "outputs": [],
   "source": [
    "# samples = np.c_[dat['log10phistar'], dat['Mstar'], dat['alpha']]"
   ]
  },
  {
   "cell_type": "code",
   "execution_count": 22,
   "id": "395148b8",
   "metadata": {},
   "outputs": [],
   "source": [
    "# samples = MCSamples(samples=samples, names=['log10phistar', 'Mstar', 'alpha'], labels=['log10phistar', 'Mstar', 'alpha'])"
   ]
  },
  {
   "cell_type": "code",
   "execution_count": 18,
   "id": "544e069a",
   "metadata": {},
   "outputs": [],
   "source": [
    "# tmr_ref = {'log10phistar': -2.01, 'Mstar': -20.89, 'alpha': -1.25}"
   ]
  },
  {
   "cell_type": "code",
   "execution_count": 24,
   "id": "666eb275",
   "metadata": {},
   "outputs": [],
   "source": [
    "# g = plots.get_subplot_plotter()"
   ]
  },
  {
   "cell_type": "code",
   "execution_count": 17,
   "id": "80c16c0e",
   "metadata": {},
   "outputs": [],
   "source": [
    "# g.triangle_plot([samples], filled=True)        "
   ]
  },
  {
   "cell_type": "markdown",
   "id": "a81218df",
   "metadata": {},
   "source": [
    "# Done."
   ]
  }
 ],
 "metadata": {
  "kernelspec": {
   "display_name": "lumfn",
   "language": "python",
   "name": "lumfn"
  },
  "language_info": {
   "codemirror_mode": {
    "name": "ipython",
    "version": 3
   },
   "file_extension": ".py",
   "mimetype": "text/x-python",
   "name": "python",
   "nbconvert_exporter": "python",
   "pygments_lexer": "ipython3",
   "version": "3.9.9"
  }
 },
 "nbformat": 4,
 "nbformat_minor": 5
}
