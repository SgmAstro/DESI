{
 "cells": [
  {
   "cell_type": "code",
   "execution_count": 1,
   "id": "6903ac26",
   "metadata": {},
   "outputs": [],
   "source": [
    "import os\n",
    "import sys\n",
    "import pylab as pl\n",
    "import numpy as np\n",
    "import matplotlib.pyplot as plt\n",
    "import numpy as np\n",
    "\n",
    "# from   getdist       import plots, MCSamples \n",
    "from   astropy.table import Table"
   ]
  },
  {
   "cell_type": "code",
   "execution_count": 2,
   "id": "b08a734a",
   "metadata": {},
   "outputs": [],
   "source": [
    "sys.path.append(os.environ['HOME'] + '/DESI/')"
   ]
  },
  {
   "cell_type": "code",
   "execution_count": 3,
   "id": "b5a89939",
   "metadata": {},
   "outputs": [],
   "source": [
    "import pubplot\n",
    "\n",
    "from   schechter     import schechter, named_schechter\n",
    "from   findfile      import findfile"
   ]
  },
  {
   "cell_type": "code",
   "execution_count": 4,
   "id": "24177444",
   "metadata": {},
   "outputs": [],
   "source": [
    "version = 'GAMA4'\n",
    "survey  = 'gama'\n",
    "dryrun  =  False"
   ]
  },
  {
   "cell_type": "code",
   "execution_count": 5,
   "id": "c32f4b22",
   "metadata": {},
   "outputs": [
    {
     "data": {
      "text/plain": [
       "'/cosma/home/durham/dc-moor2/data/GAMA4/gama_gold.fits'"
      ]
     },
     "execution_count": 5,
     "metadata": {},
     "output_type": "execute_result"
    }
   ],
   "source": [
    "fpath = findfile(ftype='gold', dryrun=dryrun, version=version, survey=survey)\n",
    "fpath"
   ]
  },
  {
   "cell_type": "code",
   "execution_count": 6,
   "id": "e84bc2a9",
   "metadata": {},
   "outputs": [
    {
     "data": {
      "text/plain": [
       "OrderedDict([('VERSION', 'v46'),\n",
       "             ('DATE', '2015-05-22'),\n",
       "             ('AREA', 180.0),\n",
       "             ('GOLD_NGAL', 113687)])"
      ]
     },
     "execution_count": 6,
     "metadata": {},
     "output_type": "execute_result"
    }
   ],
   "source": [
    "gold = Table.read(fpath)\n",
    "gold.meta"
   ]
  },
  {
   "cell_type": "markdown",
   "id": "78bce524",
   "metadata": {},
   "source": [
    "##  VMAX"
   ]
  },
  {
   "cell_type": "code",
   "execution_count": 7,
   "id": "b42bc35d",
   "metadata": {},
   "outputs": [
    {
     "data": {
      "text/html": [
       "<div><i>Table length=113602</i>\n",
       "<table id=\"table140099458095808\" class=\"table-striped table-bordered table-condensed\">\n",
       "<thead><tr><th>ZMIN</th><th>ZMAX</th><th>MCOLOR_0P0</th><th>FIELD</th><th>IN_D8LUMFN</th><th>ZGAMA</th><th>WEIGHT_STEPWISE</th><th>VMAX</th><th>VZ</th></tr></thead>\n",
       "<thead><tr><th></th><th></th><th>mag</th><th></th><th></th><th></th><th></th><th></th><th></th></tr></thead>\n",
       "<thead><tr><th>float64</th><th>float64</th><th>float64</th><th>bytes3</th><th>int64</th><th>float32</th><th>float64</th><th>float64</th><th>float64</th></tr></thead>\n",
       "<tr><td>0.03903000056743622</td><td>0.26298999786376953</td><td>-20.58928833764452</td><td>G15</td><td>0</td><td>0.12701</td><td>3.237251617236047</td><td>7594841.612883208</td><td>907652.8220619794</td></tr>\n",
       "<tr><td>0.03903000056743622</td><td>0.26298999786376953</td><td>-21.03493761394448</td><td>G15</td><td>0</td><td>0.17396</td><td>4.584470153194736</td><td>7594841.612883208</td><td>2307888.9716408947</td></tr>\n",
       "<tr><td>0.03903000056743622</td><td>0.24464471168905688</td><td>-20.000191276396148</td><td>G12</td><td>0</td><td>0.10459</td><td>2.405547655697604</td><td>6182281.699470983</td><td>501391.55846618454</td></tr>\n",
       "<tr><td>0.03903000056743622</td><td>0.26298999786376953</td><td>-20.705758822315133</td><td>G15</td><td>0</td><td>0.23108</td><td>8.627247871084121</td><td>7594841.612883208</td><td>5251712.362828237</td></tr>\n",
       "<tr><td>0.03903000056743622</td><td>0.07018213606013964</td><td>-16.855447574665398</td><td>G9</td><td>0</td><td>0.05952</td><td>1.3948224174664285</td><td>134839.73945735453</td><td>71708.93877577073</td></tr>\n",
       "<tr><td>0.03903000056743622</td><td>0.2216890268645442</td><td>-19.72913888982642</td><td>G15</td><td>0</td><td>0.21823</td><td>7.165775866315474</td><td>4662130.483046405</td><td>4455950.891504042</td></tr>\n",
       "<tr><td>0.03903000056743622</td><td>0.26298999786376953</td><td>-20.751634105809124</td><td>G15</td><td>0</td><td>0.15636</td><td>4.05536356515968</td><td>7594841.612883208</td><td>1686857.3683655544</td></tr>\n",
       "<tr><td>0.03903000056743622</td><td>0.17434978369754192</td><td>-18.81811783975633</td><td>G15</td><td>0</td><td>0.15529</td><td>4.05536356515968</td><td>2323052.9281588057</td><td>1653000.7432942332</td></tr>\n",
       "<tr><td>0.03903000056743622</td><td>0.16222807582640453</td><td>-18.71963500289412</td><td>G12</td><td>0</td><td>0.07653</td><td>1.8026043529105298</td><td>1880329.9631628797</td><td>182534.33495960123</td></tr>\n",
       "<tr><td>...</td><td>...</td><td>...</td><td>...</td><td>...</td><td>...</td><td>...</td><td>...</td><td>...</td></tr>\n",
       "<tr><td>0.03903000056743622</td><td>0.14367989806100454</td><td>-18.432963012940668</td><td>G9</td><td>0</td><td>0.11035</td><td>2.6417520360273783</td><td>1312961.9350181941</td><td>591702.3544728175</td></tr>\n",
       "<tr><td>0.03903000056743622</td><td>0.26298999786376953</td><td>-20.389711049095187</td><td>G9</td><td>0</td><td>0.26032</td><td>10.589502667205137</td><td>7594841.612883208</td><td>7377971.61455662</td></tr>\n",
       "<tr><td>0.03903000056743622</td><td>0.0977999887835141</td><td>-17.57117325902682</td><td>G15</td><td>0</td><td>0.0565</td><td>1.288328868456541</td><td>406499.9793603003</td><td>57349.071905319404</td></tr>\n",
       "<tr><td>0.03903000056743622</td><td>0.26298999786376953</td><td>-20.314892121783526</td><td>G15</td><td>0</td><td>0.13686</td><td>3.237251617236047</td><td>7594841.612883208</td><td>1135743.309222208</td></tr>\n",
       "<tr><td>0.03903000056743622</td><td>0.26298999786376953</td><td>-20.209138977450696</td><td>G9</td><td>0</td><td>0.16632</td><td>4.584470153194736</td><td>7594841.612883208</td><td>2023189.5796906608</td></tr>\n",
       "<tr><td>0.03903000056743622</td><td>0.17429518907967892</td><td>-19.14054556628101</td><td>G15</td><td>0</td><td>0.13767</td><td>3.6183475269178893</td><td>2320925.2242693035</td><td>1155947.6810623573</td></tr>\n",
       "<tr><td>0.03903000056743622</td><td>0.26298999786376953</td><td>-20.441205944684796</td><td>G15</td><td>0</td><td>0.17923</td><td>5.257448359247273</td><td>7594841.612883208</td><td>2518260.8619297077</td></tr>\n",
       "<tr><td>0.03903000056743622</td><td>0.1613172095735697</td><td>-18.694623439709186</td><td>G9</td><td>0</td><td>0.1387</td><td>3.6183475269178893</td><td>1849424.9235072066</td><td>1181965.0305328444</td></tr>\n",
       "<tr><td>0.03903000056743622</td><td>0.19795104480667924</td><td>-19.467018193267315</td><td>G15</td><td>0</td><td>0.13972</td><td>3.6183475269178893</td><td>3362104.305930778</td><td>1208090.7858083907</td></tr>\n",
       "<tr><td>0.03903000056743622</td><td>0.21850994354621306</td><td>-19.351694164275393</td><td>G9</td><td>0</td><td>0.20465</td><td>6.092189398390653</td><td>4472420.440442431</td><td>3702136.645550621</td></tr>\n",
       "</table></div>"
      ],
      "text/plain": [
       "<Table length=113602>\n",
       "        ZMIN                ZMAX             MCOLOR_0P0     FIELD  IN_D8LUMFN  ZGAMA   WEIGHT_STEPWISE          VMAX                VZ        \n",
       "                                                mag                                                                                           \n",
       "      float64             float64             float64       bytes3   int64    float32      float64            float64            float64      \n",
       "------------------- ------------------- ------------------- ------ ---------- ------- ------------------ ------------------ ------------------\n",
       "0.03903000056743622 0.26298999786376953  -20.58928833764452    G15          0 0.12701  3.237251617236047  7594841.612883208  907652.8220619794\n",
       "0.03903000056743622 0.26298999786376953  -21.03493761394448    G15          0 0.17396  4.584470153194736  7594841.612883208 2307888.9716408947\n",
       "0.03903000056743622 0.24464471168905688 -20.000191276396148    G12          0 0.10459  2.405547655697604  6182281.699470983 501391.55846618454\n",
       "0.03903000056743622 0.26298999786376953 -20.705758822315133    G15          0 0.23108  8.627247871084121  7594841.612883208  5251712.362828237\n",
       "0.03903000056743622 0.07018213606013964 -16.855447574665398     G9          0 0.05952 1.3948224174664285 134839.73945735453  71708.93877577073\n",
       "0.03903000056743622  0.2216890268645442  -19.72913888982642    G15          0 0.21823  7.165775866315474  4662130.483046405  4455950.891504042\n",
       "0.03903000056743622 0.26298999786376953 -20.751634105809124    G15          0 0.15636   4.05536356515968  7594841.612883208 1686857.3683655544\n",
       "0.03903000056743622 0.17434978369754192  -18.81811783975633    G15          0 0.15529   4.05536356515968 2323052.9281588057 1653000.7432942332\n",
       "0.03903000056743622 0.16222807582640453  -18.71963500289412    G12          0 0.07653 1.8026043529105298 1880329.9631628797 182534.33495960123\n",
       "                ...                 ...                 ...    ...        ...     ...                ...                ...                ...\n",
       "0.03903000056743622 0.14367989806100454 -18.432963012940668     G9          0 0.11035 2.6417520360273783 1312961.9350181941  591702.3544728175\n",
       "0.03903000056743622 0.26298999786376953 -20.389711049095187     G9          0 0.26032 10.589502667205137  7594841.612883208   7377971.61455662\n",
       "0.03903000056743622  0.0977999887835141  -17.57117325902682    G15          0  0.0565  1.288328868456541  406499.9793603003 57349.071905319404\n",
       "0.03903000056743622 0.26298999786376953 -20.314892121783526    G15          0 0.13686  3.237251617236047  7594841.612883208  1135743.309222208\n",
       "0.03903000056743622 0.26298999786376953 -20.209138977450696     G9          0 0.16632  4.584470153194736  7594841.612883208 2023189.5796906608\n",
       "0.03903000056743622 0.17429518907967892  -19.14054556628101    G15          0 0.13767 3.6183475269178893 2320925.2242693035 1155947.6810623573\n",
       "0.03903000056743622 0.26298999786376953 -20.441205944684796    G15          0 0.17923  5.257448359247273  7594841.612883208 2518260.8619297077\n",
       "0.03903000056743622  0.1613172095735697 -18.694623439709186     G9          0  0.1387 3.6183475269178893 1849424.9235072066 1181965.0305328444\n",
       "0.03903000056743622 0.19795104480667924 -19.467018193267315    G15          0 0.13972 3.6183475269178893  3362104.305930778 1208090.7858083907\n",
       "0.03903000056743622 0.21850994354621306 -19.351694164275393     G9          0 0.20465  6.092189398390653  4472420.440442431  3702136.645550621"
      ]
     },
     "execution_count": 7,
     "metadata": {},
     "output_type": "execute_result"
    }
   ],
   "source": [
    "fpath = findfile(ftype='vmax', dryrun=dryrun, version=version, survey=survey)\n",
    "vmax  = Table.read(fpath)\n",
    "vmax"
   ]
  },
  {
   "cell_type": "markdown",
   "id": "5b735ff8",
   "metadata": {},
   "source": [
    "##  LUMFN"
   ]
  },
  {
   "cell_type": "code",
   "execution_count": 8,
   "id": "d921efbd",
   "metadata": {},
   "outputs": [
    {
     "data": {
      "text/html": [
       "<div><i>Table length=49</i>\n",
       "<table id=\"table140099458095952\" class=\"table-striped table-bordered table-condensed\">\n",
       "<thead><tr><th>MEDIAN_M</th><th>PHI_N</th><th>PHI_N_ERROR</th><th>PHI_IVMAX</th><th>PHI_IVMAX_ERROR</th><th>N</th><th>V_ON_VMAX</th></tr></thead>\n",
       "<thead><tr><th>float64</th><th>float64</th><th>float64</th><th>float64</th><th>float64</th><th>float64</th><th>float64</th></tr></thead>\n",
       "<tr><td>-25.4</td><td>0.0</td><td>0.0</td><td>0.0</td><td>0.0</td><td>0.0</td><td>--</td></tr>\n",
       "<tr><td>-25.200000000000003</td><td>0.0</td><td>0.0</td><td>0.0</td><td>0.0</td><td>0.0</td><td>--</td></tr>\n",
       "<tr><td>-25.0</td><td>0.0</td><td>0.0</td><td>0.0</td><td>0.0</td><td>0.0</td><td>--</td></tr>\n",
       "<tr><td>-24.800000000000004</td><td>0.0</td><td>0.0</td><td>0.0</td><td>0.0</td><td>0.0</td><td>--</td></tr>\n",
       "<tr><td>-24.6</td><td>0.0</td><td>0.0</td><td>0.0</td><td>0.0</td><td>0.0</td><td>--</td></tr>\n",
       "<tr><td>-24.400000000000006</td><td>0.0</td><td>0.0</td><td>0.0</td><td>0.0</td><td>0.0</td><td>--</td></tr>\n",
       "<tr><td>-24.200000000000003</td><td>0.0</td><td>0.0</td><td>0.0</td><td>0.0</td><td>0.0</td><td>--</td></tr>\n",
       "<tr><td>-24.000000000000007</td><td>0.0</td><td>0.0</td><td>0.0</td><td>0.0</td><td>0.0</td><td>--</td></tr>\n",
       "<tr><td>-23.800000000000004</td><td>0.0</td><td>0.0</td><td>0.0</td><td>0.0</td><td>0.0</td><td>--</td></tr>\n",
       "<tr><td>-23.60000000000001</td><td>0.0</td><td>0.0</td><td>0.0</td><td>0.0</td><td>0.0</td><td>--</td></tr>\n",
       "<tr><td>...</td><td>...</td><td>...</td><td>...</td><td>...</td><td>...</td><td>...</td></tr>\n",
       "<tr><td>-17.806770806245083</td><td>0.000992779097224338</td><td>2.5565362424426706e-05</td><td>0.01381931287635131</td><td>0.0003588176756506515</td><td>1508.0</td><td>0.07389117751531793</td></tr>\n",
       "<tr><td>-17.60540082245031</td><td>0.0007972516490309505</td><td>2.2909908498671075e-05</td><td>0.014698315005989913</td><td>0.0004251688564666649</td><td>1211.0</td><td>0.05518194314959416</td></tr>\n",
       "<tr><td>-17.403713154375016</td><td>0.0006827002147358345</td><td>2.1200234328510514e-05</td><td>0.01687768894159189</td><td>0.0005273854139469358</td><td>1037.0</td><td>0.041027935766775755</td></tr>\n",
       "<tr><td>-17.212893850404157</td><td>0.0005516902410305008</td><td>1.9057823143510443e-05</td><td>0.018073731805247826</td><td>0.0006278194700539957</td><td>838.0</td><td>0.030985802528041846</td></tr>\n",
       "<tr><td>-17.016257753703133</td><td>0.00035155440180225235</td><td>1.5213246828863214e-05</td><td>0.015731810903988393</td><td>0.0006850130616316443</td><td>534.0</td><td>0.022844181546381424</td></tr>\n",
       "<tr><td>-16.806631082779923</td><td>0.00025543653164658033</td><td>1.2967825142119382e-05</td><td>0.01604767169743556</td><td>0.0008200072856345317</td><td>388.0</td><td>0.016161457253183884</td></tr>\n",
       "<tr><td>-16.604055320370207</td><td>0.0002383196506599538</td><td>1.2525802748911848e-05</td><td>0.021058990156774846</td><td>0.001113913779532084</td><td>362.0</td><td>0.01144087266008334</td></tr>\n",
       "<tr><td>-16.407765796266453</td><td>0.00020737759656874435</td><td>1.1684403871696542e-05</td><td>0.02657909553212204</td><td>0.001507698282257368</td><td>315.0</td><td>0.007817437918952234</td></tr>\n",
       "<tr><td>-16.228752020563036</td><td>0.00010796801853102881</td><td>8.43088580882475e-06</td><td>0.0207362383674028</td><td>0.0016335749191855819</td><td>164.0</td><td>0.005359130088187801</td></tr>\n",
       "<tr><td>-16.007578916653898</td><td>5.727571714755796e-05</td><td>6.140601429572092e-06</td><td>0.019427639959321768</td><td>0.002111248913362894</td><td>87.0</td><td>0.003012505265889661</td></tr>\n",
       "</table></div>"
      ],
      "text/plain": [
       "<Table length=49>\n",
       "      MEDIAN_M              PHI_N               PHI_N_ERROR            PHI_IVMAX          PHI_IVMAX_ERROR       N         V_ON_VMAX      \n",
       "      float64              float64                float64               float64               float64        float64       float64       \n",
       "------------------- ---------------------- ---------------------- -------------------- --------------------- ------- --------------------\n",
       "              -25.4                    0.0                    0.0                  0.0                   0.0     0.0                   --\n",
       "-25.200000000000003                    0.0                    0.0                  0.0                   0.0     0.0                   --\n",
       "              -25.0                    0.0                    0.0                  0.0                   0.0     0.0                   --\n",
       "-24.800000000000004                    0.0                    0.0                  0.0                   0.0     0.0                   --\n",
       "              -24.6                    0.0                    0.0                  0.0                   0.0     0.0                   --\n",
       "-24.400000000000006                    0.0                    0.0                  0.0                   0.0     0.0                   --\n",
       "-24.200000000000003                    0.0                    0.0                  0.0                   0.0     0.0                   --\n",
       "-24.000000000000007                    0.0                    0.0                  0.0                   0.0     0.0                   --\n",
       "-23.800000000000004                    0.0                    0.0                  0.0                   0.0     0.0                   --\n",
       " -23.60000000000001                    0.0                    0.0                  0.0                   0.0     0.0                   --\n",
       "                ...                    ...                    ...                  ...                   ...     ...                  ...\n",
       "-17.806770806245083   0.000992779097224338 2.5565362424426706e-05  0.01381931287635131 0.0003588176756506515  1508.0  0.07389117751531793\n",
       " -17.60540082245031  0.0007972516490309505 2.2909908498671075e-05 0.014698315005989913 0.0004251688564666649  1211.0  0.05518194314959416\n",
       "-17.403713154375016  0.0006827002147358345 2.1200234328510514e-05  0.01687768894159189 0.0005273854139469358  1037.0 0.041027935766775755\n",
       "-17.212893850404157  0.0005516902410305008 1.9057823143510443e-05 0.018073731805247826 0.0006278194700539957   838.0 0.030985802528041846\n",
       "-17.016257753703133 0.00035155440180225235 1.5213246828863214e-05 0.015731810903988393 0.0006850130616316443   534.0 0.022844181546381424\n",
       "-16.806631082779923 0.00025543653164658033 1.2967825142119382e-05  0.01604767169743556 0.0008200072856345317   388.0 0.016161457253183884\n",
       "-16.604055320370207  0.0002383196506599538 1.2525802748911848e-05 0.021058990156774846  0.001113913779532084   362.0  0.01144087266008334\n",
       "-16.407765796266453 0.00020737759656874435 1.1684403871696542e-05  0.02657909553212204  0.001507698282257368   315.0 0.007817437918952234\n",
       "-16.228752020563036 0.00010796801853102881   8.43088580882475e-06   0.0207362383674028 0.0016335749191855819   164.0 0.005359130088187801\n",
       "-16.007578916653898  5.727571714755796e-05  6.140601429572092e-06 0.019427639959321768  0.002111248913362894    87.0 0.003012505265889661"
      ]
     },
     "execution_count": 8,
     "metadata": {},
     "output_type": "execute_result"
    }
   ],
   "source": [
    "fpath = findfile(ftype='lumfn', dryrun=dryrun, version=version, survey=survey)\n",
    "lumfn = Table.read(fpath)\n",
    "lumfn"
   ]
  },
  {
   "cell_type": "code",
   "execution_count": 9,
   "id": "84f69c28",
   "metadata": {},
   "outputs": [
    {
     "data": {
      "text/plain": [
       "('MEDIAN_M',\n",
       " 'PHI_N',\n",
       " 'PHI_N_ERROR',\n",
       " 'PHI_IVMAX',\n",
       " 'PHI_IVMAX_ERROR',\n",
       " 'N',\n",
       " 'V_ON_VMAX')"
      ]
     },
     "execution_count": 9,
     "metadata": {},
     "output_type": "execute_result"
    }
   ],
   "source": [
    "lumfn.dtype.names"
   ]
  },
  {
   "cell_type": "code",
   "execution_count": 10,
   "id": "368c8856",
   "metadata": {},
   "outputs": [],
   "source": [
    "##  HACK\n",
    "#offset = 0.12\n",
    "offset = 0"
   ]
  },
  {
   "cell_type": "code",
   "execution_count": 11,
   "id": "2a17e9d8",
   "metadata": {},
   "outputs": [],
   "source": [
    "TMR_stepwise = Table.read('/cosma/home/durham/dc-moor2/DESI/data/TMR_LF_all', format='ascii')"
   ]
  },
  {
   "cell_type": "code",
   "execution_count": 12,
   "id": "3246d5f8",
   "metadata": {},
   "outputs": [],
   "source": [
    "TMR_stepwise['MR'] = TMR_stepwise['col1']\n",
    "TMR_stepwise['PHI_N'] = TMR_stepwise['col2']\n",
    "del TMR_stepwise['col1']\n",
    "del TMR_stepwise['col2']"
   ]
  },
  {
   "cell_type": "code",
   "execution_count": 13,
   "id": "13ed5ee8",
   "metadata": {},
   "outputs": [
    {
     "name": "stderr",
     "output_type": "stream",
     "text": [
      "/tmp/ipykernel_2588/1976974179.py:10: RuntimeWarning: divide by zero encountered in log10\n",
      "  pl.errorbar(lumfn['MEDIAN_M'] + offset , np.log10(lumfn['PHI_N']), lumfn['PHI_N_ERROR'] / lumfn['PHI_N'] / np.log(10.), label='RAW', alpha=0.4, lw=2)\n",
      "/tmp/ipykernel_2588/1976974179.py:10: RuntimeWarning: invalid value encountered in true_divide\n",
      "  pl.errorbar(lumfn['MEDIAN_M'] + offset , np.log10(lumfn['PHI_N']), lumfn['PHI_N_ERROR'] / lumfn['PHI_N'] / np.log(10.), label='RAW', alpha=0.4, lw=2)\n",
      "/tmp/ipykernel_2588/1976974179.py:11: RuntimeWarning: divide by zero encountered in log10\n",
      "  pl.errorbar(lumfn['MEDIAN_M'] + offset,  np.log10(lumfn['PHI_IVMAX']), lumfn['PHI_IVMAX_ERROR'] / lumfn['PHI_IVMAX'] / np.log(10.), label='IVMAX', lw=2)\n",
      "/tmp/ipykernel_2588/1976974179.py:11: RuntimeWarning: invalid value encountered in true_divide\n",
      "  pl.errorbar(lumfn['MEDIAN_M'] + offset,  np.log10(lumfn['PHI_IVMAX']), lumfn['PHI_IVMAX_ERROR'] / lumfn['PHI_IVMAX'] / np.log(10.), label='IVMAX', lw=2)\n"
     ]
    },
    {
     "data": {
      "text/plain": [
       "Text(0.5, 1.0, 'GAMA')"
      ]
     },
     "execution_count": 13,
     "metadata": {},
     "output_type": "execute_result"
    },
    {
     "data": {
      "image/png": "[encoded data removed]",
      "text/plain": [
       "<Figure size 432x288 with 1 Axes>"
      ]
     },
     "metadata": {
      "needs_background": "light"
     },
     "output_type": "display_data"
    }
   ],
   "source": [
    "Ms = np.arange(-23., -15., 0.01)\n",
    "sc = named_schechter(Ms, named_type='TMR')\n",
    "\n",
    "pl.plot(Ms, np.log10(sc), label='TMR', lw=2)\n",
    "\n",
    "plt.plot(TMR_stepwise['MR'], TMR_stepwise['PHI_N'], lw=0.5, ls='-', color='black', label='TMR STEPWISE')\n",
    "plt.scatter(TMR_stepwise['MR'], TMR_stepwise['PHI_N'], s=1, color='black')\n",
    "\n",
    "\n",
    "pl.errorbar(lumfn['MEDIAN_M'] + offset , np.log10(lumfn['PHI_N']), lumfn['PHI_N_ERROR'] / lumfn['PHI_N'] / np.log(10.), label='RAW', alpha=0.4, lw=2)\n",
    "pl.errorbar(lumfn['MEDIAN_M'] + offset,  np.log10(lumfn['PHI_IVMAX']), lumfn['PHI_IVMAX_ERROR'] / lumfn['PHI_IVMAX'] / np.log(10.), label='IVMAX', lw=2)\n",
    "\n",
    "pl.xlabel(r'$M_r^e - 5 \\log_{10}|h|$')\n",
    "pl.ylabel(r'$\\log_{10} \\left[ \\frac{\\phi_\\delta(M)}{h^{-3} \\ {\\rm Mpc}^{3} \\ {\\rm Mag}^{}} \\right] $')\n",
    "\n",
    "pl.ylim(-4.25, -.75)\n",
    "pl.xlim(-23., -15.5)\n",
    "\n",
    "pl.legend(frameon=False, loc=2)\n",
    "pl.title(survey.upper())"
   ]
  },
  {
   "cell_type": "code",
   "execution_count": 14,
   "id": "4d676abc",
   "metadata": {},
   "outputs": [
    {
     "data": {
      "text/html": [
       "<div><i>Table length=113687</i>\n",
       "<table id=\"table140099293170128\" class=\"table-striped table-bordered table-condensed\">\n",
       "<thead><tr><th>CATAID</th><th>OBJID</th><th>RA</th><th>DEC</th><th>R_PETRO</th><th>ZGAMA</th><th>NQ</th><th>SPECID</th><th>SURVEY_CLASS</th><th>UMAG_DRED_SDSS</th><th>GMAG_DRED_SDSS</th><th>RMAG_DRED_SDSS</th><th>IMAG_DRED_SDSS</th><th>ZMAG_DRED_SDSS</th><th>LUMDIST</th><th>DISTMOD</th><th>FIELD</th><th>IN_D8LUMFN</th><th>CARTESIAN_X</th><th>CARTESIAN_Y</th><th>CARTESIAN_Z</th><th>ROTCARTESIAN_X</th><th>ROTCARTESIAN_Y</th><th>ROTCARTESIAN_Z</th><th>GMR</th><th>DETMAG</th></tr></thead>\n",
       "<thead><tr><th></th><th></th><th>deg</th><th>deg</th><th>mag</th><th></th><th></th><th></th><th></th><th>mag</th><th>mag</th><th>mag</th><th>mag</th><th>mag</th><th>Mpc</th><th></th><th></th><th></th><th></th><th></th><th></th><th></th><th></th><th></th><th>mag</th><th>mag</th></tr></thead>\n",
       "<thead><tr><th>int32</th><th>int64</th><th>float64</th><th>float64</th><th>float32</th><th>float32</th><th>int16</th><th>bytes33</th><th>int16</th><th>float32</th><th>float32</th><th>float32</th><th>float32</th><th>float32</th><th>float64</th><th>float64</th><th>bytes3</th><th>int64</th><th>float64</th><th>float64</th><th>float64</th><th>float64</th><th>float64</th><th>float64</th><th>float32</th><th>float32</th></tr></thead>\n",
       "<tr><td>106344</td><td>587722984440004876</td><td>215.64134954</td><td>0.93323718</td><td>17.573008</td><td>0.12701</td><td>5</td><td>342445947122378752</td><td>6</td><td>20.165575</td><td>18.441055</td><td>17.595537</td><td>17.025692</td><td>16.703346</td><td>418.56423036389634</td><td>38.10881055838725</td><td>G15</td><td>0</td><td>-301.78423007842724</td><td>-216.38588301606222</td><td>6.049013360961878</td><td>303.5970652971174</td><td>213.8433630315318</td><td>5.744604917097719</td><td>0.8455181</td><td>17.573008</td></tr>\n",
       "<tr><td>260795</td><td>587726015619727382</td><td>211.78756784</td><td>2.55349615</td><td>17.912563</td><td>0.17396</td><td>4</td><td>G15_Y4_210_203</td><td>6</td><td>20.778728</td><td>19.030544</td><td>17.856585</td><td>17.36017</td><td>17.054983</td><td>591.3909313200975</td><td>38.85937330277805</td><td>G15</td><td>0</td><td>-427.77208242369824</td><td>-265.10144403550305</td><td>22.44347859715359</td><td>430.00604234937896</td><td>261.49894974816976</td><td>22.012330317016836</td><td>1.1739597</td><td>17.912563</td></tr>\n",
       "<tr><td>184719</td><td>587725041701486677</td><td>177.57860331</td><td>-1.54940367</td><td>17.699133</td><td>0.10459</td><td>4</td><td>G12_Y1_CS1_069</td><td>6</td><td>20.19226</td><td>18.603931</td><td>17.717958</td><td>17.316874</td><td>16.945753</td><td>339.3632106075359</td><td>37.6533237995703</td><td>G12</td><td>0</td><td>-306.84349212203625</td><td>12.9753442678238</td><td>-8.30716222246546</td><td>306.715195186436</td><td>-15.552268996532625</td><td>-8.6147043774588</td><td>0.885973</td><td>17.699133</td></tr>\n",
       "<tr><td>48732</td><td>587722982293766351</td><td>218.36773907</td><td>-0.69625784</td><td>18.961176</td><td>0.23108</td><td>4</td><td>G15_Y1_FS1_160</td><td>6</td><td>22.831015</td><td>20.323303</td><td>19.007883</td><td>18.436161</td><td>18.149174</td><td>813.8388989454828</td><td>39.552692219633755</td><td>G15</td><td>0</td><td>-518.2746958279015</td><td>-410.30453380391987</td><td>-8.033206403726378</td><td>521.6945157661447</td><td>405.9367254567815</td><td>-8.5563044379126</td><td>1.3154202</td><td>18.961176</td></tr>\n",
       "<tr><td>425675</td><td>587728880329425280</td><td>129.29884863</td><td>2.83270413</td><td>19.440979</td><td>0.05952</td><td>4</td><td>G09_Y3_006_241</td><td>5</td><td>21.453972</td><td>19.844254</td><td>19.449722</td><td>19.18651</td><td>19.317953</td><td>186.91168948016798</td><td>36.35818231529389</td><td>G9</td><td>0</td><td>-111.59650411570561</td><td>136.34987505532177</td><td>8.718242501962175</td><td>110.45596009917199</td><td>-137.28243815480042</td><td>8.607494618941777</td><td>0.39453125</td><td>19.440979</td></tr>\n",
       "<tr><td>278257</td><td>587726031190950594</td><td>216.91756841</td><td>1.06566326</td><td>19.760365</td><td>0.21823</td><td>4</td><td>G15_Y3_050_047</td><td>5</td><td>24.44655</td><td>20.842663</td><td>19.744944</td><td>19.276897</td><td>18.938509</td><td>762.6665917295826</td><td>39.41167361364497</td><td>G15</td><td>0</td><td>-500.43658816159666</td><td>-375.97842427539047</td><td>11.643344574350653</td><td>503.58844801258505</td><td>371.761661002609</td><td>11.138411069776538</td><td>1.0977192</td><td>19.760365</td></tr>\n",
       "<tr><td>14820</td><td>588848901000855684</td><td>212.91904891</td><td>0.69486757</td><td>17.922241</td><td>0.15636</td><td>4</td><td>G15_Y6_090_157</td><td>6</td><td>20.801994</td><td>18.933775</td><td>17.865992</td><td>17.437553</td><td>17.11587</td><td>525.5176134576478</td><td>38.60293638297517</td><td>G15</td><td>0</td><td>-381.4622162375113</td><td>-246.95891463155448</td><td>5.511413168009388</td><td>383.5284645854374</td><td>243.74604772432454</td><td>5.126858633317521</td><td>1.0677834</td><td>17.922241</td></tr>\n",
       "<tr><td>363503</td><td>587726033339678771</td><td>219.73737073</td><td>2.61015832</td><td>19.557497</td><td>0.15529</td><td>4</td><td>G15_Y4_207_291</td><td>5</td><td>21.470695</td><td>20.0956</td><td>19.49566</td><td>19.182695</td><td>18.949228</td><td>521.5543840989811</td><td>38.58649800180555</td><td>G15</td><td>0</td><td>-346.79623767189383</td><td>-288.2980928984052</td><td>20.55902776739697</td><td>349.2260494229411</td><td>285.374950234491</td><td>20.208875230603688</td><td>0.59993935</td><td>19.557497</td></tr>\n",
       "<tr><td>144119</td><td>587724650867196010</td><td>178.89996855</td><td>-1.40041305</td><td>18.145805</td><td>0.07653</td><td>4</td><td>G12_Y1_DS1_043</td><td>6</td><td>20.755217</td><td>18.91071</td><td>18.249033</td><td>17.711092</td><td>17.630264</td><td>243.3701083754291</td><td>36.93133617750622</td><td>G12</td><td>0</td><td>-225.95987320021115</td><td>4.338775287698953</td><td>-5.524988535650823</td><td>225.9098042022409</td><td>-6.23660941136462</td><td>-5.751507135263965</td><td>0.6616764</td><td>18.145805</td></tr>\n",
       "<tr><td>...</td><td>...</td><td>...</td><td>...</td><td>...</td><td>...</td><td>...</td><td>...</td><td>...</td><td>...</td><td>...</td><td>...</td><td>...</td><td>...</td><td>...</td><td>...</td><td>...</td><td>...</td><td>...</td><td>...</td><td>...</td><td>...</td><td>...</td><td>...</td><td>...</td><td>...</td></tr>\n",
       "<tr><td>322975</td><td>587726032763421092</td><td>129.68904095</td><td>1.44492339</td><td>19.228645</td><td>0.11035</td><td>4</td><td>G09_Y1_AN2_207</td><td>6</td><td>20.846</td><td>19.774734</td><td>19.176435</td><td>18.786674</td><td>18.605053</td><td>359.50122598895257</td><td>37.778501878870294</td><td>G9</td><td>0</td><td>-206.70230015225908</td><td>249.07104308734233</td><td>8.164256261372975</td><td>204.61097818526346</td><td>-250.79848643558174</td><td>7.959100504686543</td><td>0.598299</td><td>19.228645</td></tr>\n",
       "<tr><td>381970</td><td>587727944027210565</td><td>134.65443239</td><td>1.86667765</td><td>19.56934</td><td>0.26032</td><td>4</td><td>G09_Y3_008_312</td><td>5</td><td>23.034824</td><td>20.888203</td><td>19.588581</td><td>19.104715</td><td>18.854475</td><td>932.6497109112582</td><td>39.84859279974356</td><td>G9</td><td>0</td><td>-519.8248109302504</td><td>526.1333672265963</td><td>24.105026483088565</td><td>515.4110393425884</td><td>-530.4811605459904</td><td>23.58824493661033</td><td>1.2996216</td><td>19.56934</td></tr>\n",
       "<tr><td>512380</td><td>587729972324401567</td><td>218.67148932999999</td><td>-1.16374468</td><td>18.610968</td><td>0.0565</td><td>4</td><td>G15_Y3_009_210</td><td>6</td><td>19.721464</td><td>18.542887</td><td>18.15982</td><td>17.860634</td><td>17.947243</td><td>177.0267483732864</td><td>36.24019446156176</td><td>G15</td><td>0</td><td>-130.79376684986752</td><td>-104.6787517854331</td><td>-3.403099310871418</td><td>131.66494074164746</td><td>103.57643515327477</td><td>-3.5351191622648903</td><td>0.38306618</td><td>18.610968</td></tr>\n",
       "<tr><td>251763</td><td>587726015086526791</td><td>220.24026451</td><td>2.03939719</td><td>18.040543</td><td>0.13686</td><td>4</td><td>G15_Y5_028_032</td><td>6</td><td>21.57781</td><td>19.040588</td><td>17.957603</td><td>17.43668</td><td>17.008638</td><td>454.04922430551795</td><td>38.28551469033634</td><td>G15</td><td>0</td><td>-304.67728226927596</td><td>-257.8395000261253</td><td>14.212923630085392</td><td>306.8463960908887</td><td>255.27121698035782</td><td>13.905261242765189</td><td>1.0829849</td><td>18.040543</td></tr>\n",
       "<tr><td>3851795</td><td>588010930293899830</td><td>129.11976946</td><td>-1.75407063</td><td>18.34769</td><td>0.16632</td><td>4</td><td>G09_Y4_217_161</td><td>6</td><td>20.599863</td><td>18.993385</td><td>18.255432</td><td>17.81146</td><td>17.57267</td><td>562.6380141352388</td><td>38.75114535769761</td><td>G9</td><td>0</td><td>-304.2273877175697</td><td>374.0879172616082</td><td>-14.766173399308618</td><td>301.05948502049756</td><td>-376.63012833088794</td><td>-15.06804791917205</td><td>0.7379532</td><td>18.34769</td></tr>\n",
       "<tr><td>239904</td><td>587726014549328433</td><td>219.46821222</td><td>1.61619724</td><td>19.219454</td><td>0.13767</td><td>4</td><td>G15_Y3_015_358</td><td>6</td><td>21.932606</td><td>20.144035</td><td>19.162022</td><td>18.662552</td><td>18.35351</td><td>456.98578791254874</td><td>38.299513469417825</td><td>G15</td><td>0</td><td>-309.96890757282637</td><td>-255.2299501327517</td><td>11.329232915790147</td><td>312.11302129933836</td><td>252.6173112675468</td><td>11.016288325597998</td><td>0.9820137</td><td>19.219454</td></tr>\n",
       "<tr><td>512266</td><td>587729972324270413</td><td>218.2551633</td><td>-1.14076853</td><td>18.561316</td><td>0.17923</td><td>4</td><td>G15_Y2_016_238</td><td>6</td><td>21.092844</td><td>19.61012</td><td>18.586592</td><td>18.027372</td><td>17.695913</td><td>611.3644778561548</td><td>38.93150100643491</td><td>G15</td><td>0</td><td>-407.0330833802893</td><td>-320.9384903143338</td><td>-10.321620735677476</td><td>409.70394461448916</td><td>317.5082268581036</td><td>-10.73242892690974</td><td>1.023529</td><td>18.561316</td></tr>\n",
       "<tr><td>323022</td><td>587726032763486914</td><td>129.89397306</td><td>1.49836638</td><td>19.472801</td><td>0.1387</td><td>4</td><td>G09_Y3_026_375</td><td>5</td><td>21.783146</td><td>20.098377</td><td>19.397703</td><td>19.016605</td><td>19.040281</td><td>460.7239605853787</td><td>38.31720399461938</td><td>G9</td><td>0</td><td>-259.4124821544153</td><td>310.32017528182524</td><td>10.579797597823486</td><td>256.80722429285817</td><td>-312.4882057537723</td><td>10.322306789386314</td><td>0.70067406</td><td>19.472801</td></tr>\n",
       "<tr><td>504604</td><td>587729971249676657</td><td>216.41268226</td><td>-1.96311181</td><td>18.930864</td><td>0.13972</td><td>4</td><td>G15_Y1_CX2_048</td><td>6</td><td>21.797686</td><td>19.974392</td><td>18.940395</td><td>18.487288</td><td>18.150503</td><td>464.4302981065674</td><td>38.334602720613475</td><td>G15</td><td>0</td><td>-327.744273991238</td><td>-241.74591450361598</td><td>-13.959177075218175</td><td>329.74913414953585</td><td>238.9844442065474</td><td>-14.289817800436959</td><td>1.0339966</td><td>18.930864</td></tr>\n",
       "<tr><td>622590</td><td>588848900966253388</td><td>134.01923395</td><td>0.74852124</td><td>19.65977</td><td>0.20465</td><td>4</td><td>G09_Y5_004_225</td><td>5</td><td>22.434359</td><td>20.555109</td><td>19.686445</td><td>19.215702</td><td>18.987457</td><td>709.2920613302442</td><td>39.25412549542366</td><td>G9</td><td>0</td><td>-409.11869875050974</td><td>423.3703017633276</td><td>7.691894878716373</td><td>405.55560599404106</td><td>-426.79182610805253</td><td>7.2852552094416385</td><td>0.8686638</td><td>19.65977</td></tr>\n",
       "</table></div>"
      ],
      "text/plain": [
       "<Table length=113687>\n",
       " CATAID       OBJID                RA             DEC      R_PETRO   ZGAMA    NQ  ...     CARTESIAN_Z       ROTCARTESIAN_X      ROTCARTESIAN_Y      ROTCARTESIAN_Z      GMR       DETMAG \n",
       "                                  deg             deg        mag                  ...                                                                                   mag        mag   \n",
       " int32        int64             float64         float64    float32  float32 int16 ...       float64            float64             float64             float64        float32    float32 \n",
       "------- ------------------ ------------------ ----------- --------- ------- ----- ... ------------------- ------------------ ------------------- ------------------- ---------- ---------\n",
       " 106344 587722984440004876       215.64134954  0.93323718 17.573008 0.12701     5 ...   6.049013360961878  303.5970652971174   213.8433630315318   5.744604917097719  0.8455181 17.573008\n",
       " 260795 587726015619727382       211.78756784  2.55349615 17.912563 0.17396     4 ...   22.44347859715359 430.00604234937896  261.49894974816976  22.012330317016836  1.1739597 17.912563\n",
       " 184719 587725041701486677       177.57860331 -1.54940367 17.699133 0.10459     4 ...   -8.30716222246546   306.715195186436 -15.552268996532625    -8.6147043774588   0.885973 17.699133\n",
       "  48732 587722982293766351       218.36773907 -0.69625784 18.961176 0.23108     4 ...  -8.033206403726378  521.6945157661447   405.9367254567815    -8.5563044379126  1.3154202 18.961176\n",
       " 425675 587728880329425280       129.29884863  2.83270413 19.440979 0.05952     4 ...   8.718242501962175 110.45596009917199 -137.28243815480042   8.607494618941777 0.39453125 19.440979\n",
       " 278257 587726031190950594       216.91756841  1.06566326 19.760365 0.21823     4 ...  11.643344574350653 503.58844801258505    371.761661002609  11.138411069776538  1.0977192 19.760365\n",
       "  14820 588848901000855684       212.91904891  0.69486757 17.922241 0.15636     4 ...   5.511413168009388  383.5284645854374  243.74604772432454   5.126858633317521  1.0677834 17.922241\n",
       " 363503 587726033339678771       219.73737073  2.61015832 19.557497 0.15529     4 ...   20.55902776739697  349.2260494229411    285.374950234491  20.208875230603688 0.59993935 19.557497\n",
       " 144119 587724650867196010       178.89996855 -1.40041305 18.145805 0.07653     4 ...  -5.524988535650823  225.9098042022409   -6.23660941136462  -5.751507135263965  0.6616764 18.145805\n",
       "    ...                ...                ...         ...       ...     ...   ... ...                 ...                ...                 ...                 ...        ...       ...\n",
       " 322975 587726032763421092       129.68904095  1.44492339 19.228645 0.11035     4 ...   8.164256261372975 204.61097818526346 -250.79848643558174   7.959100504686543   0.598299 19.228645\n",
       " 381970 587727944027210565       134.65443239  1.86667765  19.56934 0.26032     4 ...  24.105026483088565  515.4110393425884  -530.4811605459904   23.58824493661033  1.2996216  19.56934\n",
       " 512380 587729972324401567 218.67148932999999 -1.16374468 18.610968  0.0565     4 ...  -3.403099310871418 131.66494074164746  103.57643515327477 -3.5351191622648903 0.38306618 18.610968\n",
       " 251763 587726015086526791       220.24026451  2.03939719 18.040543 0.13686     4 ...  14.212923630085392  306.8463960908887  255.27121698035782  13.905261242765189  1.0829849 18.040543\n",
       "3851795 588010930293899830       129.11976946 -1.75407063  18.34769 0.16632     4 ... -14.766173399308618 301.05948502049756 -376.63012833088794  -15.06804791917205  0.7379532  18.34769\n",
       " 239904 587726014549328433       219.46821222  1.61619724 19.219454 0.13767     4 ...  11.329232915790147 312.11302129933836   252.6173112675468  11.016288325597998  0.9820137 19.219454\n",
       " 512266 587729972324270413        218.2551633 -1.14076853 18.561316 0.17923     4 ... -10.321620735677476 409.70394461448916   317.5082268581036  -10.73242892690974   1.023529 18.561316\n",
       " 323022 587726032763486914       129.89397306  1.49836638 19.472801  0.1387     4 ...  10.579797597823486 256.80722429285817  -312.4882057537723  10.322306789386314 0.70067406 19.472801\n",
       " 504604 587729971249676657       216.41268226 -1.96311181 18.930864 0.13972     4 ... -13.959177075218175 329.74913414953585   238.9844442065474 -14.289817800436959  1.0339966 18.930864\n",
       " 622590 588848900966253388       134.01923395  0.74852124  19.65977 0.20465     4 ...   7.691894878716373 405.55560599404106 -426.79182610805253  7.2852552094416385  0.8686638  19.65977"
      ]
     },
     "execution_count": 14,
     "metadata": {},
     "output_type": "execute_result"
    }
   ],
   "source": [
    "fpath = findfile(ftype='gold', dryrun=dryrun, version=version, survey=survey)\n",
    "gold  = Table.read(fpath)\n",
    "gold"
   ]
  },
  {
   "cell_type": "markdown",
   "id": "7c371269",
   "metadata": {},
   "source": [
    "##  Cobaya"
   ]
  },
  {
   "cell_type": "code",
   "execution_count": 63,
   "id": "4cd402f5",
   "metadata": {},
   "outputs": [],
   "source": [
    "# root = '/cosma/home/durham/{}/data/GAMA4/cobaya/'.format(os.environ['USER'])"
   ]
  },
  {
   "cell_type": "code",
   "execution_count": 64,
   "id": "3076151a",
   "metadata": {},
   "outputs": [],
   "source": [
    "# dat = Table.read(root + 'schechter_chain.1.txt', format='ascii')        "
   ]
  },
  {
   "cell_type": "code",
   "execution_count": 65,
   "id": "429e7f96",
   "metadata": {},
   "outputs": [],
   "source": [
    "# samples = np.c_[dat['log10phistar'], dat['Mstar'], dat['alpha']]"
   ]
  },
  {
   "cell_type": "code",
   "execution_count": 66,
   "id": "bcbcc306",
   "metadata": {},
   "outputs": [],
   "source": [
    "# samples = MCSamples(samples=samples, names=['log10phistar', 'Mstar', 'alpha'], labels=['log10phistar', 'Mstar', 'alpha'])"
   ]
  },
  {
   "cell_type": "code",
   "execution_count": 67,
   "id": "f81843bf",
   "metadata": {},
   "outputs": [],
   "source": [
    "# tmr_ref = {'log10phistar': -2.01, 'Mstar': -20.89, 'alpha': -1.25}"
   ]
  },
  {
   "cell_type": "code",
   "execution_count": 68,
   "id": "1ef88d37",
   "metadata": {},
   "outputs": [],
   "source": [
    "# g = plots.get_subplot_plotter()"
   ]
  },
  {
   "cell_type": "code",
   "execution_count": 69,
   "id": "a4918cc5",
   "metadata": {},
   "outputs": [],
   "source": [
    "# g.triangle_plot([samples], filled=True)        "
   ]
  },
  {
   "cell_type": "markdown",
   "id": "acff51e3",
   "metadata": {},
   "source": [
    "# Done."
   ]
  }
 ],
 "metadata": {
  "kernelspec": {
   "display_name": "Lumfn",
   "language": "python",
   "name": "lumfn"
  },
  "language_info": {
   "codemirror_mode": {
    "name": "ipython",
    "version": 3
   },
   "file_extension": ".py",
   "mimetype": "text/x-python",
   "name": "python",
   "nbconvert_exporter": "python",
   "pygments_lexer": "ipython3",
   "version": "3.9.9"
  }
 },
 "nbformat": 4,
 "nbformat_minor": 5
}
