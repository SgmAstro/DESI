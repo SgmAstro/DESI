{
 "cells": [
  {
   "cell_type": "code",
   "execution_count": 1,
   "id": "0e930c45",
   "metadata": {},
   "outputs": [],
   "source": [
    "import os\n",
    "import sys\n",
    "import pylab as pl\n",
    "import numpy as np\n",
    "import matplotlib.pyplot as plt\n",
    "import numpy as np\n",
    "\n",
    "# from   getdist     import plots, MCSamples \n",
    "from   astropy.table import Table"
   ]
  },
  {
   "cell_type": "code",
   "execution_count": 2,
   "id": "5a0df0e5",
   "metadata": {},
   "outputs": [],
   "source": [
    "sys.path.append(os.environ['HOME'])\n",
    "sys.path.append(os.environ['HOME'] + '/DESI/')"
   ]
  },
  {
   "cell_type": "code",
   "execution_count": 3,
   "id": "cf139a78",
   "metadata": {},
   "outputs": [],
   "source": [
    "import pubplot\n",
    "\n",
    "from   schechter     import schechter, named_schechter\n",
    "from   findfile      import findfile"
   ]
  },
  {
   "cell_type": "code",
   "execution_count": 4,
   "id": "587c2206",
   "metadata": {},
   "outputs": [],
   "source": [
    "version = 'GAMA4'\n",
    "survey  = 'gama'\n",
    "dryrun  =  False"
   ]
  },
  {
   "cell_type": "code",
   "execution_count": 5,
   "id": "040046ab",
   "metadata": {},
   "outputs": [
    {
     "data": {
      "text/plain": [
       "'/cosma/home/durham/dc-wils7/data/GAMA4/gama_gold.fits'"
      ]
     },
     "execution_count": 5,
     "metadata": {},
     "output_type": "execute_result"
    }
   ],
   "source": [
    "fpath = findfile(ftype='gold', dryrun=dryrun, version=version, survey=survey)\n",
    "fpath"
   ]
  },
  {
   "cell_type": "code",
   "execution_count": 6,
   "id": "187b1740",
   "metadata": {},
   "outputs": [
    {
     "data": {
      "text/plain": [
       "OrderedDict([('AREA', 180.0),\n",
       "             ('GOLD_NGAL', 121975),\n",
       "             ('IMMUTABLE', 'FALSE'),\n",
       "             ('RLIM', 19.8),\n",
       "             ('RMAX', 12.0),\n",
       "             ('MAX_SEP', 70.0)])"
      ]
     },
     "execution_count": 6,
     "metadata": {},
     "output_type": "execute_result"
    }
   ],
   "source": [
    "gold = Table.read(fpath)\n",
    "gold.meta"
   ]
  },
  {
   "cell_type": "markdown",
   "id": "ef4a6650",
   "metadata": {},
   "source": [
    "##  VMAX"
   ]
  },
  {
   "cell_type": "code",
   "execution_count": 7,
   "id": "afdd1282",
   "metadata": {},
   "outputs": [
    {
     "data": {
      "text/html": [
       "<div><i>Table length=78886</i>\n",
       "<table id=\"table140519229976640\" class=\"table-striped table-bordered table-condensed\">\n",
       "<thead><tr><th>MCOLOR_0P0</th><th>IN_D8LUMFN</th><th>ZSURV</th><th>FILLFACTOR_VMAX</th><th>FILLFACTOR</th><th>ZMAX</th><th>RA</th><th>MALL_0P0</th><th>FIELD</th><th>ZMIN</th><th>DEC</th><th>VZ</th><th>VMAX</th></tr></thead>\n",
       "<thead><tr><th>mag</th><th></th><th></th><th></th><th></th><th></th><th>deg</th><th>mag</th><th></th><th></th><th>deg</th><th></th><th></th></tr></thead>\n",
       "<thead><tr><th>float64</th><th>int64</th><th>float32</th><th>float64</th><th>float64</th><th>float64</th><th>float64</th><th>float64</th><th>bytes3</th><th>float64</th><th>float64</th><th>float64</th><th>float64</th></tr></thead>\n",
       "<tr><td>-23.461170534036924</td><td>0</td><td>0.2563</td><td>0.7075619414341472</td><td>1.0</td><td>0.2715100049972534</td><td>179.0450651</td><td>-23.417599538706114</td><td>G12</td><td>0.039663288528705265</td><td>-0.35024037</td><td>4993519.459696529</td><td>5881059.924096177</td></tr>\n",
       "<tr><td>-23.442632031321555</td><td>0</td><td>0.10734</td><td>0.7075029561242174</td><td>0.9151988682115066</td><td>0.2715100049972534</td><td>182.1835035</td><td>-23.424384233236342</td><td>G12</td><td>0.03933423422922606</td><td>-2.07231294</td><td>383951.7411264599</td><td>5881090.289238529</td></tr>\n",
       "<tr><td>-23.107939332154334</td><td>0</td><td>0.13893</td><td>0.7066439781049916</td><td>1.0</td><td>0.2715100049972534</td><td>213.78496641</td><td>-23.084321237531245</td><td>G15</td><td>0.0339096951732739</td><td>-0.49323659</td><td>846294.2968766553</td><td>5881348.428092647</td></tr>\n",
       "<tr><td>-23.082316886159298</td><td>0</td><td>0.22878</td><td>0.7065860680101017</td><td>1.0</td><td>0.2715100049972534</td><td>178.51993046</td><td>-23.04342428919923</td><td>G12</td><td>0.03350598251431382</td><td>0.60517927</td><td>3613270.664928616</td><td>5881333.134972404</td></tr>\n",
       "<tr><td>-23.045208950883637</td><td>0</td><td>0.24896</td><td>0.70651182360271</td><td>1.0</td><td>0.2715100049972534</td><td>180.52796941</td><td>-23.002885748988877</td><td>G12</td><td>0.03294944890178139</td><td>-0.24151196</td><td>4599197.066192231</td><td>5881340.480242628</td></tr>\n",
       "<tr><td>-23.010391635049515</td><td>0</td><td>0.20644</td><td>0.7064502496370619</td><td>1.0</td><td>0.2715100049972534</td><td>184.98709908</td><td>-22.975296822537118</td><td>G12</td><td>0.03247041721586893</td><td>-0.85050901</td><td>2690580.330995149</td><td>5881349.6698676655</td></tr>\n",
       "<tr><td>-22.976202885033608</td><td>0</td><td>0.20233</td><td>0.706383985254839</td><td>1.0004493115365345</td><td>0.2715100049972534</td><td>222.36929583</td><td>-22.94180678796959</td><td>G15</td><td>0.03194881372599459</td><td>-1.27151016</td><td>2539381.9168547923</td><td>5881349.05145412</td></tr>\n",
       "<tr><td>-22.94904753859117</td><td>0</td><td>0.08135</td><td>0.7063324453515957</td><td>0.947391207452521</td><td>0.2715100049972534</td><td>179.83440251</td><td>-22.93521803910806</td><td>G12</td><td>0.031541209667382365</td><td>-1.64817036</td><td>167915.99306903203</td><td>5881338.326491684</td></tr>\n",
       "<tr><td>-22.911188045606362</td><td>0</td><td>0.19885</td><td>0.7062716183598297</td><td>1.0</td><td>0.2715100049972534</td><td>183.77207804</td><td>-22.877383554444062</td><td>G12</td><td>0.03105122891707608</td><td>-1.4609492</td><td>2415935.773459654</td><td>5881320.809336535</td></tr>\n",
       "<tr><td>-22.84411963242417</td><td>0</td><td>0.24565</td><td>0.7061612921328974</td><td>1.0</td><td>0.2715100049972534</td><td>130.46404172</td><td>-22.802359128178413</td><td>G9</td><td>0.03013485689717856</td><td>-0.56800756</td><td>4427934.7853496345</td><td>5881276.314832883</td></tr>\n",
       "<tr><td>-22.819730991835396</td><td>0</td><td>0.24803</td><td>0.7061250150673739</td><td>1.0</td><td>0.2715100049972534</td><td>180.67664245</td><td>-22.777565891260902</td><td>G12</td><td>0.029814011195731755</td><td>-1.3960721</td><td>4551137.04341797</td><td>5881268.122549876</td></tr>\n",
       "<tr><td>...</td><td>...</td><td>...</td><td>...</td><td>...</td><td>...</td><td>...</td><td>...</td><td>...</td><td>...</td><td>...</td><td>...</td><td>...</td></tr>\n",
       "<tr><td>-16.26046100480052</td><td>0</td><td>0.05233</td><td>0.04255705285424019</td><td>0.9247769148293824</td><td>0.05316317378397626</td><td>135.60445694</td><td>-16.320640495396574</td><td>G9</td><td>0.01882999949157238</td><td>1.03416237</td><td>2775.9862675589993</td><td>2915.9325202724076</td></tr>\n",
       "<tr><td>-16.253546725505178</td><td>0</td><td>0.05285</td><td>0.043641626383705265</td><td>0.9744739599582387</td><td>0.053294166630284016</td><td>214.64457514</td><td>-16.314324218326394</td><td>G15</td><td>0.01882999949157238</td><td>0.55082816</td><td>2935.781027262807</td><td>3013.2139603681267</td></tr>\n",
       "<tr><td>-16.25284282566225</td><td>0</td><td>0.05233</td><td>0.042012333186518536</td><td>0.9704134898910256</td><td>0.05309816966835318</td><td>132.904672</td><td>-16.313022316258305</td><td>G9</td><td>0.01882999949157238</td><td>0.48358543</td><td>2740.454335344526</td><td>2867.676469618973</td></tr>\n",
       "<tr><td>-16.231413194828935</td><td>0</td><td>0.05228</td><td>0.03713788147979787</td><td>0.9622925497565995</td><td>0.05253879813860891</td><td>134.61289881</td><td>-16.291535193019815</td><td>G9</td><td>0.01882999949157238</td><td>0.28358843</td><td>2415.2863420928284</td><td>2452.7462799251934</td></tr>\n",
       "<tr><td>-16.230356211308887</td><td>0</td><td>0.05147</td><td>0.03971257090607977</td><td>0.9353846500288959</td><td>0.05282935789416516</td><td>178.16824812</td><td>-16.289546708111217</td><td>G12</td><td>0.01882999949157238</td><td>-0.93067831</td><td>2459.84967775485</td><td>2668.2259978983348</td></tr>\n",
       "<tr><td>-16.2302354524563</td><td>0</td><td>0.05243</td><td>0.038271216271083514</td><td>0.964313070746983</td><td>0.05266538171806199</td><td>131.92992534</td><td>-16.290529942763868</td><td>G9</td><td>0.01882999949157238</td><td>0.70406309</td><td>2511.3224019154804</td><td>2546.614471353853</td></tr>\n",
       "<tr><td>-16.215355316986884</td><td>0</td><td>0.05129</td><td>0.03515010484275838</td><td>0.9641576460554151</td><td>0.05232077264271665</td><td>132.50118613</td><td>-16.27433881430849</td><td>G9</td><td>0.01882999949157238</td><td>0.51596786</td><td>2153.524769612975</td><td>2291.5728786502436</td></tr>\n",
       "<tr><td>-16.21078860063796</td><td>0</td><td>0.0515</td><td>0.03471544082927905</td><td>0.9587566380234284</td><td>0.05226070784488128</td><td>136.390158</td><td>-16.270013593628455</td><td>G9</td><td>0.01882999949157238</td><td>0.38899142</td><td>2154.2408052806413</td><td>2255.144382004907</td></tr>\n",
       "<tr><td>-16.20325411598858</td><td>0</td><td>0.05108</td><td>0.03296054805346359</td><td>0.9444381383127297</td><td>0.05202247519531786</td><td>137.14373517</td><td>-16.26199610646543</td><td>G9</td><td>0.01882999949157238</td><td>0.19402926</td><td>1993.621252823318</td><td>2110.846047388349</td></tr>\n",
       "<tr><td>-16.15814769847686</td><td>0</td><td>0.04836</td><td>0.024860351490412363</td><td>0.9231643836543647</td><td>0.050918943437983206</td><td>177.07764561</td><td>-16.21376169680054</td><td>G12</td><td>0.01882999949157238</td><td>-0.20845646</td><td>1265.9251415157148</td><td>1488.886749472603</td></tr>\n",
       "<tr><td>-16.142646601219003</td><td>0</td><td>0.0496</td><td>0.023400760915649486</td><td>0.905212831778265</td><td>0.05070431440385727</td><td>220.66746929</td><td>-16.19968659596545</td><td>G15</td><td>0.01882999949157238</td><td>0.96364521</td><td>1290.6508705484814</td><td>1383.0486980206872</td></tr>\n",
       "</table></div>"
      ],
      "text/plain": [
       "<Table length=78886>\n",
       "     MCOLOR_0P0     IN_D8LUMFN  ZSURV    FILLFACTOR_VMAX        FILLFACTOR             ZMAX         ...       MALL_0P0      FIELD          ZMIN             DEC             VZ                VMAX       \n",
       "        mag                                                                                         ...         mag                                         deg                                          \n",
       "      float64         int64    float32       float64             float64             float64        ...       float64       bytes3       float64          float64        float64            float64      \n",
       "------------------- ---------- ------- -------------------- ------------------ -------------------- ... ------------------- ------ -------------------- ----------- ------------------ ------------------\n",
       "-23.461170534036924          0  0.2563   0.7075619414341472                1.0   0.2715100049972534 ... -23.417599538706114    G12 0.039663288528705265 -0.35024037  4993519.459696529  5881059.924096177\n",
       "-23.442632031321555          0 0.10734   0.7075029561242174 0.9151988682115066   0.2715100049972534 ... -23.424384233236342    G12  0.03933423422922606 -2.07231294  383951.7411264599  5881090.289238529\n",
       "-23.107939332154334          0 0.13893   0.7066439781049916                1.0   0.2715100049972534 ... -23.084321237531245    G15   0.0339096951732739 -0.49323659  846294.2968766553  5881348.428092647\n",
       "-23.082316886159298          0 0.22878   0.7065860680101017                1.0   0.2715100049972534 ...  -23.04342428919923    G12  0.03350598251431382  0.60517927  3613270.664928616  5881333.134972404\n",
       "-23.045208950883637          0 0.24896     0.70651182360271                1.0   0.2715100049972534 ... -23.002885748988877    G12  0.03294944890178139 -0.24151196  4599197.066192231  5881340.480242628\n",
       "-23.010391635049515          0 0.20644   0.7064502496370619                1.0   0.2715100049972534 ... -22.975296822537118    G12  0.03247041721586893 -0.85050901  2690580.330995149 5881349.6698676655\n",
       "-22.976202885033608          0 0.20233    0.706383985254839 1.0004493115365345   0.2715100049972534 ...  -22.94180678796959    G15  0.03194881372599459 -1.27151016 2539381.9168547923   5881349.05145412\n",
       " -22.94904753859117          0 0.08135   0.7063324453515957  0.947391207452521   0.2715100049972534 ...  -22.93521803910806    G12 0.031541209667382365 -1.64817036 167915.99306903203  5881338.326491684\n",
       "-22.911188045606362          0 0.19885   0.7062716183598297                1.0   0.2715100049972534 ... -22.877383554444062    G12  0.03105122891707608  -1.4609492  2415935.773459654  5881320.809336535\n",
       " -22.84411963242417          0 0.24565   0.7061612921328974                1.0   0.2715100049972534 ... -22.802359128178413     G9  0.03013485689717856 -0.56800756 4427934.7853496345  5881276.314832883\n",
       "-22.819730991835396          0 0.24803   0.7061250150673739                1.0   0.2715100049972534 ... -22.777565891260902    G12 0.029814011195731755  -1.3960721   4551137.04341797  5881268.122549876\n",
       "                ...        ...     ...                  ...                ...                  ... ...                 ...    ...                  ...         ...                ...                ...\n",
       " -16.26046100480052          0 0.05233  0.04255705285424019 0.9247769148293824  0.05316317378397626 ... -16.320640495396574     G9  0.01882999949157238  1.03416237 2775.9862675589993 2915.9325202724076\n",
       "-16.253546725505178          0 0.05285 0.043641626383705265 0.9744739599582387 0.053294166630284016 ... -16.314324218326394    G15  0.01882999949157238  0.55082816  2935.781027262807 3013.2139603681267\n",
       " -16.25284282566225          0 0.05233 0.042012333186518536 0.9704134898910256  0.05309816966835318 ... -16.313022316258305     G9  0.01882999949157238  0.48358543  2740.454335344526  2867.676469618973\n",
       "-16.231413194828935          0 0.05228  0.03713788147979787 0.9622925497565995  0.05253879813860891 ... -16.291535193019815     G9  0.01882999949157238  0.28358843 2415.2863420928284 2452.7462799251934\n",
       "-16.230356211308887          0 0.05147  0.03971257090607977 0.9353846500288959  0.05282935789416516 ... -16.289546708111217    G12  0.01882999949157238 -0.93067831   2459.84967775485 2668.2259978983348\n",
       "  -16.2302354524563          0 0.05243 0.038271216271083514  0.964313070746983  0.05266538171806199 ... -16.290529942763868     G9  0.01882999949157238  0.70406309 2511.3224019154804  2546.614471353853\n",
       "-16.215355316986884          0 0.05129  0.03515010484275838 0.9641576460554151  0.05232077264271665 ...  -16.27433881430849     G9  0.01882999949157238  0.51596786  2153.524769612975 2291.5728786502436\n",
       " -16.21078860063796          0  0.0515  0.03471544082927905 0.9587566380234284  0.05226070784488128 ... -16.270013593628455     G9  0.01882999949157238  0.38899142 2154.2408052806413  2255.144382004907\n",
       " -16.20325411598858          0 0.05108  0.03296054805346359 0.9444381383127297  0.05202247519531786 ...  -16.26199610646543     G9  0.01882999949157238  0.19402926  1993.621252823318  2110.846047388349\n",
       " -16.15814769847686          0 0.04836 0.024860351490412363 0.9231643836543647 0.050918943437983206 ...  -16.21376169680054    G12  0.01882999949157238 -0.20845646 1265.9251415157148  1488.886749472603\n",
       "-16.142646601219003          0  0.0496 0.023400760915649486  0.905212831778265  0.05070431440385727 ...  -16.19968659596545    G15  0.01882999949157238  0.96364521 1290.6508705484814 1383.0486980206872"
      ]
     },
     "execution_count": 7,
     "metadata": {},
     "output_type": "execute_result"
    }
   ],
   "source": [
    "fpath = findfile(ftype='vmax', dryrun=dryrun, version=version, survey=survey)\n",
    "vmax  = Table.read(fpath)\n",
    "vmax.sort('MCOLOR_0P0')\n",
    "vmax"
   ]
  },
  {
   "cell_type": "markdown",
   "id": "8cc67563",
   "metadata": {},
   "source": [
    "##  LUMFN"
   ]
  },
  {
   "cell_type": "code",
   "execution_count": 8,
   "id": "08fd069b",
   "metadata": {},
   "outputs": [
    {
     "data": {
      "text/html": [
       "<div><i>Table length=34</i>\n",
       "<table id=\"table140523815763776\" class=\"table-striped table-bordered table-condensed\">\n",
       "<thead><tr><th>MEDIAN_M</th><th>MEAN_M</th><th>MID_M</th><th>IVMAXMEAN_M</th><th>PHI_N</th><th>PHI_N_ERROR</th><th>PHI_IVMAX</th><th>PHI_IVMAX_ERROR</th><th>N</th><th>V_ON_VMAX</th></tr></thead>\n",
       "<thead><tr><th>float64</th><th>float64</th><th>float64</th><th>float64</th><th>float64</th><th>float64</th><th>float64</th><th>float64</th><th>float64</th><th>float64</th></tr></thead>\n",
       "<tr><td>-22.831925312129783</td><td>-22.864672608757225</td><td>-22.7</td><td>-22.86467221252737</td><td>4.914395182202463e-06</td><td>1.7375010793829303e-06</td><td>6.801227075549467e-06</td><td>2.404596892799115e-06</td><td>8.0</td><td>0.7225723964189527</td></tr>\n",
       "<tr><td>-22.704044909575536</td><td>-22.69803884734222</td><td>-22.5</td><td>-22.698039156161983</td><td>3.194356868431601e-05</td><td>4.429775954331044e-06</td><td>4.4208118344736694e-05</td><td>6.130562980263248e-06</td><td>52.0</td><td>0.7225693682660896</td></tr>\n",
       "<tr><td>-22.46463274592758</td><td>-22.481083738461145</td><td>-22.299999999999997</td><td>-22.481084071450834</td><td>5.590124519755302e-05</td><td>5.860042769446878e-06</td><td>7.736211589437128e-05</td><td>8.109753303008029e-06</td><td>91.0</td><td>0.7225934230065113</td></tr>\n",
       "<tr><td>-22.285094947604357</td><td>-22.290579952100963</td><td>-22.099999999999998</td><td>-22.290580392845257</td><td>0.00011364538858843197</td><td>8.355375142374793e-06</td><td>0.00015727158094830935</td><td>1.1562836595636136e-05</td><td>185.0</td><td>0.7226075637494193</td></tr>\n",
       "<tr><td>-22.09683320928304</td><td>-22.09626631811732</td><td>-21.9</td><td>-22.09626654726368</td><td>0.00022606217838131332</td><td>1.1784305666411362e-05</td><td>0.0003128374854205255</td><td>1.6307781242025063e-05</td><td>368.0</td><td>0.7226196162208872</td></tr>\n",
       "<tr><td>-21.885558642098573</td><td>-21.89021627030132</td><td>-21.7</td><td>-21.890216963219842</td><td>0.0003974517103606242</td><td>1.5625439076048313e-05</td><td>0.00055000579233479</td><td>2.1622958906230902e-05</td><td>647.0</td><td>0.7226294977364217</td></tr>\n",
       "<tr><td>-21.687855113067435</td><td>-21.691249562583632</td><td>-21.5</td><td>-21.691249566797634</td><td>0.000644400068266298</td><td>1.9896094437410427e-05</td><td>0.0008917124764309553</td><td>2.7531958042497254e-05</td><td>1049.0</td><td>0.7226545681105612</td></tr>\n",
       "<tr><td>-21.48999970826809</td><td>-21.493036737717073</td><td>-21.299999999999997</td><td>-21.49303673771707</td><td>0.001057209263571305</td><td>2.54841718314394e-05</td><td>0.0014629524398295363</td><td>3.526466579747753e-05</td><td>1721.0</td><td>0.7226545681105612</td></tr>\n",
       "<tr><td>-21.28914781181131</td><td>-21.29347549148593</td><td>-21.099999999999998</td><td>--</td><td>0.0014288603992253662</td><td>2.9626813577385068e-05</td><td>--</td><td>--</td><td>2326.0</td><td>--</td></tr>\n",
       "<tr><td>-21.091935576950743</td><td>-21.094735268436295</td><td>-20.9</td><td>-21.094735268436295</td><td>0.001931357306605568</td><td>3.4444616855711155e-05</td><td>0.0026725871416758058</td><td>4.76640131754365e-05</td><td>3144.0</td><td>0.7226545681105612</td></tr>\n",
       "<tr><td>-20.89382783523582</td><td>-20.896316557606365</td><td>-20.7</td><td>-20.896316557606358</td><td>0.002489141159785548</td><td>3.9103425878482736e-05</td><td>0.0034444411889536794</td><td>5.411081255698945e-05</td><td>4052.0</td><td>0.7226545681105612</td></tr>\n",
       "<tr><td>...</td><td>...</td><td>...</td><td>...</td><td>...</td><td>...</td><td>...</td><td>...</td><td>...</td><td>...</td></tr>\n",
       "<tr><td>-18.502978375579513</td><td>-18.502980879396137</td><td>-18.299999999999997</td><td>-18.497826618164623</td><td>0.0011941980292751986</td><td>2.7084961329273002e-05</td><td>0.0129988793767296</td><td>0.000301873753511248</td><td>1944.0</td><td>0.09802641262850786</td></tr>\n",
       "<tr><td>-18.305216279020996</td><td>-18.30360006456548</td><td>-18.099999999999998</td><td>-18.29811455771937</td><td>0.0009398780785962211</td><td>2.4028452668947954e-05</td><td>0.014101495080146518</td><td>0.0003674859535288458</td><td>1530.0</td><td>0.07019408659631111</td></tr>\n",
       "<tr><td>-18.106562933759204</td><td>-18.104899592575393</td><td>-17.9</td><td>-18.09886404054054</td><td>0.000602627709217577</td><td>1.9240422003040133e-05</td><td>0.012741063067079053</td><td>0.0004136985041219289</td><td>981.0</td><td>0.049172611179607376</td></tr>\n",
       "<tr><td>-17.907083663407874</td><td>-17.90514259761293</td><td>-17.7</td><td>-17.89894519016971</td><td>0.00043799547061379457</td><td>1.6403059282535273e-05</td><td>0.013207090091867964</td><td>0.0005015013271125965</td><td>713.0</td><td>0.03429648052754763</td></tr>\n",
       "<tr><td>-17.707447757851718</td><td>-17.702590520844215</td><td>-17.5</td><td>-17.695391667154954</td><td>0.0003261929802186885</td><td>1.415556962142016e-05</td><td>0.014476102615880995</td><td>0.0006378274499904072</td><td>531.0</td><td>0.023185210290012418</td></tr>\n",
       "<tr><td>-17.510843150907235</td><td>-17.503544796258293</td><td>-17.299999999999997</td><td>-17.49630443852415</td><td>0.0002322051723590664</td><td>1.194334532450963e-05</td><td>0.01509648124660327</td><td>0.000786290324230579</td><td>378.0</td><td>0.015870332632286464</td></tr>\n",
       "<tr><td>-17.307723771578587</td><td>-17.30694226538203</td><td>-17.099999999999998</td><td>-17.299376060341597</td><td>0.0001861327175259183</td><td>1.0693045229608501e-05</td><td>0.018407956580601636</td><td>0.0010708868991774734</td><td>303.0</td><td>0.010281349140544987</td></tr>\n",
       "<tr><td>-17.103830425361988</td><td>-17.106533414894734</td><td>-16.9</td><td>-17.099022876628165</td><td>0.00010688809521290358</td><td>8.103165586277774e-06</td><td>0.01643548455549802</td><td>0.001260219396737008</td><td>174.0</td><td>0.006548450190066888</td></tr>\n",
       "<tr><td>-16.910287228004705</td><td>-16.904019609210188</td><td>-16.7</td><td>-16.89448471322671</td><td>6.0201340981980175e-05</td><td>6.081253777840256e-06</td><td>0.01552455934617714</td><td>0.0015922411633088084</td><td>98.0</td><td>0.00398991762769127</td></tr>\n",
       "<tr><td>-16.723243955822213</td><td>-16.70916683590712</td><td>-16.5</td><td>-16.700526283316474</td><td>4.545815543537279e-05</td><td>5.2844032310116e-06</td><td>0.020314222391845924</td><td>0.00240246544069321</td><td>74.0</td><td>0.002344377607966308</td></tr>\n",
       "<tr><td>-16.506796807989886</td><td>-16.50723616392713</td><td>-16.299999999999997</td><td>-16.49371897967452</td><td>3.378646687764194e-05</td><td>4.555766264405016e-06</td><td>0.03038405554362743</td><td>0.004238364123735163</td><td>55.0</td><td>0.0011141253192627912</td></tr>\n",
       "<tr><td>-16.316285874181208</td><td>-16.30788096987826</td><td>-16.099999999999998</td><td>-16.2902709641545</td><td>2.33433771154617e-05</td><td>3.7867958096615173e-06</td><td>0.049259087008122315</td><td>0.008430917645391453</td><td>38.0</td><td>0.0005593665269742407</td></tr>\n",
       "</table></div>"
      ],
      "text/plain": [
       "<Table length=34>\n",
       "      MEDIAN_M             MEAN_M              MID_M            IVMAXMEAN_M             PHI_N               PHI_N_ERROR             PHI_IVMAX           PHI_IVMAX_ERROR        N          V_ON_VMAX      \n",
       "      float64             float64             float64             float64              float64                float64                float64                float64         float64        float64       \n",
       "------------------- ------------------- ------------------- ------------------- ---------------------- ---------------------- ---------------------- ---------------------- ------- ---------------------\n",
       "-22.831925312129783 -22.864672608757225               -22.7  -22.86467221252737  4.914395182202463e-06 1.7375010793829303e-06  6.801227075549467e-06  2.404596892799115e-06     8.0    0.7225723964189527\n",
       "-22.704044909575536  -22.69803884734222               -22.5 -22.698039156161983  3.194356868431601e-05  4.429775954331044e-06 4.4208118344736694e-05  6.130562980263248e-06    52.0    0.7225693682660896\n",
       " -22.46463274592758 -22.481083738461145 -22.299999999999997 -22.481084071450834  5.590124519755302e-05  5.860042769446878e-06  7.736211589437128e-05  8.109753303008029e-06    91.0    0.7225934230065113\n",
       "-22.285094947604357 -22.290579952100963 -22.099999999999998 -22.290580392845257 0.00011364538858843197  8.355375142374793e-06 0.00015727158094830935 1.1562836595636136e-05   185.0    0.7226075637494193\n",
       " -22.09683320928304  -22.09626631811732               -21.9  -22.09626654726368 0.00022606217838131332 1.1784305666411362e-05  0.0003128374854205255 1.6307781242025063e-05   368.0    0.7226196162208872\n",
       "-21.885558642098573  -21.89021627030132               -21.7 -21.890216963219842  0.0003974517103606242 1.5625439076048313e-05    0.00055000579233479 2.1622958906230902e-05   647.0    0.7226294977364217\n",
       "-21.687855113067435 -21.691249562583632               -21.5 -21.691249566797634   0.000644400068266298 1.9896094437410427e-05  0.0008917124764309553 2.7531958042497254e-05  1049.0    0.7226545681105612\n",
       " -21.48999970826809 -21.493036737717073 -21.299999999999997  -21.49303673771707   0.001057209263571305   2.54841718314394e-05  0.0014629524398295363  3.526466579747753e-05  1721.0    0.7226545681105612\n",
       " -21.28914781181131  -21.29347549148593 -21.099999999999998                  --  0.0014288603992253662 2.9626813577385068e-05                     --                     --  2326.0                    --\n",
       "-21.091935576950743 -21.094735268436295               -20.9 -21.094735268436295   0.001931357306605568 3.4444616855711155e-05  0.0026725871416758058   4.76640131754365e-05  3144.0    0.7226545681105612\n",
       " -20.89382783523582 -20.896316557606365               -20.7 -20.896316557606358   0.002489141159785548 3.9103425878482736e-05  0.0034444411889536794  5.411081255698945e-05  4052.0    0.7226545681105612\n",
       "                ...                 ...                 ...                 ...                    ...                    ...                    ...                    ...     ...                   ...\n",
       "-18.502978375579513 -18.502980879396137 -18.299999999999997 -18.497826618164623  0.0011941980292751986 2.7084961329273002e-05     0.0129988793767296   0.000301873753511248  1944.0   0.09802641262850786\n",
       "-18.305216279020996  -18.30360006456548 -18.099999999999998  -18.29811455771937  0.0009398780785962211 2.4028452668947954e-05   0.014101495080146518  0.0003674859535288458  1530.0   0.07019408659631111\n",
       "-18.106562933759204 -18.104899592575393               -17.9  -18.09886404054054   0.000602627709217577 1.9240422003040133e-05   0.012741063067079053  0.0004136985041219289   981.0  0.049172611179607376\n",
       "-17.907083663407874  -17.90514259761293               -17.7  -17.89894519016971 0.00043799547061379457 1.6403059282535273e-05   0.013207090091867964  0.0005015013271125965   713.0   0.03429648052754763\n",
       "-17.707447757851718 -17.702590520844215               -17.5 -17.695391667154954  0.0003261929802186885  1.415556962142016e-05   0.014476102615880995  0.0006378274499904072   531.0  0.023185210290012418\n",
       "-17.510843150907235 -17.503544796258293 -17.299999999999997  -17.49630443852415  0.0002322051723590664  1.194334532450963e-05    0.01509648124660327   0.000786290324230579   378.0  0.015870332632286464\n",
       "-17.307723771578587  -17.30694226538203 -17.099999999999998 -17.299376060341597  0.0001861327175259183 1.0693045229608501e-05   0.018407956580601636  0.0010708868991774734   303.0  0.010281349140544987\n",
       "-17.103830425361988 -17.106533414894734               -16.9 -17.099022876628165 0.00010688809521290358  8.103165586277774e-06    0.01643548455549802   0.001260219396737008   174.0  0.006548450190066888\n",
       "-16.910287228004705 -16.904019609210188               -16.7  -16.89448471322671 6.0201340981980175e-05  6.081253777840256e-06    0.01552455934617714  0.0015922411633088084    98.0   0.00398991762769127\n",
       "-16.723243955822213  -16.70916683590712               -16.5 -16.700526283316474  4.545815543537279e-05    5.2844032310116e-06   0.020314222391845924    0.00240246544069321    74.0  0.002344377607966308\n",
       "-16.506796807989886  -16.50723616392713 -16.299999999999997  -16.49371897967452  3.378646687764194e-05  4.555766264405016e-06    0.03038405554362743   0.004238364123735163    55.0 0.0011141253192627912\n",
       "-16.316285874181208  -16.30788096987826 -16.099999999999998   -16.2902709641545   2.33433771154617e-05 3.7867958096615173e-06   0.049259087008122315   0.008430917645391453    38.0 0.0005593665269742407"
      ]
     },
     "execution_count": 8,
     "metadata": {},
     "output_type": "execute_result"
    }
   ],
   "source": [
    "fpath = findfile(ftype='lumfn', dryrun=dryrun, version=version, survey=survey)\n",
    "lumfn = Table.read(fpath)\n",
    "lumfn = lumfn[lumfn['N'] > 5.]\n",
    "lumfn"
   ]
  },
  {
   "cell_type": "code",
   "execution_count": 10,
   "id": "ae92ed5b",
   "metadata": {},
   "outputs": [
    {
     "data": {
      "text/plain": [
       "Text(0.5, 1.0, 'GAMA')"
      ]
     },
     "execution_count": 10,
     "metadata": {},
     "output_type": "execute_result"
    },
    {
     "data": {
      "image/png": "[encoded data removed]",
      "text/plain": [
       "<Figure size 720x360 with 1 Axes>"
      ]
     },
     "metadata": {
      "needs_background": "light"
     },
     "output_type": "display_data"
    }
   ],
   "source": [
    "fig, ax = plt.subplots(1,1,figsize=(10, 5))\n",
    "\n",
    "pl.sca(ax)\n",
    "\n",
    "# pl.plot(lumfn['MEDIAN_M'],    np.log10(lumfn['PHI_N'] / 0.77), label='RAW', lw=2.)\n",
    "pl.plot(lumfn['MEDIAN_M'],    np.log10(lumfn['PHI_IVMAX']),    label='IVMAX', lw=2.)\n",
    "pl.plot(lumfn['IVMAXMEAN_M'], np.log10(lumfn['PHI_IVMAX']),    label='IVMAX', lw=0., marker='.')\n",
    "\n",
    "pl.plot(lumfn['MEDIAN_M'],    np.log10(named_schechter(lumfn['MEDIAN_M'], 'TMR')), linestyle='--', c='k', lw=1.)\n",
    "\n",
    "# pl.scatter(lumfn_tmr['Ms'], lumfn_tmr['PHI_STEP'], s=0.5)\n",
    "# pl.plot(lumfn_tmr['Ms'], lumfn_tmr['PHI_STEP'], label='TMR_SWML', lw=1.)\n",
    "\n",
    "pl.xlabel(r'$M$')\n",
    "pl.ylabel(r'$\\Phi(M)$')\n",
    "\n",
    "pl.ylim(-4.25, -1.)\n",
    "pl.xlim(-23., -15.5)\n",
    "\n",
    "pl.legend(frameon=False, loc=2)\n",
    "pl.title(survey.upper())"
   ]
  },
  {
   "cell_type": "code",
   "execution_count": 12,
   "id": "dd2f65d9",
   "metadata": {},
   "outputs": [
    {
     "data": {
      "text/html": [
       "<div><i>Table length=1769</i>\n",
       "<table id=\"table140523438872896\" class=\"table-striped table-bordered table-condensed\">\n",
       "<thead><tr><th>CATAID</th><th>OBJID</th><th>RA</th><th>DEC</th><th>R_PETRO</th><th>ZGAMA</th><th>NQ</th><th>SPECID</th><th>SURVEY_CLASS</th><th>UMAG_DRED_SDSS</th><th>GMAG_DRED_SDSS</th><th>RMAG_DRED_SDSS</th><th>IMAG_DRED_SDSS</th><th>ZMAG_DRED_SDSS</th><th>ZSURV</th><th>LUMDIST</th><th>DISTMOD</th><th>FIELD</th><th>IN_D8LUMFN</th><th>CONSERVATIVE</th><th>CARTESIAN_X</th><th>CARTESIAN_Y</th><th>CARTESIAN_Z</th><th>ROTCARTESIAN_X</th><th>ROTCARTESIAN_Y</th><th>ROTCARTESIAN_Z</th><th>GMR</th><th>DETMAG</th><th>REST_GMR_0P1</th><th>REST_GMR_0P1_WARN</th><th>REST_GMR_0P1_INDEX</th><th>KCORR_R0P1</th><th>KCORR_G0P1</th><th>KCORR_R0P0</th><th>KCORR_G0P0</th><th>REST_GMR_0P0</th><th>Q_COLOR_0P0</th><th>EQ_ALL_0P0</th><th>EQ_COLOR_0P0</th><th>MALL_0P0</th><th>MCOLOR_0P0</th><th>MQZERO_0P0</th><th>Z_THETA_QALL</th><th>Z_THETA_QZERO</th><th>Z_THETA_QCOLOR</th><th>DDPKCORR_R0P1</th><th>DDPKCORR_G0P1</th><th>DDPKCORR_R0P0</th><th>DDPKCORR_G0P0</th><th>DDPMALL_0P0</th><th>DELTA_DETMAG_FAINT</th><th>ZMAX</th><th>ZMAX_WARN</th><th>DELTA_DETMAG_BRIGHT</th><th>ZMIN</th><th>ZMIN_WARN</th><th>VMAX</th><th>DDP [3]</th><th>DDPZLIMS [3]</th><th>RAND_N8</th><th>FILLFACTOR</th><th>BOUND_DIST</th><th>rRANDSEP</th><th>rRANDMATCH</th><th>rBOUND_DIST</th><th>rFILLFACTOR</th><th>FILLFACTOR_VMAX</th><th>DDP1_N8</th><th>DDP2_N8</th><th>DDP3_N8</th><th>DDP1_DELTA8</th><th>DDP1_DELTA8_TIER</th></tr></thead>\n",
       "<thead><tr><th></th><th></th><th>deg</th><th>deg</th><th>mag</th><th></th><th></th><th></th><th></th><th>mag</th><th>mag</th><th>mag</th><th>mag</th><th>mag</th><th></th><th>Mpc</th><th></th><th></th><th></th><th></th><th></th><th></th><th></th><th></th><th></th><th></th><th>mag</th><th>mag</th><th></th><th></th><th></th><th></th><th></th><th></th><th></th><th>mag</th><th>mag</th><th></th><th></th><th>mag</th><th>mag</th><th>mag</th><th></th><th></th><th></th><th></th><th></th><th></th><th></th><th>mag</th><th>mag</th><th></th><th></th><th>mag</th><th></th><th></th><th></th><th></th><th></th><th></th><th></th><th></th><th></th><th></th><th></th><th></th><th></th><th></th><th></th><th></th><th></th><th></th></tr></thead>\n",
       "<thead><tr><th>int32</th><th>int64</th><th>float64</th><th>float64</th><th>float32</th><th>float32</th><th>int16</th><th>bytes33</th><th>int16</th><th>float32</th><th>float32</th><th>float32</th><th>float32</th><th>float32</th><th>float32</th><th>float64</th><th>float64</th><th>bytes3</th><th>int64</th><th>int64</th><th>float64</th><th>float64</th><th>float64</th><th>float64</th><th>float64</th><th>float64</th><th>float32</th><th>float32</th><th>float64</th><th>int32</th><th>int64</th><th>float64</th><th>float64</th><th>float64</th><th>float64</th><th>float64</th><th>float64</th><th>float32</th><th>float32</th><th>float64</th><th>float64</th><th>float64</th><th>float64</th><th>float64</th><th>float64</th><th>float64</th><th>float64</th><th>float64</th><th>float64</th><th>float64</th><th>float32</th><th>float64</th><th>float64</th><th>float32</th><th>float64</th><th>float64</th><th>float64</th><th>int64</th><th>int64</th><th>float64</th><th>float64</th><th>float64</th><th>float64</th><th>int64</th><th>float64</th><th>float64</th><th>float64</th><th>int64</th><th>int64</th><th>int64</th><th>float64</th><th>int64</th></tr></thead>\n",
       "<tr><td>3885866</td><td>588010930833720024</td><td>135.89216253</td><td>-1.59989053</td><td>19.79879</td><td>0.01913</td><td>3</td><td>G09_Y4_201_099</td><td>5</td><td>21.111166</td><td>19.830143</td><td>19.624992</td><td>19.463436</td><td>19.159803</td><td>0.01913</td><td>58.23656723127899</td><td>33.82597883732409</td><td>G9</td><td>2</td><td>0</td><td>-41.014753323858095</td><td>39.75694158101026</td><td>-1.595428630441649</td><td>40.734764295540565</td><td>-40.041964586359256</td><td>-1.6400720896142431</td><td>0.2051506</td><td>19.79879</td><td>0.21310850995874878</td><td>0</td><td>2</td><td>-0.13476045403622627</td><td>-0.14271835974692815</td><td>0.029341393698033152</td><td>0.00413602535927568</td><td>0.23035597258680435</td><td>2.12</td><td>-0.018556101</td><td>-0.0405556</td><td>-14.037974151747107</td><td>-14.015974652917862</td><td>-14.056530252994776</td><td>33.83676412977445</td><td>33.85532023102212</td><td>33.814764630945206</td><td>-0.18808820319905228</td><td>-0.24293694375240532</td><td>0.028636675163148828</td><td>0.022238345961257955</td><td>-14.037269433212224</td><td>0.001209259</td><td>0.01914057713140389</td><td>0.0</td><td>-7.79879</td><td>0.0005323764772190999</td><td>0.0</td><td>3415.9585541320084</td><td>0 .. 0</td><td>1 .. 1</td><td>10780.0</td><td>0.20943477188783072</td><td>0.2976833955959391</td><td>0.6746034343104808</td><td>1257717</td><td>0.3452503995579404</td><td>0.20312071687182062</td><td>0.0</td><td>0</td><td>2</td><td>4</td><td>-99.0</td><td>-99</td></tr>\n",
       "<tr><td>8480</td><td>588848900987486613</td><td>182.47796837</td><td>0.67909776</td><td>19.789885</td><td>0.01915</td><td>4</td><td>G12_Y1_ND5_288</td><td>5</td><td>20.860147</td><td>19.998114</td><td>19.72312</td><td>19.643885</td><td>19.739418</td><td>0.01915</td><td>58.298373693126614</td><td>33.82828219867051</td><td>G12</td><td>2</td><td>0</td><td>-57.14543292081807</td><td>-2.4730081465030795</td><td>0.6779814634205791</td><td>57.16199627827204</td><td>2.074481777241864</td><td>0.6153362526587615</td><td>0.2749939</td><td>19.789885</td><td>0.29328450892908514</td><td>0</td><td>2</td><td>-0.14091228167316655</td><td>-0.15920289411787455</td><td>0.025932071473279666</td><td>0.006131474570549633</td><td>0.29479449338710506</td><td>2.12</td><td>-0.0185755</td><td>-0.040597998</td><td>-14.045754202186147</td><td>-14.023731705277244</td><td>-14.064329702883045</td><td>33.83563876944689</td><td>33.854214270143785</td><td>33.813616272537985</td><td>-0.18806031637460274</td><td>-0.24291135687966586</td><td>0.02866456198759837</td><td>0.022263932833997413</td><td>-14.048486692700466</td><td>0.01011467</td><td>0.019238826673532626</td><td>0.0</td><td>-7.7898846</td><td>0.0005343133974404233</td><td>0.0</td><td>3468.6376736824286</td><td>0 .. 0</td><td>1 .. 1</td><td>10185.0</td><td>0.19787506045246342</td><td>0.35732155079395417</td><td>0.43049692025751585</td><td>15067</td><td>0.5990737422674296</td><td>0.20925999439754947</td><td>0.0</td><td>18</td><td>28</td><td>60</td><td>-99.0</td><td>-99</td></tr>\n",
       "<tr><td>402403</td><td>587728308031390135</td><td>174.91458961</td><td>1.95910608</td><td>19.758127</td><td>0.01985</td><td>3</td><td>G12_Y1_AX2_319</td><td>5</td><td>21.195854</td><td>20.027178</td><td>19.75573</td><td>19.693892</td><td>19.629356</td><td>0.01985</td><td>60.462836372194296</td><td>33.90744258254336</td><td>G12</td><td>2</td><td>0</td><td>-59.01812145764674</td><td>5.252079477428639</td><td>2.0267626874846387</td><td>58.98225052833568</td><td>-5.663476012324586</td><td>1.9621234131980374</td><td>0.27144814</td><td>19.758127</td><td>0.28982214231761483</td><td>0</td><td>2</td><td>-0.13984703359337133</td><td>-0.15822104053500846</td><td>0.0268788856165742</td><td>0.006315277877057185</td><td>0.2920117431154936</td><td>2.12</td><td>-0.019254502</td><td>-0.042082</td><td>-14.156939753726503</td><td>-14.134112255111715</td><td>-14.17619425563552</td><td>33.91506696625092</td><td>33.934321468159936</td><td>33.89223946763613</td><td>-0.18708672093339992</td><td>-0.24201267179187028</td><td>0.029638157428801187</td><td>0.023162617921793</td><td>-14.15969902553873</td><td>0.041872025</td><td>0.02023388636782732</td><td>0.0</td><td>-7.758127</td><td>0.0005621655962585111</td><td>0.0</td><td>4032.870735262976</td><td>0 .. 0</td><td>1 .. 1</td><td>9272.0</td><td>0.1801372175272696</td><td>0.13224704018304226</td><td>0.8334510658322147</td><td>603482</td><td>0.31048400949004745</td><td>0.17520254660450293</td><td>0.0</td><td>16</td><td>22</td><td>43</td><td>-99.0</td><td>-99</td></tr>\n",
       "<tr><td>623135</td><td>588848900967629243</td><td>137.02307926</td><td>0.66430396</td><td>19.635847</td><td>0.01883</td><td>4</td><td>G09_Y5_006_365</td><td>5</td><td>21.270142</td><td>20.148428</td><td>19.715252</td><td>19.476238</td><td>19.371655</td><td>0.01883</td><td>57.309681097745305</td><td>33.79113995906812</td><td>G9</td><td>2</td><td>0</td><td>-41.15168579692442</td><td>38.34358872020127</td><td>0.6521699302505194</td><td>40.884011654064146</td><td>-38.629600893894235</td><td>0.6073642559899733</td><td>0.43317604</td><td>19.635847</td><td>0.4703074345106053</td><td>0</td><td>3</td><td>-0.16765177202290749</td><td>-0.20478316588413567</td><td>0.026569300547187202</td><td>0.014550510723806198</td><td>0.44519483047279507</td><td>2.12</td><td>-0.0182651</td><td>-0.039919596</td><td>-14.163597067744497</td><td>-14.141942571775083</td><td>-14.181862167940501</td><td>33.7994441594193</td><td>33.817709259615306</td><td>33.77778966344989</td><td>-0.1885070568717113</td><td>-0.24332021516948227</td><td>0.02821782149048982</td><td>0.021855074544181008</td><td>-14.1652455886878</td><td>0.16415215</td><td>0.02029689962637385</td><td>0.0</td><td>-7.635847</td><td>0.0005641995001025632</td><td>0.0</td><td>4070.519548635367</td><td>0 .. 0</td><td>1 .. 1</td><td>9306.0</td><td>0.18079777246643344</td><td>0.5954541772607947</td><td>1.0924345041516017</td><td>141483</td><td>0.21299657553539286</td><td>0.20263501453592433</td><td>0.0</td><td>0</td><td>2</td><td>4</td><td>-99.0</td><td>-99</td></tr>\n",
       "<tr><td>185241</td><td>587725041702338765</td><td>179.56499528</td><td>-1.47464138</td><td>19.793777</td><td>0.02028</td><td>4</td><td>G12_Y2_016_203</td><td>5</td><td>20.332775</td><td>19.961945</td><td>19.803047</td><td>19.778807</td><td>19.812698</td><td>0.02028</td><td>61.79359275519756</td><td>33.95471723180982</td><td>G12</td><td>2</td><td>0</td><td>-60.543524249407085</td><td>0.45967128970692683</td><td>-1.5586187895997614</td><td>60.537102691037965</td><td>-0.881820728127162</td><td>-1.6249642280952732</td><td>0.1588974</td><td>19.793777</td><td>0.1615149209646167</td><td>0</td><td>1</td><td>-0.12927638717155396</td><td>-0.1318939082338268</td><td>0.03306064691687988</td><td>0.003068530531775221</td><td>0.1888895162874484</td><td>2.12</td><td>-0.0196716</td><td>-0.042993598</td><td>-14.174328812594396</td><td>-14.1510068152201</td><td>-14.19400041290639</td><td>33.96810627841471</td><td>33.9877778787267</td><td>33.94478428104041</td><td>-0.18649115368243754</td><td>-0.24145772239674324</td><td>0.03023372467976357</td><td>0.02371756731692004</td><td>-14.17150189035728</td><td>0.0062217712</td><td>0.02033770936983984</td><td>0.0</td><td>-7.7937775</td><td>0.0005664967544061578</td><td>0.0</td><td>4095.0259565783767</td><td>0 .. 0</td><td>1 .. 1</td><td>17600.0</td><td>0.3419343214495195</td><td>1.620313900278868</td><td>0.5339869265295369</td><td>109668</td><td>1.9759666188577165</td><td>0.3583900396111406</td><td>0.0</td><td>19</td><td>31</td><td>71</td><td>-99.0</td><td>-99</td></tr>\n",
       "<tr><td>39181</td><td>587722982275023056</td><td>175.60603056</td><td>-0.64954903</td><td>19.761354</td><td>0.02027</td><td>4</td><td>G12_Y2_037_270</td><td>5</td><td>20.250107</td><td>20.668474</td><td>19.649242</td><td>19.210192</td><td>20.442204</td><td>0.02027</td><td>61.762632339065235</td><td>33.95362898731588</td><td>G12</td><td>2</td><td>0</td><td>-60.35377333442662</td><td>4.6375797813395705</td><td>-0.686263163990032</td><td>60.31918065313086</td><td>-5.0583045486551</td><td>-0.7523692510367243</td><td>1.0192318</td><td>19.761354</td><td>1.1720375901559923</td><td>0</td><td>7</td><td>-0.21611201877507463</td><td>-0.36891781266641854</td><td>0.02496827753763578</td><td>0.039424440623482104</td><td>1.004775633178802</td><td>0.8</td><td>-0.0196619</td><td>-0.016216</td><td>-14.197580918786326</td><td>-14.201026817900338</td><td>-14.217242818442383</td><td>33.95893536519746</td><td>33.97859726485352</td><td>33.962381264311475</td><td>-0.18650498102939467</td><td>-0.2414706514175525</td><td>0.030219897332806445</td><td>0.023704638296110775</td><td>-14.202832538581497</td><td>0.03864479</td><td>0.020626516791918327</td><td>0.0</td><td>-7.7613544</td><td>0.0005796108973463608</td><td>0.0</td><td>4271.262946981891</td><td>0 .. 0</td><td>1 .. 1</td><td>12744.0</td><td>0.24759153366776573</td><td>1.701440206347468</td><td>0.8764546632708229</td><td>301830</td><td>1.0950571238692304</td><td>0.22491903770684527</td><td>0.0</td><td>17</td><td>27</td><td>54</td><td>-99.0</td><td>-99</td></tr>\n",
       "<tr><td>166236</td><td>587725040094282314</td><td>185.41893084</td><td>-2.87630958</td><td>19.78011</td><td>0.02052</td><td>3</td><td>G12_Y6_043_061</td><td>5</td><td>20.571716</td><td>19.654697</td><td>19.46291</td><td>19.250265</td><td>19.083525</td><td>0.02052</td><td>62.53672496966252</td><td>33.98067566812536</td><td>G12</td><td>2</td><td>0</td><td>-60.92855243905037</td><td>-5.779755564105478</td><td>-3.074993420691771</td><td>60.96396597838045</td><td>5.354769699696658</td><td>-3.1418075826346503</td><td>0.19178772</td><td>19.78011</td><td>0.19938880848099155</td><td>0</td><td>2</td><td>-0.13195536675532088</td><td>-0.13955645550974993</td><td>0.03167718398183772</td><td>0.004135638370675432</td><td>0.2193292653377248</td><td>2.12</td><td>-0.019904401</td><td>-0.043502398</td><td>-14.212339045436291</td><td>-14.188741048754363</td><td>-14.232243446589617</td><td>33.992448450953866</td><td>34.01235285210719</td><td>33.96885045427194</td><td>-0.1861595547215478</td><td>-0.24114700958138988</td><td>0.030565323640653314</td><td>0.0240282801322734</td><td>-14.211227185095106</td><td>0.019889832</td><td>0.02070733566257878</td><td>0.0</td><td>-7.7801094</td><td>0.0005764405211774872</td><td>0.0</td><td>4321.470039978309</td><td>0 .. 0</td><td>1 .. 1</td><td>10632.0</td><td>0.2065594150938234</td><td>0.42478216819460674</td><td>0.7942947344309343</td><td>1000227</td><td>0.391758474550398</td><td>0.2145055796252292</td><td>0.0</td><td>16</td><td>24</td><td>60</td><td>-99.0</td><td>-99</td></tr>\n",
       "<tr><td>165412</td><td>587725040092446747</td><td>181.18660853</td><td>-2.71460413</td><td>19.682487</td><td>0.01973</td><td>4</td><td>G12_Y5_010_024</td><td>5</td><td>21.059172</td><td>20.215765</td><td>19.436745</td><td>18.983667</td><td>18.754086</td><td>0.01973</td><td>60.09161404680954</td><td>33.894069346094554</td><td>G12</td><td>2</td><td>0</td><td>-58.850196521227254</td><td>-1.2189751404580877</td><td>-2.790937207571413</td><td>58.85417154447893</td><td>0.8085922050356259</td><td>-2.855439009282629</td><td>0.7790203</td><td>19.682487</td><td>0.9204949257591581</td><td>0</td><td>6</td><td>-0.20392300837113664</td><td>-0.345397624682121</td><td>0.02276709222853812</td><td>0.0364683338677938</td><td>0.7653190678089865</td><td>0.8</td><td>-0.0191381</td><td>-0.015784001</td><td>-14.215210850904416</td><td>-14.218564949552249</td><td>-14.234348950530123</td><td>33.89769833869739</td><td>33.916836438323095</td><td>33.90105243734522</td><td>-0.18725326293558264</td><td>-0.24216714821987648</td><td>0.02947161542661847</td><td>0.0230081414937868</td><td>-14.221915374102498</td><td>0.11751175</td><td>0.020805487819014215</td><td>0.0</td><td>-7.6824875</td><td>0.0005843169073387038</td><td>0.0</td><td>4382.964247802763</td><td>0 .. 0</td><td>1 .. 1</td><td>13532.0</td><td>0.2629008657872101</td><td>0.32298273329440713</td><td>0.7219416907996467</td><td>724574</td><td>0.9870814492844944</td><td>0.2650380506518773</td><td>0.0</td><td>19</td><td>30</td><td>66</td><td>-99.0</td><td>-99</td></tr>\n",
       "<tr><td>124404</td><td>587724649256780399</td><td>179.42036059</td><td>-2.63331031</td><td>19.686253</td><td>0.01976</td><td>4</td><td>G12_Y4_207_080</td><td>5</td><td>21.143892</td><td>20.159327</td><td>19.698853</td><td>19.507555</td><td>18.977413</td><td>0.01976</td><td>60.184413511324934</td><td>33.897420163724476</td><td>G12</td><td>2</td><td>0</td><td>-58.9528743822063</td><td>0.596423950088191</td><td>-2.7115184033813833</td><td>58.94427539617856</td><td>-1.0074787089212105</td><td>-2.776118905025659</td><td>0.460474</td><td>19.686253</td><td>0.5021516346135569</td><td>0</td><td>3</td><td>-0.17145318950788593</td><td>-0.21313080983961472</td><td>0.028168454617056526</td><td>0.01720415757461094</td><td>0.4714383113246722</td><td>2.12</td><td>-0.0191672</td><td>-0.0418912</td><td>-14.220168824616518</td><td>-14.197444825742092</td><td>-14.239336024347391</td><td>33.90642141861066</td><td>33.925588618341536</td><td>33.88369741973624</td><td>-0.1872116193339685</td><td>-0.24212854934262631</td><td>0.029513259028232625</td><td>0.02304674037103696</td><td>-14.221513629027696</td><td>0.11374664</td><td>0.020813815640308337</td><td>0.0</td><td>-7.6862526</td><td>0.0005787998185481512</td><td>0.0</td><td>4388.211454131472</td><td>0 .. 0</td><td>1 .. 1</td><td>14068.0</td><td>0.2733143201222637</td><td>0.42625680816529743</td><td>0.5558497300557635</td><td>499675</td><td>0.5901878823563305</td><td>0.29328649850760435</td><td>0.0</td><td>19</td><td>30</td><td>63</td><td>-99.0</td><td>-99</td></tr>\n",
       "<tr><td>143359</td><td>587724650865688883</td><td>175.57487144</td><td>-1.34866622</td><td>19.716349</td><td>0.0201</td><td>4</td><td>G12_Y2_020_380</td><td>5</td><td>21.023233</td><td>19.8857</td><td>19.75754</td><td>19.715063</td><td>19.997906</td><td>0.0201</td><td>61.23642115028416</td><td>33.93504900613858</td><td>G12</td><td>2</td><td>0</td><td>-59.834293547596694</td><td>4.630396125786941</td><td>-1.4128914486121402</td><td>59.79896756343481</td><td>-5.047498815681783</td><td>-1.478427854242165</td><td>0.12816048</td><td>19.716349</td><td>0.12669260799966836</td><td>0</td><td>1</td><td>-0.12709024741477098</td><td>-0.12562237872986903</td><td>0.0341904718916031</td><td>0.0022222327587557156</td><td>0.1601287158174177</td><td>2.12</td><td>-0.019497</td><td>-0.042611998</td><td>-14.233393830277896</td><td>-14.210278832384324</td><td>-14.252890829958892</td><td>33.94974247834919</td><td>33.96923947803018</td><td>33.926627480455615</td><td>-0.1867402307353806</td><td>-0.24169029799896902</td><td>0.029984647626820515</td><td>0.02348499171469426</td><td>-14.229188006013112</td><td>0.08365059</td><td>0.02088245471803929</td><td>0.0</td><td>-7.7163486</td><td>0.0005821511362410844</td><td>0.0</td><td>4431.594071245115</td><td>0 .. 0</td><td>1 .. 1</td><td>11942.0</td><td>0.2320102083380774</td><td>1.6493615247576263</td><td>0.6872115201278449</td><td>301830</td><td>1.0950571238692304</td><td>0.22491903770684527</td><td>0.0</td><td>16</td><td>26</td><td>54</td><td>-99.0</td><td>-99</td></tr>\n",
       "<tr><td>144535</td><td>587724650867851335</td><td>180.43553435</td><td>-1.27966834</td><td>19.754574</td><td>0.02056</td><td>4</td><td>G12_Y3_015_209</td><td>5</td><td>22.384499</td><td>20.272396</td><td>19.751637</td><td>19.59044</td><td>19.51913</td><td>0.02056</td><td>62.660611716024974</td><td>33.984973151547244</td><td>G12</td><td>2</td><td>0</td><td>-61.38117550507615</td><td>-0.46659850918136564</td><td>-1.3711809239784203</td><td>61.381397230688215</td><td>0.038585740194848395</td><td>-1.4384515386798122</td><td>0.5207596</td><td>19.754574</td><td>0.5716933484128324</td><td>0</td><td>4</td><td>-0.1812376103065277</td><td>-0.23217137619982875</td><td>0.030177861272253664</td><td>0.02218833085928662</td><td>0.5287491129324983</td><td>2.12</td><td>-0.0199432</td><td>-0.043587197</td><td>-14.240633990746229</td><td>-14.216989994179695</td><td>-14.260577190798013</td><td>33.99520781276772</td><td>34.0151510128195</td><td>33.97156381620118</td><td>-0.18610434312255425</td><td>-0.2410951560895903</td><td>0.030620535239646862</td><td>0.024080133624072964</td><td>-14.241076664713622</td><td>0.045425415</td><td>0.020990717934778066</td><td>0.0</td><td>-7.754574</td><td>0.0005840275556640663</td><td>0.0</td><td>4500.599689949379</td><td>0 .. 0</td><td>1 .. 1</td><td>19273.0</td><td>0.3744375100736699</td><td>1.8439591034899485</td><td>0.2123627540295099</td><td>727739</td><td>1.9630301611410261</td><td>0.3688812100665</td><td>0.0</td><td>19</td><td>31</td><td>71</td><td>-99.0</td><td>-99</td></tr>\n",
       "<tr><td>...</td><td>...</td><td>...</td><td>...</td><td>...</td><td>...</td><td>...</td><td>...</td><td>...</td><td>...</td><td>...</td><td>...</td><td>...</td><td>...</td><td>...</td><td>...</td><td>...</td><td>...</td><td>...</td><td>...</td><td>...</td><td>...</td><td>...</td><td>...</td><td>...</td><td>...</td><td>...</td><td>...</td><td>...</td><td>...</td><td>...</td><td>...</td><td>...</td><td>...</td><td>...</td><td>...</td><td>...</td><td>...</td><td>...</td><td>...</td><td>...</td><td>...</td><td>...</td><td>...</td><td>...</td><td>...</td><td>...</td><td>...</td><td>...</td><td>...</td><td>...</td><td>...</td><td>...</td><td>...</td><td>...</td><td>...</td><td>...</td><td>...</td><td>...</td><td>...</td><td>...</td><td>...</td><td>...</td><td>...</td><td>...</td><td>...</td><td>...</td><td>...</td><td>...</td><td>...</td><td>...</td><td>...</td></tr>\n",
       "<tr><td>573696</td><td>588848899890610821</td><td>129.62018934</td><td>-0.19897738</td><td>19.738443</td><td>0.05792</td><td>4</td><td>G09_Y3_009_232</td><td>5</td><td>20.687862</td><td>19.998539</td><td>19.70756</td><td>19.609007</td><td>19.505909</td><td>0.05792</td><td>181.6693964726003</td><td>36.296408867071506</td><td>G9</td><td>2</td><td>0</td><td>-109.50643939670076</td><td>132.27561758994335</td><td>-0.59636089402662</td><td>108.58072106972752</td><td>-133.03597332677322</td><td>-0.7153582572967274</td><td>0.2909794</td><td>19.738443</td><td>0.31988965618028176</td><td>0</td><td>2</td><td>-0.11332232546804888</td><td>-0.14223259627219592</td><td>0.05708060061941214</td><td>0.030747289761881846</td><td>0.3173126962335069</td><td>2.12</td><td>-0.056182403</td><td>-0.122790396</td><td>-16.55886368993971</td><td>-16.492255696843596</td><td>-16.615046093057128</td><td>36.2973070645735</td><td>36.35348946769092</td><td>36.23069907147739</td><td>-0.14111845306499743</td><td>-0.18462302240060136</td><td>0.07560642529720368</td><td>0.08055226731306192</td><td>-16.5773895146175</td><td>0.061555862</td><td>0.059585887882716244</td><td>0.0</td><td>-7.7384434</td><td>0.001664320546950729</td><td>0.0</td><td>100670.63293325761</td><td>0 .. 0</td><td>1 .. 1</td><td>32127.0</td><td>0.6241661332504951</td><td>1.861574780265538</td><td>0.8717823281644772</td><td>181749</td><td>1.8910490178529287</td><td>0.6504525682322864</td><td>0.10410997561024772</td><td>4</td><td>7</td><td>24</td><td>-99.0</td><td>-99</td></tr>\n",
       "<tr><td>208612</td><td>587725074987876813</td><td>129.71517654</td><td>0.05914337</td><td>17.869698</td><td>0.02461</td><td>4</td><td>G09_Y1_AS2_305</td><td>6</td><td>19.12636</td><td>18.160894</td><td>17.972763</td><td>17.805138</td><td>17.721346</td><td>0.02461</td><td>75.24326832609364</td><td>34.38233825823272</td><td>G9</td><td>2</td><td>0</td><td>-46.92349625375633</td><td>56.48917241526691</td><td>0.07580404852454996</td><td>46.528520404323494</td><td>-56.81498939927036</td><td>0.02481203461932064</td><td>0.18813133</td><td>17.869698</td><td>0.1995281804508001</td><td>0</td><td>2</td><td>-0.12713461954535</td><td>-0.13853146759868915</td><td>0.036502698558432245</td><td>0.005192750505281424</td><td>0.21944128045061176</td><td>2.12</td><td>-0.023871701</td><td>-0.052173197</td><td>-16.525271684779636</td><td>-16.496970188720933</td><td>-16.549143385990373</td><td>34.39496925558041</td><td>34.41884095679115</td><td>34.36666775952171</td><td>-0.18059828481651216</td><td>-0.2357465671836946</td><td>0.03612659354568895</td><td>0.02942872252996867</td><td>-16.52489557976689</td><td>1.9303017</td><td>0.05963208241342178</td><td>0.0</td><td>-5.8696976</td><td>0.0016675522838638154</td><td>0.0</td><td>100902.20552402336</td><td>0 .. 0</td><td>1 .. 1</td><td>16612.0</td><td>0.32273937204087605</td><td>0.9282309364600078</td><td>0.886378821552229</td><td>768432</td><td>0.9926342371787741</td><td>0.3300444512882341</td><td>0.10410997561024772</td><td>1</td><td>1</td><td>4</td><td>-99.0</td><td>-99</td></tr>\n",
       "<tr><td>568562</td><td>588848899391357154</td><td>215.5943715</td><td>-0.60976204</td><td>19.447218</td><td>0.0507</td><td>4</td><td>G15_Y4_229_139</td><td>5</td><td>20.628197</td><td>19.712095</td><td>19.45009</td><td>19.225132</td><td>18.998543</td><td>0.0507</td><td>158.16082623101588</td><td>35.995494625313924</td><td>G15</td><td>2</td><td>0</td><td>-122.39693077462495</td><td>-87.60941052345521</td><td>-1.6019529912505495</td><td>123.00301258105182</td><td>86.75382585517966</td><td>-1.7367567983444412</td><td>0.26200485</td><td>19.447218</td><td>0.2907109719540433</td><td>0</td><td>2</td><td>-0.11422156749647207</td><td>-0.14292768715559342</td><td>0.05253475507756898</td><td>0.021813500011455433</td><td>0.29272610736103544</td><td>2.12</td><td>-0.049179003</td><td>-0.107484</td><td>-16.551632436464683</td><td>-16.493327441166297</td><td>-16.600811439107314</td><td>35.99885037774886</td><td>36.04802938039149</td><td>35.94054538245047</td><td>-0.14885566288669577</td><td>-0.1967488300528305</td><td>0.06786921547550534</td><td>0.06842645966083277</td><td>-16.566966896862617</td><td>0.3527813</td><td>0.05964308430709757</td><td>0.0</td><td>-7.447218</td><td>0.0016651117847864612</td><td>0.0</td><td>100957.4227071321</td><td>0 .. 0</td><td>1 .. 1</td><td>42250.0</td><td>0.8208366523433068</td><td>3.658735145602326</td><td>0.7682852117378701</td><td>173313</td><td>4.089820381280727</td><td>0.8496293821366293</td><td>0.10410997561024772</td><td>24</td><td>30</td><td>76</td><td>-99.0</td><td>-99</td></tr>\n",
       "<tr><td>376518</td><td>587727943490076915</td><td>133.98404836</td><td>1.52103525</td><td>18.653236</td><td>0.03522</td><td>4</td><td>G09_Y1_DN1_349</td><td>6</td><td>19.537008</td><td>18.91456</td><td>18.723478</td><td>18.607498</td><td>18.577606</td><td>0.03522</td><td>108.57647391298165</td><td>35.178678667856346</td><td>G9</td><td>2</td><td>0</td><td>-72.81084103297785</td><td>75.43985358443474</td><td>2.783996612592134</td><td>72.28604820845445</td><td>-75.94571831026511</td><td>2.7047777454561763</td><td>0.191082</td><td>18.653236</td><td>0.21080865887595884</td><td>0</td><td>2</td><td>-0.1176922888008726</td><td>-0.13741894694440956</td><td>0.046330890078333214</td><td>0.008905339244445781</td><td>0.2285075515663093</td><td>2.12</td><td>-0.0341634</td><td>-0.074666396</td><td>-16.53760976824371</td><td>-16.4971067729911</td><td>-16.571773168774524</td><td>35.19084615740386</td><td>35.225009557934676</td><td>35.15034316215125</td><td>-0.16693610011059046</td><td>-0.22082156891290639</td><td>0.049788778251610655</td><td>0.04435372080075689</td><td>-16.541067656416985</td><td>1.1467628</td><td>0.05964965041798367</td><td>0.0</td><td>-6.6532364</td><td>0.0016677006743661368</td><td>0.0</td><td>100990.37013080028</td><td>0 .. 0</td><td>1 .. 1</td><td>36671.0</td><td>0.7124473580610984</td><td>2.7078828379558404</td><td>0.5770156962804204</td><td>805421</td><td>2.9877173907537937</td><td>0.7276598115463576</td><td>0.10410997561024772</td><td>1</td><td>2</td><td>13</td><td>-99.0</td><td>-99</td></tr>\n",
       "<tr><td>278617</td><td>587726031690989899</td><td>132.74706519</td><td>0.81545433</td><td>19.182756</td><td>0.0449</td><td>4</td><td>G09_Y2_012_182</td><td>6</td><td>20.366165</td><td>19.372587</td><td>19.172089</td><td>19.035418</td><td>18.949251</td><td>0.0449</td><td>139.45130555881028</td><td>35.722112922674484</td><td>G9</td><td>2</td><td>0</td><td>-90.57787706395119</td><td>97.99666511930467</td><td>1.89937286358174</td><td>89.89438709967055</td><td>-98.62586826519342</td><td>1.800855936386617</td><td>0.20049858</td><td>19.182756</td><td>0.22471829259057355</td><td>0</td><td>2</td><td>-0.1118172112236913</td><td>-0.13603692288164768</td><td>0.052681761487007414</td><td>0.013493432529692567</td><td>0.23968690988993202</td><td>2.12</td><td>-0.043553002</td><td>-0.09518799</td><td>-16.548485258032628</td><td>-16.496850268353768</td><td>-16.592038260211297</td><td>35.73124168198282</td><td>35.77479468416149</td><td>35.67960669230396</td><td>-0.15538421315581485</td><td>-0.20608063982425123</td><td>0.06134066520638626</td><td>0.05909464988941204</td><td>-16.557144161752007</td><td>0.6172428</td><td>0.05965957861940685</td><td>0.0</td><td>-7.1827564</td><td>0.0016675576772754352</td><td>0.0</td><td>101040.21792999028</td><td>0 .. 0</td><td>1 .. 1</td><td>45639.0</td><td>0.8866784373087854</td><td>5.11122250000175</td><td>0.4597964997107762</td><td>420643</td><td>5.02768719181079</td><td>0.8835896894624965</td><td>0.10410997561024772</td><td>4</td><td>7</td><td>19</td><td>-99.0</td><td>-99</td></tr>\n",
       "<tr><td>508927</td><td>587729971787661772</td><td>218.94878166</td><td>-1.49494794</td><td>19.68151</td><td>0.05652</td><td>4</td><td>G15_Y5_009_137</td><td>5</td><td>20.925257</td><td>19.96086</td><td>19.624292</td><td>19.394203</td><td>19.26545</td><td>0.05652</td><td>177.0920808273686</td><td>36.240995704598824</td><td>G15</td><td>2</td><td>0</td><td>-130.3137571576943</td><td>-105.33325899213578</td><td>-4.372960790718614</td><td>131.0401904899013</td><td>104.42204064318538</td><td>-4.516574456307622</td><td>0.33656693</td><td>19.68151</td><td>0.3678611466396227</td><td>0</td><td>3</td><td>-0.11884071788265528</td><td>-0.15013493947335405</td><td>0.05904045047105062</td><td>0.03723717184548239</td><td>0.35837020367439637</td><td>2.12</td><td>-0.0548244</td><td>-0.11982239</td><td>-16.56370082908373</td><td>-16.498702839399385</td><td>-16.618525229776907</td><td>36.2452117543767</td><td>36.300036155069876</td><td>36.180213764692354</td><td>-0.14258592660135522</td><td>-0.18701782039158527</td><td>0.0741389517608459</td><td>0.07815746932207801</td><td>-16.578799330373524</td><td>0.11848831</td><td>0.05968187816510539</td><td>0.0</td><td>-7.681511</td><td>0.0016692672808808558</td><td>0.0</td><td>101152.23085241175</td><td>0 .. 0</td><td>1 .. 1</td><td>32769.0</td><td>0.6366389647488242</td><td>1.482252060646539</td><td>0.5545048746035911</td><td>860497</td><td>1.2377053502679614</td><td>0.6136751873582207</td><td>0.10410997561024772</td><td>31</td><td>62</td><td>101</td><td>-99.0</td><td>-99</td></tr>\n",
       "<tr><td>48406</td><td>587722982293111206</td><td>216.92788588</td><td>-0.69212045</td><td>19.608465</td><td>0.05465</td><td>4</td><td>G15_Y5_020_063</td><td>5</td><td>20.736423</td><td>19.873705</td><td>19.583172</td><td>19.305088</td><td>19.259096</td><td>0.05465</td><td>170.992236769018</td><td>36.164881967021834</td><td>G15</td><td>2</td><td>0</td><td>-129.597418911579</td><td>-97.40316319205994</td><td>-1.95846829044301</td><td>130.27122090871836</td><td>96.49713254392688</td><td>-2.1012377682581973</td><td>0.29053307</td><td>19.608465</td><td>0.32019343833543695</td><td>0</td><td>2</td><td>-0.11504854828752673</td><td>-0.14470892082679535</td><td>0.05540173418871144</td><td>0.028362104781488262</td><td>0.3175726952031216</td><td>2.12</td><td>-0.0530105</td><td>-0.115857996</td><td>-16.558808005540897</td><td>-16.495960510461856</td><td>-16.6118185065084</td><td>36.167273200243045</td><td>36.22028370121055</td><td>36.104425705164005</td><td>-0.14457043323840918</td><td>-0.1901840710809567</td><td>0.07215444512379193</td><td>0.07499121863270658</td><td>-16.575560716475977</td><td>0.19153404</td><td>0.05968719249378992</td><td>0.0</td><td>-7.608465</td><td>0.0016671600013064968</td><td>0.0</td><td>101178.94766366674</td><td>0 .. 0</td><td>1 .. 1</td><td>42532.0</td><td>0.8263153727210776</td><td>3.703884443339843</td><td>0.37684543626672906</td><td>885848</td><td>4.020142334488663</td><td>0.8472397266440196</td><td>0.10410997561024772</td><td>62</td><td>109</td><td>178</td><td>-99.0</td><td>-99</td></tr>\n",
       "<tr><td>508739</td><td>587729971787268840</td><td>218.01749046</td><td>-1.60446495</td><td>19.659256</td><td>0.05595</td><td>4</td><td>G15_Y4_239_014</td><td>5</td><td>20.705706</td><td>19.726772</td><td>19.404442</td><td>19.434927</td><td>19.363876</td><td>0.05595</td><td>175.2310686896291</td><td>36.21805554809398</td><td>G15</td><td>2</td><td>0</td><td>-130.6850667667667</td><td>-102.16662473134623</td><td>-4.6464211968738365</td><td>131.38911071885337</td><td>101.25289428074073</td><td>-4.7904174192666185</td><td>0.32233047</td><td>19.659256</td><td>0.3531508423161277</td><td>0</td><td>3</td><td>-0.1176961005636394</td><td>-0.148516468026118</td><td>0.05789188868539551</td><td>0.034442313379391215</td><td>0.3457800501595199</td><td>2.12</td><td>-0.054271504</td><td>-0.118613996</td><td>-16.562419951051112</td><td>-16.498077459722396</td><td>-16.616691455334063</td><td>36.221675932496424</td><td>36.275947436779376</td><td>36.15733344116771</td><td>-0.1431878595532904</td><td>-0.18798688274232045</td><td>0.07353701880891073</td><td>0.07718840697134283</td><td>-16.578065081174625</td><td>0.14074326</td><td>0.05968958086440671</td><td>0.0</td><td>-7.659256</td><td>0.0016687862956435596</td><td>0.0</td><td>101190.94570567776</td><td>0 .. 0</td><td>1 .. 1</td><td>31213.0</td><td>0.6064088622388553</td><td>1.1878642870379956</td><td>0.8609269166403981</td><td>1099246</td><td>1.7290336377032272</td><td>0.6543964711997641</td><td>0.10410997561024772</td><td>54</td><td>79</td><td>128</td><td>-99.0</td><td>-99</td></tr>\n",
       "<tr><td>346933</td><td>587726033302782675</td><td>135.45636895</td><td>2.06947616</td><td>19.654257</td><td>0.05583</td><td>4</td><td>G09_Y3_025_192</td><td>5</td><td>20.974653</td><td>20.104229</td><td>19.78591</td><td>19.615429</td><td>19.412</td><td>0.05583</td><td>174.83946122684816</td><td>36.21319729763968</td><td>G9</td><td>2</td><td>0</td><td>-117.94483336840788</td><td>116.0807472508049</td><td>5.979829792537195</td><td>117.1390361339653</td><td>-116.9003363079432</td><td>5.851457053575151</td><td>0.31831932</td><td>19.654257</td><td>0.3489902006830625</td><td>0</td><td>2</td><td>-0.11734368620954892</td><td>-0.1480145662137552</td><td>0.057595703510533294</td><td>0.03369595521194432</td><td>0.3422190689772999</td><td>2.12</td><td>-0.054155104</td><td>-0.118359596</td><td>-16.562381076609217</td><td>-16.498176584934317</td><td>-16.616536180471503</td><td>36.21663789728793</td><td>36.27079300115022</td><td>36.15243340561303</td><td>-0.14331491237696153</td><td>-0.1881904537449524</td><td>0.07340996598523958</td><td>0.07698483596871086</td><td>-16.578195339083923</td><td>0.14574242</td><td>0.05969934327233145</td><td>0.0</td><td>-7.654257</td><td>0.0016688621992153884</td><td>0.0</td><td>101240.02414558278</td><td>0 .. 0</td><td>1 .. 1</td><td>37998.0</td><td>0.7382284287749342</td><td>2.6903358065273313</td><td>0.4651369755009859</td><td>998402</td><td>2.587442490906123</td><td>0.7258141426699519</td><td>0.10410997561024772</td><td>23</td><td>38</td><td>41</td><td>-99.0</td><td>-99</td></tr>\n",
       "<tr><td>619124</td><td>588848900466278705</td><td>218.19800959</td><td>0.28563409</td><td>18.632116</td><td>0.03495</td><td>4</td><td>G15_Y3_033_247</td><td>6</td><td>19.997473</td><td>18.985266</td><td>18.687645</td><td>18.47991</td><td>18.442722</td><td>0.03495</td><td>107.7216078042098</td><td>35.16151413435858</td><td>G15</td><td>2</td><td>0</td><td>-81.79624980681912</td><td>-64.36270048926112</td><td>0.5188825405801353</td><td>82.24357169966719</td><td>63.79078321924065</td><td>0.42874955202425913</td><td>0.29762077</td><td>18.632116</td><td>0.32695625631719877</td><td>0</td><td>2</td><td>-0.12966358947009798</td><td>-0.15899907247186706</td><td>0.041840943995339636</td><td>0.01610090823081428</td><td>0.323360809079955</td><td>2.12</td><td>-0.0339015</td><td>-0.074094</td><td>-16.537337259157937</td><td>-16.497144763126414</td><td>-16.5712387606049</td><td>35.16945357690696</td><td>35.20335507835392</td><td>35.12926108087544</td><td>-0.16727051977152654</td><td>-0.22121753631886243</td><td>0.04945435859067457</td><td>0.04395775339480085</td><td>-16.544950673753274</td><td>1.1678829</td><td>0.05970830553901469</td><td>0.0</td><td>-6.6321163</td><td>0.0016680689942086312</td><td>0.0</td><td>101285.09738831906</td><td>0 .. 0</td><td>1 .. 1</td><td>38680.0</td><td>0.7514783837311032</td><td>4.156280602829017</td><td>0.6423045455715601</td><td>1121523</td><td>4.117663075936186</td><td>0.7537128848438336</td><td>0.10410997561024772</td><td>12</td><td>24</td><td>50</td><td>-99.0</td><td>-99</td></tr>\n",
       "<tr><td>273130</td><td>587726031175745879</td><td>182.21780275</td><td>1.38632991</td><td>18.764616</td><td>0.03716</td><td>4</td><td>G12_Y1_FX2_187</td><td>6</td><td>19.832903</td><td>19.06295</td><td>18.75728</td><td>18.588005</td><td>18.483227</td><td>0.03716</td><td>114.72891481082738</td><td>35.298364428662104</td><td>G12</td><td>2</td><td>0</td><td>-110.50311874251938</td><td>-4.27948785765769</td><td>2.6762624106351915</td><td>110.53313917424556</td><td>3.5088626964337526</td><td>2.5551272966720022</td><td>0.30566978</td><td>18.764616</td><td>0.3361856697040983</td><td>0</td><td>2</td><td>-0.1290013502037053</td><td>-0.15951723536190515</td><td>0.04394195009223259</td><td>0.0183517190674318</td><td>0.33126001557069923</td><td>2.12</td><td>-0.0360452</td><td>-0.0787792</td><td>-16.541645165058334</td><td>-16.498911167951782</td><td>-16.577690366181095</td><td>35.306261177631576</td><td>35.34230637875434</td><td>35.263527180525024</td><td>-0.16455312704280156</td><td>-0.21795208991824566</td><td>0.05217175131939955</td><td>0.047223199795417614</td><td>-16.5498749662855</td><td>1.0353832</td><td>0.059741239163419994</td><td>0.0</td><td>-6.764616</td><td>0.0016694257049819836</td><td>0.0</td><td>101450.82388812299</td><td>0 .. 0</td><td>1 .. 1</td><td>31123.0</td><td>0.6046603344587157</td><td>1.223757130734461</td><td>0.5298422518916478</td><td>1327200</td><td>1.3429048233884522</td><td>0.6127814950601714</td><td>0.10410997561024772</td><td>3</td><td>8</td><td>14</td><td>-99.0</td><td>-99</td></tr>\n",
       "</table></div>"
      ],
      "text/plain": [
       "<Table length=1769>\n",
       " CATAID       OBJID               RA            DEC      R_PETRO   ZGAMA    NQ      SPECID     ...     rFILLFACTOR       FILLFACTOR_VMAX   DDP1_N8 DDP2_N8 DDP3_N8 DDP1_DELTA8 DDP1_DELTA8_TIER\n",
       "                                 deg            deg        mag                                 ...                                                                                             \n",
       " int32        int64            float64        float64    float32  float32 int16    bytes33     ...       float64             float64        int64   int64   int64    float64        int64      \n",
       "------- ------------------ ---------------- ----------- --------- ------- ----- -------------- ... ------------------- ------------------- ------- ------- ------- ----------- ----------------\n",
       "3885866 588010930833720024 1.3589216253e+02 -1.59989053  19.79879 0.01913     3 G09_Y4_201_099 ... 0.20312071687182062                 0.0       0       2       4       -99.0              -99\n",
       "   8480 588848900987486613     182.47796837  0.67909776 19.789885 0.01915     4 G12_Y1_ND5_288 ... 0.20925999439754947                 0.0      18      28      60       -99.0              -99\n",
       " 402403 587728308031390135     174.91458961  1.95910608 19.758127 0.01985     3 G12_Y1_AX2_319 ... 0.17520254660450293                 0.0      16      22      43       -99.0              -99\n",
       " 623135 588848900967629243     137.02307926  0.66430396 19.635847 0.01883     4 G09_Y5_006_365 ... 0.20263501453592433                 0.0       0       2       4       -99.0              -99\n",
       " 185241 587725041702338765     179.56499528 -1.47464138 19.793777 0.02028     4 G12_Y2_016_203 ...  0.3583900396111406                 0.0      19      31      71       -99.0              -99\n",
       "  39181 587722982275023056     175.60603056 -0.64954903 19.761354 0.02027     4 G12_Y2_037_270 ... 0.22491903770684527                 0.0      17      27      54       -99.0              -99\n",
       " 166236 587725040094282314     185.41893084 -2.87630958  19.78011 0.02052     3 G12_Y6_043_061 ...  0.2145055796252292                 0.0      16      24      60       -99.0              -99\n",
       " 165412 587725040092446747     181.18660853 -2.71460413 19.682487 0.01973     4 G12_Y5_010_024 ...  0.2650380506518773                 0.0      19      30      66       -99.0              -99\n",
       " 124404 587724649256780399     179.42036059 -2.63331031 19.686253 0.01976     4 G12_Y4_207_080 ... 0.29328649850760435                 0.0      19      30      63       -99.0              -99\n",
       " 143359 587724650865688883     175.57487144 -1.34866622 19.716349  0.0201     4 G12_Y2_020_380 ... 0.22491903770684527                 0.0      16      26      54       -99.0              -99\n",
       " 144535 587724650867851335     180.43553435 -1.27966834 19.754574 0.02056     4 G12_Y3_015_209 ...     0.3688812100665                 0.0      19      31      71       -99.0              -99\n",
       "    ...                ...              ...         ...       ...     ...   ...            ... ...                 ...                 ...     ...     ...     ...         ...              ...\n",
       " 573696 588848899890610821     129.62018934 -0.19897738 19.738443 0.05792     4 G09_Y3_009_232 ...  0.6504525682322864 0.10410997561024772       4       7      24       -99.0              -99\n",
       " 208612 587725074987876813     129.71517654  0.05914337 17.869698 0.02461     4 G09_Y1_AS2_305 ...  0.3300444512882341 0.10410997561024772       1       1       4       -99.0              -99\n",
       " 568562 588848899391357154      215.5943715 -0.60976204 19.447218  0.0507     4 G15_Y4_229_139 ...  0.8496293821366293 0.10410997561024772      24      30      76       -99.0              -99\n",
       " 376518 587727943490076915     133.98404836  1.52103525 18.653236 0.03522     4 G09_Y1_DN1_349 ...  0.7276598115463576 0.10410997561024772       1       2      13       -99.0              -99\n",
       " 278617 587726031690989899     132.74706519  0.81545433 19.182756  0.0449     4 G09_Y2_012_182 ...  0.8835896894624965 0.10410997561024772       4       7      19       -99.0              -99\n",
       " 508927 587729971787661772     218.94878166 -1.49494794  19.68151 0.05652     4 G15_Y5_009_137 ...  0.6136751873582207 0.10410997561024772      31      62     101       -99.0              -99\n",
       "  48406 587722982293111206     216.92788588 -0.69212045 19.608465 0.05465     4 G15_Y5_020_063 ...  0.8472397266440196 0.10410997561024772      62     109     178       -99.0              -99\n",
       " 508739 587729971787268840     218.01749046 -1.60446495 19.659256 0.05595     4 G15_Y4_239_014 ...  0.6543964711997641 0.10410997561024772      54      79     128       -99.0              -99\n",
       " 346933 587726033302782675     135.45636895  2.06947616 19.654257 0.05583     4 G09_Y3_025_192 ...  0.7258141426699519 0.10410997561024772      23      38      41       -99.0              -99\n",
       " 619124 588848900466278705     218.19800959  0.28563409 18.632116 0.03495     4 G15_Y3_033_247 ...  0.7537128848438336 0.10410997561024772      12      24      50       -99.0              -99\n",
       " 273130 587726031175745879     182.21780275  1.38632991 18.764616 0.03716     4 G12_Y1_FX2_187 ...  0.6127814950601714 0.10410997561024772       3       8      14       -99.0              -99"
      ]
     },
     "execution_count": 12,
     "metadata": {},
     "output_type": "execute_result"
    }
   ],
   "source": [
    "fpath = findfile(ftype='ddp_n8', dryrun=dryrun, version=version, survey=survey)\n",
    "ddp   = Table.read(fpath)\n",
    "ddp   = ddp[ddp['MCOLOR_0P0'] > -16.5]\n",
    "ddp.sort('ZMAX')\n",
    "ddp"
   ]
  },
  {
   "cell_type": "markdown",
   "id": "ca3804c9",
   "metadata": {},
   "source": [
    "##  Cobaya"
   ]
  },
  {
   "cell_type": "code",
   "execution_count": null,
   "id": "aac80f2c",
   "metadata": {},
   "outputs": [],
   "source": [
    "# root = '/cosma/home/durham/{}/data/GAMA4/cobaya/'.format(os.environ['USER'])"
   ]
  },
  {
   "cell_type": "code",
   "execution_count": null,
   "id": "b6795450",
   "metadata": {},
   "outputs": [],
   "source": [
    "# dat = Table.read(root + 'schechter_chain.1.txt', format='ascii')        "
   ]
  },
  {
   "cell_type": "code",
   "execution_count": null,
   "id": "8189b481",
   "metadata": {},
   "outputs": [],
   "source": [
    "# samples = np.c_[dat['log10phistar'], dat['Mstar'], dat['alpha']]"
   ]
  },
  {
   "cell_type": "code",
   "execution_count": null,
   "id": "0cbf1446",
   "metadata": {},
   "outputs": [],
   "source": [
    "# samples = MCSamples(samples=samples, names=['log10phistar', 'Mstar', 'alpha'], labels=['log10phistar', 'Mstar', 'alpha'])"
   ]
  },
  {
   "cell_type": "code",
   "execution_count": null,
   "id": "8a6fecb7",
   "metadata": {},
   "outputs": [],
   "source": [
    "# tmr_ref = {'log10phistar': -2.01, 'Mstar': -20.89, 'alpha': -1.25}"
   ]
  },
  {
   "cell_type": "code",
   "execution_count": null,
   "id": "cadcb5e8",
   "metadata": {},
   "outputs": [],
   "source": [
    "# g = plots.get_subplot_plotter()"
   ]
  },
  {
   "cell_type": "code",
   "execution_count": null,
   "id": "e81c39e4",
   "metadata": {},
   "outputs": [],
   "source": [
    "# g.triangle_plot([samples], filled=True)        "
   ]
  },
  {
   "cell_type": "markdown",
   "id": "05c0455e",
   "metadata": {},
   "source": [
    "# Done."
   ]
  }
 ],
 "metadata": {
  "kernelspec": {
   "display_name": "lumfn",
   "language": "python",
   "name": "lumfn"
  },
  "language_info": {
   "codemirror_mode": {
    "name": "ipython",
    "version": 3
   },
   "file_extension": ".py",
   "mimetype": "text/x-python",
   "name": "python",
   "nbconvert_exporter": "python",
   "pygments_lexer": "ipython3",
   "version": "3.9.9"
  }
 },
 "nbformat": 4,
 "nbformat_minor": 5
}
