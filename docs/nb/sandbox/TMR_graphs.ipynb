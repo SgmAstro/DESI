{
 "cells": [
  {
   "cell_type": "code",
   "execution_count": 12,
   "id": "dc7440f1",
   "metadata": {},
   "outputs": [],
   "source": [
    "import os\n",
    "import sys\n",
    "import numpy as np\n",
    "import matplotlib.pyplot as plt\n",
    "from  astropy.table import Table"
   ]
  },
  {
   "cell_type": "code",
   "execution_count": 6,
   "id": "2615fb80",
   "metadata": {},
   "outputs": [],
   "source": [
    "sys.path.append('{}/DESI'.format(os.environ['HOME']))"
   ]
  },
  {
   "cell_type": "code",
   "execution_count": 7,
   "id": "4b1dca76",
   "metadata": {},
   "outputs": [],
   "source": [
    "from findfile import findfile"
   ]
  },
  {
   "cell_type": "code",
   "execution_count": 9,
   "id": "ca625055",
   "metadata": {},
   "outputs": [],
   "source": [
    "survey = 'gama'\n",
    "version = 'latest'\n",
    "dryrun = False"
   ]
  },
  {
   "cell_type": "code",
   "execution_count": 13,
   "id": "59f6ce6a",
   "metadata": {},
   "outputs": [],
   "source": [
    "fpath =  findfile(ftype='ddp_n8', version=version, dryrun=dryrun, survey=survey)\n",
    "dat   =  Table.read(fpath)"
   ]
  },
  {
   "cell_type": "code",
   "execution_count": 15,
   "id": "4f01bf58",
   "metadata": {},
   "outputs": [
    {
     "data": {
      "text/plain": [
       "('CATAID',\n",
       " 'OBJID',\n",
       " 'RA',\n",
       " 'DEC',\n",
       " 'R_PETRO',\n",
       " 'ZGAMA',\n",
       " 'NQ',\n",
       " 'SPECID',\n",
       " 'SURVEY_CLASS',\n",
       " 'UMAG_DRED_SDSS',\n",
       " 'GMAG_DRED_SDSS',\n",
       " 'RMAG_DRED_SDSS',\n",
       " 'IMAG_DRED_SDSS',\n",
       " 'ZMAG_DRED_SDSS',\n",
       " 'LUMDIST',\n",
       " 'DISTMOD',\n",
       " 'FIELD',\n",
       " 'IN_D8LUMFN',\n",
       " 'CARTESIAN_X',\n",
       " 'CARTESIAN_Y',\n",
       " 'CARTESIAN_Z',\n",
       " 'ROTCARTESIAN_X',\n",
       " 'ROTCARTESIAN_Y',\n",
       " 'ROTCARTESIAN_Z',\n",
       " 'GMR',\n",
       " 'DETMAG',\n",
       " 'REST_GMR_0P1',\n",
       " 'REST_GMR_0P1_WARN',\n",
       " 'REST_GMR_0P1_INDEX',\n",
       " 'KCORR_R0P1',\n",
       " 'KCORR_G0P1',\n",
       " 'KCORR_R0P0',\n",
       " 'KCORR_G0P0',\n",
       " 'REST_GMR_0P0',\n",
       " 'Q_COLOR_0P0',\n",
       " 'EQ_ALL_0P0',\n",
       " 'EQ_COLOR_0P0',\n",
       " 'MALL_0P0',\n",
       " 'MCOLOR_0P0',\n",
       " 'MQZERO_0P0',\n",
       " 'Z_THETA_QALL',\n",
       " 'Z_THETA_QZERO',\n",
       " 'Z_THETA_QCOLOR',\n",
       " 'DDPKCORR_R0P1',\n",
       " 'DDPKCORR_G0P1',\n",
       " 'DDPKCORR_R0P0',\n",
       " 'DDPKCORR_G0P0',\n",
       " 'DDPMALL_0P0',\n",
       " 'DELTA_DETMAG_FAINT',\n",
       " 'ZMAX',\n",
       " 'ZMAX_WARN',\n",
       " 'DELTA_DETMAG_BRIGHT',\n",
       " 'ZMIN',\n",
       " 'ZMIN_WARN',\n",
       " 'DDP',\n",
       " 'DDPZLIMS',\n",
       " 'WEIGHT_STEPWISE',\n",
       " 'RANDSEP',\n",
       " 'RANDMATCH',\n",
       " 'BOUND_DIST',\n",
       " 'FILLFACTOR',\n",
       " 'FILLFACTOR_VMAX',\n",
       " 'DDP1_N8',\n",
       " 'DDP2_N8',\n",
       " 'DDP3_N8',\n",
       " 'DDP1_DELTA8')"
      ]
     },
     "execution_count": 15,
     "metadata": {},
     "output_type": "execute_result"
    }
   ],
   "source": [
    "dat.dtype.names"
   ]
  },
  {
   "cell_type": "code",
   "execution_count": 16,
   "id": "7beec964",
   "metadata": {},
   "outputs": [],
   "source": [
    "# define masks for Figure 8\n",
    "\n",
    "isred = (dat['GMR'] > 0.76)\n",
    "isblue = (dat['GMR'] <= 0.76)\n",
    "\n",
    "isd0 = (dat['DDP1_DELTA8'] < -0.75)\n",
    "isd8 = (dat['DDP1_DELTA8'] > 2.9) & (dat['DDP1_DELTA8'] < 4.0)"
   ]
  },
  {
   "cell_type": "code",
   "execution_count": null,
   "id": "7bf11b0f",
   "metadata": {},
   "outputs": [],
   "source": [
    "# add links to lumfn code/function here"
   ]
  },
  {
   "cell_type": "code",
   "execution_count": null,
   "id": "10b54dd6",
   "metadata": {},
   "outputs": [],
   "source": []
  },
  {
   "cell_type": "code",
   "execution_count": null,
   "id": "62491036",
   "metadata": {},
   "outputs": [],
   "source": []
  },
  {
   "cell_type": "code",
   "execution_count": 19,
   "id": "ae49f316",
   "metadata": {},
   "outputs": [
    {
     "data": {
      "image/png": "[encoded data removed]",
      "text/plain": [
       "<Figure size 720x720 with 9 Axes>"
      ]
     },
     "metadata": {
      "needs_background": "light"
     },
     "output_type": "display_data"
    }
   ],
   "source": [
    "fig, axes = plt.subplots(3,3, figsize=(10,10))"
   ]
  },
  {
   "cell_type": "code",
   "execution_count": null,
   "id": "49e2c8bb",
   "metadata": {},
   "outputs": [],
   "source": []
  },
  {
   "cell_type": "code",
   "execution_count": null,
   "id": "ac3bafbd",
   "metadata": {},
   "outputs": [],
   "source": []
  }
 ],
 "metadata": {
  "kernelspec": {
   "display_name": "Lumfn",
   "language": "python",
   "name": "lumfn"
  },
  "language_info": {
   "codemirror_mode": {
    "name": "ipython",
    "version": 3
   },
   "file_extension": ".py",
   "mimetype": "text/x-python",
   "name": "python",
   "nbconvert_exporter": "python",
   "pygments_lexer": "ipython3",
   "version": "3.9.9"
  }
 },
 "nbformat": 4,
 "nbformat_minor": 5
}
