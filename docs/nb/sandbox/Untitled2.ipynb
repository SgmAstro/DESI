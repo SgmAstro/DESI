{
 "cells": [
  {
   "cell_type": "code",
   "execution_count": 1,
   "id": "17cb19ca",
   "metadata": {},
   "outputs": [],
   "source": [
    "# New plots"
   ]
  },
  {
   "cell_type": "code",
   "execution_count": 27,
   "id": "8f67f7a4",
   "metadata": {},
   "outputs": [],
   "source": [
    "import os\n",
    "import sys\n",
    "import numpy as np\n",
    "import matplotlib.pyplot as plt\n",
    "import astropy.io.fits as fits\n",
    "from   astropy.table import Table"
   ]
  },
  {
   "cell_type": "code",
   "execution_count": 4,
   "id": "781ab2df",
   "metadata": {},
   "outputs": [],
   "source": [
    "sys.path.append('{}/DESI'.format(os.environ['HOME']))"
   ]
  },
  {
   "cell_type": "code",
   "execution_count": 5,
   "id": "247b3baa",
   "metadata": {},
   "outputs": [],
   "source": [
    "import pubplot\n",
    "from   findfile import findfile, fetch_fields"
   ]
  },
  {
   "cell_type": "code",
   "execution_count": 6,
   "id": "81fe8ffe",
   "metadata": {},
   "outputs": [],
   "source": [
    "fpath = '/cosma/home/durham/dc-wils7/data/v3/gama_desi.fits'"
   ]
  },
  {
   "cell_type": "code",
   "execution_count": 7,
   "id": "a6173040",
   "metadata": {},
   "outputs": [
    {
     "name": "stdout",
     "output_type": "stream",
     "text": [
      "Warning:  GOLD_DIR not defined in environment; assuming {gold_dir}\n",
      "Warning:  RANDOMS_DIR not defined in environment; assuming {randoms_dir}\n"
     ]
    }
   ],
   "source": [
    "fpath = findfile(ftype='gold', survey='gama')"
   ]
  },
  {
   "cell_type": "code",
   "execution_count": 9,
   "id": "8c120a16",
   "metadata": {},
   "outputs": [],
   "source": [
    "gama = Table.read(fpath)"
   ]
  },
  {
   "cell_type": "code",
   "execution_count": 32,
   "id": "78c15ada",
   "metadata": {},
   "outputs": [],
   "source": [
    "#fpath = '/cosma/home/durham/dc-moor2/data/gama_desi.fits'\n",
    "fpath = '/cosma/home/durham/dc-wils7/data/v3/gama_desi.fits'\n",
    "gama_desi = Table.read(fpath)\n"
   ]
  },
  {
   "cell_type": "code",
   "execution_count": 35,
   "id": "61fe466e",
   "metadata": {},
   "outputs": [
    {
     "data": {
      "text/plain": [
       "['BGS_TARGET',\n",
       " 'BITWEIGHTS',\n",
       " 'BRICKID',\n",
       " 'BRICKNAME',\n",
       " 'BRICK_OBJID',\n",
       " 'CATAID',\n",
       " 'CHI2',\n",
       " 'COADD_EXPTIME',\n",
       " 'COADD_FIBERSTATUS',\n",
       " 'COADD_NUMEXP',\n",
       " 'COADD_NUMNIGHT',\n",
       " 'COADD_NUMTILE',\n",
       " 'COEFF',\n",
       " 'COMP_TILE',\n",
       " 'DEC',\n",
       " 'DELTACHI2',\n",
       " 'DESI_SEP',\n",
       " 'DESI_TARGET',\n",
       " 'DETMAG',\n",
       " 'EBV',\n",
       " 'FA_TARGET',\n",
       " 'FA_TYPE',\n",
       " 'FIBERFLUX_G',\n",
       " 'FIBERFLUX_R',\n",
       " 'FIBERFLUX_Z',\n",
       " 'FIBERTOTFLUX_G',\n",
       " 'FIBERTOTFLUX_R',\n",
       " 'FIBERTOTFLUX_Z',\n",
       " 'FIELD_1',\n",
       " 'FIELD_2',\n",
       " 'FLUX_G',\n",
       " 'FLUX_IVAR_G',\n",
       " 'FLUX_IVAR_R',\n",
       " 'FLUX_IVAR_W1',\n",
       " 'FLUX_IVAR_W2',\n",
       " 'FLUX_IVAR_Z',\n",
       " 'FLUX_R',\n",
       " 'FLUX_W1',\n",
       " 'FLUX_W2',\n",
       " 'FLUX_Z',\n",
       " 'FRACZ_TILELOCID',\n",
       " 'GAIA_PHOT_BP_MEAN_MAG',\n",
       " 'GAIA_PHOT_G_MEAN_MAG',\n",
       " 'GAIA_PHOT_RP_MEAN_MAG',\n",
       " 'GAMA_FIELD',\n",
       " 'GMAG_DRED',\n",
       " 'GMAG_DRED_SDSS',\n",
       " 'GMR',\n",
       " 'GOOD_MATCH',\n",
       " 'GOOD_Z',\n",
       " 'IMAG_DRED_SDSS',\n",
       " 'IN_CLUSTERING',\n",
       " 'IN_FULL',\n",
       " 'IN_GOLD',\n",
       " 'LOCATION_ASSIGNED',\n",
       " 'MASKBITS',\n",
       " 'MEAN_DELTA_X',\n",
       " 'MEAN_DELTA_Y',\n",
       " 'MEAN_FIBER_DEC',\n",
       " 'MEAN_FIBER_RA',\n",
       " 'MEAN_PSF_TO_FIBER_SPECFLUX',\n",
       " 'MORPHTYPE',\n",
       " 'MWS_TARGET',\n",
       " 'NCOEFF',\n",
       " 'NPIXELS',\n",
       " 'NQ',\n",
       " 'NTILE',\n",
       " 'NUMOBS_INIT',\n",
       " 'NZ',\n",
       " 'OBJID',\n",
       " 'OBJTYPE',\n",
       " 'OBSCONDITIONS',\n",
       " 'PARALLAX',\n",
       " 'PHOTSYS',\n",
       " 'PLATE_DEC',\n",
       " 'PLATE_RA',\n",
       " 'PMDEC',\n",
       " 'PMRA',\n",
       " 'PRIORITY_INIT',\n",
       " 'PROB_OBS',\n",
       " 'RA',\n",
       " 'REF_CAT',\n",
       " 'REF_EPOCH',\n",
       " 'REF_ID',\n",
       " 'RELEASE',\n",
       " 'RMAG_DRED',\n",
       " 'RMAG_DRED_SDSS',\n",
       " 'RMS_DELTA_X',\n",
       " 'RMS_DELTA_Y',\n",
       " 'ROS',\n",
       " 'ROS_DIST',\n",
       " 'R_PETRO',\n",
       " 'SERSIC',\n",
       " 'SHAPE_E1',\n",
       " 'SHAPE_E2',\n",
       " 'SHAPE_R',\n",
       " 'SPECID',\n",
       " 'SPECTYPE',\n",
       " 'STD_FIBER_DEC',\n",
       " 'STD_FIBER_RA',\n",
       " 'SUBPRIORITY',\n",
       " 'SUBTYPE',\n",
       " 'SURVEY_CLASS',\n",
       " 'SV3_BGS_TARGET',\n",
       " 'SV3_DESI_TARGET',\n",
       " 'SV3_MWS_TARGET',\n",
       " 'SV3_SCND_TARGET',\n",
       " 'TARGETID',\n",
       " 'TARGET_DEC',\n",
       " 'TARGET_RA',\n",
       " 'TILELOCIDS',\n",
       " 'TILELOCID_ASSIGNED',\n",
       " 'TILES',\n",
       " 'UMAG_DRED_SDSS',\n",
       " 'W1MAG_DRED',\n",
       " 'W2MAG_DRED',\n",
       " 'WEIGHT',\n",
       " 'WEIGHT_ZFAIL',\n",
       " 'ZDESI',\n",
       " 'ZERR',\n",
       " 'ZGAMA',\n",
       " 'ZMAG_DRED_SDSS',\n",
       " 'ZWARN']"
      ]
     },
     "execution_count": 35,
     "metadata": {},
     "output_type": "execute_result"
    }
   ],
   "source": [
    "sorted(gama_desi.dtype.names)"
   ]
  },
  {
   "cell_type": "code",
   "execution_count": 33,
   "id": "605e00f6",
   "metadata": {},
   "outputs": [
    {
     "ename": "KeyError",
     "evalue": "'GMR_1'",
     "output_type": "error",
     "traceback": [
      "\u001b[0;31m---------------------------------------------------------------------------\u001b[0m",
      "\u001b[0;31mKeyError\u001b[0m                                  Traceback (most recent call last)",
      "\u001b[0;32m/tmp/ipykernel_34263/3001082529.py\u001b[0m in \u001b[0;36m<module>\u001b[0;34m\u001b[0m\n\u001b[0;32m----> 1\u001b[0;31m \u001b[0mplt\u001b[0m\u001b[0;34m.\u001b[0m\u001b[0mscatter\u001b[0m\u001b[0;34m(\u001b[0m\u001b[0mgama_desi\u001b[0m\u001b[0;34m[\u001b[0m\u001b[0;34m'GMR_1'\u001b[0m\u001b[0;34m]\u001b[0m\u001b[0;34m,\u001b[0m \u001b[0mgama_desi\u001b[0m\u001b[0;34m[\u001b[0m\u001b[0;34m'GMR_2'\u001b[0m\u001b[0;34m]\u001b[0m\u001b[0;34m,\u001b[0m \u001b[0mc\u001b[0m\u001b[0;34m=\u001b[0m\u001b[0mgama_desi\u001b[0m\u001b[0;34m[\u001b[0m\u001b[0;34m'ZGAMA'\u001b[0m\u001b[0;34m]\u001b[0m\u001b[0;34m,\u001b[0m \u001b[0ms\u001b[0m\u001b[0;34m=\u001b[0m\u001b[0;36m0.25\u001b[0m\u001b[0;34m)\u001b[0m\u001b[0;34m\u001b[0m\u001b[0;34m\u001b[0m\u001b[0m\n\u001b[0m\u001b[1;32m      2\u001b[0m \u001b[0mplt\u001b[0m\u001b[0;34m.\u001b[0m\u001b[0mxlabel\u001b[0m\u001b[0;34m(\u001b[0m\u001b[0;34mr'$(g-r)_{GAMA}$'\u001b[0m\u001b[0;34m)\u001b[0m\u001b[0;34m\u001b[0m\u001b[0;34m\u001b[0m\u001b[0m\n\u001b[1;32m      3\u001b[0m \u001b[0mplt\u001b[0m\u001b[0;34m.\u001b[0m\u001b[0mylabel\u001b[0m\u001b[0;34m(\u001b[0m\u001b[0;34mr'$(g-r)_{DESI}$'\u001b[0m\u001b[0;34m)\u001b[0m\u001b[0;34m\u001b[0m\u001b[0;34m\u001b[0m\u001b[0m\n\u001b[1;32m      4\u001b[0m \u001b[0mcbar\u001b[0m \u001b[0;34m=\u001b[0m \u001b[0mplt\u001b[0m\u001b[0;34m.\u001b[0m\u001b[0mcolorbar\u001b[0m\u001b[0;34m(\u001b[0m\u001b[0;34m)\u001b[0m\u001b[0;34m\u001b[0m\u001b[0;34m\u001b[0m\u001b[0m\n\u001b[1;32m      5\u001b[0m \u001b[0mcbar\u001b[0m\u001b[0;34m.\u001b[0m\u001b[0mset_label\u001b[0m\u001b[0;34m(\u001b[0m\u001b[0;34mr'$Z_{GAMA}$'\u001b[0m\u001b[0;34m)\u001b[0m\u001b[0;34m\u001b[0m\u001b[0;34m\u001b[0m\u001b[0m\n",
      "\u001b[0;32m~/.local/lib/python3.9/site-packages/astropy/table/table.py\u001b[0m in \u001b[0;36m__getitem__\u001b[0;34m(self, item)\u001b[0m\n\u001b[1;32m   1880\u001b[0m     \u001b[0;32mdef\u001b[0m \u001b[0m__getitem__\u001b[0m\u001b[0;34m(\u001b[0m\u001b[0mself\u001b[0m\u001b[0;34m,\u001b[0m \u001b[0mitem\u001b[0m\u001b[0;34m)\u001b[0m\u001b[0;34m:\u001b[0m\u001b[0;34m\u001b[0m\u001b[0;34m\u001b[0m\u001b[0m\n\u001b[1;32m   1881\u001b[0m         \u001b[0;32mif\u001b[0m \u001b[0misinstance\u001b[0m\u001b[0;34m(\u001b[0m\u001b[0mitem\u001b[0m\u001b[0;34m,\u001b[0m \u001b[0mstr\u001b[0m\u001b[0;34m)\u001b[0m\u001b[0;34m:\u001b[0m\u001b[0;34m\u001b[0m\u001b[0;34m\u001b[0m\u001b[0m\n\u001b[0;32m-> 1882\u001b[0;31m             \u001b[0;32mreturn\u001b[0m \u001b[0mself\u001b[0m\u001b[0;34m.\u001b[0m\u001b[0mcolumns\u001b[0m\u001b[0;34m[\u001b[0m\u001b[0mitem\u001b[0m\u001b[0;34m]\u001b[0m\u001b[0;34m\u001b[0m\u001b[0;34m\u001b[0m\u001b[0m\n\u001b[0m\u001b[1;32m   1883\u001b[0m         \u001b[0;32melif\u001b[0m \u001b[0misinstance\u001b[0m\u001b[0;34m(\u001b[0m\u001b[0mitem\u001b[0m\u001b[0;34m,\u001b[0m \u001b[0;34m(\u001b[0m\u001b[0mint\u001b[0m\u001b[0;34m,\u001b[0m \u001b[0mnp\u001b[0m\u001b[0;34m.\u001b[0m\u001b[0minteger\u001b[0m\u001b[0;34m)\u001b[0m\u001b[0;34m)\u001b[0m\u001b[0;34m:\u001b[0m\u001b[0;34m\u001b[0m\u001b[0;34m\u001b[0m\u001b[0m\n\u001b[1;32m   1884\u001b[0m             \u001b[0;32mreturn\u001b[0m \u001b[0mself\u001b[0m\u001b[0;34m.\u001b[0m\u001b[0mRow\u001b[0m\u001b[0;34m(\u001b[0m\u001b[0mself\u001b[0m\u001b[0;34m,\u001b[0m \u001b[0mitem\u001b[0m\u001b[0;34m)\u001b[0m\u001b[0;34m\u001b[0m\u001b[0;34m\u001b[0m\u001b[0m\n",
      "\u001b[0;32m~/.local/lib/python3.9/site-packages/astropy/table/table.py\u001b[0m in \u001b[0;36m__getitem__\u001b[0;34m(self, item)\u001b[0m\n\u001b[1;32m    245\u001b[0m         \"\"\"\n\u001b[1;32m    246\u001b[0m         \u001b[0;32mif\u001b[0m \u001b[0misinstance\u001b[0m\u001b[0;34m(\u001b[0m\u001b[0mitem\u001b[0m\u001b[0;34m,\u001b[0m \u001b[0mstr\u001b[0m\u001b[0;34m)\u001b[0m\u001b[0;34m:\u001b[0m\u001b[0;34m\u001b[0m\u001b[0;34m\u001b[0m\u001b[0m\n\u001b[0;32m--> 247\u001b[0;31m             \u001b[0;32mreturn\u001b[0m \u001b[0mOrderedDict\u001b[0m\u001b[0;34m.\u001b[0m\u001b[0m__getitem__\u001b[0m\u001b[0;34m(\u001b[0m\u001b[0mself\u001b[0m\u001b[0;34m,\u001b[0m \u001b[0mitem\u001b[0m\u001b[0;34m)\u001b[0m\u001b[0;34m\u001b[0m\u001b[0;34m\u001b[0m\u001b[0m\n\u001b[0m\u001b[1;32m    248\u001b[0m         \u001b[0;32melif\u001b[0m \u001b[0misinstance\u001b[0m\u001b[0;34m(\u001b[0m\u001b[0mitem\u001b[0m\u001b[0;34m,\u001b[0m \u001b[0;34m(\u001b[0m\u001b[0mint\u001b[0m\u001b[0;34m,\u001b[0m \u001b[0mnp\u001b[0m\u001b[0;34m.\u001b[0m\u001b[0minteger\u001b[0m\u001b[0;34m)\u001b[0m\u001b[0;34m)\u001b[0m\u001b[0;34m:\u001b[0m\u001b[0;34m\u001b[0m\u001b[0;34m\u001b[0m\u001b[0m\n\u001b[1;32m    249\u001b[0m             \u001b[0;32mreturn\u001b[0m \u001b[0mlist\u001b[0m\u001b[0;34m(\u001b[0m\u001b[0mself\u001b[0m\u001b[0;34m.\u001b[0m\u001b[0mvalues\u001b[0m\u001b[0;34m(\u001b[0m\u001b[0;34m)\u001b[0m\u001b[0;34m)\u001b[0m\u001b[0;34m[\u001b[0m\u001b[0mitem\u001b[0m\u001b[0;34m]\u001b[0m\u001b[0;34m\u001b[0m\u001b[0;34m\u001b[0m\u001b[0m\n",
      "\u001b[0;31mKeyError\u001b[0m: 'GMR_1'"
     ]
    }
   ],
   "source": [
    "plt.scatter(gama_desi['GMR_1'], gama_desi['GMR_2'], c=gama_desi['ZGAMA'], s=0.25)\n",
    "plt.xlabel(r'$(g-r)_{GAMA}$')\n",
    "plt.ylabel(r'$(g-r)_{DESI}$')\n",
    "cbar = plt.colorbar()\n",
    "cbar.set_label(r'$Z_{GAMA}$')\n",
    "plt.show()"
   ]
  },
  {
   "cell_type": "code",
   "execution_count": 31,
   "id": "c996d1a9",
   "metadata": {},
   "outputs": [
    {
     "data": {
      "image/png": "[encoded data removed]",
      "text/plain": [
       "<Figure size 432x288 with 1 Axes>"
      ]
     },
     "metadata": {
      "needs_background": "light"
     },
     "output_type": "display_data"
    }
   ],
   "source": [
    "bins = np.arange(-1, 3, 0.125)\n",
    "plt.hist(gama_desi['GMR_1'], bins=bins, histtype='step', label='GAMA')\n",
    "plt.hist(gama_desi['GMR_2'], bins=bins, histtype='step', label='DESI')\n",
    "\n",
    "plt.xlabel(r'$(g-r)$')\n",
    "plt.ylabel('N')\n",
    "plt.legend()\n",
    "plt.show()"
   ]
  },
  {
   "cell_type": "code",
   "execution_count": null,
   "id": "2da2a0a2",
   "metadata": {},
   "outputs": [],
   "source": []
  }
 ],
 "metadata": {
  "kernelspec": {
   "display_name": "Lumfn",
   "language": "python",
   "name": "lumfn"
  },
  "language_info": {
   "codemirror_mode": {
    "name": "ipython",
    "version": 3
   },
   "file_extension": ".py",
   "mimetype": "text/x-python",
   "name": "python",
   "nbconvert_exporter": "python",
   "pygments_lexer": "ipython3",
   "version": "3.9.9"
  }
 },
 "nbformat": 4,
 "nbformat_minor": 5
}
