{
 "cells": [
  {
   "cell_type": "code",
   "execution_count": 1,
   "id": "225218ee-e2c2-4404-af43-8b4d77870a5a",
   "metadata": {},
   "outputs": [],
   "source": [
    "import os\n",
    "import sys\n",
    "import pylab as pl\n",
    "import numpy as np\n",
    "import matplotlib.pyplot as plt\n",
    "import numpy as np\n",
    "\n",
    "from   getdist       import plots, MCSamples \n",
    "from   astropy.table import Table"
   ]
  },
  {
   "cell_type": "code",
   "execution_count": 2,
   "id": "a56d95cc-4e63-4d3f-bea7-e82ceb7fbd5f",
   "metadata": {},
   "outputs": [],
   "source": [
    "sys.path.append('/global/homes/m/mjwilson/desi/BGS/Sam/DESI/')"
   ]
  },
  {
   "cell_type": "code",
   "execution_count": 3,
   "id": "41749717-9a68-410a-bf64-2d07d16833cf",
   "metadata": {},
   "outputs": [],
   "source": [
    "from   schechter     import schechter, named_schechter"
   ]
  },
  {
   "cell_type": "code",
   "execution_count": 4,
   "id": "747c752f-aa7f-4e58-b839-911b5bd1f2dc",
   "metadata": {},
   "outputs": [
    {
     "data": {
      "text/html": [
       "<i>Table length=113607</i>\n",
       "<table id=\"table46912562459408\" class=\"table-striped table-bordered table-condensed\">\n",
       "<thead><tr><th>ZGAMA</th><th>ZMIN</th><th>ZMAX</th><th>MCOLOR_0P0</th><th>VMAX</th><th>VZ</th></tr></thead>\n",
       "<thead><tr><th></th><th></th><th></th><th>mag</th><th></th><th></th></tr></thead>\n",
       "<thead><tr><th>float32</th><th>float64</th><th>float64</th><th>float64</th><th>float64</th><th>float64</th></tr></thead>\n",
       "<tr><td>0.19489</td><td>0.03903000056743622</td><td>0.26298999786376953</td><td>-19.896729767108155</td><td>7594841.842906503</td><td>3213540.202080313</td></tr>\n",
       "<tr><td>0.1769</td><td>0.03903000056743622</td><td>0.22304376921442798</td><td>-19.345148105394813</td><td>4744480.2327530915</td><td>2423819.899631298</td></tr>\n",
       "<tr><td>0.21845</td><td>0.03903000056743622</td><td>0.26298999786376953</td><td>-21.448400924157312</td><td>7594841.842906503</td><td>4468890.563670888</td></tr>\n",
       "<tr><td>0.07737</td><td>0.03903000056743622</td><td>0.11292987662789934</td><td>-17.85082186533015</td><td>635194.7011307261</td><td>189455.44383488595</td></tr>\n",
       "<tr><td>0.13108</td><td>0.03903000056743622</td><td>0.26298999786376953</td><td>-21.364310026743254</td><td>7594841.842906503</td><td>998008.3551280069</td></tr>\n",
       "<tr><td>0.12964</td><td>0.03903000056743622</td><td>0.20426831744798465</td><td>-19.497313354368224</td><td>3682207.0915358975</td><td>965422.7798028872</td></tr>\n",
       "<tr><td>0.22188</td><td>0.03903000056743622</td><td>0.26242798487028474</td><td>-20.131056249548763</td><td>7548868.367545325</td><td>4673684.697095223</td></tr>\n",
       "<tr><td>0.1052</td><td>0.03903000056743622</td><td>0.1478515957436512</td><td>-18.506521074289658</td><td>1429470.252629071</td><td>510520.54314400506</td></tr>\n",
       "<tr><td>0.13037</td><td>0.03903000056743622</td><td>0.26298999786376953</td><td>-20.32018504694732</td><td>7594841.842906503</td><td>981856.954492691</td></tr>\n",
       "<tr><td>...</td><td>...</td><td>...</td><td>...</td><td>...</td><td>...</td></tr>\n",
       "<tr><td>0.19768</td><td>0.03903000056743622</td><td>0.26298999786376953</td><td>-19.61892062865058</td><td>7594841.842906503</td><td>3348778.40436151</td></tr>\n",
       "<tr><td>0.25196</td><td>0.03903000056743622</td><td>0.26298999786376953</td><td>-20.285382865117896</td><td>7594841.842906503</td><td>6723939.955852491</td></tr>\n",
       "<tr><td>0.25895</td><td>0.03903000056743622</td><td>0.26298999786376953</td><td>-20.719998889912244</td><td>7594841.842906503</td><td>7268201.94657152</td></tr>\n",
       "<tr><td>0.14536</td><td>0.03903000056743622</td><td>0.1627377230968487</td><td>-18.673769953645017</td><td>1897763.4790775839</td><td>1359132.3875308507</td></tr>\n",
       "<tr><td>0.17938</td><td>0.03903000056743622</td><td>0.25052597289250167</td><td>-19.565937673424383</td><td>6615521.734472287</td><td>2524418.8810661677</td></tr>\n",
       "<tr><td>0.14482</td><td>0.03903000056743622</td><td>0.14906201453561235</td><td>-18.48586433397842</td><td>1464452.949028064</td><td>1344183.1206377978</td></tr>\n",
       "<tr><td>0.08402</td><td>0.03903000056743622</td><td>0.26298999786376953</td><td>-20.506325226330787</td><td>7594841.842906503</td><td>249557.66771857027</td></tr>\n",
       "<tr><td>0.15825</td><td>0.03903000056743622</td><td>0.1642844669630852</td><td>-18.701142156587135</td><td>1951297.3922854317</td><td>1747724.4148954756</td></tr>\n",
       "<tr><td>0.14548</td><td>0.03903000056743622</td><td>0.26298999786376953</td><td>-20.13975442337041</td><td>7594841.842906503</td><td>1362469.0970989985</td></tr>\n",
       "<tr><td>0.15256</td><td>0.03903000056743622</td><td>0.26298999786376953</td><td>-20.538136930442434</td><td>7594841.842906503</td><td>1568574.7171422336</td></tr>\n",
       "</table>"
      ],
      "text/plain": [
       "<Table length=113607>\n",
       " ZGAMA          ZMIN        ...        VMAX                VZ        \n",
       "                            ...                                      \n",
       "float32       float64       ...      float64            float64      \n",
       "------- ------------------- ... ------------------ ------------------\n",
       "0.19489 0.03903000056743622 ...  7594841.842906503  3213540.202080313\n",
       " 0.1769 0.03903000056743622 ... 4744480.2327530915  2423819.899631298\n",
       "0.21845 0.03903000056743622 ...  7594841.842906503  4468890.563670888\n",
       "0.07737 0.03903000056743622 ...  635194.7011307261 189455.44383488595\n",
       "0.13108 0.03903000056743622 ...  7594841.842906503  998008.3551280069\n",
       "0.12964 0.03903000056743622 ... 3682207.0915358975  965422.7798028872\n",
       "0.22188 0.03903000056743622 ...  7548868.367545325  4673684.697095223\n",
       " 0.1052 0.03903000056743622 ...  1429470.252629071 510520.54314400506\n",
       "0.13037 0.03903000056743622 ...  7594841.842906503   981856.954492691\n",
       "    ...                 ... ...                ...                ...\n",
       "0.19768 0.03903000056743622 ...  7594841.842906503   3348778.40436151\n",
       "0.25196 0.03903000056743622 ...  7594841.842906503  6723939.955852491\n",
       "0.25895 0.03903000056743622 ...  7594841.842906503   7268201.94657152\n",
       "0.14536 0.03903000056743622 ... 1897763.4790775839 1359132.3875308507\n",
       "0.17938 0.03903000056743622 ...  6615521.734472287 2524418.8810661677\n",
       "0.14482 0.03903000056743622 ...  1464452.949028064 1344183.1206377978\n",
       "0.08402 0.03903000056743622 ...  7594841.842906503 249557.66771857027\n",
       "0.15825 0.03903000056743622 ... 1951297.3922854317 1747724.4148954756\n",
       "0.14548 0.03903000056743622 ...  7594841.842906503 1362469.0970989985\n",
       "0.15256 0.03903000056743622 ...  7594841.842906503 1568574.7171422336"
      ]
     },
     "execution_count": 4,
     "metadata": {},
     "output_type": "execute_result"
    }
   ],
   "source": [
    "gama_vmax = Table.read(os.environ['CSCRATCH'] + '/norberg//GAMA4/gama_gold_vmax.fits')\n",
    "gama_vmax"
   ]
  },
  {
   "cell_type": "code",
   "execution_count": 5,
   "id": "551317ae-73b8-43dd-bf81-c471232537b7",
   "metadata": {},
   "outputs": [
    {
     "data": {
      "text/html": [
       "<i>Table length=28</i>\n",
       "<table id=\"table46913273780352\" class=\"table-striped table-bordered table-condensed\">\n",
       "<thead><tr><th>MEDIAN_M</th><th>PHI_N</th><th>PHI_N_ERROR</th><th>PHI_IVMAX</th><th>PHI_IVMAX_ERROR</th></tr></thead>\n",
       "<thead><tr><th>float64</th><th>float64</th><th>float64</th><th>float64</th><th>float64</th></tr></thead>\n",
       "<tr><td>-23.42293176064758</td><td>4.388943709797751e-07</td><td>4.388943709797751e-07</td><td>4.389948126873385e-07</td><td>1.0</td></tr>\n",
       "<tr><td>-23.111724644989394</td><td>8.777887419595502e-07</td><td>6.206903718888066e-07</td><td>8.777887419595503e-07</td><td>0.7071067811865476</td></tr>\n",
       "<tr><td>-22.911188045606362</td><td>5.7056268227370755e-06</td><td>1.5824561590800933e-06</td><td>5.7056268227370755e-06</td><td>0.2773500981126146</td></tr>\n",
       "<tr><td>-22.642112086773523</td><td>3.950049338817976e-05</td><td>4.163717593568987e-06</td><td>3.950049338817975e-05</td><td>0.105409255338946</td></tr>\n",
       "<tr><td>-22.312444870955268</td><td>0.00012771826195511455</td><td>7.486977109850151e-06</td><td>0.00012771826195511453</td><td>0.058621038176054935</td></tr>\n",
       "<tr><td>-22.018914188433687</td><td>0.000327854095121892</td><td>1.1995554045214675e-05</td><td>0.0003278540951218919</td><td>0.03658808666323012</td></tr>\n",
       "<tr><td>-21.722028909789106</td><td>0.0007540205293432536</td><td>1.819162900709951e-05</td><td>0.0007540205293432535</td><td>0.024126172032669046</td></tr>\n",
       "<tr><td>-21.434067411608222</td><td>0.00148302407954066</td><td>2.551256397420412e-05</td><td>0.0014830240795406598</td><td>0.017203067924632876</td></tr>\n",
       "<tr><td>-21.13374389191792</td><td>0.002429280343373055</td><td>3.265267934241e-05</td><td>0.0024292803433730546</td><td>0.013441297309091866</td></tr>\n",
       "<tr><td>-20.837667340534864</td><td>0.0035392442075809064</td><td>3.941261676455947e-05</td><td>0.0035392442075809056</td><td>0.011135885079684351</td></tr>\n",
       "<tr><td>...</td><td>...</td><td>...</td><td>...</td><td>...</td></tr>\n",
       "<tr><td>-18.170791150593395</td><td>0.0014702961427822466</td><td>2.5402848280072916e-05</td><td>0.01246458578225296</td><td>0.017517723545423945</td></tr>\n",
       "<tr><td>-17.862412360568115</td><td>0.001036229609883249</td><td>2.1325931229850813e-05</td><td>0.013408311114274221</td><td>0.020841826825047517</td></tr>\n",
       "<tr><td>-17.558897837399606</td><td>0.0007685040435855861</td><td>1.8365513845381773e-05</td><td>0.015248213098256866</td><td>0.024159224987238898</td></tr>\n",
       "<tr><td>-17.268205113863406</td><td>0.0005859239852579997</td><td>1.603616970949649e-05</td><td>0.017851609734444298</td><td>0.027638238582315185</td></tr>\n",
       "<tr><td>-16.96882890143333</td><td>0.0003269763063799325</td><td>1.1979484976989232e-05</td><td>0.015842759542596004</td><td>0.03708312963384663</td></tr>\n",
       "<tr><td>-16.651334028067264</td><td>0.00023656406595809877</td><td>1.0189535657972732e-05</td><td>0.019382887896030897</td><td>0.04358569919201064</td></tr>\n",
       "<tr><td>-16.383658995332098</td><td>0.00018389674144052575</td><td>8.983943714191997e-06</td><td>0.025754745116160577</td><td>0.04964588420554908</td></tr>\n",
       "<tr><td>-16.066354192285484</td><td>6.451747253402694e-05</td><td>5.321311447850677e-06</td><td>0.018740569441934887</td><td>0.08508417453501663</td></tr>\n",
       "<tr><td>-15.78894521676222</td><td>1.9311352323110104e-05</td><td>2.911295902277923e-06</td><td>0.018151529388025625</td><td>0.1810593906622804</td></tr>\n",
       "<tr><td>-15.586983570446417</td><td>4.388943709797751e-07</td><td>4.388943709797751e-07</td><td>0.006468348376108554</td><td>1.0</td></tr>\n",
       "</table>"
      ],
      "text/plain": [
       "<Table length=28>\n",
       "      MEDIAN_M              PHI_N          ...   PHI_IVMAX_ERROR   \n",
       "      float64              float64         ...       float64       \n",
       "------------------- ---------------------- ... --------------------\n",
       " -23.42293176064758  4.388943709797751e-07 ...                  1.0\n",
       "-23.111724644989394  8.777887419595502e-07 ...   0.7071067811865476\n",
       "-22.911188045606362 5.7056268227370755e-06 ...   0.2773500981126146\n",
       "-22.642112086773523  3.950049338817976e-05 ...    0.105409255338946\n",
       "-22.312444870955268 0.00012771826195511455 ... 0.058621038176054935\n",
       "-22.018914188433687   0.000327854095121892 ...  0.03658808666323012\n",
       "-21.722028909789106  0.0007540205293432536 ... 0.024126172032669046\n",
       "-21.434067411608222    0.00148302407954066 ... 0.017203067924632876\n",
       " -21.13374389191792   0.002429280343373055 ... 0.013441297309091866\n",
       "-20.837667340534864  0.0035392442075809064 ... 0.011135885079684351\n",
       "                ...                    ... ...                  ...\n",
       "-18.170791150593395  0.0014702961427822466 ... 0.017517723545423945\n",
       "-17.862412360568115   0.001036229609883249 ... 0.020841826825047517\n",
       "-17.558897837399606  0.0007685040435855861 ... 0.024159224987238898\n",
       "-17.268205113863406  0.0005859239852579997 ... 0.027638238582315185\n",
       " -16.96882890143333  0.0003269763063799325 ...  0.03708312963384663\n",
       "-16.651334028067264 0.00023656406595809877 ...  0.04358569919201064\n",
       "-16.383658995332098 0.00018389674144052575 ...  0.04964588420554908\n",
       "-16.066354192285484  6.451747253402694e-05 ...  0.08508417453501663\n",
       " -15.78894521676222 1.9311352323110104e-05 ...   0.1810593906622804\n",
       "-15.586983570446417  4.388943709797751e-07 ...                  1.0"
      ]
     },
     "execution_count": 5,
     "metadata": {},
     "output_type": "execute_result"
    }
   ],
   "source": [
    "gama_lf = Table.read(os.environ['CSCRATCH'] + '/norberg//GAMA4/gama_gold_lumfn.fits')\n",
    "gama_lf"
   ]
  },
  {
   "cell_type": "code",
   "execution_count": 6,
   "id": "751ff47d-42ae-435d-b14a-232613619998",
   "metadata": {},
   "outputs": [
    {
     "data": {
      "text/plain": [
       "<matplotlib.legend.Legend at 0x2aaaaec00550>"
      ]
     },
     "execution_count": 6,
     "metadata": {},
     "output_type": "execute_result"
    },
    {
     "data": {
      "image/png": "[encoded data removed]",
      "text/plain": [
       "<Figure size 432x288 with 1 Axes>"
      ]
     },
     "metadata": {
      "needs_background": "light"
     },
     "output_type": "display_data"
    }
   ],
   "source": [
    "Ms = np.arange(-23., -15., 0.01)\n",
    "sc = named_schechter(Ms, named_type='TMR')\n",
    "\n",
    "pl.plot(Ms, np.log10(sc), label='TMR')\n",
    "\n",
    "pl.plot(gama_lf['MEDIAN_M'], np.log10(gama_lf['PHI_N']), label='No weights', alpha=0.4)\n",
    "pl.plot(gama_lf['MEDIAN_M'], np.log10(gama_lf['PHI_IVMAX']), label='IVMAX')\n",
    "\n",
    "pl.xlabel(r'$M$')\n",
    "pl.ylabel(r'$\\Phi(M)$')\n",
    "\n",
    "pl.ylim(-4.25, -1.)\n",
    "pl.xlim(-23., -15.5)\n",
    "\n",
    "pl.legend(frameon=False, loc=2)"
   ]
  },
  {
   "cell_type": "code",
   "execution_count": null,
   "id": "64406482-9b04-4a61-bde9-e8723e5ac61d",
   "metadata": {},
   "outputs": [],
   "source": []
  },
  {
   "cell_type": "code",
   "execution_count": 7,
   "id": "1b057928-59af-4c8c-8419-fabb532585fa",
   "metadata": {},
   "outputs": [],
   "source": [
    "root = '/global/cscratch1/sd/mjwilson/norberg/GAMA4/cobaya/'"
   ]
  },
  {
   "cell_type": "code",
   "execution_count": 8,
   "id": "1f2264e2-7d7c-4108-a65b-abf64803643c",
   "metadata": {},
   "outputs": [],
   "source": [
    "dat = Table.read(root + 'schechter_chain.1.txt', format='ascii')        "
   ]
  },
  {
   "cell_type": "code",
   "execution_count": 9,
   "id": "8b08db6d-13a4-45cf-94fe-2861bd05db79",
   "metadata": {},
   "outputs": [],
   "source": [
    "samples = np.c_[dat['log10phistar'], dat['Mstar'], dat['alpha']]"
   ]
  },
  {
   "cell_type": "code",
   "execution_count": 10,
   "id": "27b74b8a-3042-43f0-9adb-f3c5496e21d9",
   "metadata": {},
   "outputs": [
    {
     "name": "stdout",
     "output_type": "stream",
     "text": [
      "Removed no burn in\n"
     ]
    }
   ],
   "source": [
    "samples = MCSamples(samples=samples, names=['log10phistar', 'Mstar', 'alpha'], labels=['log10phistar', 'Mstar', 'alpha'])"
   ]
  },
  {
   "cell_type": "code",
   "execution_count": 11,
   "id": "72857e33-dd1e-4198-829b-c022135474cc",
   "metadata": {},
   "outputs": [],
   "source": [
    "tmr_ref = {'log10phistar': -2.01, 'Mstar': -20.89, 'alpha': -1.25}"
   ]
  },
  {
   "cell_type": "code",
   "execution_count": 12,
   "id": "62c46a15-dccf-4168-9db6-bcb4080cad95",
   "metadata": {},
   "outputs": [],
   "source": [
    "g = plots.get_subplot_plotter()"
   ]
  },
  {
   "cell_type": "code",
   "execution_count": 13,
   "id": "4098a47a-e4f3-4bff-b943-448f1e6c7e4c",
   "metadata": {},
   "outputs": [
    {
     "data": {
      "image/png": "[encoded data removed]",
      "text/plain": [
       "<Figure size 432x432 with 6 Axes>"
      ]
     },
     "metadata": {
      "needs_background": "light"
     },
     "output_type": "display_data"
    }
   ],
   "source": [
    "g.triangle_plot([samples], filled=True)        "
   ]
  },
  {
   "cell_type": "markdown",
   "id": "db5f2b66-f402-4426-80eb-874ca9442b8c",
   "metadata": {},
   "source": [
    "# Done."
   ]
  }
 ],
 "metadata": {
  "kernelspec": {
   "display_name": "DESI master",
   "language": "python",
   "name": "desi-master"
  },
  "language_info": {
   "codemirror_mode": {
    "name": "ipython",
    "version": 3
   },
   "file_extension": ".py",
   "mimetype": "text/x-python",
   "name": "python",
   "nbconvert_exporter": "python",
   "pygments_lexer": "ipython3",
   "version": "3.8.3"
  }
 },
 "nbformat": 4,
 "nbformat_minor": 5
}
