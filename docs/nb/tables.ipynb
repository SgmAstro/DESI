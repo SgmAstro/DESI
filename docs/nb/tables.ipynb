{
 "cells": [
  {
   "cell_type": "code",
   "execution_count": null,
   "id": "64840338",
   "metadata": {},
   "outputs": [],
   "source": []
  },
  {
   "cell_type": "code",
   "execution_count": null,
   "id": "8d06b5e8",
   "metadata": {},
   "outputs": [],
   "source": []
  },
  {
   "cell_type": "code",
   "execution_count": 79,
   "id": "891d76eb",
   "metadata": {},
   "outputs": [
    {
     "name": "stdout",
     "output_type": "stream",
     "text": [
      "bin overdensities f_delta n_gal/10^3\n",
      "DDP M_r^e - 5\\log_{10}h [2] z_{\\rm min} z_{\\rm max} N_{DDP}/10^3 V_{DDP}/ (10^6 h^{-3} Mpc^3) \\rho_{DDP}/(10^{-3} h^3 {\\rm Mpc}^{-3})\n",
      "--- ----------------------- ----------- ----------- ------------ ---------------------------- ---------------------------------------\n",
      "  1          -21.8 .. -20.1       0.039       0.263        45.89                         7.59                                    6.04\n",
      "  2          -20.6 .. -19.3       0.039       0.194         32.7                         3.16                                   10.36\n",
      "  3          -19.6 .. -17.8       0.039       0.102         8.75                         0.46                                   19.11\n",
      "Label  \\delta_8 [2]  f_{\\delta} N_{\\delta, DDP1}/10^3\n",
      "----- -------------- ---------- ---------------------\n",
      "   d0  -1.0 .. -0.75      0.288                 1.238\n",
      "   d1    -0.4 .. 0.0      0.163                 4.187\n",
      "   d2     0.7 .. 1.6      0.103                 7.175\n",
      "   d3 4.0 .. 10000.0      0.008                 5.087\n"
     ]
    }
   ],
   "source": [
    "import os\n",
    "import sys\n",
    "import numpy as np\n",
    "import argparse\n",
    "from astropy.table import Table\n",
    "\n",
    "user = os.environ['USER']\n",
    "sys.path.append('/cosma/home/durham/{}/DESI'.format(user))\n",
    "\n",
    "from   delta8_limits import delta8_tier, d8_limits\n",
    "\n",
    "#parser = argparse.ArgumentParser(description='Generate Gold luminosity function.')\n",
    "#parser.add_argument('-f', '--field', type=str, help='Select equatorial GAMA field: G9, G12, G15', required=False, default=None)\n",
    "    \n",
    "#args   = parser.parse_args()\n",
    "#field = args.field\n",
    "\n",
    "# TODO: Add to headers.\n",
    "tmr_DDP1     = [-21.8, -20.1]\n",
    "tmr_DDP2     = [-20.6, -19.3]\n",
    "tmr_DDP3     = [-19.6, -17.8]\n",
    "\n",
    "Mr = np.array([tmr_DDP1, tmr_DDP2, tmr_DDP3])\n",
    "\n",
    "\n",
    "'''\n",
    "START HERE\n",
    "'''\n",
    "\n",
    "field = 'G9'\n",
    "rpath = '/cosma/home/durham/{}/data/GAMA4/randoms/randoms_bd_ddp_n8_{}_0.fits'.format(user, field)\n",
    "rand_G9 = Table.read(rpath)\n",
    "\n",
    "field = 'G12'\n",
    "rpath = '/cosma/home/durham/{}/data/GAMA4/randoms/randoms_bd_ddp_n8_{}_0.fits'.format(user, field)\n",
    "rand_G12 = Table.read(rpath)\n",
    "\n",
    "field = 'G15'\n",
    "rpath = '/cosma/home/durham/{}/data/GAMA4/randoms/randoms_bd_ddp_n8_{}_0.fits'.format(user, field)\n",
    "rand_G15 = Table.read(rpath)\n",
    "\n",
    "\n",
    "abs_mag = []\n",
    "ddp_min = []\n",
    "ddp_max = []\n",
    "ddp_ngal = []\n",
    "ddp_vol = []\n",
    "ddp_dens = []\n",
    "ddp = [1,2,3]\n",
    "\n",
    "for idx in ddp:\n",
    "    abs_mag.append(Mr[idx-1])\n",
    "    ddp_min.append(round(rand.meta['DDP{}_ZMIN'.format(idx)], 3))\n",
    "    ddp_max.append(round(rand.meta['DDP{}_ZMAX'.format(idx)], 3))\n",
    "    ddp_ngal.append(rand.meta['DDP{}_NGAL'.format(idx)])\n",
    "    ddp_vol.append(rand.meta['DDP{}_VZ'.format(idx)])\n",
    "    ddp_dens.append(rand.meta['DDP{}_DENS'.format(idx)])\n",
    "\n",
    "ddp_ngal = np.array(ddp_ngal) / 10**3\n",
    "ddp_vol = np.array(ddp_vol) / 10**6\n",
    "ddp_dens = np.array(ddp_dens) / 10**-3\n",
    "\n",
    "ddp_ngal = np.round(ddp_ngal, 2)\n",
    "ddp_vol = np.round(ddp_vol, 2)\n",
    "ddp_dens = np.round(ddp_dens, 2)\n",
    "\n",
    "# Generate Table 2 of McNaught-Roberts (2014)\n",
    "t1 = Table([ddp, abs_mag, ddp_min, ddp_max, ddp_ngal, ddp_vol, ddp_dens], names=('DDP', 'M_r^e - 5\\\\log_{10}h', 'z_{\\\\rm min}', 'z_{\\\\rm max}', 'N_{DDP}/10^3','V_{DDP}/ (10^6 h^{-3} Mpc^3)', '\\\\rho_{DDP}/(10^{-3} h^3 {\\\\rm Mpc}^{-3})'))\n",
    "\n",
    "fscale = []\n",
    "n_ddp = []\n",
    "label = ['d0', 'd1', 'd2', 'd3']\n",
    "\n",
    "print('bin', 'overdensities', 'f_delta', 'n_gal/10^3')\n",
    "for idx in range(4):\n",
    "    \n",
    "    fpath = '/cosma/home/durham/{}/data/GAMA4/gama_gold_{}_ddp_n8_d0_{}.fits'.format(user, field, idx)\n",
    "    dat = Table.read(fpath)\n",
    "    n_ddp.append(len(dat))\n",
    "    fscale.append(rand.meta['DDP1_d{}_VOLFRAC'.format(idx)])\n",
    "\n",
    "n_ddp = np.array(n_ddp) / 10**3 \n",
    "fscale = np.array(fscale)\n",
    "\n",
    "n_ddp = np.round(n_ddp, 3)\n",
    "fscale = np.round(fscale, 3)\n",
    "\n",
    "\n",
    "# Generate Table 3 of McNaught-Roberts (2014)\n",
    "t2 = Table([label, d8_limits, fscale, n_ddp], names=('Label', '\\\\delta_8', 'f_{\\\\delta}', 'N_{\\\\delta, DDP1}/10^3'))\n",
    "    \n",
    "print(t1)\n",
    "print(t2)"
   ]
  },
  {
   "cell_type": "code",
   "execution_count": 80,
   "id": "8629950a",
   "metadata": {},
   "outputs": [
    {
     "name": "stdout",
     "output_type": "stream",
     "text": [
      "\\begin{table}\n",
      "\\begin{tabular}{cccc}\n",
      "\\hline \\hline\n",
      "Label & \\delta_8 & f_{\\delta} & N_{\\delta, DDP1}/10^3 \\\\\n",
      "\\hline\n",
      "d0 & -1.0 .. -0.75 & 0.288 & 1.238 \\\\\n",
      "d1 & -0.4 .. 0.0 & 0.163 & 4.187 \\\\\n",
      "d2 & 0.7 .. 1.6 & 0.103 & 7.175 \\\\\n",
      "d3 & 4.0 .. 10000.0 & 0.008 & 5.087 \\\\\n",
      "\\hline\n",
      "\\end{tabular}\n",
      "\\end{table}\n"
     ]
    }
   ],
   "source": [
    "ascii.write(t2, Writer=ascii.Latex, latexdict=ascii.latex.latexdicts['AA'])"
   ]
  },
  {
   "cell_type": "code",
   "execution_count": 62,
   "id": "b4954752",
   "metadata": {},
   "outputs": [
    {
     "name": "stdout",
     "output_type": "stream",
     "text": [
      "45889 45889\n"
     ]
    }
   ],
   "source": [
    "print(rand_G12.meta['DDP1_NGAL'],rand_G15.meta['DDP1_NGAL'])"
   ]
  },
  {
   "cell_type": "code",
   "execution_count": 63,
   "id": "4eba6963",
   "metadata": {},
   "outputs": [
    {
     "name": "stdout",
     "output_type": "stream",
     "text": [
      "7594754.153764196 7594754.153764196\n"
     ]
    }
   ],
   "source": [
    "print(rand_G12.meta['DDP1_VZ'],rand_G15.meta['DDP1_VZ'])"
   ]
  },
  {
   "cell_type": "code",
   "execution_count": 64,
   "id": "5ace2f3e",
   "metadata": {},
   "outputs": [
    {
     "name": "stdout",
     "output_type": "stream",
     "text": [
      "0.006042196899455394 0.006042196899455394\n"
     ]
    }
   ],
   "source": [
    "print(rand_G12.meta['DDP1_DENS'],rand_G15.meta['DDP1_DENS'])"
   ]
  },
  {
   "cell_type": "code",
   "execution_count": null,
   "id": "b025f27d",
   "metadata": {},
   "outputs": [],
   "source": []
  },
  {
   "cell_type": "code",
   "execution_count": 65,
   "id": "bd5777ac",
   "metadata": {},
   "outputs": [
    {
     "name": "stdout",
     "output_type": "stream",
     "text": [
      "0.2577701234782471 0.2698145851273098\n"
     ]
    }
   ],
   "source": [
    "print(rand_G12.meta['DDP1_d0_VOLFRAC'],rand_G15.meta['DDP1_d0_VOLFRAC'])"
   ]
  },
  {
   "cell_type": "code",
   "execution_count": 67,
   "id": "fba15d64",
   "metadata": {},
   "outputs": [
    {
     "name": "stdout",
     "output_type": "stream",
     "text": [
      "1265955 1265955 1265955\n"
     ]
    }
   ],
   "source": [
    "print(len(rand_G9), len(rand_G12), len(rand_G15))"
   ]
  },
  {
   "cell_type": "code",
   "execution_count": 70,
   "id": "5c568aab",
   "metadata": {},
   "outputs": [
    {
     "data": {
      "text/plain": [
       "1265810"
      ]
     },
     "execution_count": 70,
     "metadata": {},
     "output_type": "execute_result"
    }
   ],
   "source": [
    "len(rand_G9[rand_G9['IN_DDP1'] == True])"
   ]
  },
  {
   "cell_type": "code",
   "execution_count": 72,
   "id": "0709918f",
   "metadata": {},
   "outputs": [
    {
     "data": {
      "text/plain": [
       "1265810"
      ]
     },
     "execution_count": 72,
     "metadata": {},
     "output_type": "execute_result"
    }
   ],
   "source": [
    "len(rand_G12[rand_G12['IN_DDP1'] == True])"
   ]
  },
  {
   "cell_type": "code",
   "execution_count": 71,
   "id": "4819dcdc",
   "metadata": {},
   "outputs": [
    {
     "data": {
      "text/plain": [
       "1265810"
      ]
     },
     "execution_count": 71,
     "metadata": {},
     "output_type": "execute_result"
    }
   ],
   "source": [
    "len(rand_G15[rand_G15['IN_DDP1'] == True])"
   ]
  },
  {
   "cell_type": "code",
   "execution_count": null,
   "id": "8b4d78c3",
   "metadata": {},
   "outputs": [],
   "source": []
  },
  {
   "cell_type": "code",
   "execution_count": 61,
   "id": "e199cbb8",
   "metadata": {},
   "outputs": [
    {
     "data": {
      "text/plain": [
       "OrderedDict([('ZMIN', 0.039),\n",
       "             ('ZMAX', 0.263),\n",
       "             ('DZ', 0.0001),\n",
       "             ('NRAND', 1265955),\n",
       "             ('FIELD', 'G9'),\n",
       "             ('AREA', 180.0),\n",
       "             ('BOUND_PERCENT', 1.0),\n",
       "             ('VOL', 2531908.950723488),\n",
       "             ('RAND_DENS', 0.5),\n",
       "             ('VOL8', 2144.660584850632),\n",
       "             ('NRAND8', 1072.330292425316),\n",
       "             ('NRAND8_PERR', 32.74645465428763),\n",
       "             ('RSPHERE', 8.0),\n",
       "             ('FILLFACTOR_INFRAC', 0.7773617545647357),\n",
       "             ('EXTNAME', 'TilingCat'),\n",
       "             ('TCOMM1', 'GAMA ID'),\n",
       "             ('TUCD1', 'meta.id;meta.main'),\n",
       "             ('TCOMM2', 'SDSS objid'),\n",
       "             ('TUCD2', 'meta.id'),\n",
       "             ('TCOMM3', 'J2000 coordinate'),\n",
       "             ('TUCD3', 'pos.eq.ra'),\n",
       "             ('TCOMM4', 'J2000 coordinate'),\n",
       "             ('TUCD4', 'pos.eq.dec'),\n",
       "             ('TCOMM5', '3-arcsec fiber magnitude'),\n",
       "             ('TUCD5', 'phot.mag;em.opt.R'),\n",
       "             ('TCOMM6', 'Extinction-corrected SDSS DR7 Petrosian mag'),\n",
       "             ('TUCD6', 'phot.mag;em.opt.R'),\n",
       "             ('TCOMM7', 'Extinction-corrected SDSS DR7 mag'),\n",
       "             ('TUCD7', 'phot.mag;em.opt.U'),\n",
       "             ('TCOMM8', 'Extinction-corrected SDSS DR7 mag'),\n",
       "             ('TUCD8', 'phot.mag;em.opt.B'),\n",
       "             ('TCOMM9', 'Extinction-corrected SDSS DR7 mag'),\n",
       "             ('TUCD9', 'phot.mag;em.opt.R'),\n",
       "             ('TCOMM10', 'Extinction-corrected SDSS DR7 mag'),\n",
       "             ('TUCD10', 'phot.mag;em.opt.I'),\n",
       "             ('TCOMM11', 'Extinction-corrected SDSS DR7 mag'),\n",
       "             ('TUCD11', 'phot.mag;em.opt.I'),\n",
       "             ('TCOMM12', 'Survey code for redshift source, see notes'),\n",
       "             ('TUCD12', 'meta.code;meta.dataset'),\n",
       "             ('TCOMM13', 'Spectroscopic redshift, -1 for none attempted'),\n",
       "             ('TUCD13', 'src.redshift'),\n",
       "             ('TCOMM14', 'Quality of redshift'),\n",
       "             ('TUCD14', 'meta.code.qual;src.redshift'),\n",
       "             ('TCOMM15', 'Tests of NQ=2 redshifts, see notes'),\n",
       "             ('TUCD15', 'meta.code.qual;src.redshift'),\n",
       "             ('TCOMM16', 'ID of spectrum from SpecAll table'),\n",
       "             ('TUCD16', 'meta.id.cross;spect'),\n",
       "             ('TCOMM17', 'Redshift uncertainty, c delta ln(1+z), see notes'),\n",
       "             ('TUCD17', 'src.redshift;stat.error'),\n",
       "             ('TCOMM18', 'Number of GAMA spectra within 1 arcsec'),\n",
       "             ('TUCD18', 'meta.number;spect'),\n",
       "             ('TCOMM19', 'SDSS Petro half-light surface brightness'),\n",
       "             ('TUCD19', 'phot.mag.sb;em.opt.R'),\n",
       "             ('TCOMM20', 'r_psf - r_model star-galaxy separation parameter'),\n",
       "             ('TUCD20', 'src.class.starGalaxy'),\n",
       "             ('TCOMM21', 'J - K - f_locus star-galaxy separation parameter'),\n",
       "             ('TUCD21', 'src.class.starGalaxy'),\n",
       "             ('TCOMM22', 'Extinction-corrected r-defined auto AB mag'),\n",
       "             ('TUCD22', 'phot.mag;em.IR.K'),\n",
       "             ('TCOMM23', 'Flux from FIRST-SDSS matching by John Ching'),\n",
       "             ('TUCD23', 'phot.flux.density;em.radio'),\n",
       "             ('TCOMM24', '1 for match to H-ATLAS SDSS possible ID'),\n",
       "             ('TUCD24', 'meta.code'),\n",
       "             ('TCOMM25', '1-deg strip, 2 for GAMA I regions'),\n",
       "             ('TUCD25', 'meta.code'),\n",
       "             ('TCOMM26', 'Bitwise target criteria, see notes'),\n",
       "             ('TUCD26', 'meta.code'),\n",
       "             ('TCOMM27', 'Useful for selecting samples, see notes'),\n",
       "             ('TUCD27', 'meta.code.class'),\n",
       "             ('TCOMM28', 'Useful for selecting samples, see notes'),\n",
       "             ('TUCD28', 'meta.code.class'),\n",
       "             ('TCOMM29', 'Priorities for targeting, see notes'),\n",
       "             ('TUCD29', 'meta.code.class'),\n",
       "             ('TCOMM30', 'Number of survey_class>=3 targets within 40 arcsec'),\n",
       "             ('TUCD30', 'meta.code.class'),\n",
       "             ('TCOMM31', 'CATAID of object in TilingCatv11, see notes'),\n",
       "             ('TUCD31', 'meta.code.cross'),\n",
       "             ('TCOMM32', 'Mask value 0.0 to 1.0 around V<10 stars'),\n",
       "             ('TUCD32', 'meta.code'),\n",
       "             ('TCOMM33', 'Mask value 0.0 to 1.0 around V<12 stars'),\n",
       "             ('TUCD33', 'meta.code'),\n",
       "             ('TCOMM34', 'Visual classification, see notes'),\n",
       "             ('TUCD34', 'mata.code.qual'),\n",
       "             ('TCOMM35', 'Initials of classifiers, xxx for none'),\n",
       "             ('TUCD35', 'meta.id'),\n",
       "             ('DATE-HDU', '2015-09-04T13:22:37'),\n",
       "             ('STILVERS', '3.0-8'),\n",
       "             ('STILCLAS', 'uk.ac.starlink.votable.FitsPlusTableWriter'),\n",
       "             ('DMU', 'EqInputCat'),\n",
       "             ('NAME', 'TilingCat'),\n",
       "             ('VERSION', 'v46'),\n",
       "             ('DATE', '2015-05-22'),\n",
       "             ('CONTACT', 'Ivan Baldry <i.baldry@ljmu.ac.uk>'),\n",
       "             ('GOLD_NGAL', 113687),\n",
       "             ('DDP1_ZMIN', 0.0390699990093708),\n",
       "             ('DDP1_ZMAX', 0.2629899978637695),\n",
       "             ('DDP1_VZ', 7594754.153764196),\n",
       "             ('DDP1_NGAL', 45889),\n",
       "             ('DDP1_DENS', 0.006042196899455394),\n",
       "             ('DDP2_ZMIN', 0.03914999961853027),\n",
       "             ('DDP2_ZMAX', 0.1937000006437302),\n",
       "             ('DDP2_VZ', 3156659.558717707),\n",
       "             ('DDP2_NGAL', 32698),\n",
       "             ('DDP2_DENS', 0.01035841825568372),\n",
       "             ('DDP3_ZMIN', 0.03903000056743622),\n",
       "             ('DDP3_ZMAX', 0.1015800014138222),\n",
       "             ('DDP3_VZ', 457819.2340050841),\n",
       "             ('DDP3_NGAL', 8748),\n",
       "             ('DDP3_DENS', 0.01910797832470021),\n",
       "             ('TMR_DDP1', '[-21.8, -20.1]'),\n",
       "             ('TMR_DDP2', '[-20.6, -19.3]'),\n",
       "             ('TMR_DDP3', '[-21.8, -20.1]'),\n",
       "             ('D8_LIMITS',\n",
       "              '[[-1.0, -0.75], [-0.4, 0.0], [0.7, 1.6], [4.0, 10000.0]]'),\n",
       "             ('DDP1_d-99_VOLFRAC', 0.4368696723836911),\n",
       "             ('DDP1_d-99_TIERMEDd8', 0.05415742942214563),\n",
       "             ('DDP1_d0_VOLFRAC', 0.2884737835852142),\n",
       "             ('DDP1_d0_TIERMEDd8', -0.9196588755246229),\n",
       "             ('DDP1_d1_VOLFRAC', 0.1629470457651622),\n",
       "             ('DDP1_d1_TIERMEDd8', -0.223397055383998),\n",
       "             ('DDP1_d2_VOLFRAC', 0.103391504254193),\n",
       "             ('DDP1_d2_TIERMEDd8', 1.05495254388787),\n",
       "             ('DDP1_d3_VOLFRAC', 0.008317994011739518),\n",
       "             ('DDP1_d3_TIERMEDd8', 4.839309551083357),\n",
       "             ('comments',\n",
       "              ['Science targets and information for tiling and spectroscopic',\n",
       "               'observation.'])])"
      ]
     },
     "execution_count": 61,
     "metadata": {},
     "output_type": "execute_result"
    }
   ],
   "source": [
    "rand.meta"
   ]
  },
  {
   "cell_type": "code",
   "execution_count": null,
   "id": "9917a467",
   "metadata": {},
   "outputs": [],
   "source": []
  }
 ],
 "metadata": {
  "kernelspec": {
   "display_name": "Lumfn",
   "language": "python",
   "name": "lumfn"
  },
  "language_info": {
   "codemirror_mode": {
    "name": "ipython",
    "version": 3
   },
   "file_extension": ".py",
   "mimetype": "text/x-python",
   "name": "python",
   "nbconvert_exporter": "python",
   "pygments_lexer": "ipython3",
   "version": "3.9.9"
  }
 },
 "nbformat": 4,
 "nbformat_minor": 5
}
