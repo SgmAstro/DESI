{
 "cells": [
  {
   "cell_type": "markdown",
   "id": "8c5a7826",
   "metadata": {
    "tags": [
     "papermill-error-cell-tag"
    ]
   },
   "source": [
    "<span style=\"color:red; font-family:Helvetica Neue, Helvetica, Arial, sans-serif; font-size:2em;\">An Exception was encountered at '<a href=\"#papermill-error-cell\">In [9]</a>'.</span>"
   ]
  },
  {
   "cell_type": "code",
   "execution_count": 1,
   "id": "05417f65",
   "metadata": {
    "execution": {
     "iopub.execute_input": "2022-01-20T09:58:27.936886Z",
     "iopub.status.busy": "2022-01-20T09:58:27.926491Z",
     "iopub.status.idle": "2022-01-20T09:58:30.044913Z",
     "shell.execute_reply": "2022-01-20T09:58:30.043239Z"
    },
    "papermill": {
     "duration": 2.164622,
     "end_time": "2022-01-20T09:58:30.045266",
     "exception": false,
     "start_time": "2022-01-20T09:58:27.880644",
     "status": "completed"
    },
    "tags": []
   },
   "outputs": [],
   "source": [
    "import os\n",
    "import sys\n",
    "import pylab as pl\n",
    "import numpy as np\n",
    "import matplotlib.pyplot as plt\n",
    "import numpy as np\n",
    "\n",
    "# from   getdist       import plots, MCSamples \n",
    "from   astropy.table import Table"
   ]
  },
  {
   "cell_type": "code",
   "execution_count": 2,
   "id": "0b600d68",
   "metadata": {
    "execution": {
     "iopub.execute_input": "2022-01-20T09:58:30.116095Z",
     "iopub.status.busy": "2022-01-20T09:58:30.115160Z",
     "iopub.status.idle": "2022-01-20T09:58:30.121627Z",
     "shell.execute_reply": "2022-01-20T09:58:30.120721Z"
    },
    "papermill": {
     "duration": 0.043294,
     "end_time": "2022-01-20T09:58:30.121810",
     "exception": false,
     "start_time": "2022-01-20T09:58:30.078516",
     "status": "completed"
    },
    "tags": []
   },
   "outputs": [],
   "source": [
    "sys.path.append(os.environ['HOME'] + '/DESI/')"
   ]
  },
  {
   "cell_type": "code",
   "execution_count": 3,
   "id": "09f0d067",
   "metadata": {
    "execution": {
     "iopub.execute_input": "2022-01-20T09:58:30.176265Z",
     "iopub.status.busy": "2022-01-20T09:58:30.175502Z",
     "iopub.status.idle": "2022-01-20T09:58:30.470016Z",
     "shell.execute_reply": "2022-01-20T09:58:30.468990Z"
    },
    "papermill": {
     "duration": 0.324216,
     "end_time": "2022-01-20T09:58:30.470246",
     "exception": false,
     "start_time": "2022-01-20T09:58:30.146030",
     "status": "completed"
    },
    "tags": []
   },
   "outputs": [],
   "source": [
    "from   schechter     import schechter, named_schechter"
   ]
  },
  {
   "cell_type": "code",
   "execution_count": 4,
   "id": "01f682bf",
   "metadata": {
    "execution": {
     "iopub.execute_input": "2022-01-20T09:58:30.530454Z",
     "iopub.status.busy": "2022-01-20T09:58:30.529607Z",
     "iopub.status.idle": "2022-01-20T09:58:30.600058Z",
     "shell.execute_reply": "2022-01-20T09:58:30.598594Z"
    },
    "papermill": {
     "duration": 0.103565,
     "end_time": "2022-01-20T09:58:30.600364",
     "exception": false,
     "start_time": "2022-01-20T09:58:30.496799",
     "status": "completed"
    },
    "tags": []
   },
   "outputs": [
    {
     "data": {
      "text/html": [
       "<div><i>Table length=113602</i>\n",
       "<table id=\"table46970628832128\" class=\"table-striped table-bordered table-condensed\">\n",
       "<thead><tr><th>ZGAMA</th><th>ZMIN</th><th>ZMAX</th><th>MCOLOR_0P0</th><th>VMAX</th><th>VZ</th></tr></thead>\n",
       "<thead><tr><th></th><th></th><th></th><th>mag</th><th></th><th></th></tr></thead>\n",
       "<thead><tr><th>float32</th><th>float64</th><th>float64</th><th>float64</th><th>float64</th><th>float64</th></tr></thead>\n",
       "<tr><td>0.19148</td><td>0.03903000056743622</td><td>0.2469454249819889</td><td>-19.514288898304457</td><td>6349588.271497136</td><td>3052989.601898001</td></tr>\n",
       "<tr><td>0.14678</td><td>0.03903000056743622</td><td>0.21070684751247823</td><td>-19.59281940013149</td><td>4027520.2496576104</td><td>1398944.305137531</td></tr>\n",
       "<tr><td>0.10723</td><td>0.03903000056743622</td><td>0.2359721751024416</td><td>-19.945070914239654</td><td>5576424.763272431</td><td>541636.7082146929</td></tr>\n",
       "<tr><td>0.09026</td><td>0.03903000056743622</td><td>0.21495387626607787</td><td>-19.678222349682667</td><td>4266038.2003806755</td><td>314971.8325214965</td></tr>\n",
       "<tr><td>0.19381</td><td>0.03903000056743622</td><td>0.26298999786376953</td><td>-20.53782775391534</td><td>7594841.842906496</td><td>3162129.529927309</td></tr>\n",
       "<tr><td>0.26095</td><td>0.03903000056743622</td><td>0.26298999786376953</td><td>-20.464857177055965</td><td>7594841.842906496</td><td>7428791.865532176</td></tr>\n",
       "<tr><td>0.14096</td><td>0.03903000056743622</td><td>0.15787673253605988</td><td>-18.89293481444552</td><td>1735595.1283926105</td><td>1240338.4537762108</td></tr>\n",
       "<tr><td>0.16247</td><td>0.03903000056743622</td><td>0.26298999786376953</td><td>-20.368130796655105</td><td>7594841.842906496</td><td>1888592.7487608716</td></tr>\n",
       "<tr><td>0.25689</td><td>0.03903000056743622</td><td>0.26298999786376953</td><td>-20.465896797609915</td><td>7594841.842906496</td><td>7105066.105580313</td></tr>\n",
       "<tr><td>...</td><td>...</td><td>...</td><td>...</td><td>...</td><td>...</td></tr>\n",
       "<tr><td>0.2084</td><td>0.03903000056743622</td><td>0.2503051728484118</td><td>-19.51129964776692</td><td>6598925.78625957</td><td>3901559.2683549454</td></tr>\n",
       "<tr><td>0.26227</td><td>0.03903000056743622</td><td>0.26298999786376953</td><td>-20.601085028677435</td><td>7594841.842906496</td><td>7535976.417991341</td></tr>\n",
       "<tr><td>0.16402</td><td>0.03903000056743622</td><td>0.26298999786376953</td><td>-20.97218849627256</td><td>7594841.842906496</td><td>1942077.2864054008</td></tr>\n",
       "<tr><td>0.15944</td><td>0.03903000056743622</td><td>0.21410292883864895</td><td>-19.29148997865911</td><td>4217556.691161708</td><td>1786749.9611056088</td></tr>\n",
       "<tr><td>0.1683</td><td>0.03903000056743622</td><td>0.18467315495308084</td><td>-19.287509272339</td><td>2747852.7764386707</td><td>2094705.9257638862</td></tr>\n",
       "<tr><td>0.1478</td><td>0.03903000056743622</td><td>0.15007022327494585</td><td>-18.772911545604323</td><td>1494000.6019841374</td><td>1427990.8857804828</td></tr>\n",
       "<tr><td>0.25968</td><td>0.03903000056743622</td><td>0.26298999786376953</td><td>-20.890531828243425</td><td>7594841.842906496</td><td>7326565.4738814235</td></tr>\n",
       "<tr><td>0.136</td><td>0.03903000056743622</td><td>0.24070811102298958</td><td>-19.44992486660785</td><td>5902441.291199661</td><td>1114537.1705330731</td></tr>\n",
       "<tr><td>0.07858</td><td>0.03903000056743622</td><td>0.26298999786376953</td><td>-20.504540282906593</td><td>7594841.842906496</td><td>199684.09294716612</td></tr>\n",
       "<tr><td>0.19355</td><td>0.03903000056743622</td><td>0.22195672608689757</td><td>-19.77350814579215</td><td>4678331.429814531</td><td>3149831.139827287</td></tr>\n",
       "</table></div>"
      ],
      "text/plain": [
       "<Table length=113602>\n",
       " ZGAMA          ZMIN        ...        VMAX                VZ        \n",
       "                            ...                                      \n",
       "float32       float64       ...      float64            float64      \n",
       "------- ------------------- ... ------------------ ------------------\n",
       "0.19148 0.03903000056743622 ...  6349588.271497136  3052989.601898001\n",
       "0.14678 0.03903000056743622 ... 4027520.2496576104  1398944.305137531\n",
       "0.10723 0.03903000056743622 ...  5576424.763272431  541636.7082146929\n",
       "0.09026 0.03903000056743622 ... 4266038.2003806755  314971.8325214965\n",
       "0.19381 0.03903000056743622 ...  7594841.842906496  3162129.529927309\n",
       "0.26095 0.03903000056743622 ...  7594841.842906496  7428791.865532176\n",
       "0.14096 0.03903000056743622 ... 1735595.1283926105 1240338.4537762108\n",
       "0.16247 0.03903000056743622 ...  7594841.842906496 1888592.7487608716\n",
       "0.25689 0.03903000056743622 ...  7594841.842906496  7105066.105580313\n",
       "    ...                 ... ...                ...                ...\n",
       " 0.2084 0.03903000056743622 ...   6598925.78625957 3901559.2683549454\n",
       "0.26227 0.03903000056743622 ...  7594841.842906496  7535976.417991341\n",
       "0.16402 0.03903000056743622 ...  7594841.842906496 1942077.2864054008\n",
       "0.15944 0.03903000056743622 ...  4217556.691161708 1786749.9611056088\n",
       " 0.1683 0.03903000056743622 ... 2747852.7764386707 2094705.9257638862\n",
       " 0.1478 0.03903000056743622 ... 1494000.6019841374 1427990.8857804828\n",
       "0.25968 0.03903000056743622 ...  7594841.842906496 7326565.4738814235\n",
       "  0.136 0.03903000056743622 ...  5902441.291199661 1114537.1705330731\n",
       "0.07858 0.03903000056743622 ...  7594841.842906496 199684.09294716612\n",
       "0.19355 0.03903000056743622 ...  4678331.429814531  3149831.139827287"
      ]
     },
     "execution_count": 4,
     "metadata": {},
     "output_type": "execute_result"
    }
   ],
   "source": [
    "gama_vmax = Table.read(os.environ['HOME'] + '/data/GAMA4/gama_gold_vmax.fits')\n",
    "gama_vmax"
   ]
  },
  {
   "cell_type": "code",
   "execution_count": 5,
   "id": "6923bc9b",
   "metadata": {
    "execution": {
     "iopub.execute_input": "2022-01-20T09:58:30.665573Z",
     "iopub.status.busy": "2022-01-20T09:58:30.664211Z",
     "iopub.status.idle": "2022-01-20T09:58:30.734213Z",
     "shell.execute_reply": "2022-01-20T09:58:30.733283Z"
    },
    "papermill": {
     "duration": 0.104021,
     "end_time": "2022-01-20T09:58:30.734406",
     "exception": false,
     "start_time": "2022-01-20T09:58:30.630385",
     "status": "completed"
    },
    "tags": []
   },
   "outputs": [
    {
     "name": "stderr",
     "output_type": "stream",
     "text": [
      "/tmp/ipykernel_7493/1789927872.py:2: RuntimeWarning: invalid value encountered in true_divide\n",
      "  gama_lf['S2N_N']     = gama_lf['PHI_N'] / gama_lf['PHI_N_ERROR']\n",
      "/tmp/ipykernel_7493/1789927872.py:3: RuntimeWarning: invalid value encountered in true_divide\n",
      "  gama_lf['S2N_IVMAX'] = gama_lf['PHI_IVMAX'] / gama_lf['PHI_IVMAX_ERROR']\n"
     ]
    },
    {
     "data": {
      "text/html": [
       "<div><i>Table length=99</i>\n",
       "<table id=\"table46975489699168\" class=\"table-striped table-bordered table-condensed\">\n",
       "<thead><tr><th>MEDIAN_M</th><th>PHI_N</th><th>PHI_N_ERROR</th><th>PHI_IVMAX</th><th>PHI_IVMAX_ERROR</th><th>N</th><th>V_ON_VMAX</th><th>S2N_N</th><th>S2N_IVMAX</th></tr></thead>\n",
       "<thead><tr><th>float64</th><th>float64</th><th>float64</th><th>float64</th><th>float64</th><th>float64</th><th>float64</th><th>float64</th><th>float64</th></tr></thead>\n",
       "<tr><td>--</td><td>0.0</td><td>0.0</td><td>0.0</td><td>0.0</td><td>0.0</td><td>--</td><td>nan</td><td>nan</td></tr>\n",
       "<tr><td>--</td><td>0.0</td><td>0.0</td><td>0.0</td><td>0.0</td><td>0.0</td><td>--</td><td>nan</td><td>nan</td></tr>\n",
       "<tr><td>--</td><td>0.0</td><td>0.0</td><td>0.0</td><td>0.0</td><td>0.0</td><td>--</td><td>nan</td><td>nan</td></tr>\n",
       "<tr><td>--</td><td>0.0</td><td>0.0</td><td>0.0</td><td>0.0</td><td>0.0</td><td>--</td><td>nan</td><td>nan</td></tr>\n",
       "<tr><td>--</td><td>0.0</td><td>0.0</td><td>0.0</td><td>0.0</td><td>0.0</td><td>--</td><td>nan</td><td>nan</td></tr>\n",
       "<tr><td>--</td><td>0.0</td><td>0.0</td><td>0.0</td><td>0.0</td><td>0.0</td><td>--</td><td>nan</td><td>nan</td></tr>\n",
       "<tr><td>--</td><td>0.0</td><td>0.0</td><td>0.0</td><td>0.0</td><td>0.0</td><td>--</td><td>nan</td><td>nan</td></tr>\n",
       "<tr><td>--</td><td>0.0</td><td>0.0</td><td>0.0</td><td>0.0</td><td>0.0</td><td>--</td><td>nan</td><td>nan</td></tr>\n",
       "<tr><td>--</td><td>0.0</td><td>0.0</td><td>0.0</td><td>0.0</td><td>0.0</td><td>--</td><td>nan</td><td>nan</td></tr>\n",
       "<tr><td>--</td><td>0.0</td><td>0.0</td><td>0.0</td><td>0.0</td><td>0.0</td><td>--</td><td>nan</td><td>nan</td></tr>\n",
       "<tr><td>...</td><td>...</td><td>...</td><td>...</td><td>...</td><td>...</td><td>...</td><td>...</td><td>...</td></tr>\n",
       "<tr><td>-16.65119094584305</td><td>0.00024621974211965115</td><td>1.800537076877943e-05</td><td>0.01986700076610707</td><td>0.0014562159411403643</td><td>187.0</td><td>0.012463685861738636</td><td>13.674794331177342</td><td>13.642894714192732</td></tr>\n",
       "<tr><td>-16.549433501133358</td><td>0.00023041954476437943</td><td>1.741808036157894e-05</td><td>0.022250978271823964</td><td>0.0016860161520740845</td><td>175.0</td><td>0.01034486447282865</td><td>13.228756555322954</td><td>13.197369577065738</td></tr>\n",
       "<tr><td>-16.45617575868919</td><td>0.0002264694954255615</td><td>1.726813713817224e-05</td><td>0.02665799343108546</td><td>0.0020395588287421816</td><td>172.0</td><td>0.008672502092214361</td><td>13.114877048604002</td><td>13.070470464206094</td></tr>\n",
       "<tr><td>-16.361202421993887</td><td>0.0001882856851503215</td><td>1.5745239980566705e-05</td><td>0.02650019602316734</td><td>0.0022209942986452422</td><td>143.0</td><td>0.007208906986753572</td><td>11.9582607431014</td><td>11.931681247147676</td></tr>\n",
       "<tr><td>-16.26055714607927</td><td>0.00013693504374568834</td><td>1.3427585772191278e-05</td><td>0.02410604589535221</td><td>0.0023708941693920283</td><td>104.0</td><td>0.005787579835074708</td><td>10.198039027185569</td><td>10.167491323129685</td></tr>\n",
       "<tr><td>-16.161672620781538</td><td>7.900098677635866e-05</td><td>1.0198983537292982e-05</td><td>0.017366429583384958</td><td>0.002247916425789194</td><td>60.0</td><td>0.004635358106324707</td><td>7.745966692414834</td><td>7.725567278279924</td></tr>\n",
       "<tr><td>-16.03973304384555</td><td>6.320078942108692e-05</td><td>9.122248196315347e-06</td><td>0.018829757317556373</td><td>0.0027268132483643124</td><td>48.0</td><td>0.0033289497229045946</td><td>6.928203230275509</td><td>6.905407742481618</td></tr>\n",
       "<tr><td>-15.954801353749659</td><td>5.135064140463313e-05</td><td>8.22268340483097e-06</td><td>0.020025521424285247</td><td>0.0032239690329239792</td><td>39.0</td><td>0.002575167389821513</td><td>6.244997998398398</td><td>6.211449681985034</td></tr>\n",
       "<tr><td>-15.864828273084505</td><td>2.633366225878622e-05</td><td>5.888385890716665e-06</td><td>0.015507082907155542</td><td>0.003510638221907733</td><td>20.0</td><td>0.0017582900048385623</td><td>4.472135954999579</td><td>4.417169166103582</td></tr>\n",
       "<tr><td>-15.755555654226708</td><td>2.633366225878622e-05</td><td>5.888385890716665e-06</td><td>0.02576903475230393</td><td>0.005843293918822397</td><td>20.0</td><td>0.0010433583314573686</td><td>4.472135954999579</td><td>4.4100185803245</td></tr>\n",
       "</table></div>"
      ],
      "text/plain": [
       "<Table length=99>\n",
       "      MEDIAN_M              PHI_N          ...     S2N_IVMAX     \n",
       "      float64              float64         ...      float64      \n",
       "------------------- ---------------------- ... ------------------\n",
       "                 --                    0.0 ...                nan\n",
       "                 --                    0.0 ...                nan\n",
       "                 --                    0.0 ...                nan\n",
       "                 --                    0.0 ...                nan\n",
       "                 --                    0.0 ...                nan\n",
       "                 --                    0.0 ...                nan\n",
       "                 --                    0.0 ...                nan\n",
       "                 --                    0.0 ...                nan\n",
       "                 --                    0.0 ...                nan\n",
       "                 --                    0.0 ...                nan\n",
       "                ...                    ... ...                ...\n",
       " -16.65119094584305 0.00024621974211965115 ... 13.642894714192732\n",
       "-16.549433501133358 0.00023041954476437943 ... 13.197369577065738\n",
       " -16.45617575868919  0.0002264694954255615 ... 13.070470464206094\n",
       "-16.361202421993887  0.0001882856851503215 ... 11.931681247147676\n",
       " -16.26055714607927 0.00013693504374568834 ... 10.167491323129685\n",
       "-16.161672620781538  7.900098677635866e-05 ...  7.725567278279924\n",
       " -16.03973304384555  6.320078942108692e-05 ...  6.905407742481618\n",
       "-15.954801353749659  5.135064140463313e-05 ...  6.211449681985034\n",
       "-15.864828273084505  2.633366225878622e-05 ...  4.417169166103582\n",
       "-15.755555654226708  2.633366225878622e-05 ...    4.4100185803245"
      ]
     },
     "execution_count": 5,
     "metadata": {},
     "output_type": "execute_result"
    }
   ],
   "source": [
    "gama_lf              = Table.read(os.environ['HOME'] + '/data/GAMA4/gama_gold_lumfn.fits')\n",
    "gama_lf['S2N_N']     = gama_lf['PHI_N'] / gama_lf['PHI_N_ERROR']\n",
    "gama_lf['S2N_IVMAX'] = gama_lf['PHI_IVMAX'] / gama_lf['PHI_IVMAX_ERROR']\n",
    "gama_lf"
   ]
  },
  {
   "cell_type": "raw",
   "id": "ac9fbc70",
   "metadata": {
    "papermill": {
     "duration": 0.023915,
     "end_time": "2022-01-20T09:58:30.783016",
     "exception": false,
     "start_time": "2022-01-20T09:58:30.759101",
     "status": "completed"
    },
    "tags": []
   },
   "source": [
    "_ = pl.hist(gama_lf['S2N_N'],     bins=np.arange(0.1, 5000., 100.), histtype='step')\n",
    "_ = pl.hist(gama_lf['S2N_IVMAX'], bins=np.arange(0.1, 5000., 100.), histtype='step')\n",
    "\n",
    "pl.xlabel('S/N')\n",
    "pl.xlim(0.0, 5000.)\n",
    "\n",
    "pl.xscale('log')\n",
    "pl.yscale('log')"
   ]
  },
  {
   "cell_type": "code",
   "execution_count": 6,
   "id": "27b89fe2",
   "metadata": {
    "execution": {
     "iopub.execute_input": "2022-01-20T09:58:30.863793Z",
     "iopub.status.busy": "2022-01-20T09:58:30.861881Z",
     "iopub.status.idle": "2022-01-20T09:58:31.376924Z",
     "shell.execute_reply": "2022-01-20T09:58:31.376178Z"
    },
    "papermill": {
     "duration": 0.555507,
     "end_time": "2022-01-20T09:58:31.377098",
     "exception": false,
     "start_time": "2022-01-20T09:58:30.821591",
     "status": "completed"
    },
    "tags": []
   },
   "outputs": [
    {
     "name": "stderr",
     "output_type": "stream",
     "text": [
      "/tmp/ipykernel_7493/719830864.py:6: RuntimeWarning: divide by zero encountered in log10\n",
      "  pl.errorbar(gama_lf['MEDIAN_M'], np.log10(gama_lf['PHI_N']), gama_lf['PHI_N_ERROR'] / gama_lf['PHI_N'] / np.log(10.), label='NOWEIGHT', alpha=0.4)\n",
      "/tmp/ipykernel_7493/719830864.py:6: RuntimeWarning: invalid value encountered in true_divide\n",
      "  pl.errorbar(gama_lf['MEDIAN_M'], np.log10(gama_lf['PHI_N']), gama_lf['PHI_N_ERROR'] / gama_lf['PHI_N'] / np.log(10.), label='NOWEIGHT', alpha=0.4)\n"
     ]
    },
    {
     "name": "stderr",
     "output_type": "stream",
     "text": [
      "/tmp/ipykernel_7493/719830864.py:7: RuntimeWarning: divide by zero encountered in log10\n",
      "  pl.errorbar(gama_lf['MEDIAN_M'], np.log10(gama_lf['PHI_IVMAX']), gama_lf['PHI_IVMAX_ERROR'] / gama_lf['PHI_IVMAX'] / np.log(10.), label='IVMAX')\n",
      "/tmp/ipykernel_7493/719830864.py:7: RuntimeWarning: invalid value encountered in true_divide\n",
      "  pl.errorbar(gama_lf['MEDIAN_M'], np.log10(gama_lf['PHI_IVMAX']), gama_lf['PHI_IVMAX_ERROR'] / gama_lf['PHI_IVMAX'] / np.log(10.), label='IVMAX')\n"
     ]
    },
    {
     "data": {
      "text/plain": [
       "<matplotlib.legend.Legend at 0x2ab9556775e0>"
      ]
     },
     "execution_count": 6,
     "metadata": {},
     "output_type": "execute_result"
    },
    {
     "data": {
      "image/png": "[encoded data removed]",
      "text/plain": [
       "<Figure size 432x288 with 1 Axes>"
      ]
     },
     "metadata": {
      "needs_background": "light"
     },
     "output_type": "display_data"
    }
   ],
   "source": [
    "Ms = np.arange(-23., -15., 0.01)\n",
    "sc = named_schechter(Ms, named_type='TMR')\n",
    "\n",
    "pl.plot(Ms, np.log10(sc), label='TMR')\n",
    "\n",
    "pl.errorbar(gama_lf['MEDIAN_M'], np.log10(gama_lf['PHI_N']), gama_lf['PHI_N_ERROR'] / gama_lf['PHI_N'] / np.log(10.), label='NOWEIGHT', alpha=0.4)\n",
    "pl.errorbar(gama_lf['MEDIAN_M'], np.log10(gama_lf['PHI_IVMAX']), gama_lf['PHI_IVMAX_ERROR'] / gama_lf['PHI_IVMAX'] / np.log(10.), label='IVMAX')\n",
    "\n",
    "pl.xlabel(r'$M$')\n",
    "pl.ylabel(r'$\\Phi(M)$')\n",
    "\n",
    "pl.ylim(-4.25, -.75)\n",
    "pl.xlim(-23., -15.5)\n",
    "\n",
    "pl.legend(frameon=True, loc=2)"
   ]
  },
  {
   "cell_type": "code",
   "execution_count": 7,
   "id": "83d7a013",
   "metadata": {
    "execution": {
     "iopub.execute_input": "2022-01-20T09:58:31.472345Z",
     "iopub.status.busy": "2022-01-20T09:58:31.449589Z",
     "iopub.status.idle": "2022-01-20T09:58:32.312931Z",
     "shell.execute_reply": "2022-01-20T09:58:32.314042Z"
    },
    "papermill": {
     "duration": 0.907108,
     "end_time": "2022-01-20T09:58:32.314395",
     "exception": false,
     "start_time": "2022-01-20T09:58:31.407287",
     "status": "completed"
    },
    "tags": []
   },
   "outputs": [
    {
     "data": {
      "image/png": "[encoded data removed]",
      "text/plain": [
       "<Figure size 432x288 with 1 Axes>"
      ]
     },
     "metadata": {
      "needs_background": "light"
     },
     "output_type": "display_data"
    }
   ],
   "source": [
    "for d8 in [-0.75, 2., 10.]:\n",
    "    Ms = np.arange(-23., -15., 0.01)\n",
    "    sc = named_schechter(Ms, named_type='TMR')\n",
    "\n",
    "    sc *= (1. + d8)\n",
    "    \n",
    "    pl.semilogy(Ms, sc)"
   ]
  },
  {
   "cell_type": "code",
   "execution_count": 8,
   "id": "8c7b0a32",
   "metadata": {
    "execution": {
     "iopub.execute_input": "2022-01-20T09:58:32.407807Z",
     "iopub.status.busy": "2022-01-20T09:58:32.406946Z",
     "iopub.status.idle": "2022-01-20T09:58:32.412301Z",
     "shell.execute_reply": "2022-01-20T09:58:32.411434Z"
    },
    "papermill": {
     "duration": 0.051803,
     "end_time": "2022-01-20T09:58:32.412479",
     "exception": false,
     "start_time": "2022-01-20T09:58:32.360676",
     "status": "completed"
    },
    "tags": []
   },
   "outputs": [],
   "source": [
    "root = '/global/cscratch1/sd/mjwilson/norberg/GAMA4/cobaya/'"
   ]
  },
  {
   "cell_type": "markdown",
   "id": "283e33bf",
   "metadata": {
    "tags": [
     "papermill-error-cell-tag"
    ]
   },
   "source": [
    "<span id=\"papermill-error-cell\" style=\"color:red; font-family:Helvetica Neue, Helvetica, Arial, sans-serif; font-size:2em;\">Execution using papermill encountered an exception here and stopped:</span>"
   ]
  },
  {
   "cell_type": "code",
   "execution_count": 9,
   "id": "a0500ad5",
   "metadata": {
    "execution": {
     "iopub.execute_input": "2022-01-20T09:58:32.488291Z",
     "iopub.status.busy": "2022-01-20T09:58:32.485327Z",
     "iopub.status.idle": "2022-01-20T09:58:34.746280Z",
     "shell.execute_reply": "2022-01-20T09:58:34.743603Z"
    },
    "papermill": {
     "duration": 2.301593,
     "end_time": "2022-01-20T09:58:34.746989",
     "exception": true,
     "start_time": "2022-01-20T09:58:32.445396",
     "status": "failed"
    },
    "tags": []
   },
   "outputs": [
    {
     "ename": "FileNotFoundError",
     "evalue": "[Errno 2] No such file or directory: '/global/cscratch1/sd/mjwilson/norberg/GAMA4/cobaya/schechter_chain.1.txt'",
     "output_type": "error",
     "traceback": [
      "\u001b[0;31m---------------------------------------------------------------------------\u001b[0m",
      "\u001b[0;31mFileNotFoundError\u001b[0m                         Traceback (most recent call last)",
      "Input \u001b[0;32mIn [9]\u001b[0m, in \u001b[0;36m<module>\u001b[0;34m\u001b[0m\n\u001b[0;32m----> 1\u001b[0m dat \u001b[38;5;241m=\u001b[39m \u001b[43mTable\u001b[49m\u001b[38;5;241;43m.\u001b[39;49m\u001b[43mread\u001b[49m\u001b[43m(\u001b[49m\u001b[43mroot\u001b[49m\u001b[43m \u001b[49m\u001b[38;5;241;43m+\u001b[39;49m\u001b[43m \u001b[49m\u001b[38;5;124;43m'\u001b[39;49m\u001b[38;5;124;43mschechter_chain.1.txt\u001b[39;49m\u001b[38;5;124;43m'\u001b[39;49m\u001b[43m,\u001b[49m\u001b[43m \u001b[49m\u001b[38;5;28;43mformat\u001b[39;49m\u001b[38;5;241;43m=\u001b[39;49m\u001b[38;5;124;43m'\u001b[39;49m\u001b[38;5;124;43mascii\u001b[39;49m\u001b[38;5;124;43m'\u001b[39;49m\u001b[43m)\u001b[49m\n",
      "File \u001b[0;32m~/.local/lib/python3.9/site-packages/astropy/table/connect.py:62\u001b[0m, in \u001b[0;36mTableRead.__call__\u001b[0;34m(self, *args, **kwargs)\u001b[0m\n\u001b[1;32m     59\u001b[0m units \u001b[38;5;241m=\u001b[39m kwargs\u001b[38;5;241m.\u001b[39mpop(\u001b[38;5;124m'\u001b[39m\u001b[38;5;124munits\u001b[39m\u001b[38;5;124m'\u001b[39m, \u001b[38;5;28;01mNone\u001b[39;00m)\n\u001b[1;32m     60\u001b[0m descriptions \u001b[38;5;241m=\u001b[39m kwargs\u001b[38;5;241m.\u001b[39mpop(\u001b[38;5;124m'\u001b[39m\u001b[38;5;124mdescriptions\u001b[39m\u001b[38;5;124m'\u001b[39m, \u001b[38;5;28;01mNone\u001b[39;00m)\n\u001b[0;32m---> 62\u001b[0m out \u001b[38;5;241m=\u001b[39m \u001b[38;5;28;43mself\u001b[39;49m\u001b[38;5;241;43m.\u001b[39;49m\u001b[43mregistry\u001b[49m\u001b[38;5;241;43m.\u001b[39;49m\u001b[43mread\u001b[49m\u001b[43m(\u001b[49m\u001b[38;5;28;43mcls\u001b[39;49m\u001b[43m,\u001b[49m\u001b[43m \u001b[49m\u001b[38;5;241;43m*\u001b[39;49m\u001b[43margs\u001b[49m\u001b[43m,\u001b[49m\u001b[43m \u001b[49m\u001b[38;5;241;43m*\u001b[39;49m\u001b[38;5;241;43m*\u001b[39;49m\u001b[43mkwargs\u001b[49m\u001b[43m)\u001b[49m\n\u001b[1;32m     64\u001b[0m \u001b[38;5;66;03m# For some readers (e.g., ascii.ecsv), the returned `out` class is not\u001b[39;00m\n\u001b[1;32m     65\u001b[0m \u001b[38;5;66;03m# guaranteed to be the same as the desired output `cls`.  If so,\u001b[39;00m\n\u001b[1;32m     66\u001b[0m \u001b[38;5;66;03m# try coercing to desired class without copying (io.registry.read\u001b[39;00m\n\u001b[1;32m     67\u001b[0m \u001b[38;5;66;03m# would normally do a copy).  The normal case here is swapping\u001b[39;00m\n\u001b[1;32m     68\u001b[0m \u001b[38;5;66;03m# Table <=> QTable.\u001b[39;00m\n\u001b[1;32m     69\u001b[0m \u001b[38;5;28;01mif\u001b[39;00m \u001b[38;5;28mcls\u001b[39m \u001b[38;5;129;01mis\u001b[39;00m \u001b[38;5;129;01mnot\u001b[39;00m out\u001b[38;5;241m.\u001b[39m\u001b[38;5;18m__class__\u001b[39m:\n",
      "File \u001b[0;32m~/.local/lib/python3.9/site-packages/astropy/io/registry/core.py:199\u001b[0m, in \u001b[0;36mUnifiedInputRegistry.read\u001b[0;34m(self, cls, format, cache, *args, **kwargs)\u001b[0m\n\u001b[1;32m    195\u001b[0m     \u001b[38;5;28mformat\u001b[39m \u001b[38;5;241m=\u001b[39m \u001b[38;5;28mself\u001b[39m\u001b[38;5;241m.\u001b[39m_get_valid_format(\n\u001b[1;32m    196\u001b[0m         \u001b[38;5;124m'\u001b[39m\u001b[38;5;124mread\u001b[39m\u001b[38;5;124m'\u001b[39m, \u001b[38;5;28mcls\u001b[39m, path, fileobj, args, kwargs)\n\u001b[1;32m    198\u001b[0m reader \u001b[38;5;241m=\u001b[39m \u001b[38;5;28mself\u001b[39m\u001b[38;5;241m.\u001b[39mget_reader(\u001b[38;5;28mformat\u001b[39m, \u001b[38;5;28mcls\u001b[39m)\n\u001b[0;32m--> 199\u001b[0m data \u001b[38;5;241m=\u001b[39m \u001b[43mreader\u001b[49m\u001b[43m(\u001b[49m\u001b[38;5;241;43m*\u001b[39;49m\u001b[43margs\u001b[49m\u001b[43m,\u001b[49m\u001b[43m \u001b[49m\u001b[38;5;241;43m*\u001b[39;49m\u001b[38;5;241;43m*\u001b[39;49m\u001b[43mkwargs\u001b[49m\u001b[43m)\u001b[49m\n\u001b[1;32m    201\u001b[0m \u001b[38;5;28;01mif\u001b[39;00m \u001b[38;5;129;01mnot\u001b[39;00m \u001b[38;5;28misinstance\u001b[39m(data, \u001b[38;5;28mcls\u001b[39m):\n\u001b[1;32m    202\u001b[0m     \u001b[38;5;66;03m# User has read with a subclass where only the parent class is\u001b[39;00m\n\u001b[1;32m    203\u001b[0m     \u001b[38;5;66;03m# registered.  This returns the parent class, so try coercing\u001b[39;00m\n\u001b[1;32m    204\u001b[0m     \u001b[38;5;66;03m# to desired subclass.\u001b[39;00m\n\u001b[1;32m    205\u001b[0m     \u001b[38;5;28;01mtry\u001b[39;00m:\n",
      "File \u001b[0;32m~/.local/lib/python3.9/site-packages/astropy/io/ascii/connect.py:18\u001b[0m, in \u001b[0;36mio_read\u001b[0;34m(format, filename, **kwargs)\u001b[0m\n\u001b[1;32m     16\u001b[0m     \u001b[38;5;28mformat\u001b[39m \u001b[38;5;241m=\u001b[39m re\u001b[38;5;241m.\u001b[39msub(\u001b[38;5;124mr\u001b[39m\u001b[38;5;124m'\u001b[39m\u001b[38;5;124m^ascii\u001b[39m\u001b[38;5;124m\\\u001b[39m\u001b[38;5;124m.\u001b[39m\u001b[38;5;124m'\u001b[39m, \u001b[38;5;124m'\u001b[39m\u001b[38;5;124m'\u001b[39m, \u001b[38;5;28mformat\u001b[39m)\n\u001b[1;32m     17\u001b[0m     kwargs[\u001b[38;5;124m'\u001b[39m\u001b[38;5;124mformat\u001b[39m\u001b[38;5;124m'\u001b[39m] \u001b[38;5;241m=\u001b[39m \u001b[38;5;28mformat\u001b[39m\n\u001b[0;32m---> 18\u001b[0m \u001b[38;5;28;01mreturn\u001b[39;00m \u001b[43mread\u001b[49m\u001b[43m(\u001b[49m\u001b[43mfilename\u001b[49m\u001b[43m,\u001b[49m\u001b[43m \u001b[49m\u001b[38;5;241;43m*\u001b[39;49m\u001b[38;5;241;43m*\u001b[39;49m\u001b[43mkwargs\u001b[49m\u001b[43m)\u001b[49m\n",
      "File \u001b[0;32m~/.local/lib/python3.9/site-packages/astropy/io/ascii/ui.py:341\u001b[0m, in \u001b[0;36mread\u001b[0;34m(table, guess, **kwargs)\u001b[0m\n\u001b[1;32m    335\u001b[0m             new_kwargs[\u001b[38;5;124m'\u001b[39m\u001b[38;5;124mguess_html\u001b[39m\u001b[38;5;124m'\u001b[39m] \u001b[38;5;241m=\u001b[39m _probably_html(table)\n\u001b[1;32m    337\u001b[0m \u001b[38;5;66;03m# Get the table from guess in ``dat``.  If ``dat`` comes back as None\u001b[39;00m\n\u001b[1;32m    338\u001b[0m \u001b[38;5;66;03m# then there was just one set of kwargs in the guess list so fall\u001b[39;00m\n\u001b[1;32m    339\u001b[0m \u001b[38;5;66;03m# through below to the non-guess way so that any problems result in a\u001b[39;00m\n\u001b[1;32m    340\u001b[0m \u001b[38;5;66;03m# more useful traceback.\u001b[39;00m\n\u001b[0;32m--> 341\u001b[0m dat \u001b[38;5;241m=\u001b[39m \u001b[43m_guess\u001b[49m\u001b[43m(\u001b[49m\u001b[43mtable\u001b[49m\u001b[43m,\u001b[49m\u001b[43m \u001b[49m\u001b[43mnew_kwargs\u001b[49m\u001b[43m,\u001b[49m\u001b[43m \u001b[49m\u001b[38;5;28;43mformat\u001b[39;49m\u001b[43m,\u001b[49m\u001b[43m \u001b[49m\u001b[43mfast_reader\u001b[49m\u001b[43m)\u001b[49m\n\u001b[1;32m    342\u001b[0m \u001b[38;5;28;01mif\u001b[39;00m dat \u001b[38;5;129;01mis\u001b[39;00m \u001b[38;5;28;01mNone\u001b[39;00m:\n\u001b[1;32m    343\u001b[0m     guess \u001b[38;5;241m=\u001b[39m \u001b[38;5;28;01mFalse\u001b[39;00m\n",
      "File \u001b[0;32m~/.local/lib/python3.9/site-packages/astropy/io/ascii/ui.py:506\u001b[0m, in \u001b[0;36m_guess\u001b[0;34m(table, read_kwargs, format, fast_reader)\u001b[0m\n\u001b[1;32m    503\u001b[0m reader \u001b[38;5;241m=\u001b[39m get_reader(\u001b[38;5;241m*\u001b[39m\u001b[38;5;241m*\u001b[39mguess_kwargs)\n\u001b[1;32m    505\u001b[0m reader\u001b[38;5;241m.\u001b[39mguessing \u001b[38;5;241m=\u001b[39m \u001b[38;5;28;01mTrue\u001b[39;00m\n\u001b[0;32m--> 506\u001b[0m dat \u001b[38;5;241m=\u001b[39m \u001b[43mreader\u001b[49m\u001b[38;5;241;43m.\u001b[39;49m\u001b[43mread\u001b[49m\u001b[43m(\u001b[49m\u001b[43mtable\u001b[49m\u001b[43m)\u001b[49m\n\u001b[1;32m    507\u001b[0m _read_trace\u001b[38;5;241m.\u001b[39mappend({\u001b[38;5;124m'\u001b[39m\u001b[38;5;124mkwargs\u001b[39m\u001b[38;5;124m'\u001b[39m: copy\u001b[38;5;241m.\u001b[39mdeepcopy(guess_kwargs),\n\u001b[1;32m    508\u001b[0m                     \u001b[38;5;124m'\u001b[39m\u001b[38;5;124mReader\u001b[39m\u001b[38;5;124m'\u001b[39m: reader\u001b[38;5;241m.\u001b[39m\u001b[38;5;18m__class__\u001b[39m,\n\u001b[1;32m    509\u001b[0m                     \u001b[38;5;124m'\u001b[39m\u001b[38;5;124mstatus\u001b[39m\u001b[38;5;124m'\u001b[39m: \u001b[38;5;124m'\u001b[39m\u001b[38;5;124mSuccess (guessing)\u001b[39m\u001b[38;5;124m'\u001b[39m,\n\u001b[1;32m    510\u001b[0m                     \u001b[38;5;124m'\u001b[39m\u001b[38;5;124mdt\u001b[39m\u001b[38;5;124m'\u001b[39m: \u001b[38;5;124mf\u001b[39m\u001b[38;5;124m'\u001b[39m\u001b[38;5;132;01m{\u001b[39;00m(time\u001b[38;5;241m.\u001b[39mtime() \u001b[38;5;241m-\u001b[39m t0) \u001b[38;5;241m*\u001b[39m \u001b[38;5;241m1000\u001b[39m\u001b[38;5;132;01m:\u001b[39;00m\u001b[38;5;124m.3f\u001b[39m\u001b[38;5;132;01m}\u001b[39;00m\u001b[38;5;124m ms\u001b[39m\u001b[38;5;124m'\u001b[39m})\n\u001b[1;32m    511\u001b[0m \u001b[38;5;28;01mreturn\u001b[39;00m dat\n",
      "File \u001b[0;32m~/.local/lib/python3.9/site-packages/astropy/io/ascii/core.py:1334\u001b[0m, in \u001b[0;36mBaseReader.read\u001b[0;34m(self, table)\u001b[0m\n\u001b[1;32m   1331\u001b[0m     newline \u001b[38;5;241m=\u001b[39m \u001b[38;5;28;01mNone\u001b[39;00m\n\u001b[1;32m   1333\u001b[0m \u001b[38;5;66;03m# Get a list of the lines (rows) in the table\u001b[39;00m\n\u001b[0;32m-> 1334\u001b[0m \u001b[38;5;28mself\u001b[39m\u001b[38;5;241m.\u001b[39mlines \u001b[38;5;241m=\u001b[39m \u001b[38;5;28;43mself\u001b[39;49m\u001b[38;5;241;43m.\u001b[39;49m\u001b[43minputter\u001b[49m\u001b[38;5;241;43m.\u001b[39;49m\u001b[43mget_lines\u001b[49m\u001b[43m(\u001b[49m\u001b[43mtable\u001b[49m\u001b[43m,\u001b[49m\u001b[43m \u001b[49m\u001b[43mnewline\u001b[49m\u001b[38;5;241;43m=\u001b[39;49m\u001b[43mnewline\u001b[49m\u001b[43m)\u001b[49m\n\u001b[1;32m   1336\u001b[0m \u001b[38;5;66;03m# Set self.data.data_lines to a slice of lines contain the data rows\u001b[39;00m\n\u001b[1;32m   1337\u001b[0m \u001b[38;5;28mself\u001b[39m\u001b[38;5;241m.\u001b[39mdata\u001b[38;5;241m.\u001b[39mget_data_lines(\u001b[38;5;28mself\u001b[39m\u001b[38;5;241m.\u001b[39mlines)\n",
      "File \u001b[0;32m~/.local/lib/python3.9/site-packages/astropy/io/ascii/core.py:329\u001b[0m, in \u001b[0;36mBaseInputter.get_lines\u001b[0;34m(self, table, newline)\u001b[0m\n\u001b[1;32m    326\u001b[0m \u001b[38;5;28;01mtry\u001b[39;00m:\n\u001b[1;32m    327\u001b[0m     \u001b[38;5;28;01mif\u001b[39;00m (\u001b[38;5;28mhasattr\u001b[39m(table, \u001b[38;5;124m'\u001b[39m\u001b[38;5;124mread\u001b[39m\u001b[38;5;124m'\u001b[39m)\n\u001b[1;32m    328\u001b[0m             \u001b[38;5;129;01mor\u001b[39;00m (\u001b[38;5;124m'\u001b[39m\u001b[38;5;130;01m\\n\u001b[39;00m\u001b[38;5;124m'\u001b[39m \u001b[38;5;129;01mnot\u001b[39;00m \u001b[38;5;129;01min\u001b[39;00m table \u001b[38;5;241m+\u001b[39m \u001b[38;5;124m'\u001b[39m\u001b[38;5;124m'\u001b[39m \u001b[38;5;129;01mand\u001b[39;00m \u001b[38;5;124m'\u001b[39m\u001b[38;5;130;01m\\r\u001b[39;00m\u001b[38;5;124m'\u001b[39m \u001b[38;5;129;01mnot\u001b[39;00m \u001b[38;5;129;01min\u001b[39;00m table \u001b[38;5;241m+\u001b[39m \u001b[38;5;124m'\u001b[39m\u001b[38;5;124m'\u001b[39m)):\n\u001b[0;32m--> 329\u001b[0m         \u001b[38;5;28;01mwith\u001b[39;00m get_readable_fileobj(table,\n\u001b[1;32m    330\u001b[0m                                   encoding\u001b[38;5;241m=\u001b[39m\u001b[38;5;28mself\u001b[39m\u001b[38;5;241m.\u001b[39mencoding) \u001b[38;5;28;01mas\u001b[39;00m fileobj:\n\u001b[1;32m    331\u001b[0m             table \u001b[38;5;241m=\u001b[39m fileobj\u001b[38;5;241m.\u001b[39mread()\n\u001b[1;32m    332\u001b[0m     \u001b[38;5;28;01mif\u001b[39;00m newline \u001b[38;5;129;01mis\u001b[39;00m \u001b[38;5;28;01mNone\u001b[39;00m:\n",
      "File \u001b[0;32m~/.conda/envs/lumfn/lib/python3.9/contextlib.py:119\u001b[0m, in \u001b[0;36m_GeneratorContextManager.__enter__\u001b[0;34m(self)\u001b[0m\n\u001b[1;32m    117\u001b[0m \u001b[38;5;28;01mdel\u001b[39;00m \u001b[38;5;28mself\u001b[39m\u001b[38;5;241m.\u001b[39margs, \u001b[38;5;28mself\u001b[39m\u001b[38;5;241m.\u001b[39mkwds, \u001b[38;5;28mself\u001b[39m\u001b[38;5;241m.\u001b[39mfunc\n\u001b[1;32m    118\u001b[0m \u001b[38;5;28;01mtry\u001b[39;00m:\n\u001b[0;32m--> 119\u001b[0m     \u001b[38;5;28;01mreturn\u001b[39;00m \u001b[38;5;28;43mnext\u001b[39;49m\u001b[43m(\u001b[49m\u001b[38;5;28;43mself\u001b[39;49m\u001b[38;5;241;43m.\u001b[39;49m\u001b[43mgen\u001b[49m\u001b[43m)\u001b[49m\n\u001b[1;32m    120\u001b[0m \u001b[38;5;28;01mexcept\u001b[39;00m \u001b[38;5;167;01mStopIteration\u001b[39;00m:\n\u001b[1;32m    121\u001b[0m     \u001b[38;5;28;01mraise\u001b[39;00m \u001b[38;5;167;01mRuntimeError\u001b[39;00m(\u001b[38;5;124m\"\u001b[39m\u001b[38;5;124mgenerator didn\u001b[39m\u001b[38;5;124m'\u001b[39m\u001b[38;5;124mt yield\u001b[39m\u001b[38;5;124m\"\u001b[39m) \u001b[38;5;28;01mfrom\u001b[39;00m \u001b[38;5;28mNone\u001b[39m\n",
      "File \u001b[0;32m~/.local/lib/python3.9/site-packages/astropy/utils/data.py:271\u001b[0m, in \u001b[0;36mget_readable_fileobj\u001b[0;34m(name_or_obj, encoding, cache, show_progress, remote_timeout, sources, http_headers)\u001b[0m\n\u001b[1;32m    266\u001b[0m \u001b[38;5;28;01mif\u001b[39;00m is_url:\n\u001b[1;32m    267\u001b[0m     name_or_obj \u001b[38;5;241m=\u001b[39m download_file(\n\u001b[1;32m    268\u001b[0m         name_or_obj, cache\u001b[38;5;241m=\u001b[39mcache, show_progress\u001b[38;5;241m=\u001b[39mshow_progress,\n\u001b[1;32m    269\u001b[0m         timeout\u001b[38;5;241m=\u001b[39mremote_timeout, sources\u001b[38;5;241m=\u001b[39msources,\n\u001b[1;32m    270\u001b[0m         http_headers\u001b[38;5;241m=\u001b[39mhttp_headers)\n\u001b[0;32m--> 271\u001b[0m fileobj \u001b[38;5;241m=\u001b[39m \u001b[43mio\u001b[49m\u001b[38;5;241;43m.\u001b[39;49m\u001b[43mFileIO\u001b[49m\u001b[43m(\u001b[49m\u001b[43mname_or_obj\u001b[49m\u001b[43m,\u001b[49m\u001b[43m \u001b[49m\u001b[38;5;124;43m'\u001b[39;49m\u001b[38;5;124;43mr\u001b[39;49m\u001b[38;5;124;43m'\u001b[39;49m\u001b[43m)\u001b[49m\n\u001b[1;32m    272\u001b[0m \u001b[38;5;28;01mif\u001b[39;00m is_url \u001b[38;5;129;01mand\u001b[39;00m \u001b[38;5;129;01mnot\u001b[39;00m cache:\n\u001b[1;32m    273\u001b[0m     delete_fds\u001b[38;5;241m.\u001b[39mappend(fileobj)\n",
      "\u001b[0;31mFileNotFoundError\u001b[0m: [Errno 2] No such file or directory: '/global/cscratch1/sd/mjwilson/norberg/GAMA4/cobaya/schechter_chain.1.txt'"
     ]
    }
   ],
   "source": [
    "dat = Table.read(root + 'schechter_chain.1.txt', format='ascii')        "
   ]
  },
  {
   "cell_type": "code",
   "execution_count": null,
   "id": "a1f2d207",
   "metadata": {
    "papermill": {
     "duration": null,
     "end_time": null,
     "exception": null,
     "start_time": null,
     "status": "pending"
    },
    "tags": []
   },
   "outputs": [],
   "source": [
    "samples = np.c_[dat['log10phistar'], dat['Mstar'], dat['alpha']]"
   ]
  },
  {
   "cell_type": "code",
   "execution_count": null,
   "id": "ff5a4b6c",
   "metadata": {
    "papermill": {
     "duration": null,
     "end_time": null,
     "exception": null,
     "start_time": null,
     "status": "pending"
    },
    "tags": []
   },
   "outputs": [],
   "source": [
    "samples = MCSamples(samples=samples, names=['log10phistar', 'Mstar', 'alpha'], labels=['log10phistar', 'Mstar', 'alpha'])"
   ]
  },
  {
   "cell_type": "code",
   "execution_count": null,
   "id": "467a5fca",
   "metadata": {
    "papermill": {
     "duration": null,
     "end_time": null,
     "exception": null,
     "start_time": null,
     "status": "pending"
    },
    "tags": []
   },
   "outputs": [],
   "source": [
    "tmr_ref = {'log10phistar': -2.01, 'Mstar': -20.89, 'alpha': -1.25}"
   ]
  },
  {
   "cell_type": "code",
   "execution_count": null,
   "id": "a7ad115c",
   "metadata": {
    "papermill": {
     "duration": null,
     "end_time": null,
     "exception": null,
     "start_time": null,
     "status": "pending"
    },
    "tags": []
   },
   "outputs": [],
   "source": [
    "g = plots.get_subplot_plotter()"
   ]
  },
  {
   "cell_type": "code",
   "execution_count": null,
   "id": "f782db2a",
   "metadata": {
    "papermill": {
     "duration": null,
     "end_time": null,
     "exception": null,
     "start_time": null,
     "status": "pending"
    },
    "tags": []
   },
   "outputs": [],
   "source": [
    "g.triangle_plot([samples], filled=True)        "
   ]
  },
  {
   "cell_type": "markdown",
   "id": "061fc943",
   "metadata": {
    "papermill": {
     "duration": null,
     "end_time": null,
     "exception": null,
     "start_time": null,
     "status": "pending"
    },
    "tags": []
   },
   "source": [
    "# Done."
   ]
  }
 ],
 "metadata": {
  "kernelspec": {
   "display_name": "lumfn",
   "language": "python",
   "name": "lumfn"
  },
  "language_info": {
   "codemirror_mode": {
    "name": "ipython",
    "version": 3
   },
   "file_extension": ".py",
   "mimetype": "text/x-python",
   "name": "python",
   "nbconvert_exporter": "python",
   "pygments_lexer": "ipython3",
   "version": "3.9.9"
  },
  "papermill": {
   "default_parameters": {},
   "duration": 9.49973,
   "end_time": "2022-01-20T09:58:35.817780",
   "environment_variables": {},
   "exception": true,
   "input_path": "docs/nb/lumfn.ipynb",
   "output_path": "test/pm_lumfn.ipynb",
   "parameters": {},
   "start_time": "2022-01-20T09:58:26.318050",
   "version": "2.3.3"
  }
 },
 "nbformat": 4,
 "nbformat_minor": 5
}