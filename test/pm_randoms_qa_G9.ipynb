{
 "cells": [
  {
   "cell_type": "code",
   "execution_count": null,
   "id": "5f5dd399-051f-49b3-bfd8-cec720823102",
   "metadata": {
    "papermill": {
     "duration": null,
     "end_time": null,
     "exception": null,
     "start_time": null,
     "status": "completed"
    },
    "tags": []
   },
   "outputs": [],
   "source": [
    "import os\n",
    "import sys\n",
    "import fitsio\n",
    "import pylab as pl\n",
    "import numpy as np\n",
    "import matplotlib.pyplot as plt\n",
    "import astropy.io.fits as fits\n",
    "import matplotlib as mpl"
   ]
  },
  {
   "cell_type": "code",
   "execution_count": null,
   "id": "9b81a7ed-fd42-4406-86a1-b1bdbfed7a69",
   "metadata": {
    "papermill": {
     "duration": null,
     "end_time": null,
     "exception": null,
     "start_time": null,
     "status": "completed"
    },
    "tags": []
   },
   "outputs": [],
   "source": [
    "os.environ['CODE_DIR']=os.environ['HOME'] + '/desi/BGS/Sam/DESI/'\n",
    "os.environ['GOLD_DIR']=os.environ['CSCRATCH'] + '/norberg/GAMA4/'\n",
    "os.environ['RANDOMS_DIR']=os.environ['GOLD_DIR'] + '/randoms/'"
   ]
  },
  {
   "cell_type": "code",
   "execution_count": null,
   "id": "a9632234-f2f3-449d-97c6-15265450abc6",
   "metadata": {
    "papermill": {
     "duration": null,
     "end_time": null,
     "exception": null,
     "start_time": null,
     "status": "completed"
    },
    "tags": []
   },
   "outputs": [],
   "source": [
    "repo_root = os.environ['CODE_DIR']\n",
    "\n",
    "sys.path.append(repo_root)"
   ]
  },
  {
   "cell_type": "code",
   "execution_count": null,
   "id": "08d1787b-0d25-46af-bb4a-f57d83e20f0a",
   "metadata": {
    "papermill": {
     "duration": null,
     "end_time": null,
     "exception": null,
     "start_time": null,
     "status": "completed"
    },
    "tags": []
   },
   "outputs": [],
   "source": [
    "from   astropy.table import Table\n",
    "from   cosmo         import cosmo, fsky"
   ]
  },
  {
   "cell_type": "code",
   "execution_count": null,
   "id": "bbfe24ff-0b25-4a75-aebf-145e6bad2ddd",
   "metadata": {
    "papermill": {
     "duration": null,
     "end_time": null,
     "exception": null,
     "start_time": null,
     "status": "completed"
    },
    "tags": [
     "parameters"
    ]
   },
   "outputs": [],
   "source": [
    "field  = 'G12'\n",
    "dryrun = True\n",
    "realz  = 0"
   ]
  },
  {
   "cell_type": "code",
   "execution_count": null,
   "id": "f882dc4a",
   "metadata": {
    "papermill": {
     "duration": null,
     "end_time": null,
     "exception": null,
     "start_time": null,
     "status": "completed"
    },
    "tags": [
     "injected-parameters"
    ]
   },
   "outputs": [],
   "source": [
    "# Parameters\n",
    "field = \"G9\"\n"
   ]
  },
  {
   "cell_type": "code",
   "execution_count": null,
   "id": "525656b6-df39-4a2a-8e0b-ff212966e6d0",
   "metadata": {
    "papermill": {
     "duration": null,
     "end_time": null,
     "exception": null,
     "start_time": null,
     "status": "completed"
    },
    "tags": []
   },
   "outputs": [],
   "source": [
    "fpath = os.environ['CSCRATCH'] + '/desi/BGS/Sam/randoms_{}_{}.fits'.format(field, realz)\n",
    "rand  = Table.read(fpath)\n",
    "rand.meta"
   ]
  },
  {
   "cell_type": "code",
   "execution_count": null,
   "id": "f30378f9-18f4-4db5-8541-b43c20f5498a",
   "metadata": {
    "papermill": {
     "duration": null,
     "end_time": null,
     "exception": null,
     "start_time": null,
     "status": "completed"
    },
    "tags": []
   },
   "outputs": [],
   "source": [
    "fpath = os.environ['RANDOMS_DIR'] + '/randoms_bd_{}_{}.fits'.format(field, realz)\n",
    "\n",
    "if dryrun:\n",
    "    fpath = fpath.replace('.fits', '_dryrun.fits')\n",
    "\n",
    "rand = Table.read(fpath)\n",
    "rand.meta"
   ]
  },
  {
   "cell_type": "code",
   "execution_count": null,
   "id": "5971fc8e-0041-4692-b024-5a46c30425af",
   "metadata": {
    "papermill": {
     "duration": null,
     "end_time": null,
     "exception": null,
     "start_time": null,
     "status": "completed"
    },
    "tags": []
   },
   "outputs": [],
   "source": [
    "rand"
   ]
  },
  {
   "cell_type": "code",
   "execution_count": null,
   "id": "9a1cedbe-7b79-4bd7-8ac2-dbecd1e55a5a",
   "metadata": {
    "papermill": {
     "duration": null,
     "end_time": null,
     "exception": null,
     "start_time": null,
     "status": "completed"
    },
    "tags": []
   },
   "outputs": [],
   "source": [
    "fpath = os.environ['RANDOMS_DIR'] + '/randoms_bd_ddp_n8_{}_{}.fits'.format(field, realz)\n",
    "\n",
    "if dryrun:\n",
    "    fpath = fpath.replace('.fits', '_dryrun.fits')\n",
    "\n",
    "rand = Table.read(fpath)\n",
    "rand.meta"
   ]
  },
  {
   "cell_type": "code",
   "execution_count": null,
   "id": "bf7beb63-090b-4f90-aedf-87a5c20fcb04",
   "metadata": {
    "papermill": {
     "duration": null,
     "end_time": null,
     "exception": null,
     "start_time": null,
     "status": "completed"
    },
    "tags": []
   },
   "outputs": [],
   "source": [
    "pl.plot(rand['RANDOM_RA'][::10], rand['RANDOM_DEC'][::10], marker=',', lw=0.0, c='k')\n",
    "pl.plot(rand['RANDOM_RA'][rand['IS_BOUNDARY'].astype(bool)], rand['RANDOM_DEC'][rand['IS_BOUNDARY'].astype(bool)], marker=',', lw=0.0, c='cyan')\n",
    "\n",
    "pl.xlim(122.5, 142.5)\n",
    "pl.ylim(-3., 4.)"
   ]
  },
  {
   "cell_type": "code",
   "execution_count": null,
   "id": "fd0a1613-bc52-445b-be07-43d3f1475247",
   "metadata": {
    "papermill": {
     "duration": null,
     "end_time": null,
     "exception": null,
     "start_time": null,
     "status": "completed"
    },
    "tags": []
   },
   "outputs": [],
   "source": [
    "_ = pl.hist(rand['V'], bins=100, histtype='step', color='k')\n",
    "_ = pl.hist(rand['V'][rand['IS_BOUNDARY'].astype(bool)], bins=100, histtype='step', color='c')"
   ]
  },
  {
   "cell_type": "code",
   "execution_count": null,
   "id": "8ada38ff-7e9e-433f-adc5-b73b08d6043b",
   "metadata": {
    "papermill": {
     "duration": null,
     "end_time": null,
     "exception": null,
     "start_time": null,
     "status": "completed"
    },
    "tags": []
   },
   "outputs": [],
   "source": [
    "_ = pl.hist(rand['Z'], bins=100, histtype='step', color='k')\n",
    "pl.axvline(300. / 2.9979e5, lw=0.5, c='k')\n",
    "pl.yscale('log')\n",
    "pl.xlabel('Z')\n",
    "\n",
    "pl.xlim(0.0, 0.6)"
   ]
  },
  {
   "cell_type": "code",
   "execution_count": null,
   "id": "20d61af9-646a-4131-87c3-529168dcee0b",
   "metadata": {
    "papermill": {
     "duration": null,
     "end_time": null,
     "exception": null,
     "start_time": null,
     "status": "completed"
    },
    "tags": []
   },
   "outputs": [],
   "source": [
    "pl.plot(rand['CARTESIAN_X'][::10], rand['CARTESIAN_Y'][::10], marker=',', lw=0.0, c='k')"
   ]
  },
  {
   "cell_type": "code",
   "execution_count": null,
   "id": "79b38e05-d8fe-4e7f-8c3a-a81dab5f9838",
   "metadata": {
    "papermill": {
     "duration": null,
     "end_time": null,
     "exception": null,
     "start_time": null,
     "status": "completed"
    },
    "tags": []
   },
   "outputs": [],
   "source": [
    "pl.plot(rand['CARTESIAN_X'][rand['IS_BOUNDARY'].astype(bool)], rand['CARTESIAN_Y'][rand['IS_BOUNDARY'].astype(bool)], marker=',', lw=0.0, c='k')\n",
    "pl.xlabel('x')\n",
    "pl.ylabel('y')"
   ]
  },
  {
   "cell_type": "code",
   "execution_count": null,
   "id": "47a1a1e1-3750-4673-aa6d-ccd6a29c0aa3",
   "metadata": {
    "papermill": {
     "duration": null,
     "end_time": null,
     "exception": null,
     "start_time": null,
     "status": "completed"
    },
    "tags": []
   },
   "outputs": [],
   "source": [
    "fig = plt.figure(figsize=(10,10))\n",
    "ax  = fig.add_subplot(projection='3d')\n",
    "\n",
    "ax.scatter(rand['CARTESIAN_X'][::10],\\\n",
    "           rand['CARTESIAN_Y'][::10],\\\n",
    "           rand['CARTESIAN_Z'][::10],\\\n",
    "           marker='.',\\\n",
    "           lw=0.0)\n",
    "\n",
    "ax.set_xlim(0.0, 1000.)"
   ]
  },
  {
   "cell_type": "code",
   "execution_count": null,
   "id": "35c59754-d9a2-4e9e-b59b-0f84960dc770",
   "metadata": {
    "papermill": {
     "duration": null,
     "end_time": null,
     "exception": null,
     "start_time": null,
     "status": "completed"
    },
    "tags": []
   },
   "outputs": [],
   "source": [
    "fig = plt.figure(figsize=(10,10))\n",
    "ax  = fig.add_subplot(projection='3d')\n",
    "\n",
    "ax.scatter(rand['CARTESIAN_X'][rand['IS_BOUNDARY'].astype(bool)][::10],\\\n",
    "           rand['CARTESIAN_Y'][rand['IS_BOUNDARY'].astype(bool)][::10],\\\n",
    "           rand['CARTESIAN_Z'][rand['IS_BOUNDARY'].astype(bool)][::10],\\\n",
    "           marker='.',\\\n",
    "           lw=0.0)\n",
    "\n",
    "ax.set_xlim(0.0, 1000.)"
   ]
  },
  {
   "cell_type": "code",
   "execution_count": null,
   "id": "00cd53b5-2b9f-471d-90e0-04ef784f573e",
   "metadata": {
    "papermill": {
     "duration": null,
     "end_time": null,
     "exception": null,
     "start_time": null,
     "status": "completed"
    },
    "tags": []
   },
   "outputs": [],
   "source": [
    "np.mean(rand['V'] < np.percentile(rand['V'], 1.))"
   ]
  },
  {
   "cell_type": "code",
   "execution_count": null,
   "id": "1af9e8fd-efd5-4474-a90e-a556c55e4084",
   "metadata": {
    "papermill": {
     "duration": null,
     "end_time": null,
     "exception": null,
     "start_time": null,
     "status": "completed"
    },
    "tags": []
   },
   "outputs": [],
   "source": [
    "np.mean(rand['IS_BOUNDARY'].data)"
   ]
  },
  {
   "cell_type": "code",
   "execution_count": null,
   "id": "d0f40055-da93-48cf-9623-13459f7e31d9",
   "metadata": {
    "papermill": {
     "duration": null,
     "end_time": null,
     "exception": null,
     "start_time": null,
     "status": "completed"
    },
    "tags": []
   },
   "outputs": [],
   "source": [
    "rand['N8'].data.min(), rand['N8'].data.max()"
   ]
  },
  {
   "cell_type": "code",
   "execution_count": null,
   "id": "70eb52ee-9405-4dd8-ace0-73b319e10c52",
   "metadata": {
    "papermill": {
     "duration": null,
     "end_time": null,
     "exception": null,
     "start_time": null,
     "status": "completed"
    },
    "tags": []
   },
   "outputs": [],
   "source": [
    "_ = pl.hist(rand['N8'], bins=np.arange(0, 1500, 1), histtype='step')\n",
    "pl.axvline(rand.meta['NRAND8'], c='k', lw=0.5)\n",
    "pl.xlabel('N8')\n",
    "pl.xlim(50., 1500.)"
   ]
  },
  {
   "cell_type": "code",
   "execution_count": null,
   "id": "2bf082c8-3741-4edd-8a9c-f02ac3921edf",
   "metadata": {
    "papermill": {
     "duration": null,
     "end_time": null,
     "exception": null,
     "start_time": null,
     "status": "completed"
    },
    "tags": []
   },
   "outputs": [],
   "source": [
    "# 100. * np.sqrt(rand.meta['NRAND8']) / rand.meta['NRAND8']"
   ]
  },
  {
   "cell_type": "code",
   "execution_count": null,
   "id": "96fd2a78-bf89-4582-a8b8-1d6e326b519c",
   "metadata": {
    "papermill": {
     "duration": null,
     "end_time": null,
     "exception": null,
     "start_time": null,
     "status": "completed"
    },
    "tags": []
   },
   "outputs": [],
   "source": [
    "isin = rand['IS_BOUNDARY'].astype(bool)\n",
    "\n",
    "pl.scatter(rand['CARTESIAN_X'][isin], rand['CARTESIAN_Y'][isin], lw=0.0, c=rand['V'][isin], s=2)\n",
    "pl.xlabel('x')\n",
    "pl.ylabel('y')\n",
    "pl.colorbar(label='V')"
   ]
  },
  {
   "cell_type": "code",
   "execution_count": null,
   "id": "4793765d-3bdd-4876-a952-a9e444033fc6",
   "metadata": {
    "papermill": {
     "duration": null,
     "end_time": null,
     "exception": null,
     "start_time": null,
     "status": "completed"
    },
    "tags": []
   },
   "outputs": [],
   "source": [
    "isin = ~rand['IS_BOUNDARY'].astype(bool)\n",
    "\n",
    "pl.scatter(rand['CARTESIAN_X'][isin], rand['CARTESIAN_Y'][isin], lw=0.0, c=rand['BOUND_DIST'][isin], s=2, vmin=0., vmax=70.)\n",
    "pl.xlabel('x')\n",
    "pl.ylabel('y')\n",
    "pl.colorbar(label='BOUNDARY DISTANCE')"
   ]
  },
  {
   "cell_type": "code",
   "execution_count": null,
   "id": "2c6cf838-44ea-405d-baf3-c045ce224dce",
   "metadata": {
    "papermill": {
     "duration": null,
     "end_time": null,
     "exception": null,
     "start_time": null,
     "status": "completed"
    },
    "tags": []
   },
   "outputs": [],
   "source": [
    "isin = ~rand['IS_BOUNDARY'].astype(bool)\n",
    "\n",
    "pl.scatter(rand['CARTESIAN_Y'][isin], rand['CARTESIAN_Z'][isin], lw=0.0, c=rand['BOUND_DIST'][isin], s=2, vmin=0., vmax=70.)\n",
    "pl.xlabel('y')\n",
    "pl.ylabel('z')\n",
    "pl.colorbar(label='BOUNDARY DISTANCE')"
   ]
  },
  {
   "cell_type": "code",
   "execution_count": null,
   "id": "5fb69915-ebcd-4d8d-8d58-3f0f0525e96f",
   "metadata": {
    "papermill": {
     "duration": null,
     "end_time": null,
     "exception": null,
     "start_time": null,
     "status": "completed"
    },
    "tags": []
   },
   "outputs": [],
   "source": [
    "isin = rand['IS_BOUNDARY'].astype(bool)\n",
    "\n",
    "pl.scatter(rand['CARTESIAN_X'][isin], rand['CARTESIAN_Y'][isin], lw=0.0, c=rand['N8'][isin], vmin=0, vmax=1500, s=2)\n",
    "pl.xlabel('x')\n",
    "pl.ylabel('y')\n",
    "pl.colorbar(label='N8')"
   ]
  },
  {
   "cell_type": "code",
   "execution_count": null,
   "id": "e751595a-e868-4498-a4c1-c431e36b3b40",
   "metadata": {
    "papermill": {
     "duration": null,
     "end_time": null,
     "exception": null,
     "start_time": null,
     "status": "completed"
    },
    "tags": []
   },
   "outputs": [],
   "source": [
    "isin = ~rand['IS_BOUNDARY'].astype(bool)\n",
    "\n",
    "pl.scatter(rand['BOUND_DIST'][isin], rand['N8'][isin] / rand.meta['NRAND8'], marker='.', lw=0.0, s=1, alpha=0.1, c='k')\n",
    "\n",
    "pl.xlabel('BOUNDARY DISTANCE [Mpc/h]')\n",
    "pl.ylabel(r'Random $N_8 / <N_8>$')\n",
    "\n",
    "pl.axhline(1.00, c='k', lw=0.5)\n",
    "pl.axvline(8.00, c='k', lw=0.5)\n",
    "\n",
    "pl.ylim(0.2, 1.2)"
   ]
  },
  {
   "cell_type": "code",
   "execution_count": null,
   "id": "dca92e11-d173-42ef-905c-e3446778f48e",
   "metadata": {
    "papermill": {
     "duration": null,
     "end_time": null,
     "exception": null,
     "start_time": null,
     "status": "completed"
    },
    "tags": []
   },
   "outputs": [],
   "source": [
    "_ = pl.hist(rand['BOUND_DIST'], bins=50, histtype='step')\n",
    "pl.xlabel('BOUND_DIST [Mpc/h]')"
   ]
  },
  {
   "cell_type": "code",
   "execution_count": null,
   "id": "5dc56f77-e4d2-47ab-b9db-05ccc2c0683a",
   "metadata": {
    "papermill": {
     "duration": null,
     "end_time": null,
     "exception": null,
     "start_time": null,
     "status": "completed"
    },
    "tags": []
   },
   "outputs": [],
   "source": [
    "gold = Table.read(os.environ['GOLD_DIR'] + '/gama_gold_ddp_n8.fits')\n",
    "gold.meta"
   ]
  },
  {
   "cell_type": "code",
   "execution_count": null,
   "id": "b6ebfa24-5cc4-415e-a32d-eaff4ec891ab",
   "metadata": {
    "papermill": {
     "duration": null,
     "end_time": null,
     "exception": null,
     "start_time": null,
     "status": "completed"
    },
    "tags": []
   },
   "outputs": [],
   "source": [
    "randoms_slice_nolimits = rand[np.abs(rand['CARTESIAN_Z']) < 5.]\n",
    "\n",
    "# TODO: Get from randoms header when available. \n",
    "ddp_zmin = gold.meta['DDP1_ZMIN']\n",
    "ddp_zmax = gold.meta['DDP1_ZMAX']\n",
    "        \n",
    "isin = (randoms_slice_nolimits['Z'] > ddp_zmin) & (randoms_slice_nolimits['Z'] < ddp_zmax)\n",
    "    \n",
    "randoms_slice = randoms_slice_nolimits[isin]\n",
    "    \n",
    "plt.scatter(randoms_slice['CARTESIAN_X'],\\\n",
    "            randoms_slice['CARTESIAN_Y'],\\\n",
    "            c=randoms_slice['FILLFACTOR'],\\\n",
    "            marker='.',\\\n",
    "            lw=0.0,\\\n",
    "            s=1,\\\n",
    "            vmin=0.,\\\n",
    "            vmax=1.,\\\n",
    "            cmap='hot')\n",
    "\n",
    "pl.xlabel('x [Mpc/h]')\n",
    "pl.ylabel('y [Mpc/h]')\n",
    "\n",
    "pl.colorbar(label='FILLFACTOR')\n",
    "    \n",
    "# pl.xlim(0, 1.1 * cosmo.comoving_distance(gold.meta['DDP1_ZMAX']).value)\n",
    "# pl.ylim(-80., 80.)\n",
    "    \n",
    "plt.title('{}'.format(field))\n",
    "plt.show()"
   ]
  },
  {
   "cell_type": "code",
   "execution_count": null,
   "id": "761d060d-fe09-4397-880d-27ffe106cee9",
   "metadata": {
    "papermill": {
     "duration": null,
     "end_time": null,
     "exception": null,
     "start_time": null,
     "status": "completed"
    },
    "tags": []
   },
   "outputs": [],
   "source": [
    "randoms_slice_nolimits = rand[np.abs(rand['CARTESIAN_Z']) < 5.]\n",
    "\n",
    "for idx in np.arange(1, 4, 1):\n",
    "    # TODO: Get from randoms header when available. \n",
    "    ddp_zmin = gold.meta['DDP{}_ZMIN'.format(idx)]\n",
    "    ddp_zmax = gold.meta['DDP{}_ZMAX'.format(idx)]\n",
    "        \n",
    "    isin = (randoms_slice_nolimits['Z'] > ddp_zmin) & (randoms_slice_nolimits['Z'] < ddp_zmax)\n",
    "    \n",
    "    randoms_slice = randoms_slice_nolimits[isin]\n",
    "    \n",
    "    plt.scatter(randoms_slice['CARTESIAN_X'],\\\n",
    "                randoms_slice['CARTESIAN_Y'],\\\n",
    "                c=randoms_slice['DDP{}_DELTA8'.format(idx)],\\\n",
    "                marker='.',\\\n",
    "                lw=0.0,\\\n",
    "                s=1,\\\n",
    "                vmin=-1.,\\\n",
    "                vmax=10.,\\\n",
    "                cmap='hot')\n",
    "\n",
    "    pl.xlabel('x [Mpc/h]')\n",
    "    pl.ylabel('y [Mpc/h]')\n",
    "\n",
    "    pl.colorbar(label='DDP{}_DELTA8'.format(idx))\n",
    "    \n",
    "    pl.xlim(0, 1.1 * cosmo.comoving_distance(gold.meta['DDP1_ZMAX']).value)\n",
    "    pl.ylim(-80., 80.)\n",
    "    \n",
    "    plt.title('{}:  DDP{}'.format(field, idx))\n",
    "    plt.show()"
   ]
  },
  {
   "cell_type": "code",
   "execution_count": null,
   "id": "9b70284d-739c-4778-aadb-58a6bfb8b707",
   "metadata": {
    "papermill": {
     "duration": null,
     "end_time": null,
     "exception": null,
     "start_time": null,
     "status": "completed"
    },
    "tags": []
   },
   "outputs": [],
   "source": [
    "cmap = plt.cm.tab20c  # define the colormap\n",
    "\n",
    "# extract all colors from the .jet map\n",
    "\n",
    "cmaplist = [cmap(i) for i in range(cmap.N)]\n",
    "\n",
    "# create the new map\n",
    "cmap = mpl.colors.LinearSegmentedColormap.from_list('Custom cmap', cmaplist, cmap.N)\n",
    "\n",
    "# define the bins and normalize\n",
    "bounds = np.linspace(0, 4, 5)\n",
    "norm   = mpl.colors.BoundaryNorm(bounds, cmap.N)"
   ]
  },
  {
   "cell_type": "code",
   "execution_count": null,
   "id": "857db19f-9277-4347-af78-44f106218dff",
   "metadata": {
    "papermill": {
     "duration": null,
     "end_time": null,
     "exception": null,
     "start_time": null,
     "status": "completed"
    },
    "tags": []
   },
   "outputs": [],
   "source": [
    "randoms_slice_nolimits = rand[np.abs(rand['CARTESIAN_Z']) < 5.]\n",
    "\n",
    "for idx in np.arange(1, 2, 1):\n",
    "    # TODO: Get from randoms header when available. \n",
    "    ddp_zmin = gold.meta['DDP{}_ZMIN'.format(idx)]\n",
    "    ddp_zmax = gold.meta['DDP{}_ZMAX'.format(idx)]\n",
    "        \n",
    "    isin = (randoms_slice_nolimits['Z'] > ddp_zmin) & (randoms_slice_nolimits['Z'] < ddp_zmax)\n",
    "    \n",
    "    randoms_slice = randoms_slice_nolimits[isin]\n",
    "    \n",
    "    plt.scatter(randoms_slice['CARTESIAN_X'],\\\n",
    "                randoms_slice['CARTESIAN_Y'],\\\n",
    "                c=randoms_slice['DDP{}_DELTA8_TIER'.format(idx)],\\\n",
    "                marker='.',\\\n",
    "                lw=0.0,\\\n",
    "                s=1,\\\n",
    "                vmin=0.,\\\n",
    "                vmax=4.,\\\n",
    "                cmap=cmap,\\\n",
    "                norm=norm)\n",
    "\n",
    "    pl.xlabel('x [Mpc/h]')\n",
    "    pl.ylabel('y [Mpc/h]')\n",
    "\n",
    "    pl.colorbar(label='DDP{}_DELTA8_TIER'.format(idx))\n",
    "    \n",
    "    pl.xlim(0, 1.1 * cosmo.comoving_distance(gold.meta['DDP1_ZMAX']).value)\n",
    "    pl.ylim(-80., 80.)\n",
    "    \n",
    "    plt.title('{}:  DDP{}'.format(field, idx))\n",
    "    plt.show()"
   ]
  },
  {
   "cell_type": "code",
   "execution_count": null,
   "id": "aeedde93-1fda-4981-a93d-c82494f4ca0a",
   "metadata": {
    "papermill": {
     "duration": null,
     "end_time": null,
     "exception": null,
     "start_time": null,
     "status": "completed"
    },
    "tags": []
   },
   "outputs": [],
   "source": [
    "# Larger minimum redshift. \n",
    "ddp1_zmin = gold.meta['DDP1_ZMIN']\n",
    "\n",
    "# Smaller maximum redshift. \n",
    "ddp3_zmax = gold.meta['DDP2_ZMAX']\n",
    "            \n",
    "isin = (rand['Z'] > ddp1_zmin) & (rand['Z'] < ddp3_zmax)\n",
    "\n",
    "pl.plot(rand['DDP1_DELTA8'][isin], rand['DDP2_DELTA8'][isin], marker=',', lw=0.0, c='k')\n",
    "\n",
    "pl.xlabel('DDP1_DELTA8')\n",
    "pl.ylabel('DDP2_DELTA8')"
   ]
  },
  {
   "cell_type": "markdown",
   "id": "af670857-9228-40f1-b871-e9b4cacaf657",
   "metadata": {
    "papermill": {
     "duration": null,
     "end_time": null,
     "exception": null,
     "start_time": null,
     "status": "completed"
    },
    "tags": []
   },
   "source": [
    "# Done."
   ]
  }
 ],
 "metadata": {
  "kernelspec": {
   "display_name": "DESI master",
   "language": "python",
   "name": "desi-master"
  },
  "language_info": {
   "codemirror_mode": {
    "name": "ipython",
    "version": 3
   },
   "file_extension": ".py",
   "mimetype": "text/x-python",
   "name": "python",
   "nbconvert_exporter": "python",
   "pygments_lexer": "ipython3",
   "version": "3.8.3"
  },
  "papermill": {
   "default_parameters": {},
   "duration": 0.073777,
   "end_time": "2022-01-18T18:59:34.333837",
   "environment_variables": {},
   "exception": null,
   "input_path": "docs/nb/randoms_qa.ipynb",
   "output_path": "test/pm_randoms_qa_G9.ipynb",
   "parameters": {
    "field": "G9"
   },
   "start_time": "2022-01-18T18:59:34.260060",
   "version": "2.3.3"
  }
 },
 "nbformat": 4,
 "nbformat_minor": 5
}