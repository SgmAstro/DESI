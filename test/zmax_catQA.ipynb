{
 "cells": [
  {
   "cell_type": "markdown",
   "id": "9ffc3c72",
   "metadata": {
    "tags": [
     "papermill-error-cell-tag"
    ]
   },
   "source": [
    "<span style=\"color:red; font-family:Helvetica Neue, Helvetica, Arial, sans-serif; font-size:2em;\">An Exception was encountered at '<a href=\"#papermill-error-cell\">In [4]</a>'.</span>"
   ]
  },
  {
   "cell_type": "code",
   "execution_count": 1,
   "id": "68059271",
   "metadata": {
    "execution": {
     "iopub.execute_input": "2022-01-19T18:34:48.592259Z",
     "iopub.status.busy": "2022-01-19T18:34:48.591326Z",
     "iopub.status.idle": "2022-01-19T18:34:51.018247Z",
     "shell.execute_reply": "2022-01-19T18:34:51.016802Z"
    },
    "papermill": {
     "duration": 2.484708,
     "end_time": "2022-01-19T18:34:51.018589",
     "exception": false,
     "start_time": "2022-01-19T18:34:48.533881",
     "status": "completed"
    },
    "tags": []
   },
   "outputs": [],
   "source": [
    "import os\n",
    "import sys\n",
    "import pylab as pl\n",
    "import numpy as np\n",
    "import matplotlib.pyplot as plt\n",
    "from   astropy.table import Table"
   ]
  },
  {
   "cell_type": "code",
   "execution_count": 2,
   "id": "493d9e36",
   "metadata": {
    "execution": {
     "iopub.execute_input": "2022-01-19T18:34:51.085398Z",
     "iopub.status.busy": "2022-01-19T18:34:51.084541Z",
     "iopub.status.idle": "2022-01-19T18:34:51.089872Z",
     "shell.execute_reply": "2022-01-19T18:34:51.090515Z"
    },
    "papermill": {
     "duration": 0.039903,
     "end_time": "2022-01-19T18:34:51.090704",
     "exception": false,
     "start_time": "2022-01-19T18:34:51.050801",
     "status": "completed"
    },
    "tags": []
   },
   "outputs": [],
   "source": [
    "os.environ['CODE_ROOT'] = os.environ['HOME'] + '/DESI/'\n",
    "\n",
    "sys.path.append(os.environ['CODE_ROOT'])"
   ]
  },
  {
   "cell_type": "code",
   "execution_count": 3,
   "id": "616ab716",
   "metadata": {
    "execution": {
     "iopub.execute_input": "2022-01-19T18:34:51.147587Z",
     "iopub.status.busy": "2022-01-19T18:34:51.146765Z",
     "iopub.status.idle": "2022-01-19T18:34:51.875506Z",
     "shell.execute_reply": "2022-01-19T18:34:51.874444Z"
    },
    "papermill": {
     "duration": 0.75983,
     "end_time": "2022-01-19T18:34:51.875742",
     "exception": false,
     "start_time": "2022-01-19T18:34:51.115912",
     "status": "completed"
    },
    "tags": []
   },
   "outputs": [],
   "source": [
    "from   vmaxer import vmaxer\n",
    "from   smith_kcorr import test_plots, test_nonnative_plots\n",
    "from   cosmo import distmod, volcom\n",
    "from   lumfn import lumfn\n",
    "from   schechter import named_schechter"
   ]
  },
  {
   "cell_type": "markdown",
   "id": "c60df279",
   "metadata": {
    "tags": [
     "papermill-error-cell-tag"
    ]
   },
   "source": [
    "<span id=\"papermill-error-cell\" style=\"color:red; font-family:Helvetica Neue, Helvetica, Arial, sans-serif; font-size:2em;\">Execution using papermill encountered an exception here and stopped:</span>"
   ]
  },
  {
   "cell_type": "code",
   "execution_count": 4,
   "id": "7a5b000e",
   "metadata": {
    "execution": {
     "iopub.execute_input": "2022-01-19T18:34:51.938188Z",
     "iopub.status.busy": "2022-01-19T18:34:51.937314Z",
     "iopub.status.idle": "2022-01-19T18:34:53.295697Z",
     "shell.execute_reply": "2022-01-19T18:34:53.294949Z"
    },
    "papermill": {
     "duration": 1.390726,
     "end_time": "2022-01-19T18:34:53.296141",
     "exception": true,
     "start_time": "2022-01-19T18:34:51.905415",
     "status": "failed"
    },
    "tags": []
   },
   "outputs": [
    {
     "ename": "FileNotFoundError",
     "evalue": "[Errno 2] No such file or directory: '/cosma/home/durham/dc-wils7/data/GAMA4/gama_gold_zmax.fits'",
     "output_type": "error",
     "traceback": [
      "\u001b[0;31m---------------------------------------------------------------------------\u001b[0m",
      "\u001b[0;31mFileNotFoundError\u001b[0m                         Traceback (most recent call last)",
      "Input \u001b[0;32mIn [4]\u001b[0m, in \u001b[0;36m<module>\u001b[0;34m\u001b[0m\n\u001b[0;32m----> 1\u001b[0m gama_zmax \u001b[38;5;241m=\u001b[39m \u001b[43mTable\u001b[49m\u001b[38;5;241;43m.\u001b[39;49m\u001b[43mread\u001b[49m\u001b[43m(\u001b[49m\u001b[43mos\u001b[49m\u001b[38;5;241;43m.\u001b[39;49m\u001b[43menviron\u001b[49m\u001b[43m[\u001b[49m\u001b[38;5;124;43m'\u001b[39;49m\u001b[38;5;124;43mHOME\u001b[39;49m\u001b[38;5;124;43m'\u001b[39;49m\u001b[43m]\u001b[49m\u001b[43m \u001b[49m\u001b[38;5;241;43m+\u001b[39;49m\u001b[43m \u001b[49m\u001b[38;5;124;43m'\u001b[39;49m\u001b[38;5;124;43m/data/GAMA4/gama_gold_zmax.fits\u001b[39;49m\u001b[38;5;124;43m'\u001b[39;49m\u001b[43m)\u001b[49m\n\u001b[1;32m      2\u001b[0m gama_zmax\n",
      "File \u001b[0;32m~/.local/lib/python3.9/site-packages/astropy/table/connect.py:62\u001b[0m, in \u001b[0;36mTableRead.__call__\u001b[0;34m(self, *args, **kwargs)\u001b[0m\n\u001b[1;32m     59\u001b[0m units \u001b[38;5;241m=\u001b[39m kwargs\u001b[38;5;241m.\u001b[39mpop(\u001b[38;5;124m'\u001b[39m\u001b[38;5;124munits\u001b[39m\u001b[38;5;124m'\u001b[39m, \u001b[38;5;28;01mNone\u001b[39;00m)\n\u001b[1;32m     60\u001b[0m descriptions \u001b[38;5;241m=\u001b[39m kwargs\u001b[38;5;241m.\u001b[39mpop(\u001b[38;5;124m'\u001b[39m\u001b[38;5;124mdescriptions\u001b[39m\u001b[38;5;124m'\u001b[39m, \u001b[38;5;28;01mNone\u001b[39;00m)\n\u001b[0;32m---> 62\u001b[0m out \u001b[38;5;241m=\u001b[39m \u001b[38;5;28;43mself\u001b[39;49m\u001b[38;5;241;43m.\u001b[39;49m\u001b[43mregistry\u001b[49m\u001b[38;5;241;43m.\u001b[39;49m\u001b[43mread\u001b[49m\u001b[43m(\u001b[49m\u001b[38;5;28;43mcls\u001b[39;49m\u001b[43m,\u001b[49m\u001b[43m \u001b[49m\u001b[38;5;241;43m*\u001b[39;49m\u001b[43margs\u001b[49m\u001b[43m,\u001b[49m\u001b[43m \u001b[49m\u001b[38;5;241;43m*\u001b[39;49m\u001b[38;5;241;43m*\u001b[39;49m\u001b[43mkwargs\u001b[49m\u001b[43m)\u001b[49m\n\u001b[1;32m     64\u001b[0m \u001b[38;5;66;03m# For some readers (e.g., ascii.ecsv), the returned `out` class is not\u001b[39;00m\n\u001b[1;32m     65\u001b[0m \u001b[38;5;66;03m# guaranteed to be the same as the desired output `cls`.  If so,\u001b[39;00m\n\u001b[1;32m     66\u001b[0m \u001b[38;5;66;03m# try coercing to desired class without copying (io.registry.read\u001b[39;00m\n\u001b[1;32m     67\u001b[0m \u001b[38;5;66;03m# would normally do a copy).  The normal case here is swapping\u001b[39;00m\n\u001b[1;32m     68\u001b[0m \u001b[38;5;66;03m# Table <=> QTable.\u001b[39;00m\n\u001b[1;32m     69\u001b[0m \u001b[38;5;28;01mif\u001b[39;00m \u001b[38;5;28mcls\u001b[39m \u001b[38;5;129;01mis\u001b[39;00m \u001b[38;5;129;01mnot\u001b[39;00m out\u001b[38;5;241m.\u001b[39m\u001b[38;5;18m__class__\u001b[39m:\n",
      "File \u001b[0;32m~/.local/lib/python3.9/site-packages/astropy/io/registry/core.py:184\u001b[0m, in \u001b[0;36mUnifiedInputRegistry.read\u001b[0;34m(self, cls, format, cache, *args, **kwargs)\u001b[0m\n\u001b[1;32m    182\u001b[0m \u001b[38;5;28;01mtry\u001b[39;00m:\n\u001b[1;32m    183\u001b[0m     ctx \u001b[38;5;241m=\u001b[39m get_readable_fileobj(args[\u001b[38;5;241m0\u001b[39m], encoding\u001b[38;5;241m=\u001b[39m\u001b[38;5;124m'\u001b[39m\u001b[38;5;124mbinary\u001b[39m\u001b[38;5;124m'\u001b[39m, cache\u001b[38;5;241m=\u001b[39mcache)\n\u001b[0;32m--> 184\u001b[0m     fileobj \u001b[38;5;241m=\u001b[39m \u001b[43mctx\u001b[49m\u001b[38;5;241;43m.\u001b[39;49m\u001b[38;5;21;43m__enter__\u001b[39;49m\u001b[43m(\u001b[49m\u001b[43m)\u001b[49m\n\u001b[1;32m    185\u001b[0m \u001b[38;5;28;01mexcept\u001b[39;00m \u001b[38;5;167;01mOSError\u001b[39;00m:\n\u001b[1;32m    186\u001b[0m     \u001b[38;5;28;01mraise\u001b[39;00m\n",
      "File \u001b[0;32m~/.conda/envs/lumfn/lib/python3.9/contextlib.py:119\u001b[0m, in \u001b[0;36m_GeneratorContextManager.__enter__\u001b[0;34m(self)\u001b[0m\n\u001b[1;32m    117\u001b[0m \u001b[38;5;28;01mdel\u001b[39;00m \u001b[38;5;28mself\u001b[39m\u001b[38;5;241m.\u001b[39margs, \u001b[38;5;28mself\u001b[39m\u001b[38;5;241m.\u001b[39mkwds, \u001b[38;5;28mself\u001b[39m\u001b[38;5;241m.\u001b[39mfunc\n\u001b[1;32m    118\u001b[0m \u001b[38;5;28;01mtry\u001b[39;00m:\n\u001b[0;32m--> 119\u001b[0m     \u001b[38;5;28;01mreturn\u001b[39;00m \u001b[38;5;28;43mnext\u001b[39;49m\u001b[43m(\u001b[49m\u001b[38;5;28;43mself\u001b[39;49m\u001b[38;5;241;43m.\u001b[39;49m\u001b[43mgen\u001b[49m\u001b[43m)\u001b[49m\n\u001b[1;32m    120\u001b[0m \u001b[38;5;28;01mexcept\u001b[39;00m \u001b[38;5;167;01mStopIteration\u001b[39;00m:\n\u001b[1;32m    121\u001b[0m     \u001b[38;5;28;01mraise\u001b[39;00m \u001b[38;5;167;01mRuntimeError\u001b[39;00m(\u001b[38;5;124m\"\u001b[39m\u001b[38;5;124mgenerator didn\u001b[39m\u001b[38;5;124m'\u001b[39m\u001b[38;5;124mt yield\u001b[39m\u001b[38;5;124m\"\u001b[39m) \u001b[38;5;28;01mfrom\u001b[39;00m \u001b[38;5;28mNone\u001b[39m\n",
      "File \u001b[0;32m~/.local/lib/python3.9/site-packages/astropy/utils/data.py:271\u001b[0m, in \u001b[0;36mget_readable_fileobj\u001b[0;34m(name_or_obj, encoding, cache, show_progress, remote_timeout, sources, http_headers)\u001b[0m\n\u001b[1;32m    266\u001b[0m \u001b[38;5;28;01mif\u001b[39;00m is_url:\n\u001b[1;32m    267\u001b[0m     name_or_obj \u001b[38;5;241m=\u001b[39m download_file(\n\u001b[1;32m    268\u001b[0m         name_or_obj, cache\u001b[38;5;241m=\u001b[39mcache, show_progress\u001b[38;5;241m=\u001b[39mshow_progress,\n\u001b[1;32m    269\u001b[0m         timeout\u001b[38;5;241m=\u001b[39mremote_timeout, sources\u001b[38;5;241m=\u001b[39msources,\n\u001b[1;32m    270\u001b[0m         http_headers\u001b[38;5;241m=\u001b[39mhttp_headers)\n\u001b[0;32m--> 271\u001b[0m fileobj \u001b[38;5;241m=\u001b[39m \u001b[43mio\u001b[49m\u001b[38;5;241;43m.\u001b[39;49m\u001b[43mFileIO\u001b[49m\u001b[43m(\u001b[49m\u001b[43mname_or_obj\u001b[49m\u001b[43m,\u001b[49m\u001b[43m \u001b[49m\u001b[38;5;124;43m'\u001b[39;49m\u001b[38;5;124;43mr\u001b[39;49m\u001b[38;5;124;43m'\u001b[39;49m\u001b[43m)\u001b[49m\n\u001b[1;32m    272\u001b[0m \u001b[38;5;28;01mif\u001b[39;00m is_url \u001b[38;5;129;01mand\u001b[39;00m \u001b[38;5;129;01mnot\u001b[39;00m cache:\n\u001b[1;32m    273\u001b[0m     delete_fds\u001b[38;5;241m.\u001b[39mappend(fileobj)\n",
      "\u001b[0;31mFileNotFoundError\u001b[0m: [Errno 2] No such file or directory: '/cosma/home/durham/dc-wils7/data/GAMA4/gama_gold_zmax.fits'"
     ]
    }
   ],
   "source": [
    "gama_zmax = Table.read(os.environ['HOME'] + '/data/GAMA4/gama_gold_zmax.fits')\n",
    "gama_zmax"
   ]
  },
  {
   "cell_type": "code",
   "execution_count": null,
   "id": "1715db68",
   "metadata": {
    "papermill": {
     "duration": null,
     "end_time": null,
     "exception": null,
     "start_time": null,
     "status": "pending"
    },
    "tags": []
   },
   "outputs": [],
   "source": [
    "gama_vmax = Table.read(os.environ['HOME'] + '/data/GAMA4/gama_gold_vmax.fits')\n",
    "gama_vmax"
   ]
  },
  {
   "cell_type": "code",
   "execution_count": null,
   "id": "385e165a",
   "metadata": {
    "papermill": {
     "duration": null,
     "end_time": null,
     "exception": null,
     "start_time": null,
     "status": "pending"
    },
    "tags": []
   },
   "outputs": [],
   "source": [
    "_ = pl.hist(gama_vmax['ZMAX'], bins=np.arange(0.0, 0.3, 0.01), histtype='step')\n",
    "pl.xlabel('ZMAX')"
   ]
  },
  {
   "cell_type": "code",
   "execution_count": null,
   "id": "4e38db40",
   "metadata": {
    "papermill": {
     "duration": null,
     "end_time": null,
     "exception": null,
     "start_time": null,
     "status": "pending"
    },
    "tags": []
   },
   "outputs": [],
   "source": [
    "np.unique(gama_vmax['ZMIN'].data)"
   ]
  },
  {
   "cell_type": "code",
   "execution_count": null,
   "id": "b31d7b47",
   "metadata": {
    "papermill": {
     "duration": null,
     "end_time": null,
     "exception": null,
     "start_time": null,
     "status": "pending"
    },
    "tags": []
   },
   "outputs": [],
   "source": [
    "fig, ax = plt.subplots(1,1,figsize=(10,10))\n",
    "\n",
    "ax.plot(gama_zmax['ZGAMA'], gama_zmax['ZMAX'], marker=',', lw=0.0)\n",
    "ax.plot(gama_vmax['ZGAMA'], gama_vmax['ZMAX'], marker=',', lw=0.0)\n",
    "'''\n",
    "ax.axvline(zmin, c='k', lw=0.5) \n",
    "ax.axvline(zmax, c='k', lw=0.5) \n",
    "\n",
    "ax.axhline(zmin, c='k', lw=0.5) \n",
    "ax.axhline(zmax, c='k', lw=0.5) \n",
    "'''\n",
    "ax.set_xlim(0.0, 0.55)\n",
    "ax.set_ylim(0.0, 0.55)\n",
    "\n",
    "ax.set_xlabel('Z')\n",
    "ax.set_ylabel('ZMAX')"
   ]
  },
  {
   "cell_type": "code",
   "execution_count": null,
   "id": "8b30e93e",
   "metadata": {
    "papermill": {
     "duration": null,
     "end_time": null,
     "exception": null,
     "start_time": null,
     "status": "pending"
    },
    "tags": []
   },
   "outputs": [],
   "source": [
    "fig, ax = plt.subplots(1,1,figsize=(10,10))\n",
    "\n",
    "sc=ax.scatter(gama_zmax['ZMAX'], gama_zmax['MCOLOR_0P0'], marker='.', lw=0.0, s=1, c=gama_zmax['REST_GMR_0P0'], vmin=0.0, vmax=1.0)\n",
    "# ax.plot(gama_vmax['ZMAX'], gama_vmax['MCOLOR_0P0'], marker=',', lw=0.0)\n",
    "\n",
    "ax.set_xlim(0.03, 0.52)\n",
    "ax.set_ylim(-23., -15.)\n",
    "\n",
    "ax.set_xlabel('ZMAX')\n",
    "ax.set_ylabel('MCOLOR_0P0')\n",
    "\n",
    "plt.colorbar(sc, label='REST_GMR_0P0')"
   ]
  },
  {
   "cell_type": "code",
   "execution_count": null,
   "id": "d4f3ffd6",
   "metadata": {
    "papermill": {
     "duration": null,
     "end_time": null,
     "exception": null,
     "start_time": null,
     "status": "pending"
    },
    "tags": []
   },
   "outputs": [],
   "source": [
    "pl.plot(gama_zmax['RA'], gama_zmax['DEC'], marker=',', lw=0.0)\n",
    "\n",
    "pl.xlabel('RA')\n",
    "pl.ylabel('DEC')"
   ]
  },
  {
   "cell_type": "code",
   "execution_count": null,
   "id": "6d102bcf",
   "metadata": {
    "papermill": {
     "duration": null,
     "end_time": null,
     "exception": null,
     "start_time": null,
     "status": "pending"
    },
    "tags": []
   },
   "outputs": [],
   "source": [
    "gama_lf = Table.read(os.environ['HOME'] + '/data/GAMA4/gama_gold_lumfn.fits')\n",
    "gama_lf"
   ]
  },
  {
   "cell_type": "code",
   "execution_count": null,
   "id": "361280b4",
   "metadata": {
    "papermill": {
     "duration": null,
     "end_time": null,
     "exception": null,
     "start_time": null,
     "status": "pending"
    },
    "tags": []
   },
   "outputs": [],
   "source": [
    "Ms = np.arange(-23., -15., 0.01)\n",
    "sc = named_schechter(Ms, named_type='TMR')\n",
    "\n",
    "pl.plot(Ms, np.log10(sc), label='TMR')\n",
    "\n",
    "pl.plot(gama_lf['MEDIAN_M'], np.log10(gama_lf['PHI_N']), label='No weights', alpha=0.4)\n",
    "pl.plot(gama_lf['MEDIAN_M'], np.log10(gama_lf['PHI_IVMAX']), label='IVMAX')\n",
    "\n",
    "pl.xlabel(r'$M$')\n",
    "pl.ylabel(r'$\\Phi(M)$')\n",
    "\n",
    "pl.ylim(-4.25, -1.)\n",
    "pl.xlim(-23., -15.5)\n",
    "\n",
    "pl.legend(frameon=False, loc=2)"
   ]
  },
  {
   "cell_type": "code",
   "execution_count": null,
   "id": "1c01d31c",
   "metadata": {
    "papermill": {
     "duration": null,
     "end_time": null,
     "exception": null,
     "start_time": null,
     "status": "pending"
    },
    "tags": []
   },
   "outputs": [],
   "source": [
    "_ = pl.hist(gama_vmax['VZ'] / gama_vmax['VMAX'], bins=np.arange(0.0, 1.0, 0.05), histtype='step', density=True)\n",
    "pl.xlabel('(V/VMAX)')"
   ]
  },
  {
   "cell_type": "code",
   "execution_count": null,
   "id": "ff57c30a",
   "metadata": {
    "papermill": {
     "duration": null,
     "end_time": null,
     "exception": null,
     "start_time": null,
     "status": "pending"
    },
    "tags": []
   },
   "outputs": [],
   "source": [
    "colors = plt.rcParams['axes.prop_cycle'].by_key()['color']\n",
    "idx    = np.digitize(gama_vmax['MCOLOR_0P0'], np.arange(-23., -17., 1.))\n",
    "\n",
    "for count, jj in enumerate(np.unique(idx)):\n",
    "    sample = gama_vmax[(idx == jj) & (gama_vmax['MCOLOR_0P0'].data >= -23.) & (gama_vmax['MCOLOR_0P0'].data <= -17.)]\n",
    "    nsample = len(sample)\n",
    "\n",
    "    if nsample == 0:\n",
    "        continue\n",
    "    \n",
    "    dbin = 0.05\n",
    "    bins = np.arange(0., 1.0, dbin)\n",
    "    \n",
    "    ns, _ = np.histogram(sample['VZ'] / sample['VMAX'], bins=bins)\n",
    "    \n",
    "    centres = bins[:-1] + dbin/2.\n",
    "    \n",
    "    plt.plot(centres, ns / nsample, color=colors[count], label=r'{:.0f} < $M_r$ < {:.0f}'.format(sample['MCOLOR_0P0'].min(),\\\n",
    "                                                                                                 sample['MCOLOR_0P0'].max()))\n",
    "\n",
    "    plt.xlabel('V/VMAX')\n",
    "    plt.legend(frameon=False)\n",
    "    \n",
    "    pl.show()"
   ]
  },
  {
   "cell_type": "code",
   "execution_count": null,
   "id": "efb3f9f0",
   "metadata": {
    "papermill": {
     "duration": null,
     "end_time": null,
     "exception": null,
     "start_time": null,
     "status": "pending"
    },
    "tags": []
   },
   "outputs": [],
   "source": [
    "spurious = gama_zmax[gama_zmax['ZMAX_WARN'] > 0.0]\n",
    "spurious.sort('R_PETRO')\n",
    "spurious"
   ]
  },
  {
   "cell_type": "code",
   "execution_count": null,
   "id": "aac766b6",
   "metadata": {
    "papermill": {
     "duration": null,
     "end_time": null,
     "exception": null,
     "start_time": null,
     "status": "pending"
    },
    "tags": []
   },
   "outputs": [],
   "source": [
    "spurious = gama_zmax[gama_zmax['ZMIN_WARN'] > 0.0]\n",
    "spurious.sort('R_PETRO')\n",
    "spurious"
   ]
  },
  {
   "cell_type": "markdown",
   "id": "9fb1745b",
   "metadata": {
    "papermill": {
     "duration": null,
     "end_time": null,
     "exception": null,
     "start_time": null,
     "status": "pending"
    },
    "tags": []
   },
   "source": [
    "# Done."
   ]
  }
 ],
 "metadata": {
  "kernelspec": {
   "display_name": "lumfn",
   "language": "python",
   "name": "lumfn"
  },
  "language_info": {
   "codemirror_mode": {
    "name": "ipython",
    "version": 3
   },
   "file_extension": ".py",
   "mimetype": "text/x-python",
   "name": "python",
   "nbconvert_exporter": "python",
   "pygments_lexer": "ipython3",
   "version": "3.9.9"
  },
  "papermill": {
   "default_parameters": {},
   "duration": 8.877272,
   "end_time": "2022-01-19T18:34:53.846642",
   "environment_variables": {},
   "exception": true,
   "input_path": "docs/nb/zmax_catQA.ipynb",
   "output_path": "test/zmax_catQA.ipynb",
   "parameters": {},
   "start_time": "2022-01-19T18:34:44.969370",
   "version": "2.3.3"
  }
 },
 "nbformat": 4,
 "nbformat_minor": 5
}