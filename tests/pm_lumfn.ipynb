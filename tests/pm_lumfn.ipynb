{
 "cells": [
  {
   "cell_type": "code",
   "execution_count": 1,
   "id": "95215f52",
   "metadata": {
    "execution": {
     "iopub.execute_input": "2022-03-01T13:09:57.038518Z",
     "iopub.status.busy": "2022-03-01T13:09:57.037624Z",
     "iopub.status.idle": "2022-03-01T13:09:57.041775Z",
     "shell.execute_reply": "2022-03-01T13:09:57.042463Z"
    },
    "papermill": {
     "duration": 0.048183,
     "end_time": "2022-03-01T13:09:57.042792",
     "exception": false,
     "start_time": "2022-03-01T13:09:56.994609",
     "status": "completed"
    },
    "tags": [
     "injected-parameters"
    ]
   },
   "outputs": [],
   "source": [
    "# Parameters\n",
    "survey = \"gama\"\n"
   ]
  },
  {
   "cell_type": "code",
   "execution_count": 2,
   "id": "6ac35245",
   "metadata": {
    "execution": {
     "iopub.execute_input": "2022-03-01T13:09:57.089260Z",
     "iopub.status.busy": "2022-03-01T13:09:57.088582Z",
     "iopub.status.idle": "2022-03-01T13:09:58.512654Z",
     "shell.execute_reply": "2022-03-01T13:09:58.511461Z"
    },
    "papermill": {
     "duration": 1.449065,
     "end_time": "2022-03-01T13:09:58.512923",
     "exception": false,
     "start_time": "2022-03-01T13:09:57.063858",
     "status": "completed"
    },
    "tags": []
   },
   "outputs": [],
   "source": [
    "import os\n",
    "import sys\n",
    "import pylab as pl\n",
    "import numpy as np\n",
    "import matplotlib.pyplot as plt\n",
    "import numpy as np\n",
    "\n",
    "# from   getdist       import plots, MCSamples \n",
    "from   astropy.table import Table"
   ]
  },
  {
   "cell_type": "code",
   "execution_count": 3,
   "id": "df8f9466",
   "metadata": {
    "execution": {
     "iopub.execute_input": "2022-03-01T13:09:58.569068Z",
     "iopub.status.busy": "2022-03-01T13:09:58.568286Z",
     "iopub.status.idle": "2022-03-01T13:09:58.571749Z",
     "shell.execute_reply": "2022-03-01T13:09:58.571138Z"
    },
    "papermill": {
     "duration": 0.033519,
     "end_time": "2022-03-01T13:09:58.571899",
     "exception": false,
     "start_time": "2022-03-01T13:09:58.538380",
     "status": "completed"
    },
    "tags": []
   },
   "outputs": [],
   "source": [
    "sys.path.append(os.environ['HOME'] + '/DESI/')"
   ]
  },
  {
   "cell_type": "code",
   "execution_count": 4,
   "id": "bfe94cb8",
   "metadata": {
    "execution": {
     "iopub.execute_input": "2022-03-01T13:09:58.611526Z",
     "iopub.status.busy": "2022-03-01T13:09:58.611103Z",
     "iopub.status.idle": "2022-03-01T13:09:58.831211Z",
     "shell.execute_reply": "2022-03-01T13:09:58.830791Z"
    },
    "papermill": {
     "duration": 0.241826,
     "end_time": "2022-03-01T13:09:58.831318",
     "exception": false,
     "start_time": "2022-03-01T13:09:58.589492",
     "status": "completed"
    },
    "tags": []
   },
   "outputs": [],
   "source": [
    "import pubplot\n",
    "\n",
    "from   schechter     import schechter, named_schechter\n",
    "from   findfile      import findfile"
   ]
  },
  {
   "cell_type": "code",
   "execution_count": 5,
   "id": "4dd119b5",
   "metadata": {
    "execution": {
     "iopub.execute_input": "2022-03-01T13:09:58.869872Z",
     "iopub.status.busy": "2022-03-01T13:09:58.868972Z",
     "iopub.status.idle": "2022-03-01T13:09:58.871714Z",
     "shell.execute_reply": "2022-03-01T13:09:58.870874Z"
    },
    "papermill": {
     "duration": 0.028551,
     "end_time": "2022-03-01T13:09:58.871910",
     "exception": false,
     "start_time": "2022-03-01T13:09:58.843359",
     "status": "completed"
    },
    "tags": []
   },
   "outputs": [],
   "source": [
    "version = 'latest'\n",
    "survey = 'gama'\n",
    "dryrun = False"
   ]
  },
  {
   "cell_type": "markdown",
   "id": "fdab62cc",
   "metadata": {
    "papermill": {
     "duration": 0.018531,
     "end_time": "2022-03-01T13:09:58.911195",
     "exception": false,
     "start_time": "2022-03-01T13:09:58.892664",
     "status": "completed"
    },
    "tags": []
   },
   "source": [
    "##  VMAX"
   ]
  },
  {
   "cell_type": "code",
   "execution_count": 6,
   "id": "e7ada6f1",
   "metadata": {
    "execution": {
     "iopub.execute_input": "2022-03-01T13:09:58.950985Z",
     "iopub.status.busy": "2022-03-01T13:09:58.950389Z",
     "iopub.status.idle": "2022-03-01T13:09:59.013924Z",
     "shell.execute_reply": "2022-03-01T13:09:59.014746Z"
    },
    "papermill": {
     "duration": 0.086801,
     "end_time": "2022-03-01T13:09:59.015004",
     "exception": false,
     "start_time": "2022-03-01T13:09:58.928203",
     "status": "completed"
    },
    "tags": []
   },
   "outputs": [
    {
     "data": {
      "text/html": [
       "<div><i>Table length=113602</i>\n",
       "<table id=\"table47644290281040\" class=\"table-striped table-bordered table-condensed\">\n",
       "<thead><tr><th>ZGAMA</th><th>ZMIN</th><th>ZMAX</th><th>MCOLOR_0P0</th><th>DDPMALL_0P0_VISZ</th><th>FIELD</th><th>VMAX</th><th>VZ</th></tr></thead>\n",
       "<thead><tr><th></th><th></th><th></th><th>mag</th><th></th><th></th><th></th><th></th></tr></thead>\n",
       "<thead><tr><th>float32</th><th>float64</th><th>float64</th><th>float64</th><th>float64</th><th>bytes3</th><th>float64</th><th>float64</th></tr></thead>\n",
       "<tr><td>0.07775</td><td>0.03903000056743622</td><td>0.1405274458084947</td><td>-18.388372842502058</td><td>-17.1836360612024</td><td>G12</td><td>1229028.6336226421</td><td>192634.61521107034</td></tr>\n",
       "<tr><td>0.05606</td><td>0.03903000056743622</td><td>0.06861931872909628</td><td>-16.820331267855046</td><td>-16.433156214909655</td><td>G15</td><td>124301.68321847978</td><td>55377.53696164946</td></tr>\n",
       "<tr><td>0.15595</td><td>0.03903000056743622</td><td>0.1579620420584881</td><td>-18.536470671927713</td><td>-18.793359517282955</td><td>G15</td><td>1738362.4625245912</td><td>1673832.8985113946</td></tr>\n",
       "<tr><td>0.22079</td><td>0.03903000056743622</td><td>0.24282635034278316</td><td>-19.58695176356978</td><td>-19.608012263873803</td><td>G9</td><td>6052015.60786606</td><td>4607980.002333049</td></tr>\n",
       "<tr><td>0.11458</td><td>0.03903000056743622</td><td>0.20004425040188942</td><td>-19.13298043380075</td><td>-18.07713914432092</td><td>G15</td><td>3466141.89457807</td><td>664025.6291286683</td></tr>\n",
       "<tr><td>0.21654</td><td>0.03903000056743622</td><td>0.24933107583550496</td><td>-20.032415909713364</td><td>-19.561833913510945</td><td>G9</td><td>6526019.055487716</td><td>4357335.38176644</td></tr>\n",
       "<tr><td>0.19101</td><td>0.03903000056743622</td><td>0.22014528332254174</td><td>-19.29459927768612</td><td>-19.267592612289832</td><td>G9</td><td>4569391.23895289</td><td>3031266.6305087632</td></tr>\n",
       "<tr><td>0.20403</td><td>0.03903000056743622</td><td>0.26298999786376953</td><td>-19.972380821618955</td><td>-19.421818615577166</td><td>G9</td><td>7594841.612883208</td><td>3669797.831405484</td></tr>\n",
       "<tr><td>0.18736</td><td>0.03903000056743622</td><td>0.2058879448269272</td><td>-19.53376158976204</td><td>-19.222068786440754</td><td>G12</td><td>3767242.847184165</td><td>2865879.899412097</td></tr>\n",
       "<tr><td>0.22962</td><td>0.03903000056743622</td><td>0.26298999786376953</td><td>-20.381241517406725</td><td>-19.700664418955498</td><td>G9</td><td>7594841.612883208</td><td>5157156.749923498</td></tr>\n",
       "<tr><td>0.21045</td><td>0.03903000056743622</td><td>0.26298999786376953</td><td>-20.380649274682924</td><td>-19.49514503972804</td><td>G15</td><td>7594841.612883208</td><td>4013370.5718313963</td></tr>\n",
       "<tr><td>...</td><td>...</td><td>...</td><td>...</td><td>...</td><td>...</td><td>...</td><td>...</td></tr>\n",
       "<tr><td>0.19383</td><td>0.03903000056743622</td><td>0.19864692077725885</td><td>-19.475829265010326</td><td>-19.30148713999532</td><td>G12</td><td>3396469.6338139214</td><td>3163076.607021089</td></tr>\n",
       "<tr><td>0.20962</td><td>0.03903000056743622</td><td>0.26298999786376953</td><td>-20.372571307213814</td><td>-19.485863654226375</td><td>G9</td><td>7594841.612883208</td><td>3967861.5556528755</td></tr>\n",
       "<tr><td>0.13589</td><td>0.03903000056743622</td><td>0.24439058743407419</td><td>-20.022848141317812</td><td>-18.47292558389706</td><td>G15</td><td>6163972.4200204015</td><td>1111842.8349327655</td></tr>\n",
       "<tr><td>0.21835</td><td>0.03903000056743622</td><td>0.2314150920068459</td><td>-19.891396833567654</td><td>-19.581654408189806</td><td>G9</td><td>5273566.342975771</td><td>4463005.823323938</td></tr>\n",
       "<tr><td>0.18841</td><td>0.03903000056743622</td><td>0.22148460477465073</td><td>-19.753852764052898</td><td>-19.23534659989433</td><td>G15</td><td>4649782.838069254</td><td>2912857.7215462117</td></tr>\n",
       "<tr><td>0.07939</td><td>0.03903000056743622</td><td>0.2540177617378949</td><td>-19.607341971803066</td><td>-17.23371067303656</td><td>G15</td><td>6881432.651962878</td><td>206704.09995958628</td></tr>\n",
       "<tr><td>0.18442</td><td>0.03903000056743622</td><td>0.26298999786376953</td><td>-21.95212719738302</td><td>-19.18489075802353</td><td>G9</td><td>7594841.612883208</td><td>2736893.4824762125</td></tr>\n",
       "<tr><td>0.17914</td><td>0.03903000056743622</td><td>0.26298999786376953</td><td>-20.43300117271917</td><td>-19.11751961404195</td><td>G9</td><td>7594841.612883208</td><td>2514570.410283935</td></tr>\n",
       "<tr><td>0.21636</td><td>0.03903000056743622</td><td>0.22007627170147268</td><td>-19.19148967673042</td><td>-19.559862911055742</td><td>G9</td><td>4565272.671394786</td><td>4346913.976311187</td></tr>\n",
       "<tr><td>0.07479</td><td>0.03903000056743622</td><td>0.26298999786376953</td><td>-21.41930366150835</td><td>-17.093257571181535</td><td>G12</td><td>7594841.612883208</td><td>168659.59705849725</td></tr>\n",
       "<tr><td>0.05469</td><td>0.03903000056743622</td><td>0.05478799953203873</td><td>-16.312012654988695</td><td>-16.376546150727087</td><td>G9</td><td>49846.0901607565</td><td>49430.186846326076</td></tr>\n",
       "<tr><td>0.08348</td><td>0.03903000056743622</td><td>0.20725488547437532</td><td>-19.537757933229113</td><td>-17.346388250469836</td><td>G12</td><td>3839964.4921885375</td><td>244316.16387475358</td></tr>\n",
       "</table></div>"
      ],
      "text/plain": [
       "<Table length=113602>\n",
       " ZGAMA          ZMIN                ZMAX             MCOLOR_0P0       DDPMALL_0P0_VISZ  FIELD         VMAX                VZ        \n",
       "                                                        mag                                                                         \n",
       "float32       float64             float64             float64             float64       bytes3      float64            float64      \n",
       "------- ------------------- ------------------- ------------------- ------------------- ------ ------------------ ------------------\n",
       "0.07775 0.03903000056743622  0.1405274458084947 -18.388372842502058   -17.1836360612024    G12 1229028.6336226421 192634.61521107034\n",
       "0.05606 0.03903000056743622 0.06861931872909628 -16.820331267855046 -16.433156214909655    G15 124301.68321847978  55377.53696164946\n",
       "0.15595 0.03903000056743622  0.1579620420584881 -18.536470671927713 -18.793359517282955    G15 1738362.4625245912 1673832.8985113946\n",
       "0.22079 0.03903000056743622 0.24282635034278316  -19.58695176356978 -19.608012263873803     G9   6052015.60786606  4607980.002333049\n",
       "0.11458 0.03903000056743622 0.20004425040188942  -19.13298043380075  -18.07713914432092    G15   3466141.89457807  664025.6291286683\n",
       "0.21654 0.03903000056743622 0.24933107583550496 -20.032415909713364 -19.561833913510945     G9  6526019.055487716   4357335.38176644\n",
       "0.19101 0.03903000056743622 0.22014528332254174  -19.29459927768612 -19.267592612289832     G9   4569391.23895289 3031266.6305087632\n",
       "0.20403 0.03903000056743622 0.26298999786376953 -19.972380821618955 -19.421818615577166     G9  7594841.612883208  3669797.831405484\n",
       "0.18736 0.03903000056743622  0.2058879448269272  -19.53376158976204 -19.222068786440754    G12  3767242.847184165  2865879.899412097\n",
       "0.22962 0.03903000056743622 0.26298999786376953 -20.381241517406725 -19.700664418955498     G9  7594841.612883208  5157156.749923498\n",
       "0.21045 0.03903000056743622 0.26298999786376953 -20.380649274682924  -19.49514503972804    G15  7594841.612883208 4013370.5718313963\n",
       "    ...                 ...                 ...                 ...                 ...    ...                ...                ...\n",
       "0.19383 0.03903000056743622 0.19864692077725885 -19.475829265010326  -19.30148713999532    G12 3396469.6338139214  3163076.607021089\n",
       "0.20962 0.03903000056743622 0.26298999786376953 -20.372571307213814 -19.485863654226375     G9  7594841.612883208 3967861.5556528755\n",
       "0.13589 0.03903000056743622 0.24439058743407419 -20.022848141317812  -18.47292558389706    G15 6163972.4200204015 1111842.8349327655\n",
       "0.21835 0.03903000056743622  0.2314150920068459 -19.891396833567654 -19.581654408189806     G9  5273566.342975771  4463005.823323938\n",
       "0.18841 0.03903000056743622 0.22148460477465073 -19.753852764052898  -19.23534659989433    G15  4649782.838069254 2912857.7215462117\n",
       "0.07939 0.03903000056743622  0.2540177617378949 -19.607341971803066  -17.23371067303656    G15  6881432.651962878 206704.09995958628\n",
       "0.18442 0.03903000056743622 0.26298999786376953  -21.95212719738302  -19.18489075802353     G9  7594841.612883208 2736893.4824762125\n",
       "0.17914 0.03903000056743622 0.26298999786376953  -20.43300117271917  -19.11751961404195     G9  7594841.612883208  2514570.410283935\n",
       "0.21636 0.03903000056743622 0.22007627170147268  -19.19148967673042 -19.559862911055742     G9  4565272.671394786  4346913.976311187\n",
       "0.07479 0.03903000056743622 0.26298999786376953  -21.41930366150835 -17.093257571181535    G12  7594841.612883208 168659.59705849725\n",
       "0.05469 0.03903000056743622 0.05478799953203873 -16.312012654988695 -16.376546150727087     G9   49846.0901607565 49430.186846326076\n",
       "0.08348 0.03903000056743622 0.20725488547437532 -19.537757933229113 -17.346388250469836    G12 3839964.4921885375 244316.16387475358"
      ]
     },
     "execution_count": 6,
     "metadata": {},
     "output_type": "execute_result"
    }
   ],
   "source": [
    "fpath = findfile(ftype='vmax', dryrun=dryrun, version=version, survey=survey)\n",
    "gama_vmax = Table.read(fpath)\n",
    "gama_vmax"
   ]
  },
  {
   "cell_type": "markdown",
   "id": "1087f00a",
   "metadata": {
    "papermill": {
     "duration": 0.022132,
     "end_time": "2022-03-01T13:09:59.065232",
     "exception": false,
     "start_time": "2022-03-01T13:09:59.043100",
     "status": "completed"
    },
    "tags": []
   },
   "source": [
    "##  LUMFN"
   ]
  },
  {
   "cell_type": "code",
   "execution_count": 7,
   "id": "0a7a3d89",
   "metadata": {
    "execution": {
     "iopub.execute_input": "2022-03-01T13:09:59.111587Z",
     "iopub.status.busy": "2022-03-01T13:09:59.110245Z",
     "iopub.status.idle": "2022-03-01T13:09:59.152566Z",
     "shell.execute_reply": "2022-03-01T13:09:59.153327Z"
    },
    "papermill": {
     "duration": 0.068989,
     "end_time": "2022-03-01T13:09:59.153568",
     "exception": false,
     "start_time": "2022-03-01T13:09:59.084579",
     "status": "completed"
    },
    "tags": []
   },
   "outputs": [
    {
     "data": {
      "text/html": [
       "<div><i>Table length=49</i>\n",
       "<table id=\"table47644290280704\" class=\"table-striped table-bordered table-condensed\">\n",
       "<thead><tr><th>MEDIAN_M</th><th>PHI_N</th><th>PHI_N_ERROR</th><th>PHI_IVMAX</th><th>PHI_IVMAX_ERROR</th><th>N</th><th>V_ON_VMAX</th></tr></thead>\n",
       "<thead><tr><th>float64</th><th>float64</th><th>float64</th><th>float64</th><th>float64</th><th>float64</th><th>float64</th></tr></thead>\n",
       "<tr><td>-25.4</td><td>0.0</td><td>0.0</td><td>0.0</td><td>0.0</td><td>0.0</td><td>--</td></tr>\n",
       "<tr><td>-25.200000000000003</td><td>0.0</td><td>0.0</td><td>0.0</td><td>0.0</td><td>0.0</td><td>--</td></tr>\n",
       "<tr><td>-25.0</td><td>0.0</td><td>0.0</td><td>0.0</td><td>0.0</td><td>0.0</td><td>--</td></tr>\n",
       "<tr><td>-24.800000000000004</td><td>0.0</td><td>0.0</td><td>0.0</td><td>0.0</td><td>0.0</td><td>--</td></tr>\n",
       "<tr><td>-24.6</td><td>0.0</td><td>0.0</td><td>0.0</td><td>0.0</td><td>0.0</td><td>--</td></tr>\n",
       "<tr><td>-24.400000000000006</td><td>0.0</td><td>0.0</td><td>0.0</td><td>0.0</td><td>0.0</td><td>--</td></tr>\n",
       "<tr><td>-24.200000000000003</td><td>0.0</td><td>0.0</td><td>0.0</td><td>0.0</td><td>0.0</td><td>--</td></tr>\n",
       "<tr><td>-24.000000000000007</td><td>0.0</td><td>0.0</td><td>0.0</td><td>0.0</td><td>0.0</td><td>--</td></tr>\n",
       "<tr><td>-23.800000000000004</td><td>0.0</td><td>0.0</td><td>0.0</td><td>0.0</td><td>0.0</td><td>--</td></tr>\n",
       "<tr><td>-23.60000000000001</td><td>0.0</td><td>0.0</td><td>0.0</td><td>0.0</td><td>0.0</td><td>--</td></tr>\n",
       "<tr><td>-23.400000000000006</td><td>0.0</td><td>0.0</td><td>0.0</td><td>0.0</td><td>0.0</td><td>--</td></tr>\n",
       "<tr><td>-23.42293176064758</td><td>6.583415764087122e-07</td><td>6.583415764087122e-07</td><td>6.584922389746205e-07</td><td>6.584922389746205e-07</td><td>1.0</td><td>0.9997712006960888</td></tr>\n",
       "<tr><td>...</td><td>...</td><td>...</td><td>...</td><td>...</td><td>...</td><td>...</td></tr>\n",
       "<tr><td>-18.210680967022103</td><td>0.001580678124957318</td><td>3.22587372440269e-05</td><td>0.012580438881076109</td><td>0.0002594531471564492</td><td>2401.0</td><td>0.12964537729372896</td></tr>\n",
       "<tr><td>-18.005531487039228</td><td>0.0011863315206884996</td><td>2.794658053274875e-05</td><td>0.012409594762771885</td><td>0.00029482208472765846</td><td>1802.0</td><td>0.09813916342801689</td></tr>\n",
       "<tr><td>-17.806770806245083</td><td>0.000992779097224338</td><td>2.5565362424426706e-05</td><td>0.01381931287635131</td><td>0.0003588176756506515</td><td>1508.0</td><td>0.07389117751531793</td></tr>\n",
       "<tr><td>-17.60540082245031</td><td>0.0007972516490309505</td><td>2.2909908498671075e-05</td><td>0.014698315005989913</td><td>0.0004251688564666649</td><td>1211.0</td><td>0.05518194314959416</td></tr>\n",
       "<tr><td>-17.403713154375016</td><td>0.0006827002147358345</td><td>2.1200234328510514e-05</td><td>0.016877688941591893</td><td>0.0005273854139469358</td><td>1037.0</td><td>0.041027935766775755</td></tr>\n",
       "<tr><td>-17.212893850404157</td><td>0.0005516902410305008</td><td>1.9057823143510443e-05</td><td>0.018073731805247826</td><td>0.0006278194700539957</td><td>838.0</td><td>0.030985802528041846</td></tr>\n",
       "<tr><td>-17.016257753703133</td><td>0.00035155440180225235</td><td>1.5213246828863214e-05</td><td>0.015731810903988393</td><td>0.0006850130616316443</td><td>534.0</td><td>0.022844181546381424</td></tr>\n",
       "<tr><td>-16.806631082779923</td><td>0.00025543653164658033</td><td>1.2967825142119382e-05</td><td>0.01604767169743556</td><td>0.0008200072856345317</td><td>388.0</td><td>0.016161457253183884</td></tr>\n",
       "<tr><td>-16.604055320370207</td><td>0.0002383196506599538</td><td>1.2525802748911848e-05</td><td>0.021058990156774846</td><td>0.001113913779532084</td><td>362.0</td><td>0.01144087266008334</td></tr>\n",
       "<tr><td>-16.407765796266453</td><td>0.00020737759656874435</td><td>1.1684403871696542e-05</td><td>0.026579095532122038</td><td>0.001507698282257368</td><td>315.0</td><td>0.007817437918952234</td></tr>\n",
       "<tr><td>-16.228752020563036</td><td>0.00010796801853102881</td><td>8.43088580882475e-06</td><td>0.0207362383674028</td><td>0.0016335749191855819</td><td>164.0</td><td>0.005359130088187801</td></tr>\n",
       "<tr><td>-16.007578916653898</td><td>5.727571714755796e-05</td><td>6.140601429572092e-06</td><td>0.01942763995932177</td><td>0.002111248913362894</td><td>87.0</td><td>0.003012505265889661</td></tr>\n",
       "</table></div>"
      ],
      "text/plain": [
       "<Table length=49>\n",
       "      MEDIAN_M              PHI_N               PHI_N_ERROR             PHI_IVMAX          PHI_IVMAX_ERROR        N         V_ON_VMAX      \n",
       "      float64              float64                float64                float64               float64         float64       float64       \n",
       "------------------- ---------------------- ---------------------- --------------------- ---------------------- ------- --------------------\n",
       "              -25.4                    0.0                    0.0                   0.0                    0.0     0.0                   --\n",
       "-25.200000000000003                    0.0                    0.0                   0.0                    0.0     0.0                   --\n",
       "              -25.0                    0.0                    0.0                   0.0                    0.0     0.0                   --\n",
       "-24.800000000000004                    0.0                    0.0                   0.0                    0.0     0.0                   --\n",
       "              -24.6                    0.0                    0.0                   0.0                    0.0     0.0                   --\n",
       "-24.400000000000006                    0.0                    0.0                   0.0                    0.0     0.0                   --\n",
       "-24.200000000000003                    0.0                    0.0                   0.0                    0.0     0.0                   --\n",
       "-24.000000000000007                    0.0                    0.0                   0.0                    0.0     0.0                   --\n",
       "-23.800000000000004                    0.0                    0.0                   0.0                    0.0     0.0                   --\n",
       " -23.60000000000001                    0.0                    0.0                   0.0                    0.0     0.0                   --\n",
       "-23.400000000000006                    0.0                    0.0                   0.0                    0.0     0.0                   --\n",
       " -23.42293176064758  6.583415764087122e-07  6.583415764087122e-07 6.584922389746205e-07  6.584922389746205e-07     1.0   0.9997712006960888\n",
       "                ...                    ...                    ...                   ...                    ...     ...                  ...\n",
       "-18.210680967022103   0.001580678124957318   3.22587372440269e-05  0.012580438881076109  0.0002594531471564492  2401.0  0.12964537729372896\n",
       "-18.005531487039228  0.0011863315206884996  2.794658053274875e-05  0.012409594762771885 0.00029482208472765846  1802.0  0.09813916342801689\n",
       "-17.806770806245083   0.000992779097224338 2.5565362424426706e-05   0.01381931287635131  0.0003588176756506515  1508.0  0.07389117751531793\n",
       " -17.60540082245031  0.0007972516490309505 2.2909908498671075e-05  0.014698315005989913  0.0004251688564666649  1211.0  0.05518194314959416\n",
       "-17.403713154375016  0.0006827002147358345 2.1200234328510514e-05  0.016877688941591893  0.0005273854139469358  1037.0 0.041027935766775755\n",
       "-17.212893850404157  0.0005516902410305008 1.9057823143510443e-05  0.018073731805247826  0.0006278194700539957   838.0 0.030985802528041846\n",
       "-17.016257753703133 0.00035155440180225235 1.5213246828863214e-05  0.015731810903988393  0.0006850130616316443   534.0 0.022844181546381424\n",
       "-16.806631082779923 0.00025543653164658033 1.2967825142119382e-05   0.01604767169743556  0.0008200072856345317   388.0 0.016161457253183884\n",
       "-16.604055320370207  0.0002383196506599538 1.2525802748911848e-05  0.021058990156774846   0.001113913779532084   362.0  0.01144087266008334\n",
       "-16.407765796266453 0.00020737759656874435 1.1684403871696542e-05  0.026579095532122038   0.001507698282257368   315.0 0.007817437918952234\n",
       "-16.228752020563036 0.00010796801853102881   8.43088580882475e-06    0.0207362383674028  0.0016335749191855819   164.0 0.005359130088187801\n",
       "-16.007578916653898  5.727571714755796e-05  6.140601429572092e-06   0.01942763995932177   0.002111248913362894    87.0 0.003012505265889661"
      ]
     },
     "execution_count": 7,
     "metadata": {},
     "output_type": "execute_result"
    }
   ],
   "source": [
    "fpath = findfile(ftype='lumfn', dryrun=dryrun, version=version, survey=survey)\n",
    "gama_lf = Table.read(fpath)\n",
    "\n",
    "#gama_lf['S2N_N']     = gama_lf['PHI_N'] / gama_lf['PHI_N_ERROR']\n",
    "#gama_lf['S2N_IVMAX'] = gama_lf['PHI_IVMAX'] / gama_lf['PHI_IVMAX_ERROR']\n",
    "gama_lf"
   ]
  },
  {
   "cell_type": "code",
   "execution_count": 8,
   "id": "c777c0e9",
   "metadata": {
    "execution": {
     "iopub.execute_input": "2022-03-01T13:09:59.213788Z",
     "iopub.status.busy": "2022-03-01T13:09:59.212807Z",
     "iopub.status.idle": "2022-03-01T13:09:59.502729Z",
     "shell.execute_reply": "2022-03-01T13:09:59.503273Z"
    },
    "papermill": {
     "duration": 0.324774,
     "end_time": "2022-03-01T13:09:59.503471",
     "exception": false,
     "start_time": "2022-03-01T13:09:59.178697",
     "status": "completed"
    },
    "tags": []
   },
   "outputs": [
    {
     "name": "stderr",
     "output_type": "stream",
     "text": [
      "/tmp/ipykernel_158793/68074749.py:6: RuntimeWarning: divide by zero encountered in log10\n",
      "  pl.errorbar(gama_lf['MEDIAN_M'], np.log10(gama_lf['PHI_N']), gama_lf['PHI_N_ERROR'] / gama_lf['PHI_N'] / np.log(10.), label='RAW', alpha=0.4, lw=2)\n",
      "/tmp/ipykernel_158793/68074749.py:6: RuntimeWarning: invalid value encountered in true_divide\n",
      "  pl.errorbar(gama_lf['MEDIAN_M'], np.log10(gama_lf['PHI_N']), gama_lf['PHI_N_ERROR'] / gama_lf['PHI_N'] / np.log(10.), label='RAW', alpha=0.4, lw=2)\n",
      "/tmp/ipykernel_158793/68074749.py:7: RuntimeWarning: divide by zero encountered in log10\n",
      "  pl.errorbar(gama_lf['MEDIAN_M'], np.log10(gama_lf['PHI_IVMAX']), gama_lf['PHI_IVMAX_ERROR'] / gama_lf['PHI_IVMAX'] / np.log(10.), label='IVMAX', lw=2)\n",
      "/tmp/ipykernel_158793/68074749.py:7: RuntimeWarning: invalid value encountered in true_divide\n",
      "  pl.errorbar(gama_lf['MEDIAN_M'], np.log10(gama_lf['PHI_IVMAX']), gama_lf['PHI_IVMAX_ERROR'] / gama_lf['PHI_IVMAX'] / np.log(10.), label='IVMAX', lw=2)\n"
     ]
    },
    {
     "data": {
      "text/plain": [
       "Text(0.5, 1.0, 'gama')"
      ]
     },
     "execution_count": 8,
     "metadata": {},
     "output_type": "execute_result"
    },
    {
     "data": {
      "image/png": "[encoded data removed]",
      "text/plain": [
       "<Figure size 478.207x295.548 with 1 Axes>"
      ]
     },
     "metadata": {
      "needs_background": "light"
     },
     "output_type": "display_data"
    }
   ],
   "source": [
    "Ms = np.arange(-23., -15., 0.01)\n",
    "sc = named_schechter(Ms, named_type='TMR')\n",
    "\n",
    "pl.plot(Ms, np.log10(sc), label='TMR', lw=2)\n",
    "\n",
    "pl.errorbar(gama_lf['MEDIAN_M'], np.log10(gama_lf['PHI_N']), gama_lf['PHI_N_ERROR'] / gama_lf['PHI_N'] / np.log(10.), label='RAW', alpha=0.4, lw=2)\n",
    "pl.errorbar(gama_lf['MEDIAN_M'], np.log10(gama_lf['PHI_IVMAX']), gama_lf['PHI_IVMAX_ERROR'] / gama_lf['PHI_IVMAX'] / np.log(10.), label='IVMAX', lw=2)\n",
    "\n",
    "pl.xlabel(r'$M_r^e - 5 \\log_{10}|h|$')\n",
    "pl.ylabel(r'$\\log_{10} \\left[ \\frac{\\phi_\\delta(M)}{h^{-3} \\ {\\rm Mpc}^{3} \\ {\\rm Mag}^{}} \\right] $')\n",
    "\n",
    "pl.ylim(-4.25, -.75)\n",
    "pl.xlim(-23., -15.5)\n",
    "\n",
    "pl.legend(frameon=True, loc=2)\n",
    "pl.title(survey)"
   ]
  },
  {
   "cell_type": "markdown",
   "id": "c5719b22",
   "metadata": {
    "papermill": {
     "duration": 0.020587,
     "end_time": "2022-03-01T13:09:59.545906",
     "exception": false,
     "start_time": "2022-03-01T13:09:59.525319",
     "status": "completed"
    },
    "tags": []
   },
   "source": [
    "##  Cobaya"
   ]
  },
  {
   "cell_type": "code",
   "execution_count": 9,
   "id": "44c3e795",
   "metadata": {
    "execution": {
     "iopub.execute_input": "2022-03-01T13:09:59.589913Z",
     "iopub.status.busy": "2022-03-01T13:09:59.589389Z",
     "iopub.status.idle": "2022-03-01T13:09:59.592118Z",
     "shell.execute_reply": "2022-03-01T13:09:59.592503Z"
    },
    "papermill": {
     "duration": 0.027686,
     "end_time": "2022-03-01T13:09:59.592634",
     "exception": false,
     "start_time": "2022-03-01T13:09:59.564948",
     "status": "completed"
    },
    "tags": []
   },
   "outputs": [],
   "source": [
    "#root = '/cosma/home/durham/{}/data/GAMA4/cobaya/'.format(os.environ['USER'])"
   ]
  },
  {
   "cell_type": "code",
   "execution_count": 10,
   "id": "2e269260",
   "metadata": {
    "execution": {
     "iopub.execute_input": "2022-03-01T13:09:59.630314Z",
     "iopub.status.busy": "2022-03-01T13:09:59.629850Z",
     "iopub.status.idle": "2022-03-01T13:09:59.632636Z",
     "shell.execute_reply": "2022-03-01T13:09:59.632994Z"
    },
    "papermill": {
     "duration": 0.023404,
     "end_time": "2022-03-01T13:09:59.633109",
     "exception": false,
     "start_time": "2022-03-01T13:09:59.609705",
     "status": "completed"
    },
    "tags": []
   },
   "outputs": [],
   "source": [
    "#dat = Table.read(root + 'schechter_chain.1.txt', format='ascii')        "
   ]
  },
  {
   "cell_type": "code",
   "execution_count": 11,
   "id": "d5c012ce",
   "metadata": {
    "execution": {
     "iopub.execute_input": "2022-03-01T13:09:59.666604Z",
     "iopub.status.busy": "2022-03-01T13:09:59.666180Z",
     "iopub.status.idle": "2022-03-01T13:09:59.669031Z",
     "shell.execute_reply": "2022-03-01T13:09:59.668553Z"
    },
    "papermill": {
     "duration": 0.02177,
     "end_time": "2022-03-01T13:09:59.669127",
     "exception": false,
     "start_time": "2022-03-01T13:09:59.647357",
     "status": "completed"
    },
    "tags": []
   },
   "outputs": [],
   "source": [
    "#samples = np.c_[dat['log10phistar'], dat['Mstar'], dat['alpha']]"
   ]
  },
  {
   "cell_type": "code",
   "execution_count": 12,
   "id": "563d77d3",
   "metadata": {
    "execution": {
     "iopub.execute_input": "2022-03-01T13:09:59.702964Z",
     "iopub.status.busy": "2022-03-01T13:09:59.702501Z",
     "iopub.status.idle": "2022-03-01T13:09:59.705437Z",
     "shell.execute_reply": "2022-03-01T13:09:59.705771Z"
    },
    "papermill": {
     "duration": 0.022141,
     "end_time": "2022-03-01T13:09:59.705876",
     "exception": false,
     "start_time": "2022-03-01T13:09:59.683735",
     "status": "completed"
    },
    "tags": []
   },
   "outputs": [],
   "source": [
    "#samples = MCSamples(samples=samples, names=['log10phistar', 'Mstar', 'alpha'], labels=['log10phistar', 'Mstar', 'alpha'])"
   ]
  },
  {
   "cell_type": "code",
   "execution_count": 13,
   "id": "cb8c49f0",
   "metadata": {
    "execution": {
     "iopub.execute_input": "2022-03-01T13:09:59.741556Z",
     "iopub.status.busy": "2022-03-01T13:09:59.741006Z",
     "iopub.status.idle": "2022-03-01T13:09:59.743798Z",
     "shell.execute_reply": "2022-03-01T13:09:59.744145Z"
    },
    "papermill": {
     "duration": 0.023579,
     "end_time": "2022-03-01T13:09:59.744265",
     "exception": false,
     "start_time": "2022-03-01T13:09:59.720686",
     "status": "completed"
    },
    "tags": []
   },
   "outputs": [],
   "source": [
    "tmr_ref = {'log10phistar': -2.01, 'Mstar': -20.89, 'alpha': -1.25}"
   ]
  },
  {
   "cell_type": "code",
   "execution_count": 14,
   "id": "84d194c1",
   "metadata": {
    "execution": {
     "iopub.execute_input": "2022-03-01T13:09:59.791099Z",
     "iopub.status.busy": "2022-03-01T13:09:59.790400Z",
     "iopub.status.idle": "2022-03-01T13:09:59.793387Z",
     "shell.execute_reply": "2022-03-01T13:09:59.793919Z"
    },
    "papermill": {
     "duration": 0.034777,
     "end_time": "2022-03-01T13:09:59.794081",
     "exception": false,
     "start_time": "2022-03-01T13:09:59.759304",
     "status": "completed"
    },
    "tags": []
   },
   "outputs": [],
   "source": [
    "#g = plots.get_subplot_plotter()"
   ]
  },
  {
   "cell_type": "code",
   "execution_count": 15,
   "id": "0c6cebcf",
   "metadata": {
    "execution": {
     "iopub.execute_input": "2022-03-01T13:09:59.841949Z",
     "iopub.status.busy": "2022-03-01T13:09:59.841416Z",
     "iopub.status.idle": "2022-03-01T13:09:59.843879Z",
     "shell.execute_reply": "2022-03-01T13:09:59.844306Z"
    },
    "papermill": {
     "duration": 0.028058,
     "end_time": "2022-03-01T13:09:59.844438",
     "exception": false,
     "start_time": "2022-03-01T13:09:59.816380",
     "status": "completed"
    },
    "tags": []
   },
   "outputs": [],
   "source": [
    "#g.triangle_plot([samples], filled=True)        "
   ]
  },
  {
   "cell_type": "markdown",
   "id": "e6b4de7a",
   "metadata": {
    "papermill": {
     "duration": 0.017946,
     "end_time": "2022-03-01T13:09:59.881366",
     "exception": false,
     "start_time": "2022-03-01T13:09:59.863420",
     "status": "completed"
    },
    "tags": []
   },
   "source": [
    "# Done."
   ]
  }
 ],
 "metadata": {
  "kernelspec": {
   "display_name": "Lumfn",
   "language": "python",
   "name": "lumfn"
  },
  "language_info": {
   "codemirror_mode": {
    "name": "ipython",
    "version": 3
   },
   "file_extension": ".py",
   "mimetype": "text/x-python",
   "name": "python",
   "nbconvert_exporter": "python",
   "pygments_lexer": "ipython3",
   "version": "3.9.9"
  },
  "papermill": {
   "default_parameters": {},
   "duration": 4.448546,
   "end_time": "2022-03-01T13:10:00.318365",
   "environment_variables": {},
   "exception": null,
   "input_path": "docs/nb/lumfn.ipynb",
   "output_path": "test/pm_lumfn.ipynb",
   "parameters": {
    "survey": "gama"
   },
   "start_time": "2022-03-01T13:09:55.869819",
   "version": "2.3.3"
  }
 },
 "nbformat": 4,
 "nbformat_minor": 5
}